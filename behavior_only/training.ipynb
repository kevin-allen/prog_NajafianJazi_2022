{
 "cells": [
  {
   "cell_type": "markdown",
   "id": "respected-insurance",
   "metadata": {},
   "source": [
    "# Training sessions\n",
    "\n",
    "Here we want to show that mice can learn to press the lever (as expected from more than 80 years of lever press training in rodents). \n",
    "\n",
    "We will plot the number of rewards obtained during the first 6 days of training.\n",
    "\n",
    "We need to load the log files and put this into a large Pandas DataFrame. "
   ]
  },
  {
   "cell_type": "code",
   "execution_count": 3,
   "id": "incredible-symbol",
   "metadata": {},
   "outputs": [],
   "source": [
    "import pandas as pd\n",
    "import numpy as np\n",
    "import os.path\n",
    "import shutil\n",
    "from autopipy.project import Project\n",
    "\n"
   ]
  },
  {
   "cell_type": "code",
   "execution_count": 4,
   "id": "forward-paint",
   "metadata": {},
   "outputs": [
    {
     "name": "stdout",
     "output_type": "stream",
     "text": [
      "Project name: autopi_behavior_2021\n",
      "dataPath: /adata/projects/autopi_behavior_2021\n",
      "dlcModelPath: /adata/models\n"
     ]
    }
   ],
   "source": [
    "projectName=\"autopi_behavior_2021\"\n",
    "dataPath=\"/adata/projects/autopi_behavior_2021\"\n",
    "dlcModelPath=\"/adata/models\"\n",
    "myProject = Project(name=projectName,dataPath=dataPath,dlcModelPath=dlcModelPath)"
   ]
  },
  {
   "cell_type": "code",
   "execution_count": 5,
   "id": "maritime-mississippi",
   "metadata": {},
   "outputs": [
    {
     "name": "stdout",
     "output_type": "stream",
     "text": [
      "Reading /adata/projects/autopi_behavior_2021/training_sessions\n",
      "We have 151 training sessions\n"
     ]
    }
   ],
   "source": [
    "fn=myProject.dataPath+\"/training_sessions\"\n",
    "print(\"Reading \" + fn)\n",
    "sessionNamesTraining = pd.read_csv(fn) # this will be a pandas dataframe\n",
    "#sessionNamesTraining\n",
    "myProject.createSessionList(sessionNameList=sessionNamesTraining.sessionName.to_list(), needVideos=False)\n",
    "print(\"We have {} training sessions\".format(len(myProject.sessionList)))"
   ]
  },
  {
   "cell_type": "code",
   "execution_count": null,
   "id": "addressed-burns",
   "metadata": {},
   "outputs": [],
   "source": []
  },
  {
   "cell_type": "markdown",
   "id": "graduate-buffalo",
   "metadata": {},
   "source": [
    "Make sure that the needed files are there."
   ]
  },
  {
   "cell_type": "code",
   "execution_count": 6,
   "id": "paperback-winner",
   "metadata": {},
   "outputs": [
    {
     "name": "stdout",
     "output_type": "stream",
     "text": [
      "Check if we have these files: ['log', 'protocol']\n"
     ]
    }
   ],
   "source": [
    "ses=myProject.sessionList[0]\n",
    "print(\"Check if we have these files: {}\".format(ses.requiredFileExts))"
   ]
  },
  {
   "cell_type": "code",
   "execution_count": 7,
   "id": "actual-puzzle",
   "metadata": {},
   "outputs": [],
   "source": [
    "for ses in myProject.sessionList :\n",
    "    ses.checkSessionDirectory()"
   ]
  },
  {
   "cell_type": "markdown",
   "id": "better-galaxy",
   "metadata": {},
   "source": [
    "Get a DataFrame with all the log files and one with the protocol files"
   ]
  },
  {
   "cell_type": "code",
   "execution_count": 8,
   "id": "ahead-cookbook",
   "metadata": {},
   "outputs": [
    {
     "name": "stdout",
     "output_type": "stream",
     "text": [
      "log length: 169431, protocol length: 151\n"
     ]
    }
   ],
   "source": [
    "log = myProject.getLogData()\n",
    "protocol = myProject.getProtocolData()\n",
    "print(\"log length: {}, protocol length: {}\".format(len(log),len(protocol)))"
   ]
  },
  {
   "cell_type": "markdown",
   "id": "selective-volunteer",
   "metadata": {},
   "source": [
    "This is how the log data frame look like."
   ]
  },
  {
   "cell_type": "code",
   "execution_count": 9,
   "id": "bibliographic-gender",
   "metadata": {},
   "outputs": [
    {
     "data": {
      "text/html": [
       "<div>\n",
       "<style scoped>\n",
       "    .dataframe tbody tr th:only-of-type {\n",
       "        vertical-align: middle;\n",
       "    }\n",
       "\n",
       "    .dataframe tbody tr th {\n",
       "        vertical-align: top;\n",
       "    }\n",
       "\n",
       "    .dataframe thead th {\n",
       "        text-align: right;\n",
       "    }\n",
       "</style>\n",
       "<table border=\"1\" class=\"dataframe\">\n",
       "  <thead>\n",
       "    <tr style=\"text-align: right;\">\n",
       "      <th></th>\n",
       "      <th>event</th>\n",
       "      <th>time</th>\n",
       "      <th>param</th>\n",
       "      <th>timeWS</th>\n",
       "      <th>session</th>\n",
       "      <th>subject</th>\n",
       "      <th>sessionDateTime</th>\n",
       "    </tr>\n",
       "  </thead>\n",
       "  <tbody>\n",
       "    <tr>\n",
       "      <th>0</th>\n",
       "      <td>start</td>\n",
       "      <td>1.581003e+09</td>\n",
       "      <td>NaN</td>\n",
       "      <td>0.000000</td>\n",
       "      <td>mn3016-06022020-1629</td>\n",
       "      <td>mn3016</td>\n",
       "      <td>2020-02-06 16:29:00</td>\n",
       "    </tr>\n",
       "    <tr>\n",
       "      <th>1</th>\n",
       "      <td>magazineBeamBreak</td>\n",
       "      <td>1.581003e+09</td>\n",
       "      <td>NaN</td>\n",
       "      <td>18.744677</td>\n",
       "      <td>mn3016-06022020-1629</td>\n",
       "      <td>mn3016</td>\n",
       "      <td>2020-02-06 16:29:00</td>\n",
       "    </tr>\n",
       "    <tr>\n",
       "      <th>2</th>\n",
       "      <td>magazineBeamReceived</td>\n",
       "      <td>1.581003e+09</td>\n",
       "      <td>NaN</td>\n",
       "      <td>18.930677</td>\n",
       "      <td>mn3016-06022020-1629</td>\n",
       "      <td>mn3016</td>\n",
       "      <td>2020-02-06 16:29:00</td>\n",
       "    </tr>\n",
       "    <tr>\n",
       "      <th>3</th>\n",
       "      <td>magazineBeamBreak</td>\n",
       "      <td>1.581003e+09</td>\n",
       "      <td>NaN</td>\n",
       "      <td>19.695677</td>\n",
       "      <td>mn3016-06022020-1629</td>\n",
       "      <td>mn3016</td>\n",
       "      <td>2020-02-06 16:29:00</td>\n",
       "    </tr>\n",
       "    <tr>\n",
       "      <th>4</th>\n",
       "      <td>magazineBeamReceived</td>\n",
       "      <td>1.581003e+09</td>\n",
       "      <td>NaN</td>\n",
       "      <td>19.879677</td>\n",
       "      <td>mn3016-06022020-1629</td>\n",
       "      <td>mn3016</td>\n",
       "      <td>2020-02-06 16:29:00</td>\n",
       "    </tr>\n",
       "    <tr>\n",
       "      <th>...</th>\n",
       "      <td>...</td>\n",
       "      <td>...</td>\n",
       "      <td>...</td>\n",
       "      <td>...</td>\n",
       "      <td>...</td>\n",
       "      <td>...</td>\n",
       "      <td>...</td>\n",
       "    </tr>\n",
       "    <tr>\n",
       "      <th>1335</th>\n",
       "      <td>magazineBeamBreak</td>\n",
       "      <td>1.590932e+09</td>\n",
       "      <td>NaN</td>\n",
       "      <td>1773.857026</td>\n",
       "      <td>mn633-31052020-1309</td>\n",
       "      <td>mn633</td>\n",
       "      <td>2020-05-31 13:09:00</td>\n",
       "    </tr>\n",
       "    <tr>\n",
       "      <th>1336</th>\n",
       "      <td>magazineBeamReceived</td>\n",
       "      <td>1.590932e+09</td>\n",
       "      <td>NaN</td>\n",
       "      <td>1774.526026</td>\n",
       "      <td>mn633-31052020-1309</td>\n",
       "      <td>mn633</td>\n",
       "      <td>2020-05-31 13:09:00</td>\n",
       "    </tr>\n",
       "    <tr>\n",
       "      <th>1337</th>\n",
       "      <td>magazineBeamBreak</td>\n",
       "      <td>1.590932e+09</td>\n",
       "      <td>NaN</td>\n",
       "      <td>1798.139047</td>\n",
       "      <td>mn633-31052020-1309</td>\n",
       "      <td>mn633</td>\n",
       "      <td>2020-05-31 13:09:00</td>\n",
       "    </tr>\n",
       "    <tr>\n",
       "      <th>1338</th>\n",
       "      <td>magazineBeamReceived</td>\n",
       "      <td>1.590932e+09</td>\n",
       "      <td>NaN</td>\n",
       "      <td>1798.174047</td>\n",
       "      <td>mn633-31052020-1309</td>\n",
       "      <td>mn633</td>\n",
       "      <td>2020-05-31 13:09:00</td>\n",
       "    </tr>\n",
       "    <tr>\n",
       "      <th>1339</th>\n",
       "      <td>end</td>\n",
       "      <td>1.590932e+09</td>\n",
       "      <td>NaN</td>\n",
       "      <td>1802.479396</td>\n",
       "      <td>mn633-31052020-1309</td>\n",
       "      <td>mn633</td>\n",
       "      <td>2020-05-31 13:09:00</td>\n",
       "    </tr>\n",
       "  </tbody>\n",
       "</table>\n",
       "<p>169431 rows × 7 columns</p>\n",
       "</div>"
      ],
      "text/plain": [
       "                     event          time  param       timeWS  \\\n",
       "0                    start  1.581003e+09    NaN     0.000000   \n",
       "1        magazineBeamBreak  1.581003e+09    NaN    18.744677   \n",
       "2     magazineBeamReceived  1.581003e+09    NaN    18.930677   \n",
       "3        magazineBeamBreak  1.581003e+09    NaN    19.695677   \n",
       "4     magazineBeamReceived  1.581003e+09    NaN    19.879677   \n",
       "...                    ...           ...    ...          ...   \n",
       "1335     magazineBeamBreak  1.590932e+09    NaN  1773.857026   \n",
       "1336  magazineBeamReceived  1.590932e+09    NaN  1774.526026   \n",
       "1337     magazineBeamBreak  1.590932e+09    NaN  1798.139047   \n",
       "1338  magazineBeamReceived  1.590932e+09    NaN  1798.174047   \n",
       "1339                   end  1.590932e+09    NaN  1802.479396   \n",
       "\n",
       "                   session subject     sessionDateTime  \n",
       "0     mn3016-06022020-1629  mn3016 2020-02-06 16:29:00  \n",
       "1     mn3016-06022020-1629  mn3016 2020-02-06 16:29:00  \n",
       "2     mn3016-06022020-1629  mn3016 2020-02-06 16:29:00  \n",
       "3     mn3016-06022020-1629  mn3016 2020-02-06 16:29:00  \n",
       "4     mn3016-06022020-1629  mn3016 2020-02-06 16:29:00  \n",
       "...                    ...     ...                 ...  \n",
       "1335   mn633-31052020-1309   mn633 2020-05-31 13:09:00  \n",
       "1336   mn633-31052020-1309   mn633 2020-05-31 13:09:00  \n",
       "1337   mn633-31052020-1309   mn633 2020-05-31 13:09:00  \n",
       "1338   mn633-31052020-1309   mn633 2020-05-31 13:09:00  \n",
       "1339   mn633-31052020-1309   mn633 2020-05-31 13:09:00  \n",
       "\n",
       "[169431 rows x 7 columns]"
      ]
     },
     "execution_count": 9,
     "metadata": {},
     "output_type": "execute_result"
    }
   ],
   "source": [
    "log"
   ]
  },
  {
   "cell_type": "markdown",
   "id": "verbal-astrology",
   "metadata": {},
   "source": [
    "Save these two datasets so we can use them anywhere."
   ]
  },
  {
   "cell_type": "code",
   "execution_count": 10,
   "id": "convertible-monitoring",
   "metadata": {},
   "outputs": [],
   "source": [
    "# save the DataFram as csv file\n",
    "fn = myProject.dataPath+\"/results/logTrainingDF.csv\"\n",
    "log.to_csv(fn)\n",
    "# save the DataFram as csv file\n",
    "fn = myProject.dataPath+\"/results/protocolTrainingDF.csv\"\n",
    "protocol.to_csv(fn)"
   ]
  },
  {
   "cell_type": "markdown",
   "id": "silver-correspondence",
   "metadata": {},
   "source": [
    "We can load the files from file"
   ]
  },
  {
   "cell_type": "code",
   "execution_count": 11,
   "id": "related-internet",
   "metadata": {},
   "outputs": [
    {
     "name": "stdout",
     "output_type": "stream",
     "text": [
      "log length: 169431, protocol length: 151\n"
     ]
    }
   ],
   "source": [
    "fn = myProject.dataPath+\"/results/logTrainingDF.csv\"\n",
    "log = pd.read_csv(fn)\n",
    "# save the DataFram as csv file\n",
    "fn = myProject.dataPath+\"/results/protocolTrainingDF.csv\"\n",
    "protocol = pd.read_csv(fn)\n",
    "print(\"log length: {}, protocol length: {}\".format(len(log),len(protocol)))"
   ]
  },
  {
   "cell_type": "markdown",
   "id": "british-resource",
   "metadata": {},
   "source": [
    "## Number of mice included\n",
    "\n",
    "How many mice were included in this analysis?"
   ]
  },
  {
   "cell_type": "code",
   "execution_count": 20,
   "id": "center-detective",
   "metadata": {},
   "outputs": [
    {
     "name": "stdout",
     "output_type": "stream",
     "text": [
      "Number of mice : 20\n"
     ]
    }
   ],
   "source": [
    "print(\"Number of mice : {}\".format(log[\"subject\"].nunique()))"
   ]
  },
  {
   "cell_type": "markdown",
   "id": "promising-tribe",
   "metadata": {},
   "source": [
    "## Learning the lever response\n",
    "\n",
    "We just want to show that mice learn to press the lever over 6 days.\n",
    "\n",
    "We first need to select the session in which we were doing the lever training.\n",
    "\n",
    "Then we need to label each session according to its rank for each mouse."
   ]
  },
  {
   "cell_type": "code",
   "execution_count": 21,
   "id": "functioning-extent",
   "metadata": {},
   "outputs": [],
   "source": [
    "leverTrainingSessions = protocol[\"session\"][protocol[\"script\"] == \"autopi_lever_training.py\"]"
   ]
  },
  {
   "cell_type": "code",
   "execution_count": 23,
   "id": "likely-celebrity",
   "metadata": {},
   "outputs": [
    {
     "name": "stdout",
     "output_type": "stream",
     "text": [
      "Number of mice : 20\n",
      "Number of sessions : 137\n"
     ]
    }
   ],
   "source": [
    "logLever = log[log[\"session\"].isin(leverTrainingSessions)]\n",
    "print(\"Number of mice : {}\".format(logLever[\"subject\"].nunique()))\n",
    "print(\"Number of sessions : {}\".format(logLever[\"session\"].nunique()))"
   ]
  },
  {
   "cell_type": "markdown",
   "id": "billion-wallace",
   "metadata": {},
   "source": [
    "Get the rank of each session for each mouse. We want to have a number from 1 to 6 for each session."
   ]
  },
  {
   "cell_type": "code",
   "execution_count": 24,
   "id": "pediatric-curve",
   "metadata": {},
   "outputs": [
    {
     "data": {
      "text/html": [
       "<div>\n",
       "<style scoped>\n",
       "    .dataframe tbody tr th:only-of-type {\n",
       "        vertical-align: middle;\n",
       "    }\n",
       "\n",
       "    .dataframe tbody tr th {\n",
       "        vertical-align: top;\n",
       "    }\n",
       "\n",
       "    .dataframe thead th {\n",
       "        text-align: right;\n",
       "    }\n",
       "</style>\n",
       "<table border=\"1\" class=\"dataframe\">\n",
       "  <thead>\n",
       "    <tr style=\"text-align: right;\">\n",
       "      <th></th>\n",
       "      <th>Unnamed: 0</th>\n",
       "      <th>event</th>\n",
       "      <th>time</th>\n",
       "      <th>param</th>\n",
       "      <th>timeWS</th>\n",
       "      <th>session</th>\n",
       "      <th>subject</th>\n",
       "      <th>sessionDateTime</th>\n",
       "      <th>day</th>\n",
       "    </tr>\n",
       "  </thead>\n",
       "  <tbody>\n",
       "    <tr>\n",
       "      <th>0</th>\n",
       "      <td>0</td>\n",
       "      <td>start</td>\n",
       "      <td>1.581003e+09</td>\n",
       "      <td>NaN</td>\n",
       "      <td>0.000000</td>\n",
       "      <td>mn3016-06022020-1629</td>\n",
       "      <td>mn3016</td>\n",
       "      <td>2020-02-06 16:29:00</td>\n",
       "      <td>1.0</td>\n",
       "    </tr>\n",
       "    <tr>\n",
       "      <th>1</th>\n",
       "      <td>1</td>\n",
       "      <td>magazineBeamBreak</td>\n",
       "      <td>1.581003e+09</td>\n",
       "      <td>NaN</td>\n",
       "      <td>18.744677</td>\n",
       "      <td>mn3016-06022020-1629</td>\n",
       "      <td>mn3016</td>\n",
       "      <td>2020-02-06 16:29:00</td>\n",
       "      <td>1.0</td>\n",
       "    </tr>\n",
       "    <tr>\n",
       "      <th>2</th>\n",
       "      <td>2</td>\n",
       "      <td>magazineBeamReceived</td>\n",
       "      <td>1.581003e+09</td>\n",
       "      <td>NaN</td>\n",
       "      <td>18.930677</td>\n",
       "      <td>mn3016-06022020-1629</td>\n",
       "      <td>mn3016</td>\n",
       "      <td>2020-02-06 16:29:00</td>\n",
       "      <td>1.0</td>\n",
       "    </tr>\n",
       "    <tr>\n",
       "      <th>3</th>\n",
       "      <td>3</td>\n",
       "      <td>magazineBeamBreak</td>\n",
       "      <td>1.581003e+09</td>\n",
       "      <td>NaN</td>\n",
       "      <td>19.695677</td>\n",
       "      <td>mn3016-06022020-1629</td>\n",
       "      <td>mn3016</td>\n",
       "      <td>2020-02-06 16:29:00</td>\n",
       "      <td>1.0</td>\n",
       "    </tr>\n",
       "    <tr>\n",
       "      <th>4</th>\n",
       "      <td>4</td>\n",
       "      <td>magazineBeamReceived</td>\n",
       "      <td>1.581003e+09</td>\n",
       "      <td>NaN</td>\n",
       "      <td>19.879677</td>\n",
       "      <td>mn3016-06022020-1629</td>\n",
       "      <td>mn3016</td>\n",
       "      <td>2020-02-06 16:29:00</td>\n",
       "      <td>1.0</td>\n",
       "    </tr>\n",
       "    <tr>\n",
       "      <th>...</th>\n",
       "      <td>...</td>\n",
       "      <td>...</td>\n",
       "      <td>...</td>\n",
       "      <td>...</td>\n",
       "      <td>...</td>\n",
       "      <td>...</td>\n",
       "      <td>...</td>\n",
       "      <td>...</td>\n",
       "      <td>...</td>\n",
       "    </tr>\n",
       "    <tr>\n",
       "      <th>169426</th>\n",
       "      <td>1335</td>\n",
       "      <td>magazineBeamBreak</td>\n",
       "      <td>1.590932e+09</td>\n",
       "      <td>NaN</td>\n",
       "      <td>1773.857026</td>\n",
       "      <td>mn633-31052020-1309</td>\n",
       "      <td>mn633</td>\n",
       "      <td>2020-05-31 13:09:00</td>\n",
       "      <td>3.0</td>\n",
       "    </tr>\n",
       "    <tr>\n",
       "      <th>169427</th>\n",
       "      <td>1336</td>\n",
       "      <td>magazineBeamReceived</td>\n",
       "      <td>1.590932e+09</td>\n",
       "      <td>NaN</td>\n",
       "      <td>1774.526026</td>\n",
       "      <td>mn633-31052020-1309</td>\n",
       "      <td>mn633</td>\n",
       "      <td>2020-05-31 13:09:00</td>\n",
       "      <td>3.0</td>\n",
       "    </tr>\n",
       "    <tr>\n",
       "      <th>169428</th>\n",
       "      <td>1337</td>\n",
       "      <td>magazineBeamBreak</td>\n",
       "      <td>1.590932e+09</td>\n",
       "      <td>NaN</td>\n",
       "      <td>1798.139047</td>\n",
       "      <td>mn633-31052020-1309</td>\n",
       "      <td>mn633</td>\n",
       "      <td>2020-05-31 13:09:00</td>\n",
       "      <td>3.0</td>\n",
       "    </tr>\n",
       "    <tr>\n",
       "      <th>169429</th>\n",
       "      <td>1338</td>\n",
       "      <td>magazineBeamReceived</td>\n",
       "      <td>1.590932e+09</td>\n",
       "      <td>NaN</td>\n",
       "      <td>1798.174047</td>\n",
       "      <td>mn633-31052020-1309</td>\n",
       "      <td>mn633</td>\n",
       "      <td>2020-05-31 13:09:00</td>\n",
       "      <td>3.0</td>\n",
       "    </tr>\n",
       "    <tr>\n",
       "      <th>169430</th>\n",
       "      <td>1339</td>\n",
       "      <td>end</td>\n",
       "      <td>1.590932e+09</td>\n",
       "      <td>NaN</td>\n",
       "      <td>1802.479396</td>\n",
       "      <td>mn633-31052020-1309</td>\n",
       "      <td>mn633</td>\n",
       "      <td>2020-05-31 13:09:00</td>\n",
       "      <td>3.0</td>\n",
       "    </tr>\n",
       "  </tbody>\n",
       "</table>\n",
       "<p>154352 rows × 9 columns</p>\n",
       "</div>"
      ],
      "text/plain": [
       "        Unnamed: 0                 event          time  param       timeWS  \\\n",
       "0                0                 start  1.581003e+09    NaN     0.000000   \n",
       "1                1     magazineBeamBreak  1.581003e+09    NaN    18.744677   \n",
       "2                2  magazineBeamReceived  1.581003e+09    NaN    18.930677   \n",
       "3                3     magazineBeamBreak  1.581003e+09    NaN    19.695677   \n",
       "4                4  magazineBeamReceived  1.581003e+09    NaN    19.879677   \n",
       "...            ...                   ...           ...    ...          ...   \n",
       "169426        1335     magazineBeamBreak  1.590932e+09    NaN  1773.857026   \n",
       "169427        1336  magazineBeamReceived  1.590932e+09    NaN  1774.526026   \n",
       "169428        1337     magazineBeamBreak  1.590932e+09    NaN  1798.139047   \n",
       "169429        1338  magazineBeamReceived  1.590932e+09    NaN  1798.174047   \n",
       "169430        1339                   end  1.590932e+09    NaN  1802.479396   \n",
       "\n",
       "                     session subject     sessionDateTime  day  \n",
       "0       mn3016-06022020-1629  mn3016 2020-02-06 16:29:00  1.0  \n",
       "1       mn3016-06022020-1629  mn3016 2020-02-06 16:29:00  1.0  \n",
       "2       mn3016-06022020-1629  mn3016 2020-02-06 16:29:00  1.0  \n",
       "3       mn3016-06022020-1629  mn3016 2020-02-06 16:29:00  1.0  \n",
       "4       mn3016-06022020-1629  mn3016 2020-02-06 16:29:00  1.0  \n",
       "...                      ...     ...                 ...  ...  \n",
       "169426   mn633-31052020-1309   mn633 2020-05-31 13:09:00  3.0  \n",
       "169427   mn633-31052020-1309   mn633 2020-05-31 13:09:00  3.0  \n",
       "169428   mn633-31052020-1309   mn633 2020-05-31 13:09:00  3.0  \n",
       "169429   mn633-31052020-1309   mn633 2020-05-31 13:09:00  3.0  \n",
       "169430   mn633-31052020-1309   mn633 2020-05-31 13:09:00  3.0  \n",
       "\n",
       "[154352 rows x 9 columns]"
      ]
     },
     "execution_count": 24,
     "metadata": {},
     "output_type": "execute_result"
    }
   ],
   "source": [
    "logLever[\"sessionDateTime\"] =  pd.to_datetime(logLever[\"sessionDateTime\"]) # somehow needed\n",
    "logLever[\"day\"] = logLever[\"sessionDateTime\"].groupby(logLever[\"subject\"]).rank(method=\"dense\")\n",
    "logLever"
   ]
  },
  {
   "cell_type": "markdown",
   "id": "velvet-prophet",
   "metadata": {},
   "source": [
    "## Session summary statistics\n",
    "\n",
    "Now we want to get summary statistics for each day-mouse combination. \n",
    "This will be stored as a new pandas data frame.\n",
    "\n",
    "We write a function that returns a dataframe with the variables we want per day-mouse, then apply it to a groupby dataframe."
   ]
  },
  {
   "cell_type": "code",
   "execution_count": 28,
   "id": "numerical-consent",
   "metadata": {},
   "outputs": [],
   "source": [
    "def mySummary(df):\n",
    "    duration=df[\"time\"].max() - df[\"time\"].min()\n",
    "    leverPresses=np.sum((df[\"event\"]==\"lever_press\") |(df[\"event\"]==\"leverPress\"))\n",
    "    rewards=np.sum(df[\"event\"]==\"pellet_delivery_report\")\n",
    "    leverPressesPerReward = leverPresses/rewards\n",
    "    rewardRate = rewards/duration*60 # per minutes\n",
    "    return pd.DataFrame({\"duration\": [duration],\n",
    "                        \"leverPresses\": [leverPresses],\n",
    "                        \"rewards\": [rewards],\n",
    "                        \"leverPressesPerReward\": [leverPressesPerReward],\n",
    "                        \"rewardRate\": [rewardRate]})\n",
    "\n",
    "sDf = logLever.groupby([\"subject\",\"day\"]).apply(mySummary).reset_index()\n",
    "\n",
    "# only keep the first 6 days for the figure\n",
    "sDf = sDf[sDf.day < 7 ]\n"
   ]
  },
  {
   "cell_type": "code",
   "execution_count": 29,
   "id": "imported-consent",
   "metadata": {},
   "outputs": [
    {
     "data": {
      "text/html": [
       "<div>\n",
       "<style scoped>\n",
       "    .dataframe tbody tr th:only-of-type {\n",
       "        vertical-align: middle;\n",
       "    }\n",
       "\n",
       "    .dataframe tbody tr th {\n",
       "        vertical-align: top;\n",
       "    }\n",
       "\n",
       "    .dataframe thead th {\n",
       "        text-align: right;\n",
       "    }\n",
       "</style>\n",
       "<table border=\"1\" class=\"dataframe\">\n",
       "  <thead>\n",
       "    <tr style=\"text-align: right;\">\n",
       "      <th></th>\n",
       "      <th>subject</th>\n",
       "      <th>day</th>\n",
       "      <th>level_2</th>\n",
       "      <th>duration</th>\n",
       "      <th>leverPresses</th>\n",
       "      <th>rewards</th>\n",
       "      <th>leverPressesPerReward</th>\n",
       "      <th>rewardRate</th>\n",
       "    </tr>\n",
       "  </thead>\n",
       "  <tbody>\n",
       "    <tr>\n",
       "      <th>0</th>\n",
       "      <td>mn3016</td>\n",
       "      <td>1.0</td>\n",
       "      <td>0</td>\n",
       "      <td>1802.376751</td>\n",
       "      <td>23</td>\n",
       "      <td>13</td>\n",
       "      <td>1.769231</td>\n",
       "      <td>0.432762</td>\n",
       "    </tr>\n",
       "    <tr>\n",
       "      <th>1</th>\n",
       "      <td>mn3016</td>\n",
       "      <td>2.0</td>\n",
       "      <td>0</td>\n",
       "      <td>1802.524856</td>\n",
       "      <td>50</td>\n",
       "      <td>22</td>\n",
       "      <td>2.272727</td>\n",
       "      <td>0.732306</td>\n",
       "    </tr>\n",
       "    <tr>\n",
       "      <th>2</th>\n",
       "      <td>mn3016</td>\n",
       "      <td>3.0</td>\n",
       "      <td>0</td>\n",
       "      <td>1802.443332</td>\n",
       "      <td>55</td>\n",
       "      <td>31</td>\n",
       "      <td>1.774194</td>\n",
       "      <td>1.031933</td>\n",
       "    </tr>\n",
       "    <tr>\n",
       "      <th>3</th>\n",
       "      <td>mn3016</td>\n",
       "      <td>4.0</td>\n",
       "      <td>0</td>\n",
       "      <td>1802.407652</td>\n",
       "      <td>88</td>\n",
       "      <td>76</td>\n",
       "      <td>1.157895</td>\n",
       "      <td>2.529949</td>\n",
       "    </tr>\n",
       "    <tr>\n",
       "      <th>4</th>\n",
       "      <td>mn3016</td>\n",
       "      <td>5.0</td>\n",
       "      <td>0</td>\n",
       "      <td>1026.867459</td>\n",
       "      <td>132</td>\n",
       "      <td>100</td>\n",
       "      <td>1.320000</td>\n",
       "      <td>5.843013</td>\n",
       "    </tr>\n",
       "    <tr>\n",
       "      <th>...</th>\n",
       "      <td>...</td>\n",
       "      <td>...</td>\n",
       "      <td>...</td>\n",
       "      <td>...</td>\n",
       "      <td>...</td>\n",
       "      <td>...</td>\n",
       "      <td>...</td>\n",
       "      <td>...</td>\n",
       "    </tr>\n",
       "    <tr>\n",
       "      <th>132</th>\n",
       "      <td>mn633</td>\n",
       "      <td>1.0</td>\n",
       "      <td>0</td>\n",
       "      <td>1802.560159</td>\n",
       "      <td>32</td>\n",
       "      <td>22</td>\n",
       "      <td>1.454545</td>\n",
       "      <td>0.732292</td>\n",
       "    </tr>\n",
       "    <tr>\n",
       "      <th>133</th>\n",
       "      <td>mn633</td>\n",
       "      <td>2.0</td>\n",
       "      <td>0</td>\n",
       "      <td>1802.510743</td>\n",
       "      <td>35</td>\n",
       "      <td>25</td>\n",
       "      <td>1.400000</td>\n",
       "      <td>0.832173</td>\n",
       "    </tr>\n",
       "    <tr>\n",
       "      <th>134</th>\n",
       "      <td>mn633</td>\n",
       "      <td>3.0</td>\n",
       "      <td>0</td>\n",
       "      <td>1802.479396</td>\n",
       "      <td>122</td>\n",
       "      <td>61</td>\n",
       "      <td>2.000000</td>\n",
       "      <td>2.030536</td>\n",
       "    </tr>\n",
       "    <tr>\n",
       "      <th>135</th>\n",
       "      <td>mn633</td>\n",
       "      <td>4.0</td>\n",
       "      <td>0</td>\n",
       "      <td>1802.477537</td>\n",
       "      <td>118</td>\n",
       "      <td>76</td>\n",
       "      <td>1.552632</td>\n",
       "      <td>2.529851</td>\n",
       "    </tr>\n",
       "    <tr>\n",
       "      <th>136</th>\n",
       "      <td>mn633</td>\n",
       "      <td>5.0</td>\n",
       "      <td>0</td>\n",
       "      <td>1599.316192</td>\n",
       "      <td>177</td>\n",
       "      <td>100</td>\n",
       "      <td>1.770000</td>\n",
       "      <td>3.751603</td>\n",
       "    </tr>\n",
       "  </tbody>\n",
       "</table>\n",
       "<p>117 rows × 8 columns</p>\n",
       "</div>"
      ],
      "text/plain": [
       "    subject  day  level_2     duration  leverPresses  rewards  \\\n",
       "0    mn3016  1.0        0  1802.376751            23       13   \n",
       "1    mn3016  2.0        0  1802.524856            50       22   \n",
       "2    mn3016  3.0        0  1802.443332            55       31   \n",
       "3    mn3016  4.0        0  1802.407652            88       76   \n",
       "4    mn3016  5.0        0  1026.867459           132      100   \n",
       "..      ...  ...      ...          ...           ...      ...   \n",
       "132   mn633  1.0        0  1802.560159            32       22   \n",
       "133   mn633  2.0        0  1802.510743            35       25   \n",
       "134   mn633  3.0        0  1802.479396           122       61   \n",
       "135   mn633  4.0        0  1802.477537           118       76   \n",
       "136   mn633  5.0        0  1599.316192           177      100   \n",
       "\n",
       "     leverPressesPerReward  rewardRate  \n",
       "0                 1.769231    0.432762  \n",
       "1                 2.272727    0.732306  \n",
       "2                 1.774194    1.031933  \n",
       "3                 1.157895    2.529949  \n",
       "4                 1.320000    5.843013  \n",
       "..                     ...         ...  \n",
       "132               1.454545    0.732292  \n",
       "133               1.400000    0.832173  \n",
       "134               2.000000    2.030536  \n",
       "135               1.552632    2.529851  \n",
       "136               1.770000    3.751603  \n",
       "\n",
       "[117 rows x 8 columns]"
      ]
     },
     "execution_count": 29,
     "metadata": {},
     "output_type": "execute_result"
    }
   ],
   "source": [
    "sDf"
   ]
  },
  {
   "cell_type": "code",
   "execution_count": 33,
   "id": "hybrid-vegetarian",
   "metadata": {},
   "outputs": [
    {
     "name": "stdout",
     "output_type": "stream",
     "text": [
      "number of mice: 20\n",
      "number of sessions: 117\n"
     ]
    }
   ],
   "source": [
    "print(\"number of mice: {}\".format(sDf[\"subject\"].nunique()))\n",
    "print(\"number of sessions: {}\".format(len(sDf[\"subject\"])))"
   ]
  },
  {
   "cell_type": "markdown",
   "id": "educated-softball",
   "metadata": {},
   "source": [
    "Now it is time to plot the data. "
   ]
  },
  {
   "cell_type": "code",
   "execution_count": 34,
   "id": "persistent-mobility",
   "metadata": {},
   "outputs": [],
   "source": [
    "%matplotlib inline\n",
    "import matplotlib.pyplot as plt\n",
    "import matplotlib.image as mpimg\n",
    "import matplotlib.gridspec as gridspec\n",
    "import seaborn as sns\n",
    "from scipy import stats\n",
    "plt.style.use(\"seaborn\")"
   ]
  },
  {
   "cell_type": "code",
   "execution_count": 76,
   "id": "laughing-tract",
   "metadata": {},
   "outputs": [
    {
     "name": "stdout",
     "output_type": "stream",
     "text": [
      "Saving to /adata/projects/autopi_behavior_2021/results/introduction_01.png\n",
      "\n"
     ]
    },
    {
     "data": {
      "image/png": "[encoded data removed]",
      "text/plain": [
       "<Figure size 345.6x518.4 with 5 Axes>"
      ]
     },
     "metadata": {},
     "output_type": "display_data"
    }
   ],
   "source": [
    "image1file = \"/adata/projects/autopi_behavior_2021/results/images/setupLabels.png\"\n",
    "image2file = \"/adata/projects/autopi_behavior_2021/results/images/leverPosition.png\"\n",
    "\n",
    "## to get consistent figure, we will give \n",
    "\n",
    "col=2\n",
    "row=3\n",
    "sizePerPlot=2.4\n",
    "fig = plt.figure(figsize=(col*sizePerPlot,row*sizePerPlot))\n",
    "gs = gridspec.GridSpec(row,col,wspace=0.35, hspace=0.27)\n",
    "fig.tight_layout()\n",
    "\n",
    "#############################################\n",
    "#############################################\n",
    "#a\n",
    "ax = plt.subplot(gs[0, 0:2], ) # get a subplot\n",
    "img=mpimg.imread(image1file)\n",
    "img.shape\n",
    "ax.imshow(img)\n",
    "ax.get_xaxis().set_visible(False)\n",
    "ax.get_yaxis().set_visible(False)\n",
    "pos1 = ax.get_position() # get the original position \n",
    "pos2 = [pos1.x0 - 0.145, pos1.y0-0.01,  pos1.width * 1.43, pos1.height * 1.43] \n",
    "ax.set_position(pos2) # set a new position\n",
    "ax.text(0.02,0.96, 'a', style='normal',fontsize=15, weight=\"bold\", transform=plt.gcf().transFigure)\n",
    "\n",
    "##########################################\n",
    "##########################################\n",
    "#b\n",
    "ax = plt.subplot(gs[1, 0], ) # get a subplot\n",
    "img=mpimg.imread(image2file)\n",
    "img.shape\n",
    "ax.imshow(img)\n",
    "ax.get_xaxis().set_visible(False)\n",
    "ax.get_yaxis().set_visible(False)\n",
    "pos1 = ax.get_position() # get the original position \n",
    "pos2 = [pos1.x0 - 0.045, pos1.y0-0.03,  pos1.width * 1.1, pos1.height * 1.1] \n",
    "ax.set_position(pos2) # set a new position\n",
    "ax.set_title(\"Lever positions\")\n",
    "ax.text(0.02,0.61, 'b', style='normal',fontsize=15, weight=\"bold\", transform=plt.gcf().transFigure)\n",
    "\n",
    "#############################################\n",
    "# c\n",
    "ax = plt.subplot(gs[1,1], ) # get a subplot\n",
    "sns.boxplot(y='leverPresses', x='day', \n",
    "                 data=sDf,showfliers=False,color=sns.color_palette()[0] )\n",
    "sns.stripplot(y='leverPresses', x='day', \n",
    "                 data=sDf,color=\"black\")\n",
    "plt.xticks(range(6),labels=[\"1\",\"2\",\"3\",\"4\",\"5\",\"6\"])\n",
    "plt.xlabel(\"Day\")\n",
    "plt.ylabel(\"Lever presses\")\n",
    "ax.text(0.47,0.61, 'c', style='normal',fontsize=15, weight=\"bold\", transform=plt.gcf().transFigure)\n",
    "ax.yaxis.set_label_coords(-0.18,0.5)\n",
    "ax.xaxis.set_label_coords(0.5, -0.12)\n",
    "ax.tick_params(axis='both', which='major', pad=3)\n",
    "\n",
    "\n",
    "#############################################\n",
    "# d\n",
    "ax = plt.subplot(gs[2,0], ) # get a subplot\n",
    "sns.boxplot(y='rewards', x='day', \n",
    "                 data=sDf,showfliers=False,color=sns.color_palette()[0] )\n",
    "sns.stripplot(y='rewards', x='day', \n",
    "                 data=sDf,color=\"black\")\n",
    "plt.xticks(range(6),labels=[\"1\",\"2\",\"3\",\"4\",\"5\",\"6\"])\n",
    "plt.xlabel(\"Day\")\n",
    "plt.ylabel(\"Rewards\")\n",
    "ax.text(0.02,0.35, 'd', style='normal',fontsize=15, weight=\"bold\", transform=plt.gcf().transFigure)\n",
    "ax.xaxis.set_label_coords(0.5, -0.12)\n",
    "ax.yaxis.set_label_coords(-0.18,0.5)\n",
    "ax.tick_params(axis='both', which='major', pad=3)\n",
    "\n",
    "\n",
    "#############################################\n",
    "# e\n",
    "ax = plt.subplot(gs[2,1], ) # get a subplot\n",
    "sns.boxplot(y='rewardRate', x='day', \n",
    "                 data=sDf,showfliers=False,color=sns.color_palette()[0] )\n",
    "sns.stripplot(y='rewardRate', x='day', \n",
    "                 data=sDf,color=\"black\")\n",
    "plt.xticks(range(6),labels=[\"1\",\"2\",\"3\",\"4\",\"5\",\"6\"])\n",
    "plt.xlabel(\"Day\")\n",
    "plt.ylabel(\"Reward rate (per min.)\")\n",
    "ax.text(0.47,0.35, 'e', style='normal',fontsize=15, weight=\"bold\", transform=plt.gcf().transFigure)\n",
    "ax.xaxis.set_label_coords(0.5, -0.12)\n",
    "ax.yaxis.set_label_coords(-0.18,0.5)\n",
    "ax.tick_params(axis='both', which='major', pad=3)\n",
    "\n",
    "fileName = myProject.dataPath+\"/results/introduction_01.png\"\n",
    "print(\"Saving to \" + fileName)\n",
    "print(\"\")\n",
    "plt.savefig(fileName,bbox_inches = \"tight\",dpi=300)\n",
    "plt.show()"
   ]
  },
  {
   "cell_type": "markdown",
   "id": "extra-stupid",
   "metadata": {},
   "source": [
    "Although it is rather obvious from the figure, we still have to provide statistical tests showing the mice learned the lever press response. We could compare day 1 to day 6 for the data shown in **c**, **d** and **e**. "
   ]
  },
  {
   "cell_type": "code",
   "execution_count": 89,
   "id": "fewer-dining",
   "metadata": {},
   "outputs": [
    {
     "name": "stdout",
     "output_type": "stream",
     "text": [
      "Comparison Day 1 vs 6\n",
      "leverPresses\n",
      "stat: 47.5, p_value: 9.99327857709995e-05\n",
      "rewards\n",
      "stat: 33.0, p_value: 8.2136851351353e-06\n",
      "rewardRate\n",
      "stat: 32.0, p_value: 1.3919258522818909e-05\n"
     ]
    }
   ],
   "source": [
    "print(\"Comparison Day 1 vs 6\")\n",
    "for var in [\"leverPresses\",\"rewards\",\"rewardRate\"]:\n",
    "    print(var)\n",
    "    x = sDf[sDf[\"day\"]==1][var]\n",
    "    y = sDf[sDf[\"day\"]==6][var]\n",
    "   # print(\"Day 1\")\n",
    "   # print(x.describe())\n",
    "   # print(\"Day 6\")\n",
    "   # print(y.describe())\n",
    "    stat,p_value = stats.mannwhitneyu(x=x, y = y)\n",
    "    print(\"stat: {}, p_value: {}\".format(stat,p_value))\n"
   ]
  }
 ],
 "metadata": {
  "kernelspec": {
   "display_name": "Python 3",
   "language": "python",
   "name": "python3"
  },
  "language_info": {
   "codemirror_mode": {
    "name": "ipython",
    "version": 3
   },
   "file_extension": ".py",
   "mimetype": "text/x-python",
   "name": "python",
   "nbconvert_exporter": "python",
   "pygments_lexer": "ipython3",
   "version": "3.7.9"
  }
 },
 "nbformat": 4,
 "nbformat_minor": 5
}
