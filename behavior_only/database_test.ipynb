{
 "cells": [
  {
   "cell_type": "markdown",
   "metadata": {},
   "source": [
    "# Database test\n",
    "\n",
    "This first notebook is making sure the database contains all the files that we need.\n",
    "\n",
    "We will create `project` object with our list of `session` objects. Then we will apply our function to check if all files are there to each `session` object."
   ]
  },
  {
   "cell_type": "code",
   "execution_count": 1,
   "metadata": {},
   "outputs": [],
   "source": [
    "import pandas as pd\n",
    "import os.path\n",
    "import shutil\n",
    "from autopipy.project import Project\n",
    "from autopipy.session import Session"
   ]
  },
  {
   "cell_type": "markdown",
   "metadata": {},
   "source": [
    "## Create a `project` object."
   ]
  },
  {
   "cell_type": "code",
   "execution_count": 2,
   "metadata": {},
   "outputs": [
    {
     "name": "stdout",
     "output_type": "stream",
     "text": [
      "Project name: autopi_behavior_2021\n",
      "dataPath: /adata/projects/autopi_behavior_2021\n",
      "dlcModelPath: /adata/models\n"
     ]
    }
   ],
   "source": [
    "projectName=\"autopi_behavior_2021\"\n",
    "dataPath=\"/adata/projects/autopi_behavior_2021\"\n",
    "dlcModelPath=\"/adata/models\"\n",
    "myProject = Project(name=projectName,dataPath=dataPath,dlcModelPath=dlcModelPath)"
   ]
  },
  {
   "cell_type": "markdown",
   "metadata": {},
   "source": [
    "## Create list of `session` objects"
   ]
  },
  {
   "cell_type": "markdown",
   "metadata": {},
   "source": [
    "We now need to get a list of `session` objects that will be used for our data analysis.\n",
    "\n",
    "As mentioned in main.ipynb, there are two types of sessions. The training and testing sessions.\n",
    "Training is all the training up to the introduction of dark trials.\n",
    "\n",
    "* training_sessions\n",
    "* testing_sessions\n",
    "\n",
    "We will use the pandas package to read the list of session from file."
   ]
  },
  {
   "cell_type": "code",
   "execution_count": 9,
   "metadata": {},
   "outputs": [
    {
     "name": "stdout",
     "output_type": "stream",
     "text": [
      "Reading /adata/projects/autopi_behavior_2021/testing_sessions\n",
      "We have 67 testing sessions in the list\n",
      "Reading /adata/projects/autopi_behavior_2021/training_sessions\n",
      "We have 151 training sessions in the list\n",
      "Reading /adata/projects/autopi_behavior_2021/memory_sessions\n",
      "We have 3 training sessions in the list\n"
     ]
    }
   ],
   "source": [
    "fn=myProject.dataPath+\"/testing_sessions\"\n",
    "print(\"Reading \" + fn)\n",
    "sessionNamesTesting = pd.read_csv(fn) # this will be a pandas dataframe\n",
    "print(\"We have {} testing sessions in the list\".format(len(sessionNamesTesting)))\n",
    "\n",
    "fn=myProject.dataPath+\"/training_sessions\"\n",
    "print(\"Reading \" + fn)\n",
    "sessionNamesTraining = pd.read_csv(fn) # this will be a pandas dataframe\n",
    "print(\"We have {} training sessions in the list\".format(len(sessionNamesTraining)))\n",
    "\n",
    "fn=myProject.dataPath+\"/memory_sessions\"\n",
    "print(\"Reading \" + fn)\n",
    "sessionNamesMemory = pd.read_csv(fn) # this will be a pandas dataframe\n",
    "print(\"We have {} training sessions in the list\".format(len(sessionNamesMemory)))\n"
   ]
  },
  {
   "cell_type": "markdown",
   "metadata": {},
   "source": [
    "Now we create the list of `session` objects in the `project` object.\n",
    "The `createSessionList` method needs a list as argument, so we transform the pandas series into a list."
   ]
  },
  {
   "cell_type": "markdown",
   "metadata": {},
   "source": [
    "## Create a session list for the testing sessions"
   ]
  },
  {
   "cell_type": "code",
   "execution_count": 10,
   "metadata": {},
   "outputs": [],
   "source": [
    "myProject.createSessionList(sessionNameList=sessionNamesTesting.sessionName.to_list()) "
   ]
  },
  {
   "cell_type": "markdown",
   "metadata": {},
   "source": [
    "You can get a `session` object by indexing the `sessionList` attribute of you `project` object."
   ]
  },
  {
   "cell_type": "markdown",
   "metadata": {},
   "source": [
    "## Check if all the files needed in the testing session directories are there\n",
    "\n",
    "The `session` objects have a method call `checkSessionDirectory`. \n",
    "\n",
    "If a file is missing, the function will raise an exception. Fix the problem manually and repeat until you don't have any exceptions."
   ]
  },
  {
   "cell_type": "code",
   "execution_count": 11,
   "metadata": {},
   "outputs": [],
   "source": [
    "for ses in myProject.sessionList :\n",
    "    ses.checkSessionDirectory()"
   ]
  },
  {
   "cell_type": "markdown",
   "metadata": {},
   "source": [
    "Once this runs wihtout problems. You should have directories with all the files you need to do the analysis."
   ]
  },
  {
   "cell_type": "markdown",
   "metadata": {},
   "source": [
    "## Create a session list for the training sessions and check for directories and data files\n",
    "\n",
    "For training sessions, we don't need to check for the videos."
   ]
  },
  {
   "cell_type": "code",
   "execution_count": 6,
   "metadata": {},
   "outputs": [],
   "source": [
    "myProject.createSessionList(sessionNameList=sessionNamesTraining.sessionName.to_list(),needVideos=False) "
   ]
  },
  {
   "cell_type": "code",
   "execution_count": 7,
   "metadata": {},
   "outputs": [],
   "source": [
    "for ses in myProject.sessionList:\n",
    "    ses.checkSessionDirectory()"
   ]
  },
  {
   "cell_type": "markdown",
   "metadata": {},
   "source": [
    "## Renaming files (run only if needed)\n",
    "\n",
    "We had sessions for which the naming scheme was slightly different. I used the function below to renamed the files to our standard file naming scheme."
   ]
  },
  {
   "cell_type": "code",
   "execution_count": 65,
   "metadata": {},
   "outputs": [],
   "source": [
    "def renameTimestampsFiles(ses):\n",
    "    \"\"\"\n",
    "    Function to rename some files that had timestamps in their name.\n",
    "    This is applied to have constant file names across sessions\n",
    "    \"\"\"\n",
    "    fileOne=ses.fileBase+\".timestamps.arena_top.log\"\n",
    "    fileTwo=ses.fileBase+\".arena_top.log\"\n",
    "    if os.path.exists(fileOne) == True and os.path.exists(fileTwo) == False:\n",
    "        print(\"move \"+fileOne + \" to \" + fileTwo)\n",
    "        shutil.move(fileOne,fileTwo)\n",
    "\n",
    "    fileOne=ses.fileBase+\".timestamps.home_base.log\"\n",
    "    fileTwo=ses.fileBase+\".home_base.log\"\n",
    "    if os.path.exists(fileOne) == True and os.path.exists(fileTwo) == False:\n",
    "        print(\"move \"+fileOne + \" to \" + fileTwo)\n",
    "        shutil.move(fileOne,fileTwo)"
   ]
  },
  {
   "cell_type": "code",
   "execution_count": null,
   "metadata": {},
   "outputs": [],
   "source": [
    "myProject.createSessionList(sessionNameList=sessionNamesTesting.sessionName.to_list()) \n",
    "for ses in myProject.sessionList:\n",
    "    print(ses)\n",
    "    print()\n",
    "    renameTimestampsFiles(ses)\n",
    "    ses.checkSessionDirectory()"
   ]
  }
 ],
 "metadata": {
  "kernelspec": {
   "display_name": "Python 3",
   "language": "python",
   "name": "python3"
  },
  "language_info": {
   "codemirror_mode": {
    "name": "ipython",
    "version": 3
   },
   "file_extension": ".py",
   "mimetype": "text/x-python",
   "name": "python",
   "nbconvert_exporter": "python",
   "pygments_lexer": "ipython3",
   "version": "3.7.9"
  }
 },
 "nbformat": 4,
 "nbformat_minor": 4
}
