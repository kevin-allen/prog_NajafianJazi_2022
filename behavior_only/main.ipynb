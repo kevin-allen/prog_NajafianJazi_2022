{
 "cells": [
  {
   "cell_type": "markdown",
   "metadata": {},
   "source": [
    "# Main jupyter notebook to analyze the data from our first behavioral experiments using the AutoPI task\n",
    "\n",
    "All the data analysis perform for the manuscript are described below.\n",
    "\n",
    "This notebook will point to other notebooks that do specific parts of the analysis.\n",
    "\n",
    "The analysis can be divided into 2 main parts: \n",
    "\n",
    "* Training \n",
    "* Testing \n",
    "\n",
    "**Training** includes all the training steps to learn the tasks. In the manuscript, we focused mainly on learning the lever press response in the home base. This analysis is based on the data from the log files.\n",
    "\n",
    "**Testing** is the analysis of the AutoPI task. When the mice are going on the arena to press the lever.\n"
   ]
  },
  {
   "cell_type": "markdown",
   "metadata": {},
   "source": [
    "## Creating a project folder with a session list\n",
    "\n",
    "A directory was created a `project` folder in our database to store data related to this project. \n",
    "\n",
    "The project folder is `/adata/projects/autopi_behavior_2021`\n",
    "\n",
    "The `/adata/projects/autopi_behavior_2021` folder contains one folder per mouse (in our case a symbolic link to the animal folder located somewhere else). Within the `animal` folders, we have the `session` folders.\n",
    "\n",
    "The session available for analysis are listed in two files located in the the `/adata/projects/autopi_behavior_2021` folder:\n",
    "\n",
    "* training_sessions\n",
    "* testing_sessions\n",
    "\n",
    "We selected sessions for which we had a video sampling rate of 30 Hz and for which there were no obvious technical problem. Several sessions were not included because the sampling rate had dropped to 10 Hz or because there were synchronization problems between the video and the task log. These technical issues have now been solved but some sessions are best not used in the analysis. \n",
    "\n",
    "\n",
    "The `/adata/projects/autopi_behavior_2021` folder also contains a `results` folder where some of the results of the analysis are saved.\n",
    "\n",
    "The figures of the manuscript were generated directly from the notebooks that are listed below."
   ]
  },
  {
   "cell_type": "markdown",
   "metadata": {},
   "source": [
    "## The autopipy package\n",
    "\n",
    "We created a small python package to organize our code. \n",
    "The package is called [autopipy](https://github.com/kevin-allen/autopipy). This package takes care of most of the low level analysis.\n",
    "\n",
    "You can find information regarding the installation and use of the package in the `docs` folder of the repository. Once installed, you should be able to import the `autopipy` package in your python code."
   ]
  },
  {
   "cell_type": "markdown",
   "metadata": {},
   "source": [
    "# Training sessions\n",
    "\n",
    "The training sessions are simpler to analyze. We will mainly look at the content of the event log file to know how many lever presses were made for each session.\n",
    "\n",
    "* training.ipynb (Figure 1)\n"
   ]
  },
  {
   "cell_type": "markdown",
   "metadata": {},
   "source": [
    "# Testing sessions\n",
    "\n",
    "## Test the database\n",
    "\n",
    "The first thing we do is to make sure that we have all the data we need in our project. For example, we need a `log` and `protocol` file in each recording session. For the testing sessions, we also need the video files.\n",
    "\n",
    "These tests are implemented in the following notebook: \n",
    "\n",
    "* database_test.ipynb\n",
    "* video_log_synchro.ipynb"
   ]
  },
  {
   "cell_type": "markdown",
   "metadata": {},
   "source": [
    "## Mouse position tracking for testing sessions\n",
    "\n",
    "We need to track the position of the mice on the arena using a few trained deeplabcut networks.\n",
    "\n",
    "These steps are implemented in the following notebook:\n",
    "\n",
    "* position_tracking.ipynb\n",
    "\n",
    "It takes approximately 30 minutes per session to perform the analysis with a RTX 2080 ti NVIDIA GPU."
   ]
  },
  {
   "cell_type": "markdown",
   "metadata": {},
   "source": [
    "## Trial segmentation for testing sessions\n",
    "\n",
    "One important part of the analysis is to separate the recording sessions into trials.\n",
    "First we separate trials from the information in the log file. \n",
    "Second we extract the features of each trials using the position of the mouse, arena and bridge.\n",
    "\n",
    "This step is applied to testing sessions in the following notebook:\n",
    "\n",
    "* trial_segmentation.ipynb\n",
    "\n",
    "The data is stored as a pandas DataFrame in the results directory of the project (`trialsDF.csv`).\n"
   ]
  },
  {
   "cell_type": "markdown",
   "metadata": {},
   "source": [
    "## Plot the trial path for each testing session\n",
    "\n",
    "To give an idea of the data we have in each session, it would be helpful to have a summary plot for each session.\n",
    "\n",
    "We could save them as pdf files for now. This plot can be used in a mansucript or presentations.\n",
    "\n",
    "* session_trial_paths_figure.ipynb\n",
    "\n",
    "## Videos of selected trials \n",
    "\n",
    "We want to give an idea of how data are extracted from the video. A few examples of labeled videos are perfect for this.\n",
    "\n",
    "* trial_label_videos.ipynb\n"
   ]
  },
  {
   "cell_type": "markdown",
   "metadata": {},
   "source": [
    "## Eliminate trials with lever at periphery and save as trialsTrainSet\n",
    "\n",
    "I initially thought I might use a train and test set to fit models. In the end, I did not use the test set at all.\n",
    "\n",
    "I therefore put all the trials in the `trialsTrainSet.csv`.\n",
    "\n",
    "\n",
    "The following notebook, just take `TrialsDF.csv`, remove trials with lever at periphery and then save all trials in `trialsTrainSet.csv` \n",
    "\n",
    "* trial_train_test_split.ipynb\n",
    "\n"
   ]
  },
  {
   "cell_type": "markdown",
   "metadata": {},
   "source": [
    "## Initiale exploration of testing sessions\n",
    "\n",
    "This section we can start extracting information on the performance of the mice on the task.\n",
    "\n",
    "### Figure and stats comparing the search and homing path during light and dark trials.\n",
    "\n",
    "* light_dark_descriptive.ipynb (Figures 2, 3 and 4)\n",
    "* homing_error_light_dark_descriptive.ipynb (Figures 5 and 7)\n"
   ]
  },
  {
   "cell_type": "markdown",
   "metadata": {},
   "source": [
    "## Fan experiment\n",
    "\n",
    "In a subset of sessions, we a fan on from trial 35 to 70.If mice use odors from the home base to return home, the fan should make this strategy much more challenging.\n",
    "\n",
    "* olfactory_control_fan.ipynb (Figure 8)\n"
   ]
  },
  {
   "cell_type": "markdown",
   "metadata": {},
   "source": [
    "## Within session changes\n",
    "\n",
    "Are the mice getting better or worst during the course of a session.\n",
    "\n",
    "* within_session_changes.ipynb (Supp figure)\n"
   ]
  },
  {
   "cell_type": "markdown",
   "metadata": {},
   "source": [
    "## Performance per mice\n",
    "\n",
    "Can we identify some style that is preserved across sessions of the same mouse but varies between mice? Basically, can we build a model that predict the mouse id based on the different paths?"
   ]
  },
  {
   "cell_type": "markdown",
   "metadata": {},
   "source": [
    "## Homing paths when heading in the wrong direction\n",
    "\n",
    "Are the homing paths ending in the wrong direction at the periphery different from those ending in the correct direction?\n",
    "\n",
    "* homing_path_performance.ipynb\n"
   ]
  },
  {
   "cell_type": "markdown",
   "metadata": {},
   "source": [
    "## Prediction of homing error\n",
    "\n",
    "We want to know what variables are associated with homing error. Can the search path predict the homing path error?\n",
    "\n",
    "* predict_homing_error.ipynb (Figure 6)\n"
   ]
  },
  {
   "cell_type": "markdown",
   "metadata": {},
   "source": [
    "## Homing accuracy without trial specific information\n",
    "\n",
    "I want to show that mice use trial specific information when heading home. I want to eliminate the hypothesis that they just do a turn of approximately 180 degrees at the lever and head back. One way to test this is to swap the homing path between dark trials of a given session and recalculate the error at periphery.\n",
    "\n",
    "* within_trial_search_info_to_home.ipynb (Figure 9)"
   ]
  },
  {
   "cell_type": "markdown",
   "metadata": {},
   "source": [
    "## Memory test sessions\n",
    "\n",
    "We modified the test to see if mice can use what they see during light trial to navigate efficiently during dark trials.\n",
    "\n",
    "This might eventually be useful to study memory.\n",
    "\n",
    "The session available for analysis are listed in a file located in the the `/adata/projects/autopi_behavior_2021` folder:\n",
    "\n",
    "* memory_task.ipynb\n"
   ]
  },
  {
   "cell_type": "code",
   "execution_count": null,
   "metadata": {},
   "outputs": [],
   "source": []
  }
 ],
 "metadata": {
  "kernelspec": {
   "display_name": "Python 3 (ipykernel)",
   "language": "python",
   "name": "python3"
  },
  "language_info": {
   "codemirror_mode": {
    "name": "ipython",
    "version": 3
   },
   "file_extension": ".py",
   "mimetype": "text/x-python",
   "name": "python",
   "nbconvert_exporter": "python",
   "pygments_lexer": "ipython3",
   "version": "3.8.10"
  }
 },
 "nbformat": 4,
 "nbformat_minor": 4
}
