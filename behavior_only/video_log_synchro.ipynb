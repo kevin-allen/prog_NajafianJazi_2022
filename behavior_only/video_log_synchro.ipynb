{
 "cells": [
  {
   "cell_type": "markdown",
   "metadata": {},
   "source": [
    "# Video log syncrho\n",
    "\n",
    "We had some problems with the synchronization of the video frame with the ROS time.\n",
    "\n",
    "The program recording the video also creates a log file in which we should have a ROS time for each video frame.\n",
    "\n",
    "Here are the tests that we should do.\n",
    "\n",
    "* Is the number of video frames the same as the number of entries in the log file?\n",
    "* If there are missing frames in the log, how many?\n",
    "* Is the mouse near the lever when the lever is pressed?\n",
    "* Are there numerous long pause in the video?\n",
    "\n",
    "The aim of the notebook is to check which sessions have synchronization problems. \n",
    "\n",
    "We will fix the problem when possible by editing the log. We will exclude sessions with more serious syncrhonization issues.\n",
    "\n"
   ]
  },
  {
   "cell_type": "code",
   "execution_count": 9,
   "metadata": {},
   "outputs": [],
   "source": [
    "import pandas as pd\n",
    "import numpy as np\n",
    "import os.path\n",
    "import shutil\n",
    "from autopipy.project import Project\n",
    "from autopipy.session import Session\n",
    "from autopipy.navPath import NavPath\n",
    "import importlib\n",
    "\n",
    "import autopipy\n",
    "importlib.reload(autopipy.project)\n",
    "importlib.reload(autopipy.session)\n",
    "importlib.reload(autopipy.navPath)\n",
    "\n",
    "from autopipy.session import Session\n",
    "from autopipy.project import Project\n",
    "from autopipy.navPath import NavPath\n",
    "importlib.reload(autopipy.trial)\n",
    "from autopipy.trial import Trial\n",
    "\n"
   ]
  },
  {
   "cell_type": "code",
   "execution_count": 10,
   "metadata": {},
   "outputs": [
    {
     "name": "stdout",
     "output_type": "stream",
     "text": [
      "Project name: autopi_behavior_2021\n",
      "dataPath: /adata/projects/autopi_behavior_2021\n",
      "dlcModelPath: /adata/models\n",
      "Reading /adata/projects/autopi_behavior_2021/memory_sessions\n",
      "We have 3 recording sessions\n"
     ]
    }
   ],
   "source": [
    "projectName=\"autopi_behavior_2021\"\n",
    "dataPath=\"/adata/projects/autopi_behavior_2021\"\n",
    "dlcModelPath=\"/adata/models\"\n",
    "myProject = Project(name=projectName,dataPath=dataPath,dlcModelPath=dlcModelPath)\n",
    "\n",
    "fn=myProject.dataPath+\"/memory_sessions\"\n",
    "print(\"Reading \" + fn)\n",
    "sessionNames = pd.read_csv(fn) # this will be a pandas dataframe\n",
    "myProject.createSessionList(sessionNameList=sessionNames.sessionName.to_list())\n",
    "print(\"We have {} recording sessions\".format(len(myProject.sessionList)))"
   ]
  },
  {
   "cell_type": "markdown",
   "metadata": {},
   "source": [
    "## Number of video frames and log entries\n"
   ]
  },
  {
   "cell_type": "markdown",
   "metadata": {},
   "source": [
    "We will check if the length of the video and log are the same. Also, we check for potential breaks in the video stream.\n",
    "\n",
    "For the moment, we will only keep sessions for which we are sure that the synchronization worked."
   ]
  },
  {
   "cell_type": "code",
   "execution_count": 11,
   "metadata": {},
   "outputs": [
    {
     "name": "stdout",
     "output_type": "stream",
     "text": [
      "0 mn9686-12052021-1702, video len: 109008, video-log len:109008, first frame: 0, max log gap: nan, mean time diff: 0.0335, max time diff: 0.709, num problem diff: 1, frame rate: 29.8\n",
      "1 TYY5622-12052021-1805, video len: 109197, video-log len:109197, first frame: 0, max log gap: nan, mean time diff: 0.0335, max time diff: 0.175, num problem diff: 0, frame rate: 29.8\n",
      "2 TYY5630-12052021-1909, video len: 109478, video-log len:109478, first frame: 0, max log gap: nan, mean time diff: 0.0335, max time diff: 0.692, num problem diff: 1, frame rate: 29.8\n"
     ]
    }
   ],
   "source": [
    "count = 0\n",
    "for ses in myProject.sessionList:\n",
    "    print(\"{}\".format(int(count)),end = \" \")\n",
    "    ses.testVideoLogSynchronization()\n",
    "    count+=1"
   ]
  },
  {
   "cell_type": "code",
   "execution_count": 7,
   "metadata": {},
   "outputs": [
    {
     "name": "stdout",
     "output_type": "stream",
     "text": [
      "<class 'autopipy.session.Session'>\n",
      "name = TYY5630-12052021-1909\n",
      "path = /adata/projects/autopi_behavior_2021/TYY5630/TYY5630-12052021-1909\n",
      "subject = TYY5630\n",
      "sessionDateTime = 2021-05-12 19:09:00\n",
      "fileBase = /adata/projects/autopi_behavior_2021/TYY5630/TYY5630-12052021-1909/TYY5630-12052021-1909\n",
      "arenaTopVideo = True\n",
      "homeBaseVideo = True\n",
      "requiredFileExts = ['log', 'protocol', 'arena_top.avi', 'arena_top.log', 'home_base.avi', 'home_base.log']\n",
      "dirOk = False\n",
      "arenaTopCropped = False\n",
      "fileNames = {'log': '/adata/projects/autopi_behavior_2021/TYY5630/TYY5630-12052021-1909/TYY5630-12052021-1909.log', 'protocol': '/adata/projects/autopi_behavior_2021/TYY5630/TYY5630-12052021-1909/TYY5630-12052021-1909.protocol', 'arena_top.avi': '/adata/projects/autopi_behavior_2021/TYY5630/TYY5630-12052021-1909/TYY5630-12052021-1909.arena_top.avi', 'arena_top.log': '/adata/projects/autopi_behavior_2021/TYY5630/TYY5630-12052021-1909/TYY5630-12052021-1909.arena_top.log', 'arena_top.cropped.avi': '/adata/projects/autopi_behavior_2021/TYY5630/TYY5630-12052021-1909/TYY5630-12052021-1909.arena_top.cropped.avi', 'mouseLeverPosition.csv': '/adata/projects/autopi_behavior_2021/TYY5630/TYY5630-12052021-1909/TYY5630-12052021-1909.mouseLeverPosition.csv', 'arenaCoordinates': '/adata/projects/autopi_behavior_2021/TYY5630/TYY5630-12052021-1909/arenaCoordinates', 'bridgeCoordinates': '/adata/projects/autopi_behavior_2021/TYY5630/TYY5630-12052021-1909/bridgeCoordinates'}\n",
      "log = None\n",
      "mouseLeverPosi = None\n",
      "videoLog =         frame_number          time\n",
      "0                  0  1.620839e+09\n",
      "1                  1  1.620839e+09\n",
      "2                  2  1.620839e+09\n",
      "3                  3  1.620839e+09\n",
      "4                  4  1.620839e+09\n",
      "...              ...           ...\n",
      "109473        109473  1.620843e+09\n",
      "109474        109474  1.620843e+09\n",
      "109475        109475  1.620843e+09\n",
      "109476        109476  1.620843e+09\n",
      "109477        109477  1.620843e+09\n",
      "\n",
      "[109478 rows x 2 columns]\n",
      "arenaCoordinates = None\n",
      "bridgeCoordinates = None\n",
      "trials = None\n",
      "trialList = None\n",
      "syncrhoDifference = 0\n",
      "synchroProblemIndices = Int64Index([0], dtype='int64')\n",
      "synchroFirstFrame = 0\n",
      "synchroGapLengths = Series([], Name: frame_number, dtype: float64)\n",
      "synchroMeanFrameTimeDiff = 0.03352316491011077\n",
      "synchroMaxFrameTimeDiff = 0.6924159526824951\n",
      "synchroProblemTimeDiff = 1\n",
      "synchroMeanFrameRate = 29.830391522404\n"
     ]
    }
   ],
   "source": []
  },
  {
   "cell_type": "code",
   "execution_count": null,
   "metadata": {},
   "outputs": [],
   "source": []
  }
 ],
 "metadata": {
  "kernelspec": {
   "display_name": "Python 3",
   "language": "python",
   "name": "python3"
  },
  "language_info": {
   "codemirror_mode": {
    "name": "ipython",
    "version": 3
   },
   "file_extension": ".py",
   "mimetype": "text/x-python",
   "name": "python",
   "nbconvert_exporter": "python",
   "pygments_lexer": "ipython3",
   "version": "3.8.10"
  }
 },
 "nbformat": 4,
 "nbformat_minor": 4
}
