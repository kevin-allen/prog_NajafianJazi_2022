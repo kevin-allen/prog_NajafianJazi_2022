{
 "cells": [
  {
   "cell_type": "markdown",
   "id": "63219ef5",
   "metadata": {},
   "source": [
    "# Analysis of the lever position memory task\n",
    "\n",
    "The first pilot experiment is performed by Moritz and Maryam.\n",
    "\n",
    "Four mice were trained on the autopi task as usual. The main difference is that the lever in darkness is located at the same position as it was on the previous light trial. On 1/4 dark trials, the lever position changes.\n",
    "\n",
    "We want to see if mice choose to search where the lever should be according to the training rule.\n",
    "We can compare search path for normal dark trials and that of probe dark trials"
   ]
  },
  {
   "cell_type": "markdown",
   "id": "06e312dc",
   "metadata": {},
   "source": [
    "## Create a project object with a list of session"
   ]
  },
  {
   "cell_type": "code",
   "execution_count": 1,
   "id": "dcad204b",
   "metadata": {},
   "outputs": [
    {
     "name": "stderr",
     "output_type": "stream",
     "text": [
      "/home/moritz/anaconda3/envs/DLC-GPU/lib/python3.7/site-packages/tensorflow/python/framework/dtypes.py:526: FutureWarning: Passing (type, 1) or '1type' as a synonym of type is deprecated; in a future version of numpy, it will be understood as (type, (1,)) / '(1,)type'.\n",
      "  _np_qint8 = np.dtype([(\"qint8\", np.int8, 1)])\n",
      "/home/moritz/anaconda3/envs/DLC-GPU/lib/python3.7/site-packages/tensorflow/python/framework/dtypes.py:527: FutureWarning: Passing (type, 1) or '1type' as a synonym of type is deprecated; in a future version of numpy, it will be understood as (type, (1,)) / '(1,)type'.\n",
      "  _np_quint8 = np.dtype([(\"quint8\", np.uint8, 1)])\n",
      "/home/moritz/anaconda3/envs/DLC-GPU/lib/python3.7/site-packages/tensorflow/python/framework/dtypes.py:528: FutureWarning: Passing (type, 1) or '1type' as a synonym of type is deprecated; in a future version of numpy, it will be understood as (type, (1,)) / '(1,)type'.\n",
      "  _np_qint16 = np.dtype([(\"qint16\", np.int16, 1)])\n",
      "/home/moritz/anaconda3/envs/DLC-GPU/lib/python3.7/site-packages/tensorflow/python/framework/dtypes.py:529: FutureWarning: Passing (type, 1) or '1type' as a synonym of type is deprecated; in a future version of numpy, it will be understood as (type, (1,)) / '(1,)type'.\n",
      "  _np_quint16 = np.dtype([(\"quint16\", np.uint16, 1)])\n",
      "/home/moritz/anaconda3/envs/DLC-GPU/lib/python3.7/site-packages/tensorflow/python/framework/dtypes.py:530: FutureWarning: Passing (type, 1) or '1type' as a synonym of type is deprecated; in a future version of numpy, it will be understood as (type, (1,)) / '(1,)type'.\n",
      "  _np_qint32 = np.dtype([(\"qint32\", np.int32, 1)])\n",
      "/home/moritz/anaconda3/envs/DLC-GPU/lib/python3.7/site-packages/tensorflow/python/framework/dtypes.py:535: FutureWarning: Passing (type, 1) or '1type' as a synonym of type is deprecated; in a future version of numpy, it will be understood as (type, (1,)) / '(1,)type'.\n",
      "  np_resource = np.dtype([(\"resource\", np.ubyte, 1)])\n"
     ]
    },
    {
     "name": "stdout",
     "output_type": "stream",
     "text": [
      "DLC loaded in light mode; you cannot use any GUI (labeling, relabeling and standalone GUI)\n"
     ]
    }
   ],
   "source": [
    "import os\n",
    "os.environ[\"DLClight\"]=\"True\" # if you don't need dlb gui\n",
    "import numpy as np\n",
    "import pandas as pd\n",
    "import os.path\n",
    "import autopipy\n",
    "import importlib\n",
    "import pickle\n",
    "from autopipy.project import Project\n",
    "from autopipy.video_utilities import positionTrackingFromArenaTopVideo\n",
    "import matplotlib.pyplot as plt"
   ]
  },
  {
   "cell_type": "code",
   "execution_count": 2,
   "id": "bc14da01",
   "metadata": {},
   "outputs": [
    {
     "name": "stdout",
     "output_type": "stream",
     "text": [
      "Project name: autopi_behavior_2021\n",
      "dataPath: /adata/projects/autopi_behavior_2021\n",
      "dlcModelPath: /adata/models\n"
     ]
    }
   ],
   "source": [
    "projectName=\"autopi_behavior_2021\"\n",
    "#projectName=\"memory_sessions_complete_list\"\n",
    "dataPath=\"/adata/projects/autopi_behavior_2021\"\n",
    "dlcModelPath=\"/adata/models\"\n",
    "bridgeModel1 =\"bridgeDetection_640_480-Allen-2021-02-10\"\n",
    "mouseLeverModel =\"arena_top-Allen-2019-10-30\"\n",
    "bridgeModel2 = \"bridgeDetection_480_480-Allen-2021-01-23\"\n",
    "arenaMinRadius= 190\n",
    "arenaMaxRadius= 230\n",
    "myProject = Project(name=projectName,dataPath=dataPath,dlcModelPath=dlcModelPath)"
   ]
  },
  {
   "cell_type": "markdown",
   "id": "1389016b",
   "metadata": {},
   "source": [
    "Create a list of sessions with this protocol. \n",
    "\n",
    "The list is loaded from a file in our project directory.\n",
    "\n",
    "To add sessions, just add them to this file"
   ]
  },
  {
   "cell_type": "code",
   "execution_count": 3,
   "id": "b1697039",
   "metadata": {},
   "outputs": [
    {
     "name": "stdout",
     "output_type": "stream",
     "text": [
      "Reading /adata/projects/autopi_behavior_2021/memory_sessions_complete_list\n",
      "We have 50 recording sessions\n"
     ]
    },
    {
     "data": {
      "text/html": [
       "<div>\n",
       "<style scoped>\n",
       "    .dataframe tbody tr th:only-of-type {\n",
       "        vertical-align: middle;\n",
       "    }\n",
       "\n",
       "    .dataframe tbody tr th {\n",
       "        vertical-align: top;\n",
       "    }\n",
       "\n",
       "    .dataframe thead th {\n",
       "        text-align: right;\n",
       "    }\n",
       "</style>\n",
       "<table border=\"1\" class=\"dataframe\">\n",
       "  <thead>\n",
       "    <tr style=\"text-align: right;\">\n",
       "      <th></th>\n",
       "      <th>sessionName</th>\n",
       "    </tr>\n",
       "  </thead>\n",
       "  <tbody>\n",
       "    <tr>\n",
       "      <th>0</th>\n",
       "      <td>mn9686-26052021-1414</td>\n",
       "    </tr>\n",
       "    <tr>\n",
       "      <th>1</th>\n",
       "      <td>mn9686-25052021-1448</td>\n",
       "    </tr>\n",
       "    <tr>\n",
       "      <th>2</th>\n",
       "      <td>TYY5622-26052021-1531</td>\n",
       "    </tr>\n",
       "    <tr>\n",
       "      <th>3</th>\n",
       "      <td>TYY5622-25052021-1554</td>\n",
       "    </tr>\n",
       "    <tr>\n",
       "      <th>4</th>\n",
       "      <td>TYY9524-26052021-1748</td>\n",
       "    </tr>\n",
       "    <tr>\n",
       "      <th>5</th>\n",
       "      <td>TYY9524-25052021-1804</td>\n",
       "    </tr>\n",
       "    <tr>\n",
       "      <th>6</th>\n",
       "      <td>TYY5630-26052021-1641</td>\n",
       "    </tr>\n",
       "    <tr>\n",
       "      <th>7</th>\n",
       "      <td>TYY5630-25052021-1700</td>\n",
       "    </tr>\n",
       "    <tr>\n",
       "      <th>8</th>\n",
       "      <td>mn9686-14052021-1501</td>\n",
       "    </tr>\n",
       "    <tr>\n",
       "      <th>9</th>\n",
       "      <td>mn9686-16052021-1443</td>\n",
       "    </tr>\n",
       "    <tr>\n",
       "      <th>10</th>\n",
       "      <td>mn9686-19052021-1603</td>\n",
       "    </tr>\n",
       "    <tr>\n",
       "      <th>11</th>\n",
       "      <td>mn9686-17052021-1627</td>\n",
       "    </tr>\n",
       "    <tr>\n",
       "      <th>12</th>\n",
       "      <td>mn9686-20052021-1411</td>\n",
       "    </tr>\n",
       "    <tr>\n",
       "      <th>13</th>\n",
       "      <td>mn9686-21052021-1246</td>\n",
       "    </tr>\n",
       "    <tr>\n",
       "      <th>14</th>\n",
       "      <td>mn9686-27052021-1448</td>\n",
       "    </tr>\n",
       "    <tr>\n",
       "      <th>15</th>\n",
       "      <td>mn9686-28052021-1245</td>\n",
       "    </tr>\n",
       "    <tr>\n",
       "      <th>16</th>\n",
       "      <td>TYY5622-14052021-1609</td>\n",
       "    </tr>\n",
       "    <tr>\n",
       "      <th>17</th>\n",
       "      <td>TYY5622-16052021-1621</td>\n",
       "    </tr>\n",
       "    <tr>\n",
       "      <th>18</th>\n",
       "      <td>TYY5622-17052021-1731</td>\n",
       "    </tr>\n",
       "    <tr>\n",
       "      <th>19</th>\n",
       "      <td>TYY5622-19052021-1718</td>\n",
       "    </tr>\n",
       "    <tr>\n",
       "      <th>20</th>\n",
       "      <td>TYY5622-21052021-1353</td>\n",
       "    </tr>\n",
       "    <tr>\n",
       "      <th>21</th>\n",
       "      <td>TYY5622-24052021-1613</td>\n",
       "    </tr>\n",
       "    <tr>\n",
       "      <th>22</th>\n",
       "      <td>TYY5622-27052021-1525</td>\n",
       "    </tr>\n",
       "    <tr>\n",
       "      <th>23</th>\n",
       "      <td>TYY5622-28052021-1405</td>\n",
       "    </tr>\n",
       "    <tr>\n",
       "      <th>24</th>\n",
       "      <td>TYY5630-14052021-1818</td>\n",
       "    </tr>\n",
       "    <tr>\n",
       "      <th>25</th>\n",
       "      <td>TYY5630-21052021-1457</td>\n",
       "    </tr>\n",
       "    <tr>\n",
       "      <th>26</th>\n",
       "      <td>TYY5630-24052021-1407</td>\n",
       "    </tr>\n",
       "    <tr>\n",
       "      <th>27</th>\n",
       "      <td>TYY5630-27052021-1633</td>\n",
       "    </tr>\n",
       "    <tr>\n",
       "      <th>28</th>\n",
       "      <td>TYY5630-28052021-1519</td>\n",
       "    </tr>\n",
       "    <tr>\n",
       "      <th>29</th>\n",
       "      <td>TYY9524-14052021-2029</td>\n",
       "    </tr>\n",
       "    <tr>\n",
       "      <th>30</th>\n",
       "      <td>TYY9524-19052021-1927</td>\n",
       "    </tr>\n",
       "    <tr>\n",
       "      <th>31</th>\n",
       "      <td>TYY9524-20052021-1722</td>\n",
       "    </tr>\n",
       "    <tr>\n",
       "      <th>32</th>\n",
       "      <td>TYY9524-21052021-1600</td>\n",
       "    </tr>\n",
       "    <tr>\n",
       "      <th>33</th>\n",
       "      <td>TYY9524-24052021-1302</td>\n",
       "    </tr>\n",
       "    <tr>\n",
       "      <th>34</th>\n",
       "      <td>TYY9524-25052021-1804</td>\n",
       "    </tr>\n",
       "    <tr>\n",
       "      <th>35</th>\n",
       "      <td>TYY9524-27052021-1743</td>\n",
       "    </tr>\n",
       "    <tr>\n",
       "      <th>36</th>\n",
       "      <td>TYY9524-28052021-1628</td>\n",
       "    </tr>\n",
       "    <tr>\n",
       "      <th>37</th>\n",
       "      <td>mn9686-01062021-1333</td>\n",
       "    </tr>\n",
       "    <tr>\n",
       "      <th>38</th>\n",
       "      <td>mn9686-02062021-1311</td>\n",
       "    </tr>\n",
       "    <tr>\n",
       "      <th>39</th>\n",
       "      <td>TYY5622-01062021-1453</td>\n",
       "    </tr>\n",
       "    <tr>\n",
       "      <th>40</th>\n",
       "      <td>TYY5622-02062021-1418</td>\n",
       "    </tr>\n",
       "    <tr>\n",
       "      <th>41</th>\n",
       "      <td>TYY5630-01062021-1559</td>\n",
       "    </tr>\n",
       "    <tr>\n",
       "      <th>42</th>\n",
       "      <td>TYY5630-02062021-1525</td>\n",
       "    </tr>\n",
       "    <tr>\n",
       "      <th>43</th>\n",
       "      <td>TYY9524-01062021-1704</td>\n",
       "    </tr>\n",
       "    <tr>\n",
       "      <th>44</th>\n",
       "      <td>TYY9524-02062021-1642</td>\n",
       "    </tr>\n",
       "    <tr>\n",
       "      <th>45</th>\n",
       "      <td>mn9686-03062021-1302</td>\n",
       "    </tr>\n",
       "    <tr>\n",
       "      <th>46</th>\n",
       "      <td>mn9686-04062021-1317</td>\n",
       "    </tr>\n",
       "    <tr>\n",
       "      <th>47</th>\n",
       "      <td>TYY5622-03062021-1411</td>\n",
       "    </tr>\n",
       "    <tr>\n",
       "      <th>48</th>\n",
       "      <td>TYY5630-03062021-1518</td>\n",
       "    </tr>\n",
       "    <tr>\n",
       "      <th>49</th>\n",
       "      <td>TYY9524-03062021-1625</td>\n",
       "    </tr>\n",
       "  </tbody>\n",
       "</table>\n",
       "</div>"
      ],
      "text/plain": [
       "              sessionName\n",
       "0    mn9686-26052021-1414\n",
       "1    mn9686-25052021-1448\n",
       "2   TYY5622-26052021-1531\n",
       "3   TYY5622-25052021-1554\n",
       "4   TYY9524-26052021-1748\n",
       "5   TYY9524-25052021-1804\n",
       "6   TYY5630-26052021-1641\n",
       "7   TYY5630-25052021-1700\n",
       "8    mn9686-14052021-1501\n",
       "9    mn9686-16052021-1443\n",
       "10   mn9686-19052021-1603\n",
       "11   mn9686-17052021-1627\n",
       "12   mn9686-20052021-1411\n",
       "13   mn9686-21052021-1246\n",
       "14   mn9686-27052021-1448\n",
       "15   mn9686-28052021-1245\n",
       "16  TYY5622-14052021-1609\n",
       "17  TYY5622-16052021-1621\n",
       "18  TYY5622-17052021-1731\n",
       "19  TYY5622-19052021-1718\n",
       "20  TYY5622-21052021-1353\n",
       "21  TYY5622-24052021-1613\n",
       "22  TYY5622-27052021-1525\n",
       "23  TYY5622-28052021-1405\n",
       "24  TYY5630-14052021-1818\n",
       "25  TYY5630-21052021-1457\n",
       "26  TYY5630-24052021-1407\n",
       "27  TYY5630-27052021-1633\n",
       "28  TYY5630-28052021-1519\n",
       "29  TYY9524-14052021-2029\n",
       "30  TYY9524-19052021-1927\n",
       "31  TYY9524-20052021-1722\n",
       "32  TYY9524-21052021-1600\n",
       "33  TYY9524-24052021-1302\n",
       "34  TYY9524-25052021-1804\n",
       "35  TYY9524-27052021-1743\n",
       "36  TYY9524-28052021-1628\n",
       "37   mn9686-01062021-1333\n",
       "38   mn9686-02062021-1311\n",
       "39  TYY5622-01062021-1453\n",
       "40  TYY5622-02062021-1418\n",
       "41  TYY5630-01062021-1559\n",
       "42  TYY5630-02062021-1525\n",
       "43  TYY9524-01062021-1704\n",
       "44  TYY9524-02062021-1642\n",
       "45   mn9686-03062021-1302\n",
       "46   mn9686-04062021-1317\n",
       "47  TYY5622-03062021-1411\n",
       "48  TYY5630-03062021-1518\n",
       "49  TYY9524-03062021-1625"
      ]
     },
     "execution_count": 3,
     "metadata": {},
     "output_type": "execute_result"
    }
   ],
   "source": [
    "fn=myProject.dataPath+\"/memory_sessions_complete_list\"\n",
    "print(\"Reading \" + fn)\n",
    "sessionNamesTesting = pd.read_csv(fn) # this will be a pandas dataframe\n",
    "\n",
    "# create a list of session object in the project object\n",
    "myProject.createSessionList(sessionNameList=sessionNamesTesting.sessionName.to_list())\n",
    "print(\"We have {} recording sessions\".format(len(myProject.sessionList)))\n",
    "sessionNamesTesting"
   ]
  },
  {
   "cell_type": "markdown",
   "id": "0e98306b",
   "metadata": {},
   "source": [
    "## Check if all the files needed in the testing session directories are there\n",
    "\n",
    "The `session` objects have a method call `checkSessionDirectory`. \n",
    "\n",
    "If a file is missing, the function will raise an exception. Fix the problem manually and repeat until you don't have any exceptions."
   ]
  },
  {
   "cell_type": "code",
   "execution_count": 4,
   "id": "5b971e74",
   "metadata": {},
   "outputs": [
    {
     "name": "stdout",
     "output_type": "stream",
     "text": [
      "mn9686-26052021-1414, video len: 109156, video-log:0, first frame: 0, max log gap: nan, mean time diff: 0.0335, max time diff: 0.163, num problem diff: 0, frame rate: 29.8\n",
      "mn9686-25052021-1448, video len: 116184, video-log:0, first frame: 0, max log gap: nan, mean time diff: 0.0335, max time diff: 1.46, num problem diff: 3, frame rate: 29.8\n",
      "TYY5622-26052021-1531, video len: 114139, video-log:0, first frame: 0, max log gap: nan, mean time diff: 0.0337, max time diff: 4.32, num problem diff: 29, frame rate: 29.7\n",
      "TYY5622-25052021-1554, video len: 113897, video-log:0, first frame: 0, max log gap: nan, mean time diff: 0.0336, max time diff: 2.89, num problem diff: 11, frame rate: 29.8\n",
      "TYY9524-26052021-1748, video len: 111293, video-log:0, first frame: 0, max log gap: nan, mean time diff: 0.0337, max time diff: 2.24, num problem diff: 20, frame rate: 29.7\n",
      "TYY9524-25052021-1804, video len: 111015, video-log:0, first frame: 0, max log gap: nan, mean time diff: 0.0337, max time diff: 1.4, num problem diff: 26, frame rate: 29.7\n",
      "TYY5630-26052021-1641, video len: 112596, video-log:0, first frame: 0, max log gap: nan, mean time diff: 0.0337, max time diff: 2.63, num problem diff: 22, frame rate: 29.7\n",
      "TYY5630-25052021-1700, video len: 111214, video-log:0, first frame: 0, max log gap: nan, mean time diff: 0.0336, max time diff: 1.96, num problem diff: 16, frame rate: 29.7\n",
      "mn9686-14052021-1501, video len: 112085, video-log:0, first frame: 0, max log gap: nan, mean time diff: 0.0335, max time diff: 0.18, num problem diff: 0, frame rate: 29.8\n",
      "mn9686-16052021-1443, video len: 157232, video-log:0, first frame: 0, max log gap: nan, mean time diff: 0.0335, max time diff: 0.703, num problem diff: 1, frame rate: 29.8\n",
      "mn9686-19052021-1603, video len: 30706, video-log:0, first frame: 0, max log gap: nan, mean time diff: 0.0335, max time diff: 0.177, num problem diff: 0, frame rate: 29.8\n",
      "mn9686-17052021-1627, video len: 111370, video-log:0, first frame: 0, max log gap: nan, mean time diff: 0.0337, max time diff: 0.985, num problem diff: 32, frame rate: 29.7\n",
      "mn9686-20052021-1411, video len: 109203, video-log:0, first frame: 0, max log gap: nan, mean time diff: 0.0335, max time diff: 0.668, num problem diff: 1, frame rate: 29.8\n",
      "mn9686-21052021-1246, video len: 109490, video-log:0, first frame: 0, max log gap: nan, mean time diff: 0.0335, max time diff: 0.176, num problem diff: 0, frame rate: 29.8\n",
      "mn9686-27052021-1448, video len: 58001, video-log:0, first frame: 0, max log gap: nan, mean time diff: 0.0335, max time diff: 0.498, num problem diff: 3, frame rate: 29.8\n",
      "mn9686-28052021-1245, video len: 126494, video-log:0, first frame: 0, max log gap: nan, mean time diff: 0.0367, max time diff: 16.4, num problem diff: 301, frame rate: 27.2\n",
      "TYY5622-14052021-1609, video len: 109648, video-log:0, first frame: 0, max log gap: nan, mean time diff: 0.0335, max time diff: 0.676, num problem diff: 1, frame rate: 29.8\n",
      "TYY5622-16052021-1621, video len: 102025, video-log:0, first frame: 0, max log gap: nan, mean time diff: 0.0335, max time diff: 0.158, num problem diff: 0, frame rate: 29.8\n",
      "TYY5622-17052021-1731, video len: 110440, video-log:0, first frame: 0, max log gap: nan, mean time diff: 0.0337, max time diff: 1.79, num problem diff: 38, frame rate: 29.7\n",
      "TYY5622-19052021-1718, video len: 109142, video-log:0, first frame: 0, max log gap: nan, mean time diff: 0.0335, max time diff: 0.2, num problem diff: 0, frame rate: 29.8\n",
      "TYY5622-21052021-1353, video len: 109536, video-log:0, first frame: 0, max log gap: nan, mean time diff: 0.0335, max time diff: 0.161, num problem diff: 0, frame rate: 29.8\n",
      "TYY5622-24052021-1613, video len: 110531, video-log:0, first frame: 0, max log gap: nan, mean time diff: 0.0335, max time diff: 0.154, num problem diff: 0, frame rate: 29.8\n",
      "TYY5622-27052021-1525, video len: 112951, video-log:0, first frame: 0, max log gap: nan, mean time diff: 0.0337, max time diff: 3.33, num problem diff: 18, frame rate: 29.7\n",
      "TYY5622-28052021-1405, video len: 123767, video-log:0, first frame: 0, max log gap: nan, mean time diff: 0.0349, max time diff: 13.6, num problem diff: 68, frame rate: 28.7\n",
      "TYY5630-14052021-1818, video len: 109135, video-log:0, first frame: 0, max log gap: nan, mean time diff: 0.0335, max time diff: 0.173, num problem diff: 0, frame rate: 29.8\n",
      "TYY5630-21052021-1457, video len: 109388, video-log:0, first frame: 0, max log gap: nan, mean time diff: 0.0335, max time diff: 0.686, num problem diff: 1, frame rate: 29.8\n",
      "TYY5630-24052021-1407, video len: 109325, video-log:0, first frame: 0, max log gap: nan, mean time diff: 0.0335, max time diff: 0.151, num problem diff: 0, frame rate: 29.8\n",
      "TYY5630-27052021-1633, video len: 121177, video-log:0, first frame: 0, max log gap: nan, mean time diff: 0.0345, max time diff: 8.65, num problem diff: 73, frame rate: 29.0\n",
      "TYY5630-28052021-1519, video len: 107772, video-log:0, first frame: 0, max log gap: nan, mean time diff: 0.0339, max time diff: 3.54, num problem diff: 46, frame rate: 29.5\n",
      "TYY9524-14052021-2029, video len: 37083, video-log:0, first frame: 0, max log gap: nan, mean time diff: 0.0335, max time diff: 0.178, num problem diff: 0, frame rate: 29.8\n",
      "TYY9524-19052021-1927, video len: 82192, video-log:0, first frame: 0, max log gap: nan, mean time diff: 0.0335, max time diff: 0.706, num problem diff: 1, frame rate: 29.8\n",
      "TYY9524-20052021-1722, video len: 109217, video-log:0, first frame: 0, max log gap: nan, mean time diff: 0.0335, max time diff: 0.189, num problem diff: 0, frame rate: 29.8\n",
      "TYY9524-21052021-1600, video len: 109577, video-log:0, first frame: 0, max log gap: nan, mean time diff: 0.0335, max time diff: 0.67, num problem diff: 1, frame rate: 29.8\n",
      "TYY9524-24052021-1302, video len: 109490, video-log:0, first frame: 0, max log gap: nan, mean time diff: 0.0335, max time diff: 0.679, num problem diff: 1, frame rate: 29.8\n",
      "TYY9524-25052021-1804, video len: 111015, video-log:0, first frame: 0, max log gap: nan, mean time diff: 0.0337, max time diff: 1.4, num problem diff: 26, frame rate: 29.7\n",
      "TYY9524-27052021-1743, video len: 118316, video-log:0, first frame: 0, max log gap: nan, mean time diff: 0.0346, max time diff: 6.74, num problem diff: 103, frame rate: 28.9\n",
      "TYY9524-28052021-1628, video len: 109906, video-log:0, first frame: 0, max log gap: nan, mean time diff: 0.0335, max time diff: 0.192, num problem diff: 0, frame rate: 29.8\n",
      "mn9686-01062021-1333, video len: 122735, video-log:0, first frame: 0, max log gap: nan, mean time diff: 0.0335, max time diff: 0.195, num problem diff: 0, frame rate: 29.8\n",
      "mn9686-02062021-1311, video len: 109640, video-log:0, first frame: 0, max log gap: nan, mean time diff: 0.0335, max time diff: 0.183, num problem diff: 0, frame rate: 29.8\n",
      "TYY5622-01062021-1453, video len: 108916, video-log:0, first frame: 0, max log gap: nan, mean time diff: 0.0335, max time diff: 0.17, num problem diff: 0, frame rate: 29.8\n",
      "TYY5622-02062021-1418, video len: 109431, video-log:0, first frame: 0, max log gap: nan, mean time diff: 0.0335, max time diff: 0.179, num problem diff: 0, frame rate: 29.8\n",
      "TYY5630-01062021-1559, video len: 109435, video-log:0, first frame: 0, max log gap: nan, mean time diff: 0.0335, max time diff: 0.165, num problem diff: 0, frame rate: 29.8\n",
      "TYY5630-02062021-1525, video len: 109089, video-log:0, first frame: 0, max log gap: nan, mean time diff: 0.0335, max time diff: 0.681, num problem diff: 1, frame rate: 29.8\n",
      "TYY9524-01062021-1704, video len: 106795, video-log:0, first frame: 0, max log gap: nan, mean time diff: 0.0343, max time diff: 6.6, num problem diff: 39, frame rate: 29.2\n",
      "TYY9524-02062021-1642, video len: 108755, video-log:0, first frame: 0, max log gap: nan, mean time diff: 0.0335, max time diff: 0.156, num problem diff: 0, frame rate: 29.8\n",
      "mn9686-03062021-1302, video len: 109440, video-log:0, first frame: 0, max log gap: nan, mean time diff: 0.0335, max time diff: 0.171, num problem diff: 0, frame rate: 29.8\n",
      "mn9686-04062021-1317, video len: 109558, video-log:0, first frame: 0, max log gap: nan, mean time diff: 0.0335, max time diff: 0.169, num problem diff: 0, frame rate: 29.8\n",
      "TYY5622-03062021-1411, video len: 108926, video-log:0, first frame: 0, max log gap: nan, mean time diff: 0.0335, max time diff: 0.183, num problem diff: 0, frame rate: 29.8\n",
      "TYY5630-03062021-1518, video len: 109224, video-log:0, first frame: 0, max log gap: nan, mean time diff: 0.0335, max time diff: 0.185, num problem diff: 0, frame rate: 29.8\n",
      "TYY9524-03062021-1625, video len: 107793, video-log:0, first frame: 0, max log gap: nan, mean time diff: 0.0335, max time diff: 0.191, num problem diff: 0, frame rate: 29.8\n"
     ]
    }
   ],
   "source": [
    "for ses in myProject.sessionList :\n",
    "    ses.checkSessionDirectory()\n",
    "    ses.testVideoLogSynchronization()"
   ]
  },
  {
   "cell_type": "markdown",
   "id": "08d96d6d",
   "metadata": {},
   "source": [
    "## Extract the animal position using deeplabcut\n",
    "\n",
    "We need to run deeplabcut on the arena video. You need to run this on a computer with a good GPU (e.g. a230-pc73).\n",
    "This takes approximately 25 minutes per session.\n",
    "\n",
    "Only run it on the sessions that you need."
   ]
  },
  {
   "cell_type": "markdown",
   "id": "bbf50dbd",
   "metadata": {},
   "source": [
    "To run it on a single session."
   ]
  },
  {
   "cell_type": "code",
   "execution_count": 7,
   "id": "d0438085",
   "metadata": {},
   "outputs": [
    {
     "name": "stdout",
     "output_type": "stream",
     "text": [
      "Startint at 17:20:08\n",
      "labelImage: /adata/projects/autopi_behavior_2021/TYY9524/TYY9524-03062021-1625/arenaDetection.png\n",
      "/tmp/tmpVid.avi created for bridge detection\n",
      "Running dlc.analyze_video on /tmp/tmpVid.avi\n",
      "Using snapshot-460000 for model /adata/models/bridgeDetection_640_480-Allen-2021-02-10/dlc-models/iteration-0/bridgeDetection_640_480Feb10-trainset95shuffle1\n",
      "Initializing ResNet\n"
     ]
    },
    {
     "name": "stderr",
     "output_type": "stream",
     "text": [
      "  0%|          | 0/500 [00:00<?, ?it/s]"
     ]
    },
    {
     "name": "stdout",
     "output_type": "stream",
     "text": [
      "Starting to analyze %  /tmp/tmpVid.avi\n",
      "/tmp  already exists!\n",
      "Loading  /tmp/tmpVid.avi\n",
      "Duration of video [s]:  16.67 , recorded with  30.0 fps!\n",
      "Overall # of frames:  500  found with (before cropping) frame dimensions:  640 480\n",
      "Starting to extract posture\n"
     ]
    },
    {
     "name": "stderr",
     "output_type": "stream",
     "text": [
      "510it [03:29,  2.43it/s]                         \n"
     ]
    },
    {
     "name": "stdout",
     "output_type": "stream",
     "text": [
      "Saving results in /tmp...\n",
      "The videos are analyzed. Now your research can truly start! \n",
      " You can create labeled videos with 'create_labeled_video'\n",
      "If the tracking is not satisfactory for some videos, consider expanding the training set. You can use the function 'extract_outlier_frames' to extract a few representative outlier frames.\n",
      "dlc.loadPositionData() read data from /tmp/tmpVidDLC_resnet_50_bridgeDetection_640_480Feb10shuffle1_460000.h5\n",
      "dlc.loadPositionData() read data from /tmp/tmpVidDLC_resnet_50_bridgeDetection_640_480Feb10shuffle1_460000.h5\n",
      "Saving position data to /tmp/tmpVidDLC_resnet_50_bridgeDetection_640_480Feb10shuffle1_460000.csv\n",
      "dlc.loadPositionData() read data from /tmp/tmpVidDLC_resnet_50_bridgeDetection_640_480Feb10shuffle1_460000.h5\n",
      "Bridge coordinates: [[329   0]\n",
      " [329  29]\n",
      " [377  29]\n",
      " [377   0]]\n",
      "labelImage: /adata/projects/autopi_behavior_2021/TYY9524/TYY9524-03062021-1625/bridgeDetection.png\n",
      "Time elapsed 0:03:42.092096\n",
      "Cropping and masking 107793 frames in /adata/projects/autopi_behavior_2021/TYY9524/TYY9524-03062021-1625/TYY9524-03062021-1625.arena_top.avi\n",
      "Output file /adata/projects/autopi_behavior_2021/TYY9524/TYY9524-03062021-1625/TYY9524-03062021-1625.arena_top.cropped.avi\n",
      "107790 of 107793 frames\n",
      "Exiting. Video saved as /adata/projects/autopi_behavior_2021/TYY9524/TYY9524-03062021-1625/TYY9524-03062021-1625.arena_top.cropped.avi\n",
      "Time elapsed 0:13:14.634254\n",
      "Removing previous inference data: /adata/projects/autopi_behavior_2021/TYY9524/TYY9524-03062021-1625/TYY9524-03062021-1625.arena_top.croppedDLC_resnet_50_arena_topOct30shuffle1_950000.h5\n",
      "Running dlc.analyze_video on /adata/projects/autopi_behavior_2021/TYY9524/TYY9524-03062021-1625/TYY9524-03062021-1625.arena_top.cropped.avi\n",
      "Using snapshot-950000 for model /adata/models/arena_top-Allen-2019-10-30/dlc-models/iteration-0/arena_topOct30-trainset90shuffle1\n",
      "Initializing ResNet\n"
     ]
    },
    {
     "name": "stderr",
     "output_type": "stream",
     "text": [
      "  0%|          | 0/107793 [00:00<?, ?it/s]"
     ]
    },
    {
     "name": "stdout",
     "output_type": "stream",
     "text": [
      "Starting to analyze %  /adata/projects/autopi_behavior_2021/TYY9524/TYY9524-03062021-1625/TYY9524-03062021-1625.arena_top.cropped.avi\n",
      "/adata/projects/autopi_behavior_2021/TYY9524/TYY9524-03062021-1625  already exists!\n",
      "Loading  /adata/projects/autopi_behavior_2021/TYY9524/TYY9524-03062021-1625/TYY9524-03062021-1625.arena_top.cropped.avi\n",
      "Duration of video [s]:  3593.1 , recorded with  30.0 fps!\n",
      "Overall # of frames:  107793  found with (before cropping) frame dimensions:  480 480\n",
      "Starting to extract posture\n"
     ]
    },
    {
     "name": "stderr",
     "output_type": "stream",
     "text": [
      "108777it [9:15:07,  3.27it/s]                             \n"
     ]
    },
    {
     "name": "stdout",
     "output_type": "stream",
     "text": [
      "Saving results in /adata/projects/autopi_behavior_2021/TYY9524/TYY9524-03062021-1625...\n",
      "The videos are analyzed. Now your research can truly start! \n",
      " You can create labeled videos with 'create_labeled_video'\n",
      "If the tracking is not satisfactory for some videos, consider expanding the training set. You can use the function 'extract_outlier_frames' to extract a few representative outlier frames.\n",
      "dlc.loadPositionData() read data from /adata/projects/autopi_behavior_2021/TYY9524/TYY9524-03062021-1625/TYY9524-03062021-1625.arena_top.croppedDLC_resnet_50_arena_topOct30shuffle1_950000.h5\n",
      "dlc.loadPositionData() read data from /adata/projects/autopi_behavior_2021/TYY9524/TYY9524-03062021-1625/TYY9524-03062021-1625.arena_top.croppedDLC_resnet_50_arena_topOct30shuffle1_950000.h5\n",
      "Saving position data to /adata/projects/autopi_behavior_2021/TYY9524/TYY9524-03062021-1625/TYY9524-03062021-1625.arena_top.croppedDLC_resnet_50_arena_topOct30shuffle1_950000.csv\n",
      "dlc.loadPositionData() read data from /adata/projects/autopi_behavior_2021/TYY9524/TYY9524-03062021-1625/TYY9524-03062021-1625.arena_top.croppedDLC_resnet_50_arena_topOct30shuffle1_950000.h5\n",
      "Time elapsed 9:28:36.996482\n",
      "Time elapsed 9:28:36.996535\n",
      "labelImage: /adata/projects/autopi_behavior_2021/TYY9524/TYY9524-03062021-1625/arenaDetectionCropped.png\n",
      "/tmp/tmpVid.avi created for bridge detection\n",
      "Running dlc.analyze_video on /tmp/tmpVid.avi\n",
      "Using snapshot-320000 for model /adata/models/bridgeDetection_480_480-Allen-2021-01-23/dlc-models/iteration-0/bridgeDetection_480_480Jan23-trainset90shuffle1\n",
      "Initializing ResNet\n"
     ]
    },
    {
     "name": "stderr",
     "output_type": "stream",
     "text": [
      "  0%|          | 0/500 [00:00<?, ?it/s]"
     ]
    },
    {
     "name": "stdout",
     "output_type": "stream",
     "text": [
      "Starting to analyze %  /tmp/tmpVid.avi\n",
      "/tmp  already exists!\n",
      "Loading  /tmp/tmpVid.avi\n",
      "Duration of video [s]:  16.67 , recorded with  30.0 fps!\n",
      "Overall # of frames:  500  found with (before cropping) frame dimensions:  480 480\n",
      "Starting to extract posture\n"
     ]
    },
    {
     "name": "stderr",
     "output_type": "stream",
     "text": [
      "510it [02:35,  3.29it/s]                         "
     ]
    },
    {
     "name": "stdout",
     "output_type": "stream",
     "text": [
      "Saving results in /tmp...\n",
      "The videos are analyzed. Now your research can truly start! \n",
      " You can create labeled videos with 'create_labeled_video'\n",
      "If the tracking is not satisfactory for some videos, consider expanding the training set. You can use the function 'extract_outlier_frames' to extract a few representative outlier frames.\n",
      "dlc.loadPositionData() read data from /tmp/tmpVidDLC_resnet_50_bridgeDetection_480_480Jan23shuffle1_320000.h5\n",
      "dlc.loadPositionData() read data from /tmp/tmpVidDLC_resnet_50_bridgeDetection_480_480Jan23shuffle1_320000.h5\n",
      "Saving position data to /tmp/tmpVidDLC_resnet_50_bridgeDetection_480_480Jan23shuffle1_320000.csv\n",
      "dlc.loadPositionData() read data from /tmp/tmpVidDLC_resnet_50_bridgeDetection_480_480Jan23shuffle1_320000.h5\n",
      "Bridge coordinates: [[218   0]\n",
      " [218  35]\n",
      " [265  35]\n",
      " [265   0]]\n",
      "labelImage: /adata/projects/autopi_behavior_2021/TYY9524/TYY9524-03062021-1625/bridgeDetectionCropped.png\n",
      "labelImage: /adata/projects/autopi_behavior_2021/TYY9524/TYY9524-03062021-1625/arenaBridgeDetectionCropped.png\n",
      "Ending at  02:51:36\n",
      "***Total duration: 9:31:28.665985 ***\n"
     ]
    },
    {
     "name": "stderr",
     "output_type": "stream",
     "text": [
      "\n"
     ]
    }
   ],
   "source": [
    "from autopipy.video_utilities import positionTrackingFromArenaTopVideo\n",
    "from autopipy.dlcObjectDetecto\n",
    "+\n",
    "rs import MouseLeverDetector\n",
    "ses = myProject.sessionList[-1]\n",
    "positionTrackingFromArenaTopVideo(ses,modelDir=dlcModelPath)"
   ]
  },
  {
   "cell_type": "markdown",
   "id": "3a4b3803",
   "metadata": {},
   "source": [
    "# To run it on a group of sessions"
   ]
  },
  {
   "cell_type": "code",
   "execution_count": 5,
   "id": "66d55c9d-74bf-48ba-b8e4-4d3265783dcf",
   "metadata": {},
   "outputs": [
    {
     "data": {
      "text/plain": [
       "[<autopipy.session.Session at 0x7f4538041910>,\n",
       " <autopipy.session.Session at 0x7f446a53b610>,\n",
       " <autopipy.session.Session at 0x7f4538099ad0>,\n",
       " <autopipy.session.Session at 0x7f453805f290>,\n",
       " <autopipy.session.Session at 0x7f45380417d0>,\n",
       " <autopipy.session.Session at 0x7f45380414d0>,\n",
       " <autopipy.session.Session at 0x7f4538041250>,\n",
       " <autopipy.session.Session at 0x7f4538041bd0>,\n",
       " <autopipy.session.Session at 0x7f4538041690>,\n",
       " <autopipy.session.Session at 0x7f4538041c10>,\n",
       " <autopipy.session.Session at 0x7f4538041510>,\n",
       " <autopipy.session.Session at 0x7f4538041710>,\n",
       " <autopipy.session.Session at 0x7f4538041550>,\n",
       " <autopipy.session.Session at 0x7f4538041110>,\n",
       " <autopipy.session.Session at 0x7f446a4d34d0>,\n",
       " <autopipy.session.Session at 0x7f446a4d3450>,\n",
       " <autopipy.session.Session at 0x7f446a4d3690>,\n",
       " <autopipy.session.Session at 0x7f446a4d36d0>,\n",
       " <autopipy.session.Session at 0x7f446a4d3650>,\n",
       " <autopipy.session.Session at 0x7f446a4d3550>,\n",
       " <autopipy.session.Session at 0x7f446a4d3510>,\n",
       " <autopipy.session.Session at 0x7f446a4d3490>,\n",
       " <autopipy.session.Session at 0x7f446a4d3790>,\n",
       " <autopipy.session.Session at 0x7f446a4d3810>,\n",
       " <autopipy.session.Session at 0x7f446a4d3890>,\n",
       " <autopipy.session.Session at 0x7f446a4d3910>,\n",
       " <autopipy.session.Session at 0x7f446a4d3990>,\n",
       " <autopipy.session.Session at 0x7f446a4d3a10>,\n",
       " <autopipy.session.Session at 0x7f446a4d3a90>,\n",
       " <autopipy.session.Session at 0x7f446a4d3b10>,\n",
       " <autopipy.session.Session at 0x7f446a4d3b90>,\n",
       " <autopipy.session.Session at 0x7f446a4d3c10>,\n",
       " <autopipy.session.Session at 0x7f446a4d3c90>,\n",
       " <autopipy.session.Session at 0x7f446a4d3d10>,\n",
       " <autopipy.session.Session at 0x7f446a4d3d90>,\n",
       " <autopipy.session.Session at 0x7f446a4d3e10>,\n",
       " <autopipy.session.Session at 0x7f446a4d3e90>,\n",
       " <autopipy.session.Session at 0x7f446a4d35d0>,\n",
       " <autopipy.session.Session at 0x7f446a48f090>,\n",
       " <autopipy.session.Session at 0x7f446a48f0d0>,\n",
       " <autopipy.session.Session at 0x7f446a48f050>,\n",
       " <autopipy.session.Session at 0x7f446a48f150>,\n",
       " <autopipy.session.Session at 0x7f446a48f1d0>,\n",
       " <autopipy.session.Session at 0x7f446a48f250>,\n",
       " <autopipy.session.Session at 0x7f446a48f2d0>,\n",
       " <autopipy.session.Session at 0x7f446a48f350>,\n",
       " <autopipy.session.Session at 0x7f446a48f3d0>,\n",
       " <autopipy.session.Session at 0x7f446a48f450>,\n",
       " <autopipy.session.Session at 0x7f446a48f4d0>,\n",
       " <autopipy.session.Session at 0x7f446a48f550>]"
      ]
     },
     "execution_count": 5,
     "metadata": {},
     "output_type": "execute_result"
    }
   ],
   "source": [
    "myProject.sessionList"
   ]
  },
  {
   "cell_type": "code",
   "execution_count": 6,
   "id": "18371628",
   "metadata": {},
   "outputs": [
    {
     "name": "stdout",
     "output_type": "stream",
     "text": [
      "****** Session number  0  ******  TYY9524-02062021-1642\n",
      "Startint at 13:26:46\n",
      "labelImage: /adata/projects/autopi_behavior_2021/TYY9524/TYY9524-02062021-1642/arenaDetection.png\n",
      "/tmp/tmpVid.avi created for bridge detection\n",
      "Running dlc.analyze_video on /tmp/tmpVid.avi\n",
      "Using snapshot-460000 for model /adata/models/bridgeDetection_640_480-Allen-2021-02-10/dlc-models/iteration-0/bridgeDetection_640_480Feb10-trainset95shuffle1\n",
      "Initializing ResNet\n"
     ]
    },
    {
     "name": "stderr",
     "output_type": "stream",
     "text": [
      "  0%|          | 0/500 [00:00<?, ?it/s]"
     ]
    },
    {
     "name": "stdout",
     "output_type": "stream",
     "text": [
      "Starting to analyze %  /tmp/tmpVid.avi\n",
      "/tmp  already exists!\n",
      "Loading  /tmp/tmpVid.avi\n",
      "Duration of video [s]:  16.67 , recorded with  30.0 fps!\n",
      "Overall # of frames:  500  found with (before cropping) frame dimensions:  640 480\n",
      "Starting to extract posture\n"
     ]
    },
    {
     "name": "stderr",
     "output_type": "stream",
     "text": [
      "510it [03:39,  2.32it/s]                         \n"
     ]
    },
    {
     "name": "stdout",
     "output_type": "stream",
     "text": [
      "Saving results in /tmp...\n",
      "The videos are analyzed. Now your research can truly start! \n",
      " You can create labeled videos with 'create_labeled_video'\n",
      "If the tracking is not satisfactory for some videos, consider expanding the training set. You can use the function 'extract_outlier_frames' to extract a few representative outlier frames.\n",
      "dlc.loadPositionData() read data from /tmp/tmpVidDLC_resnet_50_bridgeDetection_640_480Feb10shuffle1_460000.h5\n",
      "dlc.loadPositionData() read data from /tmp/tmpVidDLC_resnet_50_bridgeDetection_640_480Feb10shuffle1_460000.h5\n",
      "Saving position data to /tmp/tmpVidDLC_resnet_50_bridgeDetection_640_480Feb10shuffle1_460000.csv\n",
      "dlc.loadPositionData() read data from /tmp/tmpVidDLC_resnet_50_bridgeDetection_640_480Feb10shuffle1_460000.h5\n",
      "Bridge coordinates: [[328   0]\n",
      " [328  29]\n",
      " [377  29]\n",
      " [377   0]]\n",
      "labelImage: /adata/projects/autopi_behavior_2021/TYY9524/TYY9524-02062021-1642/bridgeDetection.png\n",
      "Time elapsed 0:03:59.038299\n",
      "Cropping and masking 108755 frames in /adata/projects/autopi_behavior_2021/TYY9524/TYY9524-02062021-1642/TYY9524-02062021-1642.arena_top.avi\n",
      "Output file /adata/projects/autopi_behavior_2021/TYY9524/TYY9524-02062021-1642/TYY9524-02062021-1642.arena_top.cropped.avi\n",
      "108750 of 108755 frames\n",
      "Exiting. Video saved as /adata/projects/autopi_behavior_2021/TYY9524/TYY9524-02062021-1642/TYY9524-02062021-1642.arena_top.cropped.avi\n",
      "Time elapsed 0:13:52.623323\n",
      "Removing previous inference data: /adata/projects/autopi_behavior_2021/TYY9524/TYY9524-02062021-1642/TYY9524-02062021-1642.arena_top.croppedDLC_resnet_50_arena_topOct30shuffle1_950000.h5\n",
      "Running dlc.analyze_video on /adata/projects/autopi_behavior_2021/TYY9524/TYY9524-02062021-1642/TYY9524-02062021-1642.arena_top.cropped.avi\n",
      "Using snapshot-950000 for model /adata/models/arena_top-Allen-2019-10-30/dlc-models/iteration-0/arena_topOct30-trainset90shuffle1\n",
      "Initializing ResNet\n"
     ]
    },
    {
     "name": "stderr",
     "output_type": "stream",
     "text": [
      "  0%|          | 0/108755 [00:00<?, ?it/s]"
     ]
    },
    {
     "name": "stdout",
     "output_type": "stream",
     "text": [
      "Starting to analyze %  /adata/projects/autopi_behavior_2021/TYY9524/TYY9524-02062021-1642/TYY9524-02062021-1642.arena_top.cropped.avi\n",
      "/adata/projects/autopi_behavior_2021/TYY9524/TYY9524-02062021-1642  already exists!\n",
      "Loading  /adata/projects/autopi_behavior_2021/TYY9524/TYY9524-02062021-1642/TYY9524-02062021-1642.arena_top.cropped.avi\n",
      "Duration of video [s]:  3625.17 , recorded with  30.0 fps!\n",
      "Overall # of frames:  108755  found with (before cropping) frame dimensions:  480 480\n",
      "Starting to extract posture\n"
     ]
    },
    {
     "name": "stderr",
     "output_type": "stream",
     "text": [
      "109787it [9:39:46,  3.16it/s]                             \n"
     ]
    },
    {
     "name": "stdout",
     "output_type": "stream",
     "text": [
      "Saving results in /adata/projects/autopi_behavior_2021/TYY9524/TYY9524-02062021-1642...\n",
      "The videos are analyzed. Now your research can truly start! \n",
      " You can create labeled videos with 'create_labeled_video'\n",
      "If the tracking is not satisfactory for some videos, consider expanding the training set. You can use the function 'extract_outlier_frames' to extract a few representative outlier frames.\n",
      "dlc.loadPositionData() read data from /adata/projects/autopi_behavior_2021/TYY9524/TYY9524-02062021-1642/TYY9524-02062021-1642.arena_top.croppedDLC_resnet_50_arena_topOct30shuffle1_950000.h5\n",
      "dlc.loadPositionData() read data from /adata/projects/autopi_behavior_2021/TYY9524/TYY9524-02062021-1642/TYY9524-02062021-1642.arena_top.croppedDLC_resnet_50_arena_topOct30shuffle1_950000.h5\n",
      "Saving position data to /adata/projects/autopi_behavior_2021/TYY9524/TYY9524-02062021-1642/TYY9524-02062021-1642.arena_top.croppedDLC_resnet_50_arena_topOct30shuffle1_950000.csv\n",
      "dlc.loadPositionData() read data from /adata/projects/autopi_behavior_2021/TYY9524/TYY9524-02062021-1642/TYY9524-02062021-1642.arena_top.croppedDLC_resnet_50_arena_topOct30shuffle1_950000.h5\n",
      "Time elapsed 9:54:10.625066\n",
      "Time elapsed 9:54:10.625118\n",
      "labelImage: /adata/projects/autopi_behavior_2021/TYY9524/TYY9524-02062021-1642/arenaDetectionCropped.png\n",
      "/tmp/tmpVid.avi created for bridge detection\n",
      "Running dlc.analyze_video on /tmp/tmpVid.avi\n",
      "Using snapshot-320000 for model /adata/models/bridgeDetection_480_480-Allen-2021-01-23/dlc-models/iteration-0/bridgeDetection_480_480Jan23-trainset90shuffle1\n",
      "Initializing ResNet\n"
     ]
    },
    {
     "name": "stderr",
     "output_type": "stream",
     "text": [
      "  0%|          | 0/500 [00:00<?, ?it/s]"
     ]
    },
    {
     "name": "stdout",
     "output_type": "stream",
     "text": [
      "Starting to analyze %  /tmp/tmpVid.avi\n",
      "/tmp  already exists!\n",
      "Loading  /tmp/tmpVid.avi\n",
      "Duration of video [s]:  16.67 , recorded with  30.0 fps!\n",
      "Overall # of frames:  500  found with (before cropping) frame dimensions:  480 480\n",
      "Starting to extract posture\n"
     ]
    },
    {
     "name": "stderr",
     "output_type": "stream",
     "text": [
      "510it [02:35,  3.27it/s]                         \n"
     ]
    },
    {
     "name": "stdout",
     "output_type": "stream",
     "text": [
      "Saving results in /tmp...\n",
      "The videos are analyzed. Now your research can truly start! \n",
      " You can create labeled videos with 'create_labeled_video'\n",
      "If the tracking is not satisfactory for some videos, consider expanding the training set. You can use the function 'extract_outlier_frames' to extract a few representative outlier frames.\n",
      "dlc.loadPositionData() read data from /tmp/tmpVidDLC_resnet_50_bridgeDetection_480_480Jan23shuffle1_320000.h5\n",
      "dlc.loadPositionData() read data from /tmp/tmpVidDLC_resnet_50_bridgeDetection_480_480Jan23shuffle1_320000.h5\n",
      "Saving position data to /tmp/tmpVidDLC_resnet_50_bridgeDetection_480_480Jan23shuffle1_320000.csv\n",
      "dlc.loadPositionData() read data from /tmp/tmpVidDLC_resnet_50_bridgeDetection_480_480Jan23shuffle1_320000.h5\n",
      "Bridge coordinates: [[218   0]\n",
      " [218  35]\n",
      " [265  35]\n",
      " [265   0]]\n",
      "labelImage: /adata/projects/autopi_behavior_2021/TYY9524/TYY9524-02062021-1642/bridgeDetectionCropped.png\n",
      "labelImage: /adata/projects/autopi_behavior_2021/TYY9524/TYY9524-02062021-1642/arenaBridgeDetectionCropped.png\n",
      "Ending at  23:23:49\n",
      "***Total duration: 9:57:03.316695 ***\n",
      "****** Session number  1  ******  mn9686-03062021-1302\n",
      "Startint at 23:23:49\n",
      "labelImage: /adata/projects/autopi_behavior_2021/mn9686/mn9686-03062021-1302/arenaDetection.png\n",
      "/tmp/tmpVid.avi created for bridge detection\n",
      "Running dlc.analyze_video on /tmp/tmpVid.avi\n",
      "Using snapshot-460000 for model /adata/models/bridgeDetection_640_480-Allen-2021-02-10/dlc-models/iteration-0/bridgeDetection_640_480Feb10-trainset95shuffle1\n",
      "Initializing ResNet\n"
     ]
    },
    {
     "name": "stderr",
     "output_type": "stream",
     "text": [
      "  0%|          | 0/500 [00:00<?, ?it/s]"
     ]
    },
    {
     "name": "stdout",
     "output_type": "stream",
     "text": [
      "Starting to analyze %  /tmp/tmpVid.avi\n",
      "/tmp  already exists!\n",
      "Loading  /tmp/tmpVid.avi\n",
      "Duration of video [s]:  16.67 , recorded with  30.0 fps!\n",
      "Overall # of frames:  500  found with (before cropping) frame dimensions:  640 480\n",
      "Starting to extract posture\n"
     ]
    },
    {
     "name": "stderr",
     "output_type": "stream",
     "text": [
      "510it [03:28,  2.44it/s]                         "
     ]
    },
    {
     "name": "stdout",
     "output_type": "stream",
     "text": [
      "Saving results in /tmp...\n",
      "The videos are analyzed. Now your research can truly start! \n",
      " You can create labeled videos with 'create_labeled_video'\n",
      "If the tracking is not satisfactory for some videos, consider expanding the training set. You can use the function 'extract_outlier_frames' to extract a few representative outlier frames.\n",
      "dlc.loadPositionData() read data from /tmp/tmpVidDLC_resnet_50_bridgeDetection_640_480Feb10shuffle1_460000.h5\n",
      "dlc.loadPositionData() read data from /tmp/tmpVidDLC_resnet_50_bridgeDetection_640_480Feb10shuffle1_460000.h5\n",
      "Saving position data to /tmp/tmpVidDLC_resnet_50_bridgeDetection_640_480Feb10shuffle1_460000.csv\n",
      "dlc.loadPositionData() read data from /tmp/tmpVidDLC_resnet_50_bridgeDetection_640_480Feb10shuffle1_460000.h5\n",
      "Bridge coordinates: [[329   0]\n",
      " [329  29]\n",
      " [377  29]\n",
      " [377   0]]\n",
      "labelImage: /adata/projects/autopi_behavior_2021/mn9686/mn9686-03062021-1302/bridgeDetection.png\n",
      "Time elapsed 0:03:47.415287\n",
      "Cropping and masking 109440 frames in /adata/projects/autopi_behavior_2021/mn9686/mn9686-03062021-1302/mn9686-03062021-1302.arena_top.avi\n",
      "Output file /adata/projects/autopi_behavior_2021/mn9686/mn9686-03062021-1302/mn9686-03062021-1302.arena_top.cropped.avi\n",
      "0 of 109440 frames"
     ]
    },
    {
     "name": "stderr",
     "output_type": "stream",
     "text": [
      "\n"
     ]
    },
    {
     "name": "stdout",
     "output_type": "stream",
     "text": [
      "109430 of 109440 frames\n",
      "Exiting. Video saved as /adata/projects/autopi_behavior_2021/mn9686/mn9686-03062021-1302/mn9686-03062021-1302.arena_top.cropped.avi\n",
      "Time elapsed 0:13:35.258919\n",
      "Removing previous inference data: /adata/projects/autopi_behavior_2021/mn9686/mn9686-03062021-1302/mn9686-03062021-1302.arena_top.croppedDLC_resnet_50_arena_topOct30shuffle1_950000.h5\n",
      "Running dlc.analyze_video on /adata/projects/autopi_behavior_2021/mn9686/mn9686-03062021-1302/mn9686-03062021-1302.arena_top.cropped.avi\n",
      "Using snapshot-950000 for model /adata/models/arena_top-Allen-2019-10-30/dlc-models/iteration-0/arena_topOct30-trainset90shuffle1\n",
      "Initializing ResNet\n"
     ]
    },
    {
     "name": "stderr",
     "output_type": "stream",
     "text": [
      "  0%|          | 0/109440 [00:00<?, ?it/s]"
     ]
    },
    {
     "name": "stdout",
     "output_type": "stream",
     "text": [
      "Starting to analyze %  /adata/projects/autopi_behavior_2021/mn9686/mn9686-03062021-1302/mn9686-03062021-1302.arena_top.cropped.avi\n",
      "/adata/projects/autopi_behavior_2021/mn9686/mn9686-03062021-1302  already exists!\n",
      "Loading  /adata/projects/autopi_behavior_2021/mn9686/mn9686-03062021-1302/mn9686-03062021-1302.arena_top.cropped.avi\n",
      "Duration of video [s]:  3648.0 , recorded with  30.0 fps!\n",
      "Overall # of frames:  109440  found with (before cropping) frame dimensions:  480 480\n",
      "Starting to extract posture\n"
     ]
    },
    {
     "name": "stderr",
     "output_type": "stream",
     "text": [
      "110494it [9:26:41,  3.25it/s]                             \n"
     ]
    },
    {
     "name": "stdout",
     "output_type": "stream",
     "text": [
      "Saving results in /adata/projects/autopi_behavior_2021/mn9686/mn9686-03062021-1302...\n",
      "The videos are analyzed. Now your research can truly start! \n",
      " You can create labeled videos with 'create_labeled_video'\n",
      "If the tracking is not satisfactory for some videos, consider expanding the training set. You can use the function 'extract_outlier_frames' to extract a few representative outlier frames.\n",
      "dlc.loadPositionData() read data from /adata/projects/autopi_behavior_2021/mn9686/mn9686-03062021-1302/mn9686-03062021-1302.arena_top.croppedDLC_resnet_50_arena_topOct30shuffle1_950000.h5\n",
      "dlc.loadPositionData() read data from /adata/projects/autopi_behavior_2021/mn9686/mn9686-03062021-1302/mn9686-03062021-1302.arena_top.croppedDLC_resnet_50_arena_topOct30shuffle1_950000.h5\n",
      "Saving position data to /adata/projects/autopi_behavior_2021/mn9686/mn9686-03062021-1302/mn9686-03062021-1302.arena_top.croppedDLC_resnet_50_arena_topOct30shuffle1_950000.csv\n",
      "dlc.loadPositionData() read data from /adata/projects/autopi_behavior_2021/mn9686/mn9686-03062021-1302/mn9686-03062021-1302.arena_top.croppedDLC_resnet_50_arena_topOct30shuffle1_950000.h5\n",
      "Time elapsed 9:40:32.188541\n",
      "Time elapsed 9:40:32.188596\n",
      "labelImage: /adata/projects/autopi_behavior_2021/mn9686/mn9686-03062021-1302/arenaDetectionCropped.png\n",
      "/tmp/tmpVid.avi created for bridge detection\n",
      "Running dlc.analyze_video on /tmp/tmpVid.avi\n",
      "Using snapshot-320000 for model /adata/models/bridgeDetection_480_480-Allen-2021-01-23/dlc-models/iteration-0/bridgeDetection_480_480Jan23-trainset90shuffle1\n",
      "Initializing ResNet\n"
     ]
    },
    {
     "name": "stderr",
     "output_type": "stream",
     "text": [
      "  0%|          | 0/500 [00:00<?, ?it/s]"
     ]
    },
    {
     "name": "stdout",
     "output_type": "stream",
     "text": [
      "Starting to analyze %  /tmp/tmpVid.avi\n",
      "/tmp  already exists!\n",
      "Loading  /tmp/tmpVid.avi\n",
      "Duration of video [s]:  16.67 , recorded with  30.0 fps!\n",
      "Overall # of frames:  500  found with (before cropping) frame dimensions:  480 480\n",
      "Starting to extract posture\n"
     ]
    },
    {
     "name": "stderr",
     "output_type": "stream",
     "text": [
      "510it [02:35,  3.29it/s]                         \n"
     ]
    },
    {
     "name": "stdout",
     "output_type": "stream",
     "text": [
      "Saving results in /tmp...\n",
      "The videos are analyzed. Now your research can truly start! \n",
      " You can create labeled videos with 'create_labeled_video'\n",
      "If the tracking is not satisfactory for some videos, consider expanding the training set. You can use the function 'extract_outlier_frames' to extract a few representative outlier frames.\n",
      "dlc.loadPositionData() read data from /tmp/tmpVidDLC_resnet_50_bridgeDetection_480_480Jan23shuffle1_320000.h5\n",
      "dlc.loadPositionData() read data from /tmp/tmpVidDLC_resnet_50_bridgeDetection_480_480Jan23shuffle1_320000.h5\n",
      "Saving position data to /tmp/tmpVidDLC_resnet_50_bridgeDetection_480_480Jan23shuffle1_320000.csv\n",
      "dlc.loadPositionData() read data from /tmp/tmpVidDLC_resnet_50_bridgeDetection_480_480Jan23shuffle1_320000.h5\n",
      "Bridge coordinates: [[218   0]\n",
      " [218  34]\n",
      " [265  34]\n",
      " [265   0]]\n",
      "labelImage: /adata/projects/autopi_behavior_2021/mn9686/mn9686-03062021-1302/bridgeDetectionCropped.png\n",
      "labelImage: /adata/projects/autopi_behavior_2021/mn9686/mn9686-03062021-1302/arenaBridgeDetectionCropped.png\n",
      "Ending at  09:07:13\n",
      "***Total duration: 9:43:24.122468 ***\n",
      "****** Session number  2  ******  mn9686-04062021-1317\n",
      "Startint at 09:07:13\n",
      "labelImage: /adata/projects/autopi_behavior_2021/mn9686/mn9686-04062021-1317/arenaDetection.png\n",
      "/tmp/tmpVid.avi created for bridge detection\n",
      "Running dlc.analyze_video on /tmp/tmpVid.avi\n",
      "Using snapshot-460000 for model /adata/models/bridgeDetection_640_480-Allen-2021-02-10/dlc-models/iteration-0/bridgeDetection_640_480Feb10-trainset95shuffle1\n",
      "Initializing ResNet\n"
     ]
    },
    {
     "name": "stderr",
     "output_type": "stream",
     "text": [
      "  0%|          | 0/500 [00:00<?, ?it/s]"
     ]
    },
    {
     "name": "stdout",
     "output_type": "stream",
     "text": [
      "Starting to analyze %  /tmp/tmpVid.avi\n",
      "/tmp  already exists!\n",
      "Loading  /tmp/tmpVid.avi\n",
      "Duration of video [s]:  16.67 , recorded with  30.0 fps!\n",
      "Overall # of frames:  500  found with (before cropping) frame dimensions:  640 480\n",
      "Starting to extract posture\n"
     ]
    },
    {
     "name": "stderr",
     "output_type": "stream",
     "text": [
      "510it [03:28,  2.45it/s]                         "
     ]
    },
    {
     "name": "stdout",
     "output_type": "stream",
     "text": [
      "Saving results in /tmp...\n",
      "The videos are analyzed. Now your research can truly start! \n",
      " You can create labeled videos with 'create_labeled_video'\n",
      "If the tracking is not satisfactory for some videos, consider expanding the training set. You can use the function 'extract_outlier_frames' to extract a few representative outlier frames.\n",
      "dlc.loadPositionData() read data from /tmp/tmpVidDLC_resnet_50_bridgeDetection_640_480Feb10shuffle1_460000.h5\n",
      "dlc.loadPositionData() read data from /tmp/tmpVidDLC_resnet_50_bridgeDetection_640_480Feb10shuffle1_460000.h5\n",
      "Saving position data to /tmp/tmpVidDLC_resnet_50_bridgeDetection_640_480Feb10shuffle1_460000.csv\n",
      "dlc.loadPositionData() read data from /tmp/tmpVidDLC_resnet_50_bridgeDetection_640_480Feb10shuffle1_460000.h5\n",
      "Bridge coordinates: [[329   0]\n",
      " [329  29]\n",
      " [377  29]\n",
      " [377   0]]\n",
      "labelImage: /adata/projects/autopi_behavior_2021/mn9686/mn9686-04062021-1317/bridgeDetection.png\n",
      "Time elapsed 0:03:47.203247\n",
      "Cropping and masking 109558 frames in /adata/projects/autopi_behavior_2021/mn9686/mn9686-04062021-1317/mn9686-04062021-1317.arena_top.avi\n",
      "Output file /adata/projects/autopi_behavior_2021/mn9686/mn9686-04062021-1317/mn9686-04062021-1317.arena_top.cropped.avi\n",
      "0 of 109558 frames"
     ]
    },
    {
     "name": "stderr",
     "output_type": "stream",
     "text": [
      "\n"
     ]
    },
    {
     "name": "stdout",
     "output_type": "stream",
     "text": [
      "109550 of 109558 frames\n",
      "Exiting. Video saved as /adata/projects/autopi_behavior_2021/mn9686/mn9686-04062021-1317/mn9686-04062021-1317.arena_top.cropped.avi\n",
      "Time elapsed 0:13:36.814334\n",
      "Removing previous inference data: /adata/projects/autopi_behavior_2021/mn9686/mn9686-04062021-1317/mn9686-04062021-1317.arena_top.croppedDLC_resnet_50_arena_topOct30shuffle1_950000.h5\n",
      "Running dlc.analyze_video on /adata/projects/autopi_behavior_2021/mn9686/mn9686-04062021-1317/mn9686-04062021-1317.arena_top.cropped.avi\n",
      "Using snapshot-950000 for model /adata/models/arena_top-Allen-2019-10-30/dlc-models/iteration-0/arena_topOct30-trainset90shuffle1\n",
      "Initializing ResNet\n"
     ]
    },
    {
     "name": "stderr",
     "output_type": "stream",
     "text": [
      "  0%|          | 0/109558 [00:00<?, ?it/s]"
     ]
    },
    {
     "name": "stdout",
     "output_type": "stream",
     "text": [
      "Starting to analyze %  /adata/projects/autopi_behavior_2021/mn9686/mn9686-04062021-1317/mn9686-04062021-1317.arena_top.cropped.avi\n",
      "/adata/projects/autopi_behavior_2021/mn9686/mn9686-04062021-1317  already exists!\n",
      "Loading  /adata/projects/autopi_behavior_2021/mn9686/mn9686-04062021-1317/mn9686-04062021-1317.arena_top.cropped.avi\n",
      "Duration of video [s]:  3651.93 , recorded with  30.0 fps!\n",
      "Overall # of frames:  109558  found with (before cropping) frame dimensions:  480 480\n",
      "Starting to extract posture\n"
     ]
    },
    {
     "name": "stderr",
     "output_type": "stream",
     "text": [
      " 67%|██████▋   | 73365/109558 [6:13:42<3:07:36,  3.22it/s]"
     ]
    },
    {
     "name": "stdout",
     "output_type": "stream",
     "text": [
      "The videos are analyzed. Now your research can truly start! \n",
      " You can create labeled videos with 'create_labeled_video'\n",
      "If the tracking is not satisfactory for some videos, consider expanding the training set. You can use the function 'extract_outlier_frames' to extract a few representative outlier frames.\n"
     ]
    },
    {
     "name": "stderr",
     "output_type": "stream",
     "text": [
      " 67%|██████▋   | 73365/109558 [6:14:48<3:04:53,  3.26it/s]\n",
      "ERROR:root:Internal Python error in the inspect module.\n",
      "Below is the traceback from this internal error.\n",
      "\n"
     ]
    },
    {
     "name": "stdout",
     "output_type": "stream",
     "text": [
      "Traceback (most recent call last):\n",
      "  File \"/home/moritz/anaconda3/envs/DLC-GPU/lib/python3.7/site-packages/IPython/core/interactiveshell.py\", line 3437, in run_code\n",
      "    exec(code_obj, self.user_global_ns, self.user_ns)\n",
      "  File \"<ipython-input-6-bb65544ddfdd>\", line 3, in <module>\n",
      "    positionTrackingFromArenaTopVideo(ses=ses,modelDir=myProject.dlcModelPath)\n",
      "  File \"/home/moritz/repo/autopipy/autopipy/video_utilities.py\", line 253, in positionTrackingFromArenaTopVideo\n",
      "    mouseLeverD.inferenceVideo(pathVideoFile=croppedVideoFile,overwrite=True)\n",
      "  File \"/home/moritz/repo/autopipy/autopipy/dlc.py\", line 72, in inferenceVideo\n",
      "    self.loadPositionData(pathVideoFile)\n",
      "  File \"/home/moritz/repo/autopipy/autopipy/dlc.py\", line 115, in loadPositionData\n",
      "    self.pathVideoOutputH5=self.getVideoOutputH5(pathVideoFile)\n",
      "  File \"/home/moritz/repo/autopipy/autopipy/dlc.py\", line 167, in getVideoOutputH5\n",
      "    cfg, shuffle, trainFraction, modelprefix=modelprefix)\n",
      "  File \"/home/moritz/anaconda3/envs/DLC-GPU/lib/python3.7/site-packages/deeplabcut/utils/auxiliaryfunctions.py\", line 554, in GetScorerName\n",
      "    [fn.split(\".\")[0] for fn in os.listdir(modelfolder) if \"index\" in fn]\n",
      "KeyboardInterrupt\n",
      "\n",
      "During handling of the above exception, another exception occurred:\n",
      "\n",
      "Traceback (most recent call last):\n",
      "  File \"/home/moritz/anaconda3/envs/DLC-GPU/lib/python3.7/site-packages/IPython/core/interactiveshell.py\", line 2061, in showtraceback\n",
      "    stb = value._render_traceback_()\n",
      "AttributeError: 'KeyboardInterrupt' object has no attribute '_render_traceback_'\n",
      "\n",
      "During handling of the above exception, another exception occurred:\n",
      "\n",
      "Traceback (most recent call last):\n",
      "  File \"/home/moritz/anaconda3/envs/DLC-GPU/lib/python3.7/site-packages/IPython/core/ultratb.py\", line 1101, in get_records\n",
      "    return _fixed_getinnerframes(etb, number_of_lines_of_context, tb_offset)\n",
      "  File \"/home/moritz/anaconda3/envs/DLC-GPU/lib/python3.7/site-packages/IPython/core/ultratb.py\", line 248, in wrapped\n",
      "    return f(*args, **kwargs)\n",
      "  File \"/home/moritz/anaconda3/envs/DLC-GPU/lib/python3.7/site-packages/IPython/core/ultratb.py\", line 281, in _fixed_getinnerframes\n",
      "    records = fix_frame_records_filenames(inspect.getinnerframes(etb, context))\n",
      "  File \"/home/moritz/anaconda3/envs/DLC-GPU/lib/python3.7/inspect.py\", line 1502, in getinnerframes\n",
      "    frameinfo = (tb.tb_frame,) + getframeinfo(tb, context)\n",
      "  File \"/home/moritz/anaconda3/envs/DLC-GPU/lib/python3.7/inspect.py\", line 1460, in getframeinfo\n",
      "    filename = getsourcefile(frame) or getfile(frame)\n",
      "  File \"/home/moritz/anaconda3/envs/DLC-GPU/lib/python3.7/inspect.py\", line 696, in getsourcefile\n",
      "    if getattr(getmodule(object, filename), '__loader__', None) is not None:\n",
      "  File \"/home/moritz/anaconda3/envs/DLC-GPU/lib/python3.7/inspect.py\", line 742, in getmodule\n",
      "    os.path.realpath(f)] = module.__name__\n",
      "  File \"/home/moritz/anaconda3/envs/DLC-GPU/lib/python3.7/posixpath.py\", line 396, in realpath\n",
      "    return abspath(path)\n",
      "  File \"/home/moritz/anaconda3/envs/DLC-GPU/lib/python3.7/posixpath.py\", line 378, in abspath\n",
      "    path = os.fspath(path)\n",
      "KeyboardInterrupt\n"
     ]
    },
    {
     "ename": "TypeError",
     "evalue": "object of type 'NoneType' has no len()",
     "output_type": "error",
     "traceback": [
      "\u001b[0;31m---------------------------------------------------------------------------\u001b[0m",
      "\u001b[0;31mKeyboardInterrupt\u001b[0m                         Traceback (most recent call last)",
      "    \u001b[0;31m[... skipping hidden 1 frame]\u001b[0m\n",
      "\u001b[0;32m<ipython-input-6-bb65544ddfdd>\u001b[0m in \u001b[0;36m<module>\u001b[0;34m\u001b[0m\n\u001b[1;32m      2\u001b[0m     \u001b[0mprint\u001b[0m\u001b[0;34m(\u001b[0m\u001b[0;34m\"****** Session number \"\u001b[0m\u001b[0;34m,\u001b[0m\u001b[0mi\u001b[0m\u001b[0;34m,\u001b[0m\u001b[0;34m\" ****** \"\u001b[0m\u001b[0;34m,\u001b[0m\u001b[0mses\u001b[0m\u001b[0;34m.\u001b[0m\u001b[0mname\u001b[0m\u001b[0;34m)\u001b[0m\u001b[0;34m\u001b[0m\u001b[0;34m\u001b[0m\u001b[0m\n\u001b[0;32m----> 3\u001b[0;31m     \u001b[0mpositionTrackingFromArenaTopVideo\u001b[0m\u001b[0;34m(\u001b[0m\u001b[0mses\u001b[0m\u001b[0;34m=\u001b[0m\u001b[0mses\u001b[0m\u001b[0;34m,\u001b[0m\u001b[0mmodelDir\u001b[0m\u001b[0;34m=\u001b[0m\u001b[0mmyProject\u001b[0m\u001b[0;34m.\u001b[0m\u001b[0mdlcModelPath\u001b[0m\u001b[0;34m)\u001b[0m\u001b[0;34m\u001b[0m\u001b[0;34m\u001b[0m\u001b[0m\n\u001b[0m",
      "\u001b[0;32m~/repo/autopipy/autopipy/video_utilities.py\u001b[0m in \u001b[0;36mpositionTrackingFromArenaTopVideo\u001b[0;34m(ses, modelDir, bridge640_480Model, mouseLeverModel, bridge480_480Model, arenaMinRadius, arenaMaxRadius, arenaCircleMethod, numFramesArenaDetection, numFramesBridgeDetection, labelDlcMouseLeverVideo)\u001b[0m\n\u001b[1;32m    252\u001b[0m     \u001b[0mmouseLeverD\u001b[0m \u001b[0;34m=\u001b[0m \u001b[0mMouseLeverDetector\u001b[0m\u001b[0;34m(\u001b[0m\u001b[0mpathConfigFile\u001b[0m\u001b[0;34m=\u001b[0m\u001b[0mconfigFile\u001b[0m\u001b[0;34m)\u001b[0m\u001b[0;34m\u001b[0m\u001b[0;34m\u001b[0m\u001b[0m\n\u001b[0;32m--> 253\u001b[0;31m     \u001b[0mmouseLeverD\u001b[0m\u001b[0;34m.\u001b[0m\u001b[0minferenceVideo\u001b[0m\u001b[0;34m(\u001b[0m\u001b[0mpathVideoFile\u001b[0m\u001b[0;34m=\u001b[0m\u001b[0mcroppedVideoFile\u001b[0m\u001b[0;34m,\u001b[0m\u001b[0moverwrite\u001b[0m\u001b[0;34m=\u001b[0m\u001b[0;32mTrue\u001b[0m\u001b[0;34m)\u001b[0m\u001b[0;34m\u001b[0m\u001b[0;34m\u001b[0m\u001b[0m\n\u001b[0m\u001b[1;32m    254\u001b[0m \u001b[0;34m\u001b[0m\u001b[0m\n",
      "\u001b[0;32m~/repo/autopipy/autopipy/dlc.py\u001b[0m in \u001b[0;36minferenceVideo\u001b[0;34m(self, pathVideoFile, saveCsv, overwrite)\u001b[0m\n\u001b[1;32m     71\u001b[0m         \u001b[0;31m# load the position data by default\u001b[0m\u001b[0;34m\u001b[0m\u001b[0;34m\u001b[0m\u001b[0;34m\u001b[0m\u001b[0m\n\u001b[0;32m---> 72\u001b[0;31m         \u001b[0mself\u001b[0m\u001b[0;34m.\u001b[0m\u001b[0mloadPositionData\u001b[0m\u001b[0;34m(\u001b[0m\u001b[0mpathVideoFile\u001b[0m\u001b[0;34m)\u001b[0m\u001b[0;34m\u001b[0m\u001b[0;34m\u001b[0m\u001b[0m\n\u001b[0m\u001b[1;32m     73\u001b[0m \u001b[0;34m\u001b[0m\u001b[0m\n",
      "\u001b[0;32m~/repo/autopipy/autopipy/dlc.py\u001b[0m in \u001b[0;36mloadPositionData\u001b[0;34m(self, pathVideoFile)\u001b[0m\n\u001b[1;32m    114\u001b[0m         \u001b[0;31m# get the name of the file with the output data\u001b[0m\u001b[0;34m\u001b[0m\u001b[0;34m\u001b[0m\u001b[0;34m\u001b[0m\u001b[0m\n\u001b[0;32m--> 115\u001b[0;31m         \u001b[0mself\u001b[0m\u001b[0;34m.\u001b[0m\u001b[0mpathVideoOutputH5\u001b[0m\u001b[0;34m=\u001b[0m\u001b[0mself\u001b[0m\u001b[0;34m.\u001b[0m\u001b[0mgetVideoOutputH5\u001b[0m\u001b[0;34m(\u001b[0m\u001b[0mpathVideoFile\u001b[0m\u001b[0;34m)\u001b[0m\u001b[0;34m\u001b[0m\u001b[0;34m\u001b[0m\u001b[0m\n\u001b[0m\u001b[1;32m    116\u001b[0m \u001b[0;34m\u001b[0m\u001b[0m\n",
      "\u001b[0;32m~/repo/autopipy/autopipy/dlc.py\u001b[0m in \u001b[0;36mgetVideoOutputH5\u001b[0;34m(self, pathVideoFile, shuffle, trainingsetindex, modelprefix)\u001b[0m\n\u001b[1;32m    166\u001b[0m         DLCscorer, DLCscorerlegacy = auxiliaryfunctions.GetScorerName(\n\u001b[0;32m--> 167\u001b[0;31m             cfg, shuffle, trainFraction, modelprefix=modelprefix) \n\u001b[0m\u001b[1;32m    168\u001b[0m \u001b[0;34m\u001b[0m\u001b[0m\n",
      "\u001b[0;32m~/anaconda3/envs/DLC-GPU/lib/python3.7/site-packages/deeplabcut/utils/auxiliaryfunctions.py\u001b[0m in \u001b[0;36mGetScorerName\u001b[0;34m(cfg, shuffle, trainFraction, trainingsiterations, modelprefix)\u001b[0m\n\u001b[1;32m    553\u001b[0m         Snapshots = np.array(\n\u001b[0;32m--> 554\u001b[0;31m             \u001b[0;34m[\u001b[0m\u001b[0mfn\u001b[0m\u001b[0;34m.\u001b[0m\u001b[0msplit\u001b[0m\u001b[0;34m(\u001b[0m\u001b[0;34m\".\"\u001b[0m\u001b[0;34m)\u001b[0m\u001b[0;34m[\u001b[0m\u001b[0;36m0\u001b[0m\u001b[0;34m]\u001b[0m \u001b[0;32mfor\u001b[0m \u001b[0mfn\u001b[0m \u001b[0;32min\u001b[0m \u001b[0mos\u001b[0m\u001b[0;34m.\u001b[0m\u001b[0mlistdir\u001b[0m\u001b[0;34m(\u001b[0m\u001b[0mmodelfolder\u001b[0m\u001b[0;34m)\u001b[0m \u001b[0;32mif\u001b[0m \u001b[0;34m\"index\"\u001b[0m \u001b[0;32min\u001b[0m \u001b[0mfn\u001b[0m\u001b[0;34m]\u001b[0m\u001b[0;34m\u001b[0m\u001b[0;34m\u001b[0m\u001b[0m\n\u001b[0m\u001b[1;32m    555\u001b[0m         )\n",
      "\u001b[0;31mKeyboardInterrupt\u001b[0m: ",
      "\nDuring handling of the above exception, another exception occurred:\n",
      "\u001b[0;31mAttributeError\u001b[0m                            Traceback (most recent call last)",
      "\u001b[0;32m~/anaconda3/envs/DLC-GPU/lib/python3.7/site-packages/IPython/core/interactiveshell.py\u001b[0m in \u001b[0;36mshowtraceback\u001b[0;34m(self, exc_tuple, filename, tb_offset, exception_only, running_compiled_code)\u001b[0m\n\u001b[1;32m   2060\u001b[0m                         \u001b[0;31m# in the engines. This should return a list of strings.\u001b[0m\u001b[0;34m\u001b[0m\u001b[0;34m\u001b[0m\u001b[0;34m\u001b[0m\u001b[0m\n\u001b[0;32m-> 2061\u001b[0;31m                         \u001b[0mstb\u001b[0m \u001b[0;34m=\u001b[0m \u001b[0mvalue\u001b[0m\u001b[0;34m.\u001b[0m\u001b[0m_render_traceback_\u001b[0m\u001b[0;34m(\u001b[0m\u001b[0;34m)\u001b[0m\u001b[0;34m\u001b[0m\u001b[0;34m\u001b[0m\u001b[0m\n\u001b[0m\u001b[1;32m   2062\u001b[0m                     \u001b[0;32mexcept\u001b[0m \u001b[0mException\u001b[0m\u001b[0;34m:\u001b[0m\u001b[0;34m\u001b[0m\u001b[0;34m\u001b[0m\u001b[0m\n",
      "\u001b[0;31mAttributeError\u001b[0m: 'KeyboardInterrupt' object has no attribute '_render_traceback_'",
      "\nDuring handling of the above exception, another exception occurred:\n",
      "\u001b[0;31mTypeError\u001b[0m                                 Traceback (most recent call last)",
      "    \u001b[0;31m[... skipping hidden 1 frame]\u001b[0m\n",
      "\u001b[0;32m~/anaconda3/envs/DLC-GPU/lib/python3.7/site-packages/IPython/core/interactiveshell.py\u001b[0m in \u001b[0;36mshowtraceback\u001b[0;34m(self, exc_tuple, filename, tb_offset, exception_only, running_compiled_code)\u001b[0m\n\u001b[1;32m   2062\u001b[0m                     \u001b[0;32mexcept\u001b[0m \u001b[0mException\u001b[0m\u001b[0;34m:\u001b[0m\u001b[0;34m\u001b[0m\u001b[0;34m\u001b[0m\u001b[0m\n\u001b[1;32m   2063\u001b[0m                         stb = self.InteractiveTB.structured_traceback(etype,\n\u001b[0;32m-> 2064\u001b[0;31m                                             value, tb, tb_offset=tb_offset)\n\u001b[0m\u001b[1;32m   2065\u001b[0m \u001b[0;34m\u001b[0m\u001b[0m\n\u001b[1;32m   2066\u001b[0m                     \u001b[0mself\u001b[0m\u001b[0;34m.\u001b[0m\u001b[0m_showtraceback\u001b[0m\u001b[0;34m(\u001b[0m\u001b[0metype\u001b[0m\u001b[0;34m,\u001b[0m \u001b[0mvalue\u001b[0m\u001b[0;34m,\u001b[0m \u001b[0mstb\u001b[0m\u001b[0;34m)\u001b[0m\u001b[0;34m\u001b[0m\u001b[0;34m\u001b[0m\u001b[0m\n",
      "\u001b[0;32m~/anaconda3/envs/DLC-GPU/lib/python3.7/site-packages/IPython/core/ultratb.py\u001b[0m in \u001b[0;36mstructured_traceback\u001b[0;34m(self, etype, value, tb, tb_offset, number_of_lines_of_context)\u001b[0m\n\u001b[1;32m   1366\u001b[0m             \u001b[0mself\u001b[0m\u001b[0;34m.\u001b[0m\u001b[0mtb\u001b[0m \u001b[0;34m=\u001b[0m \u001b[0mtb\u001b[0m\u001b[0;34m\u001b[0m\u001b[0;34m\u001b[0m\u001b[0m\n\u001b[1;32m   1367\u001b[0m         return FormattedTB.structured_traceback(\n\u001b[0;32m-> 1368\u001b[0;31m             self, etype, value, tb, tb_offset, number_of_lines_of_context)\n\u001b[0m\u001b[1;32m   1369\u001b[0m \u001b[0;34m\u001b[0m\u001b[0m\n\u001b[1;32m   1370\u001b[0m \u001b[0;34m\u001b[0m\u001b[0m\n",
      "\u001b[0;32m~/anaconda3/envs/DLC-GPU/lib/python3.7/site-packages/IPython/core/ultratb.py\u001b[0m in \u001b[0;36mstructured_traceback\u001b[0;34m(self, etype, value, tb, tb_offset, number_of_lines_of_context)\u001b[0m\n\u001b[1;32m   1266\u001b[0m             \u001b[0;31m# Verbose modes need a full traceback\u001b[0m\u001b[0;34m\u001b[0m\u001b[0;34m\u001b[0m\u001b[0;34m\u001b[0m\u001b[0m\n\u001b[1;32m   1267\u001b[0m             return VerboseTB.structured_traceback(\n\u001b[0;32m-> 1268\u001b[0;31m                 \u001b[0mself\u001b[0m\u001b[0;34m,\u001b[0m \u001b[0metype\u001b[0m\u001b[0;34m,\u001b[0m \u001b[0mvalue\u001b[0m\u001b[0;34m,\u001b[0m \u001b[0mtb\u001b[0m\u001b[0;34m,\u001b[0m \u001b[0mtb_offset\u001b[0m\u001b[0;34m,\u001b[0m \u001b[0mnumber_of_lines_of_context\u001b[0m\u001b[0;34m\u001b[0m\u001b[0;34m\u001b[0m\u001b[0m\n\u001b[0m\u001b[1;32m   1269\u001b[0m             )\n\u001b[1;32m   1270\u001b[0m         \u001b[0;32melif\u001b[0m \u001b[0mmode\u001b[0m \u001b[0;34m==\u001b[0m \u001b[0;34m'Minimal'\u001b[0m\u001b[0;34m:\u001b[0m\u001b[0;34m\u001b[0m\u001b[0;34m\u001b[0m\u001b[0m\n",
      "\u001b[0;32m~/anaconda3/envs/DLC-GPU/lib/python3.7/site-packages/IPython/core/ultratb.py\u001b[0m in \u001b[0;36mstructured_traceback\u001b[0;34m(self, etype, evalue, etb, tb_offset, number_of_lines_of_context)\u001b[0m\n\u001b[1;32m   1123\u001b[0m \u001b[0;34m\u001b[0m\u001b[0m\n\u001b[1;32m   1124\u001b[0m         formatted_exception = self.format_exception_as_a_whole(etype, evalue, etb, number_of_lines_of_context,\n\u001b[0;32m-> 1125\u001b[0;31m                                                                tb_offset)\n\u001b[0m\u001b[1;32m   1126\u001b[0m \u001b[0;34m\u001b[0m\u001b[0m\n\u001b[1;32m   1127\u001b[0m         \u001b[0mcolors\u001b[0m \u001b[0;34m=\u001b[0m \u001b[0mself\u001b[0m\u001b[0;34m.\u001b[0m\u001b[0mColors\u001b[0m  \u001b[0;31m# just a shorthand + quicker name lookup\u001b[0m\u001b[0;34m\u001b[0m\u001b[0;34m\u001b[0m\u001b[0m\n",
      "\u001b[0;32m~/anaconda3/envs/DLC-GPU/lib/python3.7/site-packages/IPython/core/ultratb.py\u001b[0m in \u001b[0;36mformat_exception_as_a_whole\u001b[0;34m(self, etype, evalue, etb, number_of_lines_of_context, tb_offset)\u001b[0m\n\u001b[1;32m   1080\u001b[0m \u001b[0;34m\u001b[0m\u001b[0m\n\u001b[1;32m   1081\u001b[0m \u001b[0;34m\u001b[0m\u001b[0m\n\u001b[0;32m-> 1082\u001b[0;31m         \u001b[0mlast_unique\u001b[0m\u001b[0;34m,\u001b[0m \u001b[0mrecursion_repeat\u001b[0m \u001b[0;34m=\u001b[0m \u001b[0mfind_recursion\u001b[0m\u001b[0;34m(\u001b[0m\u001b[0morig_etype\u001b[0m\u001b[0;34m,\u001b[0m \u001b[0mevalue\u001b[0m\u001b[0;34m,\u001b[0m \u001b[0mrecords\u001b[0m\u001b[0;34m)\u001b[0m\u001b[0;34m\u001b[0m\u001b[0;34m\u001b[0m\u001b[0m\n\u001b[0m\u001b[1;32m   1083\u001b[0m \u001b[0;34m\u001b[0m\u001b[0m\n\u001b[1;32m   1084\u001b[0m         \u001b[0mframes\u001b[0m \u001b[0;34m=\u001b[0m \u001b[0mself\u001b[0m\u001b[0;34m.\u001b[0m\u001b[0mformat_records\u001b[0m\u001b[0;34m(\u001b[0m\u001b[0mrecords\u001b[0m\u001b[0;34m,\u001b[0m \u001b[0mlast_unique\u001b[0m\u001b[0;34m,\u001b[0m \u001b[0mrecursion_repeat\u001b[0m\u001b[0;34m)\u001b[0m\u001b[0;34m\u001b[0m\u001b[0;34m\u001b[0m\u001b[0m\n",
      "\u001b[0;32m~/anaconda3/envs/DLC-GPU/lib/python3.7/site-packages/IPython/core/ultratb.py\u001b[0m in \u001b[0;36mfind_recursion\u001b[0;34m(etype, value, records)\u001b[0m\n\u001b[1;32m    380\u001b[0m     \u001b[0;31m# first frame (from in to out) that looks different.\u001b[0m\u001b[0;34m\u001b[0m\u001b[0;34m\u001b[0m\u001b[0;34m\u001b[0m\u001b[0m\n\u001b[1;32m    381\u001b[0m     \u001b[0;32mif\u001b[0m \u001b[0;32mnot\u001b[0m \u001b[0mis_recursion_error\u001b[0m\u001b[0;34m(\u001b[0m\u001b[0metype\u001b[0m\u001b[0;34m,\u001b[0m \u001b[0mvalue\u001b[0m\u001b[0;34m,\u001b[0m \u001b[0mrecords\u001b[0m\u001b[0;34m)\u001b[0m\u001b[0;34m:\u001b[0m\u001b[0;34m\u001b[0m\u001b[0;34m\u001b[0m\u001b[0m\n\u001b[0;32m--> 382\u001b[0;31m         \u001b[0;32mreturn\u001b[0m \u001b[0mlen\u001b[0m\u001b[0;34m(\u001b[0m\u001b[0mrecords\u001b[0m\u001b[0;34m)\u001b[0m\u001b[0;34m,\u001b[0m \u001b[0;36m0\u001b[0m\u001b[0;34m\u001b[0m\u001b[0;34m\u001b[0m\u001b[0m\n\u001b[0m\u001b[1;32m    383\u001b[0m \u001b[0;34m\u001b[0m\u001b[0m\n\u001b[1;32m    384\u001b[0m     \u001b[0;31m# Select filename, lineno, func_name to track frames with\u001b[0m\u001b[0;34m\u001b[0m\u001b[0;34m\u001b[0m\u001b[0;34m\u001b[0m\u001b[0m\n",
      "\u001b[0;31mTypeError\u001b[0m: object of type 'NoneType' has no len()"
     ]
    }
   ],
   "source": [
    "for i,ses in enumerate(myProject.sessionList[44:]) :\n",
    "    print(\"****** Session number \",i,\" ****** \",ses.name)\n",
    "    positionTrackingFromArenaTopVideo(ses=ses,modelDir=myProject.dlcModelPath)"
   ]
  },
  {
   "cell_type": "markdown",
   "id": "2f32c53e",
   "metadata": {},
   "source": [
    "\n",
    "## Trial segmentation and trial feature extraction\n",
    "\n",
    "\n",
    "The `session` object first get trial times from the `log` file present in each session directory.\n",
    "Then a list of `trial` objects are created. The trial object are extracting most of the features of the trial, using `Journeys` and `NavPath` objects when needed.\n",
    "\n",
    "Each `trial` returns a pandas DataFrame. These are concatenated by the `session` object. Finally, the `project` object concatenate the `session` DataFrames into a single DataFrame for the project.\n",
    "\n",
    "We will save the results in a file so that we don't need to run this step all the time."
   ]
  },
  {
   "cell_type": "markdown",
   "id": "76fa06fe",
   "metadata": {},
   "source": [
    "Run a test on one session"
   ]
  },
  {
   "cell_type": "code",
   "execution_count": null,
   "id": "6626fcb7",
   "metadata": {},
   "outputs": [],
   "source": [
    "ses = myProject.sessionList[20]\n",
    "ses.extractTrialFeatures()\n",
    "ses.getTrialVariablesDataFrame()"
   ]
  },
  {
   "cell_type": "code",
   "execution_count": null,
   "id": "8021d1dc",
   "metadata": {},
   "outputs": [],
   "source": [
    "count = 0\n",
    "for ses in myProject.sessionList:\n",
    "    print(\"Session {}\".format(count))\n",
    "    ses.extractTrialFeatures() # extract every trial\n",
    "    ses.getTrialVariablesDataFrame() # df is stored in the session object\n",
    "    count=count+1"
   ]
  },
  {
   "cell_type": "code",
   "execution_count": 8,
   "id": "a358fb87",
   "metadata": {},
   "outputs": [],
   "source": [
    "trialsDF = myProject.getTrialVariables()\n",
    "# save the DataFram as csv file\n",
    "fn = myProject.dataPath+\"/results/memoryTrialsDF.csv\"\n",
    "trialsDF.to_csv(fn)"
   ]
  },
  {
   "cell_type": "code",
   "execution_count": 9,
   "id": "bb537fd7",
   "metadata": {},
   "outputs": [],
   "source": [
    "# save the project object, with the already analyzed sessions!\n",
    "fn = myProject.dataPath+\"/results/myMemoryProject.pkl\"\n",
    "pickle.dump(myProject,open(fn,\"wb\"))"
   ]
  },
  {
   "cell_type": "markdown",
   "id": "4a9b3c6d",
   "metadata": {},
   "source": [
    "## Compare search path of dark trials for normal and probe trials\n",
    "\n",
    "For each dark trial, we need to have the lever position for the previous trial. \n",
    "\n",
    "First we reload the saved data from file, so we don't have to re-run the trial extraction each time."
   ]
  },
  {
   "cell_type": "code",
   "execution_count": 10,
   "id": "893298dc",
   "metadata": {},
   "outputs": [],
   "source": [
    "fn =  myProject.dataPath+\"/results/memoryTrialsDF.csv\"\n",
    "df = pd.read_csv(fn)"
   ]
  },
  {
   "cell_type": "markdown",
   "id": "fce0edb9",
   "metadata": {},
   "source": [
    "df is a pandas data.frame with one trial per row. \n",
    "\n",
    "We need to group the trials in session, calculate the previous lever position for each trial, and the merge the results\n",
    "\n",
    "We will first write a function that works on the trials from a single session, and then apply it to all session"
   ]
  },
  {
   "cell_type": "code",
   "execution_count": 11,
   "id": "a346448e",
   "metadata": {},
   "outputs": [
    {
     "name": "stdout",
     "output_type": "stream",
     "text": [
      "      leverPositionX  leverPositionY\n",
      "1133        8.215386        7.620694\n",
      "1134        0.139800        2.041074\n",
      "1135       11.098027       26.538217\n",
      "1136        9.934468      -19.220262\n",
      "1137        3.141052        1.350111\n",
      "1138      -24.258123       -2.203340\n",
      "1139       -3.679771       -2.474084\n",
      "1140       -4.773328       -3.949869\n",
      "1141       14.228651       13.063996\n",
      "1142       16.437435       12.152941\n",
      "1143       11.721750        4.425914\n",
      "1144       10.998264        4.996861\n",
      "1145       15.135441       19.995317\n",
      "1146      -14.759131      -17.819850\n",
      "1147        2.865805       -2.479978\n",
      "1148        2.848978       -0.523353\n",
      "1149        1.001197        2.883975\n",
      "1150        0.517863        3.074558\n",
      "1151      -11.653826       10.304435\n",
      "1152      -11.309488        8.680676\n",
      "1153      -13.868097      -19.331877\n",
      "1154       14.455911       19.843351\n",
      "1155        2.662633       -1.369227\n",
      "1156        2.187828       -2.361979\n",
      "1157       14.113733        2.586852\n",
      "1158       14.866332        0.947063\n",
      "1159       23.259326       -5.196857\n",
      "1160       23.151578       -5.196141\n",
      "1161        7.962530      -26.983946\n",
      "1162       -7.049958       26.939150\n",
      "1163        0.916702        5.651061\n",
      "1164       -1.562164        5.899229\n",
      "1165       -3.891368       -6.600156\n",
      "1166       -4.027245       -7.078613\n",
      "1167       -5.264388      -11.427002\n",
      "1168       -5.450899      -11.614870\n",
      "1169       13.736078       -0.693648\n",
      "1170       22.147299       -4.691231\n",
      "1171      -19.721422       -4.395900\n",
      "1172      -19.951458       -4.424186\n",
      "1173       -5.595442      -10.061230\n",
      "1174       -6.990655      -10.860768\n",
      "1175        6.492662       14.078544\n",
      "1176        7.525869       13.244916\n",
      "1177      -18.854569       -7.224674\n",
      "1178       20.342382        7.287521\n",
      "1179        5.827141        7.322717\n",
      "1180        6.051632        7.593042\n",
      "1181       -0.703212        1.214121\n",
      "1182        0.155628        2.630237\n",
      "1183       -2.684066      -19.723836\n",
      "      leverPositionX  leverPositionY  leverPositionOri  prevLeverPositionX  \\\n",
      "1133        8.215386        7.620694         36.122476                 NaN   \n",
      "1134        0.139800        2.041074        330.521488            8.215386   \n",
      "1135       11.098027       26.538217          8.200261            0.139800   \n",
      "1136        9.934468      -19.220262         19.628422           11.098027   \n",
      "1137        3.141052        1.350111        105.521048            9.934468   \n",
      "1138      -24.258123       -2.203340         29.515068            3.141052   \n",
      "1139       -3.679771       -2.474084        305.830018          -24.258123   \n",
      "1140       -4.773328       -3.949869        300.249658           -3.679771   \n",
      "1141       14.228651       13.063996         44.881099           -4.773328   \n",
      "1142       16.437435       12.152941         51.039896           14.228651   \n",
      "1143       11.721750        4.425914        195.843956           16.437435   \n",
      "1144       10.998264        4.996861        195.743270           11.721750   \n",
      "1145       15.135441       19.995317        130.305448           10.998264   \n",
      "1146      -14.759131      -17.819850        124.484875           15.135441   \n",
      "1147        2.865805       -2.479978        327.238628          -14.759131   \n",
      "1148        2.848978       -0.523353        330.055828            2.865805   \n",
      "1149        1.001197        2.883975         54.886877            2.848978   \n",
      "1150        0.517863        3.074558         56.749118            1.001197   \n",
      "1151      -11.653826       10.304435         17.298914            0.517863   \n",
      "1152      -11.309488        8.680676         18.710328          -11.653826   \n",
      "1153      -13.868097      -19.331877        345.283850          -11.309488   \n",
      "1154       14.455911       19.843351        335.738531          -13.868097   \n",
      "1155        2.662633       -1.369227        145.345696           14.455911   \n",
      "1156        2.187828       -2.361979        148.541935            2.662633   \n",
      "1157       14.113733        2.586852        263.575598            2.187828   \n",
      "1158       14.866332        0.947063        268.514825           14.113733   \n",
      "1159       23.259326       -5.196857        118.359359           14.866332   \n",
      "1160       23.151578       -5.196141        118.328523           23.259326   \n",
      "1161        7.962530      -26.983946        331.281112           23.151578   \n",
      "1162       -7.049958       26.939150        323.850543            7.962530   \n",
      "1163        0.916702        5.651061         90.503027           -7.049958   \n",
      "1164       -1.562164        5.899229         87.788227            0.916702   \n",
      "1165       -3.891368       -6.600156        245.002118           -1.562164   \n",
      "1166       -4.027245       -7.078613        247.495706           -3.891368   \n",
      "1167       -5.264388      -11.427002        231.251104           -4.027245   \n",
      "1168       -5.450899      -11.614870        230.709097           -5.264388   \n",
      "1169       13.736078       -0.693648        315.335293           -5.450899   \n",
      "1170       22.147299       -4.691231         14.980000           13.736078   \n",
      "1171      -19.721422       -4.395900        315.721427           22.147299   \n",
      "1172      -19.951458       -4.424186        312.781064          -19.721422   \n",
      "1173       -5.595442      -10.061230        253.066745          -19.951458   \n",
      "1174       -6.990655      -10.860768        251.611196           -5.595442   \n",
      "1175        6.492662       14.078544        303.590490           -6.990655   \n",
      "1176        7.525869       13.244916        304.915599            6.492662   \n",
      "1177      -18.854569       -7.224674        114.137780            7.525869   \n",
      "1178       20.342382        7.287521        121.249673          -18.854569   \n",
      "1179        5.827141        7.322717        136.632871           20.342382   \n",
      "1180        6.051632        7.593042        137.853283            5.827141   \n",
      "1181       -0.703212        1.214121        277.843626            6.051632   \n",
      "1182        0.155628        2.630237        280.130959           -0.703212   \n",
      "1183       -2.684066      -19.723836        274.156321            0.155628   \n",
      "\n",
      "      prevLeverPositionY  \n",
      "1133                 NaN  \n",
      "1134            7.620694  \n",
      "1135            2.041074  \n",
      "1136           26.538217  \n",
      "1137          -19.220262  \n",
      "1138            1.350111  \n",
      "1139           -2.203340  \n",
      "1140           -2.474084  \n",
      "1141           -3.949869  \n",
      "1142           13.063996  \n",
      "1143           12.152941  \n",
      "1144            4.425914  \n",
      "1145            4.996861  \n",
      "1146           19.995317  \n",
      "1147          -17.819850  \n",
      "1148           -2.479978  \n",
      "1149           -0.523353  \n",
      "1150            2.883975  \n",
      "1151            3.074558  \n",
      "1152           10.304435  \n",
      "1153            8.680676  \n",
      "1154          -19.331877  \n",
      "1155           19.843351  \n",
      "1156           -1.369227  \n",
      "1157           -2.361979  \n",
      "1158            2.586852  \n",
      "1159            0.947063  \n",
      "1160           -5.196857  \n",
      "1161           -5.196141  \n",
      "1162          -26.983946  \n",
      "1163           26.939150  \n",
      "1164            5.651061  \n",
      "1165            5.899229  \n",
      "1166           -6.600156  \n",
      "1167           -7.078613  \n",
      "1168          -11.427002  \n",
      "1169          -11.614870  \n",
      "1170           -0.693648  \n",
      "1171           -4.691231  \n",
      "1172           -4.395900  \n",
      "1173           -4.424186  \n",
      "1174          -10.061230  \n",
      "1175          -10.860768  \n",
      "1176           14.078544  \n",
      "1177           13.244916  \n",
      "1178           -7.224674  \n",
      "1179            7.287521  \n",
      "1180            7.322717  \n",
      "1181            7.593042  \n",
      "1182            1.214121  \n",
      "1183            2.630237  \n"
     ]
    }
   ],
   "source": [
    "# get the data from a single session\n",
    "ses = df[df.sessionName==\"TYY5622-16052021-1621\"]\n",
    "print(ses[[\"leverPositionX\",\"leverPositionY\"]])\n",
    "# get the previous x and y position\n",
    "prevLeverPositionX = pd.concat([pd.Series([np.nan]), ses.leverPositionX[:-1]],ignore_index=True)\n",
    "prevLeverPositionY = pd.concat([pd.Series([np.nan]), ses.leverPositionY[:-1]],ignore_index=True)\n",
    "\n",
    "# create new columns with the previous position\n",
    "ses[\"prevLeverPositionX\"] = prevLeverPositionX.values\n",
    "ses[\"prevLeverPositionY\"] = prevLeverPositionY.values\n",
    "\n",
    "# check the results\n",
    "print(ses.loc[:,ses.columns.to_series().str.contains('everPosition')])"
   ]
  },
  {
   "cell_type": "code",
   "execution_count": 12,
   "id": "1471e828",
   "metadata": {},
   "outputs": [
    {
     "name": "stdout",
     "output_type": "stream",
     "text": [
      "      leverPositionX  leverPositionY  leverPositionOri\n",
      "1133        8.215386        7.620694         36.122476\n",
      "1134        0.139800        2.041074        330.521488\n",
      "1135       11.098027       26.538217          8.200261\n",
      "1136        9.934468      -19.220262         19.628422\n",
      "1137        3.141052        1.350111        105.521048\n",
      "1138      -24.258123       -2.203340         29.515068\n",
      "1139       -3.679771       -2.474084        305.830018\n",
      "1140       -4.773328       -3.949869        300.249658\n",
      "1141       14.228651       13.063996         44.881099\n",
      "1142       16.437435       12.152941         51.039896\n",
      "1143       11.721750        4.425914        195.843956\n",
      "1144       10.998264        4.996861        195.743270\n",
      "1145       15.135441       19.995317        130.305448\n",
      "1146      -14.759131      -17.819850        124.484875\n",
      "1147        2.865805       -2.479978        327.238628\n",
      "1148        2.848978       -0.523353        330.055828\n",
      "1149        1.001197        2.883975         54.886877\n",
      "1150        0.517863        3.074558         56.749118\n",
      "1151      -11.653826       10.304435         17.298914\n",
      "1152      -11.309488        8.680676         18.710328\n",
      "1153      -13.868097      -19.331877        345.283850\n",
      "1154       14.455911       19.843351        335.738531\n",
      "1155        2.662633       -1.369227        145.345696\n",
      "1156        2.187828       -2.361979        148.541935\n",
      "1157       14.113733        2.586852        263.575598\n",
      "1158       14.866332        0.947063        268.514825\n",
      "1159       23.259326       -5.196857        118.359359\n",
      "1160       23.151578       -5.196141        118.328523\n",
      "1161        7.962530      -26.983946        331.281112\n",
      "1162       -7.049958       26.939150        323.850543\n",
      "1163        0.916702        5.651061         90.503027\n",
      "1164       -1.562164        5.899229         87.788227\n",
      "1165       -3.891368       -6.600156        245.002118\n",
      "1166       -4.027245       -7.078613        247.495706\n",
      "1167       -5.264388      -11.427002        231.251104\n",
      "1168       -5.450899      -11.614870        230.709097\n",
      "1169       13.736078       -0.693648        315.335293\n",
      "1170       22.147299       -4.691231         14.980000\n",
      "1171      -19.721422       -4.395900        315.721427\n",
      "1172      -19.951458       -4.424186        312.781064\n",
      "1173       -5.595442      -10.061230        253.066745\n",
      "1174       -6.990655      -10.860768        251.611196\n",
      "1175        6.492662       14.078544        303.590490\n",
      "1176        7.525869       13.244916        304.915599\n",
      "1177      -18.854569       -7.224674        114.137780\n",
      "1178       20.342382        7.287521        121.249673\n",
      "1179        5.827141        7.322717        136.632871\n",
      "1180        6.051632        7.593042        137.853283\n",
      "1181       -0.703212        1.214121        277.843626\n",
      "1182        0.155628        2.630237        280.130959\n",
      "1183       -2.684066      -19.723836        274.156321\n"
     ]
    }
   ],
   "source": [
    "# this is our function to do the same job\n",
    "ses = df[df.sessionName==\"TYY5622-16052021-1621\"]\n",
    "print(ses.loc[:,ses.columns.to_series().str.contains('everPosition')])"
   ]
  },
  {
   "cell_type": "code",
   "execution_count": 13,
   "id": "01ec6713",
   "metadata": {},
   "outputs": [
    {
     "name": "stdout",
     "output_type": "stream",
     "text": [
      "      leverPositionX  leverPositionY  leverPositionOri\n",
      "1133        8.215386        7.620694         36.122476\n",
      "1134        0.139800        2.041074        330.521488\n",
      "1135       11.098027       26.538217          8.200261\n",
      "1136        9.934468      -19.220262         19.628422\n",
      "1137        3.141052        1.350111        105.521048\n",
      "1138      -24.258123       -2.203340         29.515068\n",
      "1139       -3.679771       -2.474084        305.830018\n",
      "1140       -4.773328       -3.949869        300.249658\n",
      "1141       14.228651       13.063996         44.881099\n",
      "1142       16.437435       12.152941         51.039896\n",
      "1143       11.721750        4.425914        195.843956\n",
      "1144       10.998264        4.996861        195.743270\n",
      "1145       15.135441       19.995317        130.305448\n",
      "1146      -14.759131      -17.819850        124.484875\n",
      "1147        2.865805       -2.479978        327.238628\n",
      "1148        2.848978       -0.523353        330.055828\n",
      "1149        1.001197        2.883975         54.886877\n",
      "1150        0.517863        3.074558         56.749118\n",
      "1151      -11.653826       10.304435         17.298914\n",
      "1152      -11.309488        8.680676         18.710328\n",
      "1153      -13.868097      -19.331877        345.283850\n",
      "1154       14.455911       19.843351        335.738531\n",
      "1155        2.662633       -1.369227        145.345696\n",
      "1156        2.187828       -2.361979        148.541935\n",
      "1157       14.113733        2.586852        263.575598\n",
      "1158       14.866332        0.947063        268.514825\n",
      "1159       23.259326       -5.196857        118.359359\n",
      "1160       23.151578       -5.196141        118.328523\n",
      "1161        7.962530      -26.983946        331.281112\n",
      "1162       -7.049958       26.939150        323.850543\n",
      "1163        0.916702        5.651061         90.503027\n",
      "1164       -1.562164        5.899229         87.788227\n",
      "1165       -3.891368       -6.600156        245.002118\n",
      "1166       -4.027245       -7.078613        247.495706\n",
      "1167       -5.264388      -11.427002        231.251104\n",
      "1168       -5.450899      -11.614870        230.709097\n",
      "1169       13.736078       -0.693648        315.335293\n",
      "1170       22.147299       -4.691231         14.980000\n",
      "1171      -19.721422       -4.395900        315.721427\n",
      "1172      -19.951458       -4.424186        312.781064\n",
      "1173       -5.595442      -10.061230        253.066745\n",
      "1174       -6.990655      -10.860768        251.611196\n",
      "1175        6.492662       14.078544        303.590490\n",
      "1176        7.525869       13.244916        304.915599\n",
      "1177      -18.854569       -7.224674        114.137780\n",
      "1178       20.342382        7.287521        121.249673\n",
      "1179        5.827141        7.322717        136.632871\n",
      "1180        6.051632        7.593042        137.853283\n",
      "1181       -0.703212        1.214121        277.843626\n",
      "1182        0.155628        2.630237        280.130959\n",
      "1183       -2.684066      -19.723836        274.156321\n",
      "   leverPositionX  leverPositionY  leverPositionOri  prevLeverPositionX  \\\n",
      "0        1.202589        0.586620        137.868991                 NaN   \n",
      "1      -24.517534        1.846261        254.406850            1.202589   \n",
      "2       11.565547       14.119517         49.792053          -24.517534   \n",
      "3       14.727235        8.912516         25.597383           11.565547   \n",
      "4        7.257581       21.721162        129.096070           14.727235   \n",
      "5      -18.016060        5.925882         96.725049            7.257581   \n",
      "\n",
      "   prevLeverPositionY  \n",
      "0                 NaN  \n",
      "1            0.586620  \n",
      "2            1.846261  \n",
      "3           14.119517  \n",
      "4            8.912516  \n",
      "5           21.721162  \n"
     ]
    }
   ],
   "source": [
    "ses = df[df.sessionName==\"TYY5622-16052021-1621\"]\n",
    "print(ses.loc[:,ses.columns.to_series().str.contains('everPosition')])\n",
    "\n",
    "def addPrevLeverPosition(ses):\n",
    "    # get the previous x and y position\n",
    "    prevLeverPositionX = pd.concat([pd.Series([np.nan]), ses.leverPositionX[:-1]],ignore_index=True)\n",
    "    prevLeverPositionY = pd.concat([pd.Series([np.nan]), ses.leverPositionY[:-1]],ignore_index=True)\n",
    "    # create new columns with the previous position\n",
    "    ses[\"prevLeverPositionX\"] = prevLeverPositionX.values\n",
    "    ses[\"prevLeverPositionY\"] = prevLeverPositionY.values\n",
    "    # calculate the distance of lever positions\n",
    "    ses[\"leverDelta\"] = np.sqrt((ses[\"leverPositionX\"]-ses[\"prevLeverPositionX\"])**2 + (ses[\"leverPositionY\"]-ses[\"prevLeverPositionY\"])**2)\n",
    "    return ses\n",
    "# run it on one session\n",
    "addPrevLeverPosition(ses)\n",
    "\n",
    "# apply our function to all sessions\n",
    "df = df.groupby(\"sessionName\").apply(addPrevLeverPosition)\n",
    "\n",
    "print(df.loc[:5,df.columns.to_series().str.contains('everPosition')])"
   ]
  },
  {
   "cell_type": "markdown",
   "id": "8a00d509",
   "metadata": {},
   "source": [
    "Calculate the distance between the previous lever and the current lever"
   ]
  },
  {
   "cell_type": "code",
   "execution_count": 14,
   "id": "6ba9d715",
   "metadata": {},
   "outputs": [
    {
     "data": {
      "image/png": "[encoded data removed]",
      "text/plain": [
       "<Figure size 432x288 with 1 Axes>"
      ]
     },
     "metadata": {
      "needs_background": "light"
     },
     "output_type": "display_data"
    }
   ],
   "source": [
    "%matplotlib inline\n",
    "plt.hist(df[df.light==\"dark\"][\"leverDelta\"].values)\n",
    "plt.title(\"Lever displacement during dark trials\")\n",
    "plt.xlabel(\"Lever displacement (cm)\")\n",
    "plt.ylabel(\"Trials\")\n",
    "plt.show()\n"
   ]
  },
  {
   "cell_type": "code",
   "execution_count": 15,
   "id": "c4bdba1e",
   "metadata": {},
   "outputs": [],
   "source": [
    "df[\"probe\"] = df.leverDelta > 25"
   ]
  },
  {
   "cell_type": "code",
   "execution_count": 48,
   "id": "0b5e8103",
   "metadata": {},
   "outputs": [],
   "source": [
    "from datetime import datetime\n",
    "df.date = pd.to_datetime(df.date)\n",
    "start = datetime(2021, 5, 27, 0, 0, 0, 0)\n",
    "end = datetime(2021, 5, 30, 23, 0, 0, 0)\n",
    "df[\"probe_day\"]=(df.date > start) & (df.date < end)"
   ]
  },
  {
   "cell_type": "markdown",
   "id": "7f87da96",
   "metadata": {},
   "source": [
    "Keep only dark trials of the probe days"
   ]
  },
  {
   "cell_type": "code",
   "execution_count": 52,
   "id": "ceba5c7a",
   "metadata": {},
   "outputs": [],
   "source": [
    "df = df[(df.light==\"dark\") & (df.probe_day==True) ] "
   ]
  },
  {
   "cell_type": "code",
   "execution_count": 61,
   "id": "2d855298",
   "metadata": {},
   "outputs": [
    {
     "name": "stdout",
     "output_type": "stream",
     "text": [
      "Normal dark trials\n",
      "count    198.000000\n",
      "mean      54.559149\n",
      "std       39.337136\n",
      "min        8.323355\n",
      "25%       27.765172\n",
      "50%       40.268592\n",
      "75%       68.431344\n",
      "max      182.139699\n",
      "Name: searchArenaNoLever_length, dtype: float64\n",
      "Probe dark trials\n",
      "count     64.000000\n",
      "mean      65.782619\n",
      "std       67.717631\n",
      "min        1.772349\n",
      "25%       23.169416\n",
      "50%       51.323444\n",
      "75%       71.443585\n",
      "max      429.106775\n",
      "Name: searchArenaNoLever_length, dtype: float64\n"
     ]
    }
   ],
   "source": [
    "\n",
    "print(\"Normal dark trials\")\n",
    "print(df[(df.probe==False)].searchArenaNoLever_length.describe())\n",
    "print(\"Probe dark trials\")\n",
    "print(df[(df.probe==True)].searchArenaNoLever_length.describe())"
   ]
  },
  {
   "cell_type": "code",
   "execution_count": 63,
   "id": "61434ff6",
   "metadata": {},
   "outputs": [
    {
     "name": "stdout",
     "output_type": "stream",
     "text": [
      "270\n"
     ]
    },
    {
     "name": "stderr",
     "output_type": "stream",
     "text": [
      "/home/kevin/anaconda3/envs/DLC-GPU/lib/python3.7/site-packages/numpy/lib/histograms.py:824: RuntimeWarning: invalid value encountered in greater_equal\n",
      "  keep = (tmp_a >= first_edge)\n",
      "/home/kevin/anaconda3/envs/DLC-GPU/lib/python3.7/site-packages/numpy/lib/histograms.py:825: RuntimeWarning: invalid value encountered in less_equal\n",
      "  keep &= (tmp_a <= last_edge)\n",
      "/home/kevin/anaconda3/envs/DLC-GPU/lib/python3.7/site-packages/numpy/lib/histograms.py:824: RuntimeWarning: invalid value encountered in greater_equal\n",
      "  keep = (tmp_a >= first_edge)\n",
      "/home/kevin/anaconda3/envs/DLC-GPU/lib/python3.7/site-packages/numpy/lib/histograms.py:825: RuntimeWarning: invalid value encountered in less_equal\n",
      "  keep &= (tmp_a <= last_edge)\n"
     ]
    },
    {
     "data": {
      "image/png": "[encoded data removed]",
      "text/plain": [
       "<Figure size 432x288 with 1 Axes>"
      ]
     },
     "metadata": {
      "needs_background": "light"
     },
     "output_type": "display_data"
    }
   ],
   "source": [
    "print(len(df))\n",
    "plt.hist(df[(df.probe==False)].searchArenaNoLever_length,cumulative=True,density=True,histtype='step')\n",
    "plt.hist(df[(df.probe==True)].searchArenaNoLever_length,cumulative=True,density=True,histtype='step')\n",
    "plt.show()\n"
   ]
  },
  {
   "cell_type": "code",
   "execution_count": 66,
   "id": "5fdbca59",
   "metadata": {},
   "outputs": [
    {
     "data": {
      "text/plain": [
       "MannwhitneyuResult(statistic=6416.0, pvalue=0.32691667282887027)"
      ]
     },
     "execution_count": 66,
     "metadata": {},
     "output_type": "execute_result"
    }
   ],
   "source": [
    "from scipy import stats\n",
    "\n",
    "valN = df[(df.probe==False)].searchArenaNoLever_length\n",
    "valP = df[(df.probe==True)].searchArenaNoLever_length\n",
    "stats.mannwhitneyu(x=valN, y =valP )"
   ]
  },
  {
   "cell_type": "code",
   "execution_count": null,
   "id": "c6262cc9",
   "metadata": {},
   "outputs": [],
   "source": []
  }
 ],
 "metadata": {
  "kernelspec": {
   "display_name": "Python [conda env:DLC-GPU] *",
   "language": "python",
   "name": "conda-env-DLC-GPU-py"
  },
  "language_info": {
   "codemirror_mode": {
    "name": "ipython",
    "version": 3
   },
   "file_extension": ".py",
   "mimetype": "text/x-python",
   "name": "python",
   "nbconvert_exporter": "python",
   "pygments_lexer": "ipython3",
   "version": "3.7.10"
  }
 },
 "nbformat": 4,
 "nbformat_minor": 5
}
