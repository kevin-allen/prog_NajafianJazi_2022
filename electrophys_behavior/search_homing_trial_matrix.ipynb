{
 "cells": [
  {
   "cell_type": "markdown",
   "id": "cbc1aeba-0b1a-469b-b1e9-40db5d40ba02",
   "metadata": {},
   "source": [
    "# Trial matrix processing\n",
    "\n",
    "We calculate some scores that characterise the trial matrices, including the matrix correlation and its significance.\n",
    "\n",
    "To detect cells with significant effect of lever position, we calculate the correlation between the firing peak position (y-coordinate) and the lever position (y-coordinate) and its significance.\n"
   ]
  },
  {
   "cell_type": "markdown",
   "id": "f2138e01-3ab6-4719-84fe-1b7a233c8288",
   "metadata": {},
   "source": [
    "## Load the data"
   ]
  },
  {
   "cell_type": "code",
   "execution_count": 2,
   "id": "b1d68ff8-a400-492b-9793-ec161314c46b",
   "metadata": {},
   "outputs": [
    {
     "name": "stdout",
     "output_type": "stream",
     "text": [
      "Project name: autopi_ca1\n",
      "dataPath: /adata/projects/autopi_ca1\n",
      "dlcModelPath: /adata/models\n",
      "Reading /adata/projects/autopi_ca1/sessionList\n",
      "We have 39 testing sessions in the list\n",
      "See myProject and sSesList objects\n",
      "Loading Animal_pose and Spike_train, sSes.ap and sSes.cg\n"
     ]
    },
    {
     "name": "stderr",
     "output_type": "stream",
     "text": [
      "100%|███████████████████████████████████████████| 39/39 [00:21<00:00,  1.82it/s]"
     ]
    },
    {
     "name": "stdout",
     "output_type": "stream",
     "text": [
      "Loading ses.trial_table_simple as ses.trials\n",
      "Create condition intervals in ses.intervalDict\n"
     ]
    },
    {
     "name": "stderr",
     "output_type": "stream",
     "text": [
      "\n"
     ]
    }
   ],
   "source": [
    "%load_ext autoreload\n",
    "%autoreload 2\n",
    "%run setup_project.py\n",
    "prepareSessionsForSpatialAnalysisProject(sSesList,myProject.sessionList,pose_file_extension = \".pose_kf.npy\")"
   ]
  },
  {
   "cell_type": "code",
   "execution_count": 4,
   "id": "a67fa588-e226-4aa8-b4c6-65b5ac438c18",
   "metadata": {},
   "outputs": [
    {
     "name": "stdout",
     "output_type": "stream",
     "text": [
      "loading: /adata/projects/autopi_ca1/results/searchIFRDict.pickle\n",
      "loading: /adata/projects/autopi_ca1/results/homingIFRDict.pickle\n"
     ]
    }
   ],
   "source": [
    "# matrices with single trials \n",
    "fn=myProject.dataPath+\"/results/searchIFRDict.pickle\"\n",
    "print(\"loading:\",fn)\n",
    "with open(fn, 'rb') as handle:\n",
    "    searchIFR = pickle.load(handle)\n",
    "    \n",
    "# matrices with single trials \n",
    "fn=myProject.dataPath+\"/results/homingIFRDict.pickle\"\n",
    "print(\"loading:\",fn)\n",
    "with open(fn, 'rb') as handle:\n",
    "    homingIFR = pickle.load(handle)"
   ]
  },
  {
   "cell_type": "markdown",
   "id": "0d7e25f1-92ff-4279-acd8-4864ee3097ee",
   "metadata": {},
   "source": [
    "Because it takes time to run these analysis, we will limit it to the pyramidal cells for now."
   ]
  },
  {
   "cell_type": "code",
   "execution_count": 5,
   "id": "8cbd5f50-b36c-4b32-8610-7b282ead0ef2",
   "metadata": {},
   "outputs": [
    {
     "name": "stdout",
     "output_type": "stream",
     "text": [
      "Pyramidal cells: 438\n",
      "Pyramidal cells: 438\n"
     ]
    }
   ],
   "source": [
    "fn=myProject.dataPath+\"/results/cell_classification.csv\"\n",
    "ct = pd.read_csv(fn)\n",
    "pyrIndices=ct.cellType==\"pyr\"\n",
    "pyrId=ct.id[ct.cellType==\"pyr\"]\n",
    "print(\"Pyramidal cells: {}\".format(np.sum(ct.cellType==\"pyr\")))\n",
    "print(\"Pyramidal cells: {}\".format(np.sum(pyrIndices)))"
   ]
  },
  {
   "cell_type": "code",
   "execution_count": 6,
   "id": "93735481-c686-47e9-bd17-ef6c526d7beb",
   "metadata": {},
   "outputs": [
    {
     "name": "stdout",
     "output_type": "stream",
     "text": [
      "438\n",
      "438\n"
     ]
    }
   ],
   "source": [
    "mySearchDict={}\n",
    "for oneId in searchIFR.keys():\n",
    "    if oneId in list(pyrId):\n",
    "        mySearchDict.update({oneId:searchIFR[oneId]})\n",
    "print(len(mySearchDict.keys()))\n",
    "\n",
    "myHomingDict={}\n",
    "for oneId in homingIFR.keys():\n",
    "    if oneId in list(pyrId):\n",
    "        myHomingDict.update({oneId:homingIFR[oneId]})\n",
    "print(len(myHomingDict.keys()))"
   ]
  },
  {
   "cell_type": "markdown",
   "id": "15fd77ff-1b72-4b22-96f4-a1b6635d7242",
   "metadata": {},
   "source": [
    "The `mySearchDict` contains several nested dictionaries. \n",
    "\n",
    "* cluId\n",
    "* matrix\n",
    "* searchToLeverPath_light_y\n",
    "* matrix\n"
   ]
  },
  {
   "cell_type": "code",
   "execution_count": 5,
   "id": "ac7fa08c-bc7f-4022-8dd3-213e4d2f3175",
   "metadata": {},
   "outputs": [
    {
     "data": {
      "text/plain": [
       "dict_keys(['matrix', 'bins', 'names'])"
      ]
     },
     "execution_count": 5,
     "metadata": {},
     "output_type": "execute_result"
    }
   ],
   "source": [
    "myHomingDict['mn711-01022021-0107_41'][\"matrix\"]['homingFromLeavingLeverToPeriphery_dark_distance'].keys()"
   ]
  },
  {
   "cell_type": "code",
   "execution_count": 6,
   "id": "8f67e72b-e85d-4937-9590-9b1775583478",
   "metadata": {},
   "outputs": [
    {
     "data": {
      "text/plain": [
       "dict_keys(['homingFromLeavingLeverToPeriphery_light_iTime', 'homingFromLeavingLeverToPeriphery_dark_iTime', 'homingFromLeavingLeverToPeriphery_light_distance', 'homingFromLeavingLeverToPeriphery_dark_distance', 'homingFromLeavingLeverToPeriphery_light_targetDistance', 'homingFromLeavingLeverToPeriphery_dark_targetDistance', 'homingFromLeavingLeverToPeriphery_light_y', 'homingFromLeavingLeverToPeriphery_dark_y'])"
      ]
     },
     "execution_count": 6,
     "metadata": {},
     "output_type": "execute_result"
    }
   ],
   "source": [
    "myHomingDict['mn711-01022021-0107_41'][\"matrix\"].keys()"
   ]
  },
  {
   "cell_type": "markdown",
   "id": "f35c9416-6e94-4998-8567-aee16bbbd943",
   "metadata": {},
   "source": [
    "## Characterization of the trial matrix\n",
    "\n",
    "For each matrix, we want to extract information that we can used to describe the firing fields of the neuron.\n",
    "\n"
   ]
  },
  {
   "cell_type": "markdown",
   "id": "88d5c919-585a-4291-8c84-21b45d2f9e64",
   "metadata": {},
   "source": [
    "Let's find some examples to work with."
   ]
  },
  {
   "cell_type": "code",
   "execution_count": 7,
   "id": "2c5f0d19-c014-4bd3-8adb-7fd661ea5150",
   "metadata": {},
   "outputs": [
    {
     "data": {
      "text/plain": [
       "['mn711-01022021-0107_41',\n",
       " 'mn711-01022021-0107_69',\n",
       " 'mn711-01022021-0107_75',\n",
       " 'mn711-01022021-0107_81',\n",
       " 'mn711-01022021-0107_83']"
      ]
     },
     "execution_count": 7,
     "metadata": {},
     "output_type": "execute_result"
    }
   ],
   "source": [
    "list(mySearchDict.keys())[40:45]"
   ]
  },
  {
   "cell_type": "code",
   "execution_count": 8,
   "id": "a5ef1f9a-4495-4605-8f95-c0d1a170c8d1",
   "metadata": {},
   "outputs": [
    {
     "data": {
      "image/png": "[encoded data removed]",
      "text/plain": [
       "<Figure size 432x288 with 2 Axes>"
      ]
     },
     "metadata": {
      "needs_background": "light"
     },
     "output_type": "display_data"
    },
    {
     "data": {
      "image/png": "[encoded data removed]",
      "text/plain": [
       "<Figure size 432x288 with 2 Axes>"
      ]
     },
     "metadata": {
      "needs_background": "light"
     },
     "output_type": "display_data"
    }
   ],
   "source": [
    "for k in list(mySearchDict.keys())[40:42]:\n",
    "    ml = mySearchDict[k][\"matrix\"][\"searchToLeverPath_light_y\"][\"matrix\"].copy()\n",
    "    md = mySearchDict[k][\"matrix\"][\"searchToLeverPath_dark_y\"][\"matrix\"].copy()\n",
    "    fig, ax = plt.subplots(1,2)\n",
    "    ax[0].imshow(ml,interpolation=\"none\")\n",
    "    ax[0].set_title(k)\n",
    "    ax[1].imshow(md,interpolation=\"none\")\n",
    "    plt.show()\n"
   ]
  },
  {
   "cell_type": "code",
   "execution_count": 9,
   "id": "3159544e-9712-4b82-a6a4-765b1ca11db6",
   "metadata": {},
   "outputs": [
    {
     "name": "stdout",
     "output_type": "stream",
     "text": [
      "mn711-01022021-0107_41\n"
     ]
    },
    {
     "data": {
      "image/png": "[encoded data removed]",
      "text/plain": [
       "<Figure size 432x288 with 2 Axes>"
      ]
     },
     "metadata": {
      "needs_background": "light"
     },
     "output_type": "display_data"
    },
    {
     "name": "stdout",
     "output_type": "stream",
     "text": [
      "mn711-01022021-0107_69\n"
     ]
    },
    {
     "data": {
      "image/png": "[encoded data removed]",
      "text/plain": [
       "<Figure size 432x288 with 2 Axes>"
      ]
     },
     "metadata": {
      "needs_background": "light"
     },
     "output_type": "display_data"
    }
   ],
   "source": [
    "for k in list(myHomingDict.keys())[40:42]:\n",
    "    print(k)\n",
    "    ml = myHomingDict[k][\"matrix\"][\"homingFromLeavingLeverToPeriphery_light_y\"][\"matrix\"].copy()\n",
    "    md = myHomingDict[k][\"matrix\"][\"homingFromLeavingLeverToPeriphery_dark_y\"][\"matrix\"].copy()\n",
    "    fig, ax = plt.subplots(1,2)\n",
    "    ax[0].imshow(ml,interpolation=\"none\")\n",
    "    ax[0].set_title(k)\n",
    "    ax[1].imshow(md,interpolation=\"none\")\n",
    "    plt.show()"
   ]
  },
  {
   "cell_type": "markdown",
   "id": "67d5dfb0-1e5f-490a-9789-4f83b4dd2358",
   "metadata": {},
   "source": [
    "We want a function to plot the trial matrix. The function will take a dictionary with the keys `matrix` and `bins`."
   ]
  },
  {
   "cell_type": "code",
   "execution_count": 10,
   "id": "25ccb604-3dae-4e79-a89a-6c6b24897706",
   "metadata": {},
   "outputs": [],
   "source": [
    "def plotTrialIFRMatrix(ax,matDict,showXLabel=True,sort=False, showYLabel=True,colorBar=False,aspect=\"auto\"):\n",
    "    \"\"\"\n",
    "    Plot the matrix of rate per journey as a function ?\n",
    "    \"\"\"\n",
    "    if \"matrix\" not in matDict.keys():\n",
    "        print(\"matrix key missing\")\n",
    "    \n",
    "    m = matDict[\"matrix\"]\n",
    "    bins = matDict[\"bins\"]\n",
    "    \n",
    "    xLabelsDict = {\"y\":\"y coordinates (cm)\",\n",
    "                   \"iTime\": \"Time (sec)\",\n",
    "                   \"distance\": \"Distance run (cm)\",\n",
    "                   \"targetDistance\": \"Lever distance (cm)\"}\n",
    "    \n",
    "    # sort matrix from shortest to longest distance from lever\n",
    "    if sort:\n",
    "        m= m[np.argsort(-np.sum(np.isnan(m),axis=1))].copy()\n",
    "    \n",
    "    pos = ax.imshow(m,aspect=aspect,interpolation=\"none\",origin=\"lower\",cmap=\"jet\",\n",
    "                   extent=[np.min(bins),np.max(bins),0,m.shape[0]])\n",
    "    if colorBar:\n",
    "        fig.colorbar(pos, ax=ax)\n",
    "    \n",
    "    if showYLabel:\n",
    "        ax.set_ylabel(\"Paths\")\n",
    "    if showXLabel:\n",
    "        ax.set_xlabel(xLabelsDict[matDict[\"var\"]])\n",
    "        ax.xaxis.set_label_coords(0.5,-0.175)\n",
    "    else:\n",
    "        ax.set_xlabel(xLabel)\n",
    "    #ax.yaxis.set_label_coords(-0.4, 0.5)\n",
    "    ax.spines['top'].set_visible(False)\n",
    "    ax.spines['right'].set_visible(False)"
   ]
  },
  {
   "cell_type": "markdown",
   "id": "78669a21-ea68-4ca1-a551-fced6c6fa030",
   "metadata": {},
   "source": [
    "We need to process the trial matrix to get valid stats. \n",
    "We get rid of empty columns after the last column with valid data.\n",
    "We also trim super long trial so that we have a minimum of 4 valid data firing rate to get the mean rate of each column"
   ]
  },
  {
   "cell_type": "code",
   "execution_count": 11,
   "id": "3281f8dd-7e46-4207-ba64-ae982f934ce7",
   "metadata": {},
   "outputs": [],
   "source": [
    "def trimTrailingMatrixNanColumn(matDict):\n",
    "    \"\"\"\n",
    "    Removes columns of the matrix that are filled with np.nan. \n",
    "    Only removes columns that are after the last column containing valid values\n",
    "    \"\"\"\n",
    "    if \"matrix\" not in matDict.keys():\n",
    "        print(\"matrix key missing\")\n",
    "    \n",
    "    m = matDict[\"matrix\"]\n",
    "    bins = matDict[\"bins\"]\n",
    "    \n",
    "    nRows = m.shape[0]\n",
    "    nCols = m.shape[1]\n",
    "    emptyCol = np.sum(np.isnan(m),axis=0) == nRows\n",
    "    if np.sum(emptyCol) > 0:\n",
    "        lastNotEmpty = np.max(np.where(emptyCol==0))\n",
    "        m = m[:,:lastNotEmpty+1]\n",
    "        bins = bins[:lastNotEmpty+2]\n",
    "    \n",
    "    matDict[\"matrix\"] = m\n",
    "    matDict[\"bins\"] = bins\n",
    "    \n",
    "    #print(\"trim\",matDict[\"matrix\"].shape,matDict[\"bins\"].shape)\n",
    "    return matDict\n",
    "    \n",
    "def removeEmptyTrials(matDict):\n",
    "    \"\"\"\n",
    "    Remove any trials that have only np.nan values\n",
    "    \"\"\"\n",
    "    if \"matrix\" not in matDict.keys():\n",
    "        print(\"matrix key missing\")    \n",
    "    m = matDict[\"matrix\"]\n",
    "    matDict[\"matrix\"] = m[np.sum(~np.isnan(m),axis=1)>0,:]\n",
    "    #print(\"removeEmpyt\",matDict[\"matrix\"].shape,matDict[\"bins\"].shape)\n",
    "    return matDict\n",
    "    \n",
    "    \n",
    "def cutExtremelyLongTrials(matDict, minNumberValidValues=10):\n",
    "    \"\"\"\n",
    "    Identify the longest trials of the session and remove the values at the end so that there is at least minNumberValidValues in each column of the matrix\n",
    "    \n",
    "    This was implemented to prevent that a single very long trial compromise the detection of the peak firing rate location calculated from all trials. \n",
    "    \n",
    "    This procedure makes sure that one spike in a very long path will not be detected as the peak location in the matrix. Each value will be the average of a few trials.\n",
    "    \n",
    "    \"\"\"\n",
    "    if \"matrix\" not in matDict.keys():\n",
    "        print(\"matrix key missing\")    \n",
    "    m = matDict[\"matrix\"]\n",
    "    bins = matDict[\"bins\"]\n",
    "    \n",
    "    def myFct(x):\n",
    "        if np.sum(x)> 0:\n",
    "            return np.max(np.where(x))\n",
    "        else:\n",
    "            return x.shape[0]\n",
    "    lastValidValueInRow = np.apply_along_axis(myFct, axis=1,arr = ~np.isnan(m))\n",
    "    sortedValid = np.sort(lastValidValueInRow)\n",
    "    threshold = sortedValid[-minNumberValidValues]\n",
    "    \n",
    "    matDict[\"matrix\"] = m[:,:threshold+1]\n",
    "    matDict[\"bins\"] = bins[:threshold+2]\n",
    "    #print(\"cutExtremelyLong\",matDict[\"matrix\"].shape,matDict[\"bins\"].shape)\n",
    "    return matDict"
   ]
  },
  {
   "cell_type": "code",
   "execution_count": 12,
   "id": "5b35193b-f4f1-48d8-891c-59830eb85c5d",
   "metadata": {},
   "outputs": [],
   "source": [
    "def removeEmptyColumnsAtBeginning(matDict,minNumberValidValues=10):\n",
    "    \"\"\"\n",
    "    Check if there are empty columns at the left side of the matrix or if there are some that have fewer than minNumberValidValues, if so remove them.\n",
    "    \n",
    "    It will stop removing as soon as there is a column with the minNumberValidValues\n",
    "    \n",
    "    \"\"\"\n",
    "    if \"matrix\" not in matDict.keys():\n",
    "        print(\"matrix key missing\")    \n",
    "    m = matDict[\"matrix\"]\n",
    "    bins = matDict[\"bins\"]\n",
    "    \n",
    "    def myFct(x):\n",
    "        if np.sum(x)>0:\n",
    "            return np.min(np.where(x))\n",
    "        else:\n",
    "            return 0\n",
    "    firstValidValueInRow = np.apply_along_axis(myFct, axis=1,arr = ~np.isnan(m))\n",
    "    \n",
    "    sortedValid = np.sort(firstValidValueInRow)\n",
    "    threshold = sortedValid[minNumberValidValues]\n",
    "    \n",
    "    matDict[\"matrix\"] = m[:,threshold:]\n",
    "    matDict[\"bins\"] = bins[(threshold):]\n",
    "    #print(\"removeEmptyColumns\",matDict[\"matrix\"].shape,matDict[\"bins\"].shape)\n",
    "    return matDict"
   ]
  },
  {
   "cell_type": "markdown",
   "id": "ddf7e955-838e-4008-b8ab-8a6475fdc13d",
   "metadata": {},
   "source": [
    "We can get the matrix and bins from the dictionary containing all matrices. "
   ]
  },
  {
   "cell_type": "code",
   "execution_count": null,
   "id": "890709eb-81db-4a4b-965f-a1b7b0038897",
   "metadata": {},
   "outputs": [],
   "source": []
  },
  {
   "cell_type": "code",
   "execution_count": 13,
   "id": "06db911a-94fd-40a1-be82-7595f06f9a02",
   "metadata": {},
   "outputs": [],
   "source": [
    "def get_matDic(mainDict,cluId,pathType,light,var):\n",
    "    \"\"\"\n",
    "    get a dictionary with one matrix, bins, and other variables from the dictionary containing all neurons, all conditions\n",
    "    \n",
    "    We set a few keys in the dictionary that can be used when ploting and processing.\n",
    "    \"\"\"\n",
    "    matDic = mainDict[cluId][\"matrix\"][\"{}_{}_{}\".format(pathType,light,var)]\n",
    "    matDic[\"pathType\"] = pathType\n",
    "    matDic[\"light\"] = light\n",
    "    matDic[\"var\"] = var\n",
    "    matDic[\"cluId\"] = cluId\n",
    "    return matDic"
   ]
  },
  {
   "cell_type": "code",
   "execution_count": 14,
   "id": "1de1f531-8067-468f-bad8-3edc142c2199",
   "metadata": {},
   "outputs": [],
   "source": [
    "m1 = get_matDic(myHomingDict,cluId=\"mn3246-09042021-0106_4\",pathType = \"homingFromLeavingLeverToPeriphery\", light = \"light\", var = \"y\")\n",
    "m2 = get_matDic(myHomingDict,cluId='mn711-01022021-0107_41',pathType = \"homingFromLeavingLeverToPeriphery\", light = \"dark\", var = \"y\")\n"
   ]
  },
  {
   "cell_type": "code",
   "execution_count": 15,
   "id": "1d7b01e6-b76d-408a-abaa-cf4a6800bb9d",
   "metadata": {},
   "outputs": [
    {
     "data": {
      "image/png": "[encoded data removed]",
      "text/plain": [
       "<Figure size 288x144 with 2 Axes>"
      ]
     },
     "metadata": {
      "needs_background": "light"
     },
     "output_type": "display_data"
    }
   ],
   "source": [
    "nRows=1\n",
    "nCols=2\n",
    "axesRowSize,axesColSize = 2,2\n",
    "fig = plt.figure(figsize=(nCols*axesColSize,nRows*axesRowSize), constrained_layout=True) # figsize = (width,height)\n",
    "spec = fig.add_gridspec(nrows=nRows,ncols=nCols) # create a GridSpec object to a figure\n",
    "ax = fig.add_subplot(spec[0])  \n",
    "\n",
    "plotTrialIFRMatrix(ax,m1,sort=True)\n",
    "\n",
    "ax = fig.add_subplot(spec[1])\n",
    "plotTrialIFRMatrix(ax,m2,sort=True)"
   ]
  },
  {
   "cell_type": "code",
   "execution_count": 16,
   "id": "39465523-882b-4802-a21b-8efcd9dc21aa",
   "metadata": {},
   "outputs": [
    {
     "data": {
      "image/png": "[encoded data removed]",
      "text/plain": [
       "<Figure size 288x144 with 2 Axes>"
      ]
     },
     "metadata": {
      "needs_background": "light"
     },
     "output_type": "display_data"
    }
   ],
   "source": [
    "fig = plt.figure(figsize=(nCols*axesColSize,nRows*axesRowSize), constrained_layout=True) # figsize = (width,height)\n",
    "spec = fig.add_gridspec(nrows=nRows,ncols=nCols) # create a GridSpec object to a figure\n",
    "\n",
    "ax = fig.add_subplot(spec[0])  \n",
    "\n",
    "m = removeEmptyTrials(m1)\n",
    "m = trimTrailingMatrixNanColumn(m)\n",
    "m = cutExtremelyLongTrials(m)\n",
    "m1 = removeEmptyColumnsAtBeginning(m)\n",
    "\n",
    "plotTrialIFRMatrix(ax,m1,sort=True)\n",
    "\n",
    "ax = fig.add_subplot(spec[1])\n",
    "\n",
    "m = removeEmptyTrials(m2)\n",
    "m = trimTrailingMatrixNanColumn(m)\n",
    "m = cutExtremelyLongTrials(m)\n",
    "m2 = removeEmptyColumnsAtBeginning(m)\n",
    "\n",
    "plotTrialIFRMatrix(ax,m2,sort=True)"
   ]
  },
  {
   "cell_type": "markdown",
   "id": "c2de392d-5ce8-4512-bf82-9c9ca81c3a4b",
   "metadata": {},
   "source": [
    "The super long trials have been cut so that we always have a few data points per column."
   ]
  },
  {
   "cell_type": "code",
   "execution_count": 17,
   "id": "facdf52b-b3c6-41b0-ba3d-62aa69c013db",
   "metadata": {},
   "outputs": [],
   "source": [
    "from scipy.stats import skew\n",
    "\n",
    "def trialMatrixDescriptiveStats(matDict):\n",
    "    \"\"\"\n",
    "    Function that calculate statistics that describe a trial matrix\n",
    "    \"\"\"\n",
    "    #print(matDict[\"cluId\"],matDict[\"pathType\"],matDict[\"light\"],matDict[\"var\"])\n",
    "    matDict = trimTrailingMatrixNanColumn(matDict)\n",
    "    matDict = removeEmptyTrials(matDict)\n",
    "    matDict = cutExtremelyLongTrials(matDict,minNumberValidValues=20)\n",
    "    \n",
    "    m = matDict[\"matrix\"]\n",
    "    bins = matDict[\"bins\"]\n",
    "    steps = bins[1]-bins[0]\n",
    "    midBins = bins[:-1]+steps/2\n",
    "    \n",
    "    \n",
    "    meanRate = np.nanmean(m)\n",
    "    maxRate = np.nanmax(m)\n",
    "    meanRateHisto = np.nanmean(m,axis = 0)\n",
    "    #print(meanRateHisto)\n",
    "    maxRateInHisto = np.nanmax(meanRateHisto)\n",
    "    maxRateInHistoIndex = np.argmax(meanRateHisto)\n",
    "    maxRateInHistoLoc = midBins[maxRateInHistoIndex]\n",
    "    stdAtPeak = np.nanstd(m[:,maxRateInHistoIndex])\n",
    "    # calculate the skewness of the rate values in the matrix, matrix with a clear peak with have a high sckewness\n",
    "    a = m.reshape((1,-1))\n",
    "    a = a [~np.isnan(a)]\n",
    "    rateSkew = skew(a)\n",
    "    return pd.DataFrame({\"cluId\": matDict[\"cluId\"],\n",
    "                         \"pathType\": matDict[\"pathType\"],\n",
    "                         \"light\": matDict[\"light\"],\n",
    "                         \"behavioralVariable\": matDict[\"var\"],\n",
    "                         \"meanRate\":[meanRate],\n",
    "                         \"maxRate\":maxRate, \n",
    "                         \"maxRateInHisto\":maxRateInHisto, \n",
    "                         \"maxRateInHistoLoc\":maxRateInHistoLoc, \n",
    "                         \"stdAtPeak\":stdAtPeak, \n",
    "                         \"rateSkew\":rateSkew})\n",
    "    "
   ]
  },
  {
   "cell_type": "code",
   "execution_count": 18,
   "id": "0b1072dc-9f78-4e49-81f6-c3e13fc595b9",
   "metadata": {},
   "outputs": [
    {
     "data": {
      "text/html": [
       "<div>\n",
       "<style scoped>\n",
       "    .dataframe tbody tr th:only-of-type {\n",
       "        vertical-align: middle;\n",
       "    }\n",
       "\n",
       "    .dataframe tbody tr th {\n",
       "        vertical-align: top;\n",
       "    }\n",
       "\n",
       "    .dataframe thead th {\n",
       "        text-align: right;\n",
       "    }\n",
       "</style>\n",
       "<table border=\"1\" class=\"dataframe\">\n",
       "  <thead>\n",
       "    <tr style=\"text-align: right;\">\n",
       "      <th></th>\n",
       "      <th>cluId</th>\n",
       "      <th>pathType</th>\n",
       "      <th>light</th>\n",
       "      <th>behavioralVariable</th>\n",
       "      <th>meanRate</th>\n",
       "      <th>maxRate</th>\n",
       "      <th>maxRateInHisto</th>\n",
       "      <th>maxRateInHistoLoc</th>\n",
       "      <th>stdAtPeak</th>\n",
       "      <th>rateSkew</th>\n",
       "    </tr>\n",
       "  </thead>\n",
       "  <tbody>\n",
       "    <tr>\n",
       "      <th>0</th>\n",
       "      <td>mn3246-09042021-0106_4</td>\n",
       "      <td>homingFromLeavingLeverToPeriphery</td>\n",
       "      <td>light</td>\n",
       "      <td>y</td>\n",
       "      <td>6.47585</td>\n",
       "      <td>68.651757</td>\n",
       "      <td>8.173273</td>\n",
       "      <td>-37.0</td>\n",
       "      <td>12.789001</td>\n",
       "      <td>2.015553</td>\n",
       "    </tr>\n",
       "  </tbody>\n",
       "</table>\n",
       "</div>"
      ],
      "text/plain": [
       "                    cluId                           pathType  light  \\\n",
       "0  mn3246-09042021-0106_4  homingFromLeavingLeverToPeriphery  light   \n",
       "\n",
       "  behavioralVariable  meanRate    maxRate  maxRateInHisto  maxRateInHistoLoc  \\\n",
       "0                  y   6.47585  68.651757        8.173273              -37.0   \n",
       "\n",
       "   stdAtPeak  rateSkew  \n",
       "0  12.789001  2.015553  "
      ]
     },
     "execution_count": 18,
     "metadata": {},
     "output_type": "execute_result"
    }
   ],
   "source": [
    "trialMatrixDescriptiveStats(m1)"
   ]
  },
  {
   "cell_type": "code",
   "execution_count": 19,
   "id": "81ed1d49-39bd-4a37-bcb2-7c2e05727601",
   "metadata": {},
   "outputs": [
    {
     "data": {
      "text/html": [
       "<div>\n",
       "<style scoped>\n",
       "    .dataframe tbody tr th:only-of-type {\n",
       "        vertical-align: middle;\n",
       "    }\n",
       "\n",
       "    .dataframe tbody tr th {\n",
       "        vertical-align: top;\n",
       "    }\n",
       "\n",
       "    .dataframe thead th {\n",
       "        text-align: right;\n",
       "    }\n",
       "</style>\n",
       "<table border=\"1\" class=\"dataframe\">\n",
       "  <thead>\n",
       "    <tr style=\"text-align: right;\">\n",
       "      <th></th>\n",
       "      <th>cluId</th>\n",
       "      <th>pathType</th>\n",
       "      <th>light</th>\n",
       "      <th>behavioralVariable</th>\n",
       "      <th>meanRate</th>\n",
       "      <th>maxRate</th>\n",
       "      <th>maxRateInHisto</th>\n",
       "      <th>maxRateInHistoLoc</th>\n",
       "      <th>stdAtPeak</th>\n",
       "      <th>rateSkew</th>\n",
       "    </tr>\n",
       "  </thead>\n",
       "  <tbody>\n",
       "    <tr>\n",
       "      <th>0</th>\n",
       "      <td>mn711-01022021-0107_41</td>\n",
       "      <td>homingFromLeavingLeverToPeriphery</td>\n",
       "      <td>dark</td>\n",
       "      <td>y</td>\n",
       "      <td>6.27608</td>\n",
       "      <td>23.421937</td>\n",
       "      <td>8.087083</td>\n",
       "      <td>-31.0</td>\n",
       "      <td>5.376892</td>\n",
       "      <td>0.729576</td>\n",
       "    </tr>\n",
       "  </tbody>\n",
       "</table>\n",
       "</div>"
      ],
      "text/plain": [
       "                    cluId                           pathType light  \\\n",
       "0  mn711-01022021-0107_41  homingFromLeavingLeverToPeriphery  dark   \n",
       "\n",
       "  behavioralVariable  meanRate    maxRate  maxRateInHisto  maxRateInHistoLoc  \\\n",
       "0                  y   6.27608  23.421937        8.087083              -31.0   \n",
       "\n",
       "   stdAtPeak  rateSkew  \n",
       "0   5.376892  0.729576  "
      ]
     },
     "execution_count": 19,
     "metadata": {},
     "output_type": "execute_result"
    }
   ],
   "source": [
    "trialMatrixDescriptiveStats(m2)"
   ]
  },
  {
   "cell_type": "markdown",
   "id": "6d5b48ab-056f-4503-896e-b202565ff2a3",
   "metadata": {},
   "source": [
    "We create a data frame that contains the statistics of the trial matrices."
   ]
  },
  {
   "cell_type": "code",
   "execution_count": 20,
   "id": "a92cd2cb-ec2c-40b5-b921-ae1d637bdbc7",
   "metadata": {},
   "outputs": [
    {
     "data": {
      "text/plain": [
       "dict_keys(['homingFromLeavingLeverToPeriphery_light_iTime', 'homingFromLeavingLeverToPeriphery_dark_iTime', 'homingFromLeavingLeverToPeriphery_light_distance', 'homingFromLeavingLeverToPeriphery_dark_distance', 'homingFromLeavingLeverToPeriphery_light_targetDistance', 'homingFromLeavingLeverToPeriphery_dark_targetDistance', 'homingFromLeavingLeverToPeriphery_light_y', 'homingFromLeavingLeverToPeriphery_dark_y'])"
      ]
     },
     "execution_count": 20,
     "metadata": {},
     "output_type": "execute_result"
    }
   ],
   "source": [
    "myHomingDict[\"mn711-01022021-0107_117\"][\"matrix\"].keys()"
   ]
  },
  {
   "cell_type": "code",
   "execution_count": 21,
   "id": "866f3bae-ed4b-48fc-953a-c9bf51526881",
   "metadata": {},
   "outputs": [
    {
     "name": "stderr",
     "output_type": "stream",
     "text": [
      "/tmp/ipykernel_51818/3252121336.py:20: RuntimeWarning: Mean of empty slice\n",
      "  meanRateHisto = np.nanmean(m,axis = 0)\n",
      "/home/kevin/anaconda3/envs/DEEPLABCUT/lib/python3.8/site-packages/numpy/lib/nanfunctions.py:1670: RuntimeWarning: Degrees of freedom <= 0 for slice.\n",
      "  var = nanvar(a, axis=axis, dtype=dtype, out=out, ddof=ddof,\n"
     ]
    }
   ],
   "source": [
    "myList = []\n",
    "for myDict,path in zip([mySearchDict,myHomingDict],[\"searchToLeverPath\",\"homingFromLeavingLeverToPeriphery\"]):\n",
    "    for var in [\"y\",\"distance\",\"iTime\",\"targetDistance\"]:\n",
    "        for light in [\"light\",\"dark\"]:\n",
    "            df = pd.concat([ trialMatrixDescriptiveStats(get_matDic(myDict,cluId=cluId,pathType = path, light =light, var = var)) for cluId in mySearchDict.keys()])\n",
    "            myList.append(df)\n",
    "tmStats = pd.concat(myList)"
   ]
  },
  {
   "cell_type": "code",
   "execution_count": 22,
   "id": "9610f056-8987-4a6a-9a65-0a4c5bbead4e",
   "metadata": {},
   "outputs": [
    {
     "data": {
      "text/html": [
       "<div>\n",
       "<style scoped>\n",
       "    .dataframe tbody tr th:only-of-type {\n",
       "        vertical-align: middle;\n",
       "    }\n",
       "\n",
       "    .dataframe tbody tr th {\n",
       "        vertical-align: top;\n",
       "    }\n",
       "\n",
       "    .dataframe thead th {\n",
       "        text-align: right;\n",
       "    }\n",
       "</style>\n",
       "<table border=\"1\" class=\"dataframe\">\n",
       "  <thead>\n",
       "    <tr style=\"text-align: right;\">\n",
       "      <th></th>\n",
       "      <th>cluId</th>\n",
       "      <th>pathType</th>\n",
       "      <th>light</th>\n",
       "      <th>behavioralVariable</th>\n",
       "      <th>meanRate</th>\n",
       "      <th>maxRate</th>\n",
       "      <th>maxRateInHisto</th>\n",
       "      <th>maxRateInHistoLoc</th>\n",
       "      <th>stdAtPeak</th>\n",
       "      <th>rateSkew</th>\n",
       "    </tr>\n",
       "  </thead>\n",
       "  <tbody>\n",
       "    <tr>\n",
       "      <th>0</th>\n",
       "      <td>mn5824-20112020-0107_92</td>\n",
       "      <td>searchToLeverPath</td>\n",
       "      <td>light</td>\n",
       "      <td>y</td>\n",
       "      <td>14.493111</td>\n",
       "      <td>103.996836</td>\n",
       "      <td>19.342487</td>\n",
       "      <td>5.0</td>\n",
       "      <td>24.534880</td>\n",
       "      <td>1.790586</td>\n",
       "    </tr>\n",
       "    <tr>\n",
       "      <th>0</th>\n",
       "      <td>mn5824-20112020-0107_100</td>\n",
       "      <td>searchToLeverPath</td>\n",
       "      <td>light</td>\n",
       "      <td>y</td>\n",
       "      <td>0.733515</td>\n",
       "      <td>33.873356</td>\n",
       "      <td>1.085109</td>\n",
       "      <td>-17.0</td>\n",
       "      <td>4.188464</td>\n",
       "      <td>6.176024</td>\n",
       "    </tr>\n",
       "    <tr>\n",
       "      <th>0</th>\n",
       "      <td>mn5824-20112020-0107_114</td>\n",
       "      <td>searchToLeverPath</td>\n",
       "      <td>light</td>\n",
       "      <td>y</td>\n",
       "      <td>2.231578</td>\n",
       "      <td>58.287972</td>\n",
       "      <td>4.269781</td>\n",
       "      <td>-17.0</td>\n",
       "      <td>11.957404</td>\n",
       "      <td>4.506404</td>\n",
       "    </tr>\n",
       "    <tr>\n",
       "      <th>0</th>\n",
       "      <td>mn5824-20112020-0107_116</td>\n",
       "      <td>searchToLeverPath</td>\n",
       "      <td>light</td>\n",
       "      <td>y</td>\n",
       "      <td>0.052177</td>\n",
       "      <td>11.526491</td>\n",
       "      <td>0.157100</td>\n",
       "      <td>-33.0</td>\n",
       "      <td>1.313242</td>\n",
       "      <td>15.110985</td>\n",
       "    </tr>\n",
       "    <tr>\n",
       "      <th>0</th>\n",
       "      <td>mn5824-20112020-0107_118</td>\n",
       "      <td>searchToLeverPath</td>\n",
       "      <td>light</td>\n",
       "      <td>y</td>\n",
       "      <td>0.037693</td>\n",
       "      <td>6.938737</td>\n",
       "      <td>0.208342</td>\n",
       "      <td>-39.0</td>\n",
       "      <td>1.047773</td>\n",
       "      <td>12.785876</td>\n",
       "    </tr>\n",
       "    <tr>\n",
       "      <th>...</th>\n",
       "      <td>...</td>\n",
       "      <td>...</td>\n",
       "      <td>...</td>\n",
       "      <td>...</td>\n",
       "      <td>...</td>\n",
       "      <td>...</td>\n",
       "      <td>...</td>\n",
       "      <td>...</td>\n",
       "      <td>...</td>\n",
       "      <td>...</td>\n",
       "    </tr>\n",
       "    <tr>\n",
       "      <th>0</th>\n",
       "      <td>mn9686-01112021-0106_79</td>\n",
       "      <td>homingFromLeavingLeverToPeriphery</td>\n",
       "      <td>dark</td>\n",
       "      <td>targetDistance</td>\n",
       "      <td>0.479645</td>\n",
       "      <td>23.501198</td>\n",
       "      <td>0.847731</td>\n",
       "      <td>19.0</td>\n",
       "      <td>3.427651</td>\n",
       "      <td>5.985001</td>\n",
       "    </tr>\n",
       "    <tr>\n",
       "      <th>0</th>\n",
       "      <td>mn9686-01112021-0106_81</td>\n",
       "      <td>homingFromLeavingLeverToPeriphery</td>\n",
       "      <td>dark</td>\n",
       "      <td>targetDistance</td>\n",
       "      <td>0.003338</td>\n",
       "      <td>1.338997</td>\n",
       "      <td>0.018095</td>\n",
       "      <td>13.0</td>\n",
       "      <td>0.154600</td>\n",
       "      <td>20.558974</td>\n",
       "    </tr>\n",
       "    <tr>\n",
       "      <th>0</th>\n",
       "      <td>mn9686-01112021-0106_197</td>\n",
       "      <td>homingFromLeavingLeverToPeriphery</td>\n",
       "      <td>dark</td>\n",
       "      <td>targetDistance</td>\n",
       "      <td>0.311009</td>\n",
       "      <td>45.921147</td>\n",
       "      <td>0.852285</td>\n",
       "      <td>19.0</td>\n",
       "      <td>5.807949</td>\n",
       "      <td>12.393413</td>\n",
       "    </tr>\n",
       "    <tr>\n",
       "      <th>0</th>\n",
       "      <td>mn9686-01112021-0106_242</td>\n",
       "      <td>homingFromLeavingLeverToPeriphery</td>\n",
       "      <td>dark</td>\n",
       "      <td>targetDistance</td>\n",
       "      <td>2.274357</td>\n",
       "      <td>26.863913</td>\n",
       "      <td>5.034981</td>\n",
       "      <td>37.0</td>\n",
       "      <td>7.257069</td>\n",
       "      <td>2.745090</td>\n",
       "    </tr>\n",
       "    <tr>\n",
       "      <th>0</th>\n",
       "      <td>mn9686-01112021-0106_246</td>\n",
       "      <td>homingFromLeavingLeverToPeriphery</td>\n",
       "      <td>dark</td>\n",
       "      <td>targetDistance</td>\n",
       "      <td>5.080898</td>\n",
       "      <td>54.483954</td>\n",
       "      <td>11.552538</td>\n",
       "      <td>37.0</td>\n",
       "      <td>10.767658</td>\n",
       "      <td>2.151207</td>\n",
       "    </tr>\n",
       "  </tbody>\n",
       "</table>\n",
       "<p>7008 rows × 10 columns</p>\n",
       "</div>"
      ],
      "text/plain": [
       "                       cluId                           pathType  light  \\\n",
       "0    mn5824-20112020-0107_92                  searchToLeverPath  light   \n",
       "0   mn5824-20112020-0107_100                  searchToLeverPath  light   \n",
       "0   mn5824-20112020-0107_114                  searchToLeverPath  light   \n",
       "0   mn5824-20112020-0107_116                  searchToLeverPath  light   \n",
       "0   mn5824-20112020-0107_118                  searchToLeverPath  light   \n",
       "..                       ...                                ...    ...   \n",
       "0    mn9686-01112021-0106_79  homingFromLeavingLeverToPeriphery   dark   \n",
       "0    mn9686-01112021-0106_81  homingFromLeavingLeverToPeriphery   dark   \n",
       "0   mn9686-01112021-0106_197  homingFromLeavingLeverToPeriphery   dark   \n",
       "0   mn9686-01112021-0106_242  homingFromLeavingLeverToPeriphery   dark   \n",
       "0   mn9686-01112021-0106_246  homingFromLeavingLeverToPeriphery   dark   \n",
       "\n",
       "   behavioralVariable   meanRate     maxRate  maxRateInHisto  \\\n",
       "0                   y  14.493111  103.996836       19.342487   \n",
       "0                   y   0.733515   33.873356        1.085109   \n",
       "0                   y   2.231578   58.287972        4.269781   \n",
       "0                   y   0.052177   11.526491        0.157100   \n",
       "0                   y   0.037693    6.938737        0.208342   \n",
       "..                ...        ...         ...             ...   \n",
       "0      targetDistance   0.479645   23.501198        0.847731   \n",
       "0      targetDistance   0.003338    1.338997        0.018095   \n",
       "0      targetDistance   0.311009   45.921147        0.852285   \n",
       "0      targetDistance   2.274357   26.863913        5.034981   \n",
       "0      targetDistance   5.080898   54.483954       11.552538   \n",
       "\n",
       "    maxRateInHistoLoc  stdAtPeak   rateSkew  \n",
       "0                 5.0  24.534880   1.790586  \n",
       "0               -17.0   4.188464   6.176024  \n",
       "0               -17.0  11.957404   4.506404  \n",
       "0               -33.0   1.313242  15.110985  \n",
       "0               -39.0   1.047773  12.785876  \n",
       "..                ...        ...        ...  \n",
       "0                19.0   3.427651   5.985001  \n",
       "0                13.0   0.154600  20.558974  \n",
       "0                19.0   5.807949  12.393413  \n",
       "0                37.0   7.257069   2.745090  \n",
       "0                37.0  10.767658   2.151207  \n",
       "\n",
       "[7008 rows x 10 columns]"
      ]
     },
     "execution_count": 22,
     "metadata": {},
     "output_type": "execute_result"
    }
   ],
   "source": [
    "tmStats"
   ]
  },
  {
   "cell_type": "code",
   "execution_count": 23,
   "id": "c9029837-1ae6-42e1-a202-e0ed2c1ee2fe",
   "metadata": {},
   "outputs": [
    {
     "name": "stdout",
     "output_type": "stream",
     "text": [
      "saving: /adata/projects/autopi_ca1/results/trialMatrixStats.pickle\n"
     ]
    }
   ],
   "source": [
    "fn=myProject.dataPath+\"/results/trialMatrixStats.pickle\"\n",
    "print(\"saving:\",fn)\n",
    "with open(fn, 'wb') as handle:\n",
    "    pickle.dump(tmStats, handle)"
   ]
  },
  {
   "cell_type": "markdown",
   "id": "0256d18a-bdbf-4320-8dcf-6d4e76fff26c",
   "metadata": {},
   "source": [
    "## Trial matrix correlation\n",
    "\n",
    "We need a way to quantify the reliability of the information in the firing rate of the neuron across trials. We can measure this by calculating the correlation matrix of the **trial rate matrix**.\n",
    "\n",
    "Each row of the **trial rate matrix** has the rate as a function of distance, time, y-coordinate or target distance. We can correlate all pairs of rows to measure how reliable the rate information is across trials.\n",
    "\n",
    "That can be used to quantify how well information is encoded in the trial matrix, and compare different conditions.\n"
   ]
  },
  {
   "cell_type": "markdown",
   "id": "95c6bf64-8048-4b18-8e23-5045d10f5b26",
   "metadata": {},
   "source": [
    "We have a problem with the np.nan in the matrix. We need to consider only values for which both trials have valid values. This means we can't use `np.corrcoef()`. "
   ]
  },
  {
   "cell_type": "markdown",
   "id": "e5e94cbf-4a75-4c79-9c68-101bcaad07eb",
   "metadata": {},
   "source": [
    "We are going to use the code quite a lot so we use Numba to compile to C language."
   ]
  },
  {
   "cell_type": "code",
   "execution_count": 24,
   "id": "f005a39d-61e0-4ab6-b4f3-be5496528f75",
   "metadata": {},
   "outputs": [],
   "source": [
    "from numba import jit\n",
    "import datetime \n",
    "\n",
    "@jit()\n",
    "def rollARow(a):\n",
    "    \"\"\"\n",
    "    Function to roll the firing rate value of a single trial (one row)\n",
    "\n",
    "    Only rolls the bins from first to last valid entries in the array\n",
    "    \n",
    "    The amount of shift is random\n",
    "    \"\"\"\n",
    "    \n",
    "    if np.sum(~np.isnan(a)) == 0:\n",
    "        return a\n",
    "    lastVal = np.where(~np.isnan(a))[0].max()\n",
    "    firstVal = np.where(~np.isnan(a))[0].min()\n",
    "    myRange = lastVal-firstVal\n",
    "    A = a.copy()\n",
    "    if myRange > 2:\n",
    "        shift = np.random.randint(low = 0, high=myRange, size=1)[0]\n",
    "        b = a[firstVal:(lastVal+1)]\n",
    "        b = np.roll(b,shift)\n",
    "        A[firstVal:lastVal+1] = b \n",
    "    return A\n",
    "\n",
    "\n",
    "def shuffledTrialMap(m):\n",
    "    return np.apply_along_axis(rollARow,axis=1,arr=m)\n",
    "\n",
    "\n",
    "@jit()\n",
    "def myOwnCorr(x,y,valx,valy):\n",
    "    \"\"\"\n",
    "    Perform pearson correlation on 2 1D arrays, \n",
    "    It removes observations with np.nan\n",
    "    \"\"\"\n",
    "\n",
    "    # keep only observations without np.nan\n",
    "    indices= valx&valy\n",
    "    #print(\"valid:\",np.sum(indices))\n",
    "    xx = x[indices]\n",
    "    yy = y[indices]\n",
    "    \n",
    "    if np.sum(indices) < 2:\n",
    "        return np.nan\n",
    "    if np.all(xx==0):\n",
    "        return np.nan\n",
    "    if np.all(yy==0):\n",
    "        return np.nan   \n",
    "    else :\n",
    "        return np.corrcoef(xx,yy)[0,1]\n",
    "    \n",
    "\n",
    "\n",
    "@jit()\n",
    "def trialMatrixInternalCorrelation(m):\n",
    "    \"\"\"\n",
    "    Calculate the mean of the correlation matrix (one half) of a matrix m, excluding the diagonal\n",
    "    \"\"\"\n",
    "    # check which values are valid only once and not in the loops\n",
    "    val = ~np.isnan(m)\n",
    "    \n",
    "    dim = m.shape[0]\n",
    "    res = np.zeros(int(dim*(dim-1)/2)) # number of unique pairs of trials\n",
    "    count = 0\n",
    "    for i in range(dim):\n",
    "        for j in range(i+1,dim):\n",
    "            res[count] = myOwnCorr(m[i],m[j],val[i],val[j])\n",
    "            count+=1\n",
    "    return np.nanmean(res)\n",
    "\n",
    "\n",
    "def trialMatrixInternalCorrelationShuffle(m,nShuf=10):\n",
    "    \"\"\"\n",
    "    Calculate the mean of the correlation matrix (one half) of matrix m with matrix n, excluding the diagonal\n",
    "    \n",
    "    n is generated by shifting the rate values within each trial, keeping sequence but moving it forwards or backwards\n",
    "    \"\"\"\n",
    "    resShuf = np.empty(nShuf) # to store results\n",
    "\n",
    "    # check which values are valid only once and not in the loops\n",
    "    valm = ~np.isnan(m)\n",
    "    dim = m.shape[0]\n",
    "    res = np.zeros(int(dim*(dim-1)/2)) # for all pairs of trials\n",
    "\n",
    "    for x in range(nShuf):\n",
    "        n = shuffledTrialMap(m)\n",
    "        valn = ~np.isnan(n)\n",
    "        \n",
    "        count = 0\n",
    "        for i in range(dim):\n",
    "            for j in range(i+1,dim):\n",
    "                res[count] = myOwnCorr(m[i],n[j],valm[i],valn[j])\n",
    "                count+=1\n",
    "        resShuf[x] = np.nanmean(res)\n",
    "            \n",
    "    return resShuf\n",
    "\n"
   ]
  },
  {
   "cell_type": "markdown",
   "id": "9f386114-5a8e-49bb-9cd4-1ef51f39f385",
   "metadata": {},
   "source": [
    "Calculate for all our trial matrices."
   ]
  },
  {
   "cell_type": "code",
   "execution_count": 25,
   "id": "a79ca3ac-ee68-463e-90a9-f4c33ddee735",
   "metadata": {},
   "outputs": [
    {
     "name": "stdout",
     "output_type": "stream",
     "text": [
      "CPU times: user 16.8 s, sys: 8.36 ms, total: 16.9 s\n",
      "Wall time: 16.9 s\n"
     ]
    }
   ],
   "source": [
    "%%time\n",
    "trialMatrixCor = pd.DataFrame()\n",
    "for path in [ \"searchToLeverPath\",\"homingFromLeavingLeverToPeriphery\"]:\n",
    "    if path == \"searchToLeverPath\":\n",
    "        myDict = mySearchDict\n",
    "    else:\n",
    "        myDict = myHomingDict\n",
    "        \n",
    "    for light in [\"light\",\"dark\"]:\n",
    "        for var in [\"distance\",\"iTime\",\"targetDistance\",\"y\"]:\n",
    "            cor = [trialMatrixInternalCorrelation(myDict[cluId][\"matrix\"][\"{}_{}_{}\".format(path,light,var)][\"matrix\"]) for cluId in list(myDict.keys())]\n",
    "            \n",
    "            df = pd.DataFrame({\"cluId\": list(mySearchDict.keys()),\n",
    "                               \"path\": path,\n",
    "                               \"light\":light,\n",
    "                               \"var\": var,\n",
    "                               \"cor\":cor,})\n",
    "            trialMatrixCor = trialMatrixCor.append(df)\n",
    "                          "
   ]
  },
  {
   "cell_type": "code",
   "execution_count": 26,
   "id": "1036cd7b-fd1b-4e32-9426-1760854d02e7",
   "metadata": {},
   "outputs": [
    {
     "data": {
      "text/html": [
       "<div>\n",
       "<style scoped>\n",
       "    .dataframe tbody tr th:only-of-type {\n",
       "        vertical-align: middle;\n",
       "    }\n",
       "\n",
       "    .dataframe tbody tr th {\n",
       "        vertical-align: top;\n",
       "    }\n",
       "\n",
       "    .dataframe thead th {\n",
       "        text-align: right;\n",
       "    }\n",
       "</style>\n",
       "<table border=\"1\" class=\"dataframe\">\n",
       "  <thead>\n",
       "    <tr style=\"text-align: right;\">\n",
       "      <th></th>\n",
       "      <th>cluId</th>\n",
       "      <th>path</th>\n",
       "      <th>light</th>\n",
       "      <th>var</th>\n",
       "      <th>cor</th>\n",
       "    </tr>\n",
       "  </thead>\n",
       "  <tbody>\n",
       "    <tr>\n",
       "      <th>0</th>\n",
       "      <td>mn5824-20112020-0107_92</td>\n",
       "      <td>searchToLeverPath</td>\n",
       "      <td>light</td>\n",
       "      <td>distance</td>\n",
       "      <td>0.034151</td>\n",
       "    </tr>\n",
       "    <tr>\n",
       "      <th>1</th>\n",
       "      <td>mn5824-20112020-0107_100</td>\n",
       "      <td>searchToLeverPath</td>\n",
       "      <td>light</td>\n",
       "      <td>distance</td>\n",
       "      <td>0.016818</td>\n",
       "    </tr>\n",
       "    <tr>\n",
       "      <th>2</th>\n",
       "      <td>mn5824-20112020-0107_114</td>\n",
       "      <td>searchToLeverPath</td>\n",
       "      <td>light</td>\n",
       "      <td>distance</td>\n",
       "      <td>0.009486</td>\n",
       "    </tr>\n",
       "    <tr>\n",
       "      <th>3</th>\n",
       "      <td>mn5824-20112020-0107_116</td>\n",
       "      <td>searchToLeverPath</td>\n",
       "      <td>light</td>\n",
       "      <td>distance</td>\n",
       "      <td>0.141073</td>\n",
       "    </tr>\n",
       "    <tr>\n",
       "      <th>4</th>\n",
       "      <td>mn5824-20112020-0107_118</td>\n",
       "      <td>searchToLeverPath</td>\n",
       "      <td>light</td>\n",
       "      <td>distance</td>\n",
       "      <td>0.152111</td>\n",
       "    </tr>\n",
       "    <tr>\n",
       "      <th>...</th>\n",
       "      <td>...</td>\n",
       "      <td>...</td>\n",
       "      <td>...</td>\n",
       "      <td>...</td>\n",
       "      <td>...</td>\n",
       "    </tr>\n",
       "    <tr>\n",
       "      <th>433</th>\n",
       "      <td>mn9686-01112021-0106_79</td>\n",
       "      <td>homingFromLeavingLeverToPeriphery</td>\n",
       "      <td>dark</td>\n",
       "      <td>y</td>\n",
       "      <td>0.156115</td>\n",
       "    </tr>\n",
       "    <tr>\n",
       "      <th>434</th>\n",
       "      <td>mn9686-01112021-0106_81</td>\n",
       "      <td>homingFromLeavingLeverToPeriphery</td>\n",
       "      <td>dark</td>\n",
       "      <td>y</td>\n",
       "      <td>NaN</td>\n",
       "    </tr>\n",
       "    <tr>\n",
       "      <th>435</th>\n",
       "      <td>mn9686-01112021-0106_197</td>\n",
       "      <td>homingFromLeavingLeverToPeriphery</td>\n",
       "      <td>dark</td>\n",
       "      <td>y</td>\n",
       "      <td>0.281917</td>\n",
       "    </tr>\n",
       "    <tr>\n",
       "      <th>436</th>\n",
       "      <td>mn9686-01112021-0106_242</td>\n",
       "      <td>homingFromLeavingLeverToPeriphery</td>\n",
       "      <td>dark</td>\n",
       "      <td>y</td>\n",
       "      <td>0.098194</td>\n",
       "    </tr>\n",
       "    <tr>\n",
       "      <th>437</th>\n",
       "      <td>mn9686-01112021-0106_246</td>\n",
       "      <td>homingFromLeavingLeverToPeriphery</td>\n",
       "      <td>dark</td>\n",
       "      <td>y</td>\n",
       "      <td>0.217644</td>\n",
       "    </tr>\n",
       "  </tbody>\n",
       "</table>\n",
       "<p>7008 rows × 5 columns</p>\n",
       "</div>"
      ],
      "text/plain": [
       "                        cluId                               path  light  \\\n",
       "0     mn5824-20112020-0107_92                  searchToLeverPath  light   \n",
       "1    mn5824-20112020-0107_100                  searchToLeverPath  light   \n",
       "2    mn5824-20112020-0107_114                  searchToLeverPath  light   \n",
       "3    mn5824-20112020-0107_116                  searchToLeverPath  light   \n",
       "4    mn5824-20112020-0107_118                  searchToLeverPath  light   \n",
       "..                        ...                                ...    ...   \n",
       "433   mn9686-01112021-0106_79  homingFromLeavingLeverToPeriphery   dark   \n",
       "434   mn9686-01112021-0106_81  homingFromLeavingLeverToPeriphery   dark   \n",
       "435  mn9686-01112021-0106_197  homingFromLeavingLeverToPeriphery   dark   \n",
       "436  mn9686-01112021-0106_242  homingFromLeavingLeverToPeriphery   dark   \n",
       "437  mn9686-01112021-0106_246  homingFromLeavingLeverToPeriphery   dark   \n",
       "\n",
       "          var       cor  \n",
       "0    distance  0.034151  \n",
       "1    distance  0.016818  \n",
       "2    distance  0.009486  \n",
       "3    distance  0.141073  \n",
       "4    distance  0.152111  \n",
       "..        ...       ...  \n",
       "433         y  0.156115  \n",
       "434         y       NaN  \n",
       "435         y  0.281917  \n",
       "436         y  0.098194  \n",
       "437         y  0.217644  \n",
       "\n",
       "[7008 rows x 5 columns]"
      ]
     },
     "execution_count": 26,
     "metadata": {},
     "output_type": "execute_result"
    }
   ],
   "source": [
    "trialMatrixCor"
   ]
  },
  {
   "cell_type": "code",
   "execution_count": 27,
   "id": "365cd42d-5937-4121-99b5-4b5438a870ca",
   "metadata": {},
   "outputs": [
    {
     "name": "stdout",
     "output_type": "stream",
     "text": [
      "saving to /adata/projects/autopi_ca1/results/trialMatrixCor.csv 2022-09-01 10:01:13.605178\n"
     ]
    }
   ],
   "source": [
    "fn = fn=myProject.dataPath+\"/results/trialMatrixCor.csv\"\n",
    "print(\"saving to\",fn,datetime.datetime.now())\n",
    "trialMatrixCor.to_csv(fn)"
   ]
  },
  {
   "cell_type": "markdown",
   "id": "76c7f6f6-6463-4ee5-afca-6d83c29f10ef",
   "metadata": {},
   "source": [
    "We want to get a shuffle distribution for these scores.\n",
    "\n",
    "The only difference in the shuffle is that we shift the data of each trial by a random amount."
   ]
  },
  {
   "cell_type": "code",
   "execution_count": 28,
   "id": "60bbbd7e-6693-464e-b9ed-38ebe3b66c72",
   "metadata": {},
   "outputs": [
    {
     "name": "stderr",
     "output_type": "stream",
     "text": [
      "  3%|█▍                                        | 15/438 [00:29<11:32,  1.64s/it]/tmp/ipykernel_51818/3442990545.py:96: RuntimeWarning: Mean of empty slice\n",
      "  resShuf[x] = np.nanmean(res)\n",
      "100%|█████████████████████████████████████████| 438/438 [13:18<00:00,  1.82s/it]\n",
      "100%|█████████████████████████████████████████| 438/438 [12:38<00:00,  1.73s/it]\n",
      "100%|█████████████████████████████████████████| 438/438 [12:35<00:00,  1.73s/it]\n",
      "100%|█████████████████████████████████████████| 438/438 [12:40<00:00,  1.74s/it]\n",
      "100%|█████████████████████████████████████████| 438/438 [12:40<00:00,  1.74s/it]\n",
      "100%|█████████████████████████████████████████| 438/438 [12:02<00:00,  1.65s/it]\n",
      "100%|█████████████████████████████████████████| 438/438 [11:33<00:00,  1.58s/it]\n",
      "100%|█████████████████████████████████████████| 438/438 [12:08<00:00,  1.66s/it]\n",
      "100%|█████████████████████████████████████████| 438/438 [11:58<00:00,  1.64s/it]\n",
      "100%|█████████████████████████████████████████| 438/438 [11:17<00:00,  1.55s/it]\n",
      "100%|█████████████████████████████████████████| 438/438 [10:14<00:00,  1.40s/it]\n",
      "100%|█████████████████████████████████████████| 438/438 [11:59<00:00,  1.64s/it]\n",
      "100%|█████████████████████████████████████████| 438/438 [10:39<00:00,  1.46s/it]\n",
      "100%|█████████████████████████████████████████| 438/438 [10:18<00:00,  1.41s/it]\n",
      "100%|█████████████████████████████████████████| 438/438 [08:12<00:00,  1.12s/it]\n",
      "100%|█████████████████████████████████████████| 438/438 [10:17<00:00,  1.41s/it]"
     ]
    },
    {
     "name": "stdout",
     "output_type": "stream",
     "text": [
      "CPU times: user 3h 2min 54s, sys: 1min 46s, total: 3h 4min 41s\n",
      "Wall time: 3h 4min 35s\n"
     ]
    },
    {
     "name": "stderr",
     "output_type": "stream",
     "text": [
      "\n"
     ]
    }
   ],
   "source": [
    "%%time\n",
    "nShuf= 500\n",
    "trialMatrixCorShuf = pd.DataFrame()\n",
    "\n",
    "for path in [ \"searchToLeverPath\",\"homingFromLeavingLeverToPeriphery\"]:\n",
    "    if path == \"searchToLeverPath\":\n",
    "        myDict = mySearchDict\n",
    "    else:\n",
    "        myDict = myHomingDict\n",
    "    for light in [\"light\",\"dark\"]:\n",
    "        for var in [\"distance\",\"iTime\",\"targetDistance\",\"y\"]:\n",
    "            for cluId in tqdm(list(myDict.keys())):\n",
    "                #print(path,light,var,cluId)\n",
    "                m = myDict[cluId][\"matrix\"][\"{}_{}_{}\".format(path,light,var)][\"matrix\"]\n",
    "                cor = trialMatrixInternalCorrelationShuffle(m,nShuf)\n",
    "                df = pd.DataFrame({\"cluId\": cluId,\n",
    "                                   \"path\": path,\n",
    "                                   \"light\":light,\n",
    "                                   \"var\": var,\n",
    "                                   \"cor\":cor})\n",
    "                trialMatrixCorShuf = trialMatrixCorShuf.append(df)\n"
   ]
  },
  {
   "cell_type": "code",
   "execution_count": 29,
   "id": "cf68e035-c475-4616-a53d-ca875af872d0",
   "metadata": {},
   "outputs": [
    {
     "name": "stdout",
     "output_type": "stream",
     "text": [
      "saving to /adata/projects/autopi_ca1/results/trialMatrixCorShuf.csv 2022-09-01 13:05:49.239338\n"
     ]
    }
   ],
   "source": [
    "fn = fn=myProject.dataPath+\"/results/trialMatrixCorShuf.csv\"\n",
    "print(\"saving to\",fn,datetime.datetime.now())\n",
    "trialMatrixCorShuf.to_csv(fn)"
   ]
  },
  {
   "cell_type": "markdown",
   "id": "fc4e3458-5759-469e-886f-4d65881aa2a9",
   "metadata": {},
   "source": [
    "### Significance table\n",
    "Create a data frame to know which trial matrix internal correlations are significant."
   ]
  },
  {
   "cell_type": "code",
   "execution_count": 30,
   "id": "065252e6-dd49-44f4-beab-1eff18431ebd",
   "metadata": {},
   "outputs": [
    {
     "name": "stderr",
     "output_type": "stream",
     "text": [
      "100%|█████████████████████████████████████████| 438/438 [03:02<00:00,  2.40it/s]\n",
      "100%|█████████████████████████████████████████| 438/438 [03:03<00:00,  2.38it/s]\n",
      "100%|█████████████████████████████████████████| 438/438 [03:03<00:00,  2.38it/s]\n",
      "100%|█████████████████████████████████████████| 438/438 [03:02<00:00,  2.40it/s]\n",
      "100%|█████████████████████████████████████████| 438/438 [03:03<00:00,  2.39it/s]\n",
      "100%|█████████████████████████████████████████| 438/438 [03:02<00:00,  2.40it/s]\n",
      "100%|█████████████████████████████████████████| 438/438 [03:02<00:00,  2.41it/s]\n",
      "100%|█████████████████████████████████████████| 438/438 [03:03<00:00,  2.39it/s]\n"
     ]
    }
   ],
   "source": [
    "def trialMatricInternalCorrelationSignificant(cluId,light,pathType,var):\n",
    "    df = trialMatrixCor    \n",
    "    condIndex = (df[\"cluId\"]==cluId)&(df[\"light\"]==light)&(df[\"path\"]==pathType)&(df[\"var\"]==var)\n",
    "    obsR = df[condIndex].cor.iloc[0]\n",
    "    df = trialMatrixCorShuf\n",
    "    condIndex = (df[\"cluId\"]==cluId)&(df[\"light\"]==light)&(df[\"path\"]==pathType)&(df[\"var\"]==var)\n",
    "    shufR = df[condIndex].cor\n",
    "    highSignLevel = np.percentile(shufR,99.0)\n",
    "    if obsR > highSignLevel:\n",
    "        return True\n",
    "    else:\n",
    "        return False\n",
    "\n",
    "significantMatrix = pd.DataFrame({\"cluId\":pyrId})\n",
    "for light in [\"light\",\"dark\"]:\n",
    "    for pathType in [\"homingFromLeavingLeverToPeriphery\", \"searchToLeverPath\"]:\n",
    "        for var in [\"y\",\"targetDistance\"]:\n",
    "            significantMatrix[\"{}-{}-{}\".format(pathType,light,var)] = [ trialMatricInternalCorrelationSignificant(cluId,light,pathType,var=var) for cluId in tqdm(pyrId) ]\n",
    "\n",
    "            "
   ]
  },
  {
   "cell_type": "code",
   "execution_count": 31,
   "id": "7829be9c-5364-4eef-a87a-5b90f2c1748a",
   "metadata": {},
   "outputs": [
    {
     "name": "stdout",
     "output_type": "stream",
     "text": [
      "saving to /adata/projects/autopi_ca1/results/trialMatrixSign.csv\n"
     ]
    }
   ],
   "source": [
    "fn = fn=myProject.dataPath+\"/results/trialMatrixSign.csv\"\n",
    "print(\"saving to\",fn)\n",
    "significantMatrix.to_csv(fn)"
   ]
  },
  {
   "cell_type": "markdown",
   "id": "2a067180-7fc2-495e-9121-68e2f5a95c73",
   "metadata": {},
   "source": [
    "# Correlation between trial matrix peaks and lever location\n",
    "\n",
    "We want to test whether a neuron encodes information about the distance to the lever.\n",
    "\n",
    "We can test if the neuron fires at a fixed location from the lever. One way to test this is to consider the trial matrix with the firing rate as a function of y-position. For each trial we can get the y-position of the lever. If the neuron encodes the distance to the lever, there should be a positive correlation between the location of the peak rate and the location of the lever.\n",
    "\n",
    "We can look at this type of coding during homing. We need to use only trials with accurate homing.\n",
    "\n"
   ]
  },
  {
   "cell_type": "code",
   "execution_count": 1,
   "id": "e1793a7a-673a-4280-b92b-3cadfaef4216",
   "metadata": {},
   "outputs": [
    {
     "name": "stdout",
     "output_type": "stream",
     "text": [
      "Project name: autopi_ca1\n",
      "dataPath: /adata/projects/autopi_ca1\n",
      "dlcModelPath: /adata/models\n",
      "Reading /adata/projects/autopi_ca1/sessionList\n",
      "We have 39 testing sessions in the list\n",
      "See myProject and sSesList objects\n",
      "Loading: /adata/projects/autopi_ca1/results/myProjectWithTrials.pickle\n",
      "Loading Animal_pose and Spike_train, sSes.ap and sSes.cg\n"
     ]
    },
    {
     "name": "stderr",
     "output_type": "stream",
     "text": [
      "100%|█████████████████████████████████████████████████████████████████| 39/39 [00:52<00:00,  1.36s/it]\n"
     ]
    },
    {
     "name": "stdout",
     "output_type": "stream",
     "text": [
      "Loading ses.trial_table_simple as ses.trials\n",
      "Create condition intervals in ses.intervalDict\n",
      "CPU times: user 18.1 s, sys: 31.5 s, total: 49.6 s\n",
      "Wall time: 2min 17s\n"
     ]
    }
   ],
   "source": [
    "%%time\n",
    "%load_ext autoreload\n",
    "%autoreload 2\n",
    "%run setup_project.py\n",
    "\n",
    "myProjectWithTrials = loadMyProjectWithTrials(myProject)\n",
    "prepareSessionsForSpatialAnalysisProject(sSesList,myProjectWithTrials.sessionList,pose_file_extension = \".pose_kf.npy\")"
   ]
  },
  {
   "cell_type": "code",
   "execution_count": null,
   "id": "a3dd701f-e68f-4777-9b5a-a21550457611",
   "metadata": {},
   "outputs": [],
   "source": []
  },
  {
   "cell_type": "code",
   "execution_count": 7,
   "id": "49946bb9-4c25-4493-8768-613797a3baeb",
   "metadata": {},
   "outputs": [],
   "source": [
    "from scipy import stats\n",
    "from sklearn.linear_model import LinearRegression\n",
    "from numba import jit\n",
    "import datetime \n",
    "\n",
    "@jit()\n",
    "def myOwnCorr2(x,y):\n",
    "    \"\"\"\n",
    "    This one assumes that there are no np.nan\n",
    "    \"\"\"\n",
    "    if np.all(x==0):\n",
    "        return np.nan\n",
    "    if np.all(y==0):\n",
    "        return np.nan   \n",
    "    else :\n",
    "        return np.corrcoef(x,y)[0,1]\n",
    "\n",
    "def peakPositionLeverPositionCorrelation(cluId,light=\"light\",pathType=\"searchToLeverPath\",coordX=\"y\",nShuf=100):\n",
    "\n",
    "    sessionName = cluId.split(\"_\")[0]\n",
    "    ses = myProjectWithTrials.sessionList[[ses.name == sessionName for ses in myProjectWithTrials.sessionList].index(True)]\n",
    "    ifr, navs, inav = load_ifr_behavior(ses)\n",
    "    navsSel = navs[(navs.type==pathType) & (navs.light==light)]\n",
    "    trialDf = ses.getTrialVariablesDataFrame()\n",
    "    navsSel = pd.merge(navsSel,trialDf,on = \"trialNo\")\n",
    "    #print(\"navsSel shape:\",navsSel.shape)\n",
    "    navsSel\n",
    "    \n",
    "    # get the original trial map\n",
    "    if pathType == \"searchToLeverPath\":\n",
    "        myDict = mySearchDict\n",
    "    else:\n",
    "        myDict = myHomingDict\n",
    "        \n",
    "    m = myDict[cluId][\"matrix\"][pathType+\"_\"+light+\"_\"+coordX][\"matrix\"].copy()\n",
    "    nTrials = m.shape[0]\n",
    "    \n",
    "    if m.shape[0] != navsSel.shape[0]:\n",
    "        print(\"m and navsSel shapes do not match {} {}\".format(m.shape[0],navsSel.shape[0]))\n",
    "\n",
    "   \n",
    "    \n",
    "    # cut the matrix so that the trials ends at the longest trial of this type\n",
    "    nBins = m.shape[1]\n",
    "    minIndex = np.where(~np.all(np.isnan(m),axis=0))[0].min() # first column with valid value\n",
    "    maxIndex = np.where(~np.all(np.isnan(m),axis=0))[0].max() # last column with valid value\n",
    "    \n",
    "    m = m[:,minIndex:maxIndex+1]\n",
    "    nBinsKept = m.shape[1]\n",
    "    \n",
    "    # trial selection if needed\n",
    "    trialToKeep = ~np.all(np.isnan(m),axis=1) # remove a trial if all firing rate values are np.nan\n",
    "    trialToKeep = np.logical_and(np.abs(navsSel.homingErrorAtPeriphery) < (np.pi/4),trialToKeep)   # this should give 90 degree range centered on the home base\n",
    "    \n",
    "    #print(\"Keeping {} of {} trials, {} of {} bins\".format(np.sum(trialToKeep),nTrials,nBinsKept,nBins))\n",
    "   \n",
    "    # get the firing rate peak location for each trial\n",
    "    m = m[trialToKeep]\n",
    "    peakLoc = np.nanargmax(m,axis=1)*2 # *2 because every bin is 2 cm\n",
    "\n",
    "    # get the y lever position\n",
    "    leverY= navsSel.leverY.to_numpy()[trialToKeep]\n",
    "\n",
    "    r = myOwnCorr2(leverY,peakLoc)\n",
    "    model = LinearRegression()\n",
    "    model.fit(leverY.reshape(-1,1),peakLoc)\n",
    "    inter = model.intercept_\n",
    "    slope = model.coef_[0]\n",
    "    \n",
    "    df = pd.DataFrame({\"cluId\":[cluId],\n",
    "                      \"light\":[light],\n",
    "                      \"pathType\":[pathType],\n",
    "                       \"coordX\": coordX,\n",
    "                       \"shuf\": [False],\n",
    "                      \"cor\": [r],\n",
    "                      \"slope\": slope,\n",
    "                      \"intercept\": inter})\n",
    "    \n",
    "    shufRes = np.empty((nShuf,3))\n",
    "    for i in range(nShuf):\n",
    "        shufM=shuffledTrialMap(m)\n",
    "        peakLoc = np.nanargmax(shufM,axis=1)*2 # *2 because every bin is 2 cm\n",
    "        \n",
    "        shufRes[i,0] = myOwnCorr2(leverY,peakLoc)\n",
    "        model.fit(leverY.reshape(-1,1),peakLoc)\n",
    "        shufRes[i,1] = model.intercept_\n",
    "        shufRes[i,2] = model.coef_[0]\n",
    "    \n",
    "    \n",
    "    dfShuf = pd.DataFrame({\"cluId\":cluId,\n",
    "                      \"light\":light,\n",
    "                      \"pathType\":pathType,\n",
    "                           \"coordX\":coordX,\n",
    "                       \"shuf\": True,\n",
    "                      \"cor\": shufRes[:,0],\n",
    "                       \"slope\": shufRes[:,2],\n",
    "                        \"intercept\": shufRes[:,1]})\n",
    "    df = df.append(dfShuf)\n",
    "    \n",
    "    return df"
   ]
  },
  {
   "cell_type": "code",
   "execution_count": 8,
   "id": "04896b98-935d-49f1-a420-3b52914d49a3",
   "metadata": {},
   "outputs": [
    {
     "name": "stdout",
     "output_type": "stream",
     "text": [
      "1 33\n",
      "[ True  True  True  True  True  True  True  True  True  True  True  True\n",
      "  True  True  True  True  True  True  True  True  True  True  True  True\n",
      "  True  True  True  True  True  True  True  True  True]\n"
     ]
    },
    {
     "data": {
      "image/png": "[encoded data removed]",
      "text/plain": [
       "<Figure size 432x288 with 1 Axes>"
      ]
     },
     "metadata": {
      "needs_background": "light"
     },
     "output_type": "display_data"
    }
   ],
   "source": [
    "cluId = \"mn5824-22112020-0107_110\"\n",
    "light=\"light\"\n",
    "pathType=\"homingFromLeavingLeverToPeriphery\"\n",
    "coordX=\"y\"\n",
    "\n",
    "m = myHomingDict[cluId][\"matrix\"][pathType+\"_\"+light+\"_\"+coordX][\"matrix\"].copy()\n",
    "\n",
    "plt.imshow(m,aspect=\"auto\",interpolation=\"none\")\n",
    "\n",
    "#cut the matrix so that the trials ends at the longest trial of this type\n",
    "minIndex = np.where(~np.all(np.isnan(m),axis=0))[0].min() # first column with valid value\n",
    "maxIndex = np.where(~np.all(np.isnan(m),axis=0))[0].max() # last column with valid value\n",
    "print(minIndex,maxIndex)\n",
    "print(~np.all(np.isnan(m),axis=0)[minIndex:maxIndex+1])"
   ]
  },
  {
   "cell_type": "code",
   "execution_count": 9,
   "id": "e1209c15-e6d7-40e0-9b56-c75ee0d25667",
   "metadata": {},
   "outputs": [
    {
     "data": {
      "text/plain": [
       "array([False,  True,  True,  True,  True,  True,  True,  True,  True,\n",
       "        True,  True,  True,  True,  True,  True,  True,  True,  True,\n",
       "        True,  True,  True,  True,  True,  True,  True,  True,  True,\n",
       "        True,  True,  True,  True,  True,  True,  True, False, False,\n",
       "       False])"
      ]
     },
     "execution_count": 9,
     "metadata": {},
     "output_type": "execute_result"
    }
   ],
   "source": [
    "~np.all(np.isnan(m),axis=0)\n",
    "\n",
    "\n",
    "#maxValIndex = np.max(np.argmax(np.isnan(m),axis=1))\n",
    "#np.argmax(np.isnan(m),axis=1)"
   ]
  },
  {
   "cell_type": "code",
   "execution_count": 10,
   "id": "94286f9a-ac3c-4cbe-b138-2c86bf4cb31b",
   "metadata": {},
   "outputs": [
    {
     "name": "stdout",
     "output_type": "stream",
     "text": [
      "CPU times: user 5.22 s, sys: 139 ms, total: 5.36 s\n",
      "Wall time: 5.85 s\n"
     ]
    },
    {
     "data": {
      "text/html": [
       "<div>\n",
       "<style scoped>\n",
       "    .dataframe tbody tr th:only-of-type {\n",
       "        vertical-align: middle;\n",
       "    }\n",
       "\n",
       "    .dataframe tbody tr th {\n",
       "        vertical-align: top;\n",
       "    }\n",
       "\n",
       "    .dataframe thead th {\n",
       "        text-align: right;\n",
       "    }\n",
       "</style>\n",
       "<table border=\"1\" class=\"dataframe\">\n",
       "  <thead>\n",
       "    <tr style=\"text-align: right;\">\n",
       "      <th></th>\n",
       "      <th>cluId</th>\n",
       "      <th>light</th>\n",
       "      <th>pathType</th>\n",
       "      <th>coordX</th>\n",
       "      <th>shuf</th>\n",
       "      <th>cor</th>\n",
       "      <th>slope</th>\n",
       "      <th>intercept</th>\n",
       "    </tr>\n",
       "  </thead>\n",
       "  <tbody>\n",
       "    <tr>\n",
       "      <th>0</th>\n",
       "      <td>mn5824-22112020-0107_110</td>\n",
       "      <td>light</td>\n",
       "      <td>homingFromLeavingLeverToPeriphery</td>\n",
       "      <td>y</td>\n",
       "      <td>False</td>\n",
       "      <td>0.734094</td>\n",
       "      <td>0.774265</td>\n",
       "      <td>16.882426</td>\n",
       "    </tr>\n",
       "    <tr>\n",
       "      <th>0</th>\n",
       "      <td>mn5824-22112020-0107_110</td>\n",
       "      <td>light</td>\n",
       "      <td>homingFromLeavingLeverToPeriphery</td>\n",
       "      <td>y</td>\n",
       "      <td>True</td>\n",
       "      <td>0.445414</td>\n",
       "      <td>0.349727</td>\n",
       "      <td>10.879394</td>\n",
       "    </tr>\n",
       "    <tr>\n",
       "      <th>1</th>\n",
       "      <td>mn5824-22112020-0107_110</td>\n",
       "      <td>light</td>\n",
       "      <td>homingFromLeavingLeverToPeriphery</td>\n",
       "      <td>y</td>\n",
       "      <td>True</td>\n",
       "      <td>0.433387</td>\n",
       "      <td>0.345262</td>\n",
       "      <td>10.665769</td>\n",
       "    </tr>\n",
       "    <tr>\n",
       "      <th>2</th>\n",
       "      <td>mn5824-22112020-0107_110</td>\n",
       "      <td>light</td>\n",
       "      <td>homingFromLeavingLeverToPeriphery</td>\n",
       "      <td>y</td>\n",
       "      <td>True</td>\n",
       "      <td>0.486407</td>\n",
       "      <td>0.405090</td>\n",
       "      <td>9.659248</td>\n",
       "    </tr>\n",
       "    <tr>\n",
       "      <th>3</th>\n",
       "      <td>mn5824-22112020-0107_110</td>\n",
       "      <td>light</td>\n",
       "      <td>homingFromLeavingLeverToPeriphery</td>\n",
       "      <td>y</td>\n",
       "      <td>True</td>\n",
       "      <td>0.580721</td>\n",
       "      <td>0.556943</td>\n",
       "      <td>11.649704</td>\n",
       "    </tr>\n",
       "    <tr>\n",
       "      <th>...</th>\n",
       "      <td>...</td>\n",
       "      <td>...</td>\n",
       "      <td>...</td>\n",
       "      <td>...</td>\n",
       "      <td>...</td>\n",
       "      <td>...</td>\n",
       "      <td>...</td>\n",
       "      <td>...</td>\n",
       "    </tr>\n",
       "    <tr>\n",
       "      <th>495</th>\n",
       "      <td>mn5824-22112020-0107_110</td>\n",
       "      <td>light</td>\n",
       "      <td>homingFromLeavingLeverToPeriphery</td>\n",
       "      <td>y</td>\n",
       "      <td>True</td>\n",
       "      <td>0.612212</td>\n",
       "      <td>0.574281</td>\n",
       "      <td>13.341098</td>\n",
       "    </tr>\n",
       "    <tr>\n",
       "      <th>496</th>\n",
       "      <td>mn5824-22112020-0107_110</td>\n",
       "      <td>light</td>\n",
       "      <td>homingFromLeavingLeverToPeriphery</td>\n",
       "      <td>y</td>\n",
       "      <td>True</td>\n",
       "      <td>0.560430</td>\n",
       "      <td>0.485394</td>\n",
       "      <td>11.904552</td>\n",
       "    </tr>\n",
       "    <tr>\n",
       "      <th>497</th>\n",
       "      <td>mn5824-22112020-0107_110</td>\n",
       "      <td>light</td>\n",
       "      <td>homingFromLeavingLeverToPeriphery</td>\n",
       "      <td>y</td>\n",
       "      <td>True</td>\n",
       "      <td>0.440699</td>\n",
       "      <td>0.378571</td>\n",
       "      <td>12.049952</td>\n",
       "    </tr>\n",
       "    <tr>\n",
       "      <th>498</th>\n",
       "      <td>mn5824-22112020-0107_110</td>\n",
       "      <td>light</td>\n",
       "      <td>homingFromLeavingLeverToPeriphery</td>\n",
       "      <td>y</td>\n",
       "      <td>True</td>\n",
       "      <td>0.582344</td>\n",
       "      <td>0.599881</td>\n",
       "      <td>11.896786</td>\n",
       "    </tr>\n",
       "    <tr>\n",
       "      <th>499</th>\n",
       "      <td>mn5824-22112020-0107_110</td>\n",
       "      <td>light</td>\n",
       "      <td>homingFromLeavingLeverToPeriphery</td>\n",
       "      <td>y</td>\n",
       "      <td>True</td>\n",
       "      <td>0.431768</td>\n",
       "      <td>0.356776</td>\n",
       "      <td>10.581289</td>\n",
       "    </tr>\n",
       "  </tbody>\n",
       "</table>\n",
       "<p>501 rows × 8 columns</p>\n",
       "</div>"
      ],
      "text/plain": [
       "                        cluId  light                           pathType  \\\n",
       "0    mn5824-22112020-0107_110  light  homingFromLeavingLeverToPeriphery   \n",
       "0    mn5824-22112020-0107_110  light  homingFromLeavingLeverToPeriphery   \n",
       "1    mn5824-22112020-0107_110  light  homingFromLeavingLeverToPeriphery   \n",
       "2    mn5824-22112020-0107_110  light  homingFromLeavingLeverToPeriphery   \n",
       "3    mn5824-22112020-0107_110  light  homingFromLeavingLeverToPeriphery   \n",
       "..                        ...    ...                                ...   \n",
       "495  mn5824-22112020-0107_110  light  homingFromLeavingLeverToPeriphery   \n",
       "496  mn5824-22112020-0107_110  light  homingFromLeavingLeverToPeriphery   \n",
       "497  mn5824-22112020-0107_110  light  homingFromLeavingLeverToPeriphery   \n",
       "498  mn5824-22112020-0107_110  light  homingFromLeavingLeverToPeriphery   \n",
       "499  mn5824-22112020-0107_110  light  homingFromLeavingLeverToPeriphery   \n",
       "\n",
       "    coordX   shuf       cor     slope  intercept  \n",
       "0        y  False  0.734094  0.774265  16.882426  \n",
       "0        y   True  0.445414  0.349727  10.879394  \n",
       "1        y   True  0.433387  0.345262  10.665769  \n",
       "2        y   True  0.486407  0.405090   9.659248  \n",
       "3        y   True  0.580721  0.556943  11.649704  \n",
       "..     ...    ...       ...       ...        ...  \n",
       "495      y   True  0.612212  0.574281  13.341098  \n",
       "496      y   True  0.560430  0.485394  11.904552  \n",
       "497      y   True  0.440699  0.378571  12.049952  \n",
       "498      y   True  0.582344  0.599881  11.896786  \n",
       "499      y   True  0.431768  0.356776  10.581289  \n",
       "\n",
       "[501 rows x 8 columns]"
      ]
     },
     "execution_count": 10,
     "metadata": {},
     "output_type": "execute_result"
    }
   ],
   "source": [
    "%%time\n",
    "cluId = \"mn5824-22112020-0107_110\" #pyrId.iloc[1]\n",
    "peakPositionLeverPositionCorrelation(cluId=cluId,light=\"light\",pathType=\"homingFromLeavingLeverToPeriphery\",coordX=\"y\",nShuf=500)"
   ]
  },
  {
   "cell_type": "code",
   "execution_count": 11,
   "id": "84d2177a-be07-4e97-87bc-6259ff187911",
   "metadata": {},
   "outputs": [
    {
     "name": "stderr",
     "output_type": "stream",
     "text": [
      "100%|███████████████████████████████████████████████████████████████| 438/438 [05:01<00:00,  1.45it/s]\n",
      "100%|███████████████████████████████████████████████████████████████| 438/438 [04:45<00:00,  1.54it/s]\n",
      "100%|███████████████████████████████████████████████████████████████| 438/438 [04:43<00:00,  1.54it/s]\n",
      "100%|███████████████████████████████████████████████████████████████| 438/438 [04:44<00:00,  1.54it/s]"
     ]
    },
    {
     "name": "stdout",
     "output_type": "stream",
     "text": [
      "CPU times: user 17min 56s, sys: 1min 3s, total: 18min 59s\n",
      "Wall time: 19min 14s\n"
     ]
    },
    {
     "name": "stderr",
     "output_type": "stream",
     "text": [
      "\n"
     ]
    }
   ],
   "source": [
    "%%time\n",
    "df = pd.DataFrame()\n",
    "for pathType in [\"homingFromLeavingLeverToPeriphery\", \"searchToLeverPath\"]:\n",
    "    for light in [\"dark\",\"light\"]:\n",
    "        for cluId in tqdm(mySearchDict.keys()):\n",
    "            df = df.append(peakPositionLeverPositionCorrelation(cluId=cluId,light=light,pathType=pathType,coordX=\"y\",nShuf=500))"
   ]
  },
  {
   "cell_type": "code",
   "execution_count": 18,
   "id": "01a1ea8a-ae76-4552-a32b-06fb86f45c7b",
   "metadata": {},
   "outputs": [
    {
     "data": {
      "text/plain": [
       "2004"
      ]
     },
     "execution_count": 18,
     "metadata": {},
     "output_type": "execute_result"
    }
   ],
   "source": []
  },
  {
   "cell_type": "code",
   "execution_count": 19,
   "id": "61531fd2-d95a-483e-be25-774c01f4cb2b",
   "metadata": {},
   "outputs": [
    {
     "name": "stdout",
     "output_type": "stream",
     "text": [
      "saving to /adata/projects/autopi_ca1/results/peakPositionLeverPositionCorr.csv 2022-09-08 10:33:39.199066\n"
     ]
    }
   ],
   "source": [
    "fn = fn=myProject.dataPath+\"/results/peakPositionLeverPositionCorr.csv\"\n",
    "print(\"saving to\",fn,datetime.datetime.now())\n",
    "df.to_csv(fn)"
   ]
  },
  {
   "cell_type": "markdown",
   "id": "47e86b8a-6d74-42b3-809b-718ab8ad3be5",
   "metadata": {},
   "source": [
    "Now create a data frame to indicate which neuron has significant lever peak loc lever loc correlation"
   ]
  },
  {
   "cell_type": "code",
   "execution_count": 20,
   "id": "012c6b11-99c9-4843-8fd6-a157ad3653c6",
   "metadata": {},
   "outputs": [],
   "source": [
    "import pandas as pd\n",
    "fn = fn=myProject.dataPath+\"/results/peakPositionLeverPositionCorr.csv\"\n",
    "peakPositionLeverPositionCorr = pd.read_csv(fn)"
   ]
  },
  {
   "cell_type": "code",
   "execution_count": 21,
   "id": "aac440fc-a356-4464-beaf-bc28f2276cdf",
   "metadata": {},
   "outputs": [
    {
     "name": "stdout",
     "output_type": "stream",
     "text": [
      "light homingFromLeavingLeverToPeriphery\n"
     ]
    },
    {
     "name": "stderr",
     "output_type": "stream",
     "text": [
      "100%|███████████████████████████████████████████████████████████████| 438/438 [01:18<00:00,  5.57it/s]\n"
     ]
    },
    {
     "name": "stdout",
     "output_type": "stream",
     "text": [
      "light searchToLeverPath\n"
     ]
    },
    {
     "name": "stderr",
     "output_type": "stream",
     "text": [
      "100%|███████████████████████████████████████████████████████████████| 438/438 [01:19<00:00,  5.54it/s]\n"
     ]
    },
    {
     "name": "stdout",
     "output_type": "stream",
     "text": [
      "dark homingFromLeavingLeverToPeriphery\n"
     ]
    },
    {
     "name": "stderr",
     "output_type": "stream",
     "text": [
      "100%|███████████████████████████████████████████████████████████████| 438/438 [01:18<00:00,  5.59it/s]\n"
     ]
    },
    {
     "name": "stdout",
     "output_type": "stream",
     "text": [
      "dark searchToLeverPath\n"
     ]
    },
    {
     "name": "stderr",
     "output_type": "stream",
     "text": [
      "100%|███████████████████████████████████████████████████████████████| 438/438 [01:21<00:00,  5.40it/s]\n"
     ]
    }
   ],
   "source": [
    "def peakPositionLeverPositionCorrSignificant(cluId,light,pathType):\n",
    "    \n",
    "    df = peakPositionLeverPositionCorr\n",
    "    df = peakPositionLeverPositionCorr\n",
    "    condIndex = (df[\"cluId\"]==cluId)&(df[\"light\"]==light)&(df[\"pathType\"]==pathType)&(df[\"shuf\"]==False)\n",
    "    obsR = df[condIndex].cor.iloc[0]\n",
    "    condIndex = (df[\"cluId\"]==cluId)&(df[\"light\"]==light)&(df[\"pathType\"]==pathType)&(df[\"shuf\"]==True)\n",
    "    shufR = df[condIndex].cor\n",
    "    highSignLevel = np.percentile(shufR,95.0)\n",
    "    if obsR > highSignLevel:\n",
    "        return True\n",
    "    else:\n",
    "        return False\n",
    "\n",
    "significantLever = pd.DataFrame({\"cluId\":pyrId})\n",
    "for light in [\"light\",\"dark\"]:\n",
    "    for pathType in [\"homingFromLeavingLeverToPeriphery\", \"searchToLeverPath\"]:\n",
    "        print(light,pathType)\n",
    "        significantLever[\"{}-{}\".format(pathType,light)] = [ peakPositionLeverPositionCorrSignificant(cluId,light,pathType) for cluId in tqdm(pyrId) ]"
   ]
  },
  {
   "cell_type": "code",
   "execution_count": 22,
   "id": "1e91f8e1-47f0-47fd-a49e-562648c7ba31",
   "metadata": {},
   "outputs": [
    {
     "name": "stdout",
     "output_type": "stream",
     "text": [
      "saving to /adata/projects/autopi_ca1/results/leverPeakCorrSign.csv\n"
     ]
    }
   ],
   "source": [
    "fn = fn=myProject.dataPath+\"/results/leverPeakCorrSign.csv\"\n",
    "print(\"saving to\",fn)\n",
    "significantLever.to_csv(fn)"
   ]
  },
  {
   "cell_type": "code",
   "execution_count": null,
   "id": "ac776bb9-bb13-483b-9431-8aee9c4b6086",
   "metadata": {},
   "outputs": [],
   "source": []
  },
  {
   "cell_type": "code",
   "execution_count": null,
   "id": "ff8e00a4-a228-4a6e-9ddb-2e93625e4a6a",
   "metadata": {},
   "outputs": [],
   "source": []
  }
 ],
 "metadata": {
  "kernelspec": {
   "display_name": "Python [conda env:DEEPLABCUT] *",
   "language": "python",
   "name": "conda-env-DEEPLABCUT-py"
  },
  "language_info": {
   "codemirror_mode": {
    "name": "ipython",
    "version": 3
   },
   "file_extension": ".py",
   "mimetype": "text/x-python",
   "name": "python",
   "nbconvert_exporter": "python",
   "pygments_lexer": "ipython3",
   "version": "3.8.10"
  }
 },
 "nbformat": 4,
 "nbformat_minor": 5
}
