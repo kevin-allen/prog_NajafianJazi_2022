{
 "cells": [
  {
   "cell_type": "markdown",
   "id": "baafd70b-2b72-4ef6-bc76-24bb00f9a9f0",
   "metadata": {},
   "source": [
    "# Shank of each neuron\n",
    "\n",
    "We want to know on which shank a neuron was recorded from.\n",
    "\n",
    "We already have the channel on which the neuron had its largest spike waveform amplitude.\n",
    "\n",
    "We also have the shank number for each channel.\n",
    "\n",
    "* channel_map.npy\n",
    "* channel_positions.npy\n",
    "* shank_layer.csv"
   ]
  },
  {
   "cell_type": "code",
   "execution_count": 1,
   "id": "d8266d05-6116-4930-8b3d-25d4928819a2",
   "metadata": {},
   "outputs": [
    {
     "name": "stdout",
     "output_type": "stream",
     "text": [
      "Project name: autopi_ca1\n",
      "dataPath: /adata/projects/autopi_ca1\n",
      "dlcModelPath: /adata/models\n",
      "Reading /adata/projects/autopi_ca1/sessionList\n",
      "We have 39 testing sessions in the list\n",
      "See myProject and sSesList objects\n"
     ]
    }
   ],
   "source": [
    "%reload_ext autoreload\n",
    "%autoreload 2\n",
    "%run setup_project.py"
   ]
  },
  {
   "cell_type": "code",
   "execution_count": 2,
   "id": "4e008a4b-11e6-4a07-85f4-a065d5a60ebd",
   "metadata": {},
   "outputs": [
    {
     "name": "stderr",
     "output_type": "stream",
     "text": [
      "100%|███████████████████████████████████████████| 39/39 [00:08<00:00,  4.85it/s]\n"
     ]
    }
   ],
   "source": [
    "load_spike_train_project(sSesList)"
   ]
  },
  {
   "cell_type": "code",
   "execution_count": 3,
   "id": "b1ec5be4-9fee-49f4-95b0-dfa88932b080",
   "metadata": {},
   "outputs": [],
   "source": [
    "def shank_neuron(ses):\n",
    "    \"\"\"\n",
    "    Save a csv file with the cell_id, shank and layer for each neuron.\n",
    "    \n",
    "    \"\"\"\n",
    "    cm = np.load(ses.path+\"/channel_map.npy\")\n",
    "    cp = np.load(ses.path+\"/channel_positions.npy\")\n",
    "    sl = pd.read_csv(ses.path+\"/shank_layer.csv\")\n",
    "    df_map = pd.DataFrame({\"id\":cm[:,0],\n",
    "                         \"shank\":cp[:,0].astype(int),\n",
    "                         \"chanOnShank\":cp[:,1]})\n",
    "    clafn=(f\"{ses.fileBase}.channel_largest_waveform_amplitude_2000.npy\")\n",
    "    neuronChan =np.load(clafn)\n",
    "    \n",
    "    if len(ses.cg.neuron_list) != neuronChan.shape[0]:\n",
    "        print(\"problem with length of neuron list\")\n",
    "    if len([ ch  for ch in neuronChan if not np.any(df_map.id==ch)]) > 0:\n",
    "        print(\"some channels with max amplitude waveforms are not in the channel_map\")\n",
    "        return\n",
    "    shanks = np.array([ df_map.shank[df_map.id==ch].head(n=1).item()  for ch in neuronChan])\n",
    "    layer = [ sl.layer[sl.shank==sh].item()  for sh in shanks]\n",
    "    df = pd.DataFrame({\"id\":[ ses.name+\"_\"+n.name for n in ses.cg.neuron_list],\n",
    "                 \"shank\":shanks,\n",
    "                 \"layer\":layer})\n",
    "   \n",
    "    fn = (f\"{ses.fileBase}.shank_neuron.csv\")\n",
    "    print(\"Saving \",fn) \n",
    "    df.to_csv(fn,index=False)"
   ]
  },
  {
   "cell_type": "code",
   "execution_count": 4,
   "id": "574362a2-6d67-4034-84d2-8a88a913c3c5",
   "metadata": {},
   "outputs": [
    {
     "name": "stdout",
     "output_type": "stream",
     "text": [
      "Saving  /adata/projects/autopi_ca1/mn5824/mn5824-20112020-0107/mn5824-20112020-0107.shank_neuron.csv\n",
      "Saving  /adata/projects/autopi_ca1/mn5824/mn5824-22112020-0107/mn5824-22112020-0107.shank_neuron.csv\n",
      "Saving  /adata/projects/autopi_ca1/mn5824/mn5824-24112020-0107/mn5824-24112020-0107.shank_neuron.csv\n",
      "Saving  /adata/projects/autopi_ca1/mn5824/mn5824-02122020-0106/mn5824-02122020-0106.shank_neuron.csv\n",
      "Saving  /adata/projects/autopi_ca1/mn711/mn711-28012021-0106/mn711-28012021-0106.shank_neuron.csv\n",
      "Saving  /adata/projects/autopi_ca1/mn711/mn711-30012021-0106/mn711-30012021-0106.shank_neuron.csv\n",
      "Saving  /adata/projects/autopi_ca1/mn711/mn711-31012021-0107/mn711-31012021-0107.shank_neuron.csv\n",
      "Saving  /adata/projects/autopi_ca1/mn711/mn711-01022021-0107/mn711-01022021-0107.shank_neuron.csv\n",
      "Saving  /adata/projects/autopi_ca1/mn711/mn711-02022021-0108/mn711-02022021-0108.shank_neuron.csv\n",
      "Saving  /adata/projects/autopi_ca1/mn711/mn711-03022021-0107/mn711-03022021-0107.shank_neuron.csv\n",
      "Saving  /adata/projects/autopi_ca1/mn711/mn711-04022021-0107/mn711-04022021-0107.shank_neuron.csv\n",
      "Saving  /adata/projects/autopi_ca1/mn2739/mn2739-11022021-0107/mn2739-11022021-0107.shank_neuron.csv\n",
      "Saving  /adata/projects/autopi_ca1/mn2739/mn2739-15022021-0105/mn2739-15022021-0105.shank_neuron.csv\n",
      "Saving  /adata/projects/autopi_ca1/mn2739/mn2739-16022021-0106/mn2739-16022021-0106.shank_neuron.csv\n",
      "Saving  /adata/projects/autopi_ca1/mn2739/mn2739-17022021-0106/mn2739-17022021-0106.shank_neuron.csv\n",
      "Saving  /adata/projects/autopi_ca1/mn2739/mn2739-21022021-0106/mn2739-21022021-0106.shank_neuron.csv\n",
      "Saving  /adata/projects/autopi_ca1/mn3246/mn3246-09042021-0106/mn3246-09042021-0106.shank_neuron.csv\n",
      "Saving  /adata/projects/autopi_ca1/mn3246/mn3246-10042021-0106/mn3246-10042021-0106.shank_neuron.csv\n",
      "Saving  /adata/projects/autopi_ca1/mn3246/mn3246-12042021-0106/mn3246-12042021-0106.shank_neuron.csv\n",
      "Saving  /adata/projects/autopi_ca1/mn3246/mn3246-14042021-0106/mn3246-14042021-0106.shank_neuron.csv\n",
      "Saving  /adata/projects/autopi_ca1/mn1173/mn1173-02052021-0107/mn1173-02052021-0107.shank_neuron.csv\n",
      "Saving  /adata/projects/autopi_ca1/mn1173/mn1173-06052021-0107/mn1173-06052021-0107.shank_neuron.csv\n",
      "Saving  /adata/projects/autopi_ca1/mn1173/mn1173-08052021-0107/mn1173-08052021-0107.shank_neuron.csv\n",
      "Saving  /adata/projects/autopi_ca1/mn1173/mn1173-09052021-0108/mn1173-09052021-0108.shank_neuron.csv\n",
      "Saving  /adata/projects/autopi_ca1/mn1173/mn1173-11052021-0108/mn1173-11052021-0108.shank_neuron.csv\n",
      "Saving  /adata/projects/autopi_ca1/TYY9524/TYY9524-16082021-0106/TYY9524-16082021-0106.shank_neuron.csv\n",
      "Saving  /adata/projects/autopi_ca1/TYY9524/TYY9524-18082021-0106/TYY9524-18082021-0106.shank_neuron.csv\n",
      "Saving  /adata/projects/autopi_ca1/mn5618/mn5618-07072021-0107/mn5618-07072021-0107.shank_neuron.csv\n",
      "Saving  /adata/projects/autopi_ca1/mn5618/mn5618-12072021-0110/mn5618-12072021-0110.shank_neuron.csv\n",
      "Saving  /adata/projects/autopi_ca1/TYY5622/TYY5622-07092021-0106/TYY5622-07092021-0106.shank_neuron.csv\n",
      "Saving  /adata/projects/autopi_ca1/TYY5622/TYY5622-17092021-0106/TYY5622-17092021-0106.shank_neuron.csv\n",
      "Saving  /adata/projects/autopi_ca1/TYY5622/TYY5622-19092021-0106/TYY5622-19092021-0106.shank_neuron.csv\n",
      "Saving  /adata/projects/autopi_ca1/TYY5622/TYY5622-20092021-0106/TYY5622-20092021-0106.shank_neuron.csv\n",
      "Saving  /adata/projects/autopi_ca1/mn9686/mn9686-20102021-0106/mn9686-20102021-0106.shank_neuron.csv\n",
      "Saving  /adata/projects/autopi_ca1/mn9686/mn9686-26102021-0106/mn9686-26102021-0106.shank_neuron.csv\n",
      "Saving  /adata/projects/autopi_ca1/mn9686/mn9686-27102021-0106/mn9686-27102021-0106.shank_neuron.csv\n",
      "Saving  /adata/projects/autopi_ca1/mn9686/mn9686-28102021-0107/mn9686-28102021-0107.shank_neuron.csv\n",
      "Saving  /adata/projects/autopi_ca1/mn9686/mn9686-29102021-0106/mn9686-29102021-0106.shank_neuron.csv\n",
      "Saving  /adata/projects/autopi_ca1/mn9686/mn9686-01112021-0106/mn9686-01112021-0106.shank_neuron.csv\n"
     ]
    }
   ],
   "source": [
    "for i,ses in enumerate(sSesList):\n",
    "    shank_neuron(ses)"
   ]
  },
  {
   "cell_type": "code",
   "execution_count": 5,
   "id": "6bd7ed69-9202-4c39-873e-49346cd55e14",
   "metadata": {},
   "outputs": [
    {
     "name": "stdout",
     "output_type": "stream",
     "text": [
      "Saving in /adata/projects/autopi_ca1/results/shank_neuron.csv\n"
     ]
    }
   ],
   "source": [
    "listDf = [ pd.read_csv(ses.fileBase+\".shank_neuron.csv\") for ses in sSesList]\n",
    "df = pd.concat(listDf)\n",
    "fn=myProject.dataPath+\"/results/shank_neuron.csv\"\n",
    "print(\"Saving in\",fn)\n",
    "df.to_csv(fn,index=False)"
   ]
  },
  {
   "cell_type": "code",
   "execution_count": null,
   "id": "293a866e-3d0e-4da6-b217-dcfcfc9defcf",
   "metadata": {},
   "outputs": [],
   "source": []
  }
 ],
 "metadata": {
  "kernelspec": {
   "display_name": "Python [conda env:DEEPLABCUT] *",
   "language": "python",
   "name": "conda-env-DEEPLABCUT-py"
  },
  "language_info": {
   "codemirror_mode": {
    "name": "ipython",
    "version": 3
   },
   "file_extension": ".py",
   "mimetype": "text/x-python",
   "name": "python",
   "nbconvert_exporter": "python",
   "pygments_lexer": "ipython3",
   "version": "3.8.10"
  }
 },
 "nbformat": 4,
 "nbformat_minor": 5
}
