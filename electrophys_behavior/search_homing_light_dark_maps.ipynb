{
 "cells": [
  {
   "cell_type": "markdown",
   "id": "6255ee2e-225f-4ef4-b867-444fb96f4764",
   "metadata": {
    "tags": []
   },
   "source": [
    "# Maps of the search and homing path for light and dark trials\n",
    "\n"
   ]
  },
  {
   "cell_type": "code",
   "execution_count": 1,
   "id": "2b7cde4b-739a-46cf-a6f8-6862cb754353",
   "metadata": {},
   "outputs": [
    {
     "name": "stdout",
     "output_type": "stream",
     "text": [
      "Project name: autopi_ca1\n",
      "dataPath: /adata/projects/autopi_ca1\n",
      "dlcModelPath: /adata/models\n",
      "Reading /adata/projects/autopi_ca1/sessionList\n",
      "We have 39 testing sessions in the list\n",
      "See myProject and sSesList objects\n",
      "Loading Animal_pose and Spike_train, sSes.ap and sSes.cg\n"
     ]
    },
    {
     "name": "stderr",
     "output_type": "stream",
     "text": [
      "100%|███████████████████████████████████████████| 39/39 [00:36<00:00,  1.05it/s]\n"
     ]
    },
    {
     "name": "stdout",
     "output_type": "stream",
     "text": [
      "Loading ses.trial_table_simple as ses.trials\n",
      "Create condition intervals in ses.intervalDict\n"
     ]
    }
   ],
   "source": [
    "%load_ext autoreload\n",
    "%autoreload 2\n",
    "%run setup_project.py\n",
    "prepareSessionsForSpatialAnalysisProject(sSesList,myProject.sessionList,pose_file_extension = \".pose_kf.npy\" )"
   ]
  },
  {
   "cell_type": "markdown",
   "id": "3b4369a5-992f-46f8-9961-b3f313f73a88",
   "metadata": {},
   "source": [
    "Get intervals for the search and homing paths"
   ]
  },
  {
   "cell_type": "code",
   "execution_count": 3,
   "id": "6247f9ba-2f2d-488c-af22-d1c670237ea7",
   "metadata": {},
   "outputs": [
    {
     "name": "stderr",
     "output_type": "stream",
     "text": [
      "39it [00:00, 68.93it/s]\n"
     ]
    }
   ],
   "source": [
    "for ses, sSes in tqdm(zip(myProject.sessionList,sSesList)):\n",
    "    getSearchHomingIntervals(ses,sSes)"
   ]
  },
  {
   "cell_type": "code",
   "execution_count": 8,
   "id": "ffdbdc59-ebdb-4123-9c3d-4222cdbb1375",
   "metadata": {},
   "outputs": [],
   "source": [
    "def getMaps(ses,sSes,onlyArena=False):\n",
    "    \"\"\"\n",
    "    Get all the maps of the data within the intervals of interest\n",
    "    \"\"\"\n",
    "    \n",
    "    xy_range=np.array([[-50,-90],[50,60]])\n",
    "    \n",
    "    # get all the conditions we are interested\n",
    "    conditionDicts = [{\"type\" : \"searchToLeverPath\", \"light\" : \"light\"},\n",
    "                      {\"type\" : \"searchToLeverPath\", \"light\" : \"light_1\"},\n",
    "                      {\"type\" : \"searchToLeverPath\", \"light\" : \"light_2\"},\n",
    "                      {\"type\" : \"searchToLeverPath\", \"light\" : \"dark\"},\n",
    "                      {\"type\" : \"searchToLeverPath\", \"light\" : \"dark_1\"},\n",
    "                      {\"type\" : \"searchToLeverPath\", \"light\" : \"dark_2\"},\n",
    "                      {\"type\" : \"homingFromLeavingLever\", \"light\" : \"light\"},\n",
    "                      {\"type\" : \"homingFromLeavingLever\", \"light\" : \"light_1\"},\n",
    "                      {\"type\" : \"homingFromLeavingLever\", \"light\" : \"light_2\"},\n",
    "                      {\"type\" : \"homingFromLeavingLever\", \"light\" : \"dark\"},\n",
    "                      {\"type\" : \"homingFromLeavingLever\", \"light\" : \"dark_1\"},\n",
    "                      {\"type\" : \"homingFromLeavingLever\", \"light\" : \"dark_2\"}]\n",
    "\n",
    "    res = {}\n",
    "    for d in conditionDicts:\n",
    "    \n",
    "        navPathType= d[\"type\"]\n",
    "        light = d[\"light\"]\n",
    "        inter = ses.intervalDict[navPathType+\"_\"+light]\n",
    "\n",
    "        sSes.ap.set_intervals(inter)\n",
    "        \n",
    "        if onlyArena:\n",
    "            # this should come after setting the time intervals, will be reset when calling sSes.ap.set_intervals again\n",
    "            sSes.ap.invalid_outside_spatial_area(shape=\"circle\",radius=43.0,center=np.array([0,0])) ## remove the bridge and homebase\n",
    "\n",
    "        for n in sSes.cg.neuron_list:\n",
    "            n.spike_train.set_intervals(inter)\n",
    "            n.spatial_properties.firing_rate_map_2d(cm_per_bin =3, smoothing_sigma_cm = 5, smoothing=True,xy_range=xy_range)\n",
    "    \n",
    "        mapList = [ n.spatial_properties.firing_rate_map for n in sSes.cg.neuron_list ]\n",
    "        mapStack = np.stack(mapList, axis=0)\n",
    "        res[navPathType+\"_\"+light]=mapStack\n",
    "        \n",
    "    # reset to original intervals\n",
    "    sSes.ap.unset_intervals()\n",
    "        \n",
    "    return res"
   ]
  },
  {
   "cell_type": "markdown",
   "id": "4a19893b-1bcb-4103-9675-ba093ac72582",
   "metadata": {},
   "source": [
    "## Try out on one session"
   ]
  },
  {
   "cell_type": "code",
   "execution_count": 9,
   "id": "ffd55428-4a92-473a-8995-358fe698847c",
   "metadata": {},
   "outputs": [],
   "source": [
    "ses = myProject.sessionList[1]\n",
    "sSes = sSesList[1]"
   ]
  },
  {
   "cell_type": "code",
   "execution_count": 11,
   "id": "94fa4b1e-f931-4169-a335-671d5b304760",
   "metadata": {},
   "outputs": [],
   "source": [
    "res = getMaps(ses,sSes)"
   ]
  },
  {
   "cell_type": "markdown",
   "id": "89c71ac6-7ad2-4767-bb6f-1d8366137f70",
   "metadata": {},
   "source": [
    "## Run on all sessions"
   ]
  },
  {
   "cell_type": "code",
   "execution_count": 13,
   "id": "db69751c-a0f8-4781-b418-6a85b6446887",
   "metadata": {
    "tags": []
   },
   "outputs": [
    {
     "name": "stderr",
     "output_type": "stream",
     "text": [
      "39it [07:06, 10.93s/it]\n"
     ]
    }
   ],
   "source": [
    "res = [ getMaps(ses,sSes) for ses, sSes in tqdm(zip(myProject.sessionList,sSesList))]"
   ]
  },
  {
   "cell_type": "markdown",
   "id": "6d14d341-c9ee-4374-b17b-70befe460de1",
   "metadata": {},
   "source": [
    "Restructure the results to get one stack of maps per condition."
   ]
  },
  {
   "cell_type": "code",
   "execution_count": 14,
   "id": "fb826302-3f54-446e-b353-626e3ff70dd0",
   "metadata": {},
   "outputs": [],
   "source": [
    "newRes = {}\n",
    "for k in res[0].keys():\n",
    "    newRes[k] = np.concatenate([d[k] for d in res])"
   ]
  },
  {
   "cell_type": "code",
   "execution_count": 15,
   "id": "7545fd35-07aa-44a7-b62d-36a8cbb9348b",
   "metadata": {},
   "outputs": [
    {
     "name": "stdout",
     "output_type": "stream",
     "text": [
      "searchToLeverPath_light (1268, 34, 50)\n",
      "searchToLeverPath_light_1 (1268, 34, 50)\n",
      "searchToLeverPath_light_2 (1268, 34, 50)\n",
      "searchToLeverPath_dark (1268, 34, 50)\n",
      "searchToLeverPath_dark_1 (1268, 34, 50)\n",
      "searchToLeverPath_dark_2 (1268, 34, 50)\n",
      "homingFromLeavingLever_light (1268, 34, 50)\n",
      "homingFromLeavingLever_light_1 (1268, 34, 50)\n",
      "homingFromLeavingLever_light_2 (1268, 34, 50)\n",
      "homingFromLeavingLever_dark (1268, 34, 50)\n",
      "homingFromLeavingLever_dark_1 (1268, 34, 50)\n",
      "homingFromLeavingLever_dark_2 (1268, 34, 50)\n"
     ]
    }
   ],
   "source": [
    "for k in newRes.keys():\n",
    "    print(k,newRes[k].shape)"
   ]
  },
  {
   "cell_type": "code",
   "execution_count": 16,
   "id": "1345eed0-75b5-499f-85bb-45a4e8a50c3e",
   "metadata": {},
   "outputs": [
    {
     "name": "stdout",
     "output_type": "stream",
     "text": [
      "Saving: /adata/projects/autopi_ca1/results/mySearchHomingMaps.pickle\n"
     ]
    }
   ],
   "source": [
    "fn=myProject.dataPath+\"/results/mySearchHomingMaps.pickle\"\n",
    "print(\"Saving:\",fn)\n",
    "with open(fn, 'wb') as handle:\n",
    "    pickle.dump(newRes, handle)"
   ]
  },
  {
   "cell_type": "code",
   "execution_count": null,
   "id": "2f9e44b5-4502-4017-8010-8a390d353953",
   "metadata": {},
   "outputs": [],
   "source": []
  }
 ],
 "metadata": {
  "kernelspec": {
   "display_name": "Python [conda env:DEEPLABCUT] *",
   "language": "python",
   "name": "conda-env-DEEPLABCUT-py"
  },
  "language_info": {
   "codemirror_mode": {
    "name": "ipython",
    "version": 3
   },
   "file_extension": ".py",
   "mimetype": "text/x-python",
   "name": "python",
   "nbconvert_exporter": "python",
   "pygments_lexer": "ipython3",
   "version": "3.8.10"
  }
 },
 "nbformat": 4,
 "nbformat_minor": 5
}
