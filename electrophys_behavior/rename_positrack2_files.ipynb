{
 "cells": [
  {
   "cell_type": "markdown",
   "id": "c8aa6367-012e-433a-b3bb-87407f301958",
   "metadata": {},
   "source": [
    "# Rename positrack2 files\n",
    "\n",
    "The positrack2 software has the following name scheme: mouse-date-time.positrack2\n",
    "We want to have mouse-date_01.positrack2, mouse-date_02.positrack2, etc\n",
    "We write a function that works on a single session.\n",
    "\n",
    "It will also copy the .mp4 file that goes with it to mouse-date_01.mp4, etc."
   ]
  },
  {
   "cell_type": "code",
   "execution_count": 1,
   "id": "4b5799d2-db69-4df8-82af-b356d3289bbc",
   "metadata": {},
   "outputs": [],
   "source": [
    "%load_ext autoreload\n",
    "%autoreload 2\n",
    "import glob\n",
    "from datetime import datetime\n",
    "import shutil\n",
    "import numpy as np\n",
    "import pandas as pd\n",
    "import matplotlib.pyplot as plt\n",
    "import os.path\n",
    "from autopipy.project import Project\n",
    "from spikeA.Session import Kilosort_session\n",
    "from spikeA.Animal_pose import Animal_pose"
   ]
  },
  {
   "cell_type": "code",
   "execution_count": 2,
   "id": "f79de57a-53b7-43a4-a7b6-b2eb01b2d63c",
   "metadata": {},
   "outputs": [
    {
     "name": "stdout",
     "output_type": "stream",
     "text": [
      "The autoreload extension is already loaded. To reload it, use:\n",
      "  %reload_ext autoreload\n",
      "Project name: autopi_ca1\n",
      "dataPath: /adata/projects/autopi_ca1\n",
      "dlcModelPath: /adata/models\n",
      "Reading /adata/projects/autopi_ca1/sessionList\n",
      "We have 44 testing sessions in the list\n",
      "See myProject and sSesList objects\n"
     ]
    },
    {
     "name": "stderr",
     "output_type": "stream",
     "text": [
      "100%|██████████████████████████████████████████| 44/44 [00:00<00:00, 564.90it/s]\n"
     ]
    }
   ],
   "source": [
    "%load_ext autoreload\n",
    "%autoreload 2\n",
    "%run setup_project.py\n",
    "load_parameters_from_files_project(sSesList)"
   ]
  },
  {
   "cell_type": "code",
   "execution_count": 4,
   "id": "dfee63c0-7213-43aa-b1c7-f75a2d67bb6a",
   "metadata": {},
   "outputs": [
    {
     "name": "stdout",
     "output_type": "stream",
     "text": [
      "TYY9524-16082021-0106\n",
      "TYY9524-18082021-0106\n",
      "TYY9524-20082021-0106\n",
      "TYY9524-22082021-0106\n",
      "TYY9524-23082021-0105\n",
      "TYY9524-25082021-0106\n",
      "TYY5622-07092021-0106\n",
      "TYY5622-17092021-0106\n",
      "TYY5622-19092021-0106\n",
      "TYY5622-20092021-0106\n",
      "mn9686-20102021-0106\n",
      "mn9686-26102021-0106\n",
      "mn9686-27102021-0106\n",
      "mn9686-28102021-0107\n",
      "mn9686-29102021-0106\n",
      "mn9686-01112021-0106\n",
      "16 sessions to change\n"
     ]
    }
   ],
   "source": [
    "\n",
    "# find sessions using positrack2\n",
    "toChangeSessions = []\n",
    "for ses in sSesList:\n",
    "    ses.load_parameters_from_files() \n",
    "    if  glob.glob(ses.path+\"/*.positrack2\"): # any positrack2 files\n",
    "        print(ses.name)\n",
    "        # check if the correct file names are already there\n",
    "        #if not os.path.exists(ses.path+\"/\"+ses.trial_names[0]+\".positrack2\"):\n",
    "        toChangeSessions.append(ses)\n",
    "\n",
    "print(\"{} sessions to change\".format(len(toChangeSessions)))\n"
   ]
  },
  {
   "cell_type": "markdown",
   "id": "8f4eb0e0-3f3b-4396-a5ec-d58c5e70d9a1",
   "metadata": {},
   "source": [
    "Select a session to process"
   ]
  },
  {
   "cell_type": "code",
   "execution_count": 83,
   "id": "dce7fda6-f34c-446d-8309-5106fec2b070",
   "metadata": {},
   "outputs": [
    {
     "name": "stdout",
     "output_type": "stream",
     "text": [
      "TYY9524-16082021-0106\n",
      "/adata/projects/autopi_ca1/TYY9524/TYY9524-16082021-0106\n"
     ]
    }
   ],
   "source": [
    "#ses = sSesList[43]\n",
    "ses = toChangeSessions[-16]\n",
    "print(ses.name)\n",
    "print(ses.path)"
   ]
  },
  {
   "cell_type": "markdown",
   "id": "7bca0a30-6824-4083-ae63-d98a76831810",
   "metadata": {},
   "source": [
    "Create a datetime object for each file name"
   ]
  },
  {
   "cell_type": "code",
   "execution_count": 79,
   "id": "e7c41494-9af3-44e7-8fdb-08967755abac",
   "metadata": {},
   "outputs": [
    {
     "name": "stdout",
     "output_type": "stream",
     "text": [
      "('TYY9524-18082021-184430.positrack2', 'TYY9524-18082021-184430.mp4', datetime.datetime(2021, 8, 18, 18, 44, 30))\n",
      "('TYY9524-18082021-201813.positrack2', 'TYY9524-18082021-201813.mp4', datetime.datetime(2021, 8, 18, 20, 18, 13))\n",
      "('TYY9524-18082021-163620.positrack2', 'TYY9524-18082021-163620.mp4', datetime.datetime(2021, 8, 18, 16, 36, 20))\n",
      "('TYY9524-18082021-191542.positrack2', 'TYY9524-18082021-191542.mp4', datetime.datetime(2021, 8, 18, 19, 15, 42))\n",
      "('TYY9524-18082021-170725.positrack2', 'TYY9524-18082021-170725.mp4', datetime.datetime(2021, 8, 18, 17, 7, 25))\n",
      "('TYY9524-18082021-194641.positrack2', 'TYY9524-18082021-194641.mp4', datetime.datetime(2021, 8, 18, 19, 46, 41))\n"
     ]
    }
   ],
   "source": [
    "posFiles = glob.glob(ses.path+\"/*-*-*.positrack2\")\n",
    "shortPosFiles = [fn.split(sep=\"/\")[-1] for fn in posFiles]\n",
    "shortMp4Files = [ fn.replace(\"positrack2\",\"mp4\")  for fn in shortPosFiles]\n",
    "dates = [fn.split(sep=\"-\")[1] for fn in shortPosFiles]\n",
    "times = [fn.split(sep=\"-\")[2].split(sep=\".\")[0] for fn in shortPosFiles]\n",
    "dt = [ datetime.strptime(d[0]+d[1],\"%d%m%Y%H%M%S\") for d in zip(dates,times)]\n",
    "for d in zip(shortPosFiles,shortMp4Files,dt):\n",
    "    print(d)"
   ]
  },
  {
   "cell_type": "markdown",
   "id": "ecebcd7c-6cdc-4fcf-8225-ab99721cb621",
   "metadata": {},
   "source": [
    "We now sort our datetime. More specifically we get the index of the datetime object once sorted.\n",
    "\n",
    "Then we can just loop over the indices and use enumerate to get the trial number."
   ]
  },
  {
   "cell_type": "code",
   "execution_count": 80,
   "id": "67bb3002-c89d-4e22-8d63-25444763dfbd",
   "metadata": {},
   "outputs": [
    {
     "name": "stdout",
     "output_type": "stream",
     "text": [
      "[2, 4, 0, 3, 5, 1]\n",
      "2021-08-18 16:36:20 TYY9524-18082021-163620.positrack2 1 TYY9524-18082021_01.positrack2\n",
      "2021-08-18 17:07:25 TYY9524-18082021-170725.positrack2 2 TYY9524-18082021_02.positrack2\n",
      "2021-08-18 18:44:30 TYY9524-18082021-184430.positrack2 3 TYY9524-18082021_03.positrack2\n",
      "2021-08-18 19:15:42 TYY9524-18082021-191542.positrack2 4 TYY9524-18082021_04.positrack2\n",
      "2021-08-18 19:46:41 TYY9524-18082021-194641.positrack2 5 TYY9524-18082021_05.positrack2\n",
      "2021-08-18 20:18:13 TYY9524-18082021-201813.positrack2 6 TYY9524-18082021_06.positrack2\n"
     ]
    }
   ],
   "source": [
    "indices = sorted(range(len(dt)), key=lambda k: dt[k])\n",
    "print(indices)\n",
    "for e,i in enumerate(indices):\n",
    "    trial_no=e+1\n",
    "    mouse=shortPosFiles[i].split(\"-\")[0]\n",
    "    date=shortPosFiles[i].split(\"-\")[1]\n",
    "    newFileName=\"{}-{}_{:02d}.positrack2\".format(mouse,date,trial_no)\n",
    "    print(dt[i],shortPosFiles[i],trial_no,newFileName)\n",
    "    "
   ]
  },
  {
   "cell_type": "markdown",
   "id": "e899646b-f8ef-4362-81d2-5092a84ee56e",
   "metadata": {},
   "source": [
    "If you are happy with the new file names, run the following."
   ]
  },
  {
   "cell_type": "code",
   "execution_count": 81,
   "id": "d13d2f87-3730-4635-8b65-9b3c8a59a3c3",
   "metadata": {},
   "outputs": [
    {
     "name": "stdout",
     "output_type": "stream",
     "text": [
      "[2, 4, 0, 3, 5, 1]\n"
     ]
    }
   ],
   "source": [
    "indices = sorted(range(len(dt)), key=lambda k: dt[k])\n",
    "print(indices)"
   ]
  },
  {
   "cell_type": "code",
   "execution_count": 82,
   "id": "7d30d2b7-7720-416e-854c-c7174ba52727",
   "metadata": {},
   "outputs": [
    {
     "name": "stdout",
     "output_type": "stream",
     "text": [
      "/adata/projects/autopi_ca1/TYY9524/TYY9524-18082021-0106/TYY9524-18082021-163620.positrack2\n",
      "/adata/projects/autopi_ca1/TYY9524/TYY9524-18082021-0106/TYY9524-18082021_01.positrack2\n",
      "/adata/projects/autopi_ca1/TYY9524/TYY9524-18082021-0106/TYY9524-18082021-163620.mp4\n",
      "/adata/projects/autopi_ca1/TYY9524/TYY9524-18082021-0106/TYY9524-18082021_01.mp4\n",
      "/adata/projects/autopi_ca1/TYY9524/TYY9524-18082021-0106/TYY9524-18082021-170725.positrack2\n",
      "/adata/projects/autopi_ca1/TYY9524/TYY9524-18082021-0106/TYY9524-18082021_02.positrack2\n",
      "/adata/projects/autopi_ca1/TYY9524/TYY9524-18082021-0106/TYY9524-18082021-170725.mp4\n",
      "/adata/projects/autopi_ca1/TYY9524/TYY9524-18082021-0106/TYY9524-18082021_02.mp4\n",
      "/adata/projects/autopi_ca1/TYY9524/TYY9524-18082021-0106/TYY9524-18082021-184430.positrack2\n",
      "/adata/projects/autopi_ca1/TYY9524/TYY9524-18082021-0106/TYY9524-18082021_03.positrack2\n",
      "/adata/projects/autopi_ca1/TYY9524/TYY9524-18082021-0106/TYY9524-18082021-184430.mp4\n",
      "/adata/projects/autopi_ca1/TYY9524/TYY9524-18082021-0106/TYY9524-18082021_03.mp4\n",
      "/adata/projects/autopi_ca1/TYY9524/TYY9524-18082021-0106/TYY9524-18082021-191542.positrack2\n",
      "/adata/projects/autopi_ca1/TYY9524/TYY9524-18082021-0106/TYY9524-18082021_04.positrack2\n",
      "/adata/projects/autopi_ca1/TYY9524/TYY9524-18082021-0106/TYY9524-18082021-191542.mp4\n",
      "/adata/projects/autopi_ca1/TYY9524/TYY9524-18082021-0106/TYY9524-18082021_04.mp4\n",
      "/adata/projects/autopi_ca1/TYY9524/TYY9524-18082021-0106/TYY9524-18082021-194641.positrack2\n",
      "/adata/projects/autopi_ca1/TYY9524/TYY9524-18082021-0106/TYY9524-18082021_05.positrack2\n",
      "/adata/projects/autopi_ca1/TYY9524/TYY9524-18082021-0106/TYY9524-18082021-194641.mp4\n",
      "/adata/projects/autopi_ca1/TYY9524/TYY9524-18082021-0106/TYY9524-18082021_05.mp4\n",
      "/adata/projects/autopi_ca1/TYY9524/TYY9524-18082021-0106/TYY9524-18082021-201813.positrack2\n",
      "/adata/projects/autopi_ca1/TYY9524/TYY9524-18082021-0106/TYY9524-18082021_06.positrack2\n",
      "/adata/projects/autopi_ca1/TYY9524/TYY9524-18082021-0106/TYY9524-18082021-201813.mp4\n",
      "/adata/projects/autopi_ca1/TYY9524/TYY9524-18082021-0106/TYY9524-18082021_06.mp4\n"
     ]
    }
   ],
   "source": [
    "for e,i in enumerate(indices):\n",
    "    trial_no=e+1\n",
    "    mouse=shortPosFiles[i].split(\"-\")[0]\n",
    "    date=shortPosFiles[i].split(\"-\")[1]\n",
    "    for fileList in [shortPosFiles, shortMp4Files]:\n",
    "        filename, ext = os.path.splitext(fileList[i])\n",
    "        \n",
    "        newPosFileName=\"{}-{}_{:02d}{}\".format(mouse,date,trial_no,ext)\n",
    "        old = \"{}/{}\".format(ses.path,fileList[i])\n",
    "        new = \"{}/{}\".format(ses.path,newPosFileName)\n",
    "        if os.path.exists(new):\n",
    "            print(new,\"exists, delete it manually.\")\n",
    "            break\n",
    "        print(old)\n",
    "        print(new)\n",
    "        shutil.copyfile(old,new)"
   ]
  },
  {
   "cell_type": "code",
   "execution_count": null,
   "id": "80b37c83-d894-453f-bed9-5fe3d094c9d9",
   "metadata": {},
   "outputs": [],
   "source": []
  },
  {
   "cell_type": "code",
   "execution_count": null,
   "id": "0c9596df-215a-4384-98a8-fa5b93a70439",
   "metadata": {},
   "outputs": [],
   "source": []
  }
 ],
 "metadata": {
  "kernelspec": {
   "display_name": "Python 3 (ipykernel)",
   "language": "python",
   "name": "python3"
  },
  "language_info": {
   "codemirror_mode": {
    "name": "ipython",
    "version": 3
   },
   "file_extension": ".py",
   "mimetype": "text/x-python",
   "name": "python",
   "nbconvert_exporter": "python",
   "pygments_lexer": "ipython3",
   "version": "3.8.10"
  }
 },
 "nbformat": 4,
 "nbformat_minor": 5
}
