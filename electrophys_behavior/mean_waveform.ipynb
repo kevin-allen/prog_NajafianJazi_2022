{
 "cells": [
  {
   "cell_type": "markdown",
   "id": "61dbc35d-15ca-4c73-bd7c-8846f878e523",
   "metadata": {},
   "source": [
    "This notebook is getting the mean Wavefrom of each cell and saves it for the later uses. "
   ]
  },
  {
   "cell_type": "code",
   "execution_count": 1,
   "id": "84d9948c-7de3-46f5-8f3e-c25594c2349c",
   "metadata": {},
   "outputs": [
    {
     "name": "stdout",
     "output_type": "stream",
     "text": [
      "Project name: autopi_ca1\n",
      "dataPath: /adata/projects/autopi_ca1\n",
      "dlcModelPath: /adata/models\n",
      "Reading /adata/projects/autopi_ca1/sessionList\n",
      "We have 39 testing sessions in the list\n",
      "See myProject and sSesList objects\n"
     ]
    }
   ],
   "source": [
    "%reload_ext autoreload\n",
    "%autoreload 2\n",
    "%run setup_project.py"
   ]
  },
  {
   "cell_type": "markdown",
   "id": "11738e95-3f7e-4af2-9f25-4f65c89388be",
   "metadata": {},
   "source": [
    "first I want to check the procedure for one session"
   ]
  },
  {
   "cell_type": "code",
   "execution_count": 2,
   "id": "eaac6924-1205-4062-8579-3e34f178b3a8",
   "metadata": {},
   "outputs": [
    {
     "name": "stderr",
     "output_type": "stream",
     "text": [
      "100%|███████████████████████████████████████████| 39/39 [00:26<00:00,  1.47it/s]\n"
     ]
    }
   ],
   "source": [
    "load_spike_train_project(sSesList)"
   ]
  },
  {
   "cell_type": "markdown",
   "id": "d7aa9a01-49d2-407e-8e5e-1057e00a3b89",
   "metadata": {},
   "source": [
    "## Get the mean waveform of all cells for local sessions\n",
    "\n",
    "We will get the mean of the first 2000 spikes for each neuron.\n",
    "This code should be run on each computer with data. Please avoid getting .dat files over the network when possible"
   ]
  },
  {
   "cell_type": "code",
   "execution_count": 3,
   "id": "da67da87-e830-40f4-b371-41bad8bddfd5",
   "metadata": {},
   "outputs": [],
   "source": [
    "def get_mean_waveform(ses, n_spikes, overwrite=False):\n",
    "    \"\"\"\n",
    "    Function to get the mean waveform for each neuron on the channel with the largest amplitude.\n",
    "    \n",
    "    It saves the waveforms and the channel with the largest amplitude for each neuron.\n",
    "    \n",
    "    It the file with the waveform is already there, and overwrite is False, the function simply reads the file and returns the data.\n",
    "    \n",
    "    It only uses channels that are listed in channel_map.npy\n",
    "    \n",
    "    Arguments:\n",
    "    ses: spikeA session\n",
    "    n_spikes: how many spikes to consider to get the mean. Fewer is faster but the mean waveforms are more noisy.\n",
    "    overwrite: If True, the function will overwrite the previous data files with waveforms if they are there. \n",
    "    \n",
    "    Returns a 2D numpy array. The channel with the largest amplitude is used\n",
    "    \"\"\"\n",
    "    print(ses.name)\n",
    "    wfn= (f\"{ses.fileBase}.mean_waveform_{n_spikes}.npy\")\n",
    "    clafn=(f\"{ses.fileBase}.channel_largest_waveform_amplitude_{n_spikes}.npy\")\n",
    "    \n",
    "    if os.path.exists(wfn) and overwrite==False:\n",
    "        #print('{} exists'.format(wf))\n",
    "        return np.load(wfn)\n",
    "    else: # maybe there is no file available or maybe overwrite is True\n",
    "        \n",
    "        fn =ses.path+\"/channel_map.npy\"\n",
    "        if not os.path.exists(fn):\n",
    "            raise IOError(fn+\" is missing\")\n",
    "        cm = np.load(ses.path+\"/channel_map.npy\")[:,0]\n",
    "    \n",
    "        dfr= Dat_file_reader(ses.dat_file_names,ses.n_channels)\n",
    "        %time dfr.read_data_to_ram(read_size_gb=4)\n",
    "        \n",
    "        for n in tqdm(ses.cg.neuron_list):\n",
    "            n.set_spike_waveform(session=ses,dat_file_reader=dfr)\n",
    "            n.spike_waveform.mean_waveform(block_size=60, channels=cm, n_spikes=n_spikes)\n",
    "            n.spike_waveform.largest_amplitude_waveform()\n",
    "        \n",
    "        # get and save the largest waveform of each neuron\n",
    "        waves= [np.expand_dims(n.spike_waveform.largest_wf,axis=0) for n in ses.cg.neuron_list]\n",
    "        waves= np.concatenate(waves,axis=0)\n",
    "        dfr.release_ram()\n",
    "        np.save(wfn, waves)\n",
    "        \n",
    "        # get and save the channel with the largest waveform amplitude\n",
    "        chan= [n.spike_waveform.max_amplitude_channel for n in ses.cg.neuron_list]\n",
    "        chan = np.array(chan)\n",
    "        np.save(clafn,chan)\n",
    "        \n",
    "        return waves\n",
    "\n",
    "#ses= sSesList[0]\n",
    "#wff= get_mean_waveform(ses, 2000,overwrite=False)"
   ]
  },
  {
   "cell_type": "code",
   "execution_count": 4,
   "id": "b71704b1-514b-460f-b9fa-f2d804e9e82f",
   "metadata": {},
   "outputs": [
    {
     "data": {
      "text/plain": [
       "[(0, 'mn5824-20112020-0107'),\n",
       " (1, 'mn5824-22112020-0107'),\n",
       " (2, 'mn5824-24112020-0107'),\n",
       " (3, 'mn5824-02122020-0106'),\n",
       " (4, 'mn711-28012021-0106'),\n",
       " (5, 'mn711-30012021-0106'),\n",
       " (6, 'mn711-31012021-0107'),\n",
       " (7, 'mn711-01022021-0107'),\n",
       " (8, 'mn711-02022021-0108'),\n",
       " (9, 'mn711-03022021-0107'),\n",
       " (10, 'mn711-04022021-0107'),\n",
       " (11, 'mn2739-11022021-0107'),\n",
       " (12, 'mn2739-15022021-0105'),\n",
       " (13, 'mn2739-16022021-0106'),\n",
       " (14, 'mn2739-17022021-0106'),\n",
       " (15, 'mn2739-21022021-0106'),\n",
       " (16, 'mn3246-09042021-0106'),\n",
       " (17, 'mn3246-10042021-0106'),\n",
       " (18, 'mn3246-12042021-0106'),\n",
       " (19, 'mn3246-14042021-0106'),\n",
       " (20, 'mn1173-02052021-0107'),\n",
       " (21, 'mn1173-06052021-0107'),\n",
       " (22, 'mn1173-08052021-0107'),\n",
       " (23, 'mn1173-09052021-0108'),\n",
       " (24, 'mn1173-11052021-0108'),\n",
       " (25, 'TYY9524-16082021-0106'),\n",
       " (26, 'TYY9524-18082021-0106'),\n",
       " (27, 'mn5618-07072021-0107'),\n",
       " (28, 'mn5618-12072021-0110'),\n",
       " (29, 'TYY5622-07092021-0106'),\n",
       " (30, 'TYY5622-17092021-0106'),\n",
       " (31, 'TYY5622-19092021-0106'),\n",
       " (32, 'TYY5622-20092021-0106'),\n",
       " (33, 'mn9686-20102021-0106'),\n",
       " (34, 'mn9686-26102021-0106'),\n",
       " (35, 'mn9686-27102021-0106'),\n",
       " (36, 'mn9686-28102021-0107'),\n",
       " (37, 'mn9686-29102021-0106'),\n",
       " (38, 'mn9686-01112021-0106')]"
      ]
     },
     "execution_count": 4,
     "metadata": {},
     "output_type": "execute_result"
    }
   ],
   "source": [
    "[ (i,ses.name) for i,ses in enumerate(sSesList)]"
   ]
  },
  {
   "cell_type": "code",
   "execution_count": 5,
   "id": "f5930d61-5412-4618-9c42-9423d2237c7b",
   "metadata": {},
   "outputs": [
    {
     "name": "stdout",
     "output_type": "stream",
     "text": [
      "mn9686-01112021-0106\n"
     ]
    }
   ],
   "source": [
    "ses= sSesList[38]\n",
    "wff= get_mean_waveform(ses, 2000,overwrite=False)"
   ]
  },
  {
   "cell_type": "markdown",
   "id": "ef9b43d9-9964-48f9-8b14-9d0c75355068",
   "metadata": {},
   "source": [
    "Get a list of sessions for which the data is stored locally."
   ]
  },
  {
   "cell_type": "code",
   "execution_count": 6,
   "id": "e829e88b-1697-47f4-8797-9c9bec8274ed",
   "metadata": {},
   "outputs": [
    {
     "name": "stdout",
     "output_type": "stream",
     "text": [
      "37 local sessions\n"
     ]
    }
   ],
   "source": [
    "sSesListLocal = get_local_sessions(sSesList)\n",
    "print(\"{} local sessions\".format(len(sSesListLocal)))"
   ]
  },
  {
   "cell_type": "code",
   "execution_count": 7,
   "id": "511e0ff1-8dc6-4281-a52e-fca639b32ca3",
   "metadata": {},
   "outputs": [
    {
     "name": "stdout",
     "output_type": "stream",
     "text": [
      "mn5824-20112020-0107\n",
      "mn5824-22112020-0107\n",
      "mn5824-24112020-0107\n",
      "mn5824-02122020-0106\n",
      "mn711-28012021-0106\n",
      "mn711-30012021-0106\n",
      "mn711-31012021-0107\n",
      "mn711-01022021-0107\n",
      "mn711-02022021-0108\n",
      "mn711-03022021-0107\n",
      "mn711-04022021-0107\n",
      "mn2739-11022021-0107\n",
      "mn2739-15022021-0105\n",
      "mn2739-16022021-0106\n",
      "mn2739-17022021-0106\n",
      "mn2739-21022021-0106\n",
      "mn3246-09042021-0106\n",
      "mn3246-10042021-0106\n",
      "mn3246-12042021-0106\n",
      "mn3246-14042021-0106\n",
      "mn1173-02052021-0107\n",
      "mn1173-06052021-0107\n",
      "mn1173-08052021-0107\n",
      "mn1173-09052021-0108\n",
      "mn1173-11052021-0108\n",
      "mn5618-07072021-0107\n",
      "mn5618-12072021-0110\n",
      "TYY5622-07092021-0106\n",
      "TYY5622-17092021-0106\n",
      "TYY5622-19092021-0106\n",
      "TYY5622-20092021-0106\n",
      "mn9686-20102021-0106\n",
      "mn9686-26102021-0106\n",
      "mn9686-27102021-0106\n",
      "mn9686-28102021-0107\n",
      "mn9686-29102021-0106\n",
      "mn9686-01112021-0106\n"
     ]
    }
   ],
   "source": [
    "wff = [get_mean_waveform(ses=ses, n_spikes=2000) for ses in sSesListLocal]"
   ]
  },
  {
   "cell_type": "markdown",
   "id": "797aa6c0-1af4-45b5-a530-c5f3c281b51a",
   "metadata": {},
   "source": [
    "Check that the channel with largest amplitude was saved "
   ]
  },
  {
   "cell_type": "code",
   "execution_count": 8,
   "id": "0497b105-92b1-43a9-a638-34900e862055",
   "metadata": {},
   "outputs": [
    {
     "data": {
      "text/plain": [
       "[True,\n",
       " True,\n",
       " True,\n",
       " True,\n",
       " True,\n",
       " True,\n",
       " True,\n",
       " True,\n",
       " True,\n",
       " True,\n",
       " True,\n",
       " True,\n",
       " True,\n",
       " True,\n",
       " True,\n",
       " True,\n",
       " True,\n",
       " True,\n",
       " True,\n",
       " True,\n",
       " True,\n",
       " True,\n",
       " True,\n",
       " True,\n",
       " True,\n",
       " True,\n",
       " True,\n",
       " True,\n",
       " True,\n",
       " True,\n",
       " True,\n",
       " True,\n",
       " True,\n",
       " True,\n",
       " True,\n",
       " True,\n",
       " True,\n",
       " True,\n",
       " True]"
      ]
     },
     "execution_count": 8,
     "metadata": {},
     "output_type": "execute_result"
    }
   ],
   "source": [
    " [ os.path.exists(f\"{ses.fileBase}.channel_largest_waveform_amplitude_2000.npy\") for ses in sSesList]"
   ]
  },
  {
   "cell_type": "markdown",
   "id": "a39e3089-397f-45e7-ac35-3bcda1a1e5c9",
   "metadata": {},
   "source": [
    "## Get the id for each neuron"
   ]
  },
  {
   "cell_type": "code",
   "execution_count": 9,
   "id": "890b0eb9-5755-43e0-8dc2-55edaa375579",
   "metadata": {},
   "outputs": [],
   "source": [
    "def df_Session(ses):\n",
    "    ''' Get the id of each neuron'''\n",
    "    cellID= [ses.name + \"_\"+ n.name for n in ses.cg.neuron_list]\n",
    "    df= pd.DataFrame({\"id\": cellID, \n",
    "                     \"subject\": ses.subject,\n",
    "                     \"session\": ses.name })\n",
    "    return df\n",
    "df= [df_Session(ses) for ses in sSesList]\n",
    "ci= pd.concat(df,axis=0)\n",
    "fn= myProject.dataPath+\"/results/ci.scv\"\n",
    "ci.to_csv(fn,index=False)"
   ]
  },
  {
   "cell_type": "markdown",
   "id": "23e04566-92d3-4994-b89a-425304af9da0",
   "metadata": {},
   "source": [
    "## Get all the data together\n",
    "\n",
    "Once the waveforms were calculated and stored in a file for each session, we can then get them all to save them together."
   ]
  },
  {
   "cell_type": "code",
   "execution_count": 10,
   "id": "da22129a-dc1b-44d8-ad03-79dd455709ce",
   "metadata": {},
   "outputs": [
    {
     "name": "stdout",
     "output_type": "stream",
     "text": [
      "mn5824-20112020-0107\n",
      "mn5824-22112020-0107\n",
      "mn5824-24112020-0107\n",
      "mn5824-02122020-0106\n",
      "mn711-28012021-0106\n",
      "mn711-30012021-0106\n",
      "mn711-31012021-0107\n",
      "mn711-01022021-0107\n",
      "mn711-02022021-0108\n",
      "mn711-03022021-0107\n",
      "mn711-04022021-0107\n",
      "mn2739-11022021-0107\n",
      "mn2739-15022021-0105\n",
      "mn2739-16022021-0106\n",
      "mn2739-17022021-0106\n",
      "mn2739-21022021-0106\n",
      "mn3246-09042021-0106\n",
      "mn3246-10042021-0106\n",
      "mn3246-12042021-0106\n",
      "mn3246-14042021-0106\n",
      "mn1173-02052021-0107\n",
      "mn1173-06052021-0107\n",
      "mn1173-08052021-0107\n",
      "mn1173-09052021-0108\n",
      "mn1173-11052021-0108\n",
      "TYY9524-16082021-0106\n",
      "TYY9524-18082021-0106\n",
      "mn5618-07072021-0107\n",
      "mn5618-12072021-0110\n",
      "TYY5622-07092021-0106\n",
      "TYY5622-17092021-0106\n",
      "TYY5622-19092021-0106\n",
      "TYY5622-20092021-0106\n",
      "mn9686-20102021-0106\n",
      "mn9686-26102021-0106\n",
      "mn9686-27102021-0106\n",
      "mn9686-28102021-0107\n",
      "mn9686-29102021-0106\n",
      "mn9686-01112021-0106\n"
     ]
    }
   ],
   "source": [
    "wff = [get_mean_waveform(ses, 2000,overwrite=False) for ses in sSesList]\n",
    "wff = np.concatenate(wff)"
   ]
  },
  {
   "cell_type": "markdown",
   "id": "2701dec6-3086-4454-9db6-fd28c215cd74",
   "metadata": {},
   "source": [
    "## Normalise to baseline\n"
   ]
  },
  {
   "cell_type": "code",
   "execution_count": 11,
   "id": "6b545e62-f97a-4758-90e0-a57aeffad28d",
   "metadata": {},
   "outputs": [],
   "source": [
    "wff= wff-np.expand_dims(wff[:,0:10].mean(axis=1), axis=1)"
   ]
  },
  {
   "cell_type": "markdown",
   "id": "e925e5ab-db86-43a9-935c-5442b534f8d3",
   "metadata": {},
   "source": [
    "## Save"
   ]
  },
  {
   "cell_type": "code",
   "execution_count": 12,
   "id": "d9b863c3-ea14-4587-81d4-50b8cdaedb8b",
   "metadata": {},
   "outputs": [],
   "source": [
    "fn=myProject.dataPath+\"/results/mean_waveforms.npy\"\n",
    "np.save(fn,wff)"
   ]
  },
  {
   "cell_type": "code",
   "execution_count": null,
   "id": "f1e12d2a-f0c0-45e5-84cd-523b79c7dbee",
   "metadata": {},
   "outputs": [],
   "source": []
  }
 ],
 "metadata": {
  "kernelspec": {
   "display_name": "Python 3 (ipykernel)",
   "language": "python",
   "name": "python3"
  },
  "language_info": {
   "codemirror_mode": {
    "name": "ipython",
    "version": 3
   },
   "file_extension": ".py",
   "mimetype": "text/x-python",
   "name": "python",
   "nbconvert_exporter": "python",
   "pygments_lexer": "ipython3",
   "version": "3.8.10"
  }
 },
 "nbformat": 4,
 "nbformat_minor": 5
}
