{
 "cells": [
  {
   "cell_type": "markdown",
   "metadata": {},
   "source": [
    "# Database tests\n",
    "\n",
    "We want to make sure we have all the needed files before proceeding with the analysis."
   ]
  },
  {
   "cell_type": "markdown",
   "metadata": {},
   "source": [
    "## autopipy files"
   ]
  },
  {
   "cell_type": "code",
   "execution_count": 5,
   "metadata": {},
   "outputs": [
    {
     "name": "stdout",
     "output_type": "stream",
     "text": [
      "Project name: autopi_ca1\n",
      "dataPath: /adata/projects/autopi_ca1\n",
      "dlcModelPath: /adata/models\n",
      "Reading /adata/projects/autopi_ca1/sessionList\n",
      "We have 43 testing sessions in the list\n",
      "See myProject and sSesList objects\n"
     ]
    }
   ],
   "source": [
    "%run setup_project.py\n",
    "import os.path\n",
    "import shutil\n",
    "\n"
   ]
  },
  {
   "cell_type": "code",
   "execution_count": 6,
   "metadata": {},
   "outputs": [],
   "source": [
    "myProject.createSessionList(sessionNameList=sessionNames.sessionName.to_list()) "
   ]
  },
  {
   "cell_type": "code",
   "execution_count": null,
   "metadata": {},
   "outputs": [
    {
     "name": "stdout",
     "output_type": "stream",
     "text": [
      "mn5824-20112020-0107, video len: 52143, video-log len:52143, first frame: 1, max log gap: 3.0, mean time diff: 0.116, max time diff: 0.656, num problem diff: 2613, frame rate: 8.61\n",
      "mn5824-22112020-0107, video len: 55636, video-log len:55636, first frame: 1, max log gap: 5.0, mean time diff: 0.109, max time diff: 0.633, num problem diff: 1315, frame rate: 9.16\n",
      "mn5824-24112020-0107, video len: 52491, video-log len:52491, first frame: 1, max log gap: 14.0, mean time diff: 0.115, max time diff: 1.43, num problem diff: 2655, frame rate: 8.67\n",
      "mn5824-02122020-0106, video len: 53966, video-log len:53966, first frame: 1, max log gap: 6.0, mean time diff: 0.102, max time diff: 0.612, num problem diff: 263, frame rate: 9.83\n",
      "mn711-28012021-0106, video len: 81746, video-log len:81746, first frame: 0, max log gap: nan, mean time diff: 0.0667, max time diff: 0.183, num problem diff: 0, frame rate: 15.0\n",
      "mn711-30012021-0106, video len: 95222, video-log len:95222, first frame: 0, max log gap: nan, mean time diff: 0.0667, max time diff: 0.193, num problem diff: 0, frame rate: 15.0\n",
      "mn711-31012021-0107, video len: 109115, video-log len:109115, first frame: 0, max log gap: nan, mean time diff: 0.0667, max time diff: 0.191, num problem diff: 0, frame rate: 15.0\n",
      "mn711-01022021-0107, video len: 110194, video-log len:110194, first frame: 0, max log gap: nan, mean time diff: 0.0667, max time diff: 0.209, num problem diff: 0, frame rate: 15.0\n",
      "mn711-02022021-0108, video len: 109201, video-log len:109201, first frame: 0, max log gap: nan, mean time diff: 0.0667, max time diff: 0.182, num problem diff: 0, frame rate: 15.0\n",
      "mn711-03022021-0107, video len: 108872, video-log len:108872, first frame: 0, max log gap: nan, mean time diff: 0.0667, max time diff: 0.211, num problem diff: 0, frame rate: 15.0\n",
      "mn711-04022021-0107, video len: 109176, video-log len:109176, first frame: 0, max log gap: nan, mean time diff: 0.0667, max time diff: 0.207, num problem diff: 0, frame rate: 15.0\n",
      "mn2739-11022021-0107, video len: 82043, video-log len:82043, first frame: 0, max log gap: nan, mean time diff: 0.0667, max time diff: 0.207, num problem diff: 0, frame rate: 15.0\n",
      "mn2739-15022021-0105, video len: 55202, video-log len:55202, first frame: 0, max log gap: nan, mean time diff: 0.0667, max time diff: 0.207, num problem diff: 0, frame rate: 15.0\n",
      "mn2739-16022021-0106, video len: 75681, video-log len:75681, first frame: 0, max log gap: nan, mean time diff: 0.0667, max time diff: 0.241, num problem diff: 0, frame rate: 15.0\n",
      "mn2739-17022021-0106, video len: 69245, video-log len:69245, first frame: 0, max log gap: nan, mean time diff: 0.0667, max time diff: 0.184, num problem diff: 0, frame rate: 15.0\n",
      "mn2739-21022021-0106, video len: 82166, video-log len:82166, first frame: 0, max log gap: nan, mean time diff: 0.0667, max time diff: 0.191, num problem diff: 0, frame rate: 15.0\n",
      "mn3246-09042021-0106, video len: 163898, video-log len:163898, first frame: 0, max log gap: nan, mean time diff: 0.0333, max time diff: 0.177, num problem diff: 0, frame rate: 30.0\n",
      "mn3246-10042021-0106, video len: 164090, video-log len:164090, first frame: 0, max log gap: nan, mean time diff: 0.0333, max time diff: 0.154, num problem diff: 0, frame rate: 30.0\n",
      "mn3246-12042021-0106, video len: 164036, video-log len:164036, first frame: 0, max log gap: nan, mean time diff: 0.0333, max time diff: 0.177, num problem diff: 0, frame rate: 30.0\n",
      "mn3246-14042021-0106, video len: 164246, video-log len:164246, first frame: 0, max log gap: nan, mean time diff: 0.0333, max time diff: 0.173, num problem diff: 0, frame rate: 30.0\n",
      "mn1173-02052021-0107, video len: 218052, video-log len:218052, first frame: 0, max log gap: nan, mean time diff: 0.0333, max time diff: 0.152, num problem diff: 0, frame rate: 30.0\n",
      "mn1173-06052021-0107, video len: 163690, video-log len:163690, first frame: 0, max log gap: nan, mean time diff: 0.0333, max time diff: 0.159, num problem diff: 0, frame rate: 30.0\n",
      "mn1173-08052021-0107, video len: 182067, video-log len:182067, first frame: 0, max log gap: nan, mean time diff: 0.0333, max time diff: 0.663, num problem diff: 1, frame rate: 30.0\n",
      "mn1173-09052021-0108, video len: 218113, video-log len:218113, first frame: 0, max log gap: nan, mean time diff: 0.0333, max time diff: 0.208, num problem diff: 0, frame rate: 30.0\n",
      "mn1173-11052021-0108, video len: 163323, video-log len:163323, first frame: 0, max log gap: nan, mean time diff: 0.0334, max time diff: 0.821, num problem diff: 39, frame rate: 29.9\n",
      "TYY9524-25082021-0106, video len: 165241, video-log len:165241, first frame: 0, max log gap: nan, mean time diff: 0.0333, max time diff: 0.663, num problem diff: 1, frame rate: 30.0\n",
      "TYY9524-22082021-0106, video len: 182440, video-log len:182440, first frame: 0, max log gap: nan, mean time diff: 0.0333, max time diff: 1.54, num problem diff: 1, frame rate: 30.0\n",
      "TYY9524-20082021-0106, video len: 164101, video-log len:164101, first frame: 0, max log gap: nan, mean time diff: 0.0333, max time diff: 0.177, num problem diff: 0, frame rate: 30.0\n",
      "TYY9524-18082021-0106, video len: 163894, video-log len:163894, first frame: 0, max log gap: nan, mean time diff: 0.0333, max time diff: 0.213, num problem diff: 0, frame rate: 30.0\n",
      "TYY9524-16082021-0106, video len: 164599, video-log len:164599, first frame: 0, max log gap: nan, mean time diff: 0.0333, max time diff: 0.147, num problem diff: 0, frame rate: 30.0\n",
      "mn5618-07072021-0107, video len: 182066, video-log len:182066, first frame: 0, max log gap: nan, mean time diff: 0.0333, max time diff: 0.203, num problem diff: 0, frame rate: 30.0\n",
      "mn5618-09072021-0106, video len: 163874, video-log len:163874, first frame: 0, max log gap: nan, mean time diff: 0.0333, max time diff: 0.659, num problem diff: 1, frame rate: 30.0\n",
      "TYY5622-07092021-0106, video len: 163736, video-log len:163736, first frame: 0, max log gap: nan, mean time diff: 0.0333, max time diff: 0.156, num problem diff: 0, frame rate: 30.0\n",
      "TYY5622-17092021-0106, video len: 163508, video-log len:163508, first frame: 0, max log gap: nan, mean time diff: 0.0333, max time diff: 0.658, num problem diff: 1, frame rate: 30.0\n",
      "TYY5622-19092021-0106, video len: 163763, video-log len:163763, first frame: 0, max log gap: nan, mean time diff: 0.0333, max time diff: 0.175, num problem diff: 0, frame rate: 30.0\n",
      "TYY9524-23082021-0105, video len: 135022, video-log len:135022, first frame: 0, max log gap: nan, mean time diff: 0.0333, max time diff: 1.57, num problem diff: 2, frame rate: 30.0\n",
      "TYY5622-20092021-0106, video len: 163742, video-log len:163742, first frame: 0, max log gap: nan, mean time diff: 0.0333, max time diff: 0.183, num problem diff: 0, frame rate: 30.0\n",
      "mn5618-12072021-0110, video len: 163656, video-log len:163656, first frame: 0, max log gap: nan, mean time diff: 0.0333, max time diff: 0.187, num problem diff: 0, frame rate: 30.0\n",
      "mn9686-20102021-0106, video len: 163855, video-log len:163855, first frame: 0, max log gap: nan, mean time diff: 0.0333, max time diff: 0.175, num problem diff: 0, frame rate: 30.0\n",
      "mn9686-26102021-0106, video len: 164267, video-log len:164267, first frame: 0, max log gap: nan, mean time diff: 0.0333, max time diff: 0.18, num problem diff: 0, frame rate: 30.0\n",
      "mn9686-27102021-0106, video len: 141796, video-log len:141796, first frame: 0, max log gap: nan, mean time diff: 0.0333, max time diff: 0.665, num problem diff: 1, frame rate: 30.0\n",
      "mn9686-28102021-0107, video len: 163951, video-log len:163951, first frame: 0, max log gap: nan, mean time diff: 0.0333, max time diff: 0.178, num problem diff: 0, frame rate: 30.0\n",
      "mn9686-29102021-0106, video len: 163664, video-log len:163664, first frame: 0, max log gap: nan, mean time diff: 0.0333, max time diff: 0.156, num problem diff: 0, frame rate: 30.0\n"
     ]
    }
   ],
   "source": [
    "for ses in myProject.sessionList :\n",
    "    ses.checkSessionDirectory()\n",
    "    \n",
    "    ses.testVideoLogSynchronization()"
   ]
  },
  {
   "cell_type": "markdown",
   "metadata": {},
   "source": [
    "## spikeA files\n",
    "\n",
    "We will continue using the myProject object from the autopypi package when testing the spikeA files"
   ]
  },
  {
   "cell_type": "markdown",
   "metadata": {},
   "source": [
    "First we create a list of spikeA sessions."
   ]
  },
  {
   "cell_type": "code",
   "execution_count": 8,
   "metadata": {},
   "outputs": [],
   "source": [
    "from spikeA.Session import Kilosort_session\n",
    "sSessions = [ Kilosort_session(ses.name,ses.path) for ses in myProject.sessionList ] # spikeA session object"
   ]
  },
  {
   "cell_type": "markdown",
   "metadata": {},
   "source": [
    "We try to load the parameter files. There will be errors if the files are not there."
   ]
  },
  {
   "cell_type": "code",
   "execution_count": 9,
   "metadata": {},
   "outputs": [],
   "source": [
    "for ses in sSessions:\n",
    "    ses.load_parameters_from_files() "
   ]
  },
  {
   "cell_type": "markdown",
   "metadata": {},
   "source": [
    "We check if we can load the spikes"
   ]
  },
  {
   "cell_type": "code",
   "execution_count": 10,
   "metadata": {},
   "outputs": [
    {
     "name": "stdout",
     "output_type": "stream",
     "text": [
      "mn5824-20112020-0107\n",
      "mn5824-22112020-0107\n",
      "mn5824-24112020-0107\n",
      "mn5824-02122020-0106\n",
      "mn711-28012021-0106\n",
      "mn711-30012021-0106\n",
      "mn711-31012021-0107\n",
      "mn711-01022021-0107\n",
      "mn711-02022021-0108\n",
      "mn711-03022021-0107\n",
      "mn711-04022021-0107\n",
      "mn2739-11022021-0107\n",
      "mn2739-15022021-0105\n",
      "mn2739-16022021-0106\n",
      "mn2739-17022021-0106\n",
      "mn2739-21022021-0106\n",
      "mn3246-09042021-0106\n",
      "mn3246-10042021-0106\n",
      "mn3246-12042021-0106\n",
      "mn3246-14042021-0106\n",
      "mn1173-02052021-0107\n",
      "mn1173-06052021-0107\n",
      "mn1173-08052021-0107\n",
      "mn1173-09052021-0108\n",
      "mn1173-11052021-0108\n",
      "TYY9524-25082021-0106\n",
      "TYY9524-22082021-0106\n",
      "TYY9524-20082021-0106\n",
      "TYY9524-18082021-0106\n",
      "TYY9524-16082021-0106\n",
      "mn5618-07072021-0107\n",
      "mn5618-09072021-0106\n",
      "TYY5622-07092021-0106\n",
      "TYY5622-17092021-0106\n",
      "TYY5622-19092021-0106\n",
      "TYY9524-23082021-0105\n",
      "TYY5622-20092021-0106\n",
      "mn5618-12072021-0110\n",
      "mn9686-20102021-0106\n",
      "mn9686-26102021-0106\n",
      "mn9686-27102021-0106\n",
      "mn9686-28102021-0107\n",
      "mn9686-29102021-0106\n"
     ]
    }
   ],
   "source": [
    "from spikeA.Spike_train_loader import Spike_train_loader\n",
    "for ses in sSessions:\n",
    "    print(ses.name)\n",
    "    stl = Spike_train_loader()\n",
    "    stl.load_spike_train_kilosort(ses)"
   ]
  },
  {
   "cell_type": "markdown",
   "metadata": {},
   "source": [
    "Check if the AnimalPose.pose matrix was generated from the .positrack and .dat files."
   ]
  },
  {
   "cell_type": "code",
   "execution_count": 11,
   "metadata": {},
   "outputs": [
    {
     "name": "stdout",
     "output_type": "stream",
     "text": [
      "0 mn5824-20112020-0107\n",
      "Loading original pose from /adata/projects/autopi_ca1/mn5824/mn5824-20112020-0107/mn5824-20112020-0107.pose.npy\n",
      "(513035, 8)\n",
      "1 mn5824-22112020-0107\n",
      "Loading original pose from /adata/projects/autopi_ca1/mn5824/mn5824-22112020-0107/mn5824-22112020-0107.pose.npy\n",
      "(511401, 8)\n",
      "2 mn5824-24112020-0107\n",
      "Loading original pose from /adata/projects/autopi_ca1/mn5824/mn5824-24112020-0107/mn5824-24112020-0107.pose.npy\n",
      "(492479, 8)\n",
      "3 mn5824-02122020-0106\n",
      "Loading original pose from /adata/projects/autopi_ca1/mn5824/mn5824-02122020-0106/mn5824-02122020-0106.pose.npy\n",
      "(481193, 8)\n",
      "4 mn711-28012021-0106\n",
      "Loading original pose from /adata/projects/autopi_ca1/mn711/mn711-28012021-0106/mn711-28012021-0106.pose.npy\n",
      "(417904, 8)\n",
      "5 mn711-30012021-0106\n",
      "Loading original pose from /adata/projects/autopi_ca1/mn711/mn711-30012021-0106/mn711-30012021-0106.pose.npy\n",
      "(481058, 8)\n",
      "6 mn711-31012021-0107\n",
      "Loading original pose from /adata/projects/autopi_ca1/mn711/mn711-31012021-0107/mn711-31012021-0107.pose.npy\n",
      "(571423, 8)\n",
      "7 mn711-01022021-0107\n",
      "Loading original pose from /adata/projects/autopi_ca1/mn711/mn711-01022021-0107/mn711-01022021-0107.pose.npy\n",
      "(571293, 9)\n",
      "8 mn711-02022021-0108\n",
      "Loading original pose from /adata/projects/autopi_ca1/mn711/mn711-02022021-0108/mn711-02022021-0108.pose.npy\n",
      "(601622, 8)\n",
      "9 mn711-03022021-0107\n",
      "Loading original pose from /adata/projects/autopi_ca1/mn711/mn711-03022021-0107/mn711-03022021-0107.pose.npy\n",
      "(571425, 8)\n",
      "10 mn711-04022021-0107\n",
      "Loading original pose from /adata/projects/autopi_ca1/mn711/mn711-04022021-0107/mn711-04022021-0107.pose.npy\n",
      "(601424, 8)\n",
      "11 mn2739-11022021-0107\n",
      "Loading original pose from /adata/projects/autopi_ca1/mn2739/mn2739-11022021-0107/mn2739-11022021-0107.pose.npy\n",
      "(479191, 8)\n",
      "12 mn2739-15022021-0105\n",
      "Loading original pose from /adata/projects/autopi_ca1/mn2739/mn2739-15022021-0105/mn2739-15022021-0105.pose.npy\n",
      "(334772, 8)\n",
      "13 mn2739-16022021-0106\n",
      "Loading original pose from /adata/projects/autopi_ca1/mn2739/mn2739-16022021-0106/mn2739-16022021-0106.pose.npy\n",
      "(426511, 8)\n",
      "14 mn2739-17022021-0106\n",
      "Loading original pose from /adata/projects/autopi_ca1/mn2739/mn2739-17022021-0106/mn2739-17022021-0106.pose.npy\n",
      "(445694, 8)\n",
      "15 mn2739-21022021-0106\n",
      "Loading original pose from /adata/projects/autopi_ca1/mn2739/mn2739-21022021-0106/mn2739-21022021-0106.pose.npy\n",
      "(479732, 8)\n",
      "16 mn3246-09042021-0106\n",
      "Loading original pose from /adata/projects/autopi_ca1/mn3246/mn3246-09042021-0106/mn3246-09042021-0106.pose.npy\n",
      "(500554, 8)\n",
      "17 mn3246-10042021-0106\n",
      "Loading original pose from /adata/projects/autopi_ca1/mn3246/mn3246-10042021-0106/mn3246-10042021-0106.pose.npy\n",
      "(481169, 8)\n",
      "18 mn3246-12042021-0106\n",
      "Loading original pose from /adata/projects/autopi_ca1/mn3246/mn3246-12042021-0106/mn3246-12042021-0106.pose.npy\n",
      "(475417, 8)\n",
      "19 mn3246-14042021-0106\n",
      "Loading original pose from /adata/projects/autopi_ca1/mn3246/mn3246-14042021-0106/mn3246-14042021-0106.pose.npy\n",
      "(481182, 8)\n",
      "20 mn1173-02052021-0107\n",
      "Loading original pose from /adata/projects/autopi_ca1/mn1173/mn1173-02052021-0107/mn1173-02052021-0107.pose.npy\n",
      "(571337, 8)\n",
      "21 mn1173-06052021-0107\n",
      "Loading original pose from /adata/projects/autopi_ca1/mn1173/mn1173-06052021-0107/mn1173-06052021-0107.pose.npy\n",
      "(511291, 8)\n",
      "22 mn1173-08052021-0107\n",
      "Loading original pose from /adata/projects/autopi_ca1/mn1173/mn1173-08052021-0107/mn1173-08052021-0107.pose.npy\n",
      "(501481, 8)\n",
      "23 mn1173-09052021-0108\n",
      "Loading original pose from /adata/projects/autopi_ca1/mn1173/mn1173-09052021-0108/mn1173-09052021-0108.pose.npy\n",
      "(587672, 8)\n",
      "24 mn1173-11052021-0108\n",
      "Loading original pose from /adata/projects/autopi_ca1/mn1173/mn1173-11052021-0108/mn1173-11052021-0108.pose.npy\n",
      "(515280, 8)\n",
      "25 TYY9524-25082021-0106\n",
      "Loading original pose from /adata/projects/autopi_ca1/TYY9524/TYY9524-25082021-0106/TYY9524-25082021-0106.pose.npy\n",
      "(484278, 8)\n",
      "26 TYY9524-22082021-0106\n",
      "Loading original pose from /adata/projects/autopi_ca1/TYY9524/TYY9524-22082021-0106/TYY9524-22082021-0106.pose.npy\n",
      "(444207, 8)\n",
      "27 TYY9524-20082021-0106\n",
      "Loading original pose from /adata/projects/autopi_ca1/TYY9524/TYY9524-20082021-0106/TYY9524-20082021-0106.pose.npy\n",
      "(414681, 8)\n",
      "28 TYY9524-18082021-0106\n",
      "Loading original pose from /adata/projects/autopi_ca1/TYY9524/TYY9524-18082021-0106/TYY9524-18082021-0106.pose.npy\n",
      "(484212, 8)\n",
      "29 TYY9524-16082021-0106\n",
      "Loading original pose from /adata/projects/autopi_ca1/TYY9524/TYY9524-16082021-0106/TYY9524-16082021-0106.pose.npy\n",
      "(484289, 8)\n",
      "30 mn5618-07072021-0107\n",
      "Loading original pose from /adata/projects/autopi_ca1/mn5618/mn5618-07072021-0107/mn5618-07072021-0107.pose.npy\n",
      "(504218, 8)\n",
      "31 mn5618-09072021-0106\n",
      "Loading original pose from /adata/projects/autopi_ca1/mn5618/mn5618-09072021-0106/mn5618-09072021-0106.pose.npy\n",
      "(435680, 8)\n",
      "32 TYY5622-07092021-0106\n",
      "Loading original pose from /adata/projects/autopi_ca1/TYY5622/TYY5622-07092021-0106/TYY5622-07092021-0106.pose.npy\n",
      "(483866, 8)\n",
      "33 TYY5622-17092021-0106\n",
      "Loading original pose from /adata/projects/autopi_ca1/TYY5622/TYY5622-17092021-0106/TYY5622-17092021-0106.pose.npy\n",
      "(484301, 8)\n",
      "34 TYY5622-19092021-0106\n",
      "Loading original pose from /adata/projects/autopi_ca1/TYY5622/TYY5622-19092021-0106/TYY5622-19092021-0106.pose.npy\n",
      "(484051, 8)\n",
      "35 TYY9524-23082021-0105\n",
      "Loading original pose from /adata/projects/autopi_ca1/TYY9524/TYY9524-23082021-0105/TYY9524-23082021-0105.pose.npy\n",
      "(317108, 8)\n",
      "36 TYY5622-20092021-0106\n",
      "Loading original pose from /adata/projects/autopi_ca1/TYY5622/TYY5622-20092021-0106/TYY5622-20092021-0106.pose.npy\n",
      "(484471, 8)\n",
      "37 mn5618-12072021-0110\n",
      "Loading original pose from /adata/projects/autopi_ca1/mn5618/mn5618-12072021-0110/mn5618-12072021-0110.pose.npy\n",
      "(505682, 8)\n",
      "38 mn9686-20102021-0106\n",
      "Loading original pose from /adata/projects/autopi_ca1/mn9686/mn9686-20102021-0106/mn9686-20102021-0106.pose.npy\n",
      "(483828, 8)\n",
      "39 mn9686-26102021-0106\n",
      "Loading original pose from /adata/projects/autopi_ca1/mn9686/mn9686-26102021-0106/mn9686-26102021-0106.pose.npy\n",
      "(478441, 8)\n",
      "40 mn9686-27102021-0106\n",
      "Loading original pose from /adata/projects/autopi_ca1/mn9686/mn9686-27102021-0106/mn9686-27102021-0106.pose.npy\n",
      "(459424, 8)\n",
      "41 mn9686-28102021-0107\n",
      "Loading original pose from /adata/projects/autopi_ca1/mn9686/mn9686-28102021-0107/mn9686-28102021-0107.pose.npy\n",
      "(527750, 8)\n",
      "42 mn9686-29102021-0106\n",
      "Loading original pose from /adata/projects/autopi_ca1/mn9686/mn9686-29102021-0106/mn9686-29102021-0106.pose.npy\n",
      "(483944, 8)\n",
      "Sessions without a ap.pose.npy file\n",
      "[]\n"
     ]
    }
   ],
   "source": [
    "from spikeA.Animal_pose import Animal_pose\n",
    "notYet=[]\n",
    "for e,ses in enumerate(sSessions) :\n",
    "    print(e,ses.name)\n",
    "    ap = Animal_pose(ses)\n",
    "    try: \n",
    "        ap.load_pose_from_file()\n",
    "        print(ap.pose.shape)\n",
    "    except IOError:\n",
    "        print(\"no {}.pose.npy\".format(ses.name))\n",
    "        notYet.append(ses.name)\n",
    "print(\"Sessions without a ap.pose.npy file\")\n",
    "print(notYet)"
   ]
  },
  {
   "cell_type": "code",
   "execution_count": null,
   "metadata": {},
   "outputs": [],
   "source": []
  }
 ],
 "metadata": {
  "kernelspec": {
   "display_name": "Python [conda env:DEEPLABCUT] *",
   "language": "python",
   "name": "conda-env-DEEPLABCUT-py"
  },
  "language_info": {
   "codemirror_mode": {
    "name": "ipython",
    "version": 3
   },
   "file_extension": ".py",
   "mimetype": "text/x-python",
   "name": "python",
   "nbconvert_exporter": "python",
   "pygments_lexer": "ipython3",
   "version": "3.8.10"
  }
 },
 "nbformat": 4,
 "nbformat_minor": 4
}
