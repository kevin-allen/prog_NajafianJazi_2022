{
 "cells": [
  {
   "cell_type": "markdown",
   "id": "9cc12f83-ac3d-4d85-bba2-b7f47454ab5e",
   "metadata": {},
   "source": [
    "## Head direction check\n",
    "\n",
    "\n",
    "We need to ensure that 0, pi/2, pi, and -pi/2 correspond to the same East,North,West,South direction across our sessions. \n",
    "\n",
    "The old version of the tracking system (positrack) did not have the head-direction aligned with heading. We need to correct this.\n",
    "\n"
   ]
  },
  {
   "cell_type": "code",
   "execution_count": 1,
   "id": "d1172629-8c83-4f7d-9c2d-76e240b18ab9",
   "metadata": {},
   "outputs": [
    {
     "name": "stdout",
     "output_type": "stream",
     "text": [
      "Project name: autopi_ca1\n",
      "dataPath: /adata/projects/autopi_ca1\n",
      "dlcModelPath: /adata/models\n",
      "Reading /adata/projects/autopi_ca1/sessionList\n",
      "We have 40 testing sessions in the list\n",
      "See myProject and sSesList objects\n",
      "Loading Animal_pose and Spike_train, sSes.ap and sSes.cg\n"
     ]
    },
    {
     "name": "stderr",
     "output_type": "stream",
     "text": [
      "100%|███████████████████████████████████████████| 40/40 [00:38<00:00,  1.05it/s]\n"
     ]
    },
    {
     "name": "stdout",
     "output_type": "stream",
     "text": [
      "Loading ses.trial_table_simple as ses.trials\n",
      "Create condition intervals in ses.intervalDict\n"
     ]
    }
   ],
   "source": [
    "%load_ext autoreload\n",
    "%autoreload 2\n",
    "%run setup_project.py\n",
    "prepareSessionsForSpatialAnalysisProject(sSesList,myProject.sessionList)"
   ]
  },
  {
   "cell_type": "markdown",
   "id": "63258244-a0dc-4623-9fe2-e572950c11c8",
   "metadata": {},
   "source": [
    "After inspection of several sessions, I find out the transformation required to get the head-direction of the mouse align with its heading.\n",
    "\n",
    "* 0 : East\n",
    "* pi/2 : North\n",
    "* pi : West\n",
    "* -pi/2: South\n",
    "\n",
    "The code I used is shown below. Once the correction applied, this code will not work.\n",
    "\n"
   ]
  },
  {
   "cell_type": "markdown",
   "id": "13badf97-3d9e-4755-9a19-bdcde0e06919",
   "metadata": {},
   "source": [
    "The code below can correct for rotation of the HD relative to heading."
   ]
  },
  {
   "cell_type": "code",
   "execution_count": 80,
   "id": "3c8dd58a-edd5-4578-918c-1ad8e4f8fbe9",
   "metadata": {},
   "outputs": [],
   "source": [
    "from scipy.stats import linregress"
   ]
  },
  {
   "cell_type": "code",
   "execution_count": 103,
   "id": "4e95dbd4-30d5-43f8-819d-1cfcbaead715",
   "metadata": {},
   "outputs": [
    {
     "name": "stdout",
     "output_type": "stream",
     "text": [
      "mn5824-20112020-0107 0\n",
      "mn5824-22112020-0107 1\n",
      "mn5824-24112020-0107 2\n",
      "mn5824-02122020-0106 3\n",
      "mn711-28012021-0106 4\n",
      "mn711-30012021-0106 5\n",
      "mn711-31012021-0107 6\n",
      "mn711-01022021-0107 7\n",
      "mn711-02022021-0108 8\n",
      "mn711-03022021-0107 9\n",
      "mn711-04022021-0107 10\n",
      "mn2739-11022021-0107 11\n",
      "mn2739-15022021-0105 12\n",
      "mn2739-16022021-0106 13\n",
      "mn2739-17022021-0106 14\n",
      "mn2739-21022021-0106 15\n",
      "mn3246-09042021-0106 16\n",
      "mn3246-10042021-0106 17\n",
      "mn3246-12042021-0106 18\n",
      "mn3246-14042021-0106 19\n",
      "mn1173-02052021-0107 20\n",
      "mn1173-06052021-0107 21\n",
      "mn1173-08052021-0107 22\n",
      "mn1173-09052021-0108 23\n",
      "mn1173-11052021-0108 24\n",
      "TYY9524-16082021-0106 25\n",
      "TYY9524-18082021-0106 26\n",
      "mn5618-07072021-0107 27\n",
      "mn5618-09072021-0106 28\n",
      "mn5618-12072021-0110 29\n",
      "TYY5622-07092021-0106 30\n",
      "TYY5622-17092021-0106 31\n",
      "TYY5622-19092021-0106 32\n",
      "TYY5622-20092021-0106 33\n",
      "mn9686-20102021-0106 34\n",
      "mn9686-26102021-0106 35\n",
      "mn9686-27102021-0106 36\n",
      "mn9686-28102021-0107 37\n",
      "mn9686-29102021-0106 38\n",
      "mn9686-01112021-0106 39\n"
     ]
    }
   ],
   "source": [
    "overwrite=False\n",
    "\n",
    "problem_indices = []\n",
    "for j,ses in enumerate(sSesList):\n",
    "    print(ses.name,j)\n",
    "    \n",
    "    ses.ap.pose_file_extension = \".pose_kf.npy\"\n",
    "    ses.ap.load_pose_from_file()\n",
    "\n",
    "    ## mean heading \n",
    "    delta_x=np.diff(ses.ap.pose[:,1],append=np.nan)\n",
    "    delta_y=np.diff(ses.ap.pose[:,2],append=np.nan)\n",
    "    heading = np.arctan2(delta_y,delta_x)\n",
    "    \n",
    "    sp = np.sqrt((delta_x**2 + delta_y**2)/(ses.ap.pose[1,0]-ses.ap.pose[0,0]))\n",
    "    minSpeed=4\n",
    "    spOk=sp>minSpeed\n",
    "\n",
    "    h_x = np.cos(heading)\n",
    "    h_y = np.sin(heading)\n",
    "    \n",
    "    hd_x = np.cos(ses.ap.pose[:,4])\n",
    "    hd_y = np.sin(ses.ap.pose[:,4])\n",
    "    \n",
    "    delta_x = h_x-hd_x\n",
    "    delta_y = h_y-hd_y\n",
    "    \n",
    "    \n",
    "    ## we know that our problem is a 90 degree shift\n",
    "    ## get the HD shift when heading is 0\n",
    "    hMin=-np.pi/10\n",
    "    hMax=np.pi/10\n",
    "    hSel = np.logical_and(heading>hMin,heading<hMax)\n",
    "    hSel = np.logical_and(hSel,spOk) # when heading is 0 is True\n",
    "    hSel = np.logical_and(hSel,~np.isnan(ses.ap.pose[:,4]))\n",
    "    \n",
    "      \n",
    "    res = linregress(heading[hSel],ses.ap.pose[hSel,4])\n",
    "    \n",
    "    if (np.abs(res[1]) > np.pi/4):\n",
    "        \n",
    "        print(res)\n",
    "        \n",
    "        fig, axs = plt.subplots(1,3, figsize=(15,5))\n",
    "\n",
    "        ax = axs[0]\n",
    "        ax.scatter(heading[spOk],ses.ap.pose[spOk,4],s=0.01)\n",
    "        ax.set_xlabel(\"heading\")\n",
    "        ax.set_ylabel(\"hd\")\n",
    "        ax.set_title(\"Original HD\")\n",
    "\n",
    "        ax = axs[1]\n",
    "        ax.scatter(heading[hSel],ses.ap.pose[hSel,4],s=0.01)\n",
    "        x = np.arange(-np.pi/10,np.pi/10,0.01)\n",
    "        ax.plot(x,x*res[0]+res[1],c=\"red\")\n",
    "        ax.set_xlabel(\"heading\")\n",
    "        ax.set_ylabel(\"hd\")\n",
    "              \n",
    "        # we want to make a correction of 90 or -90\n",
    "        if res[1] < 0:\n",
    "            correction = np.pi/2\n",
    "        else:\n",
    "            correction = -np.pi/2\n",
    "        \n",
    "        # apply the correction\n",
    "        newHd=ses.ap.pose[:,4]+correction\n",
    "        newHd = np.arctan2(np.sin(newHd),np.cos(newHd))\n",
    "        \n",
    "        if overwrite: # will overwrite the pose data    \n",
    "            ses.ap.pose_ori[:,4] = newHd\n",
    "            ax = axs[2]\n",
    "            ax.scatter(heading[spOk],ses.ap.pose_ori[spOk,4],s=0.01)\n",
    "            ax.set_xlabel(\"heading\")\n",
    "            ax.set_ylabel(\"hd\")\n",
    "            ax.set_title(\"Corrected HD\")\n",
    "            ses.ap.save_pose_to_file()\n",
    "        \n",
    "        else:\n",
    "            ax = axs[2]\n",
    "            ax.scatter(heading[spOk],newHd[spOk],s=0.01)\n",
    "            ax.set_xlabel(\"heading\")\n",
    "            ax.set_ylabel(\"hd\")\n",
    "            ax.set_title(\"Corrected HD\")\n",
    "            \n",
    "        \n",
    "        plt.show()\n",
    "\n",
    "    \n",
    "    #problem_indices.append(j)\n"
   ]
  }
 ],
 "metadata": {
  "kernelspec": {
   "display_name": "Python [conda env:DEEPLABCUT] *",
   "language": "python",
   "name": "conda-env-DEEPLABCUT-py"
  },
  "language_info": {
   "codemirror_mode": {
    "name": "ipython",
    "version": 3
   },
   "file_extension": ".py",
   "mimetype": "text/x-python",
   "name": "python",
   "nbconvert_exporter": "python",
   "pygments_lexer": "ipython3",
   "version": "3.8.10"
  }
 },
 "nbformat": 4,
 "nbformat_minor": 5
}
