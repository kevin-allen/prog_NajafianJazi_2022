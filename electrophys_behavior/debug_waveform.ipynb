{
 "cells": [
  {
   "cell_type": "code",
   "execution_count": 1,
   "id": "f037c2b2-c1cc-4173-a79b-0b120b4d82e8",
   "metadata": {},
   "outputs": [
    {
     "name": "stdout",
     "output_type": "stream",
     "text": [
      "Project name: autopi_ca1\n",
      "dataPath: /adata/projects/autopi_ca1\n",
      "dlcModelPath: /adata/models\n",
      "Reading /adata/projects/autopi_ca1/sessionList\n",
      "We have 36 testing sessions in the list\n",
      "See myProject and sSesList objects\n",
      "autpipy sessions: 36, spikeA sessions: 36\n"
     ]
    }
   ],
   "source": [
    "%load_ext autoreload\n",
    "%autoreload 2\n",
    "\n",
    "import sys\n",
    "#from spikeA.Dat_file_reader import Dat_file_reader\n",
    "\n",
    "# This sets up our session lists\n",
    "%run setup_project.py\n",
    "print(\"autpipy sessions: {}, spikeA sessions: {}\".format(len(myProject.sessionList),len(sSesList)))"
   ]
  },
  {
   "cell_type": "code",
   "execution_count": 2,
   "id": "c78a015e-c99b-4984-ad60-1f1c8b03f501",
   "metadata": {},
   "outputs": [],
   "source": [
    "def prepareSpikeASession(sSes):\n",
    "    sSes.load_parameters_from_files() \n",
    "for sSes in sSesList:\n",
    "    prepareSpikeASession(sSes)"
   ]
  },
  {
   "cell_type": "code",
   "execution_count": 3,
   "id": "fa771895-157f-4a85-960c-9ad3a4c92be0",
   "metadata": {},
   "outputs": [
    {
     "name": "stdout",
     "output_type": "stream",
     "text": [
      "30 sessions are local to a230-pc73\n"
     ]
    }
   ],
   "source": [
    "sSesLocal = get_local_sessions(sSesList)\n",
    "ip=socket.gethostname()\n",
    "print(\"{} sessions are local to {}\".format(len(sSesLocal),ip))"
   ]
  },
  {
   "cell_type": "code",
   "execution_count": 4,
   "id": "ab7d7705-9dec-463e-97f3-cb28fbd26e21",
   "metadata": {},
   "outputs": [],
   "source": [
    "sSes = sSesLocal[0]"
   ]
  },
  {
   "cell_type": "code",
   "execution_count": 5,
   "id": "39e25569-e9e6-4082-a53e-82a722aba08a",
   "metadata": {},
   "outputs": [
    {
     "name": "stdout",
     "output_type": "stream",
     "text": [
      "Loading original pose from /adata/projects/autopi_ca1/TYY5622/TYY5622-20092021-0106/TYY5622-20092021-0106.pose.npy\n",
      "Number of good clusters: 30\n"
     ]
    }
   ],
   "source": [
    "ap = Animal_pose(sSes)\n",
    "ap.load_pose_from_file()\n",
    "stl = Spike_train_loader()\n",
    "stl.load_spike_train_kilosort(sSes)\n",
    "cg = Cell_group(stl)"
   ]
  },
  {
   "cell_type": "code",
   "execution_count": 6,
   "id": "0156d443-126d-4a76-ad0f-faded16dcebf",
   "metadata": {},
   "outputs": [],
   "source": [
    "from spikeA.Spike_waveform import Spike_waveform\n",
    "from spikeA.Dat_file_reader import Dat_file_reader\n",
    "\n",
    "n = cg.neuron_list[0]\n",
    "dat_files = [ sSes.path+\"/\"+i+\".dat\" for i in sSes.trial_names]\n",
    "st = n.spike_train\n"
   ]
  },
  {
   "cell_type": "code",
   "execution_count": 7,
   "id": "490ab35f-27e6-4ba4-811e-c80152cc99f4",
   "metadata": {},
   "outputs": [
    {
     "name": "stdout",
     "output_type": "stream",
     "text": [
      "n_spikes: 39819, read from file 0 to file 5, shape: (128, 100, 39819)\n"
     ]
    }
   ],
   "source": [
    "dfr = Dat_file_reader(file_names = dat_files,n_channels=sSes.n_channels) # with list of .dat files\n",
    "swf1 = Spike_waveform(session = sSes, dat_file_reader=dfr, spike_train=st)\n",
    "swf1.mean_waveform(block_size=100, channels=np.arange(sSes.n_channels-1), n_spikes=None)\n"
   ]
  },
  {
   "cell_type": "code",
   "execution_count": 11,
   "id": "70fc37f1-ca90-4444-b022-097bb9e5ae69",
   "metadata": {},
   "outputs": [
    {
     "name": "stdout",
     "output_type": "stream",
     "text": [
      "n_spikes: 94416, read from file 0 to file 0, shape: (32, 100, 94416)\n"
     ]
    }
   ],
   "source": [
    "dfr = Dat_file_reader(file_names = [sSes.path+\"/\"+sSes.name+\".dat\"],n_channels=sSes.n_channels) # with single .dat file\n",
    "swf2 = Spike_waveform(session = sSes, dat_file_reader=dfr, spike_train=st)\n",
    "swf2.mean_waveform(block_size=100, channels=np.arange(sSes.n_channels-1), n_spikes=None)"
   ]
  },
  {
   "cell_type": "code",
   "execution_count": 13,
   "id": "c59281b5-ac18-49b8-b738-0cee226a6690",
   "metadata": {},
   "outputs": [
    {
     "data": {
      "text/plain": [
       "3200"
      ]
     },
     "execution_count": 13,
     "metadata": {},
     "output_type": "execute_result"
    }
   ],
   "source": [
    "np.sum(swf1.mean_waveforms==swf2.mean_waveforms)"
   ]
  },
  {
   "cell_type": "code",
   "execution_count": 15,
   "id": "ed8ea787-416a-4bbb-86a5-852044066653",
   "metadata": {},
   "outputs": [
    {
     "data": {
      "text/plain": [
       "<matplotlib.image.AxesImage at 0x7f63eca5b400>"
      ]
     },
     "execution_count": 15,
     "metadata": {},
     "output_type": "execute_result"
    },
    {
     "data": {
      "image/png": "[encoded data removed]",
      "text/plain": [
       "<Figure size 432x288 with 2 Axes>"
      ]
     },
     "metadata": {
      "needs_background": "light"
     },
     "output_type": "display_data"
    }
   ],
   "source": [
    "fig, axes = plt.subplots(1,2)\n",
    "axes[0].imshow(swf1.mean_waveforms)\n",
    "axes[1].imshow(swf2.mean_waveforms)"
   ]
  },
  {
   "cell_type": "code",
   "execution_count": null,
   "id": "284f7bc5-5647-4107-9097-2bbafdfa705d",
   "metadata": {},
   "outputs": [],
   "source": []
  }
 ],
 "metadata": {
  "kernelspec": {
   "display_name": "Python 3 (ipykernel)",
   "language": "python",
   "name": "python3"
  },
  "language_info": {
   "codemirror_mode": {
    "name": "ipython",
    "version": 3
   },
   "file_extension": ".py",
   "mimetype": "text/x-python",
   "name": "python",
   "nbconvert_exporter": "python",
   "pygments_lexer": "ipython3",
   "version": "3.8.10"
  }
 },
 "nbformat": 4,
 "nbformat_minor": 5
}
