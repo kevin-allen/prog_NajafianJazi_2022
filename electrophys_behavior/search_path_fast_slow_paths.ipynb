{
 "cells": [
  {
   "cell_type": "markdown",
   "id": "9d3fe68d-9617-4245-a5e5-f4e0b5675ca3",
   "metadata": {},
   "source": [
    "## Dissociate distance and time during search paths\n",
    "\n",
    "So far with the modelling approach, time and distance are equally good predictor of the firing rate of the neuron.\n",
    "\n",
    "We need a more direct approach to dissociate time and distance. \n",
    "\n",
    "We can separate search navPaths into slow and fast paths. \n",
    "\n",
    "If time is an important factor (assuming enough running speed variability):\n",
    "* The location of the firing fields should move backward during fast paths compared to slow paths.\n",
    "* The shift in field position should increase with time and distance, so it will be more pronounced in fields that are further away from the start of the path\n",
    "\n",
    "We will do this in a different jupyther notebook.\n"
   ]
  },
  {
   "cell_type": "code",
   "execution_count": 1,
   "id": "8a94e80d-d4ce-4036-ac07-3600ff7f9ae9",
   "metadata": {},
   "outputs": [
    {
     "name": "stdout",
     "output_type": "stream",
     "text": [
      "Project name: autopi_ca1\n",
      "dataPath: /adata/projects/autopi_ca1\n",
      "dlcModelPath: /adata/models\n",
      "Reading /adata/projects/autopi_ca1/sessionList\n",
      "We have 40 testing sessions in the list\n",
      "See myProject and sSesList objects\n",
      "Loading Animal_pose and Spike_train, sSes.ap and sSes.cg\n"
     ]
    },
    {
     "name": "stderr",
     "output_type": "stream",
     "text": [
      "100%|███████████████████████████████████████████| 40/40 [00:27<00:00,  1.46it/s]\n"
     ]
    },
    {
     "name": "stdout",
     "output_type": "stream",
     "text": [
      "Loading ses.trial_table_simple as ses.trials\n",
      "Create condition intervals in ses.intervalDict\n"
     ]
    }
   ],
   "source": [
    "%load_ext autoreload\n",
    "%autoreload 2\n",
    "%run setup_project.py\n",
    "prepareSessionsForSpatialAnalysisProject(sSesList,myProject.sessionList,pose_file_extension = \".pose_kf.npy\")"
   ]
  },
  {
   "cell_type": "code",
   "execution_count": 2,
   "id": "4e54a9b7-f26f-41dc-8a84-0bc5807be253",
   "metadata": {},
   "outputs": [
    {
     "name": "stdout",
     "output_type": "stream",
     "text": [
      "Loading: /adata/projects/autopi_ca1/results/myProjectWithTrials.pickle\n",
      "Loading Animal_pose and Spike_train, sSes.ap and sSes.cg\n"
     ]
    },
    {
     "name": "stderr",
     "output_type": "stream",
     "text": [
      "100%|███████████████████████████████████████████| 40/40 [00:08<00:00,  4.70it/s]\n"
     ]
    },
    {
     "name": "stdout",
     "output_type": "stream",
     "text": [
      "Loading ses.trial_table_simple as ses.trials\n",
      "Create condition intervals in ses.intervalDict\n",
      "CPU times: user 15.4 s, sys: 5.71 s, total: 21.1 s\n",
      "Wall time: 32.2 s\n"
     ]
    }
   ],
   "source": [
    "%%time\n",
    "myProjectWithTrials = loadMyProjectWithTrials(myProject)\n",
    "prepareSessionsForSpatialAnalysisProject(sSesList,myProjectWithTrials.sessionList,pose_file_extension = \".pose_kf.npy\")"
   ]
  },
  {
   "cell_type": "code",
   "execution_count": 3,
   "id": "e452225f-0674-4ab9-956e-38b9229fb6d3",
   "metadata": {},
   "outputs": [],
   "source": [
    "fn=myProject.dataPath+\"/results/searchFields.pickle\"\n",
    "with open(fn, 'rb') as handle:\n",
    "    searchFields = pickle.load(handle)"
   ]
  },
  {
   "cell_type": "code",
   "execution_count": 4,
   "id": "590ef5ab-4d94-4e3a-a71c-8f11b9bddf20",
   "metadata": {},
   "outputs": [],
   "source": [
    "fn=myProject.dataPath+\"/results/searchIFRDict.pickle\"\n",
    "with open(fn, 'rb') as handle:\n",
    "    searchIFR = pickle.load(handle)"
   ]
  },
  {
   "cell_type": "code",
   "execution_count": 5,
   "id": "e66b28f2-d0fa-4399-b7eb-d0e0f691c582",
   "metadata": {},
   "outputs": [
    {
     "name": "stdout",
     "output_type": "stream",
     "text": [
      "loading: /adata/projects/autopi_ca1/results/searchMapDict.pickle\n"
     ]
    }
   ],
   "source": [
    "fn=myProject.dataPath+\"/results/searchMapDict.pickle\"\n",
    "print(\"loading:\",fn)\n",
    "with open(fn, 'rb') as handle:\n",
    "    myMaps=pickle.load(handle)"
   ]
  },
  {
   "cell_type": "markdown",
   "id": "462662d2-07cd-4dd8-b58f-d25988ba37c7",
   "metadata": {},
   "source": [
    "## Example with one field"
   ]
  },
  {
   "cell_type": "code",
   "execution_count": 6,
   "id": "55509d63-1a48-4cba-9345-f5a37f57f15f",
   "metadata": {},
   "outputs": [],
   "source": [
    "from scipy.signal import find_peaks\n",
    "from scipy.ndimage import gaussian_filter1d\n",
    "\n",
    "def searchCellSummaryFig(gs,cellId,searchIFR,light=\"light\",peaks=True):\n",
    "    keys = list(searchIFR[cellId][\"histo\"].keys())\n",
    "    key_prefix = keys[0].split(\"_\")[0]\n",
    "    key_dvs = set([k.split(\"_\")[2]  for k in keys])\n",
    "    \n",
    "    condNames={\"targetDistance\":\"Lever distance (cm)\",\n",
    "               \"y\": \"Y coordinate (cm)\",\n",
    "               \"iTime\": \"Time (sec)\",\n",
    "               \"distanceProp\":\"Distance run (Prop)\",\n",
    "               \"distance\": \"Distance run\"}\n",
    "    \n",
    "    col=len(key_dvs)\n",
    "    row = 1\n",
    "    gs1 = gridspec.GridSpecFromSubplotSpec(row, col, subplot_spec=gs[0])    \n",
    "    \n",
    "    ## plot the rate x distance and rate x direction for light and dark\n",
    "\n",
    "    for j,dv in enumerate(key_dvs):\n",
    "\n",
    "        # single journey matrix\n",
    "        ax = fig.add_subplot(gs1[j])\n",
    "        cond = \"{}_{}_{}\".format(key_prefix,light,dv)\n",
    "        oneHist = searchIFR[cellId][\"histo\"][cond]\n",
    "        if light == \"light\":\n",
    "            ax.plot(oneHist[\"bins\"][:-1],oneHist[\"histo\"],c=\"red\",label=\"Raw\")\n",
    "        else:\n",
    "            ax.plot(oneHist[\"bins\"][:-1],oneHist[\"histo\"],c=\"blue\",label=\"Raw\")\n",
    "        ax.set_ylim(0,int(np.nanmax(oneHist[\"histo\"]))+1)\n",
    "        ax.set_xlabel(condNames[dv])\n",
    "        ax.set_ylabel(\"Firing rate (Hz)\")\n",
    "        ax.spines['top'].set_visible(False)\n",
    "        ax.spines['right'].set_visible(False)\n",
    "        if peaks ==True:\n",
    "            peaksDet,smHist = detectFields(oneHist[\"histo\"])\n",
    "            ax.plot(oneHist[\"bins\"][:-1],smHist,c=\"orange\",label=\"Smoothed\")\n",
    "            peaksLoc=peaksDet[0]\n",
    "            if len(peaksLoc)>0:\n",
    "                #print(oneHist[\"histo\"].shape,smHist.shape)\n",
    "                #print(condNames[dv],light)\n",
    "                #print(peaksDet)\n",
    "                ax.scatter(oneHist[\"bins\"][peaksLoc],smHist[peaksLoc],color=\"black\",s=35)\n",
    "        \n",
    "        if j+1 == col:\n",
    "            ax.legend()\n",
    "        \n",
    "def searchMatricesSummaryFig(gs,cellId,searchIFR,light=\"light\"):\n",
    "   \n",
    "    keys = list(searchIFR[cellId][\"matrix\"].keys())\n",
    "    key_prefix = keys[0].split(\"_\")[0]\n",
    "    key_dvs = set([k.split(\"_\")[2]  for k in keys])\n",
    "    \n",
    "    condNames={\"targetDistance\":\"Lever distance (cm)\",\n",
    "               \"y\": \"Y coordinate (cm)\",\n",
    "               \"iTime\": \"Time (sec)\",\n",
    "               \"distanceProp\":\"Distance run (Prop)\",\n",
    "               \"distance\": \"Distance run\"}\n",
    "    \n",
    "    \n",
    "    \n",
    "    col=len(key_dvs)\n",
    "    row = 1\n",
    "    gs1 = gridspec.GridSpecFromSubplotSpec(row, col, subplot_spec=gs[0])    \n",
    "    \n",
    "    ## plot the rate x distance and rate x direction for light and dark\n",
    "\n",
    "    for j,dv in enumerate(key_dvs):\n",
    "\n",
    "        # single journey matrix\n",
    "        ax = fig.add_subplot(gs1[j])\n",
    "        cond = \"{}_{}_{}\".format(key_prefix,light,dv)\n",
    "        oneMat = searchIFR[cellId][\"matrix\"][cond]\n",
    "        plotIFRMatrix(ax,oneMat,showXLabel=True,xLabel=condNames[dv])\n",
    "        \n",
    "def plotIFRMatrix(ax,m ,showXLabel=True,xLabel=\"\"):\n",
    "    \"\"\"\n",
    "    Plot the matrix of rate per journey as a function of distance to lever\n",
    "    \"\"\"\n",
    "    \n",
    "    ax.imshow(m['matrix'],aspect=\"auto\",interpolation=\"none\",extent=[np.min(m[\"bins\"]),np.max(m[\"bins\"]),0,m[\"matrix\"].shape[0]],origin=\"lower\",cmap=\"jet\")\n",
    "    ax.set_ylabel(\"Journeys\")\n",
    "    if showXLabel:\n",
    "        ax.set_xlabel(xLabel)\n",
    "    else:\n",
    "        ax.set_xlabel(\"\")\n",
    "    ax.yaxis.set_label_coords(-0.26, 0.5)\n",
    "    ax.spines['top'].set_visible(False)\n",
    "    ax.spines['right'].set_visible(False)\n",
    "    \n",
    "def searchPathsPlot(gs,cellId,ses, light=\"light\"):\n",
    "    \n",
    "    sessionName=cellId.split(\"_\")[0]\n",
    "    mySes = myProjectWithTrials.getSession(sessionName=sessionName)\n",
    "    navPathType=\"searchToLeverPath\"\n",
    "    gs1 = gridspec.GridSpecFromSubplotSpec(1, 1, subplot_spec=gs[0])    \n",
    "    ax = fig.add_subplot(gs1[0])\n",
    "    mySes.plotNavPath(ax=ax,navPathType=navPathType,light=light)\n",
    "         \n",
    "def plotMap(ax,myMap,title=\"\",titleY=0.95):\n",
    "    \"\"\"\n",
    "    Plot one 2D map\n",
    "    \"\"\"\n",
    "    ax.imshow(myMap.T,origin=\"lower\",cmap='jet',interpolation=None)\n",
    "    ax.set_title(title,y=titleY)\n",
    "    ax.axis('off')\n",
    "    \n",
    "def searchMapPlot(ax,cellId,myMaps,searchIFR,light=\"light\"):\n",
    "    prefix=\"searchToLeverPath\"\n",
    "    lights = [\"light\",\"dark\"]\n",
    "    index=np.argmax([ k==cellId for k in searchIFR.keys()])\n",
    "    myMap=myMaps[\"searchToLeverPath_{}\".format(light)][index]\n",
    "    plotMap(ax,myMap,title=\"{:.2f} Hz\".format(np.nanmax(myMap)))\n",
    "    \n",
    "\n",
    "def detectFields(oneHist,minPeak=7.5,smooth_sigma=2):\n",
    "    \"\"\"\n",
    "    Detect 1D firing fields in a histogram using scipy.signal.find_peaks\n",
    "    \"\"\"\n",
    "    height = np.nanmax(oneHist)/2\n",
    "    if height < minPeak:\n",
    "        height = minPeak \n",
    "        \n",
    "    # smooth first\n",
    "    smHist = gaussian_filter1d(oneHist, smooth_sigma)\n",
    "\n",
    "    peakDet = find_peaks(smHist,height=height,width=1.5,distance=15,prominence=0.1,wlen=4)\n",
    "    return peakDet,smHist\n",
    "\n",
    "def searchCellSummary(gs,cellId,searchIFR,myProjectWithTrials, myMaps):\n",
    "    \"\"\"\n",
    "    Plot for one neuron\n",
    "    \"\"\"\n",
    "    cellIndex=np.argmax([ k==cellId for k in searchIFR.keys()])\n",
    "\n",
    "    gs0 = gridspec.GridSpecFromSubplotSpec(4, 1, subplot_spec=gs[0],height_ratios=[0.03,.47,.03,.47])\n",
    "\n",
    "    # We can get the axis for the light and dark\n",
    "    gsLight = gridspec.GridSpecFromSubplotSpec(2, 4, subplot_spec=gs0[1])\n",
    "    gsDark = gridspec.GridSpecFromSubplotSpec(2, 4, subplot_spec=gs0[3])\n",
    "    gsTitleLight = gridspec.GridSpecFromSubplotSpec(1, 1, subplot_spec=gs0[0])\n",
    "    gsTitleDark = gridspec.GridSpecFromSubplotSpec(1, 1, subplot_spec=gs0[2])\n",
    "\n",
    "\n",
    "    # put a title for our conditions\n",
    "    for cond, gs in zip([\"Light\",\"Dark\"],[gsTitleLight,gsTitleDark]):\n",
    "        ax = fig.add_subplot(gs[0])\n",
    "        ax.text(0.485,0.2,\"{} {} {}\".format(cond,cellId,cellIndex),fontsize=20)\n",
    "        ax.axis('off')\n",
    "\n",
    "\n",
    "    # we loop and create exactly the same figure for light and dark\n",
    "    for cond, gs in zip([\"light\",\"dark\"],[gsLight,gsDark]):\n",
    "        ## path\n",
    "        gs1 = gridspec.GridSpecFromSubplotSpec(1, 1, subplot_spec=gs[0,0])\n",
    "        searchPathsPlot(gs,cellId,ses = myProjectWithTrials,light=cond)        \n",
    "\n",
    "        ## map\n",
    "        ax = fig.add_subplot(gs[1,0])\n",
    "        searchMapPlot(ax,cellId,myMaps,searchIFR,light=cond)\n",
    "\n",
    "        ## histograms \n",
    "        gs1 = gridspec.GridSpecFromSubplotSpec(1, 1, subplot_spec=gs[0,1:])\n",
    "        searchCellSummaryFig(gs1,cellId,searchIFR,light=cond)\n",
    "\n",
    "        ## matrices\n",
    "        \n",
    "        gs1 = gridspec.GridSpecFromSubplotSpec(1, 1, subplot_spec=gs[1,1:])\n",
    "        searchMatricesSummaryFig(gs1,cellId,searchIFR,light=cond)"
   ]
  },
  {
   "cell_type": "code",
   "execution_count": 7,
   "id": "5b23d7f3-68ce-434a-bca1-3e8606ff4eea",
   "metadata": {},
   "outputs": [
    {
     "data": {
      "image/png": "[encoded data removed]",
      "text/plain": [
       "<Figure size 1080x777.6 with 26 Axes>"
      ]
     },
     "metadata": {
      "needs_background": "light"
     },
     "output_type": "display_data"
    }
   ],
   "source": [
    "col=6\n",
    "row=4\n",
    "sizePerCol=2.5\n",
    "sizePerRow=2.7       \n",
    "fig = plt.figure(figsize=(col*sizePerCol,row*sizePerRow),constrained_layout=True) \n",
    "gs = gridspec.GridSpec(1, 1, figure=fig) # all our figure\n",
    "\n",
    "cellId=\"mn9686-27102021-0106_36\"\n",
    "searchCellSummary(gs,cellId,searchIFR,myProjectWithTrials, myMaps)"
   ]
  },
  {
   "cell_type": "code",
   "execution_count": 8,
   "id": "e087b738-e153-4ea2-a620-50bd111a02d2",
   "metadata": {},
   "outputs": [
    {
     "data": {
      "text/html": [
       "<div>\n",
       "<style scoped>\n",
       "    .dataframe tbody tr th:only-of-type {\n",
       "        vertical-align: middle;\n",
       "    }\n",
       "\n",
       "    .dataframe tbody tr th {\n",
       "        vertical-align: top;\n",
       "    }\n",
       "\n",
       "    .dataframe thead th {\n",
       "        text-align: right;\n",
       "    }\n",
       "</style>\n",
       "<table border=\"1\" class=\"dataframe\">\n",
       "  <thead>\n",
       "    <tr style=\"text-align: right;\">\n",
       "      <th></th>\n",
       "      <th>cellId</th>\n",
       "      <th>light</th>\n",
       "      <th>vari</th>\n",
       "      <th>peak_locs</th>\n",
       "      <th>min_left</th>\n",
       "      <th>min_right</th>\n",
       "      <th>peak_heights</th>\n",
       "      <th>prominences</th>\n",
       "      <th>left_bases</th>\n",
       "      <th>right_bases</th>\n",
       "      <th>widths</th>\n",
       "      <th>width_heights</th>\n",
       "      <th>left_ips</th>\n",
       "      <th>right_ips</th>\n",
       "      <th>peak_ratio_left</th>\n",
       "      <th>peak_ratio_right</th>\n",
       "    </tr>\n",
       "  </thead>\n",
       "  <tbody>\n",
       "    <tr>\n",
       "      <th>0</th>\n",
       "      <td>mn9686-27102021-0106_36</td>\n",
       "      <td>dark</td>\n",
       "      <td>distance</td>\n",
       "      <td>26.00</td>\n",
       "      <td>3.023547</td>\n",
       "      <td>4.111538</td>\n",
       "      <td>34.251120</td>\n",
       "      <td>2.037808</td>\n",
       "      <td>22.00</td>\n",
       "      <td>30.00</td>\n",
       "      <td>4.997708</td>\n",
       "      <td>33.232216</td>\n",
       "      <td>23.241713</td>\n",
       "      <td>28.239421</td>\n",
       "      <td>0.088276</td>\n",
       "      <td>0.120041</td>\n",
       "    </tr>\n",
       "    <tr>\n",
       "      <th>0</th>\n",
       "      <td>mn9686-27102021-0106_36</td>\n",
       "      <td>dark</td>\n",
       "      <td>iTime</td>\n",
       "      <td>0.75</td>\n",
       "      <td>4.610190</td>\n",
       "      <td>1.880204</td>\n",
       "      <td>29.643975</td>\n",
       "      <td>2.397256</td>\n",
       "      <td>0.50</td>\n",
       "      <td>1.00</td>\n",
       "      <td>0.283886</td>\n",
       "      <td>28.445347</td>\n",
       "      <td>0.568731</td>\n",
       "      <td>0.852618</td>\n",
       "      <td>0.155519</td>\n",
       "      <td>0.063426</td>\n",
       "    </tr>\n",
       "    <tr>\n",
       "      <th>0</th>\n",
       "      <td>mn9686-27102021-0106_36</td>\n",
       "      <td>dark</td>\n",
       "      <td>distanceProp</td>\n",
       "      <td>0.15</td>\n",
       "      <td>6.434743</td>\n",
       "      <td>4.618221</td>\n",
       "      <td>22.525160</td>\n",
       "      <td>1.212320</td>\n",
       "      <td>0.05</td>\n",
       "      <td>0.25</td>\n",
       "      <td>0.096386</td>\n",
       "      <td>21.919000</td>\n",
       "      <td>0.127586</td>\n",
       "      <td>0.223972</td>\n",
       "      <td>0.285669</td>\n",
       "      <td>0.205025</td>\n",
       "    </tr>\n",
       "  </tbody>\n",
       "</table>\n",
       "</div>"
      ],
      "text/plain": [
       "                    cellId light          vari  peak_locs  min_left  \\\n",
       "0  mn9686-27102021-0106_36  dark      distance      26.00  3.023547   \n",
       "0  mn9686-27102021-0106_36  dark         iTime       0.75  4.610190   \n",
       "0  mn9686-27102021-0106_36  dark  distanceProp       0.15  6.434743   \n",
       "\n",
       "   min_right  peak_heights  prominences  left_bases  right_bases    widths  \\\n",
       "0   4.111538     34.251120     2.037808       22.00        30.00  4.997708   \n",
       "0   1.880204     29.643975     2.397256        0.50         1.00  0.283886   \n",
       "0   4.618221     22.525160     1.212320        0.05         0.25  0.096386   \n",
       "\n",
       "   width_heights   left_ips  right_ips  peak_ratio_left  peak_ratio_right  \n",
       "0      33.232216  23.241713  28.239421         0.088276          0.120041  \n",
       "0      28.445347   0.568731   0.852618         0.155519          0.063426  \n",
       "0      21.919000   0.127586   0.223972         0.285669          0.205025  "
      ]
     },
     "execution_count": 8,
     "metadata": {},
     "output_type": "execute_result"
    }
   ],
   "source": [
    "cellId=\"mn9686-27102021-0106_36\"\n",
    "light=\"dark\"\n",
    "pathType=\"searchToLeverPath\"\n",
    "searchFields[(searchFields.cellId==cellId)&(searchFields.light==\"dark\")]"
   ]
  },
  {
   "cell_type": "code",
   "execution_count": 9,
   "id": "1340457f-1d4e-4f33-af02-869abeae27cc",
   "metadata": {},
   "outputs": [],
   "source": [
    "sesName = cellId.split(\"_\")[0]\n",
    "cluNo =  cellId.split(\"_\")[1]\n",
    "ses = myProjectWithTrials.getSession(sesName)\n",
    "sSes = [ses for ses in sSesList if ses.name==sesName][0]\n",
    "# load raw data from file\n",
    "ifr, navs, inav = load_ifr_behavior(ses,verbose=False)\n"
   ]
  },
  {
   "cell_type": "code",
   "execution_count": 10,
   "id": "d209d020-138e-4f61-b922-68cf0a75d9cf",
   "metadata": {},
   "outputs": [],
   "source": [
    "# select the navPaths of the relevant type\n",
    "light=\"dark\"\n",
    "pathType=\"searchToLeverPath\"\n",
    "selNavs= navs[(navs.light==light)&(navs.type==pathType)]"
   ]
  },
  {
   "cell_type": "code",
   "execution_count": 11,
   "id": "a01ffa16-99b1-494d-8ce4-a12ef7067839",
   "metadata": {},
   "outputs": [],
   "source": [
    "# get the median speed of all paths, during the first meter of the path\n",
    "def setSpeedCategory(selNavs,inav,slowCutOff=33,fastCutOff=66,verbose=False):\n",
    "    selNavs[\"speed\"] = [np.nanmedian(inav.speed[(inav.name==n)&(inav.distance < 60)]) for n in selNavs.name]\n",
    "    ls,hs = np.percentile(selNavs[\"speed\"],q=[slowCutOff,fastCutOff])\n",
    "    if verbose:\n",
    "        print(\"speed cutoffs:\",ls,hs)\n",
    "    selNavs[\"speedClass\"] = \"dn\"\n",
    "    selNavs.speedClass[selNavs.speed<ls] = \"slow\"\n",
    "    selNavs.speedClass[selNavs.speed>hs] = \"fast\"\n",
    "    if verbose:\n",
    "        for t in [\"fast\",\"slow\"]:\n",
    "            print(\"median\",t,\":\", np.median(selNavs.speed[selNavs.speedClass==t]))\n",
    "setSpeedCategory(selNavs,inav)"
   ]
  },
  {
   "cell_type": "markdown",
   "id": "db42006f-86d9-461d-8017-8aa60c71495a",
   "metadata": {},
   "source": [
    "We now have fast and slow trials. "
   ]
  },
  {
   "cell_type": "markdown",
   "id": "cb9c49e0-a1b8-4d34-a827-03bfccba858d",
   "metadata": {},
   "source": [
    "## Firing fields of slow and fast runs\n",
    "\n",
    "\n",
    "\n"
   ]
  },
  {
   "cell_type": "code",
   "execution_count": 73,
   "id": "140bed48-cb22-4883-9810-8d0128b64ca0",
   "metadata": {},
   "outputs": [],
   "source": [
    "from scipy.ndimage import gaussian_filter1d\n",
    "from scipy import signal\n",
    "\n",
    "def slowFastHisto(cellId):\n",
    "    \"\"\"\n",
    "    Get the center of map and peak location for fast and slow runs\n",
    "    \"\"\"\n",
    "    sesName = cellId.split(\"_\")[0]\n",
    "    cluNo =  cellId.split(\"_\")[1]\n",
    "    ses = myProjectWithTrials.getSession(sesName)\n",
    "    sSes = [ses for ses in sSesList if ses.name==sesName][0]\n",
    "    # load raw data from file\n",
    "    ifr, navs, inav = load_ifr_behavior(ses,verbose=False)\n",
    "\n",
    "    light=\"dark\"\n",
    "    pathType=\"searchToLeverPath\"\n",
    "    # select the navPaths of the relevant type\n",
    "    selNavs= navs[(navs.light==light)&(navs.type==pathType)]\n",
    "    # set fast/slow labels on each path\n",
    "    setSpeedCategory(selNavs,inav,slowCutOff=25,fastCutOff=75)\n",
    "\n",
    "    # get the IFR of the neuron\n",
    "    cluIndex  = np.where(np.array([n.name for n in sSes.cg.neuron_list])==cluNo)[0][0]\n",
    "    rate = ifr[0][cluIndex,:]\n",
    "    time = ifr[1]\n",
    "\n",
    "    # get the fast and slow paths\n",
    "    fastSum= selNavs[selNavs.speedClass==\"fast\"]\n",
    "    slowSum= selNavs[selNavs.speedClass==\"slow\"]\n",
    "    fastInst = inav[inav.name.isin(fastSum.name)]\n",
    "    slowInst = inav[inav.name.isin(slowSum.name)]\n",
    "\n",
    "\n",
    "    # make a field histogram for fast and slow paths\n",
    "    # get behavioral data and IFR for the test and train sets, using our neuronAutopi class\n",
    "    fastNa = NeuronAutopi(name=\"fast\",ifr=(rate,time),navPathSummary=fastSum,iNavPath=fastInst,trialElectro=None)\n",
    "    slowNa = NeuronAutopi(name=\"slow\",ifr=(rate,time),navPathSummary=slowSum,iNavPath=slowInst,trialElectro=None)\n",
    "\n",
    "\n",
    "    #fastIfr, fastBeha = fastNa.getSingleNavPathData(navPathNames = fastSum.name) # we get \n",
    "    #slowIfr, slowBeha = slowNa.getSingleNavPathData(navPathNames = slowSum.name)\n",
    "\n",
    "\n",
    "    ## create the histograms with the fields\n",
    "    \n",
    "    fastNa.navPathBehavioralHistogram(navPathType=pathType,light=light,nLeverMin = 1,\n",
    "                                         behavioralVariable = \"iTime\",bins=np.arange(0,4,0.125)) \n",
    "    fastNa.navPathBehavioralMatrix(navPathType=pathType,light=light,nLeverMin = 1,\n",
    "                                   behavioralVariable = \"iTime\",bins=np.arange(0,4,0.125)) # per journey\n",
    "    fastNa.navPathBehavioralHistogram(navPathType=pathType,light=light,nLeverMin = 1,\n",
    "                                      behavioralVariable = \"distance\",bins=np.arange(0,80,2))\n",
    "    fastNa.navPathBehavioralMatrix(navPathType=pathType,light=light,nLeverMin = 1,\n",
    "                                      behavioralVariable = \"distance\",bins=np.arange(0,80,2))\n",
    "\n",
    "    slowNa.navPathBehavioralHistogram(navPathType=pathType,light=light,nLeverMin = 1,\n",
    "                                     behavioralVariable = \"iTime\",bins=np.arange(0,4,0.125))\n",
    "    slowNa.navPathBehavioralMatrix(navPathType=pathType,light=light,nLeverMin = 1,\n",
    "                                     behavioralVariable = \"iTime\",bins=np.arange(0,4,0.125))\n",
    "    \n",
    "    slowNa.navPathBehavioralHistogram(navPathType=pathType,light=light,nLeverMin = 1,\n",
    "                                      behavioralVariable = \"distance\",bins=np.arange(0,80,2))\n",
    "    slowNa.navPathBehavioralMatrix(navPathType=pathType,light=light,nLeverMin = 1,\n",
    "                                      behavioralVariable = \"distance\",bins=np.arange(0,80,2))\n",
    "    \n",
    "    \n",
    "    return fastNa.navPathResultsDict,slowNa.navPathResultsDict\n",
    "\n",
    "\n",
    "def ccSlowFast(fastNaDict,slowNaDict):\n",
    "    \"\"\"\n",
    "    Calculate the cross-correlation of slow and fast maps\n",
    "    \"\"\"\n",
    "    \n",
    "    ## calculate the center of mass and peak of the histogram\n",
    "    res = {}\n",
    "    for cond in [\"iTime\",\"distance\"]:\n",
    "        # calculate the crosscorrelation\n",
    "        hs = slowNaDict[\"histo\"][\"searchToLeverPath_dark_{}\".format(cond)]\n",
    "        hf = fastNaDict[\"histo\"][\"searchToLeverPath_dark_{}\".format(cond)]\n",
    "        cc= signal.correlate(hf[\"histo\"],hs[\"histo\"], mode='same')\n",
    "        res[cond]=cc\n",
    "        #plt.plot(cc)\n",
    "        #plt.xlabel(cond)\n",
    "        #plt.plot([len(cc)/2,len(cc)/2],[0,np.max(cc)])\n",
    "        #plt.show()\n",
    "    return res"
   ]
  },
  {
   "cell_type": "markdown",
   "id": "29cb0a36-edba-48f5-af4e-4caac1c7e9ee",
   "metadata": {},
   "source": [
    "We need to plot what we are analyzing to make sure we only have top quality data for this analysis. We don't have much variability in speed so any noise in the analysis with be detrimental."
   ]
  },
  {
   "cell_type": "code",
   "execution_count": 74,
   "id": "69336ede-a5c9-422b-8f95-2ec2e6237d0a",
   "metadata": {},
   "outputs": [],
   "source": [
    "fastNaDict, slowNaDict = slowFastHisto(cellId)"
   ]
  },
  {
   "cell_type": "code",
   "execution_count": 75,
   "id": "7564073e-d3c6-4015-9ddc-9d59b3a2f95b",
   "metadata": {},
   "outputs": [],
   "source": [
    "resCc = ccSlowFast(fastNaDict,slowNaDict)"
   ]
  },
  {
   "cell_type": "code",
   "execution_count": 89,
   "id": "6d1927bc-fec0-4be5-b269-e878317a62fc",
   "metadata": {},
   "outputs": [],
   "source": [
    "def slowFastSummaryFigure(gs,cellId,searchIFR,myProjectWithTrials,myMaps,fastNaDict, slowNaDict,resCc):\n",
    "    \"\"\"\n",
    "    Show the analysis on search fields during slow and fast search paths\n",
    "    \"\"\"\n",
    "    gs0 = gridspec.GridSpecFromSubplotSpec(2, 5, subplot_spec=gs[0])\n",
    "    \n",
    "    gs1 = gridspec.GridSpecFromSubplotSpec(1, 1, subplot_spec=gs0[0,0])\n",
    "    searchPathsPlot(gs1,cellId,ses = myProjectWithTrials,light=\"dark\")        \n",
    "\n",
    "    ## map\n",
    "    ax = fig.add_subplot(gs0[1,0])\n",
    "    searchMapPlot(ax,cellId,myMaps,searchIFR,light=\"dark\")\n",
    "    \n",
    "    # matrix\n",
    "    ax = fig.add_subplot(gs0[0,1])\n",
    "    m = searchIFR[cellId][\"matrix\"][\"searchToLeverPath_dark_distance\"]\n",
    "    plotIFRMatrix(ax,m ,showXLabel=True,xLabel=\"\")\n",
    "    \n",
    "    ax = fig.add_subplot(gs0[1,1])\n",
    "    m = searchIFR[cellId][\"matrix\"][\"searchToLeverPath_dark_iTime\"]\n",
    "    plotIFRMatrix(ax,m ,showXLabel=True,xLabel=\"\")\n",
    "    \n",
    "    \n",
    "    ax = fig.add_subplot(gs0[0,2]) \n",
    "    m = fastNaDict[\"matrix\"][\"searchToLeverPath_dark_distance\"]\n",
    "    M = slowNaDict[\"matrix\"][\"searchToLeverPath_dark_distance\"][\"matrix\"]\n",
    "    n = slowNaDict[\"matrix\"][\"searchToLeverPath_dark_distance\"]\n",
    "    N = slowNaDict[\"matrix\"][\"searchToLeverPath_dark_distance\"]\n",
    "    o = np.stack([m,n])\n",
    "    print(m.shape,o.shape)\n",
    "    #plotIFRMatrix(ax,o ,showXLabel=True,xLabel=\"\")\n",
    "    "
   ]
  },
  {
   "cell_type": "code",
   "execution_count": null,
   "id": "f841e651-6e83-4c52-8a34-40d28177c585",
   "metadata": {},
   "outputs": [],
   "source": []
  },
  {
   "cell_type": "code",
   "execution_count": 90,
   "id": "33b5fcb7-5452-403e-8185-381d2d3b3154",
   "metadata": {},
   "outputs": [
    {
     "ename": "IndexError",
     "evalue": "only integers, slices (`:`), ellipsis (`...`), numpy.newaxis (`None`) and integer or boolean arrays are valid indices",
     "output_type": "error",
     "traceback": [
      "\u001b[0;31m---------------------------------------------------------------------------\u001b[0m",
      "\u001b[0;31mIndexError\u001b[0m                                Traceback (most recent call last)",
      "\u001b[0;32m/tmp/ipykernel_51010/4047654581.py\u001b[0m in \u001b[0;36m<module>\u001b[0;34m\u001b[0m\n\u001b[1;32m      7\u001b[0m \u001b[0;34m\u001b[0m\u001b[0m\n\u001b[1;32m      8\u001b[0m \u001b[0mcellId\u001b[0m\u001b[0;34m=\u001b[0m\u001b[0;34m\"mn9686-27102021-0106_36\"\u001b[0m\u001b[0;34m\u001b[0m\u001b[0;34m\u001b[0m\u001b[0m\n\u001b[0;32m----> 9\u001b[0;31m \u001b[0mslowFastSummaryFigure\u001b[0m\u001b[0;34m(\u001b[0m\u001b[0mgs\u001b[0m\u001b[0;34m,\u001b[0m\u001b[0mcellId\u001b[0m\u001b[0;34m,\u001b[0m\u001b[0msearchIFR\u001b[0m\u001b[0;34m,\u001b[0m\u001b[0mmyProjectWithTrials\u001b[0m\u001b[0;34m,\u001b[0m \u001b[0mmyMaps\u001b[0m\u001b[0;34m,\u001b[0m\u001b[0mfastNaDict\u001b[0m\u001b[0;34m,\u001b[0m \u001b[0mslowNaDict\u001b[0m\u001b[0;34m,\u001b[0m\u001b[0mresCc\u001b[0m\u001b[0;34m)\u001b[0m\u001b[0;34m\u001b[0m\u001b[0;34m\u001b[0m\u001b[0m\n\u001b[0m",
      "\u001b[0;32m/tmp/ipykernel_51010/3529727786.py\u001b[0m in \u001b[0;36mslowFastSummaryFigure\u001b[0;34m(gs, cellId, searchIFR, myProjectWithTrials, myMaps, fastNaDict, slowNaDict, resCc)\u001b[0m\n\u001b[1;32m     26\u001b[0m     \u001b[0mn\u001b[0m \u001b[0;34m=\u001b[0m \u001b[0mslowNaDict\u001b[0m\u001b[0;34m[\u001b[0m\u001b[0;34m\"matrix\"\u001b[0m\u001b[0;34m]\u001b[0m\u001b[0;34m[\u001b[0m\u001b[0;34m\"searchToLeverPath_dark_distance\"\u001b[0m\u001b[0;34m]\u001b[0m\u001b[0;34m\u001b[0m\u001b[0;34m\u001b[0m\u001b[0m\n\u001b[1;32m     27\u001b[0m     \u001b[0mo\u001b[0m \u001b[0;34m=\u001b[0m \u001b[0mnp\u001b[0m\u001b[0;34m.\u001b[0m\u001b[0mstack\u001b[0m\u001b[0;34m(\u001b[0m\u001b[0;34m[\u001b[0m\u001b[0mm\u001b[0m\u001b[0;34m,\u001b[0m\u001b[0mn\u001b[0m\u001b[0;34m]\u001b[0m\u001b[0;34m)\u001b[0m\u001b[0;34m\u001b[0m\u001b[0;34m\u001b[0m\u001b[0m\n\u001b[0;32m---> 28\u001b[0;31m     \u001b[0mplotIFRMatrix\u001b[0m\u001b[0;34m(\u001b[0m\u001b[0max\u001b[0m\u001b[0;34m,\u001b[0m\u001b[0mo\u001b[0m \u001b[0;34m,\u001b[0m\u001b[0mshowXLabel\u001b[0m\u001b[0;34m=\u001b[0m\u001b[0;32mTrue\u001b[0m\u001b[0;34m,\u001b[0m\u001b[0mxLabel\u001b[0m\u001b[0;34m=\u001b[0m\u001b[0;34m\"\"\u001b[0m\u001b[0;34m)\u001b[0m\u001b[0;34m\u001b[0m\u001b[0;34m\u001b[0m\u001b[0m\n\u001b[0m\u001b[1;32m     29\u001b[0m \u001b[0;34m\u001b[0m\u001b[0m\n",
      "\u001b[0;32m/tmp/ipykernel_51010/256474544.py\u001b[0m in \u001b[0;36mplotIFRMatrix\u001b[0;34m(ax, m, showXLabel, xLabel)\u001b[0m\n\u001b[1;32m     80\u001b[0m     \"\"\"\n\u001b[1;32m     81\u001b[0m \u001b[0;34m\u001b[0m\u001b[0m\n\u001b[0;32m---> 82\u001b[0;31m     \u001b[0max\u001b[0m\u001b[0;34m.\u001b[0m\u001b[0mimshow\u001b[0m\u001b[0;34m(\u001b[0m\u001b[0mm\u001b[0m\u001b[0;34m[\u001b[0m\u001b[0;34m'matrix'\u001b[0m\u001b[0;34m]\u001b[0m\u001b[0;34m,\u001b[0m\u001b[0maspect\u001b[0m\u001b[0;34m=\u001b[0m\u001b[0;34m\"auto\"\u001b[0m\u001b[0;34m,\u001b[0m\u001b[0minterpolation\u001b[0m\u001b[0;34m=\u001b[0m\u001b[0;34m\"none\"\u001b[0m\u001b[0;34m,\u001b[0m\u001b[0mextent\u001b[0m\u001b[0;34m=\u001b[0m\u001b[0;34m[\u001b[0m\u001b[0mnp\u001b[0m\u001b[0;34m.\u001b[0m\u001b[0mmin\u001b[0m\u001b[0;34m(\u001b[0m\u001b[0mm\u001b[0m\u001b[0;34m[\u001b[0m\u001b[0;34m\"bins\"\u001b[0m\u001b[0;34m]\u001b[0m\u001b[0;34m)\u001b[0m\u001b[0;34m,\u001b[0m\u001b[0mnp\u001b[0m\u001b[0;34m.\u001b[0m\u001b[0mmax\u001b[0m\u001b[0;34m(\u001b[0m\u001b[0mm\u001b[0m\u001b[0;34m[\u001b[0m\u001b[0;34m\"bins\"\u001b[0m\u001b[0;34m]\u001b[0m\u001b[0;34m)\u001b[0m\u001b[0;34m,\u001b[0m\u001b[0;36m0\u001b[0m\u001b[0;34m,\u001b[0m\u001b[0mm\u001b[0m\u001b[0;34m[\u001b[0m\u001b[0;34m\"matrix\"\u001b[0m\u001b[0;34m]\u001b[0m\u001b[0;34m.\u001b[0m\u001b[0mshape\u001b[0m\u001b[0;34m[\u001b[0m\u001b[0;36m0\u001b[0m\u001b[0;34m]\u001b[0m\u001b[0;34m]\u001b[0m\u001b[0;34m,\u001b[0m\u001b[0morigin\u001b[0m\u001b[0;34m=\u001b[0m\u001b[0;34m\"lower\"\u001b[0m\u001b[0;34m,\u001b[0m\u001b[0mcmap\u001b[0m\u001b[0;34m=\u001b[0m\u001b[0;34m\"jet\"\u001b[0m\u001b[0;34m)\u001b[0m\u001b[0;34m\u001b[0m\u001b[0;34m\u001b[0m\u001b[0m\n\u001b[0m\u001b[1;32m     83\u001b[0m     \u001b[0max\u001b[0m\u001b[0;34m.\u001b[0m\u001b[0mset_ylabel\u001b[0m\u001b[0;34m(\u001b[0m\u001b[0;34m\"Journeys\"\u001b[0m\u001b[0;34m)\u001b[0m\u001b[0;34m\u001b[0m\u001b[0;34m\u001b[0m\u001b[0m\n\u001b[1;32m     84\u001b[0m     \u001b[0;32mif\u001b[0m \u001b[0mshowXLabel\u001b[0m\u001b[0;34m:\u001b[0m\u001b[0;34m\u001b[0m\u001b[0;34m\u001b[0m\u001b[0m\n",
      "\u001b[0;31mIndexError\u001b[0m: only integers, slices (`:`), ellipsis (`...`), numpy.newaxis (`None`) and integer or boolean arrays are valid indices"
     ]
    },
    {
     "data": {
      "image/png": "[encoded data removed]",
      "text/plain": [
       "<Figure size 900x388.8 with 5 Axes>"
      ]
     },
     "metadata": {
      "needs_background": "light"
     },
     "output_type": "display_data"
    }
   ],
   "source": [
    "col=5\n",
    "row=2\n",
    "sizePerCol=2.5\n",
    "sizePerRow=2.7       \n",
    "fig = plt.figure(figsize=(col*sizePerCol,row*sizePerRow),constrained_layout=True) \n",
    "gs = gridspec.GridSpec(1, 1, figure=fig) # all our figure\n",
    "\n",
    "cellId=\"mn9686-27102021-0106_36\"\n",
    "slowFastSummaryFigure(gs,cellId,searchIFR,myProjectWithTrials, myMaps,fastNaDict, slowNaDict,resCc)"
   ]
  },
  {
   "cell_type": "code",
   "execution_count": 64,
   "id": "2a57487d-9fe9-4a9c-a245-d503f058af81",
   "metadata": {},
   "outputs": [
    {
     "data": {
      "text/plain": [
       "{'histo': array([ 8.6139798 , 17.52877846, 19.78127101, 30.3940555 , 34.23273312,\n",
       "        36.9501786 , 32.62499655, 25.84700703, 25.70067454, 21.23705885,\n",
       "        13.71224385,  9.86110849, 14.30338892, 13.30693602, 10.84360191,\n",
       "        12.70431488,  6.62830322,  5.36451564,  6.37154465,  4.66914944,\n",
       "         5.04742547,  5.0166571 ,  3.5744619 ,  4.90160017,  5.30484513,\n",
       "         4.08161958,  6.99126719,  9.85992578,  6.84806756,  2.68788775,\n",
       "         5.97990612]),\n",
       " 'bins': array([0.   , 0.125, 0.25 , 0.375, 0.5  , 0.625, 0.75 , 0.875, 1.   ,\n",
       "        1.125, 1.25 , 1.375, 1.5  , 1.625, 1.75 , 1.875, 2.   , 2.125,\n",
       "        2.25 , 2.375, 2.5  , 2.625, 2.75 , 2.875, 3.   , 3.125, 3.25 ,\n",
       "        3.375, 3.5  , 3.625, 3.75 , 3.875])}"
      ]
     },
     "execution_count": 64,
     "metadata": {},
     "output_type": "execute_result"
    }
   ],
   "source": [
    "fastNaDict[\"histo\"]['searchToLeverPath_dark_iTime']"
   ]
  },
  {
   "cell_type": "markdown",
   "id": "2622a44b-5255-4a20-80fc-8c05d1d3f5c0",
   "metadata": {},
   "source": [
    "Calculate the rate X distance and rate X iTime for fast and slow path for neuron with fields."
   ]
  },
  {
   "cell_type": "code",
   "execution_count": 36,
   "id": "22e79f22-2ecd-41cb-97ef-d5cbbabc4875",
   "metadata": {},
   "outputs": [],
   "source": [
    "myList = [ slowFastHisto(cellId) for cellId in searchFields.cellId[searchFields.light==\"dark\"].unique()]     "
   ]
  },
  {
   "cell_type": "markdown",
   "id": "8a254537-9517-4b5c-aa5b-638fe0f858a3",
   "metadata": {},
   "source": [
    "Calculate the crosscorrelation between fast and slow histograms"
   ]
  },
  {
   "cell_type": "code",
   "execution_count": 37,
   "id": "bd446d8b-36e8-46da-bf93-b8526bb1f2c2",
   "metadata": {},
   "outputs": [],
   "source": [
    "ccRes = [ccSlowFast(fastNaDict,slowNaDict) for fastNaDict,slowNaDict in myList]  "
   ]
  },
  {
   "cell_type": "code",
   "execution_count": 55,
   "id": "95891b47-8746-4f30-8c63-26f7c25f3c19",
   "metadata": {},
   "outputs": [],
   "source": [
    "iTimeCc = np.stack([d[\"iTime\"] for d in ccRes])\n",
    "distanceCc = np.stack([d[\"distance\"] for d in ccRes])"
   ]
  },
  {
   "cell_type": "code",
   "execution_count": 58,
   "id": "b0fc15de-9326-4a46-bb04-5e76855db49f",
   "metadata": {},
   "outputs": [
    {
     "name": "stderr",
     "output_type": "stream",
     "text": [
      "/tmp/ipykernel_51010/1359833329.py:1: RuntimeWarning: All-NaN slice encountered\n",
      "  iTimeCc = iTimeCc/np.nanmax(iTimeCc,axis=1).reshape(-1,1)\n",
      "/tmp/ipykernel_51010/1359833329.py:2: RuntimeWarning: All-NaN slice encountered\n",
      "  distanceCc = distanceCc/np.nanmax(distanceCc,axis=1).reshape(-1,1)\n"
     ]
    }
   ],
   "source": [
    "iTimeCc = iTimeCc/np.nanmax(iTimeCc,axis=1).reshape(-1,1)\n",
    "distanceCc = distanceCc/np.nanmax(distanceCc,axis=1).reshape(-1,1)"
   ]
  },
  {
   "cell_type": "code",
   "execution_count": 61,
   "id": "ed6e45e7-badb-4aaa-a350-fda8e75e3906",
   "metadata": {},
   "outputs": [
    {
     "data": {
      "text/plain": [
       "[<matplotlib.lines.Line2D at 0x7fbf47f4ba90>]"
      ]
     },
     "execution_count": 61,
     "metadata": {},
     "output_type": "execute_result"
    },
    {
     "data": {
      "image/png": "[encoded data removed]",
      "text/plain": [
       "<Figure size 432x288 with 1 Axes>"
      ]
     },
     "metadata": {
      "needs_background": "light"
     },
     "output_type": "display_data"
    }
   ],
   "source": [
    "plt.plot(np.nanmean(iTimeCc,axis=0))\n",
    "plt.plot([iTimeCc.shape[1]/2,iTimeCc.shape[1]/2],[0,np.nanmax(iTimeCc)])\n",
    "plt.plot(np.nanmean(distanceCc,axis=0))\n",
    "plt.plot([distanceCc.shape[1]/2,distanceCc.shape[1]/2],[0,np.nanmax(distanceCc)])"
   ]
  },
  {
   "cell_type": "code",
   "execution_count": 33,
   "id": "8e09cb27-7943-41aa-bafe-64bc11b17da6",
   "metadata": {},
   "outputs": [],
   "source": [
    "from sklearn.model_selection import train_test_split\n",
    "from neuronAutopi import NeuronAutopi\n",
    "from sklearn.neural_network import MLPRegressor\n",
    "from sklearn.metrics import mean_squared_error\n",
    "\n",
    "\n",
    "def mse_ifr_prediction(trainIfr,trainBeha,testIfr,testBeha,var=[\"distance\"]):\n",
    "    \"\"\"\n",
    "    Function to predict the IFR from a behavioral variable using a multi-layer peceptron model\n",
    "    \n",
    "    A train and test sets are used. \n",
    "    Returns the MSE for the train and test set is returned\n",
    "    \"\"\"\n",
    "    yTrain = trainIfr\n",
    "    XTrain = trainBeha[var].to_numpy().reshape(-1,len(var))\n",
    "    yTest = testIfr\n",
    "    XTest = testBeha[var].to_numpy().reshape(-1,len(var))\n",
    "\n",
    "    # remove entries with nan in behavioral data, ifr does not have nans\n",
    "    keep= ~np.isnan(XTrain[:,0])\n",
    "    XTrain = XTrain[keep,:]\n",
    "    yTrain = yTrain[keep]\n",
    "    keep= ~np.isnan(XTest[:,0])\n",
    "    XTest = XTest[keep,:]\n",
    "    yTest = yTest[keep]\n",
    "    \n",
    "    # train a Multi-layer Perceptron regressor.\n",
    "    regr = MLPRegressor(random_state=1,hidden_layer_sizes=(6,12,6), max_iter=5000).fit(XTrain, yTrain)\n",
    "\n",
    "    y_pred_train = regr.predict(XTrain)\n",
    "    mse_train = mean_squared_error(yTrain, y_pred_train)\n",
    "    y_pred_test = regr.predict(XTest)\n",
    "    mse_test = mean_squared_error(yTest, y_pred_test)\n",
    "    \n",
    "    return mse_train, mse_test\n",
    "\n",
    "\n",
    "def field_IFR_prediction(cellId,light,pathType,myProjectWithTrial,sSesList, behavioralVariables=[[\"distance\"],[\"iTime\"]]):\n",
    "    \"\"\"\n",
    "    Function to see how well behavioral variables can predict the IFR of a neuron\n",
    "    \n",
    "    \"\"\"\n",
    "\n",
    "    sesName = cellId.split(\"_\")[0]\n",
    "    cluNo =  cellId.split(\"_\")[1]\n",
    "    ses = myProjectWithTrials.getSession(sesName)\n",
    "    sSes = [ses for ses in sSesList if ses.name==sesName][0]\n",
    "    # load raw data from file\n",
    "    ifr, navs, inav = load_ifr_behavior(ses,verbose=False)\n",
    "    \n",
    "    # select the navPaths of the relevant type\n",
    "    selNavs= navs[(navs.light==light)&(navs.type==pathType)]\n",
    "    # set fast/slow labels on each path\n",
    "    setSpeedCategory(selNavs,inav)\n",
    "    \n",
    "    # get the IFR of the neuron\n",
    "    cluIndex  = np.where(np.array([n.name for n in sSes.cg.neuron_list])==cluNo)[0][0]\n",
    "    rate = ifr[0][cluIndex,:]\n",
    "    time = ifr[1]\n",
    "    \n",
    "    # split the data into training and test sets\n",
    "    train, test = selNavs.name[selNavs.speedClass==\"slow\"],selNavs.name[selNavs.speedClass==\"fast\"]\n",
    "    \n",
    "    #train_test_split(selNavs.name, test_size=0.33, random_state=42)\n",
    "    trainInst = inav[inav.name.isin(train)]\n",
    "    trainSum = selNavs[selNavs.name.isin(train)]\n",
    "\n",
    "    testInst = inav[inav.name.isin(test)]\n",
    "    testSum = selNavs[selNavs.name.isin(test)]\n",
    "\n",
    "    \n",
    "    # get behavioral data and IFR for the test and train sets, using our neuronAutopi class\n",
    "    trainNa = NeuronAutopi(name=\"train\",ifr=(rate,time),navPathSummary=trainSum,iNavPath=trainInst,trialElectro=None)\n",
    "    testNa = NeuronAutopi(name=\"test\",ifr=(rate,time),navPathSummary=testSum,iNavPath=testInst,trialElectro=None)\n",
    "    trainIfr, trainBeha = trainNa.getSingleNavPathData(navPathNames = train)\n",
    "    testIfr, testBeha = testNa.getSingleNavPathData(navPathNames = test)\n",
    "\n",
    "    res = pd.DataFrame()\n",
    "    res = pd.DataFrame({\"cellId\":[cellId],\"light\":[light],\"pathType\":[pathType]})\n",
    "    res[\"test_n\"] = [testSum.shape[0]]\n",
    "    res[\"train_n\"] = [trainSum.shape[0]]\n",
    "        \n",
    "    ## model the neuron using the train set and predict the ifr test\n",
    "    for behav in behavioralVariables:\n",
    "        mse_train,mse_test = mse_ifr_prediction(trainIfr,trainBeha,testIfr,testBeha,var=behav)\n",
    "        res[\"{}_mse_train\".format('-'.join(behav))]=[mse_train]\n",
    "        res[\"{}_mse_test\".format(\"-\".join(behav))]=[mse_test]\n",
    "\n",
    "    return res"
   ]
  },
  {
   "cell_type": "code",
   "execution_count": 34,
   "id": "d944a03a-3efd-4122-8044-936950c50c2c",
   "metadata": {},
   "outputs": [
    {
     "name": "stdout",
     "output_type": "stream",
     "text": [
      "speed cutoffs: 26.410469806360503 31.047059617373325\n",
      "median fast : 34.1366170709496\n",
      "median slow : 24.634674283571705\n"
     ]
    },
    {
     "data": {
      "text/html": [
       "<div>\n",
       "<style scoped>\n",
       "    .dataframe tbody tr th:only-of-type {\n",
       "        vertical-align: middle;\n",
       "    }\n",
       "\n",
       "    .dataframe tbody tr th {\n",
       "        vertical-align: top;\n",
       "    }\n",
       "\n",
       "    .dataframe thead th {\n",
       "        text-align: right;\n",
       "    }\n",
       "</style>\n",
       "<table border=\"1\" class=\"dataframe\">\n",
       "  <thead>\n",
       "    <tr style=\"text-align: right;\">\n",
       "      <th></th>\n",
       "      <th>cellId</th>\n",
       "      <th>light</th>\n",
       "      <th>pathType</th>\n",
       "      <th>test_n</th>\n",
       "      <th>train_n</th>\n",
       "      <th>distance_mse_train</th>\n",
       "      <th>distance_mse_test</th>\n",
       "      <th>iTime_mse_train</th>\n",
       "      <th>iTime_mse_test</th>\n",
       "    </tr>\n",
       "  </thead>\n",
       "  <tbody>\n",
       "    <tr>\n",
       "      <th>0</th>\n",
       "      <td>mn9686-01112021-0106_242</td>\n",
       "      <td>dark</td>\n",
       "      <td>searchToLeverPath</td>\n",
       "      <td>20</td>\n",
       "      <td>20</td>\n",
       "      <td>261.728604</td>\n",
       "      <td>298.655085</td>\n",
       "      <td>251.113284</td>\n",
       "      <td>322.393018</td>\n",
       "    </tr>\n",
       "  </tbody>\n",
       "</table>\n",
       "</div>"
      ],
      "text/plain": [
       "                     cellId light           pathType  test_n  train_n  \\\n",
       "0  mn9686-01112021-0106_242  dark  searchToLeverPath      20       20   \n",
       "\n",
       "   distance_mse_train  distance_mse_test  iTime_mse_train  iTime_mse_test  \n",
       "0          261.728604         298.655085       251.113284      322.393018  "
      ]
     },
     "execution_count": 34,
     "metadata": {},
     "output_type": "execute_result"
    }
   ],
   "source": [
    "field_IFR_prediction(cellId,light,pathType,myProjectWithTrials,sSesList,\n",
    "                     behavioralVariables=[[\"distance\"],[\"iTime\"]])"
   ]
  },
  {
   "cell_type": "code",
   "execution_count": 35,
   "id": "d2ba872f-a581-4c9d-ad93-f3e6bc028120",
   "metadata": {},
   "outputs": [
    {
     "name": "stderr",
     "output_type": "stream",
     "text": [
      "  0%|                                                                                                                          | 0/108 [00:00<?, ?it/s]"
     ]
    },
    {
     "name": "stdout",
     "output_type": "stream",
     "text": [
      "speed cutoffs: 23.983742337329353 30.49147253850093\n",
      "median fast : 33.36492331774179\n",
      "median slow : 22.05343916955973\n"
     ]
    },
    {
     "name": "stderr",
     "output_type": "stream",
     "text": [
      "  1%|█                                                                                                                 | 1/108 [00:03<07:00,  3.93s/it]"
     ]
    },
    {
     "name": "stdout",
     "output_type": "stream",
     "text": [
      "speed cutoffs: 23.983742337329353 30.49147253850093\n",
      "median fast : 33.36492331774179\n",
      "median slow : 22.05343916955973\n"
     ]
    },
    {
     "name": "stderr",
     "output_type": "stream",
     "text": [
      "  2%|██                                                                                                                | 2/108 [00:07<06:46,  3.84s/it]"
     ]
    },
    {
     "name": "stdout",
     "output_type": "stream",
     "text": [
      "speed cutoffs: 23.983742337329353 30.49147253850093\n",
      "median fast : 33.36492331774179\n",
      "median slow : 22.05343916955973\n"
     ]
    },
    {
     "name": "stderr",
     "output_type": "stream",
     "text": [
      "  3%|███▏                                                                                                              | 3/108 [00:10<05:37,  3.22s/it]"
     ]
    },
    {
     "name": "stdout",
     "output_type": "stream",
     "text": [
      "speed cutoffs: 20.046788764208742 26.062300887525403\n",
      "median fast : 28.354384370155305\n",
      "median slow : 18.81900795476053\n"
     ]
    },
    {
     "name": "stderr",
     "output_type": "stream",
     "text": [
      "  4%|████▏                                                                                                             | 4/108 [00:13<05:26,  3.14s/it]"
     ]
    },
    {
     "name": "stdout",
     "output_type": "stream",
     "text": [
      "speed cutoffs: 20.046788764208742 26.062300887525403\n",
      "median fast : 28.354384370155305\n",
      "median slow : 18.81900795476053\n"
     ]
    },
    {
     "name": "stderr",
     "output_type": "stream",
     "text": [
      "  5%|█████▎                                                                                                            | 5/108 [00:14<04:29,  2.61s/it]"
     ]
    },
    {
     "name": "stdout",
     "output_type": "stream",
     "text": [
      "speed cutoffs: 20.046788764208742 26.062300887525403\n",
      "median fast : 28.354384370155305\n",
      "median slow : 18.81900795476053\n"
     ]
    },
    {
     "name": "stderr",
     "output_type": "stream",
     "text": [
      "  6%|██████▎                                                                                                           | 6/108 [00:17<04:31,  2.66s/it]"
     ]
    },
    {
     "name": "stdout",
     "output_type": "stream",
     "text": [
      "speed cutoffs: 20.046788764208742 26.062300887525403\n",
      "median fast : 28.354384370155305\n",
      "median slow : 18.81900795476053\n"
     ]
    },
    {
     "name": "stderr",
     "output_type": "stream",
     "text": [
      "  6%|███████▍                                                                                                          | 7/108 [00:20<04:43,  2.81s/it]"
     ]
    },
    {
     "name": "stdout",
     "output_type": "stream",
     "text": [
      "speed cutoffs: 20.046788764208742 26.062300887525403\n",
      "median fast : 28.354384370155305\n",
      "median slow : 18.81900795476053\n"
     ]
    },
    {
     "name": "stderr",
     "output_type": "stream",
     "text": [
      "  7%|████████▍                                                                                                         | 8/108 [00:25<05:29,  3.29s/it]"
     ]
    },
    {
     "name": "stdout",
     "output_type": "stream",
     "text": [
      "speed cutoffs: 24.580260713574468 29.926255942515667\n",
      "median fast : 32.17907389004169\n",
      "median slow : 22.765178441548322\n"
     ]
    },
    {
     "name": "stderr",
     "output_type": "stream",
     "text": [
      "  8%|█████████▌                                                                                                        | 9/108 [00:27<04:48,  2.92s/it]"
     ]
    },
    {
     "name": "stdout",
     "output_type": "stream",
     "text": [
      "speed cutoffs: 24.580260713574468 29.926255942515667\n",
      "median fast : 32.17907389004169\n",
      "median slow : 22.765178441548322\n"
     ]
    },
    {
     "name": "stderr",
     "output_type": "stream",
     "text": [
      "  9%|██████████▍                                                                                                      | 10/108 [00:30<04:48,  2.95s/it]"
     ]
    },
    {
     "name": "stdout",
     "output_type": "stream",
     "text": [
      "speed cutoffs: 28.00198480543643 33.94789514484414\n",
      "median fast : 36.64298098820072\n",
      "median slow : 25.54045804212612\n"
     ]
    },
    {
     "name": "stderr",
     "output_type": "stream",
     "text": [
      " 10%|███████████▌                                                                                                     | 11/108 [00:32<04:26,  2.75s/it]"
     ]
    },
    {
     "name": "stdout",
     "output_type": "stream",
     "text": [
      "speed cutoffs: 19.360924353440453 25.95279054960847\n",
      "median fast : 27.185712404922157\n",
      "median slow : 16.459941993322904\n"
     ]
    },
    {
     "name": "stderr",
     "output_type": "stream",
     "text": [
      " 11%|████████████▌                                                                                                    | 12/108 [00:35<04:33,  2.85s/it]"
     ]
    },
    {
     "name": "stdout",
     "output_type": "stream",
     "text": [
      "speed cutoffs: 17.881281306387077 21.254710557516972\n",
      "median fast : 21.898473246471674\n",
      "median slow : 17.53671349542038\n"
     ]
    },
    {
     "name": "stderr",
     "output_type": "stream",
     "text": [
      " 12%|█████████████▌                                                                                                   | 13/108 [00:39<05:05,  3.22s/it]"
     ]
    },
    {
     "name": "stdout",
     "output_type": "stream",
     "text": [
      "speed cutoffs: 17.881281306387077 21.254710557516972\n",
      "median fast : 21.898473246471674\n",
      "median slow : 17.53671349542038\n"
     ]
    },
    {
     "name": "stderr",
     "output_type": "stream",
     "text": [
      " 13%|██████████████▋                                                                                                  | 14/108 [00:42<04:59,  3.18s/it]"
     ]
    },
    {
     "name": "stdout",
     "output_type": "stream",
     "text": [
      "speed cutoffs: 17.393290758414622 21.684386605234128\n",
      "median fast : 22.44239481402046\n",
      "median slow : 15.04778954249063\n"
     ]
    },
    {
     "name": "stderr",
     "output_type": "stream",
     "text": [
      " 14%|███████████████▋                                                                                                 | 15/108 [00:44<04:25,  2.86s/it]"
     ]
    },
    {
     "name": "stdout",
     "output_type": "stream",
     "text": [
      "speed cutoffs: 18.326628994284924 21.736807695674415\n",
      "median fast : 23.078462344395497\n",
      "median slow : 16.78468521550795\n"
     ]
    },
    {
     "name": "stderr",
     "output_type": "stream",
     "text": [
      " 15%|████████████████▋                                                                                                | 16/108 [00:47<04:05,  2.67s/it]"
     ]
    },
    {
     "name": "stdout",
     "output_type": "stream",
     "text": [
      "speed cutoffs: 15.979319312868105 20.599571985675304\n",
      "median fast : 21.44458311642901\n",
      "median slow : 14.53997607055926\n"
     ]
    },
    {
     "name": "stderr",
     "output_type": "stream",
     "text": [
      " 16%|█████████████████▊                                                                                               | 17/108 [00:49<03:51,  2.54s/it]"
     ]
    },
    {
     "name": "stdout",
     "output_type": "stream",
     "text": [
      "speed cutoffs: 15.979319312868105 20.599571985675304\n",
      "median fast : 21.44458311642901\n",
      "median slow : 14.53997607055926\n"
     ]
    },
    {
     "name": "stderr",
     "output_type": "stream",
     "text": [
      " 17%|██████████████████▊                                                                                              | 18/108 [00:51<03:31,  2.34s/it]"
     ]
    },
    {
     "name": "stdout",
     "output_type": "stream",
     "text": [
      "speed cutoffs: 14.53038913821541 22.958718305853175\n",
      "median fast : 25.180602901318338\n",
      "median slow : 10.612994994837708\n"
     ]
    },
    {
     "name": "stderr",
     "output_type": "stream",
     "text": [
      " 18%|███████████████████▉                                                                                             | 19/108 [00:52<03:12,  2.17s/it]"
     ]
    },
    {
     "name": "stdout",
     "output_type": "stream",
     "text": [
      "speed cutoffs: 28.493631234255275 33.33805850179729\n",
      "median fast : 36.19905070441301\n",
      "median slow : 21.901932322163887\n"
     ]
    },
    {
     "name": "stderr",
     "output_type": "stream",
     "text": [
      " 19%|████████████████████▉                                                                                            | 20/108 [00:56<03:43,  2.53s/it]"
     ]
    },
    {
     "name": "stdout",
     "output_type": "stream",
     "text": [
      "speed cutoffs: 28.493631234255275 33.33805850179729\n",
      "median fast : 36.19905070441301\n",
      "median slow : 21.901932322163887\n"
     ]
    },
    {
     "name": "stderr",
     "output_type": "stream",
     "text": [
      " 19%|█████████████████████▉                                                                                           | 21/108 [00:59<03:57,  2.73s/it]"
     ]
    },
    {
     "name": "stdout",
     "output_type": "stream",
     "text": [
      "speed cutoffs: 24.47795696831016 32.9743505856641\n",
      "median fast : 34.710358352864915\n",
      "median slow : 19.17201196461199\n"
     ]
    },
    {
     "name": "stderr",
     "output_type": "stream",
     "text": [
      " 20%|███████████████████████                                                                                          | 22/108 [01:01<03:24,  2.37s/it]"
     ]
    },
    {
     "name": "stdout",
     "output_type": "stream",
     "text": [
      "speed cutoffs: 24.47795696831016 32.9743505856641\n",
      "median fast : 34.710358352864915\n",
      "median slow : 19.17201196461199\n"
     ]
    },
    {
     "name": "stderr",
     "output_type": "stream",
     "text": [
      " 21%|████████████████████████                                                                                         | 23/108 [01:05<04:11,  2.96s/it]"
     ]
    },
    {
     "name": "stdout",
     "output_type": "stream",
     "text": [
      "speed cutoffs: 24.47795696831016 32.9743505856641\n",
      "median fast : 34.710358352864915\n",
      "median slow : 19.17201196461199\n"
     ]
    },
    {
     "name": "stderr",
     "output_type": "stream",
     "text": [
      " 22%|█████████████████████████                                                                                        | 24/108 [01:07<03:55,  2.80s/it]"
     ]
    },
    {
     "name": "stdout",
     "output_type": "stream",
     "text": [
      "speed cutoffs: 24.47795696831016 32.9743505856641\n",
      "median fast : 34.710358352864915\n",
      "median slow : 19.17201196461199\n"
     ]
    },
    {
     "name": "stderr",
     "output_type": "stream",
     "text": [
      " 23%|██████████████████████████▏                                                                                      | 25/108 [01:14<05:40,  4.10s/it]"
     ]
    },
    {
     "name": "stdout",
     "output_type": "stream",
     "text": [
      "speed cutoffs: 23.44240013067588 31.54014756294668\n",
      "median fast : 34.34107094008817\n",
      "median slow : 21.60626463305306\n"
     ]
    },
    {
     "name": "stderr",
     "output_type": "stream",
     "text": [
      " 24%|███████████████████████████▏                                                                                     | 26/108 [01:20<06:03,  4.44s/it]"
     ]
    },
    {
     "name": "stdout",
     "output_type": "stream",
     "text": [
      "speed cutoffs: 23.44240013067588 31.54014756294668\n",
      "median fast : 34.34107094008817\n",
      "median slow : 21.60626463305306\n"
     ]
    },
    {
     "name": "stderr",
     "output_type": "stream",
     "text": [
      " 25%|████████████████████████████▎                                                                                    | 27/108 [01:25<06:10,  4.57s/it]"
     ]
    },
    {
     "name": "stdout",
     "output_type": "stream",
     "text": [
      "speed cutoffs: 20.886799317203813 28.49054576504284\n",
      "median fast : 32.195347520835426\n",
      "median slow : 16.991366556597217\n"
     ]
    },
    {
     "name": "stderr",
     "output_type": "stream",
     "text": [
      " 26%|█████████████████████████████▎                                                                                   | 28/108 [01:29<05:53,  4.42s/it]"
     ]
    },
    {
     "name": "stdout",
     "output_type": "stream",
     "text": [
      "speed cutoffs: 19.86817261389566 25.317466660057008\n",
      "median fast : 28.23906944501244\n",
      "median slow : 17.42381671807074\n"
     ]
    },
    {
     "name": "stderr",
     "output_type": "stream",
     "text": [
      " 27%|██████████████████████████████▎                                                                                  | 29/108 [01:31<04:59,  3.79s/it]"
     ]
    },
    {
     "name": "stdout",
     "output_type": "stream",
     "text": [
      "speed cutoffs: 20.211198541254937 24.99967827488853\n",
      "median fast : 26.795414924087524\n",
      "median slow : 18.202573998460085\n"
     ]
    },
    {
     "name": "stderr",
     "output_type": "stream",
     "text": [
      " 28%|███████████████████████████████▍                                                                                 | 30/108 [01:35<04:51,  3.74s/it]"
     ]
    },
    {
     "name": "stdout",
     "output_type": "stream",
     "text": [
      "speed cutoffs: 20.211198541254937 24.99967827488853\n",
      "median fast : 26.795414924087524\n",
      "median slow : 18.202573998460085\n"
     ]
    },
    {
     "name": "stderr",
     "output_type": "stream",
     "text": [
      " 29%|████████████████████████████████▍                                                                                | 31/108 [01:38<04:29,  3.51s/it]"
     ]
    },
    {
     "name": "stdout",
     "output_type": "stream",
     "text": [
      "speed cutoffs: 20.211198541254937 24.99967827488853\n",
      "median fast : 26.795414924087524\n",
      "median slow : 18.202573998460085\n"
     ]
    },
    {
     "name": "stderr",
     "output_type": "stream",
     "text": [
      " 30%|█████████████████████████████████▍                                                                               | 32/108 [01:40<03:56,  3.12s/it]"
     ]
    },
    {
     "name": "stdout",
     "output_type": "stream",
     "text": [
      "speed cutoffs: 20.211198541254937 24.99967827488853\n",
      "median fast : 26.795414924087524\n",
      "median slow : 18.202573998460085\n"
     ]
    },
    {
     "name": "stderr",
     "output_type": "stream",
     "text": [
      " 31%|██████████████████████████████████▌                                                                              | 33/108 [01:43<03:55,  3.14s/it]"
     ]
    },
    {
     "name": "stdout",
     "output_type": "stream",
     "text": [
      "speed cutoffs: 20.211198541254937 24.99967827488853\n",
      "median fast : 26.795414924087524\n",
      "median slow : 18.202573998460085\n"
     ]
    },
    {
     "name": "stderr",
     "output_type": "stream",
     "text": [
      " 31%|███████████████████████████████████▌                                                                             | 34/108 [01:47<04:05,  3.32s/it]"
     ]
    },
    {
     "name": "stdout",
     "output_type": "stream",
     "text": [
      "speed cutoffs: 20.211198541254937 24.99967827488853\n",
      "median fast : 26.795414924087524\n",
      "median slow : 18.202573998460085\n"
     ]
    },
    {
     "name": "stderr",
     "output_type": "stream",
     "text": [
      " 32%|████████████████████████████████████▌                                                                            | 35/108 [01:50<04:08,  3.40s/it]"
     ]
    },
    {
     "name": "stdout",
     "output_type": "stream",
     "text": [
      "speed cutoffs: 23.84024198915677 26.66655160082922\n",
      "median fast : 29.41058988049422\n",
      "median slow : 21.91857226242925\n"
     ]
    },
    {
     "name": "stderr",
     "output_type": "stream",
     "text": [
      " 33%|█████████████████████████████████████▋                                                                           | 36/108 [01:53<03:43,  3.11s/it]"
     ]
    },
    {
     "name": "stdout",
     "output_type": "stream",
     "text": [
      "speed cutoffs: 23.84024198915677 26.66655160082922\n",
      "median fast : 29.41058988049422\n",
      "median slow : 21.91857226242925\n"
     ]
    },
    {
     "name": "stderr",
     "output_type": "stream",
     "text": [
      " 34%|██████████████████████████████████████▋                                                                          | 37/108 [01:57<03:56,  3.34s/it]"
     ]
    },
    {
     "name": "stdout",
     "output_type": "stream",
     "text": [
      "speed cutoffs: 23.84024198915677 26.66655160082922\n",
      "median fast : 29.41058988049422\n",
      "median slow : 21.91857226242925\n"
     ]
    },
    {
     "name": "stderr",
     "output_type": "stream",
     "text": [
      " 35%|███████████████████████████████████████▊                                                                         | 38/108 [02:01<04:25,  3.79s/it]"
     ]
    },
    {
     "name": "stdout",
     "output_type": "stream",
     "text": [
      "speed cutoffs: 22.947080329329687 28.790262782660335\n",
      "median fast : 29.84581459784649\n",
      "median slow : 19.454898751054472\n"
     ]
    },
    {
     "name": "stderr",
     "output_type": "stream",
     "text": [
      " 36%|████████████████████████████████████████▊                                                                        | 39/108 [02:06<04:32,  3.95s/it]"
     ]
    },
    {
     "name": "stdout",
     "output_type": "stream",
     "text": [
      "speed cutoffs: 22.947080329329687 28.790262782660335\n",
      "median fast : 29.84581459784649\n",
      "median slow : 19.454898751054472\n"
     ]
    },
    {
     "name": "stderr",
     "output_type": "stream",
     "text": [
      " 37%|█████████████████████████████████████████▊                                                                       | 40/108 [02:09<04:08,  3.65s/it]"
     ]
    },
    {
     "name": "stdout",
     "output_type": "stream",
     "text": [
      "speed cutoffs: 15.742996618898268 20.85896623214042\n",
      "median fast : 22.505702424056636\n",
      "median slow : 14.564364584047787\n"
     ]
    },
    {
     "name": "stderr",
     "output_type": "stream",
     "text": [
      " 38%|██████████████████████████████████████████▉                                                                      | 41/108 [02:11<03:47,  3.40s/it]"
     ]
    },
    {
     "name": "stdout",
     "output_type": "stream",
     "text": [
      "speed cutoffs: 19.017191644056936 23.632285277346632\n",
      "median fast : 24.324471711852716\n",
      "median slow : 18.39860328586802\n"
     ]
    },
    {
     "name": "stderr",
     "output_type": "stream",
     "text": [
      " 39%|███████████████████████████████████████████▉                                                                     | 42/108 [02:13<03:08,  2.86s/it]"
     ]
    },
    {
     "name": "stdout",
     "output_type": "stream",
     "text": [
      "speed cutoffs: 19.017191644056936 23.632285277346632\n",
      "median fast : 24.324471711852716\n",
      "median slow : 18.39860328586802\n"
     ]
    },
    {
     "name": "stderr",
     "output_type": "stream",
     "text": [
      " 40%|████████████████████████████████████████████▉                                                                    | 43/108 [02:16<03:13,  2.97s/it]"
     ]
    },
    {
     "name": "stdout",
     "output_type": "stream",
     "text": [
      "speed cutoffs: 19.017191644056936 23.632285277346632\n",
      "median fast : 24.324471711852716\n",
      "median slow : 18.39860328586802\n"
     ]
    },
    {
     "name": "stderr",
     "output_type": "stream",
     "text": [
      " 41%|██████████████████████████████████████████████                                                                   | 44/108 [02:20<03:23,  3.19s/it]"
     ]
    },
    {
     "name": "stdout",
     "output_type": "stream",
     "text": [
      "speed cutoffs: 19.017191644056936 23.632285277346632\n",
      "median fast : 24.324471711852716\n",
      "median slow : 18.39860328586802\n"
     ]
    },
    {
     "name": "stderr",
     "output_type": "stream",
     "text": [
      " 42%|███████████████████████████████████████████████                                                                  | 45/108 [02:25<03:51,  3.67s/it]"
     ]
    },
    {
     "name": "stdout",
     "output_type": "stream",
     "text": [
      "speed cutoffs: 19.017191644056936 23.632285277346632\n",
      "median fast : 24.324471711852716\n",
      "median slow : 18.39860328586802\n"
     ]
    },
    {
     "name": "stderr",
     "output_type": "stream",
     "text": [
      " 43%|████████████████████████████████████████████████▏                                                                | 46/108 [02:27<03:26,  3.32s/it]"
     ]
    },
    {
     "name": "stdout",
     "output_type": "stream",
     "text": [
      "speed cutoffs: 19.017191644056936 23.632285277346632\n",
      "median fast : 24.324471711852716\n",
      "median slow : 18.39860328586802\n"
     ]
    },
    {
     "name": "stderr",
     "output_type": "stream",
     "text": [
      " 44%|█████████████████████████████████████████████████▏                                                               | 47/108 [02:30<03:06,  3.06s/it]"
     ]
    },
    {
     "name": "stdout",
     "output_type": "stream",
     "text": [
      "speed cutoffs: 19.017191644056936 23.632285277346632\n",
      "median fast : 24.324471711852716\n",
      "median slow : 18.39860328586802\n"
     ]
    },
    {
     "name": "stderr",
     "output_type": "stream",
     "text": [
      " 44%|██████████████████████████████████████████████████▏                                                              | 48/108 [02:34<03:18,  3.30s/it]"
     ]
    },
    {
     "name": "stdout",
     "output_type": "stream",
     "text": [
      "speed cutoffs: 19.017191644056936 23.632285277346632\n",
      "median fast : 24.324471711852716\n",
      "median slow : 18.39860328586802\n"
     ]
    },
    {
     "name": "stderr",
     "output_type": "stream",
     "text": [
      " 45%|███████████████████████████████████████████████████▎                                                             | 49/108 [02:38<03:27,  3.51s/it]"
     ]
    },
    {
     "name": "stdout",
     "output_type": "stream",
     "text": [
      "speed cutoffs: 19.017191644056936 23.632285277346632\n",
      "median fast : 24.324471711852716\n",
      "median slow : 18.39860328586802\n"
     ]
    },
    {
     "name": "stderr",
     "output_type": "stream",
     "text": [
      " 46%|████████████████████████████████████████████████████▎                                                            | 50/108 [02:40<03:02,  3.15s/it]"
     ]
    },
    {
     "name": "stdout",
     "output_type": "stream",
     "text": [
      "speed cutoffs: 19.017191644056936 23.632285277346632\n",
      "median fast : 24.324471711852716\n",
      "median slow : 18.39860328586802\n"
     ]
    },
    {
     "name": "stderr",
     "output_type": "stream",
     "text": [
      " 47%|█████████████████████████████████████████████████████▎                                                           | 51/108 [02:43<03:05,  3.25s/it]"
     ]
    },
    {
     "name": "stdout",
     "output_type": "stream",
     "text": [
      "speed cutoffs: 19.017191644056936 23.632285277346632\n",
      "median fast : 24.324471711852716\n",
      "median slow : 18.39860328586802\n"
     ]
    },
    {
     "name": "stderr",
     "output_type": "stream",
     "text": [
      " 48%|██████████████████████████████████████████████████████▍                                                          | 52/108 [02:46<02:50,  3.04s/it]"
     ]
    },
    {
     "name": "stdout",
     "output_type": "stream",
     "text": [
      "speed cutoffs: 19.467262509125632 23.163306940421336\n",
      "median fast : 24.471254475553852\n",
      "median slow : 18.362198243063382\n"
     ]
    },
    {
     "name": "stderr",
     "output_type": "stream",
     "text": [
      " 49%|███████████████████████████████████████████████████████▍                                                         | 53/108 [02:48<02:29,  2.72s/it]"
     ]
    },
    {
     "name": "stdout",
     "output_type": "stream",
     "text": [
      "speed cutoffs: 19.467262509125632 23.163306940421336\n",
      "median fast : 24.471254475553852\n",
      "median slow : 18.362198243063382\n"
     ]
    },
    {
     "name": "stderr",
     "output_type": "stream",
     "text": [
      " 50%|████████████████████████████████████████████████████████▌                                                        | 54/108 [02:51<02:37,  2.91s/it]"
     ]
    },
    {
     "name": "stdout",
     "output_type": "stream",
     "text": [
      "speed cutoffs: 19.467262509125632 23.163306940421336\n",
      "median fast : 24.471254475553852\n",
      "median slow : 18.362198243063382\n"
     ]
    },
    {
     "name": "stderr",
     "output_type": "stream",
     "text": [
      " 51%|█████████████████████████████████████████████████████████▌                                                       | 55/108 [02:54<02:27,  2.79s/it]"
     ]
    },
    {
     "name": "stdout",
     "output_type": "stream",
     "text": [
      "speed cutoffs: 19.467262509125632 23.163306940421336\n",
      "median fast : 24.471254475553852\n",
      "median slow : 18.362198243063382\n"
     ]
    },
    {
     "name": "stderr",
     "output_type": "stream",
     "text": [
      " 52%|██████████████████████████████████████████████████████████▌                                                      | 56/108 [02:57<02:33,  2.96s/it]"
     ]
    },
    {
     "name": "stdout",
     "output_type": "stream",
     "text": [
      "speed cutoffs: 19.467262509125632 23.163306940421336\n",
      "median fast : 24.471254475553852\n",
      "median slow : 18.362198243063382\n"
     ]
    },
    {
     "name": "stderr",
     "output_type": "stream",
     "text": [
      " 53%|███████████████████████████████████████████████████████████▋                                                     | 57/108 [03:00<02:29,  2.92s/it]"
     ]
    },
    {
     "name": "stdout",
     "output_type": "stream",
     "text": [
      "speed cutoffs: 19.467262509125632 23.163306940421336\n",
      "median fast : 24.471254475553852\n",
      "median slow : 18.362198243063382\n"
     ]
    },
    {
     "name": "stderr",
     "output_type": "stream",
     "text": [
      " 54%|████████████████████████████████████████████████████████████▋                                                    | 58/108 [03:02<02:14,  2.70s/it]"
     ]
    },
    {
     "name": "stdout",
     "output_type": "stream",
     "text": [
      "speed cutoffs: 17.999699921884947 21.24939117217132\n",
      "median fast : 22.655672477043648\n",
      "median slow : 16.104155305994144\n"
     ]
    },
    {
     "name": "stderr",
     "output_type": "stream",
     "text": [
      " 55%|█████████████████████████████████████████████████████████████▋                                                   | 59/108 [03:06<02:27,  3.02s/it]"
     ]
    },
    {
     "name": "stdout",
     "output_type": "stream",
     "text": [
      "speed cutoffs: 17.999699921884947 21.24939117217132\n",
      "median fast : 22.655672477043648\n",
      "median slow : 16.104155305994144\n"
     ]
    },
    {
     "name": "stderr",
     "output_type": "stream",
     "text": [
      " 56%|██████████████████████████████████████████████████████████████▊                                                  | 60/108 [03:09<02:28,  3.09s/it]"
     ]
    },
    {
     "name": "stdout",
     "output_type": "stream",
     "text": [
      "speed cutoffs: 17.999699921884947 21.24939117217132\n",
      "median fast : 22.655672477043648\n",
      "median slow : 16.104155305994144\n"
     ]
    },
    {
     "name": "stderr",
     "output_type": "stream",
     "text": [
      " 56%|███████████████████████████████████████████████████████████████▊                                                 | 61/108 [03:12<02:24,  3.07s/it]"
     ]
    },
    {
     "name": "stdout",
     "output_type": "stream",
     "text": [
      "speed cutoffs: 17.999699921884947 21.24939117217132\n",
      "median fast : 22.655672477043648\n",
      "median slow : 16.104155305994144\n"
     ]
    },
    {
     "name": "stderr",
     "output_type": "stream",
     "text": [
      " 57%|████████████████████████████████████████████████████████████████▊                                                | 62/108 [03:15<02:11,  2.86s/it]"
     ]
    },
    {
     "name": "stdout",
     "output_type": "stream",
     "text": [
      "speed cutoffs: 18.84931309439388 21.72270217425778\n",
      "median fast : 22.78513484460268\n",
      "median slow : 17.418388449262412\n"
     ]
    },
    {
     "name": "stderr",
     "output_type": "stream",
     "text": [
      " 58%|█████████████████████████████████████████████████████████████████▉                                               | 63/108 [03:17<02:05,  2.80s/it]"
     ]
    },
    {
     "name": "stdout",
     "output_type": "stream",
     "text": [
      "speed cutoffs: 25.525154540672755 32.36554436219174\n",
      "median fast : 34.29506853494754\n",
      "median slow : 19.055471922391387\n"
     ]
    },
    {
     "name": "stderr",
     "output_type": "stream",
     "text": [
      " 59%|██████████████████████████████████████████████████████████████████▉                                              | 64/108 [03:20<01:58,  2.70s/it]"
     ]
    },
    {
     "name": "stdout",
     "output_type": "stream",
     "text": [
      "speed cutoffs: 20.67518374736442 24.235072690497006\n",
      "median fast : 26.678208357867035\n",
      "median slow : 20.27748755377611\n"
     ]
    },
    {
     "name": "stderr",
     "output_type": "stream",
     "text": [
      "/home/kevin/anaconda3/envs/DEEPLABCUT/lib/python3.8/site-packages/sklearn/neural_network/_multilayer_perceptron.py:614: ConvergenceWarning: Stochastic Optimizer: Maximum iterations (5000) reached and the optimization hasn't converged yet.\n",
      "  warnings.warn(\n",
      " 60%|████████████████████████████████████████████████████████████████████                                             | 65/108 [03:23<01:59,  2.77s/it]"
     ]
    },
    {
     "name": "stdout",
     "output_type": "stream",
     "text": [
      "speed cutoffs: 20.67518374736442 24.235072690497006\n",
      "median fast : 26.678208357867035\n",
      "median slow : 20.27748755377611\n"
     ]
    },
    {
     "name": "stderr",
     "output_type": "stream",
     "text": [
      "/home/kevin/anaconda3/envs/DEEPLABCUT/lib/python3.8/site-packages/sklearn/neural_network/_multilayer_perceptron.py:614: ConvergenceWarning: Stochastic Optimizer: Maximum iterations (5000) reached and the optimization hasn't converged yet.\n",
      "  warnings.warn(\n",
      " 61%|█████████████████████████████████████████████████████████████████████                                            | 66/108 [03:25<01:51,  2.65s/it]"
     ]
    },
    {
     "name": "stdout",
     "output_type": "stream",
     "text": [
      "speed cutoffs: 20.67518374736442 24.235072690497006\n",
      "median fast : 26.678208357867035\n",
      "median slow : 20.27748755377611\n"
     ]
    },
    {
     "name": "stderr",
     "output_type": "stream",
     "text": [
      " 62%|██████████████████████████████████████████████████████████████████████                                           | 67/108 [03:27<01:39,  2.43s/it]"
     ]
    },
    {
     "name": "stdout",
     "output_type": "stream",
     "text": [
      "speed cutoffs: 20.67518374736442 24.235072690497006\n",
      "median fast : 26.678208357867035\n",
      "median slow : 20.27748755377611\n"
     ]
    },
    {
     "name": "stderr",
     "output_type": "stream",
     "text": [
      " 63%|███████████████████████████████████████████████████████████████████████▏                                         | 68/108 [03:29<01:31,  2.29s/it]"
     ]
    },
    {
     "name": "stdout",
     "output_type": "stream",
     "text": [
      "speed cutoffs: 20.67518374736442 24.235072690497006\n",
      "median fast : 26.678208357867035\n",
      "median slow : 20.27748755377611\n"
     ]
    },
    {
     "name": "stderr",
     "output_type": "stream",
     "text": [
      "/home/kevin/anaconda3/envs/DEEPLABCUT/lib/python3.8/site-packages/sklearn/neural_network/_multilayer_perceptron.py:614: ConvergenceWarning: Stochastic Optimizer: Maximum iterations (5000) reached and the optimization hasn't converged yet.\n",
      "  warnings.warn(\n",
      " 64%|████████████████████████████████████████████████████████████████████████▏                                        | 69/108 [03:31<01:29,  2.30s/it]"
     ]
    },
    {
     "name": "stdout",
     "output_type": "stream",
     "text": [
      "speed cutoffs: 20.67518374736442 24.235072690497006\n",
      "median fast : 26.678208357867035\n",
      "median slow : 20.27748755377611\n"
     ]
    },
    {
     "name": "stderr",
     "output_type": "stream",
     "text": [
      "/home/kevin/anaconda3/envs/DEEPLABCUT/lib/python3.8/site-packages/sklearn/neural_network/_multilayer_perceptron.py:614: ConvergenceWarning: Stochastic Optimizer: Maximum iterations (5000) reached and the optimization hasn't converged yet.\n",
      "  warnings.warn(\n",
      " 65%|█████████████████████████████████████████████████████████████████████████▏                                       | 70/108 [03:33<01:20,  2.12s/it]"
     ]
    },
    {
     "name": "stdout",
     "output_type": "stream",
     "text": [
      "speed cutoffs: 20.67518374736442 24.235072690497006\n",
      "median fast : 26.678208357867035\n",
      "median slow : 20.27748755377611\n"
     ]
    },
    {
     "name": "stderr",
     "output_type": "stream",
     "text": [
      "/home/kevin/anaconda3/envs/DEEPLABCUT/lib/python3.8/site-packages/sklearn/neural_network/_multilayer_perceptron.py:614: ConvergenceWarning: Stochastic Optimizer: Maximum iterations (5000) reached and the optimization hasn't converged yet.\n",
      "  warnings.warn(\n",
      " 66%|██████████████████████████████████████████████████████████████████████████▎                                      | 71/108 [03:36<01:28,  2.38s/it]"
     ]
    },
    {
     "name": "stdout",
     "output_type": "stream",
     "text": [
      "speed cutoffs: 20.67518374736442 24.235072690497006\n",
      "median fast : 26.678208357867035\n",
      "median slow : 20.27748755377611\n"
     ]
    },
    {
     "name": "stderr",
     "output_type": "stream",
     "text": [
      "/home/kevin/anaconda3/envs/DEEPLABCUT/lib/python3.8/site-packages/sklearn/neural_network/_multilayer_perceptron.py:614: ConvergenceWarning: Stochastic Optimizer: Maximum iterations (5000) reached and the optimization hasn't converged yet.\n",
      "  warnings.warn(\n",
      " 67%|███████████████████████████████████████████████████████████████████████████▎                                     | 72/108 [03:39<01:33,  2.60s/it]"
     ]
    },
    {
     "name": "stdout",
     "output_type": "stream",
     "text": [
      "speed cutoffs: 23.295077560470986 29.227302022677065\n",
      "median fast : 31.048418107825142\n",
      "median slow : 21.490539338446812\n"
     ]
    },
    {
     "name": "stderr",
     "output_type": "stream",
     "text": [
      " 68%|████████████████████████████████████████████████████████████████████████████▍                                    | 73/108 [03:42<01:35,  2.73s/it]"
     ]
    },
    {
     "name": "stdout",
     "output_type": "stream",
     "text": [
      "speed cutoffs: 23.295077560470986 29.227302022677065\n",
      "median fast : 31.048418107825142\n",
      "median slow : 21.490539338446812\n"
     ]
    },
    {
     "name": "stderr",
     "output_type": "stream",
     "text": [
      " 69%|█████████████████████████████████████████████████████████████████████████████▍                                   | 74/108 [03:44<01:28,  2.61s/it]"
     ]
    },
    {
     "name": "stdout",
     "output_type": "stream",
     "text": [
      "speed cutoffs: 23.295077560470986 29.227302022677065\n",
      "median fast : 31.048418107825142\n",
      "median slow : 21.490539338446812\n"
     ]
    },
    {
     "name": "stderr",
     "output_type": "stream",
     "text": [
      " 69%|██████████████████████████████████████████████████████████████████████████████▍                                  | 75/108 [03:49<01:44,  3.16s/it]"
     ]
    },
    {
     "name": "stdout",
     "output_type": "stream",
     "text": [
      "speed cutoffs: 23.295077560470986 29.227302022677065\n",
      "median fast : 31.048418107825142\n",
      "median slow : 21.490539338446812\n"
     ]
    },
    {
     "name": "stderr",
     "output_type": "stream",
     "text": [
      " 70%|███████████████████████████████████████████████████████████████████████████████▌                                 | 76/108 [03:52<01:40,  3.14s/it]"
     ]
    },
    {
     "name": "stdout",
     "output_type": "stream",
     "text": [
      "speed cutoffs: 21.8007429351092 25.027719371853944\n",
      "median fast : 27.367093971035004\n",
      "median slow : 17.494085595687167\n"
     ]
    },
    {
     "name": "stderr",
     "output_type": "stream",
     "text": [
      " 71%|████████████████████████████████████████████████████████████████████████████████▌                                | 77/108 [03:53<01:22,  2.67s/it]"
     ]
    },
    {
     "name": "stdout",
     "output_type": "stream",
     "text": [
      "speed cutoffs: 21.8007429351092 25.027719371853944\n",
      "median fast : 27.367093971035004\n",
      "median slow : 17.494085595687167\n"
     ]
    },
    {
     "name": "stderr",
     "output_type": "stream",
     "text": [
      " 72%|█████████████████████████████████████████████████████████████████████████████████▌                               | 78/108 [03:55<01:10,  2.35s/it]"
     ]
    },
    {
     "name": "stdout",
     "output_type": "stream",
     "text": [
      "speed cutoffs: 21.8007429351092 25.027719371853944\n",
      "median fast : 27.367093971035004\n",
      "median slow : 17.494085595687167\n"
     ]
    },
    {
     "name": "stderr",
     "output_type": "stream",
     "text": [
      " 73%|██████████████████████████████████████████████████████████████████████████████████▋                              | 79/108 [03:58<01:10,  2.42s/it]"
     ]
    },
    {
     "name": "stdout",
     "output_type": "stream",
     "text": [
      "speed cutoffs: 21.29403032534183 25.940426548983336\n",
      "median fast : 28.661479575965416\n",
      "median slow : 18.77565482477809\n"
     ]
    },
    {
     "name": "stderr",
     "output_type": "stream",
     "text": [
      " 74%|███████████████████████████████████████████████████████████████████████████████████▋                             | 80/108 [03:59<01:02,  2.22s/it]"
     ]
    },
    {
     "name": "stdout",
     "output_type": "stream",
     "text": [
      "speed cutoffs: 21.29403032534183 25.940426548983336\n",
      "median fast : 28.661479575965416\n",
      "median slow : 18.77565482477809\n"
     ]
    },
    {
     "name": "stderr",
     "output_type": "stream",
     "text": [
      " 75%|████████████████████████████████████████████████████████████████████████████████████▊                            | 81/108 [04:03<01:09,  2.58s/it]"
     ]
    },
    {
     "name": "stdout",
     "output_type": "stream",
     "text": [
      "speed cutoffs: 21.29403032534183 25.940426548983336\n",
      "median fast : 28.661479575965416\n",
      "median slow : 18.77565482477809\n"
     ]
    },
    {
     "name": "stderr",
     "output_type": "stream",
     "text": [
      " 76%|█████████████████████████████████████████████████████████████████████████████████████▊                           | 82/108 [04:05<01:04,  2.47s/it]"
     ]
    },
    {
     "name": "stdout",
     "output_type": "stream",
     "text": [
      "speed cutoffs: 21.29403032534183 25.940426548983336\n",
      "median fast : 28.661479575965416\n",
      "median slow : 18.77565482477809\n"
     ]
    },
    {
     "name": "stderr",
     "output_type": "stream",
     "text": [
      " 77%|██████████████████████████████████████████████████████████████████████████████████████▊                          | 83/108 [04:08<01:04,  2.60s/it]"
     ]
    },
    {
     "name": "stdout",
     "output_type": "stream",
     "text": [
      "speed cutoffs: 22.90097538231882 25.70547000487163\n",
      "median fast : 27.176297267704022\n",
      "median slow : 21.704572225108997\n"
     ]
    },
    {
     "name": "stderr",
     "output_type": "stream",
     "text": [
      " 78%|███████████████████████████████████████████████████████████████████████████████████████▉                         | 84/108 [04:11<01:06,  2.76s/it]"
     ]
    },
    {
     "name": "stdout",
     "output_type": "stream",
     "text": [
      "speed cutoffs: 22.90097538231882 25.70547000487163\n",
      "median fast : 27.176297267704022\n",
      "median slow : 21.704572225108997\n"
     ]
    },
    {
     "name": "stderr",
     "output_type": "stream",
     "text": [
      " 79%|████████████████████████████████████████████████████████████████████████████████████████▉                        | 85/108 [04:15<01:10,  3.09s/it]"
     ]
    },
    {
     "name": "stdout",
     "output_type": "stream",
     "text": [
      "speed cutoffs: 30.878994060689738 36.20925964776512\n",
      "median fast : 40.41707721617545\n",
      "median slow : 28.85334817037657\n"
     ]
    },
    {
     "name": "stderr",
     "output_type": "stream",
     "text": [
      " 80%|█████████████████████████████████████████████████████████████████████████████████████████▉                       | 86/108 [04:16<00:57,  2.60s/it]"
     ]
    },
    {
     "name": "stdout",
     "output_type": "stream",
     "text": [
      "speed cutoffs: 30.878994060689738 36.20925964776512\n",
      "median fast : 40.41707721617545\n",
      "median slow : 28.85334817037657\n"
     ]
    },
    {
     "name": "stderr",
     "output_type": "stream",
     "text": [
      " 81%|███████████████████████████████████████████████████████████████████████████████████████████                      | 87/108 [04:19<00:52,  2.49s/it]"
     ]
    },
    {
     "name": "stdout",
     "output_type": "stream",
     "text": [
      "speed cutoffs: 25.272932724392234 30.96699176594872\n",
      "median fast : 34.450796873896195\n",
      "median slow : 24.28303173039245\n"
     ]
    },
    {
     "name": "stderr",
     "output_type": "stream",
     "text": [
      " 81%|████████████████████████████████████████████████████████████████████████████████████████████                     | 88/108 [04:22<00:55,  2.75s/it]"
     ]
    },
    {
     "name": "stdout",
     "output_type": "stream",
     "text": [
      "speed cutoffs: 29.70560395419296 35.272986253430105\n",
      "median fast : 37.548753474999415\n",
      "median slow : 28.479932076919173\n"
     ]
    },
    {
     "name": "stderr",
     "output_type": "stream",
     "text": [
      " 82%|█████████████████████████████████████████████████████████████████████████████████████████████                    | 89/108 [04:24<00:49,  2.63s/it]"
     ]
    },
    {
     "name": "stdout",
     "output_type": "stream",
     "text": [
      "speed cutoffs: 29.70560395419296 35.272986253430105\n",
      "median fast : 37.548753474999415\n",
      "median slow : 28.479932076919173\n"
     ]
    },
    {
     "name": "stderr",
     "output_type": "stream",
     "text": [
      " 83%|██████████████████████████████████████████████████████████████████████████████████████████████▏                  | 90/108 [04:27<00:46,  2.58s/it]"
     ]
    },
    {
     "name": "stdout",
     "output_type": "stream",
     "text": [
      "speed cutoffs: 29.70560395419296 35.272986253430105\n",
      "median fast : 37.548753474999415\n",
      "median slow : 28.479932076919173\n"
     ]
    },
    {
     "name": "stderr",
     "output_type": "stream",
     "text": [
      " 84%|███████████████████████████████████████████████████████████████████████████████████████████████▏                 | 91/108 [04:30<00:48,  2.87s/it]"
     ]
    },
    {
     "name": "stdout",
     "output_type": "stream",
     "text": [
      "speed cutoffs: 29.70560395419296 35.272986253430105\n",
      "median fast : 37.548753474999415\n",
      "median slow : 28.479932076919173\n"
     ]
    },
    {
     "name": "stderr",
     "output_type": "stream",
     "text": [
      " 85%|████████████████████████████████████████████████████████████████████████████████████████████████▎                | 92/108 [04:34<00:48,  3.01s/it]"
     ]
    },
    {
     "name": "stdout",
     "output_type": "stream",
     "text": [
      "speed cutoffs: 29.70560395419296 35.272986253430105\n",
      "median fast : 37.548753474999415\n",
      "median slow : 28.479932076919173\n"
     ]
    },
    {
     "name": "stderr",
     "output_type": "stream",
     "text": [
      " 86%|█████████████████████████████████████████████████████████████████████████████████████████████████▎               | 93/108 [04:36<00:44,  2.94s/it]"
     ]
    },
    {
     "name": "stdout",
     "output_type": "stream",
     "text": [
      "speed cutoffs: 24.51187621102544 29.46549318414814\n",
      "median fast : 32.94052068585694\n",
      "median slow : 22.64561477587227\n"
     ]
    },
    {
     "name": "stderr",
     "output_type": "stream",
     "text": [
      " 87%|██████████████████████████████████████████████████████████████████████████████████████████████████▎              | 94/108 [04:39<00:39,  2.82s/it]"
     ]
    },
    {
     "name": "stdout",
     "output_type": "stream",
     "text": [
      "speed cutoffs: 24.51187621102544 29.46549318414814\n",
      "median fast : 32.94052068585694\n",
      "median slow : 22.64561477587227\n"
     ]
    },
    {
     "name": "stderr",
     "output_type": "stream",
     "text": [
      " 88%|███████████████████████████████████████████████████████████████████████████████████████████████████▍             | 95/108 [04:42<00:36,  2.82s/it]"
     ]
    },
    {
     "name": "stdout",
     "output_type": "stream",
     "text": [
      "speed cutoffs: 24.51187621102544 29.46549318414814\n",
      "median fast : 32.94052068585694\n",
      "median slow : 22.64561477587227\n"
     ]
    },
    {
     "name": "stderr",
     "output_type": "stream",
     "text": [
      " 89%|████████████████████████████████████████████████████████████████████████████████████████████████████▍            | 96/108 [04:44<00:29,  2.47s/it]"
     ]
    },
    {
     "name": "stdout",
     "output_type": "stream",
     "text": [
      "speed cutoffs: 24.51187621102544 29.46549318414814\n",
      "median fast : 32.94052068585694\n",
      "median slow : 22.64561477587227\n"
     ]
    },
    {
     "name": "stderr",
     "output_type": "stream",
     "text": [
      " 90%|█████████████████████████████████████████████████████████████████████████████████████████████████████▍           | 97/108 [04:46<00:28,  2.57s/it]"
     ]
    },
    {
     "name": "stdout",
     "output_type": "stream",
     "text": [
      "speed cutoffs: 24.51187621102544 29.46549318414814\n",
      "median fast : 32.94052068585694\n",
      "median slow : 22.64561477587227\n"
     ]
    },
    {
     "name": "stderr",
     "output_type": "stream",
     "text": [
      " 91%|██████████████████████████████████████████████████████████████████████████████████████████████████████▌          | 98/108 [04:49<00:25,  2.52s/it]"
     ]
    },
    {
     "name": "stdout",
     "output_type": "stream",
     "text": [
      "speed cutoffs: 24.51187621102544 29.46549318414814\n",
      "median fast : 32.94052068585694\n",
      "median slow : 22.64561477587227\n"
     ]
    },
    {
     "name": "stderr",
     "output_type": "stream",
     "text": [
      " 92%|███████████████████████████████████████████████████████████████████████████████████████████████████████▌         | 99/108 [04:52<00:25,  2.84s/it]"
     ]
    },
    {
     "name": "stdout",
     "output_type": "stream",
     "text": [
      "speed cutoffs: 24.260639194554802 28.392460408978355\n",
      "median fast : 31.129150937584\n",
      "median slow : 22.972185716160524\n"
     ]
    },
    {
     "name": "stderr",
     "output_type": "stream",
     "text": [
      " 93%|███████████████████████████████████████████████████████████████████████████████████████████████████████▋        | 100/108 [04:56<00:24,  3.10s/it]"
     ]
    },
    {
     "name": "stdout",
     "output_type": "stream",
     "text": [
      "speed cutoffs: 24.260639194554802 28.392460408978355\n",
      "median fast : 31.129150937584\n",
      "median slow : 22.972185716160524\n"
     ]
    },
    {
     "name": "stderr",
     "output_type": "stream",
     "text": [
      " 94%|████████████████████████████████████████████████████████████████████████████████████████████████████████▋       | 101/108 [05:00<00:23,  3.34s/it]"
     ]
    },
    {
     "name": "stdout",
     "output_type": "stream",
     "text": [
      "speed cutoffs: 24.260639194554802 28.392460408978355\n",
      "median fast : 31.129150937584\n",
      "median slow : 22.972185716160524\n"
     ]
    },
    {
     "name": "stderr",
     "output_type": "stream",
     "text": [
      " 94%|█████████████████████████████████████████████████████████████████████████████████████████████████████████▊      | 102/108 [05:05<00:22,  3.82s/it]"
     ]
    },
    {
     "name": "stdout",
     "output_type": "stream",
     "text": [
      "speed cutoffs: 24.260639194554802 28.392460408978355\n",
      "median fast : 31.129150937584\n",
      "median slow : 22.972185716160524\n"
     ]
    },
    {
     "name": "stderr",
     "output_type": "stream",
     "text": [
      " 95%|██████████████████████████████████████████████████████████████████████████████████████████████████████████▊     | 103/108 [05:10<00:20,  4.09s/it]"
     ]
    },
    {
     "name": "stdout",
     "output_type": "stream",
     "text": [
      "speed cutoffs: 26.410469806360503 31.047059617373325\n",
      "median fast : 34.1366170709496\n",
      "median slow : 24.634674283571705\n"
     ]
    },
    {
     "name": "stderr",
     "output_type": "stream",
     "text": [
      " 96%|███████████████████████████████████████████████████████████████████████████████████████████████████████████▊    | 104/108 [05:12<00:14,  3.70s/it]"
     ]
    },
    {
     "name": "stdout",
     "output_type": "stream",
     "text": [
      "speed cutoffs: 26.410469806360503 31.047059617373325\n",
      "median fast : 34.1366170709496\n",
      "median slow : 24.634674283571705\n"
     ]
    },
    {
     "name": "stderr",
     "output_type": "stream",
     "text": [
      " 97%|████████████████████████████████████████████████████████████████████████████████████████████████████████████▉   | 105/108 [05:15<00:10,  3.48s/it]"
     ]
    },
    {
     "name": "stdout",
     "output_type": "stream",
     "text": [
      "speed cutoffs: 26.410469806360503 31.047059617373325\n",
      "median fast : 34.1366170709496\n",
      "median slow : 24.634674283571705\n"
     ]
    },
    {
     "name": "stderr",
     "output_type": "stream",
     "text": [
      " 98%|█████████████████████████████████████████████████████████████████████████████████████████████████████████████▉  | 106/108 [05:18<00:06,  3.10s/it]"
     ]
    },
    {
     "name": "stdout",
     "output_type": "stream",
     "text": [
      "speed cutoffs: 26.410469806360503 31.047059617373325\n",
      "median fast : 34.1366170709496\n",
      "median slow : 24.634674283571705\n"
     ]
    },
    {
     "name": "stderr",
     "output_type": "stream",
     "text": [
      " 99%|██████████████████████████████████████████████████████████████████████████████████████████████████████████████▉ | 107/108 [05:20<00:03,  3.02s/it]"
     ]
    },
    {
     "name": "stdout",
     "output_type": "stream",
     "text": [
      "speed cutoffs: 26.410469806360503 31.047059617373325\n",
      "median fast : 34.1366170709496\n",
      "median slow : 24.634674283571705\n"
     ]
    },
    {
     "name": "stderr",
     "output_type": "stream",
     "text": [
      "100%|████████████████████████████████████████████████████████████████████████████████████████████████████████████████| 108/108 [05:24<00:00,  3.01s/it]\n"
     ]
    }
   ],
   "source": [
    "res = pd.DataFrame()\n",
    "for cellId in tqdm(searchFields.cellId[searchFields.light==\"dark\"].unique()):\n",
    "    res = pd.concat([res,field_IFR_prediction(cellId,light,pathType,myProjectWithTrials,sSesList,\n",
    "                    behavioralVariables=[[\"distance\"],[\"iTime\"]])])\n",
    "res.index = np.arange(len(res.cellId))"
   ]
  },
  {
   "cell_type": "code",
   "execution_count": 25,
   "id": "44340ec1-d4cd-4114-9918-5b4c7e74c584",
   "metadata": {},
   "outputs": [
    {
     "data": {
      "text/plain": [
       "0      124.022327\n",
       "1       91.020364\n",
       "2       48.223374\n",
       "3       70.942657\n",
       "4      211.426741\n",
       "          ...    \n",
       "103    125.665102\n",
       "104    268.367078\n",
       "105    138.296642\n",
       "106    117.251711\n",
       "107    277.681102\n",
       "Name: distance_mse_test, Length: 108, dtype: float64"
      ]
     },
     "execution_count": 25,
     "metadata": {},
     "output_type": "execute_result"
    }
   ],
   "source": []
  },
  {
   "cell_type": "code",
   "execution_count": 36,
   "id": "6fd54c9a-963f-4d88-8bca-2da2a0d4f8f0",
   "metadata": {},
   "outputs": [],
   "source": [
    "from scipy.stats import wilcoxon\n",
    "\n",
    "def mse_plot(ax,refVar,var,res,myDict,maxVal=500):\n",
    "    \"\"\"\n",
    "    Plot the mean square error of two models against each other\n",
    "    \"\"\"\n",
    "    dx=res[\"{}_mse_test\".format(refVar)]\n",
    "    dy=res[\"{}_mse_test\".format(var)]\n",
    "    ax.scatter(dx,dy,s=5)\n",
    "    ax.set_xlabel(myDict[refVar][\"name\"])\n",
    "    ax.set_ylabel(myDict[var][\"name\"])\n",
    "    ax.set_xlim(0,maxVal)\n",
    "    ax.set_ylim(0,maxVal)\n",
    "    ax.spines['top'].set_visible(False)\n",
    "    ax.spines['right'].set_visible(False)\n",
    "    ax.plot([0,maxVal],[0,maxVal],color=\"grey\",linestyle=\"--\")\n",
    "    st,pval = wilcoxon(dx-dy)\n",
    "    median = np.median(dx-dy)\n",
    "    ax.text(50,400,\"p: {:.02}\".format(pval))\n",
    "    ax.text(50,450,\"median: {:.02f}\".format(median))"
   ]
  },
  {
   "cell_type": "code",
   "execution_count": 37,
   "id": "21d870ce-cb78-41e1-8c2f-5263045fb8c3",
   "metadata": {},
   "outputs": [
    {
     "data": {
      "image/png": "[encoded data removed]",
      "text/plain": [
       "<Figure size 432x288 with 1 Axes>"
      ]
     },
     "metadata": {
      "needs_background": "light"
     },
     "output_type": "display_data"
    }
   ],
   "source": [
    "myDict={\"distanceProp\":{\"name\":\"MSE Distance (prop.)\"},\n",
    "       \"y\":{\"name\":\"MSE Y coordinates (cm)\"},\n",
    "        \"x\":{\"name\":\"MSE X coordinates (cm)\"},\n",
    "        \"x-y\":{\"name\":\"MSE X-Y coordinates (cm)\"},\n",
    "       \"iTime\":{\"name\":\"MSE Time (sec)\"},\n",
    "       \"targetDistance\":{\"name\":\"MSE Lever distance (cm)\"},\n",
    "       \"distance\":{\"name\":\"MSE Distance (cm)\"}}\n",
    "\n",
    "fig,ax = plt.subplots(1,1)\n",
    "mse_plot(ax,\"distance\",\"iTime\",res,myDict)"
   ]
  },
  {
   "cell_type": "code",
   "execution_count": null,
   "id": "be5a45d8-b2da-40b8-9eea-662b44cfff30",
   "metadata": {},
   "outputs": [],
   "source": []
  }
 ],
 "metadata": {
  "kernelspec": {
   "display_name": "Python [conda env:DEEPLABCUT] *",
   "language": "python",
   "name": "conda-env-DEEPLABCUT-py"
  },
  "language_info": {
   "codemirror_mode": {
    "name": "ipython",
    "version": 3
   },
   "file_extension": ".py",
   "mimetype": "text/x-python",
   "name": "python",
   "nbconvert_exporter": "python",
   "pygments_lexer": "ipython3",
   "version": "3.8.10"
  }
 },
 "nbformat": 4,
 "nbformat_minor": 5
}
