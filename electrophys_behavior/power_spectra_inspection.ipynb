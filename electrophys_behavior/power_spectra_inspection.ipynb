{
 "cells": [
  {
   "cell_type": "markdown",
   "id": "1006a341-f006-4b07-bd05-e9c5f62370d5",
   "metadata": {},
   "source": [
    "# Power spectra to inspect .dat files and data integrity\n",
    "\n",
    "This script can be used to look at the beginning and end of .dat files to make sure that the files are not corrupted (e.g., unplugged cable, faulty amplifiers, etc.).\n",
    "\n",
    "We create a pdf file with power spectrum of every channel, using the beginning and end of each .dat files. The results is displayed as a 2D image.\n",
    "In the hippocampus, we expect a peak near 8 Hz (theta).\n",
    "\n",
    "I also display 1 sec of data at the beginning and end of each channel."
   ]
  },
  {
   "cell_type": "code",
   "execution_count": 2,
   "id": "84779412-7ca1-438d-b9b5-e8d532133dfe",
   "metadata": {},
   "outputs": [
    {
     "name": "stdout",
     "output_type": "stream",
     "text": [
      "Project name: autopi_ca1\n",
      "dataPath: /adata/projects/autopi_ca1\n",
      "dlcModelPath: /adata/models\n",
      "Reading /adata/projects/autopi_ca1/sessionList\n",
      "We have 36 testing sessions in the list\n",
      "See myProject and sSesList objects\n",
      "autpipy sessions: 36, spikeA sessions: 36\n"
     ]
    }
   ],
   "source": [
    "%load_ext autoreload\n",
    "%autoreload 2\n",
    "\n",
    "import sys\n",
    "from PyPDF2 import PdfFileReader, PdfFileWriter\n",
    "\n",
    "\n",
    "from spikeA.Dat_file_reader import Dat_file_reader\n",
    "from scipy import signal\n",
    "# This sets up our session lists\n",
    "%run setup_project.py\n",
    "print(\"autpipy sessions: {}, spikeA sessions: {}\".format(len(myProject.sessionList),len(sSesList)))"
   ]
  },
  {
   "cell_type": "code",
   "execution_count": 3,
   "id": "a29ce6e9-3273-4b19-9c12-50fd53d02bb6",
   "metadata": {},
   "outputs": [],
   "source": [
    "def prepareSpikeASession(sSes):\n",
    "    sSes.load_parameters_from_files() \n",
    "for sSes in sSesList:\n",
    "    prepareSpikeASession(sSes)"
   ]
  },
  {
   "cell_type": "code",
   "execution_count": 4,
   "id": "aa4b5200-66f6-41b7-8ff6-9136c34163a2",
   "metadata": {},
   "outputs": [
    {
     "name": "stdout",
     "output_type": "stream",
     "text": [
      "30 sessions are local to a230-pc73\n"
     ]
    }
   ],
   "source": [
    "sSesLocal = get_local_sessions(sSesList)\n",
    "ip=socket.gethostname()\n",
    "print(\"{} sessions are local to {}\".format(len(sSesLocal),ip))"
   ]
  },
  {
   "cell_type": "markdown",
   "id": "500b4776-0292-4f53-a6eb-a6f74022713d",
   "metadata": {},
   "source": [
    "There is one function to calculate the power spectra and get 1 sec of data to display. \n",
    "There are two functions to display the results.\n",
    "There is one function to merge pdf files."
   ]
  },
  {
   "cell_type": "code",
   "execution_count": 53,
   "id": "cf2cea95-b9c6-4c12-86fd-6a7eada405ab",
   "metadata": {},
   "outputs": [],
   "source": [
    "def calculate_power_spectra (sSes,nfft = 2**15,data_length_sec = 120):\n",
    "    \"\"\"\n",
    "    Function to calculate power spectrum for the beginning and end of each .dat files\n",
    "    \n",
    "    The power spectra are returned in a np.array[files,channels,beg-end,frequencies]\n",
    "    \n",
    "    Arguments:\n",
    "    sSes: spikeA session\n",
    "    nfft: length of the data segment that goes into the fft\n",
    "    data_length_sec: how much data to include from the beginning or from the end\n",
    "    \n",
    "    Returns:\n",
    "    dat_files: names of the .dat files used \n",
    "    f: 1D np.array with frequencies\n",
    "    res: 4D np.arrays with power spectra\n",
    "    sig: 4D np.array with 1 second of signal from beginn or from the end\n",
    "    \"\"\"\n",
    "    sampling_rate=int(sSes.sampling_rate)\n",
    "    data_length = sampling_rate*data_length_sec\n",
    "    dat_files = sSes.file_names[\"dat\"]\n",
    "    dfr = Dat_file_reader(dat_files,sSes.n_channels)\n",
    "    \n",
    "    ind = dfr.get_file_duration_seconds()>data_length_sec\n",
    "    if np.sum(~ind) > 0:\n",
    "        print(\" {} is smaller than {} sec, length: {}\".format(list(compress(dat_files, ~ind)),data_length_sec,dfr.get_file_duration_seconds()[~ind]))\n",
    "        # recreate the dfr object without offending file\n",
    "        dat_files=list(compress(dat_files, ind))\n",
    "        dfr = Dat_file_reader(dat_files,sSes.n_channels)\n",
    "    \n",
    "    beg,end = dfr.get_first_last_samples_each_file()\n",
    "    channels= np.arange(sSes.n_channels-1) # get one channel per probe from channel_map\n",
    "\n",
    "    # array with [files,channels,beg-end,frequencies]\n",
    "    res = np.empty((len(dat_files),channels.shape[0],2,int(nfft/2+1)))\n",
    "    sig = np.empty((len(dat_files),channels.shape[0],2,int(sampling_rate)))\n",
    "\n",
    "    for i,(b,e) in tqdm(enumerate(zip(beg,end))):\n",
    "        # get the beginning ps\n",
    "        dat = dfr.get_data_one_block(b,b+data_length,channels)\n",
    "        for j in range(channels.shape[0]):\n",
    "            f, Pxx_den = signal.periodogram(dat[j,:], sampling_rate, nfft=nfft, scaling=\"spectrum\")\n",
    "            res[i,j,0,:]=Pxx_den/np.max(Pxx_den)\n",
    "            sig[i,j,0,:]=dat[j,0:sampling_rate]\n",
    "        # get the end ps\n",
    "        dat = dfr.get_data_one_block(e-data_length,e,channels)\n",
    "        for j in range(channels.shape[0]):\n",
    "            f, Pxx_den = signal.periodogram(dat[j,:], sampling_rate, nfft=nfft, scaling=\"spectrum\")\n",
    "            res[i,j,1,:]=Pxx_den/np.max(Pxx_den)\n",
    "            sig[i,j,1,:]=dat[j,data_length-sampling_rate:data_length]\n",
    "    return dat_files, f, res, sig\n",
    "\n",
    "def power_spectra_plot(sSes,res,f,dat_files,min_freq=0.2,max_freq=100):\n",
    "    \n",
    "    col= 2\n",
    "    row=len(dat_files)\n",
    "    sizePerCol=6.0\n",
    "    sizePerRow=3.0\n",
    "    channels= np.arange(sSes.n_channels-1) # get one channel per probe from channel_map\n",
    "    \n",
    "    fig = plt.figure(figsize=(col*sizePerCol,row*sizePerRow),constrained_layout=False) # create the overall figure to put all the axes on\n",
    "    gs = fig.add_gridspec(nrows=row, ncols=col,\n",
    "                            wspace=0.2,hspace=0.5)\n",
    "    freq_indices = np.logical_and(f>min_freq,f<max_freq)\n",
    "    extent = [np.min(f[freq_indices]) , np.max(f[freq_indices]),0 , res.shape[1]]\n",
    "\n",
    "    fn = sSes.path+\"/channel_map.npy\"\n",
    "    channel_map = np.load(fn)\n",
    "   \n",
    "    for i in range(len(dat_files)):\n",
    "        for j in range(2):\n",
    "            ax = fig.add_subplot(gs[i,j])\n",
    "            ax.imshow(res[i,channel_map,j,freq_indices],cmap=\"jet\",aspect=\"auto\",extent=extent)\n",
    "            ax.set_xlabel(\"Frequency (Hz)\")\n",
    "            ax.set_ylabel(\"Channel\")\n",
    "            if j == 0:\n",
    "                ax.set_title(sSes.trial_names[i]+\".dat beginning\")\n",
    "            else:\n",
    "                ax.set_title(sSes.trial_names[i]+\".dat end\")\n",
    "    fn=sSes.path+\"/inspect_power_spectra.pdf\"\n",
    "    print(\"Saving figure to \"+fn)\n",
    "    plt.savefig(fn)\n",
    "    plt.close()\n",
    "    #plt.show()\n",
    "    return fn\n",
    "\n",
    "def signal_plot(sSes,sig,dat_files):\n",
    "    \n",
    "    col= 2\n",
    "    row=len(dat_files)\n",
    "    sizePerCol=6.0\n",
    "    sizePerRow=3.0\n",
    "    channels= np.arange(sSes.n_channels-1) # get one channel per probe from channel_map\n",
    "    \n",
    "    fig = plt.figure(figsize=(col*sizePerCol,row*sizePerRow),constrained_layout=False) # create the overall figure to put all the axes on\n",
    "\n",
    "\n",
    "    gs = fig.add_gridspec(nrows=row, ncols=col,\n",
    "                            wspace=0.2,hspace=0.5)\n",
    "    extent = [0 , sig.shape[-1],0/sSes.sampling_rate , len(channels)]\n",
    "    \n",
    "    fn = sSes.path+\"/channel_map.npy\"\n",
    "    channel_map = np.load(fn).flatten()\n",
    "    \n",
    "    for i in range(len(dat_files)):\n",
    "        for j in range(2):\n",
    "            ax = fig.add_subplot(gs[i,j])\n",
    "            ax.imshow(sig[i,channel_map,j,:],cmap=\"jet\",aspect=\"auto\",extent=extent)\n",
    "            ax.set_xlabel(\"Time\")\n",
    "            ax.set_ylabel(\"Channel\")\n",
    "            if j == 0:\n",
    "                ax.set_title(sSes.trial_names[i]+\".dat beginning\")\n",
    "            else:\n",
    "                ax.set_title(sSes.trial_names[i]+\".dat end\")\n",
    "    fn=sSes.path+\"/inspect_signal.pdf\"\n",
    "    print(\"Saving figure to \"+fn)\n",
    "    plt.savefig(fn)\n",
    "    plt.close()\n",
    "   # plt.show()\n",
    "    return fn\n",
    "\n",
    "\n",
    "def merge_pdf_files(input_files,output_file):\n",
    "    \"\"\"\n",
    "    Merge some pdf files into 1\n",
    "    \n",
    "    Arguments\n",
    "    input_files: list of file names to merge\n",
    "    output_file: file names to save the merged pdf file\n",
    "    \"\"\"\n",
    "    input_streams = []\n",
    "    print(output_file)\n",
    "    try:\n",
    "        # First open all the files, then produce the output file, and\n",
    "        # finally close the input files. This is necessary because\n",
    "        # the data isn't read from the input files until the write\n",
    "        # operation. Thanks to\n",
    "        # https://stackoverflow.com/questions/6773631/problem-with-closing-python-pypdf-writing-getting-a-valueerror-i-o-operation/6773733#6773733\n",
    "        output_stream = open(output_file,\"bw\")\n",
    "        for input_file in input_files:\n",
    "            input_streams.append(open(input_file, 'rb'))\n",
    "        writer = PdfFileWriter()\n",
    "        for reader in map(PdfFileReader, input_streams):\n",
    "            for n in range(reader.getNumPages()):\n",
    "                writer.addPage(reader.getPage(n))\n",
    "        writer.write(output_stream)\n",
    "    finally:\n",
    "        for f in input_streams:\n",
    "            f.close()\n",
    "        output_stream.close()\n",
    "\n",
    "def inspect_spectra_signal(sSes):\n",
    "    dat_files,f, res,sig = calculate_power_spectra(sSes)\n",
    "    fn1=power_spectra_plot(sSes,res,f,dat_files)\n",
    "    fn2 = signal_plot(sSes,sig,dat_files)\n",
    "    merge_pdf_files([fn1,fn2],sSes.path+\"/inspect_summary.pdf\")    "
   ]
  },
  {
   "cell_type": "code",
   "execution_count": 54,
   "id": "53d0b519-6a5f-43cb-8a56-f9d4a2555ac8",
   "metadata": {},
   "outputs": [
    {
     "name": "stdout",
     "output_type": "stream",
     "text": [
      "/adata/projects/autopi_ca1/mn5824/mn5824-22112020-0107\n"
     ]
    },
    {
     "name": "stderr",
     "output_type": "stream",
     "text": [
      "7it [00:03,  2.21it/s]\n"
     ]
    },
    {
     "name": "stdout",
     "output_type": "stream",
     "text": [
      "Saving figure to /adata/projects/autopi_ca1/mn5824/mn5824-22112020-0107/inspect_power_spectra.pdf\n",
      "Saving figure to /adata/projects/autopi_ca1/mn5824/mn5824-22112020-0107/inspect_signal.pdf\n",
      "/adata/projects/autopi_ca1/mn5824/mn5824-22112020-0107/inspect_summary.pdf\n"
     ]
    }
   ],
   "source": [
    "sSes = sSesLocal[1]\n",
    "print(sSes.path)\n",
    "inspect_spectra_signal(sSes)"
   ]
  },
  {
   "cell_type": "code",
   "execution_count": 55,
   "id": "3fd8859a-4bc4-4e0c-8d29-37966f58b62e",
   "metadata": {},
   "outputs": [
    {
     "name": "stdout",
     "output_type": "stream",
     "text": [
      "CPU times: user 1 µs, sys: 0 ns, total: 1 µs\n",
      "Wall time: 2.86 µs\n",
      "0 mn5824-20112020-0107\n"
     ]
    },
    {
     "name": "stderr",
     "output_type": "stream",
     "text": [
      "7it [00:03,  1.83it/s]\n"
     ]
    },
    {
     "name": "stdout",
     "output_type": "stream",
     "text": [
      "Saving figure to /adata/projects/autopi_ca1/mn5824/mn5824-20112020-0107/inspect_power_spectra.pdf\n",
      "Saving figure to /adata/projects/autopi_ca1/mn5824/mn5824-20112020-0107/inspect_signal.pdf\n",
      "/adata/projects/autopi_ca1/mn5824/mn5824-20112020-0107/inspect_summary.pdf\n",
      "1 mn5824-22112020-0107\n"
     ]
    },
    {
     "name": "stderr",
     "output_type": "stream",
     "text": [
      "7it [00:03,  2.23it/s]\n"
     ]
    },
    {
     "name": "stdout",
     "output_type": "stream",
     "text": [
      "Saving figure to /adata/projects/autopi_ca1/mn5824/mn5824-22112020-0107/inspect_power_spectra.pdf\n",
      "Saving figure to /adata/projects/autopi_ca1/mn5824/mn5824-22112020-0107/inspect_signal.pdf\n",
      "/adata/projects/autopi_ca1/mn5824/mn5824-22112020-0107/inspect_summary.pdf\n",
      "2 mn5824-24112020-0107\n"
     ]
    },
    {
     "name": "stderr",
     "output_type": "stream",
     "text": [
      "7it [00:13,  1.87s/it]\n"
     ]
    },
    {
     "name": "stdout",
     "output_type": "stream",
     "text": [
      "Saving figure to /adata/projects/autopi_ca1/mn5824/mn5824-24112020-0107/inspect_power_spectra.pdf\n",
      "Saving figure to /adata/projects/autopi_ca1/mn5824/mn5824-24112020-0107/inspect_signal.pdf\n",
      "/adata/projects/autopi_ca1/mn5824/mn5824-24112020-0107/inspect_summary.pdf\n",
      "3 mn5824-02122020-0106\n"
     ]
    },
    {
     "name": "stderr",
     "output_type": "stream",
     "text": [
      "6it [00:12,  2.05s/it]\n"
     ]
    },
    {
     "name": "stdout",
     "output_type": "stream",
     "text": [
      "Saving figure to /adata/projects/autopi_ca1/mn5824/mn5824-02122020-0106/inspect_power_spectra.pdf\n",
      "Saving figure to /adata/projects/autopi_ca1/mn5824/mn5824-02122020-0106/inspect_signal.pdf\n",
      "/adata/projects/autopi_ca1/mn5824/mn5824-02122020-0106/inspect_summary.pdf\n",
      "4 mn711-28012021-0106\n",
      " ['/adata/projects/autopi_ca1/mn711/mn711-28012021-0106/mn711-28012021_06.dat'] is smaller than 120 sec, length: [41.99995]\n"
     ]
    },
    {
     "name": "stderr",
     "output_type": "stream",
     "text": [
      "5it [00:22,  4.56s/it]\n"
     ]
    },
    {
     "name": "stdout",
     "output_type": "stream",
     "text": [
      "Saving figure to /adata/projects/autopi_ca1/mn711/mn711-28012021-0106/inspect_power_spectra.pdf\n",
      "Saving figure to /adata/projects/autopi_ca1/mn711/mn711-28012021-0106/inspect_signal.pdf\n",
      "/adata/projects/autopi_ca1/mn711/mn711-28012021-0106/inspect_summary.pdf\n",
      "5 mn711-30012021-0106\n"
     ]
    },
    {
     "name": "stderr",
     "output_type": "stream",
     "text": [
      "6it [00:26,  4.47s/it]\n"
     ]
    },
    {
     "name": "stdout",
     "output_type": "stream",
     "text": [
      "Saving figure to /adata/projects/autopi_ca1/mn711/mn711-30012021-0106/inspect_power_spectra.pdf\n",
      "Saving figure to /adata/projects/autopi_ca1/mn711/mn711-30012021-0106/inspect_signal.pdf\n",
      "/adata/projects/autopi_ca1/mn711/mn711-30012021-0106/inspect_summary.pdf\n",
      "6 mn711-31012021-0107\n"
     ]
    },
    {
     "name": "stderr",
     "output_type": "stream",
     "text": [
      "7it [00:31,  4.51s/it]\n"
     ]
    },
    {
     "name": "stdout",
     "output_type": "stream",
     "text": [
      "Saving figure to /adata/projects/autopi_ca1/mn711/mn711-31012021-0107/inspect_power_spectra.pdf\n",
      "Saving figure to /adata/projects/autopi_ca1/mn711/mn711-31012021-0107/inspect_signal.pdf\n",
      "/adata/projects/autopi_ca1/mn711/mn711-31012021-0107/inspect_summary.pdf\n",
      "7 mn711-01022021-0107\n"
     ]
    },
    {
     "name": "stderr",
     "output_type": "stream",
     "text": [
      "7it [00:31,  4.49s/it]\n"
     ]
    },
    {
     "name": "stdout",
     "output_type": "stream",
     "text": [
      "Saving figure to /adata/projects/autopi_ca1/mn711/mn711-01022021-0107/inspect_power_spectra.pdf\n",
      "Saving figure to /adata/projects/autopi_ca1/mn711/mn711-01022021-0107/inspect_signal.pdf\n",
      "/adata/projects/autopi_ca1/mn711/mn711-01022021-0107/inspect_summary.pdf\n",
      "8 mn711-02022021-0108\n"
     ]
    },
    {
     "name": "stderr",
     "output_type": "stream",
     "text": [
      "8it [00:36,  4.57s/it]\n"
     ]
    },
    {
     "name": "stdout",
     "output_type": "stream",
     "text": [
      "Saving figure to /adata/projects/autopi_ca1/mn711/mn711-02022021-0108/inspect_power_spectra.pdf\n",
      "Saving figure to /adata/projects/autopi_ca1/mn711/mn711-02022021-0108/inspect_signal.pdf\n",
      "/adata/projects/autopi_ca1/mn711/mn711-02022021-0108/inspect_summary.pdf\n",
      "9 mn711-03022021-0107\n"
     ]
    },
    {
     "name": "stderr",
     "output_type": "stream",
     "text": [
      "7it [00:31,  4.57s/it]\n"
     ]
    },
    {
     "name": "stdout",
     "output_type": "stream",
     "text": [
      "Saving figure to /adata/projects/autopi_ca1/mn711/mn711-03022021-0107/inspect_power_spectra.pdf\n",
      "Saving figure to /adata/projects/autopi_ca1/mn711/mn711-03022021-0107/inspect_signal.pdf\n",
      "/adata/projects/autopi_ca1/mn711/mn711-03022021-0107/inspect_summary.pdf\n",
      "10 mn711-04022021-0107\n"
     ]
    },
    {
     "name": "stderr",
     "output_type": "stream",
     "text": [
      "7it [00:31,  4.53s/it]\n"
     ]
    },
    {
     "name": "stdout",
     "output_type": "stream",
     "text": [
      "Saving figure to /adata/projects/autopi_ca1/mn711/mn711-04022021-0107/inspect_power_spectra.pdf\n",
      "Saving figure to /adata/projects/autopi_ca1/mn711/mn711-04022021-0107/inspect_signal.pdf\n",
      "/adata/projects/autopi_ca1/mn711/mn711-04022021-0107/inspect_summary.pdf\n",
      "11 mn2739-11022021-0107\n"
     ]
    },
    {
     "name": "stderr",
     "output_type": "stream",
     "text": [
      "7it [00:32,  4.67s/it]\n"
     ]
    },
    {
     "name": "stdout",
     "output_type": "stream",
     "text": [
      "Saving figure to /adata/projects/autopi_ca1/mn2739/mn2739-11022021-0107/inspect_power_spectra.pdf\n",
      "Saving figure to /adata/projects/autopi_ca1/mn2739/mn2739-11022021-0107/inspect_signal.pdf\n",
      "/adata/projects/autopi_ca1/mn2739/mn2739-11022021-0107/inspect_summary.pdf\n",
      "12 mn2739-15022021-0105\n",
      " ['/adata/projects/autopi_ca1/mn2739/mn2739-15022021-0105/mn2739-15022021_05.dat'] is smaller than 120 sec, length: [83.99995]\n"
     ]
    },
    {
     "name": "stderr",
     "output_type": "stream",
     "text": [
      "4it [00:19,  4.96s/it]\n"
     ]
    },
    {
     "name": "stdout",
     "output_type": "stream",
     "text": [
      "Saving figure to /adata/projects/autopi_ca1/mn2739/mn2739-15022021-0105/inspect_power_spectra.pdf\n",
      "Saving figure to /adata/projects/autopi_ca1/mn2739/mn2739-15022021-0105/inspect_signal.pdf\n",
      "/adata/projects/autopi_ca1/mn2739/mn2739-15022021-0105/inspect_summary.pdf\n",
      "13 mn2739-16022021-0106\n"
     ]
    },
    {
     "name": "stderr",
     "output_type": "stream",
     "text": [
      "6it [00:29,  4.84s/it]\n"
     ]
    },
    {
     "name": "stdout",
     "output_type": "stream",
     "text": [
      "Saving figure to /adata/projects/autopi_ca1/mn2739/mn2739-16022021-0106/inspect_power_spectra.pdf\n",
      "Saving figure to /adata/projects/autopi_ca1/mn2739/mn2739-16022021-0106/inspect_signal.pdf\n",
      "/adata/projects/autopi_ca1/mn2739/mn2739-16022021-0106/inspect_summary.pdf\n",
      "14 mn2739-17022021-0106\n"
     ]
    },
    {
     "name": "stderr",
     "output_type": "stream",
     "text": [
      "6it [00:29,  4.94s/it]\n"
     ]
    },
    {
     "name": "stdout",
     "output_type": "stream",
     "text": [
      "Saving figure to /adata/projects/autopi_ca1/mn2739/mn2739-17022021-0106/inspect_power_spectra.pdf\n",
      "Saving figure to /adata/projects/autopi_ca1/mn2739/mn2739-17022021-0106/inspect_signal.pdf\n",
      "/adata/projects/autopi_ca1/mn2739/mn2739-17022021-0106/inspect_summary.pdf\n",
      "15 mn2739-21022021-0106\n"
     ]
    },
    {
     "name": "stderr",
     "output_type": "stream",
     "text": [
      "6it [00:30,  5.16s/it]\n"
     ]
    },
    {
     "name": "stdout",
     "output_type": "stream",
     "text": [
      "Saving figure to /adata/projects/autopi_ca1/mn2739/mn2739-21022021-0106/inspect_power_spectra.pdf\n",
      "Saving figure to /adata/projects/autopi_ca1/mn2739/mn2739-21022021-0106/inspect_signal.pdf\n",
      "/adata/projects/autopi_ca1/mn2739/mn2739-21022021-0106/inspect_summary.pdf\n",
      "16 mn3246-09042021-0106\n"
     ]
    },
    {
     "name": "stderr",
     "output_type": "stream",
     "text": [
      "6it [00:36,  6.09s/it]\n"
     ]
    },
    {
     "name": "stdout",
     "output_type": "stream",
     "text": [
      "Saving figure to /adata/projects/autopi_ca1/mn3246/mn3246-09042021-0106/inspect_power_spectra.pdf\n",
      "Saving figure to /adata/projects/autopi_ca1/mn3246/mn3246-09042021-0106/inspect_signal.pdf\n",
      "/adata/projects/autopi_ca1/mn3246/mn3246-09042021-0106/inspect_summary.pdf\n",
      "17 mn3246-10042021-0106\n"
     ]
    },
    {
     "name": "stderr",
     "output_type": "stream",
     "text": [
      "6it [00:37,  6.20s/it]\n"
     ]
    },
    {
     "name": "stdout",
     "output_type": "stream",
     "text": [
      "Saving figure to /adata/projects/autopi_ca1/mn3246/mn3246-10042021-0106/inspect_power_spectra.pdf\n",
      "Saving figure to /adata/projects/autopi_ca1/mn3246/mn3246-10042021-0106/inspect_signal.pdf\n",
      "/adata/projects/autopi_ca1/mn3246/mn3246-10042021-0106/inspect_summary.pdf\n",
      "18 mn3246-12042021-0106\n"
     ]
    },
    {
     "name": "stderr",
     "output_type": "stream",
     "text": [
      "6it [00:38,  6.38s/it]\n"
     ]
    },
    {
     "name": "stdout",
     "output_type": "stream",
     "text": [
      "Saving figure to /adata/projects/autopi_ca1/mn3246/mn3246-12042021-0106/inspect_power_spectra.pdf\n",
      "Saving figure to /adata/projects/autopi_ca1/mn3246/mn3246-12042021-0106/inspect_signal.pdf\n",
      "/adata/projects/autopi_ca1/mn3246/mn3246-12042021-0106/inspect_summary.pdf\n",
      "19 mn3246-14042021-0106\n"
     ]
    },
    {
     "name": "stderr",
     "output_type": "stream",
     "text": [
      "6it [00:39,  6.54s/it]\n"
     ]
    },
    {
     "name": "stdout",
     "output_type": "stream",
     "text": [
      "Saving figure to /adata/projects/autopi_ca1/mn3246/mn3246-14042021-0106/inspect_power_spectra.pdf\n",
      "Saving figure to /adata/projects/autopi_ca1/mn3246/mn3246-14042021-0106/inspect_signal.pdf\n",
      "/adata/projects/autopi_ca1/mn3246/mn3246-14042021-0106/inspect_summary.pdf\n",
      "20 mn1173-02052021-0107\n"
     ]
    },
    {
     "name": "stderr",
     "output_type": "stream",
     "text": [
      "7it [01:04,  9.24s/it]\n"
     ]
    },
    {
     "name": "stdout",
     "output_type": "stream",
     "text": [
      "Saving figure to /adata/projects/autopi_ca1/mn1173/mn1173-02052021-0107/inspect_power_spectra.pdf\n",
      "Saving figure to /adata/projects/autopi_ca1/mn1173/mn1173-02052021-0107/inspect_signal.pdf\n",
      "/adata/projects/autopi_ca1/mn1173/mn1173-02052021-0107/inspect_summary.pdf\n",
      "21 mn1173-06052021-0107\n"
     ]
    },
    {
     "name": "stderr",
     "output_type": "stream",
     "text": [
      "7it [01:06,  9.54s/it]\n"
     ]
    },
    {
     "name": "stdout",
     "output_type": "stream",
     "text": [
      "Saving figure to /adata/projects/autopi_ca1/mn1173/mn1173-06052021-0107/inspect_power_spectra.pdf\n",
      "Saving figure to /adata/projects/autopi_ca1/mn1173/mn1173-06052021-0107/inspect_signal.pdf\n",
      "/adata/projects/autopi_ca1/mn1173/mn1173-06052021-0107/inspect_summary.pdf\n",
      "22 mn1173-08052021-0107\n"
     ]
    },
    {
     "name": "stderr",
     "output_type": "stream",
     "text": [
      "7it [01:07,  9.57s/it]\n"
     ]
    },
    {
     "name": "stdout",
     "output_type": "stream",
     "text": [
      "Saving figure to /adata/projects/autopi_ca1/mn1173/mn1173-08052021-0107/inspect_power_spectra.pdf\n",
      "Saving figure to /adata/projects/autopi_ca1/mn1173/mn1173-08052021-0107/inspect_signal.pdf\n",
      "/adata/projects/autopi_ca1/mn1173/mn1173-08052021-0107/inspect_summary.pdf\n",
      "23 mn1173-09052021-0108\n"
     ]
    },
    {
     "name": "stderr",
     "output_type": "stream",
     "text": [
      "8it [01:16,  9.52s/it]\n"
     ]
    },
    {
     "name": "stdout",
     "output_type": "stream",
     "text": [
      "Saving figure to /adata/projects/autopi_ca1/mn1173/mn1173-09052021-0108/inspect_power_spectra.pdf\n",
      "Saving figure to /adata/projects/autopi_ca1/mn1173/mn1173-09052021-0108/inspect_signal.pdf\n",
      "/adata/projects/autopi_ca1/mn1173/mn1173-09052021-0108/inspect_summary.pdf\n",
      "24 mn1173-11052021-0108\n"
     ]
    },
    {
     "name": "stderr",
     "output_type": "stream",
     "text": [
      "8it [01:21, 10.24s/it]\n"
     ]
    },
    {
     "name": "stdout",
     "output_type": "stream",
     "text": [
      "Saving figure to /adata/projects/autopi_ca1/mn1173/mn1173-11052021-0108/inspect_power_spectra.pdf\n",
      "Saving figure to /adata/projects/autopi_ca1/mn1173/mn1173-11052021-0108/inspect_signal.pdf\n",
      "/adata/projects/autopi_ca1/mn1173/mn1173-11052021-0108/inspect_summary.pdf\n",
      "25 mn5618-07072021-0107\n"
     ]
    },
    {
     "name": "stderr",
     "output_type": "stream",
     "text": [
      "7it [01:21, 11.67s/it]\n"
     ]
    },
    {
     "name": "stdout",
     "output_type": "stream",
     "text": [
      "Saving figure to /adata/projects/autopi_ca1/mn5618/mn5618-07072021-0107/inspect_power_spectra.pdf\n",
      "Saving figure to /adata/projects/autopi_ca1/mn5618/mn5618-07072021-0107/inspect_signal.pdf\n",
      "/adata/projects/autopi_ca1/mn5618/mn5618-07072021-0107/inspect_summary.pdf\n",
      "26 mn5618-09072021-0106\n"
     ]
    },
    {
     "name": "stderr",
     "output_type": "stream",
     "text": [
      "6it [01:10, 11.83s/it]\n"
     ]
    },
    {
     "name": "stdout",
     "output_type": "stream",
     "text": [
      "Saving figure to /adata/projects/autopi_ca1/mn5618/mn5618-09072021-0106/inspect_power_spectra.pdf\n",
      "Saving figure to /adata/projects/autopi_ca1/mn5618/mn5618-09072021-0106/inspect_signal.pdf\n",
      "/adata/projects/autopi_ca1/mn5618/mn5618-09072021-0106/inspect_summary.pdf\n",
      "27 TYY5622-07092021-0106\n"
     ]
    },
    {
     "name": "stderr",
     "output_type": "stream",
     "text": [
      "6it [01:05, 10.92s/it]\n"
     ]
    },
    {
     "name": "stdout",
     "output_type": "stream",
     "text": [
      "Saving figure to /adata/projects/autopi_ca1/TYY5622/TYY5622-07092021-0106/inspect_power_spectra.pdf\n",
      "Saving figure to /adata/projects/autopi_ca1/TYY5622/TYY5622-07092021-0106/inspect_signal.pdf\n",
      "/adata/projects/autopi_ca1/TYY5622/TYY5622-07092021-0106/inspect_summary.pdf\n",
      "28 TYY5622-17092021-0106\n"
     ]
    },
    {
     "name": "stderr",
     "output_type": "stream",
     "text": [
      "6it [00:56,  9.44s/it]\n"
     ]
    },
    {
     "name": "stdout",
     "output_type": "stream",
     "text": [
      "Saving figure to /adata/projects/autopi_ca1/TYY5622/TYY5622-17092021-0106/inspect_power_spectra.pdf\n",
      "Saving figure to /adata/projects/autopi_ca1/TYY5622/TYY5622-17092021-0106/inspect_signal.pdf\n",
      "/adata/projects/autopi_ca1/TYY5622/TYY5622-17092021-0106/inspect_summary.pdf\n",
      "29 TYY5622-20092021-0106\n"
     ]
    },
    {
     "name": "stderr",
     "output_type": "stream",
     "text": [
      "6it [00:57,  9.58s/it]\n"
     ]
    },
    {
     "name": "stdout",
     "output_type": "stream",
     "text": [
      "Saving figure to /adata/projects/autopi_ca1/TYY5622/TYY5622-20092021-0106/inspect_power_spectra.pdf\n",
      "Saving figure to /adata/projects/autopi_ca1/TYY5622/TYY5622-20092021-0106/inspect_signal.pdf\n",
      "/adata/projects/autopi_ca1/TYY5622/TYY5622-20092021-0106/inspect_summary.pdf\n"
     ]
    }
   ],
   "source": [
    "for i,sSes in enumerate(sSesLocal[:]): # the last few sessions\n",
    "    print(i,sSes.name)\n",
    "    inspect_spectra_signal(sSes)"
   ]
  },
  {
   "cell_type": "markdown",
   "id": "42615d36-9800-4a4b-a310-087c1fed625b",
   "metadata": {},
   "source": [
    "# Merge the results\n",
    "\n",
    "We will merge the inspect_summary.pdf of all sessions into a big one."
   ]
  },
  {
   "cell_type": "code",
   "execution_count": 11,
   "id": "8b7eb860-9a30-4248-93a0-fd2af1743cb9",
   "metadata": {},
   "outputs": [
    {
     "data": {
      "text/plain": [
       "[True,\n",
       " True,\n",
       " True,\n",
       " True,\n",
       " True,\n",
       " True,\n",
       " True,\n",
       " True,\n",
       " True,\n",
       " True,\n",
       " True,\n",
       " True,\n",
       " True,\n",
       " True,\n",
       " True,\n",
       " True,\n",
       " True,\n",
       " True,\n",
       " True,\n",
       " True,\n",
       " True,\n",
       " True,\n",
       " True,\n",
       " True,\n",
       " True,\n",
       " True,\n",
       " True,\n",
       " True,\n",
       " True,\n",
       " True]"
      ]
     },
     "execution_count": 11,
     "metadata": {},
     "output_type": "execute_result"
    }
   ],
   "source": [
    "[os.path.exists(s.path+\"/inspect_summary.pdf\") for s in sSesLocal]"
   ]
  },
  {
   "cell_type": "code",
   "execution_count": 12,
   "id": "c8b920ed-7de3-48b5-b2df-0cd61865e9c8",
   "metadata": {},
   "outputs": [
    {
     "name": "stdout",
     "output_type": "stream",
     "text": [
      "/adata/projects/autopi_ca1/results/inspect_summary.pdf\n"
     ]
    }
   ],
   "source": [
    "input_files = [s.path+\"/inspect_summary.pdf\" for s in sSesList]\n",
    "output_file = myProject.dataPath+\"/results/inspect_summary.pdf\"\n",
    "merge_pdf_files(input_files,output_file)"
   ]
  },
  {
   "cell_type": "code",
   "execution_count": null,
   "id": "b9dd8eb3-4ff8-4a8d-af4d-58352afbfba5",
   "metadata": {},
   "outputs": [],
   "source": []
  }
 ],
 "metadata": {
  "kernelspec": {
   "display_name": "Python [conda env:DEEPLABCUT] *",
   "language": "python",
   "name": "conda-env-DEEPLABCUT-py"
  },
  "language_info": {
   "codemirror_mode": {
    "name": "ipython",
    "version": 3
   },
   "file_extension": ".py",
   "mimetype": "text/x-python",
   "name": "python",
   "nbconvert_exporter": "python",
   "pygments_lexer": "ipython3",
   "version": "3.8.10"
  }
 },
 "nbformat": 4,
 "nbformat_minor": 5
}
