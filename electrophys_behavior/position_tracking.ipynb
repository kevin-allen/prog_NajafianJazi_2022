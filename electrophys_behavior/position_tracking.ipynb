{
 "cells": [
  {
   "cell_type": "markdown",
   "metadata": {},
   "source": [
    "# Position tracking\n",
    "\n",
    "The classes for object (arena, bridge, mouse lever) detections are in the autopipy package.\n",
    "\n",
    "There are a few steps in this procedure to go from the raw video of the arena to the position of the animal. \n",
    "\n",
    "Steps with the `arena_top.avi` file\n",
    "\n",
    "* Detect the bridge and arena in arena_top.avi\n",
    "* Crop the arena_top.avi to 480x480\n",
    "\n",
    "Steps with the cropped video\n",
    "\n",
    "* Detect arena in cropped video\n",
    "* Detect bridge in cropped video\n",
    "* Detect the mouse and lever in cropped video\n",
    "\n",
    "There is a jupyter notebook in `autopi_analysis/kevin/autopipy_dev_notebooks` in which all the steps for a single session are performed separately. This is a good place to go if you have problems running the analysis on one session.\n",
    "\n",
    "Below is the code to run the analysis on several sessions. \n",
    "\n",
    "It takes approximately **30 minutes per session** with a decent GPU. You can of course run different sessions on different GPU to speed up the process.\n",
    "\n",
    "You will need to run this code from a DLC-GPU virtual environment."
   ]
  },
  {
   "cell_type": "code",
   "execution_count": 1,
   "metadata": {},
   "outputs": [
    {
     "name": "stdout",
     "output_type": "stream",
     "text": [
      "DLC loaded in light mode; you cannot use any GUI (labeling, relabeling and standalone GUI)\n"
     ]
    }
   ],
   "source": [
    "%load_ext autoreload\n",
    "%autoreload 2\n",
    "import os\n",
    "os.environ[\"DLClight\"]=\"True\" # if you don't need dlb gui\n",
    "import cv2\n",
    "import numpy as np\n",
    "import pandas as pd\n",
    "import matplotlib.pyplot as plt\n",
    "from PIL import Image\n",
    "import os.path\n",
    "import autopipy\n",
    "import importlib\n",
    "from autopipy.project import Project\n",
    "from autopipy.video_utilities import positionTrackingFromArenaTopVideo\n",
    "%matplotlib inline"
   ]
  },
  {
   "cell_type": "markdown",
   "metadata": {},
   "source": [
    "Let's get our project with the list of sessions"
   ]
  },
  {
   "cell_type": "code",
   "execution_count": 2,
   "metadata": {},
   "outputs": [
    {
     "name": "stdout",
     "output_type": "stream",
     "text": [
      "Project name: autopi_ca1\n",
      "dataPath: /adata/projects/autopi_ca1\n",
      "dlcModelPath: /adata/models\n",
      "Reading /adata/projects/autopi_ca1/sessionList\n",
      "We have 40 testing sessions in the list\n"
     ]
    }
   ],
   "source": [
    "projectName=\"autopi_ca1\"\n",
    "dataPath=\"/adata/projects/autopi_ca1\"\n",
    "dlcModelPath=\"/adata/models\"\n",
    "bridgeModel1 =\"bridgeDetection_640_480-Allen-2021-02-10\"\n",
    "mouseLeverModel =\"arena_top-Allen-2019-10-30\"\n",
    "bridgeModel2 = \"bridgeDetection_480_480-Allen-2021-01-23\"\n",
    "arenaMinRadius= 190\n",
    "arenaMaxRadius= 260\n",
    "\n",
    "\n",
    "myProject = Project(name=projectName,dataPath=dataPath,dlcModelPath=dlcModelPath)\n",
    "fn=myProject.dataPath+\"/sessionList\"\n",
    "print(\"Reading \" + fn)\n",
    "sessionNames = pd.read_csv(fn) # this will be a pandas dataframe\n",
    "print(\"We have {} testing sessions in the list\".format(len(sessionNames)))\n",
    "myProject.createSessionList(sessionNameList=sessionNames.sessionName.to_list()) "
   ]
  },
  {
   "cell_type": "markdown",
   "metadata": {},
   "source": [
    "The function doing all the video processing and object tracking is in the file `video_utilities.py` of the `autopipy` package. \n",
    "The function is called `positionTrackingFromArenaTopVideo`.\n",
    "It relies on a 3 trained deeplabcut models to detect \n",
    "\n",
    "* 1) the bridge in 680x480 videos\n",
    "* 2) the mouse and lever in 480x480 videos\n",
    "* 3) the bridge in 480x480 videos\n",
    "\n",
    "You can set the path where these models are found and the name of the deeplabcut models via the function arguments.\n"
   ]
  },
  {
   "cell_type": "markdown",
   "metadata": {},
   "source": [
    "## Retraining dlc models\n",
    "\n",
    "Because we are using a different recording setup, I had to retrain the DLC networks to get good performance.\n",
    "\n",
    "### Bridge 680x480\n",
    "\n",
    "For bridge detection, the first few frames are very unreliable. There are session in which the bridge is not visible at the beginning. We will select random frames instead.\n",
    "\n",
    "I chose 50 random frames from 5 randomly picked sessions and labelled some frames."
   ]
  },
  {
   "cell_type": "code",
   "execution_count": 3,
   "metadata": {},
   "outputs": [
    {
     "name": "stdout",
     "output_type": "stream",
     "text": [
      "/adata/projects/autopi_ca1/mn711/mn711-30012021-0106/mn711-30012021-0106.arena_top.avi\n",
      "/adata/projects/autopi_ca1/mn711/mn711-04022021-0107/mn711-04022021-0107.arena_top.avi\n",
      "/adata/projects/autopi_ca1/mn1173/mn1173-02052021-0107/mn1173-02052021-0107.arena_top.avi\n",
      "/adata/projects/autopi_ca1/mn5618/mn5618-07072021-0107/mn5618-07072021-0107.arena_top.avi\n",
      "Merged video: /home/kevin/Downloads/electroAutopiVideo.avi\n"
     ]
    }
   ],
   "source": [
    "ofn= \"/home/kevin/Downloads/electroAutopiVideo.avi\"\n",
    "fps=30\n",
    "inWidth=640\n",
    "inHeight=480\n",
    "nSelect=50\n",
    "\n",
    "out = cv2.VideoWriter(ofn, cv2.VideoWriter_fourcc(*'MJPG'), fps, (inWidth,inHeight)) \n",
    "\n",
    "for i in 5,10,20,30: # arbitrary selected indices for sessions\n",
    "    ses = myProject.sessionList[i]\n",
    "    ifn = ses.fileNames[\"arena_top.avi\"]\n",
    "    print(ifn)\n",
    "    if not os.path.exists(ifn):\n",
    "        print(\"file missing\")\n",
    "        \n",
    "    cap = cv2.VideoCapture(ifn)\n",
    "    fps = int (cap.get(cv2.CAP_PROP_FPS))\n",
    "    width = int (cap.get(cv2.CAP_PROP_FRAME_WIDTH))\n",
    "    height = int (cap.get(cv2.CAP_PROP_FRAME_HEIGHT))\n",
    "    nFrames = int(cap.get(cv2.CAP_PROP_FRAME_COUNT))\n",
    "    \n",
    "    selectIndices = np.sort(np.random.randint(0,nFrames-1,nSelect))\n",
    "    \n",
    "    # get random frames\n",
    "    for i in selectIndices:\n",
    "        cap.set(cv2.CAP_PROP_POS_FRAMES,i)\n",
    "        ret, frame = cap.read()\n",
    "        out.write(frame)\n",
    "    cap.release() \n",
    "    \n",
    "out.release()\n",
    "print(\"Merged video:\",ofn)"
   ]
  },
  {
   "cell_type": "markdown",
   "metadata": {},
   "source": [
    "I then added /home/kevin/Downloads/electroAutopiVideo.avi to the dlc project, labelled the frames, and retrained."
   ]
  },
  {
   "cell_type": "markdown",
   "metadata": {},
   "source": [
    "## Arena detection\n",
    "\n",
    "We also had problems with the arena detection in the 640x480 arena top videos. This was affecting the first 6 sessions of the project."
   ]
  },
  {
   "cell_type": "code",
   "execution_count": 3,
   "metadata": {},
   "outputs": [
    {
     "data": {
      "text/plain": [
       "44"
      ]
     },
     "execution_count": 3,
     "metadata": {},
     "output_type": "execute_result"
    }
   ],
   "source": [
    "len(myProject.sessionList)"
   ]
  },
  {
   "cell_type": "code",
   "execution_count": 5,
   "metadata": {},
   "outputs": [
    {
     "name": "stdout",
     "output_type": "stream",
     "text": [
      "0 /adata/projects/autopi_ca1/mn9686/mn9686-01112021-0106/mn9686-01112021-0106.arena_top.avi\n",
      "[234 244 222]\n",
      "labelImage: /adata/projects/autopi_ca1/mn9686/mn9686-01112021-0106/arenaDetection.png\n"
     ]
    },
    {
     "data": {
      "image/png": "[encoded data removed]",
      "text/plain": [
       "<Figure size 432x288 with 1 Axes>"
      ]
     },
     "metadata": {
      "needs_background": "light"
     },
     "output_type": "display_data"
    }
   ],
   "source": [
    "from autopipy.cvObjectDetectors import ArenaDetector\n",
    "\n",
    "for i,ses in enumerate(myProject.sessionList[43:]):\n",
    "    videoFile = ses.fileNames[\"arena_top.avi\"] #Nice trick to get file names using a dict\n",
    "    arenaImageFile=ses.path+\"/arenaDetection.png\"\n",
    "    print(i, videoFile)\n",
    "    arenaMinRadius=140 # 190 for most sessions\n",
    "    arenaMaxRadius=230\n",
    "    numFramesArenaDetection=100\n",
    "    arenaCircleMethod=\"median\"\n",
    "    arenaD = ArenaDetector()\n",
    "    aCoord = arenaD.detectArenaCoordinates(pathVideoFile=videoFile, minRadius=arenaMinRadius, \n",
    "                                  maxRadius=arenaMaxRadius, numFrames=numFramesArenaDetection, blur=11, circleMethod=arenaCircleMethod)\n",
    "    print(aCoord)\n",
    "    arenaD.labelImage(pathVideoFile=videoFile,outputImageFile=arenaImageFile)\n",
    "    im = Image.open(arenaImageFile)\n",
    "    plt.imshow(im)\n",
    "    plt.show()\n"
   ]
  },
  {
   "cell_type": "markdown",
   "metadata": {},
   "source": [
    "Arena detection of masked video"
   ]
  },
  {
   "cell_type": "code",
   "execution_count": 6,
   "metadata": {},
   "outputs": [
    {
     "name": "stdout",
     "output_type": "stream",
     "text": [
      "0 /adata/projects/autopi_ca1/mn9686/mn9686-01112021-0106/mn9686-01112021-0106.arena_top.cropped.avi\n",
      "/adata/projects/autopi_ca1/mn9686/mn9686-01112021-0106/mn9686-01112021-0106.arena_top.cropped.avi does not exist\n",
      "False\n",
      "/adata/projects/autopi_ca1/mn9686/mn9686-01112021-0106/mn9686-01112021-0106.arena_top.cropped.avi does not exist\n"
     ]
    },
    {
     "ename": "FileNotFoundError",
     "evalue": "[Errno 2] No such file or directory: '/adata/projects/autopi_ca1/mn9686/mn9686-01112021-0106/arenaDetectionCropped.png'",
     "output_type": "error",
     "traceback": [
      "\u001b[0;31m---------------------------------------------------------------------------\u001b[0m",
      "\u001b[0;31mFileNotFoundError\u001b[0m                         Traceback (most recent call last)",
      "\u001b[0;32m/tmp/ipykernel_63804/2601798198.py\u001b[0m in \u001b[0;36m<module>\u001b[0;34m\u001b[0m\n\u001b[1;32m     14\u001b[0m     \u001b[0mprint\u001b[0m\u001b[0;34m(\u001b[0m\u001b[0maCoord\u001b[0m\u001b[0;34m)\u001b[0m\u001b[0;34m\u001b[0m\u001b[0;34m\u001b[0m\u001b[0m\n\u001b[1;32m     15\u001b[0m     \u001b[0marenaD\u001b[0m\u001b[0;34m.\u001b[0m\u001b[0mlabelImage\u001b[0m\u001b[0;34m(\u001b[0m\u001b[0mpathVideoFile\u001b[0m\u001b[0;34m=\u001b[0m\u001b[0mvideoFile\u001b[0m\u001b[0;34m,\u001b[0m\u001b[0moutputImageFile\u001b[0m\u001b[0;34m=\u001b[0m\u001b[0marenaImageFile\u001b[0m\u001b[0;34m)\u001b[0m\u001b[0;34m\u001b[0m\u001b[0;34m\u001b[0m\u001b[0m\n\u001b[0;32m---> 16\u001b[0;31m     \u001b[0mim\u001b[0m \u001b[0;34m=\u001b[0m \u001b[0mImage\u001b[0m\u001b[0;34m.\u001b[0m\u001b[0mopen\u001b[0m\u001b[0;34m(\u001b[0m\u001b[0marenaImageFile\u001b[0m\u001b[0;34m)\u001b[0m\u001b[0;34m\u001b[0m\u001b[0;34m\u001b[0m\u001b[0m\n\u001b[0m\u001b[1;32m     17\u001b[0m     \u001b[0mplt\u001b[0m\u001b[0;34m.\u001b[0m\u001b[0mimshow\u001b[0m\u001b[0;34m(\u001b[0m\u001b[0mim\u001b[0m\u001b[0;34m)\u001b[0m\u001b[0;34m\u001b[0m\u001b[0;34m\u001b[0m\u001b[0m\n\u001b[1;32m     18\u001b[0m     \u001b[0mplt\u001b[0m\u001b[0;34m.\u001b[0m\u001b[0mshow\u001b[0m\u001b[0;34m(\u001b[0m\u001b[0;34m)\u001b[0m\u001b[0;34m\u001b[0m\u001b[0;34m\u001b[0m\u001b[0m\n",
      "\u001b[0;32m~/anaconda3/envs/DEEPLABCUT/lib/python3.8/site-packages/PIL/Image.py\u001b[0m in \u001b[0;36mopen\u001b[0;34m(fp, mode, formats)\u001b[0m\n\u001b[1;32m   2973\u001b[0m \u001b[0;34m\u001b[0m\u001b[0m\n\u001b[1;32m   2974\u001b[0m     \u001b[0;32mif\u001b[0m \u001b[0mfilename\u001b[0m\u001b[0;34m:\u001b[0m\u001b[0;34m\u001b[0m\u001b[0;34m\u001b[0m\u001b[0m\n\u001b[0;32m-> 2975\u001b[0;31m         \u001b[0mfp\u001b[0m \u001b[0;34m=\u001b[0m \u001b[0mbuiltins\u001b[0m\u001b[0;34m.\u001b[0m\u001b[0mopen\u001b[0m\u001b[0;34m(\u001b[0m\u001b[0mfilename\u001b[0m\u001b[0;34m,\u001b[0m \u001b[0;34m\"rb\"\u001b[0m\u001b[0;34m)\u001b[0m\u001b[0;34m\u001b[0m\u001b[0;34m\u001b[0m\u001b[0m\n\u001b[0m\u001b[1;32m   2976\u001b[0m         \u001b[0mexclusive_fp\u001b[0m \u001b[0;34m=\u001b[0m \u001b[0;32mTrue\u001b[0m\u001b[0;34m\u001b[0m\u001b[0;34m\u001b[0m\u001b[0m\n\u001b[1;32m   2977\u001b[0m \u001b[0;34m\u001b[0m\u001b[0m\n",
      "\u001b[0;31mFileNotFoundError\u001b[0m: [Errno 2] No such file or directory: '/adata/projects/autopi_ca1/mn9686/mn9686-01112021-0106/arenaDetectionCropped.png'"
     ]
    }
   ],
   "source": [
    "from autopipy.cvObjectDetectors import ArenaDetector\n",
    "\n",
    "for i,ses in enumerate(myProject.sessionList[43:]):\n",
    "    videoFile = ses.fileNames[\"arena_top.cropped.avi\"] #Nice trick to get file names using a dict\n",
    "    arenaImageFile=ses.path+\"/arenaDetectionCropped.png\"\n",
    "    print(i, videoFile)\n",
    "    arenaMinRadius=aCoord[2]-5 # 190 for most sessions\n",
    "    arenaMaxRadius=aCoord[2]+5\n",
    "    numFramesArenaDetection=100\n",
    "    arenaCircleMethod=\"median\"\n",
    "    arenaD = ArenaDetector()\n",
    "    aCoord = arenaD.detectArenaCoordinates(pathVideoFile=videoFile, minRadius=arenaMinRadius, \n",
    "                                  maxRadius=arenaMaxRadius, numFrames=numFramesArenaDetection, blur=11, circleMethod=arenaCircleMethod)\n",
    "    print(aCoord)\n",
    "    arenaD.labelImage(pathVideoFile=videoFile,outputImageFile=arenaImageFile)\n",
    "    im = Image.open(arenaImageFile)\n",
    "    plt.imshow(im)\n",
    "    plt.show()\n"
   ]
  },
  {
   "cell_type": "markdown",
   "metadata": {},
   "source": [
    "## Bridge detection 640x480 \n",
    "\n",
    "We also need to test the bridge detection."
   ]
  },
  {
   "cell_type": "code",
   "execution_count": 8,
   "metadata": {},
   "outputs": [
    {
     "name": "stdout",
     "output_type": "stream",
     "text": [
      "/tmp/tmpVid.avi created for bridge detection\n",
      "Running dlc.analyze_video on /tmp/tmpVid.avi\n",
      "Using snapshot-460000 for model /adata/models/bridgeDetection_640_480-Allen-2021-02-10/dlc-models/iteration-0/bridgeDetection_640_480Feb10-trainset95shuffle1\n"
     ]
    },
    {
     "name": "stderr",
     "output_type": "stream",
     "text": [
      "2021-11-04 11:55:10.184463: I tensorflow/stream_executor/platform/default/dso_loader.cc:44] Successfully opened dynamic library libcuda.so.1\n",
      "2021-11-04 11:55:10.215904: I tensorflow/stream_executor/cuda/cuda_gpu_executor.cc:981] successful NUMA node read from SysFS had negative value (-1), but there must be at least one NUMA node, so returning NUMA node zero\n",
      "2021-11-04 11:55:10.216255: I tensorflow/core/common_runtime/gpu/gpu_device.cc:1561] Found device 0 with properties: \n",
      "pciBusID: 0000:01:00.0 name: GeForce RTX 2080 Ti computeCapability: 7.5\n",
      "coreClock: 1.635GHz coreCount: 68 deviceMemorySize: 10.75GiB deviceMemoryBandwidth: 573.69GiB/s\n",
      "2021-11-04 11:55:10.219894: I tensorflow/stream_executor/platform/default/dso_loader.cc:44] Successfully opened dynamic library libcudart.so.10.1\n",
      "2021-11-04 11:55:10.235258: I tensorflow/stream_executor/platform/default/dso_loader.cc:44] Successfully opened dynamic library libcublas.so.10\n",
      "2021-11-04 11:55:10.244785: I tensorflow/stream_executor/platform/default/dso_loader.cc:44] Successfully opened dynamic library libcufft.so.10\n",
      "2021-11-04 11:55:10.246987: I tensorflow/stream_executor/platform/default/dso_loader.cc:44] Successfully opened dynamic library libcurand.so.10\n",
      "2021-11-04 11:55:10.263037: I tensorflow/stream_executor/platform/default/dso_loader.cc:44] Successfully opened dynamic library libcusolver.so.10\n",
      "2021-11-04 11:55:10.265434: I tensorflow/stream_executor/platform/default/dso_loader.cc:44] Successfully opened dynamic library libcusparse.so.10\n",
      "2021-11-04 11:55:10.294411: I tensorflow/stream_executor/platform/default/dso_loader.cc:44] Successfully opened dynamic library libcudnn.so.7\n",
      "2021-11-04 11:55:10.294572: I tensorflow/stream_executor/cuda/cuda_gpu_executor.cc:981] successful NUMA node read from SysFS had negative value (-1), but there must be at least one NUMA node, so returning NUMA node zero\n",
      "2021-11-04 11:55:10.294997: I tensorflow/stream_executor/cuda/cuda_gpu_executor.cc:981] successful NUMA node read from SysFS had negative value (-1), but there must be at least one NUMA node, so returning NUMA node zero\n",
      "2021-11-04 11:55:10.295316: I tensorflow/core/common_runtime/gpu/gpu_device.cc:1703] Adding visible gpu devices: 0\n",
      "2021-11-04 11:55:10.296082: I tensorflow/core/platform/cpu_feature_guard.cc:143] Your CPU supports instructions that this TensorFlow binary was not compiled to use: AVX2 FMA\n",
      "2021-11-04 11:55:10.322204: I tensorflow/core/platform/profile_utils/cpu_utils.cc:102] CPU Frequency: 3600000000 Hz\n",
      "2021-11-04 11:55:10.322535: I tensorflow/compiler/xla/service/service.cc:168] XLA service 0x7f29a4000b60 initialized for platform Host (this does not guarantee that XLA will be used). Devices:\n",
      "2021-11-04 11:55:10.322548: I tensorflow/compiler/xla/service/service.cc:176]   StreamExecutor device (0): Host, Default Version\n",
      "2021-11-04 11:55:10.393750: I tensorflow/stream_executor/cuda/cuda_gpu_executor.cc:981] successful NUMA node read from SysFS had negative value (-1), but there must be at least one NUMA node, so returning NUMA node zero\n",
      "2021-11-04 11:55:10.394161: I tensorflow/compiler/xla/service/service.cc:168] XLA service 0x560340947920 initialized for platform CUDA (this does not guarantee that XLA will be used). Devices:\n",
      "2021-11-04 11:55:10.394176: I tensorflow/compiler/xla/service/service.cc:176]   StreamExecutor device (0): GeForce RTX 2080 Ti, Compute Capability 7.5\n",
      "2021-11-04 11:55:10.394394: I tensorflow/stream_executor/cuda/cuda_gpu_executor.cc:981] successful NUMA node read from SysFS had negative value (-1), but there must be at least one NUMA node, so returning NUMA node zero\n",
      "2021-11-04 11:55:10.394745: I tensorflow/core/common_runtime/gpu/gpu_device.cc:1561] Found device 0 with properties: \n",
      "pciBusID: 0000:01:00.0 name: GeForce RTX 2080 Ti computeCapability: 7.5\n",
      "coreClock: 1.635GHz coreCount: 68 deviceMemorySize: 10.75GiB deviceMemoryBandwidth: 573.69GiB/s\n",
      "2021-11-04 11:55:10.394797: I tensorflow/stream_executor/platform/default/dso_loader.cc:44] Successfully opened dynamic library libcudart.so.10.1\n",
      "2021-11-04 11:55:10.394823: I tensorflow/stream_executor/platform/default/dso_loader.cc:44] Successfully opened dynamic library libcublas.so.10\n",
      "2021-11-04 11:55:10.394852: I tensorflow/stream_executor/platform/default/dso_loader.cc:44] Successfully opened dynamic library libcufft.so.10\n",
      "2021-11-04 11:55:10.394884: I tensorflow/stream_executor/platform/default/dso_loader.cc:44] Successfully opened dynamic library libcurand.so.10\n",
      "2021-11-04 11:55:10.394908: I tensorflow/stream_executor/platform/default/dso_loader.cc:44] Successfully opened dynamic library libcusolver.so.10\n",
      "2021-11-04 11:55:10.394931: I tensorflow/stream_executor/platform/default/dso_loader.cc:44] Successfully opened dynamic library libcusparse.so.10\n",
      "2021-11-04 11:55:10.394954: I tensorflow/stream_executor/platform/default/dso_loader.cc:44] Successfully opened dynamic library libcudnn.so.7\n",
      "2021-11-04 11:55:10.395022: I tensorflow/stream_executor/cuda/cuda_gpu_executor.cc:981] successful NUMA node read from SysFS had negative value (-1), but there must be at least one NUMA node, so returning NUMA node zero\n",
      "2021-11-04 11:55:10.395402: I tensorflow/stream_executor/cuda/cuda_gpu_executor.cc:981] successful NUMA node read from SysFS had negative value (-1), but there must be at least one NUMA node, so returning NUMA node zero\n",
      "2021-11-04 11:55:10.395722: I tensorflow/core/common_runtime/gpu/gpu_device.cc:1703] Adding visible gpu devices: 0\n",
      "2021-11-04 11:55:10.395762: I tensorflow/stream_executor/platform/default/dso_loader.cc:44] Successfully opened dynamic library libcudart.so.10.1\n",
      "2021-11-04 11:55:10.396410: I tensorflow/core/common_runtime/gpu/gpu_device.cc:1102] Device interconnect StreamExecutor with strength 1 edge matrix:\n",
      "2021-11-04 11:55:10.396427: I tensorflow/core/common_runtime/gpu/gpu_device.cc:1108]      0 \n",
      "2021-11-04 11:55:10.396432: I tensorflow/core/common_runtime/gpu/gpu_device.cc:1121] 0:   N \n",
      "2021-11-04 11:55:10.396529: I tensorflow/stream_executor/cuda/cuda_gpu_executor.cc:981] successful NUMA node read from SysFS had negative value (-1), but there must be at least one NUMA node, so returning NUMA node zero\n",
      "2021-11-04 11:55:10.396928: I tensorflow/stream_executor/cuda/cuda_gpu_executor.cc:981] successful NUMA node read from SysFS had negative value (-1), but there must be at least one NUMA node, so returning NUMA node zero\n",
      "2021-11-04 11:55:10.397279: I tensorflow/core/common_runtime/gpu/gpu_device.cc:1247] Created TensorFlow device (/job:localhost/replica:0/task:0/device:GPU:0 with 9396 MB memory) -> physical GPU (device: 0, name: GeForce RTX 2080 Ti, pci bus id: 0000:01:00.0, compute capability: 7.5)\n"
     ]
    },
    {
     "name": "stdout",
     "output_type": "stream",
     "text": [
      "Starting to analyze %  /tmp/tmpVid.avi\n",
      "/tmp  already exists!\n",
      "Loading  /tmp/tmpVid.avi\n",
      "Duration of video [s]:  3.33 , recorded with  30.0 fps!\n",
      "Overall # of frames:  100  found with (before cropping) frame dimensions:  480 480\n",
      "Starting to extract posture\n"
     ]
    },
    {
     "name": "stderr",
     "output_type": "stream",
     "text": [
      "  0%|                                                                                                           | 0/100 [00:00<?, ?it/s]2021-11-04 11:55:11.843656: I tensorflow/stream_executor/platform/default/dso_loader.cc:44] Successfully opened dynamic library libcudnn.so.7\n",
      "2021-11-04 11:55:12.950267: I tensorflow/stream_executor/platform/default/dso_loader.cc:44] Successfully opened dynamic library libcublas.so.10\n",
      "110it [00:03, 29.20it/s]                                                                                                                \n"
     ]
    },
    {
     "name": "stdout",
     "output_type": "stream",
     "text": [
      "Saving results in /tmp...\n",
      "The videos are analyzed. Now your research can truly start! \n",
      " You can create labeled videos with 'create_labeled_video'\n",
      "If the tracking is not satisfactory for some videos, consider expanding the training set. You can use the function 'extract_outlier_frames' to extract a few representative outlier frames.\n",
      "dlc.loadPositionData() read data from /tmp/tmpVidDLC_resnet50_bridgeDetection_640_480Feb10shuffle1_460000.h5\n",
      "dlc.loadPositionData() read data from /tmp/tmpVidDLC_resnet50_bridgeDetection_640_480Feb10shuffle1_460000.h5\n",
      "Saving position data to /tmp/tmpVidDLC_resnet50_bridgeDetection_640_480Feb10shuffle1_460000.csv\n",
      "dlc.loadPositionData() read data from /tmp/tmpVidDLC_resnet50_bridgeDetection_640_480Feb10shuffle1_460000.h5\n",
      "Bridge coordinates: [[207   0]\n",
      " [207  10]\n",
      " [250  10]\n",
      " [250   0]]\n",
      "labelImage: /adata/projects/autopi_ca1/TYY5622/TYY5622-19092021-0106/bridgeDetection.png\n"
     ]
    },
    {
     "data": {
      "image/png": "[encoded data removed]",
      "text/plain": [
       "<Figure size 432x288 with 1 Axes>"
      ]
     },
     "metadata": {
      "needs_background": "light"
     },
     "output_type": "display_data"
    }
   ],
   "source": [
    "from autopipy.dlcObjectDetectors import BridgeDetector\n",
    "\n",
    "for i,ses in enumerate(myProject.sessionList[34:35]):\n",
    "    videoFile = ses.fileNames[\"arena_top.avi\"] #Nice trick to get file names using a dict\n",
    "    bridge640_480Model = \"bridgeDetection_640_480-Allen-2021-02-10\"\n",
    "    configFile = \"/adata/models/\"+ bridge640_480Model+\"/config.yaml\"\n",
    "    bridgeImageFile = ses.path+\"/bridgeDetection.png\"\n",
    "    numFramesBridgeDetection=100\n",
    "    skip=100\n",
    "    bridgeD = BridgeDetector(pathConfigFile=configFile)\n",
    "    bCoord = bridgeD.detectBridgeCoordinates(pathVideoFile=videoFile,numFrames=numFramesBridgeDetection, skip=skip)\n",
    "    bridgeD.labelImage(pathVideoFile=videoFile,outputImageFile=bridgeImageFile)\n",
    "    im = Image.open(bridgeImageFile)\n",
    "    plt.imshow(im)\n",
    "    plt.show()"
   ]
  },
  {
   "cell_type": "markdown",
   "metadata": {},
   "source": [
    "## Process all sessions\n",
    "\n",
    "Check which sessions we need to analyze."
   ]
  },
  {
   "cell_type": "code",
   "execution_count": 16,
   "metadata": {},
   "outputs": [
    {
     "data": {
      "text/plain": [
       "{'log': '/adata/projects/autopi_ca1/mn5824/mn5824-20112020-0107/mn5824-20112020-0107.log',\n",
       " 'protocol': '/adata/projects/autopi_ca1/mn5824/mn5824-20112020-0107/mn5824-20112020-0107.protocol',\n",
       " 'arena_top.avi': '/adata/projects/autopi_ca1/mn5824/mn5824-20112020-0107/mn5824-20112020-0107.arena_top.avi',\n",
       " 'arena_top.log': '/adata/projects/autopi_ca1/mn5824/mn5824-20112020-0107/mn5824-20112020-0107.arena_top.log',\n",
       " 'arena_top.cropped.avi': '/adata/projects/autopi_ca1/mn5824/mn5824-20112020-0107/mn5824-20112020-0107.arena_top.cropped.avi',\n",
       " 'mouseLeverPosition.csv': '/adata/projects/autopi_ca1/mn5824/mn5824-20112020-0107/mn5824-20112020-0107.mouseLeverPosition.csv',\n",
       " 'arenaCoordinates': '/adata/projects/autopi_ca1/mn5824/mn5824-20112020-0107/arenaCoordinates',\n",
       " 'bridgeCoordinates': '/adata/projects/autopi_ca1/mn5824/mn5824-20112020-0107/bridgeCoordinates'}"
      ]
     },
     "execution_count": 16,
     "metadata": {},
     "output_type": "execute_result"
    }
   ],
   "source": [
    "ses.fileNames"
   ]
  },
  {
   "cell_type": "code",
   "execution_count": 17,
   "metadata": {},
   "outputs": [
    {
     "name": "stdout",
     "output_type": "stream",
     "text": [
      "0 mn5824-20112020-0107 True\n",
      "1 mn5824-22112020-0107 True\n",
      "2 mn5824-24112020-0107 True\n",
      "3 mn5824-02122020-0106 True\n",
      "4 mn711-28012021-0106 True\n",
      "5 mn711-30012021-0106 True\n",
      "6 mn711-31012021-0107 True\n",
      "7 mn711-01022021-0107 True\n",
      "8 mn711-02022021-0108 True\n",
      "9 mn711-03022021-0107 True\n",
      "10 mn711-04022021-0107 True\n",
      "11 mn2739-11022021-0107 True\n",
      "12 mn2739-15022021-0105 True\n",
      "13 mn2739-16022021-0106 True\n",
      "14 mn2739-17022021-0106 True\n",
      "15 mn2739-21022021-0106 True\n",
      "16 mn3246-09042021-0106 True\n",
      "17 mn3246-10042021-0106 True\n",
      "18 mn3246-12042021-0106 True\n",
      "19 mn3246-14042021-0106 True\n",
      "20 mn1173-02052021-0107 True\n",
      "21 mn1173-06052021-0107 True\n",
      "22 mn1173-08052021-0107 True\n",
      "23 mn1173-09052021-0108 True\n",
      "24 mn1173-11052021-0108 True\n",
      "25 TYY9524-25082021-0106 True\n",
      "26 TYY9524-22082021-0106 True\n",
      "27 TYY9524-20082021-0106 True\n",
      "28 TYY9524-18082021-0106 True\n",
      "29 TYY9524-16082021-0106 True\n",
      "30 mn5618-07072021-0107 True\n",
      "31 mn5618-09072021-0106 True\n",
      "32 TYY5622-07092021-0106 True\n",
      "33 TYY5622-17092021-0106 True\n",
      "34 TYY5622-19092021-0106 False\n",
      "35 TYY9524-23082021-0105 True\n",
      "36 TYY5622-20092021-0106 True\n",
      "37 mn3246-13042021-0106 True\n",
      "38 mn5618-12072021-0110 True\n",
      "39 mn9686-20102021-0106 True\n",
      "40 mn9686-21102021-0106 True\n",
      "41 mn9686-26102021-0106 True\n",
      "42 mn9686-27102021-0106 True\n",
      "43 mn9686-28102021-0107 True\n",
      "44 mn9686-29102021-0106 True\n"
     ]
    }
   ],
   "source": [
    "for i, ses in enumerate(myProject.sessionList):\n",
    "    print(i, ses.name, os.path.exists(ses.fileNames[\"mouseLeverPosition.csv\"]))"
   ]
  },
  {
   "cell_type": "code",
   "execution_count": 11,
   "metadata": {},
   "outputs": [
    {
     "name": "stdout",
     "output_type": "stream",
     "text": [
      "0 mn5824-20112020-0107 True\n",
      "1 mn5824-22112020-0107 True\n",
      "2 mn5824-24112020-0107 True\n",
      "3 mn5824-02122020-0106 True\n",
      "4 mn711-28012021-0106 True\n",
      "5 mn711-30012021-0106 True\n",
      "6 mn711-31012021-0107 True\n",
      "7 mn711-01022021-0107 True\n",
      "8 mn711-02022021-0108 True\n",
      "9 mn711-03022021-0107 True\n",
      "10 mn711-04022021-0107 True\n",
      "11 mn2739-11022021-0107 True\n",
      "12 mn2739-15022021-0105 True\n",
      "13 mn2739-16022021-0106 True\n",
      "14 mn2739-17022021-0106 True\n",
      "15 mn2739-21022021-0106 True\n",
      "16 mn3246-09042021-0106 True\n",
      "17 mn3246-10042021-0106 True\n",
      "18 mn3246-12042021-0106 True\n",
      "19 mn3246-14042021-0106 True\n",
      "20 mn1173-02052021-0107 True\n",
      "21 mn1173-06052021-0107 True\n",
      "22 mn1173-08052021-0107 True\n",
      "23 mn1173-09052021-0108 True\n",
      "24 mn1173-11052021-0108 True\n",
      "25 TYY9524-25082021-0106 True\n",
      "26 TYY9524-22082021-0106 True\n",
      "27 TYY9524-20082021-0106 True\n",
      "28 TYY9524-18082021-0106 True\n",
      "29 TYY9524-16082021-0106 True\n",
      "30 mn5618-07072021-0107 True\n",
      "31 mn5618-09072021-0106 True\n",
      "32 TYY5622-07092021-0106 True\n",
      "33 TYY5622-17092021-0106 True\n",
      "34 TYY5622-19092021-0106 True\n",
      "35 TYY9524-23082021-0105 True\n",
      "36 TYY5622-20092021-0106 True\n",
      "37 mn3246-13042021-0106 True\n",
      "38 mn5618-12072021-0110 True\n",
      "39 mn9686-20102021-0106 True\n",
      "40 mn9686-21102021-0106 False\n",
      "41 mn9686-26102021-0106 True\n",
      "42 mn9686-27102021-0106 True\n",
      "43 mn9686-28102021-0107 True\n",
      "44 mn9686-29102021-0106 False\n"
     ]
    }
   ],
   "source": [
    "for i, ses in enumerate(myProject.sessionList):\n",
    "    print(i, ses.name, os.path.exists(ses.path+\"/arenaBridgeDetectionCropped.png\"))"
   ]
  },
  {
   "cell_type": "code",
   "execution_count": 4,
   "metadata": {},
   "outputs": [
    {
     "name": "stdout",
     "output_type": "stream",
     "text": [
      "Startint at 14:51:49\n",
      "labelImage: /adata/projects/autopi_ca1/mn9686/mn9686-01112021-0106/arenaDetection.png\n",
      "/tmp/tmpVid.avi created for bridge detection\n",
      "Running dlc.analyze_video on /tmp/tmpVid.avi\n",
      "Using snapshot-460000 for model /adata/models/bridgeDetection_640_480-Allen-2021-02-10/dlc-models/iteration-0/bridgeDetection_640_480Feb10-trainset95shuffle1\n"
     ]
    },
    {
     "name": "stderr",
     "output_type": "stream",
     "text": [
      "2022-02-04 14:53:35.898183: I tensorflow/stream_executor/platform/default/dso_loader.cc:44] Successfully opened dynamic library libcuda.so.1\n",
      "2022-02-04 14:53:35.934631: I tensorflow/stream_executor/cuda/cuda_gpu_executor.cc:981] successful NUMA node read from SysFS had negative value (-1), but there must be at least one NUMA node, so returning NUMA node zero\n",
      "2022-02-04 14:53:35.934987: I tensorflow/core/common_runtime/gpu/gpu_device.cc:1561] Found device 0 with properties: \n",
      "pciBusID: 0000:01:00.0 name: GeForce RTX 2080 Ti computeCapability: 7.5\n",
      "coreClock: 1.635GHz coreCount: 68 deviceMemorySize: 10.75GiB deviceMemoryBandwidth: 573.69GiB/s\n",
      "2022-02-04 14:53:35.935877: I tensorflow/stream_executor/platform/default/dso_loader.cc:44] Successfully opened dynamic library libcudart.so.10.1\n",
      "2022-02-04 14:53:35.951939: I tensorflow/stream_executor/platform/default/dso_loader.cc:44] Successfully opened dynamic library libcublas.so.10\n",
      "2022-02-04 14:53:35.961366: I tensorflow/stream_executor/platform/default/dso_loader.cc:44] Successfully opened dynamic library libcufft.so.10\n",
      "2022-02-04 14:53:35.963610: I tensorflow/stream_executor/platform/default/dso_loader.cc:44] Successfully opened dynamic library libcurand.so.10\n",
      "2022-02-04 14:53:35.979983: I tensorflow/stream_executor/platform/default/dso_loader.cc:44] Successfully opened dynamic library libcusolver.so.10\n",
      "2022-02-04 14:53:35.982535: I tensorflow/stream_executor/platform/default/dso_loader.cc:44] Successfully opened dynamic library libcusparse.so.10\n",
      "2022-02-04 14:53:36.015148: I tensorflow/stream_executor/platform/default/dso_loader.cc:44] Successfully opened dynamic library libcudnn.so.7\n",
      "2022-02-04 14:53:36.015512: I tensorflow/stream_executor/cuda/cuda_gpu_executor.cc:981] successful NUMA node read from SysFS had negative value (-1), but there must be at least one NUMA node, so returning NUMA node zero\n",
      "2022-02-04 14:53:36.016667: I tensorflow/stream_executor/cuda/cuda_gpu_executor.cc:981] successful NUMA node read from SysFS had negative value (-1), but there must be at least one NUMA node, so returning NUMA node zero\n",
      "2022-02-04 14:53:36.017573: I tensorflow/core/common_runtime/gpu/gpu_device.cc:1703] Adding visible gpu devices: 0\n",
      "2022-02-04 14:53:36.018819: I tensorflow/core/platform/cpu_feature_guard.cc:143] Your CPU supports instructions that this TensorFlow binary was not compiled to use: AVX2 FMA\n",
      "2022-02-04 14:53:36.050396: I tensorflow/core/platform/profile_utils/cpu_utils.cc:102] CPU Frequency: 3600000000 Hz\n",
      "2022-02-04 14:53:36.051280: I tensorflow/compiler/xla/service/service.cc:168] XLA service 0x7fd05c000b60 initialized for platform Host (this does not guarantee that XLA will be used). Devices:\n",
      "2022-02-04 14:53:36.051325: I tensorflow/compiler/xla/service/service.cc:176]   StreamExecutor device (0): Host, Default Version\n",
      "2022-02-04 14:53:36.145764: I tensorflow/stream_executor/cuda/cuda_gpu_executor.cc:981] successful NUMA node read from SysFS had negative value (-1), but there must be at least one NUMA node, so returning NUMA node zero\n",
      "2022-02-04 14:53:36.146258: I tensorflow/compiler/xla/service/service.cc:168] XLA service 0x7fd0dc0064a0 initialized for platform CUDA (this does not guarantee that XLA will be used). Devices:\n",
      "2022-02-04 14:53:36.146274: I tensorflow/compiler/xla/service/service.cc:176]   StreamExecutor device (0): GeForce RTX 2080 Ti, Compute Capability 7.5\n",
      "2022-02-04 14:53:36.146826: I tensorflow/stream_executor/cuda/cuda_gpu_executor.cc:981] successful NUMA node read from SysFS had negative value (-1), but there must be at least one NUMA node, so returning NUMA node zero\n",
      "2022-02-04 14:53:36.147152: I tensorflow/core/common_runtime/gpu/gpu_device.cc:1561] Found device 0 with properties: \n",
      "pciBusID: 0000:01:00.0 name: GeForce RTX 2080 Ti computeCapability: 7.5\n",
      "coreClock: 1.635GHz coreCount: 68 deviceMemorySize: 10.75GiB deviceMemoryBandwidth: 573.69GiB/s\n",
      "2022-02-04 14:53:36.147199: I tensorflow/stream_executor/platform/default/dso_loader.cc:44] Successfully opened dynamic library libcudart.so.10.1\n",
      "2022-02-04 14:53:36.147223: I tensorflow/stream_executor/platform/default/dso_loader.cc:44] Successfully opened dynamic library libcublas.so.10\n",
      "2022-02-04 14:53:36.147243: I tensorflow/stream_executor/platform/default/dso_loader.cc:44] Successfully opened dynamic library libcufft.so.10\n",
      "2022-02-04 14:53:36.147262: I tensorflow/stream_executor/platform/default/dso_loader.cc:44] Successfully opened dynamic library libcurand.so.10\n",
      "2022-02-04 14:53:36.147281: I tensorflow/stream_executor/platform/default/dso_loader.cc:44] Successfully opened dynamic library libcusolver.so.10\n",
      "2022-02-04 14:53:36.147300: I tensorflow/stream_executor/platform/default/dso_loader.cc:44] Successfully opened dynamic library libcusparse.so.10\n",
      "2022-02-04 14:53:36.147320: I tensorflow/stream_executor/platform/default/dso_loader.cc:44] Successfully opened dynamic library libcudnn.so.7\n",
      "2022-02-04 14:53:36.147390: I tensorflow/stream_executor/cuda/cuda_gpu_executor.cc:981] successful NUMA node read from SysFS had negative value (-1), but there must be at least one NUMA node, so returning NUMA node zero\n",
      "2022-02-04 14:53:36.147746: I tensorflow/stream_executor/cuda/cuda_gpu_executor.cc:981] successful NUMA node read from SysFS had negative value (-1), but there must be at least one NUMA node, so returning NUMA node zero\n",
      "2022-02-04 14:53:36.148046: I tensorflow/core/common_runtime/gpu/gpu_device.cc:1703] Adding visible gpu devices: 0\n",
      "2022-02-04 14:53:36.148289: I tensorflow/stream_executor/platform/default/dso_loader.cc:44] Successfully opened dynamic library libcudart.so.10.1\n",
      "2022-02-04 14:53:36.149051: I tensorflow/core/common_runtime/gpu/gpu_device.cc:1102] Device interconnect StreamExecutor with strength 1 edge matrix:\n",
      "2022-02-04 14:53:36.149062: I tensorflow/core/common_runtime/gpu/gpu_device.cc:1108]      0 \n",
      "2022-02-04 14:53:36.149067: I tensorflow/core/common_runtime/gpu/gpu_device.cc:1121] 0:   N \n",
      "2022-02-04 14:53:36.149316: I tensorflow/stream_executor/cuda/cuda_gpu_executor.cc:981] successful NUMA node read from SysFS had negative value (-1), but there must be at least one NUMA node, so returning NUMA node zero\n",
      "2022-02-04 14:53:36.149677: I tensorflow/stream_executor/cuda/cuda_gpu_executor.cc:981] successful NUMA node read from SysFS had negative value (-1), but there must be at least one NUMA node, so returning NUMA node zero\n",
      "2022-02-04 14:53:36.149998: I tensorflow/core/common_runtime/gpu/gpu_device.cc:1247] Created TensorFlow device (/job:localhost/replica:0/task:0/device:GPU:0 with 9842 MB memory) -> physical GPU (device: 0, name: GeForce RTX 2080 Ti, pci bus id: 0000:01:00.0, compute capability: 7.5)\n"
     ]
    },
    {
     "name": "stdout",
     "output_type": "stream",
     "text": [
      "Starting to analyze %  /tmp/tmpVid.avi\n",
      "/tmp  already exists!\n",
      "Loading  /tmp/tmpVid.avi\n",
      "Duration of video [s]:  33.33 , recorded with  30.0 fps!\n",
      "Overall # of frames:  1000  found with (before cropping) frame dimensions:  480 480\n",
      "Starting to extract posture\n"
     ]
    },
    {
     "name": "stderr",
     "output_type": "stream",
     "text": [
      "  0%|                                                  | 0/1000 [00:00<?, ?it/s]2022-02-04 14:53:39.780585: I tensorflow/stream_executor/platform/default/dso_loader.cc:44] Successfully opened dynamic library libcudnn.so.7\n",
      "2022-02-04 14:53:40.873078: I tensorflow/stream_executor/platform/default/dso_loader.cc:44] Successfully opened dynamic library libcublas.so.10\n",
      "1010it [00:14, 71.00it/s]                                                       \n"
     ]
    },
    {
     "name": "stdout",
     "output_type": "stream",
     "text": [
      "Saving results in /tmp...\n",
      "The videos are analyzed. Now your research can truly start! \n",
      " You can create labeled videos with 'create_labeled_video'\n",
      "If the tracking is not satisfactory for some videos, consider expanding the training set. You can use the function 'extract_outlier_frames' to extract a few representative outlier frames.\n",
      "dlc.loadPositionData() read data from /tmp/tmpVidDLC_resnet50_bridgeDetection_640_480Feb10shuffle1_460000.h5\n",
      "dlc.loadPositionData() read data from /tmp/tmpVidDLC_resnet50_bridgeDetection_640_480Feb10shuffle1_460000.h5\n",
      "Saving position data to /tmp/tmpVidDLC_resnet50_bridgeDetection_640_480Feb10shuffle1_460000.csv\n",
      "dlc.loadPositionData() read data from /tmp/tmpVidDLC_resnet50_bridgeDetection_640_480Feb10shuffle1_460000.h5\n",
      "Bridge coordinates: [[212   0]\n",
      " [212   9]\n",
      " [256   9]\n",
      " [256   0]]\n",
      "labelImage: /adata/projects/autopi_ca1/mn9686/mn9686-01112021-0106/bridgeDetection.png\n",
      "Time elapsed 0:02:04.449295\n",
      "Cropping and masking 163806 frames in /adata/projects/autopi_ca1/mn9686/mn9686-01112021-0106/mn9686-01112021-0106.arena_top.avi\n",
      "Output file /adata/projects/autopi_ca1/mn9686/mn9686-01112021-0106/mn9686-01112021-0106.arena_top.cropped.avi\n",
      "163800 of 163806 frames\n",
      "Exiting. Video saved as /adata/projects/autopi_ca1/mn9686/mn9686-01112021-0106/mn9686-01112021-0106.arena_top.cropped.avi\n",
      "Time elapsed 0:11:40.118482\n",
      "Removing previous inference data: /adata/projects/autopi_ca1/mn9686/mn9686-01112021-0106/mn9686-01112021-0106.arena_top.croppedDLC_resnet50_arena_topOct30shuffle1_950000.h5\n",
      "Running dlc.analyze_video on /adata/projects/autopi_ca1/mn9686/mn9686-01112021-0106/mn9686-01112021-0106.arena_top.cropped.avi\n",
      "Using snapshot-950000 for model /adata/models/arena_top-Allen-2019-10-30/dlc-models/iteration-0/arena_topOct30-trainset90shuffle1\n"
     ]
    },
    {
     "name": "stderr",
     "output_type": "stream",
     "text": [
      "2022-02-04 15:03:32.558398: I tensorflow/stream_executor/cuda/cuda_gpu_executor.cc:981] successful NUMA node read from SysFS had negative value (-1), but there must be at least one NUMA node, so returning NUMA node zero\n",
      "2022-02-04 15:03:32.558593: I tensorflow/core/common_runtime/gpu/gpu_device.cc:1561] Found device 0 with properties: \n",
      "pciBusID: 0000:01:00.0 name: GeForce RTX 2080 Ti computeCapability: 7.5\n",
      "coreClock: 1.635GHz coreCount: 68 deviceMemorySize: 10.75GiB deviceMemoryBandwidth: 573.69GiB/s\n",
      "2022-02-04 15:03:32.558668: I tensorflow/stream_executor/platform/default/dso_loader.cc:44] Successfully opened dynamic library libcudart.so.10.1\n",
      "2022-02-04 15:03:32.558693: I tensorflow/stream_executor/platform/default/dso_loader.cc:44] Successfully opened dynamic library libcublas.so.10\n",
      "2022-02-04 15:03:32.558716: I tensorflow/stream_executor/platform/default/dso_loader.cc:44] Successfully opened dynamic library libcufft.so.10\n",
      "2022-02-04 15:03:32.558741: I tensorflow/stream_executor/platform/default/dso_loader.cc:44] Successfully opened dynamic library libcurand.so.10\n",
      "2022-02-04 15:03:32.558765: I tensorflow/stream_executor/platform/default/dso_loader.cc:44] Successfully opened dynamic library libcusolver.so.10\n",
      "2022-02-04 15:03:32.558788: I tensorflow/stream_executor/platform/default/dso_loader.cc:44] Successfully opened dynamic library libcusparse.so.10\n",
      "2022-02-04 15:03:32.558811: I tensorflow/stream_executor/platform/default/dso_loader.cc:44] Successfully opened dynamic library libcudnn.so.7\n",
      "2022-02-04 15:03:32.558880: I tensorflow/stream_executor/cuda/cuda_gpu_executor.cc:981] successful NUMA node read from SysFS had negative value (-1), but there must be at least one NUMA node, so returning NUMA node zero\n",
      "2022-02-04 15:03:32.559075: I tensorflow/stream_executor/cuda/cuda_gpu_executor.cc:981] successful NUMA node read from SysFS had negative value (-1), but there must be at least one NUMA node, so returning NUMA node zero\n",
      "2022-02-04 15:03:32.559213: I tensorflow/core/common_runtime/gpu/gpu_device.cc:1703] Adding visible gpu devices: 0\n",
      "2022-02-04 15:03:32.559243: I tensorflow/core/common_runtime/gpu/gpu_device.cc:1102] Device interconnect StreamExecutor with strength 1 edge matrix:\n",
      "2022-02-04 15:03:32.559249: I tensorflow/core/common_runtime/gpu/gpu_device.cc:1108]      0 \n",
      "2022-02-04 15:03:32.559253: I tensorflow/core/common_runtime/gpu/gpu_device.cc:1121] 0:   N \n",
      "2022-02-04 15:03:32.559335: I tensorflow/stream_executor/cuda/cuda_gpu_executor.cc:981] successful NUMA node read from SysFS had negative value (-1), but there must be at least one NUMA node, so returning NUMA node zero\n",
      "2022-02-04 15:03:32.559526: I tensorflow/stream_executor/cuda/cuda_gpu_executor.cc:981] successful NUMA node read from SysFS had negative value (-1), but there must be at least one NUMA node, so returning NUMA node zero\n",
      "2022-02-04 15:03:32.559673: I tensorflow/core/common_runtime/gpu/gpu_device.cc:1247] Created TensorFlow device (/job:localhost/replica:0/task:0/device:GPU:0 with 9842 MB memory) -> physical GPU (device: 0, name: GeForce RTX 2080 Ti, pci bus id: 0000:01:00.0, compute capability: 7.5)\n"
     ]
    },
    {
     "name": "stdout",
     "output_type": "stream",
     "text": [
      "Starting to analyze %  /adata/projects/autopi_ca1/mn9686/mn9686-01112021-0106/mn9686-01112021-0106.arena_top.cropped.avi\n",
      "/adata/projects/autopi_ca1/mn9686/mn9686-01112021-0106  already exists!\n",
      "Loading  /adata/projects/autopi_ca1/mn9686/mn9686-01112021-0106/mn9686-01112021-0106.arena_top.cropped.avi\n",
      "Duration of video [s]:  5460.2 , recorded with  30.0 fps!\n",
      "Overall # of frames:  163806  found with (before cropping) frame dimensions:  480 480\n",
      "Starting to extract posture\n"
     ]
    },
    {
     "name": "stderr",
     "output_type": "stream",
     "text": [
      "  5%|█▊                                   | 8190/163806 [01:31<29:01, 89.38it/s]\n"
     ]
    },
    {
     "name": "stdout",
     "output_type": "stream",
     "text": [
      "The videos are analyzed. Now your research can truly start! \n",
      " You can create labeled videos with 'create_labeled_video'\n",
      "If the tracking is not satisfactory for some videos, consider expanding the training set. You can use the function 'extract_outlier_frames' to extract a few representative outlier frames.\n",
      "/adata/projects/autopi_ca1/mn9686/mn9686-01112021-0106/mn9686-01112021-0106.arena_top.croppedDLC_resnet50_arena_topOct30shuffle1_950000.h5 does not exist\n",
      "Run inferenceVideo first\n",
      "/adata/projects/autopi_ca1/mn9686/mn9686-01112021-0106/mn9686-01112021-0106.arena_top.croppedDLC_resnet50_arena_topOct30shuffle1_950000.h5 does not exist\n",
      "Run inferenceVideo first\n"
     ]
    },
    {
     "ename": "AttributeError",
     "evalue": "'MouseLeverDetector' object has no attribute 'out'",
     "output_type": "error",
     "traceback": [
      "\u001b[0;31m---------------------------------------------------------------------------\u001b[0m",
      "\u001b[0;31mAttributeError\u001b[0m                            Traceback (most recent call last)",
      "\u001b[0;32m/tmp/ipykernel_976510/4119370101.py\u001b[0m in \u001b[0;36m<module>\u001b[0;34m\u001b[0m\n\u001b[1;32m      1\u001b[0m \u001b[0mses\u001b[0m \u001b[0;34m=\u001b[0m \u001b[0mmyProject\u001b[0m\u001b[0;34m.\u001b[0m\u001b[0msessionList\u001b[0m\u001b[0;34m[\u001b[0m\u001b[0;36m39\u001b[0m\u001b[0;34m]\u001b[0m\u001b[0;34m\u001b[0m\u001b[0;34m\u001b[0m\u001b[0m\n\u001b[1;32m      2\u001b[0m \u001b[0mses\u001b[0m\u001b[0;34m\u001b[0m\u001b[0;34m\u001b[0m\u001b[0m\n\u001b[0;32m----> 3\u001b[0;31m \u001b[0mpositionTrackingFromArenaTopVideo\u001b[0m\u001b[0;34m(\u001b[0m\u001b[0mses\u001b[0m\u001b[0;34m,\u001b[0m\u001b[0mmodelDir\u001b[0m\u001b[0;34m=\u001b[0m\u001b[0mdlcModelPath\u001b[0m\u001b[0;34m,\u001b[0m\u001b[0marenaMinRadius\u001b[0m\u001b[0;34m=\u001b[0m\u001b[0;36m140\u001b[0m\u001b[0;34m,\u001b[0m\u001b[0marenaMaxRadius\u001b[0m\u001b[0;34m=\u001b[0m\u001b[0;36m230\u001b[0m\u001b[0;34m,\u001b[0m \u001b[0marenaCircleMethod\u001b[0m\u001b[0;34m=\u001b[0m\u001b[0;34m\"median\"\u001b[0m\u001b[0;34m)\u001b[0m\u001b[0;34m\u001b[0m\u001b[0;34m\u001b[0m\u001b[0m\n\u001b[0m",
      "\u001b[0;32m~/repo/autopipy/autopipy/video_utilities.py\u001b[0m in \u001b[0;36mpositionTrackingFromArenaTopVideo\u001b[0;34m(ses, modelDir, bridge640_480Model, mouseLeverModel, bridge480_480Model, arenaMinRadius, arenaMaxRadius, arenaCircleMethod, numFramesArenaDetection, numFramesBridgeDetection, labelDlcMouseLeverVideo)\u001b[0m\n\u001b[1;32m    252\u001b[0m     \u001b[0mcroppedVideoFile\u001b[0m \u001b[0;34m=\u001b[0m \u001b[0mos\u001b[0m\u001b[0;34m.\u001b[0m\u001b[0mpath\u001b[0m\u001b[0;34m.\u001b[0m\u001b[0msplitext\u001b[0m\u001b[0;34m(\u001b[0m\u001b[0mvideoFile\u001b[0m\u001b[0;34m)\u001b[0m\u001b[0;34m[\u001b[0m\u001b[0;36m0\u001b[0m\u001b[0;34m]\u001b[0m\u001b[0;34m+\u001b[0m\u001b[0;34m\".cropped.avi\"\u001b[0m\u001b[0;34m\u001b[0m\u001b[0;34m\u001b[0m\u001b[0m\n\u001b[1;32m    253\u001b[0m     \u001b[0mmouseLeverD\u001b[0m \u001b[0;34m=\u001b[0m \u001b[0mMouseLeverDetector\u001b[0m\u001b[0;34m(\u001b[0m\u001b[0mpathConfigFile\u001b[0m\u001b[0;34m=\u001b[0m\u001b[0mconfigFile\u001b[0m\u001b[0;34m)\u001b[0m\u001b[0;34m\u001b[0m\u001b[0;34m\u001b[0m\u001b[0m\n\u001b[0;32m--> 254\u001b[0;31m     \u001b[0mmouseLeverD\u001b[0m\u001b[0;34m.\u001b[0m\u001b[0minferenceVideo\u001b[0m\u001b[0;34m(\u001b[0m\u001b[0mpathVideoFile\u001b[0m\u001b[0;34m=\u001b[0m\u001b[0mcroppedVideoFile\u001b[0m\u001b[0;34m,\u001b[0m\u001b[0moverwrite\u001b[0m\u001b[0;34m=\u001b[0m\u001b[0;32mTrue\u001b[0m\u001b[0;34m)\u001b[0m\u001b[0;34m\u001b[0m\u001b[0;34m\u001b[0m\u001b[0m\n\u001b[0m\u001b[1;32m    255\u001b[0m \u001b[0;34m\u001b[0m\u001b[0m\n\u001b[1;32m    256\u001b[0m     \u001b[0;31m# save position data to file\u001b[0m\u001b[0;34m\u001b[0m\u001b[0;34m\u001b[0m\u001b[0;34m\u001b[0m\u001b[0m\n",
      "\u001b[0;32m~/repo/autopipy/autopipy/dlc.py\u001b[0m in \u001b[0;36minferenceVideo\u001b[0;34m(self, pathVideoFile, saveCsv, overwrite)\u001b[0m\n\u001b[1;32m     73\u001b[0m \u001b[0;34m\u001b[0m\u001b[0m\n\u001b[1;32m     74\u001b[0m         \u001b[0;32mif\u001b[0m \u001b[0msaveCsv\u001b[0m\u001b[0;34m:\u001b[0m\u001b[0;34m\u001b[0m\u001b[0;34m\u001b[0m\u001b[0m\n\u001b[0;32m---> 75\u001b[0;31m             \u001b[0mdf\u001b[0m \u001b[0;34m=\u001b[0m \u001b[0mself\u001b[0m\u001b[0;34m.\u001b[0m\u001b[0mgetDataFrameOut\u001b[0m\u001b[0;34m(\u001b[0m\u001b[0mpathVideoFile\u001b[0m\u001b[0;34m)\u001b[0m\u001b[0;34m\u001b[0m\u001b[0;34m\u001b[0m\u001b[0m\n\u001b[0m\u001b[1;32m     76\u001b[0m             \u001b[0mfileName\u001b[0m \u001b[0;34m=\u001b[0m \u001b[0mos\u001b[0m\u001b[0;34m.\u001b[0m\u001b[0mpath\u001b[0m\u001b[0;34m.\u001b[0m\u001b[0msplitext\u001b[0m\u001b[0;34m(\u001b[0m\u001b[0mself\u001b[0m\u001b[0;34m.\u001b[0m\u001b[0mpathVideoOutputH5\u001b[0m\u001b[0;34m)\u001b[0m\u001b[0;34m[\u001b[0m\u001b[0;36m0\u001b[0m\u001b[0;34m]\u001b[0m\u001b[0;34m+\u001b[0m\u001b[0;34m\".csv\"\u001b[0m\u001b[0;34m\u001b[0m\u001b[0;34m\u001b[0m\u001b[0m\n\u001b[1;32m     77\u001b[0m             \u001b[0mprint\u001b[0m\u001b[0;34m(\u001b[0m\u001b[0;34m\"Saving position data to \"\u001b[0m\u001b[0;34m+\u001b[0m\u001b[0mfileName\u001b[0m\u001b[0;34m)\u001b[0m\u001b[0;34m\u001b[0m\u001b[0;34m\u001b[0m\u001b[0m\n",
      "\u001b[0;32m~/repo/autopipy/autopipy/dlc.py\u001b[0m in \u001b[0;36mgetDataFrameOut\u001b[0;34m(self, pathVideoFile)\u001b[0m\n\u001b[1;32m    141\u001b[0m         \u001b[0mcn\u001b[0m \u001b[0;34m=\u001b[0m \u001b[0;34m[\u001b[0m\u001b[0;34m[\u001b[0m\u001b[0mpart\u001b[0m\u001b[0;34m+\u001b[0m\u001b[0;34m\".x\"\u001b[0m\u001b[0;34m,\u001b[0m \u001b[0mpart\u001b[0m\u001b[0;34m+\u001b[0m\u001b[0;34m\".y\"\u001b[0m\u001b[0;34m,\u001b[0m \u001b[0mpart\u001b[0m\u001b[0;34m+\u001b[0m\u001b[0;34m\".prob\"\u001b[0m\u001b[0;34m]\u001b[0m\u001b[0;32mfor\u001b[0m \u001b[0mpart\u001b[0m \u001b[0;32min\u001b[0m \u001b[0mself\u001b[0m\u001b[0;34m.\u001b[0m\u001b[0mbodyParts\u001b[0m\u001b[0;34m]\u001b[0m\u001b[0;34m\u001b[0m\u001b[0;34m\u001b[0m\u001b[0m\n\u001b[1;32m    142\u001b[0m         \u001b[0mcolnames\u001b[0m \u001b[0;34m=\u001b[0m \u001b[0;34m[\u001b[0m\u001b[0mitem\u001b[0m \u001b[0;32mfor\u001b[0m \u001b[0msublist\u001b[0m \u001b[0;32min\u001b[0m \u001b[0mcn\u001b[0m \u001b[0;32mfor\u001b[0m \u001b[0mitem\u001b[0m \u001b[0;32min\u001b[0m \u001b[0msublist\u001b[0m\u001b[0;34m]\u001b[0m\u001b[0;34m\u001b[0m\u001b[0;34m\u001b[0m\u001b[0m\n\u001b[0;32m--> 143\u001b[0;31m         \u001b[0;32mreturn\u001b[0m \u001b[0mpd\u001b[0m\u001b[0;34m.\u001b[0m\u001b[0mDataFrame\u001b[0m\u001b[0;34m(\u001b[0m\u001b[0mdata\u001b[0m\u001b[0;34m=\u001b[0m\u001b[0mself\u001b[0m\u001b[0;34m.\u001b[0m\u001b[0mout\u001b[0m\u001b[0;34m,\u001b[0m\u001b[0mcolumns\u001b[0m\u001b[0;34m=\u001b[0m\u001b[0mcolnames\u001b[0m\u001b[0;34m)\u001b[0m\u001b[0;34m\u001b[0m\u001b[0;34m\u001b[0m\u001b[0m\n\u001b[0m\u001b[1;32m    144\u001b[0m \u001b[0;34m\u001b[0m\u001b[0m\n\u001b[1;32m    145\u001b[0m     \u001b[0;32mdef\u001b[0m \u001b[0mgetVideoOutputH5\u001b[0m\u001b[0;34m(\u001b[0m\u001b[0mself\u001b[0m\u001b[0;34m,\u001b[0m \u001b[0mpathVideoFile\u001b[0m\u001b[0;34m,\u001b[0m\u001b[0mshuffle\u001b[0m\u001b[0;34m=\u001b[0m\u001b[0;36m1\u001b[0m\u001b[0;34m,\u001b[0m\u001b[0mtrainingsetindex\u001b[0m\u001b[0;34m=\u001b[0m\u001b[0;36m0\u001b[0m\u001b[0;34m,\u001b[0m \u001b[0mmodelprefix\u001b[0m\u001b[0;34m=\u001b[0m\u001b[0;34m\"\"\u001b[0m\u001b[0;34m)\u001b[0m\u001b[0;34m:\u001b[0m\u001b[0;34m\u001b[0m\u001b[0;34m\u001b[0m\u001b[0m\n",
      "\u001b[0;31mAttributeError\u001b[0m: 'MouseLeverDetector' object has no attribute 'out'"
     ]
    }
   ],
   "source": [
    "ses = myProject.sessionList[39]\n",
    "ses\n",
    "positionTrackingFromArenaTopVideo(ses,modelDir=dlcModelPath,arenaMinRadius=140,arenaMaxRadius=230, arenaCircleMethod=\"median\")"
   ]
  },
  {
   "cell_type": "code",
   "execution_count": 8,
   "metadata": {},
   "outputs": [
    {
     "name": "stdout",
     "output_type": "stream",
     "text": [
      "************************************************\n",
      "********** 0 mn9686-01112021-0106 *********************\n",
      "************************************************\n",
      "mn9686-01112021-0106\n",
      "Startint at 20:53:20\n",
      "labelImage: /adata/projects/autopi_ca1/mn9686/mn9686-01112021-0106/arenaDetection.png\n",
      "/tmp/tmpVid.avi created for bridge detection\n",
      "Running dlc.analyze_video on /tmp/tmpVid.avi\n",
      "Using snapshot-460000 for model /adata/models/bridgeDetection_640_480-Allen-2021-02-10/dlc-models/iteration-0/bridgeDetection_640_480Feb10-trainset95shuffle1\n"
     ]
    },
    {
     "name": "stderr",
     "output_type": "stream",
     "text": [
      "2021-11-26 20:55:16.121152: I tensorflow/stream_executor/platform/default/dso_loader.cc:44] Successfully opened dynamic library libcuda.so.1\n",
      "2021-11-26 20:55:16.151043: I tensorflow/stream_executor/cuda/cuda_gpu_executor.cc:981] successful NUMA node read from SysFS had negative value (-1), but there must be at least one NUMA node, so returning NUMA node zero\n",
      "2021-11-26 20:55:16.151323: I tensorflow/core/common_runtime/gpu/gpu_device.cc:1561] Found device 0 with properties: \n",
      "pciBusID: 0000:01:00.0 name: GeForce RTX 2080 Ti computeCapability: 7.5\n",
      "coreClock: 1.635GHz coreCount: 68 deviceMemorySize: 10.75GiB deviceMemoryBandwidth: 573.69GiB/s\n",
      "2021-11-26 20:55:16.152584: I tensorflow/stream_executor/platform/default/dso_loader.cc:44] Successfully opened dynamic library libcudart.so.10.1\n",
      "2021-11-26 20:55:16.167386: I tensorflow/stream_executor/platform/default/dso_loader.cc:44] Successfully opened dynamic library libcublas.so.10\n",
      "2021-11-26 20:55:16.176787: I tensorflow/stream_executor/platform/default/dso_loader.cc:44] Successfully opened dynamic library libcufft.so.10\n",
      "2021-11-26 20:55:16.178845: I tensorflow/stream_executor/platform/default/dso_loader.cc:44] Successfully opened dynamic library libcurand.so.10\n",
      "2021-11-26 20:55:16.194290: I tensorflow/stream_executor/platform/default/dso_loader.cc:44] Successfully opened dynamic library libcusolver.so.10\n",
      "2021-11-26 20:55:16.196525: I tensorflow/stream_executor/platform/default/dso_loader.cc:44] Successfully opened dynamic library libcusparse.so.10\n",
      "2021-11-26 20:55:16.227911: I tensorflow/stream_executor/platform/default/dso_loader.cc:44] Successfully opened dynamic library libcudnn.so.7\n",
      "2021-11-26 20:55:16.228062: I tensorflow/stream_executor/cuda/cuda_gpu_executor.cc:981] successful NUMA node read from SysFS had negative value (-1), but there must be at least one NUMA node, so returning NUMA node zero\n",
      "2021-11-26 20:55:16.228638: I tensorflow/stream_executor/cuda/cuda_gpu_executor.cc:981] successful NUMA node read from SysFS had negative value (-1), but there must be at least one NUMA node, so returning NUMA node zero\n",
      "2021-11-26 20:55:16.229091: I tensorflow/core/common_runtime/gpu/gpu_device.cc:1703] Adding visible gpu devices: 0\n",
      "2021-11-26 20:55:16.229918: I tensorflow/core/platform/cpu_feature_guard.cc:143] Your CPU supports instructions that this TensorFlow binary was not compiled to use: AVX2 FMA\n",
      "2021-11-26 20:55:16.258402: I tensorflow/core/platform/profile_utils/cpu_utils.cc:102] CPU Frequency: 3600000000 Hz\n",
      "2021-11-26 20:55:16.259045: I tensorflow/compiler/xla/service/service.cc:168] XLA service 0x7fc40c000b60 initialized for platform Host (this does not guarantee that XLA will be used). Devices:\n",
      "2021-11-26 20:55:16.259076: I tensorflow/compiler/xla/service/service.cc:176]   StreamExecutor device (0): Host, Default Version\n",
      "2021-11-26 20:55:16.343154: I tensorflow/stream_executor/cuda/cuda_gpu_executor.cc:981] successful NUMA node read from SysFS had negative value (-1), but there must be at least one NUMA node, so returning NUMA node zero\n",
      "2021-11-26 20:55:16.343509: I tensorflow/compiler/xla/service/service.cc:168] XLA service 0x55c3b2f1e850 initialized for platform CUDA (this does not guarantee that XLA will be used). Devices:\n",
      "2021-11-26 20:55:16.343520: I tensorflow/compiler/xla/service/service.cc:176]   StreamExecutor device (0): GeForce RTX 2080 Ti, Compute Capability 7.5\n",
      "2021-11-26 20:55:16.344028: I tensorflow/stream_executor/cuda/cuda_gpu_executor.cc:981] successful NUMA node read from SysFS had negative value (-1), but there must be at least one NUMA node, so returning NUMA node zero\n",
      "2021-11-26 20:55:16.344307: I tensorflow/core/common_runtime/gpu/gpu_device.cc:1561] Found device 0 with properties: \n",
      "pciBusID: 0000:01:00.0 name: GeForce RTX 2080 Ti computeCapability: 7.5\n",
      "coreClock: 1.635GHz coreCount: 68 deviceMemorySize: 10.75GiB deviceMemoryBandwidth: 573.69GiB/s\n",
      "2021-11-26 20:55:16.344341: I tensorflow/stream_executor/platform/default/dso_loader.cc:44] Successfully opened dynamic library libcudart.so.10.1\n",
      "2021-11-26 20:55:16.344357: I tensorflow/stream_executor/platform/default/dso_loader.cc:44] Successfully opened dynamic library libcublas.so.10\n",
      "2021-11-26 20:55:16.344370: I tensorflow/stream_executor/platform/default/dso_loader.cc:44] Successfully opened dynamic library libcufft.so.10\n",
      "2021-11-26 20:55:16.344409: I tensorflow/stream_executor/platform/default/dso_loader.cc:44] Successfully opened dynamic library libcurand.so.10\n",
      "2021-11-26 20:55:16.344430: I tensorflow/stream_executor/platform/default/dso_loader.cc:44] Successfully opened dynamic library libcusolver.so.10\n",
      "2021-11-26 20:55:16.344448: I tensorflow/stream_executor/platform/default/dso_loader.cc:44] Successfully opened dynamic library libcusparse.so.10\n",
      "2021-11-26 20:55:16.344466: I tensorflow/stream_executor/platform/default/dso_loader.cc:44] Successfully opened dynamic library libcudnn.so.7\n",
      "2021-11-26 20:55:16.344552: I tensorflow/stream_executor/cuda/cuda_gpu_executor.cc:981] successful NUMA node read from SysFS had negative value (-1), but there must be at least one NUMA node, so returning NUMA node zero\n",
      "2021-11-26 20:55:16.344953: I tensorflow/stream_executor/cuda/cuda_gpu_executor.cc:981] successful NUMA node read from SysFS had negative value (-1), but there must be at least one NUMA node, so returning NUMA node zero\n",
      "2021-11-26 20:55:16.345265: I tensorflow/core/common_runtime/gpu/gpu_device.cc:1703] Adding visible gpu devices: 0\n",
      "2021-11-26 20:55:16.345506: I tensorflow/stream_executor/platform/default/dso_loader.cc:44] Successfully opened dynamic library libcudart.so.10.1\n",
      "2021-11-26 20:55:16.346288: I tensorflow/core/common_runtime/gpu/gpu_device.cc:1102] Device interconnect StreamExecutor with strength 1 edge matrix:\n",
      "2021-11-26 20:55:16.346297: I tensorflow/core/common_runtime/gpu/gpu_device.cc:1108]      0 \n",
      "2021-11-26 20:55:16.346301: I tensorflow/core/common_runtime/gpu/gpu_device.cc:1121] 0:   N \n",
      "2021-11-26 20:55:16.346566: I tensorflow/stream_executor/cuda/cuda_gpu_executor.cc:981] successful NUMA node read from SysFS had negative value (-1), but there must be at least one NUMA node, so returning NUMA node zero\n",
      "2021-11-26 20:55:16.346927: I tensorflow/stream_executor/cuda/cuda_gpu_executor.cc:981] successful NUMA node read from SysFS had negative value (-1), but there must be at least one NUMA node, so returning NUMA node zero\n",
      "2021-11-26 20:55:16.347253: I tensorflow/core/common_runtime/gpu/gpu_device.cc:1247] Created TensorFlow device (/job:localhost/replica:0/task:0/device:GPU:0 with 9954 MB memory) -> physical GPU (device: 0, name: GeForce RTX 2080 Ti, pci bus id: 0000:01:00.0, compute capability: 7.5)\n"
     ]
    },
    {
     "name": "stdout",
     "output_type": "stream",
     "text": [
      "Starting to analyze %  /tmp/tmpVid.avi\n",
      "/tmp  already exists!\n",
      "Loading  /tmp/tmpVid.avi\n",
      "Duration of video [s]:  33.33 , recorded with  30.0 fps!\n",
      "Overall # of frames:  1000  found with (before cropping) frame dimensions:  480 480\n",
      "Starting to extract posture\n"
     ]
    },
    {
     "name": "stderr",
     "output_type": "stream",
     "text": [
      "  0%|                                                  | 0/1000 [00:00<?, ?it/s]2021-11-26 20:55:19.053456: I tensorflow/stream_executor/platform/default/dso_loader.cc:44] Successfully opened dynamic library libcudnn.so.7\n",
      "2021-11-26 20:55:20.000365: I tensorflow/stream_executor/platform/default/dso_loader.cc:44] Successfully opened dynamic library libcublas.so.10\n",
      "1010it [00:12, 78.33it/s]                                                       \n"
     ]
    },
    {
     "name": "stdout",
     "output_type": "stream",
     "text": [
      "Saving results in /tmp...\n",
      "The videos are analyzed. Now your research can truly start! \n",
      " You can create labeled videos with 'create_labeled_video'\n",
      "If the tracking is not satisfactory for some videos, consider expanding the training set. You can use the function 'extract_outlier_frames' to extract a few representative outlier frames.\n",
      "dlc.loadPositionData() read data from /tmp/tmpVidDLC_resnet50_bridgeDetection_640_480Feb10shuffle1_460000.h5\n",
      "dlc.loadPositionData() read data from /tmp/tmpVidDLC_resnet50_bridgeDetection_640_480Feb10shuffle1_460000.h5\n",
      "Saving position data to /tmp/tmpVidDLC_resnet50_bridgeDetection_640_480Feb10shuffle1_460000.csv\n",
      "dlc.loadPositionData() read data from /tmp/tmpVidDLC_resnet50_bridgeDetection_640_480Feb10shuffle1_460000.h5\n",
      "Bridge coordinates: [[212   0]\n",
      " [212   9]\n",
      " [256   9]\n",
      " [256   0]]\n",
      "labelImage: /adata/projects/autopi_ca1/mn9686/mn9686-01112021-0106/bridgeDetection.png\n",
      "Time elapsed 0:02:11.108045\n",
      "Cropping and masking 163806 frames in /adata/projects/autopi_ca1/mn9686/mn9686-01112021-0106/mn9686-01112021-0106.arena_top.avi\n",
      "Output file /adata/projects/autopi_ca1/mn9686/mn9686-01112021-0106/mn9686-01112021-0106.arena_top.cropped.avi\n",
      "163800 of 163806 frames\n",
      "Exiting. Video saved as /adata/projects/autopi_ca1/mn9686/mn9686-01112021-0106/mn9686-01112021-0106.arena_top.cropped.avi\n",
      "Time elapsed 0:09:55.645556\n",
      "Removing previous inference data: /adata/projects/autopi_ca1/mn9686/mn9686-01112021-0106/mn9686-01112021-0106.arena_top.croppedDLC_resnet50_arena_topOct30shuffle1_950000.h5\n",
      "Running dlc.analyze_video on /adata/projects/autopi_ca1/mn9686/mn9686-01112021-0106/mn9686-01112021-0106.arena_top.cropped.avi\n",
      "Using snapshot-950000 for model /adata/models/arena_top-Allen-2019-10-30/dlc-models/iteration-0/arena_topOct30-trainset90shuffle1\n"
     ]
    },
    {
     "name": "stderr",
     "output_type": "stream",
     "text": [
      "2021-11-26 21:03:18.305120: I tensorflow/stream_executor/cuda/cuda_gpu_executor.cc:981] successful NUMA node read from SysFS had negative value (-1), but there must be at least one NUMA node, so returning NUMA node zero\n",
      "2021-11-26 21:03:18.305336: I tensorflow/core/common_runtime/gpu/gpu_device.cc:1561] Found device 0 with properties: \n",
      "pciBusID: 0000:01:00.0 name: GeForce RTX 2080 Ti computeCapability: 7.5\n",
      "coreClock: 1.635GHz coreCount: 68 deviceMemorySize: 10.75GiB deviceMemoryBandwidth: 573.69GiB/s\n",
      "2021-11-26 21:03:18.312782: I tensorflow/stream_executor/platform/default/dso_loader.cc:44] Successfully opened dynamic library libcudart.so.10.1\n",
      "2021-11-26 21:03:18.312806: I tensorflow/stream_executor/platform/default/dso_loader.cc:44] Successfully opened dynamic library libcublas.so.10\n",
      "2021-11-26 21:03:18.312820: I tensorflow/stream_executor/platform/default/dso_loader.cc:44] Successfully opened dynamic library libcufft.so.10\n",
      "2021-11-26 21:03:18.312835: I tensorflow/stream_executor/platform/default/dso_loader.cc:44] Successfully opened dynamic library libcurand.so.10\n",
      "2021-11-26 21:03:18.312850: I tensorflow/stream_executor/platform/default/dso_loader.cc:44] Successfully opened dynamic library libcusolver.so.10\n",
      "2021-11-26 21:03:18.312864: I tensorflow/stream_executor/platform/default/dso_loader.cc:44] Successfully opened dynamic library libcusparse.so.10\n",
      "2021-11-26 21:03:18.312918: I tensorflow/stream_executor/platform/default/dso_loader.cc:44] Successfully opened dynamic library libcudnn.so.7\n",
      "2021-11-26 21:03:18.313021: I tensorflow/stream_executor/cuda/cuda_gpu_executor.cc:981] successful NUMA node read from SysFS had negative value (-1), but there must be at least one NUMA node, so returning NUMA node zero\n",
      "2021-11-26 21:03:18.313224: I tensorflow/stream_executor/cuda/cuda_gpu_executor.cc:981] successful NUMA node read from SysFS had negative value (-1), but there must be at least one NUMA node, so returning NUMA node zero\n",
      "2021-11-26 21:03:18.313391: I tensorflow/core/common_runtime/gpu/gpu_device.cc:1703] Adding visible gpu devices: 0\n",
      "2021-11-26 21:03:18.313413: I tensorflow/core/common_runtime/gpu/gpu_device.cc:1102] Device interconnect StreamExecutor with strength 1 edge matrix:\n",
      "2021-11-26 21:03:18.313417: I tensorflow/core/common_runtime/gpu/gpu_device.cc:1108]      0 \n",
      "2021-11-26 21:03:18.313420: I tensorflow/core/common_runtime/gpu/gpu_device.cc:1121] 0:   N \n",
      "2021-11-26 21:03:18.313481: I tensorflow/stream_executor/cuda/cuda_gpu_executor.cc:981] successful NUMA node read from SysFS had negative value (-1), but there must be at least one NUMA node, so returning NUMA node zero\n",
      "2021-11-26 21:03:18.313721: I tensorflow/stream_executor/cuda/cuda_gpu_executor.cc:981] successful NUMA node read from SysFS had negative value (-1), but there must be at least one NUMA node, so returning NUMA node zero\n",
      "2021-11-26 21:03:18.313884: I tensorflow/core/common_runtime/gpu/gpu_device.cc:1247] Created TensorFlow device (/job:localhost/replica:0/task:0/device:GPU:0 with 9954 MB memory) -> physical GPU (device: 0, name: GeForce RTX 2080 Ti, pci bus id: 0000:01:00.0, compute capability: 7.5)\n"
     ]
    },
    {
     "name": "stdout",
     "output_type": "stream",
     "text": [
      "Starting to analyze %  /adata/projects/autopi_ca1/mn9686/mn9686-01112021-0106/mn9686-01112021-0106.arena_top.cropped.avi\n",
      "/adata/projects/autopi_ca1/mn9686/mn9686-01112021-0106  already exists!\n",
      "Loading  /adata/projects/autopi_ca1/mn9686/mn9686-01112021-0106/mn9686-01112021-0106.arena_top.cropped.avi\n",
      "Duration of video [s]:  5460.2 , recorded with  30.0 fps!\n",
      "Overall # of frames:  163806  found with (before cropping) frame dimensions:  480 480\n",
      "Starting to extract posture\n"
     ]
    },
    {
     "name": "stderr",
     "output_type": "stream",
     "text": [
      "165438it [29:40, 92.90it/s]                                                     \n"
     ]
    },
    {
     "name": "stdout",
     "output_type": "stream",
     "text": [
      "Saving results in /adata/projects/autopi_ca1/mn9686/mn9686-01112021-0106...\n",
      "The videos are analyzed. Now your research can truly start! \n",
      " You can create labeled videos with 'create_labeled_video'\n",
      "If the tracking is not satisfactory for some videos, consider expanding the training set. You can use the function 'extract_outlier_frames' to extract a few representative outlier frames.\n",
      "dlc.loadPositionData() read data from /adata/projects/autopi_ca1/mn9686/mn9686-01112021-0106/mn9686-01112021-0106.arena_top.croppedDLC_resnet50_arena_topOct30shuffle1_950000.h5\n",
      "dlc.loadPositionData() read data from /adata/projects/autopi_ca1/mn9686/mn9686-01112021-0106/mn9686-01112021-0106.arena_top.croppedDLC_resnet50_arena_topOct30shuffle1_950000.h5\n",
      "Saving position data to /adata/projects/autopi_ca1/mn9686/mn9686-01112021-0106/mn9686-01112021-0106.arena_top.croppedDLC_resnet50_arena_topOct30shuffle1_950000.csv\n",
      "dlc.loadPositionData() read data from /adata/projects/autopi_ca1/mn9686/mn9686-01112021-0106/mn9686-01112021-0106.arena_top.croppedDLC_resnet50_arena_topOct30shuffle1_950000.h5\n",
      "Time elapsed 0:39:46.695572\n",
      "Time elapsed 0:39:46.695621\n",
      "labelImage: /adata/projects/autopi_ca1/mn9686/mn9686-01112021-0106/arenaDetectionCropped.png\n",
      "/tmp/tmpVid.avi created for bridge detection\n",
      "Running dlc.analyze_video on /tmp/tmpVid.avi\n",
      "Using snapshot-320000 for model /adata/models/bridgeDetection_480_480-Allen-2021-01-23/dlc-models/iteration-0/bridgeDetection_480_480Jan23-trainset90shuffle1\n"
     ]
    },
    {
     "name": "stderr",
     "output_type": "stream",
     "text": [
      "2021-11-26 21:33:41.011753: I tensorflow/stream_executor/cuda/cuda_gpu_executor.cc:981] successful NUMA node read from SysFS had negative value (-1), but there must be at least one NUMA node, so returning NUMA node zero\n",
      "2021-11-26 21:33:41.011950: I tensorflow/core/common_runtime/gpu/gpu_device.cc:1561] Found device 0 with properties: \n",
      "pciBusID: 0000:01:00.0 name: GeForce RTX 2080 Ti computeCapability: 7.5\n",
      "coreClock: 1.635GHz coreCount: 68 deviceMemorySize: 10.75GiB deviceMemoryBandwidth: 573.69GiB/s\n",
      "2021-11-26 21:33:41.012049: I tensorflow/stream_executor/platform/default/dso_loader.cc:44] Successfully opened dynamic library libcudart.so.10.1\n",
      "2021-11-26 21:33:41.012064: I tensorflow/stream_executor/platform/default/dso_loader.cc:44] Successfully opened dynamic library libcublas.so.10\n",
      "2021-11-26 21:33:41.012078: I tensorflow/stream_executor/platform/default/dso_loader.cc:44] Successfully opened dynamic library libcufft.so.10\n",
      "2021-11-26 21:33:41.012092: I tensorflow/stream_executor/platform/default/dso_loader.cc:44] Successfully opened dynamic library libcurand.so.10\n",
      "2021-11-26 21:33:41.012106: I tensorflow/stream_executor/platform/default/dso_loader.cc:44] Successfully opened dynamic library libcusolver.so.10\n",
      "2021-11-26 21:33:41.012119: I tensorflow/stream_executor/platform/default/dso_loader.cc:44] Successfully opened dynamic library libcusparse.so.10\n",
      "2021-11-26 21:33:41.012162: I tensorflow/stream_executor/platform/default/dso_loader.cc:44] Successfully opened dynamic library libcudnn.so.7\n",
      "2021-11-26 21:33:41.012231: I tensorflow/stream_executor/cuda/cuda_gpu_executor.cc:981] successful NUMA node read from SysFS had negative value (-1), but there must be at least one NUMA node, so returning NUMA node zero\n",
      "2021-11-26 21:33:41.012507: I tensorflow/stream_executor/cuda/cuda_gpu_executor.cc:981] successful NUMA node read from SysFS had negative value (-1), but there must be at least one NUMA node, so returning NUMA node zero\n",
      "2021-11-26 21:33:41.012654: I tensorflow/core/common_runtime/gpu/gpu_device.cc:1703] Adding visible gpu devices: 0\n",
      "2021-11-26 21:33:41.012712: I tensorflow/core/common_runtime/gpu/gpu_device.cc:1102] Device interconnect StreamExecutor with strength 1 edge matrix:\n",
      "2021-11-26 21:33:41.012715: I tensorflow/core/common_runtime/gpu/gpu_device.cc:1108]      0 \n",
      "2021-11-26 21:33:41.012718: I tensorflow/core/common_runtime/gpu/gpu_device.cc:1121] 0:   N \n",
      "2021-11-26 21:33:41.012810: I tensorflow/stream_executor/cuda/cuda_gpu_executor.cc:981] successful NUMA node read from SysFS had negative value (-1), but there must be at least one NUMA node, so returning NUMA node zero\n",
      "2021-11-26 21:33:41.013037: I tensorflow/stream_executor/cuda/cuda_gpu_executor.cc:981] successful NUMA node read from SysFS had negative value (-1), but there must be at least one NUMA node, so returning NUMA node zero\n",
      "2021-11-26 21:33:41.013210: I tensorflow/core/common_runtime/gpu/gpu_device.cc:1247] Created TensorFlow device (/job:localhost/replica:0/task:0/device:GPU:0 with 9954 MB memory) -> physical GPU (device: 0, name: GeForce RTX 2080 Ti, pci bus id: 0000:01:00.0, compute capability: 7.5)\n"
     ]
    },
    {
     "name": "stdout",
     "output_type": "stream",
     "text": [
      "Starting to analyze %  /tmp/tmpVid.avi\n",
      "/tmp  already exists!\n",
      "Loading  /tmp/tmpVid.avi\n",
      "Duration of video [s]:  33.33 , recorded with  30.0 fps!\n",
      "Overall # of frames:  1000  found with (before cropping) frame dimensions:  480 480\n",
      "Starting to extract posture\n"
     ]
    },
    {
     "name": "stderr",
     "output_type": "stream",
     "text": [
      "1010it [00:11, 91.72it/s]                                                       \n"
     ]
    },
    {
     "name": "stdout",
     "output_type": "stream",
     "text": [
      "Saving results in /tmp...\n",
      "The videos are analyzed. Now your research can truly start! \n",
      " You can create labeled videos with 'create_labeled_video'\n",
      "If the tracking is not satisfactory for some videos, consider expanding the training set. You can use the function 'extract_outlier_frames' to extract a few representative outlier frames.\n",
      "dlc.loadPositionData() read data from /tmp/tmpVidDLC_resnet50_bridgeDetection_480_480Jan23shuffle1_320000.h5\n",
      "dlc.loadPositionData() read data from /tmp/tmpVidDLC_resnet50_bridgeDetection_480_480Jan23shuffle1_320000.h5\n",
      "Saving position data to /tmp/tmpVidDLC_resnet50_bridgeDetection_480_480Jan23shuffle1_320000.csv\n",
      "dlc.loadPositionData() read data from /tmp/tmpVidDLC_resnet50_bridgeDetection_480_480Jan23shuffle1_320000.h5\n",
      "Bridge coordinates: [[212   0]\n",
      " [212   9]\n",
      " [262   9]\n",
      " [262   0]]\n",
      "labelImage: /adata/projects/autopi_ca1/mn9686/mn9686-01112021-0106/bridgeDetectionCropped.png\n",
      "labelImage: /adata/projects/autopi_ca1/mn9686/mn9686-01112021-0106/arenaBridgeDetectionCropped.png\n",
      "Ending at  21:33:53\n",
      "***Total duration: 0:40:32.817332 ***\n"
     ]
    }
   ],
   "source": [
    "from autopipy.video_utilities import positionTrackingFromArenaTopVideo\n",
    "#for i,ses in enumerate(myProject.sessionList[43:]):\n",
    "for i,ses in enumerate(myProject.sessionList[43:]): # [ ses for ses in myProject.sessionList if not os.path.exists(ses.path+\"/arenaBridgeDetectionCropped.png\")]):\n",
    "    print(\"************************************************\")\n",
    "    print(\"**********\", i, ses.name, \"*********************\")\n",
    "    print(\"************************************************\")\n",
    "    #ses = myProject.sessionList[4]\n",
    "    print(ses.name)\n",
    "    positionTrackingFromArenaTopVideo(ses,modelDir=dlcModelPath,arenaMinRadius=140,arenaMaxRadius=230, arenaCircleMethod=\"median\")\n"
   ]
  },
  {
   "cell_type": "markdown",
   "metadata": {},
   "source": [
    "To fix arena detection...\n"
   ]
  },
  {
   "cell_type": "code",
   "execution_count": 4,
   "metadata": {},
   "outputs": [
    {
     "name": "stdout",
     "output_type": "stream",
     "text": [
      "Startint at 10:15:52\n",
      "labelImage: /adata/projects/autopi_behavior_2021/mn7701/mn7701-19122019-1216/arenaDetection.png\n",
      "/tmp/tmpVid.avi created for bridge detection\n",
      "Running dlc.analyze_video on /tmp/tmpVid.avi\n",
      "Using snapshot-460000 for model /adata/models/bridgeDetection_640_480-Allen-2021-02-10/dlc-models/iteration-0/bridgeDetection_640_480Feb10-trainset95shuffle1\n",
      "Initializing ResNet\n"
     ]
    },
    {
     "name": "stderr",
     "output_type": "stream",
     "text": [
      "  0%|          | 0/500 [00:00<?, ?it/s]"
     ]
    },
    {
     "name": "stdout",
     "output_type": "stream",
     "text": [
      "Starting to analyze %  /tmp/tmpVid.avi\n",
      "/tmp  already exists!\n",
      "Loading  /tmp/tmpVid.avi\n",
      "Duration of video [s]:  16.67 , recorded with  30.0 fps!\n",
      "Overall # of frames:  500  found with (before cropping) frame dimensions:  640 480\n",
      "Starting to extract posture\n"
     ]
    },
    {
     "name": "stderr",
     "output_type": "stream",
     "text": [
      "510it [00:08, 56.88it/s]                         \n"
     ]
    },
    {
     "name": "stdout",
     "output_type": "stream",
     "text": [
      "Saving results in /tmp...\n",
      "The videos are analyzed. Now your research can truly start! \n",
      " You can create labeled videos with 'create_labeled_video'\n",
      "If the tracking is not satisfactory for some videos, consider expanding the training set. You can use the function 'extract_outlier_frames' to extract a few representative outlier frames.\n",
      "dlc.loadPositionData() read data from /tmp/tmpVidDLC_resnet_50_bridgeDetection_640_480Feb10shuffle1_460000.h5\n",
      "dlc.loadPositionData() read data from /tmp/tmpVidDLC_resnet_50_bridgeDetection_640_480Feb10shuffle1_460000.h5\n",
      "Saving position data to /tmp/tmpVidDLC_resnet_50_bridgeDetection_640_480Feb10shuffle1_460000.csv\n",
      "dlc.loadPositionData() read data from /tmp/tmpVidDLC_resnet_50_bridgeDetection_640_480Feb10shuffle1_460000.h5\n",
      "Bridge coordinates: [[293   0]\n",
      " [293  30]\n",
      " [335  30]\n",
      " [335   0]]\n",
      "labelImage: /adata/projects/autopi_behavior_2021/mn7701/mn7701-19122019-1216/bridgeDetection.png\n",
      "Time elapsed 0:00:21.893074\n",
      "Cropping and masking 106253 frames in /adata/projects/autopi_behavior_2021/mn7701/mn7701-19122019-1216/mn7701-19122019-1216.arena_top.avi\n",
      "Output file /adata/projects/autopi_behavior_2021/mn7701/mn7701-19122019-1216/mn7701-19122019-1216.arena_top.cropped.avi\n",
      "106250 of 106253 frames\n",
      "Exiting. Video saved as /adata/projects/autopi_behavior_2021/mn7701/mn7701-19122019-1216/mn7701-19122019-1216.arena_top.cropped.avi\n",
      "Time elapsed 0:08:42.511479\n",
      "Removing previous inference data: /adata/projects/autopi_behavior_2021/mn7701/mn7701-19122019-1216/mn7701-19122019-1216.arena_top.croppedDLC_resnet_50_arena_topOct30shuffle1_950000.h5\n",
      "Running dlc.analyze_video on /adata/projects/autopi_behavior_2021/mn7701/mn7701-19122019-1216/mn7701-19122019-1216.arena_top.cropped.avi\n",
      "Using snapshot-950000 for model /adata/models/arena_top-Allen-2019-10-30/dlc-models/iteration-0/arena_topOct30-trainset90shuffle1\n",
      "Initializing ResNet\n"
     ]
    },
    {
     "name": "stderr",
     "output_type": "stream",
     "text": [
      "  0%|          | 0/106253 [00:00<?, ?it/s]"
     ]
    },
    {
     "name": "stdout",
     "output_type": "stream",
     "text": [
      "Starting to analyze %  /adata/projects/autopi_behavior_2021/mn7701/mn7701-19122019-1216/mn7701-19122019-1216.arena_top.cropped.avi\n",
      "/adata/projects/autopi_behavior_2021/mn7701/mn7701-19122019-1216  already exists!\n",
      "Loading  /adata/projects/autopi_behavior_2021/mn7701/mn7701-19122019-1216/mn7701-19122019-1216.arena_top.cropped.avi\n",
      "Duration of video [s]:  3541.77 , recorded with  30.0 fps!\n",
      "Overall # of frames:  106253  found with (before cropping) frame dimensions:  480 480\n",
      "Starting to extract posture\n"
     ]
    },
    {
     "name": "stderr",
     "output_type": "stream",
     "text": [
      "107262it [19:31, 91.55it/s]                            \n"
     ]
    },
    {
     "name": "stdout",
     "output_type": "stream",
     "text": [
      "Saving results in /adata/projects/autopi_behavior_2021/mn7701/mn7701-19122019-1216...\n",
      "The videos are analyzed. Now your research can truly start! \n",
      " You can create labeled videos with 'create_labeled_video'\n",
      "If the tracking is not satisfactory for some videos, consider expanding the training set. You can use the function 'extract_outlier_frames' to extract a few representative outlier frames.\n",
      "dlc.loadPositionData() read data from /adata/projects/autopi_behavior_2021/mn7701/mn7701-19122019-1216/mn7701-19122019-1216.arena_top.croppedDLC_resnet_50_arena_topOct30shuffle1_950000.h5\n",
      "dlc.loadPositionData() read data from /adata/projects/autopi_behavior_2021/mn7701/mn7701-19122019-1216/mn7701-19122019-1216.arena_top.croppedDLC_resnet_50_arena_topOct30shuffle1_950000.h5\n",
      "Saving position data to /adata/projects/autopi_behavior_2021/mn7701/mn7701-19122019-1216/mn7701-19122019-1216.arena_top.croppedDLC_resnet_50_arena_topOct30shuffle1_950000.csv\n",
      "dlc.loadPositionData() read data from /adata/projects/autopi_behavior_2021/mn7701/mn7701-19122019-1216/mn7701-19122019-1216.arena_top.croppedDLC_resnet_50_arena_topOct30shuffle1_950000.h5\n",
      "Time elapsed 0:28:24.733522\n",
      "Time elapsed 0:28:24.733757\n",
      "labelImage: /adata/projects/autopi_behavior_2021/mn7701/mn7701-19122019-1216/arenaDetectionCropped.png\n",
      "/tmp/tmpVid.avi created for bridge detection\n",
      "Running dlc.analyze_video on /tmp/tmpVid.avi\n",
      "Using snapshot-320000 for model /adata/models/bridgeDetection_480_480-Allen-2021-01-23/dlc-models/iteration-0/bridgeDetection_480_480Jan23-trainset90shuffle1\n",
      "Initializing ResNet\n"
     ]
    },
    {
     "name": "stderr",
     "output_type": "stream",
     "text": [
      "  0%|          | 0/500 [00:00<?, ?it/s]"
     ]
    },
    {
     "name": "stdout",
     "output_type": "stream",
     "text": [
      "Starting to analyze %  /tmp/tmpVid.avi\n",
      "/tmp  already exists!\n",
      "Loading  /tmp/tmpVid.avi\n",
      "Duration of video [s]:  16.67 , recorded with  30.0 fps!\n",
      "Overall # of frames:  500  found with (before cropping) frame dimensions:  480 480\n",
      "Starting to extract posture\n"
     ]
    },
    {
     "name": "stderr",
     "output_type": "stream",
     "text": [
      "510it [00:05, 87.12it/s]                         \n"
     ]
    },
    {
     "name": "stdout",
     "output_type": "stream",
     "text": [
      "Saving results in /tmp...\n",
      "The videos are analyzed. Now your research can truly start! \n",
      " You can create labeled videos with 'create_labeled_video'\n",
      "If the tracking is not satisfactory for some videos, consider expanding the training set. You can use the function 'extract_outlier_frames' to extract a few representative outlier frames.\n",
      "dlc.loadPositionData() read data from /tmp/tmpVidDLC_resnet_50_bridgeDetection_480_480Jan23shuffle1_320000.h5\n",
      "dlc.loadPositionData() read data from /tmp/tmpVidDLC_resnet_50_bridgeDetection_480_480Jan23shuffle1_320000.h5\n",
      "Saving position data to /tmp/tmpVidDLC_resnet_50_bridgeDetection_480_480Jan23shuffle1_320000.csv\n",
      "dlc.loadPositionData() read data from /tmp/tmpVidDLC_resnet_50_bridgeDetection_480_480Jan23shuffle1_320000.h5\n",
      "Bridge coordinates: [[218   0]\n",
      " [218  30]\n",
      " [258  30]\n",
      " [258   0]]\n",
      "labelImage: /adata/projects/autopi_behavior_2021/mn7701/mn7701-19122019-1216/bridgeDetectionCropped.png\n",
      "labelImage: /adata/projects/autopi_behavior_2021/mn7701/mn7701-19122019-1216/arenaBridgeDetectionCropped.png\n",
      "Ending at  10:44:33\n",
      "***Total duration: 0:28:40.770847 ***\n",
      "Startint at 10:44:33\n",
      "labelImage: /adata/projects/autopi_behavior_2021/mn7711/mn7711-19122019-1429/arenaDetection.png\n",
      "/tmp/tmpVid.avi created for bridge detection\n",
      "Running dlc.analyze_video on /tmp/tmpVid.avi\n",
      "Using snapshot-460000 for model /adata/models/bridgeDetection_640_480-Allen-2021-02-10/dlc-models/iteration-0/bridgeDetection_640_480Feb10-trainset95shuffle1\n",
      "Initializing ResNet\n"
     ]
    },
    {
     "name": "stderr",
     "output_type": "stream",
     "text": [
      "  0%|          | 0/500 [00:00<?, ?it/s]"
     ]
    },
    {
     "name": "stdout",
     "output_type": "stream",
     "text": [
      "Starting to analyze %  /tmp/tmpVid.avi\n",
      "/tmp  already exists!\n",
      "Loading  /tmp/tmpVid.avi\n",
      "Duration of video [s]:  16.67 , recorded with  30.0 fps!\n",
      "Overall # of frames:  500  found with (before cropping) frame dimensions:  640 480\n",
      "Starting to extract posture\n"
     ]
    },
    {
     "name": "stderr",
     "output_type": "stream",
     "text": [
      "510it [00:07, 67.45it/s]                         \n"
     ]
    },
    {
     "name": "stdout",
     "output_type": "stream",
     "text": [
      "Saving results in /tmp...\n",
      "The videos are analyzed. Now your research can truly start! \n",
      " You can create labeled videos with 'create_labeled_video'\n",
      "If the tracking is not satisfactory for some videos, consider expanding the training set. You can use the function 'extract_outlier_frames' to extract a few representative outlier frames.\n",
      "dlc.loadPositionData() read data from /tmp/tmpVidDLC_resnet_50_bridgeDetection_640_480Feb10shuffle1_460000.h5\n",
      "dlc.loadPositionData() read data from /tmp/tmpVidDLC_resnet_50_bridgeDetection_640_480Feb10shuffle1_460000.h5\n",
      "Saving position data to /tmp/tmpVidDLC_resnet_50_bridgeDetection_640_480Feb10shuffle1_460000.csv\n",
      "dlc.loadPositionData() read data from /tmp/tmpVidDLC_resnet_50_bridgeDetection_640_480Feb10shuffle1_460000.h5\n",
      "Bridge coordinates: [[293   0]\n",
      " [293  29]\n",
      " [336  29]\n",
      " [336   0]]\n",
      "labelImage: /adata/projects/autopi_behavior_2021/mn7711/mn7711-19122019-1429/bridgeDetection.png\n",
      "Time elapsed 0:00:19.858398\n",
      "Cropping and masking 115401 frames in /adata/projects/autopi_behavior_2021/mn7711/mn7711-19122019-1429/mn7711-19122019-1429.arena_top.avi\n",
      "Output file /adata/projects/autopi_behavior_2021/mn7711/mn7711-19122019-1429/mn7711-19122019-1429.arena_top.cropped.avi\n",
      "115400 of 115401 frames\n",
      "Exiting. Video saved as /adata/projects/autopi_behavior_2021/mn7711/mn7711-19122019-1429/mn7711-19122019-1429.arena_top.cropped.avi\n",
      "Time elapsed 0:09:20.618546\n",
      "Removing previous inference data: /adata/projects/autopi_behavior_2021/mn7711/mn7711-19122019-1429/mn7711-19122019-1429.arena_top.croppedDLC_resnet_50_arena_topOct30shuffle1_950000.h5\n",
      "Running dlc.analyze_video on /adata/projects/autopi_behavior_2021/mn7711/mn7711-19122019-1429/mn7711-19122019-1429.arena_top.cropped.avi\n",
      "Using snapshot-950000 for model /adata/models/arena_top-Allen-2019-10-30/dlc-models/iteration-0/arena_topOct30-trainset90shuffle1\n",
      "Initializing ResNet\n"
     ]
    },
    {
     "name": "stderr",
     "output_type": "stream",
     "text": [
      "  0%|          | 0/115401 [00:00<?, ?it/s]"
     ]
    },
    {
     "name": "stdout",
     "output_type": "stream",
     "text": [
      "Starting to analyze %  /adata/projects/autopi_behavior_2021/mn7711/mn7711-19122019-1429/mn7711-19122019-1429.arena_top.cropped.avi\n",
      "/adata/projects/autopi_behavior_2021/mn7711/mn7711-19122019-1429  already exists!\n",
      "Loading  /adata/projects/autopi_behavior_2021/mn7711/mn7711-19122019-1429/mn7711-19122019-1429.arena_top.cropped.avi\n",
      "Duration of video [s]:  3846.7 , recorded with  30.0 fps!\n",
      "Overall # of frames:  115401  found with (before cropping) frame dimensions:  480 480\n",
      "Starting to extract posture\n"
     ]
    },
    {
     "name": "stderr",
     "output_type": "stream",
     "text": [
      "116554it [21:00, 92.47it/s]                            \n"
     ]
    },
    {
     "name": "stdout",
     "output_type": "stream",
     "text": [
      "Saving results in /adata/projects/autopi_behavior_2021/mn7711/mn7711-19122019-1429...\n",
      "The videos are analyzed. Now your research can truly start! \n",
      " You can create labeled videos with 'create_labeled_video'\n",
      "If the tracking is not satisfactory for some videos, consider expanding the training set. You can use the function 'extract_outlier_frames' to extract a few representative outlier frames.\n",
      "dlc.loadPositionData() read data from /adata/projects/autopi_behavior_2021/mn7711/mn7711-19122019-1429/mn7711-19122019-1429.arena_top.croppedDLC_resnet_50_arena_topOct30shuffle1_950000.h5\n",
      "dlc.loadPositionData() read data from /adata/projects/autopi_behavior_2021/mn7711/mn7711-19122019-1429/mn7711-19122019-1429.arena_top.croppedDLC_resnet_50_arena_topOct30shuffle1_950000.h5\n",
      "Saving position data to /adata/projects/autopi_behavior_2021/mn7711/mn7711-19122019-1429/mn7711-19122019-1429.arena_top.croppedDLC_resnet_50_arena_topOct30shuffle1_950000.csv\n",
      "dlc.loadPositionData() read data from /adata/projects/autopi_behavior_2021/mn7711/mn7711-19122019-1429/mn7711-19122019-1429.arena_top.croppedDLC_resnet_50_arena_topOct30shuffle1_950000.h5\n",
      "Time elapsed 0:30:32.158665\n",
      "Time elapsed 0:30:32.158718\n",
      "labelImage: /adata/projects/autopi_behavior_2021/mn7711/mn7711-19122019-1429/arenaDetectionCropped.png\n",
      "/tmp/tmpVid.avi created for bridge detection\n",
      "Running dlc.analyze_video on /tmp/tmpVid.avi\n",
      "Using snapshot-320000 for model /adata/models/bridgeDetection_480_480-Allen-2021-01-23/dlc-models/iteration-0/bridgeDetection_480_480Jan23-trainset90shuffle1\n",
      "Initializing ResNet\n"
     ]
    },
    {
     "name": "stderr",
     "output_type": "stream",
     "text": [
      "  0%|          | 0/500 [00:00<?, ?it/s]"
     ]
    },
    {
     "name": "stdout",
     "output_type": "stream",
     "text": [
      "Starting to analyze %  /tmp/tmpVid.avi\n",
      "/tmp  already exists!\n",
      "Loading  /tmp/tmpVid.avi\n",
      "Duration of video [s]:  16.67 , recorded with  30.0 fps!\n",
      "Overall # of frames:  500  found with (before cropping) frame dimensions:  480 480\n",
      "Starting to extract posture\n"
     ]
    },
    {
     "name": "stderr",
     "output_type": "stream",
     "text": [
      "510it [00:05, 85.07it/s]                         \n"
     ]
    },
    {
     "name": "stdout",
     "output_type": "stream",
     "text": [
      "Saving results in /tmp...\n",
      "The videos are analyzed. Now your research can truly start! \n",
      " You can create labeled videos with 'create_labeled_video'\n",
      "If the tracking is not satisfactory for some videos, consider expanding the training set. You can use the function 'extract_outlier_frames' to extract a few representative outlier frames.\n",
      "dlc.loadPositionData() read data from /tmp/tmpVidDLC_resnet_50_bridgeDetection_480_480Jan23shuffle1_320000.h5\n",
      "dlc.loadPositionData() read data from /tmp/tmpVidDLC_resnet_50_bridgeDetection_480_480Jan23shuffle1_320000.h5\n",
      "Saving position data to /tmp/tmpVidDLC_resnet_50_bridgeDetection_480_480Jan23shuffle1_320000.csv\n",
      "dlc.loadPositionData() read data from /tmp/tmpVidDLC_resnet_50_bridgeDetection_480_480Jan23shuffle1_320000.h5\n",
      "Bridge coordinates: [[218   0]\n",
      " [218  29]\n",
      " [260  29]\n",
      " [260   0]]\n",
      "labelImage: /adata/projects/autopi_behavior_2021/mn7711/mn7711-19122019-1429/bridgeDetectionCropped.png\n",
      "labelImage: /adata/projects/autopi_behavior_2021/mn7711/mn7711-19122019-1429/arenaBridgeDetectionCropped.png\n",
      "Ending at  11:15:20\n",
      "***Total duration: 0:30:47.170353 ***\n"
     ]
    }
   ],
   "source": [
    "## Sessions to re-run with new network\n",
    "sesNameList = [\"mn7701-19122019-1216\",\"mn7711-19122019-1429\"]\n",
    "for sesName in sesNameList:\n",
    "    ses=myProject.getSession(sesName)\n",
    "    positionTrackingFromArenaTopVideo(ses=ses,modelDir=myProject.dlcModelPath)"
   ]
  },
  {
   "cell_type": "markdown",
   "metadata": {},
   "source": [
    "## Group of sessions\n",
    "And to run a group of sessions, simply run this in a for loop. I will save the session name in a file to keep track of what is done.\n",
    "\n",
    "pc73 from home.\n",
    "Friday: I did 0:10 as a first try and worked great. 5%\n",
    "Friday: I tried 10:40 overnight to test overnight vpn connection, manage to do 32 sessions. \n",
    "\n",
    "It is too slow if run only on one computer.\n",
    "pc59 and pc 73\n",
    "\n",
    "* pc73: [32:100]\n",
    "* pc59: [100:]"
   ]
  },
  {
   "cell_type": "code",
   "execution_count": 6,
   "metadata": {},
   "outputs": [
    {
     "name": "stdout",
     "output_type": "stream",
     "text": [
      "Startint at 21:17:46\n",
      "labelImage: /adata/projects/autopi_behavior_2021/mn9686/mn9686-16052021-1443/arenaDetection.png\n",
      "/tmp/tmpVid.avi created for bridge detection\n",
      "Running dlc.analyze_video on /tmp/tmpVid.avi\n",
      "Using snapshot-460000 for model /adata/models/bridgeDetection_640_480-Allen-2021-02-10/dlc-models/iteration-0/bridgeDetection_640_480Feb10-trainset95shuffle1\n",
      "Initializing ResNet\n"
     ]
    },
    {
     "name": "stderr",
     "output_type": "stream",
     "text": [
      "  0%|          | 0/500 [00:00<?, ?it/s]"
     ]
    },
    {
     "name": "stdout",
     "output_type": "stream",
     "text": [
      "Starting to analyze %  /tmp/tmpVid.avi\n",
      "/tmp  already exists!\n",
      "Loading  /tmp/tmpVid.avi\n",
      "Duration of video [s]:  16.67 , recorded with  30.0 fps!\n",
      "Overall # of frames:  500  found with (before cropping) frame dimensions:  640 480\n",
      "Starting to extract posture\n"
     ]
    },
    {
     "name": "stderr",
     "output_type": "stream",
     "text": [
      "510it [00:08, 59.24it/s]                         \n"
     ]
    },
    {
     "name": "stdout",
     "output_type": "stream",
     "text": [
      "Saving results in /tmp...\n",
      "The videos are analyzed. Now your research can truly start! \n",
      " You can create labeled videos with 'create_labeled_video'\n",
      "If the tracking is not satisfactory for some videos, consider expanding the training set. You can use the function 'extract_outlier_frames' to extract a few representative outlier frames.\n",
      "dlc.loadPositionData() read data from /tmp/tmpVidDLC_resnet_50_bridgeDetection_640_480Feb10shuffle1_460000.h5\n",
      "dlc.loadPositionData() read data from /tmp/tmpVidDLC_resnet_50_bridgeDetection_640_480Feb10shuffle1_460000.h5\n",
      "Saving position data to /tmp/tmpVidDLC_resnet_50_bridgeDetection_640_480Feb10shuffle1_460000.csv\n",
      "dlc.loadPositionData() read data from /tmp/tmpVidDLC_resnet_50_bridgeDetection_640_480Feb10shuffle1_460000.h5\n",
      "Bridge coordinates: [[270   0]\n",
      " [270  22]\n",
      " [323  22]\n",
      " [323   0]]\n",
      "labelImage: /adata/projects/autopi_behavior_2021/mn9686/mn9686-16052021-1443/bridgeDetection.png\n",
      "Time elapsed 0:00:20.049256\n",
      "Cropping and masking 157232 frames in /adata/projects/autopi_behavior_2021/mn9686/mn9686-16052021-1443/mn9686-16052021-1443.arena_top.avi\n",
      "Output file /adata/projects/autopi_behavior_2021/mn9686/mn9686-16052021-1443/mn9686-16052021-1443.arena_top.cropped.avi\n",
      "157230 of 157232 frames\n",
      "Exiting. Video saved as /adata/projects/autopi_behavior_2021/mn9686/mn9686-16052021-1443/mn9686-16052021-1443.arena_top.cropped.avi\n",
      "Time elapsed 0:09:49.695165\n",
      "Removing previous inference data: /adata/projects/autopi_behavior_2021/mn9686/mn9686-16052021-1443/mn9686-16052021-1443.arena_top.croppedDLC_resnet_50_arena_topOct30shuffle1_950000.h5\n",
      "Running dlc.analyze_video on /adata/projects/autopi_behavior_2021/mn9686/mn9686-16052021-1443/mn9686-16052021-1443.arena_top.cropped.avi\n",
      "Using snapshot-950000 for model /adata/models/arena_top-Allen-2019-10-30/dlc-models/iteration-0/arena_topOct30-trainset90shuffle1\n",
      "Initializing ResNet\n"
     ]
    },
    {
     "name": "stderr",
     "output_type": "stream",
     "text": [
      "  0%|          | 0/157232 [00:00<?, ?it/s]"
     ]
    },
    {
     "name": "stdout",
     "output_type": "stream",
     "text": [
      "Starting to analyze %  /adata/projects/autopi_behavior_2021/mn9686/mn9686-16052021-1443/mn9686-16052021-1443.arena_top.cropped.avi\n",
      "/adata/projects/autopi_behavior_2021/mn9686/mn9686-16052021-1443  already exists!\n",
      "Loading  /adata/projects/autopi_behavior_2021/mn9686/mn9686-16052021-1443/mn9686-16052021-1443.arena_top.cropped.avi\n",
      "Duration of video [s]:  5241.07 , recorded with  30.0 fps!\n",
      "Overall # of frames:  157232  found with (before cropping) frame dimensions:  480 480\n",
      "Starting to extract posture\n"
     ]
    },
    {
     "name": "stderr",
     "output_type": "stream",
     "text": [
      "158772it [29:31, 89.62it/s]                            \n"
     ]
    },
    {
     "name": "stdout",
     "output_type": "stream",
     "text": [
      "Saving results in /adata/projects/autopi_behavior_2021/mn9686/mn9686-16052021-1443...\n",
      "The videos are analyzed. Now your research can truly start! \n",
      " You can create labeled videos with 'create_labeled_video'\n",
      "If the tracking is not satisfactory for some videos, consider expanding the training set. You can use the function 'extract_outlier_frames' to extract a few representative outlier frames.\n",
      "dlc.loadPositionData() read data from /adata/projects/autopi_behavior_2021/mn9686/mn9686-16052021-1443/mn9686-16052021-1443.arena_top.croppedDLC_resnet_50_arena_topOct30shuffle1_950000.h5\n",
      "dlc.loadPositionData() read data from /adata/projects/autopi_behavior_2021/mn9686/mn9686-16052021-1443/mn9686-16052021-1443.arena_top.croppedDLC_resnet_50_arena_topOct30shuffle1_950000.h5\n",
      "Saving position data to /adata/projects/autopi_behavior_2021/mn9686/mn9686-16052021-1443/mn9686-16052021-1443.arena_top.croppedDLC_resnet_50_arena_topOct30shuffle1_950000.csv\n",
      "dlc.loadPositionData() read data from /adata/projects/autopi_behavior_2021/mn9686/mn9686-16052021-1443/mn9686-16052021-1443.arena_top.croppedDLC_resnet_50_arena_topOct30shuffle1_950000.h5\n",
      "Time elapsed 0:39:31.634835\n",
      "Time elapsed 0:39:31.634885\n",
      "labelImage: /adata/projects/autopi_behavior_2021/mn9686/mn9686-16052021-1443/arenaDetectionCropped.png\n",
      "/tmp/tmpVid.avi created for bridge detection\n",
      "Running dlc.analyze_video on /tmp/tmpVid.avi\n",
      "Using snapshot-320000 for model /adata/models/bridgeDetection_480_480-Allen-2021-01-23/dlc-models/iteration-0/bridgeDetection_480_480Jan23-trainset90shuffle1\n",
      "Initializing ResNet\n"
     ]
    },
    {
     "name": "stderr",
     "output_type": "stream",
     "text": [
      "  0%|          | 0/500 [00:00<?, ?it/s]"
     ]
    },
    {
     "name": "stdout",
     "output_type": "stream",
     "text": [
      "Starting to analyze %  /tmp/tmpVid.avi\n",
      "/tmp  already exists!\n",
      "Loading  /tmp/tmpVid.avi\n",
      "Duration of video [s]:  16.67 , recorded with  30.0 fps!\n",
      "Overall # of frames:  500  found with (before cropping) frame dimensions:  480 480\n",
      "Starting to extract posture\n"
     ]
    },
    {
     "name": "stderr",
     "output_type": "stream",
     "text": [
      "510it [00:06, 84.04it/s]                         \n"
     ]
    },
    {
     "name": "stdout",
     "output_type": "stream",
     "text": [
      "Saving results in /tmp...\n",
      "The videos are analyzed. Now your research can truly start! \n",
      " You can create labeled videos with 'create_labeled_video'\n",
      "If the tracking is not satisfactory for some videos, consider expanding the training set. You can use the function 'extract_outlier_frames' to extract a few representative outlier frames.\n",
      "dlc.loadPositionData() read data from /tmp/tmpVidDLC_resnet_50_bridgeDetection_480_480Jan23shuffle1_320000.h5\n",
      "dlc.loadPositionData() read data from /tmp/tmpVidDLC_resnet_50_bridgeDetection_480_480Jan23shuffle1_320000.h5\n",
      "Saving position data to /tmp/tmpVidDLC_resnet_50_bridgeDetection_480_480Jan23shuffle1_320000.csv\n",
      "dlc.loadPositionData() read data from /tmp/tmpVidDLC_resnet_50_bridgeDetection_480_480Jan23shuffle1_320000.h5\n",
      "Bridge coordinates: [[209   0]\n",
      " [209  24]\n",
      " [262  24]\n",
      " [262   0]]\n",
      "labelImage: /adata/projects/autopi_behavior_2021/mn9686/mn9686-16052021-1443/bridgeDetectionCropped.png\n",
      "labelImage: /adata/projects/autopi_behavior_2021/mn9686/mn9686-16052021-1443/arenaBridgeDetectionCropped.png\n",
      "Ending at  21:57:33\n",
      "***Total duration: 0:39:47.000878 ***\n",
      "Startint at 21:57:33\n",
      "labelImage: /adata/projects/autopi_behavior_2021/TYY5630/TYY5630-16052021-1810/arenaDetection.png\n",
      "/tmp/tmpVid.avi created for bridge detection\n",
      "Running dlc.analyze_video on /tmp/tmpVid.avi\n",
      "Using snapshot-460000 for model /adata/models/bridgeDetection_640_480-Allen-2021-02-10/dlc-models/iteration-0/bridgeDetection_640_480Feb10-trainset95shuffle1\n",
      "Initializing ResNet\n"
     ]
    },
    {
     "name": "stderr",
     "output_type": "stream",
     "text": [
      "  0%|          | 0/500 [00:00<?, ?it/s]"
     ]
    },
    {
     "name": "stdout",
     "output_type": "stream",
     "text": [
      "Starting to analyze %  /tmp/tmpVid.avi\n",
      "/tmp  already exists!\n",
      "Loading  /tmp/tmpVid.avi\n",
      "Duration of video [s]:  16.67 , recorded with  30.0 fps!\n",
      "Overall # of frames:  500  found with (before cropping) frame dimensions:  640 480\n",
      "Starting to extract posture\n"
     ]
    },
    {
     "name": "stderr",
     "output_type": "stream",
     "text": [
      "510it [00:07, 67.90it/s]                         \n"
     ]
    },
    {
     "name": "stdout",
     "output_type": "stream",
     "text": [
      "Saving results in /tmp...\n",
      "The videos are analyzed. Now your research can truly start! \n",
      " You can create labeled videos with 'create_labeled_video'\n",
      "If the tracking is not satisfactory for some videos, consider expanding the training set. You can use the function 'extract_outlier_frames' to extract a few representative outlier frames.\n",
      "dlc.loadPositionData() read data from /tmp/tmpVidDLC_resnet_50_bridgeDetection_640_480Feb10shuffle1_460000.h5\n",
      "dlc.loadPositionData() read data from /tmp/tmpVidDLC_resnet_50_bridgeDetection_640_480Feb10shuffle1_460000.h5\n",
      "Saving position data to /tmp/tmpVidDLC_resnet_50_bridgeDetection_640_480Feb10shuffle1_460000.csv\n",
      "dlc.loadPositionData() read data from /tmp/tmpVidDLC_resnet_50_bridgeDetection_640_480Feb10shuffle1_460000.h5\n",
      "Bridge coordinates: [[270   0]\n",
      " [270  24]\n",
      " [323  24]\n",
      " [323   0]]\n",
      "labelImage: /adata/projects/autopi_behavior_2021/TYY5630/TYY5630-16052021-1810/bridgeDetection.png\n",
      "Time elapsed 0:00:18.316951\n",
      "Cropping and masking -276701161105643264 frames in /adata/projects/autopi_behavior_2021/TYY5630/TYY5630-16052021-1810/TYY5630-16052021-1810.arena_top.avi\n",
      "Output file /adata/projects/autopi_behavior_2021/TYY5630/TYY5630-16052021-1810/TYY5630-16052021-1810.arena_top.cropped.avi\n",
      "112610 of -276701161105643264 frames\n",
      "Exiting. Video saved as /adata/projects/autopi_behavior_2021/TYY5630/TYY5630-16052021-1810/TYY5630-16052021-1810.arena_top.cropped.avi\n",
      "Time elapsed 0:07:04.245406\n",
      "Removing previous inference data: /adata/projects/autopi_behavior_2021/TYY5630/TYY5630-16052021-1810/TYY5630-16052021-1810.arena_top.croppedDLC_resnet_50_arena_topOct30shuffle1_950000.h5\n",
      "Running dlc.analyze_video on /adata/projects/autopi_behavior_2021/TYY5630/TYY5630-16052021-1810/TYY5630-16052021-1810.arena_top.cropped.avi\n",
      "Using snapshot-950000 for model /adata/models/arena_top-Allen-2019-10-30/dlc-models/iteration-0/arena_topOct30-trainset90shuffle1\n",
      "Initializing ResNet\n"
     ]
    },
    {
     "name": "stderr",
     "output_type": "stream",
     "text": [
      "  0%|          | 0/112620 [00:00<?, ?it/s]"
     ]
    },
    {
     "name": "stdout",
     "output_type": "stream",
     "text": [
      "Starting to analyze %  /adata/projects/autopi_behavior_2021/TYY5630/TYY5630-16052021-1810/TYY5630-16052021-1810.arena_top.cropped.avi\n",
      "/adata/projects/autopi_behavior_2021/TYY5630/TYY5630-16052021-1810  already exists!\n",
      "Loading  /adata/projects/autopi_behavior_2021/TYY5630/TYY5630-16052021-1810/TYY5630-16052021-1810.arena_top.cropped.avi\n",
      "Duration of video [s]:  3754.0 , recorded with  30.0 fps!\n",
      "Overall # of frames:  112620  found with (before cropping) frame dimensions:  480 480\n",
      "Starting to extract posture\n"
     ]
    },
    {
     "name": "stderr",
     "output_type": "stream",
     "text": [
      "113726it [20:06, 94.24it/s]                            \n"
     ]
    },
    {
     "name": "stdout",
     "output_type": "stream",
     "text": [
      "Saving results in /adata/projects/autopi_behavior_2021/TYY5630/TYY5630-16052021-1810...\n",
      "The videos are analyzed. Now your research can truly start! \n",
      " You can create labeled videos with 'create_labeled_video'\n",
      "If the tracking is not satisfactory for some videos, consider expanding the training set. You can use the function 'extract_outlier_frames' to extract a few representative outlier frames.\n",
      "dlc.loadPositionData() read data from /adata/projects/autopi_behavior_2021/TYY5630/TYY5630-16052021-1810/TYY5630-16052021-1810.arena_top.croppedDLC_resnet_50_arena_topOct30shuffle1_950000.h5\n",
      "dlc.loadPositionData() read data from /adata/projects/autopi_behavior_2021/TYY5630/TYY5630-16052021-1810/TYY5630-16052021-1810.arena_top.croppedDLC_resnet_50_arena_topOct30shuffle1_950000.h5\n",
      "Saving position data to /adata/projects/autopi_behavior_2021/TYY5630/TYY5630-16052021-1810/TYY5630-16052021-1810.arena_top.croppedDLC_resnet_50_arena_topOct30shuffle1_950000.csv\n",
      "dlc.loadPositionData() read data from /adata/projects/autopi_behavior_2021/TYY5630/TYY5630-16052021-1810/TYY5630-16052021-1810.arena_top.croppedDLC_resnet_50_arena_topOct30shuffle1_950000.h5\n",
      "Time elapsed 0:27:20.011396\n",
      "Time elapsed 0:27:20.011445\n",
      "labelImage: /adata/projects/autopi_behavior_2021/TYY5630/TYY5630-16052021-1810/arenaDetectionCropped.png\n",
      "/tmp/tmpVid.avi created for bridge detection\n",
      "Running dlc.analyze_video on /tmp/tmpVid.avi\n",
      "Using snapshot-320000 for model /adata/models/bridgeDetection_480_480-Allen-2021-01-23/dlc-models/iteration-0/bridgeDetection_480_480Jan23-trainset90shuffle1\n",
      "Initializing ResNet\n"
     ]
    },
    {
     "name": "stderr",
     "output_type": "stream",
     "text": [
      "  0%|          | 0/500 [00:00<?, ?it/s]"
     ]
    },
    {
     "name": "stdout",
     "output_type": "stream",
     "text": [
      "Starting to analyze %  /tmp/tmpVid.avi\n",
      "/tmp  already exists!\n",
      "Loading  /tmp/tmpVid.avi\n",
      "Duration of video [s]:  16.67 , recorded with  30.0 fps!\n",
      "Overall # of frames:  500  found with (before cropping) frame dimensions:  480 480\n",
      "Starting to extract posture\n"
     ]
    },
    {
     "name": "stderr",
     "output_type": "stream",
     "text": [
      "510it [00:05, 86.61it/s]                         \n"
     ]
    },
    {
     "name": "stdout",
     "output_type": "stream",
     "text": [
      "Saving results in /tmp...\n",
      "The videos are analyzed. Now your research can truly start! \n",
      " You can create labeled videos with 'create_labeled_video'\n",
      "If the tracking is not satisfactory for some videos, consider expanding the training set. You can use the function 'extract_outlier_frames' to extract a few representative outlier frames.\n",
      "dlc.loadPositionData() read data from /tmp/tmpVidDLC_resnet_50_bridgeDetection_480_480Jan23shuffle1_320000.h5\n",
      "dlc.loadPositionData() read data from /tmp/tmpVidDLC_resnet_50_bridgeDetection_480_480Jan23shuffle1_320000.h5\n",
      "Saving position data to /tmp/tmpVidDLC_resnet_50_bridgeDetection_480_480Jan23shuffle1_320000.csv\n",
      "dlc.loadPositionData() read data from /tmp/tmpVidDLC_resnet_50_bridgeDetection_480_480Jan23shuffle1_320000.h5\n",
      "Bridge coordinates: [[205   0]\n",
      " [205  23]\n",
      " [256  23]\n",
      " [256   0]]\n",
      "labelImage: /adata/projects/autopi_behavior_2021/TYY5630/TYY5630-16052021-1810/bridgeDetectionCropped.png\n",
      "labelImage: /adata/projects/autopi_behavior_2021/TYY5630/TYY5630-16052021-1810/arenaBridgeDetectionCropped.png\n",
      "Ending at  22:25:08\n",
      "***Total duration: 0:27:35.103726 ***\n",
      "Startint at 22:25:08\n",
      "labelImage: /adata/projects/autopi_behavior_2021/TYY5622/TYY5622-16052021-1621/arenaDetection.png\n",
      "/tmp/tmpVid.avi created for bridge detection\n",
      "Running dlc.analyze_video on /tmp/tmpVid.avi\n",
      "Using snapshot-460000 for model /adata/models/bridgeDetection_640_480-Allen-2021-02-10/dlc-models/iteration-0/bridgeDetection_640_480Feb10-trainset95shuffle1\n",
      "Initializing ResNet\n"
     ]
    },
    {
     "name": "stderr",
     "output_type": "stream",
     "text": [
      "  0%|          | 0/500 [00:00<?, ?it/s]"
     ]
    },
    {
     "name": "stdout",
     "output_type": "stream",
     "text": [
      "Starting to analyze %  /tmp/tmpVid.avi\n",
      "/tmp  already exists!\n",
      "Loading  /tmp/tmpVid.avi\n",
      "Duration of video [s]:  16.67 , recorded with  30.0 fps!\n",
      "Overall # of frames:  500  found with (before cropping) frame dimensions:  640 480\n",
      "Starting to extract posture\n"
     ]
    },
    {
     "name": "stderr",
     "output_type": "stream",
     "text": [
      "510it [00:07, 68.62it/s]                         \n"
     ]
    },
    {
     "name": "stdout",
     "output_type": "stream",
     "text": [
      "Saving results in /tmp...\n",
      "The videos are analyzed. Now your research can truly start! \n",
      " You can create labeled videos with 'create_labeled_video'\n",
      "If the tracking is not satisfactory for some videos, consider expanding the training set. You can use the function 'extract_outlier_frames' to extract a few representative outlier frames.\n",
      "dlc.loadPositionData() read data from /tmp/tmpVidDLC_resnet_50_bridgeDetection_640_480Feb10shuffle1_460000.h5\n",
      "dlc.loadPositionData() read data from /tmp/tmpVidDLC_resnet_50_bridgeDetection_640_480Feb10shuffle1_460000.h5\n",
      "Saving position data to /tmp/tmpVidDLC_resnet_50_bridgeDetection_640_480Feb10shuffle1_460000.csv\n",
      "dlc.loadPositionData() read data from /tmp/tmpVidDLC_resnet_50_bridgeDetection_640_480Feb10shuffle1_460000.h5\n",
      "Bridge coordinates: [[270   0]\n",
      " [270  23]\n",
      " [322  23]\n",
      " [322   0]]\n",
      "labelImage: /adata/projects/autopi_behavior_2021/TYY5622/TYY5622-16052021-1621/bridgeDetection.png\n",
      "Time elapsed 0:00:18.260521\n",
      "Cropping and masking 102025 frames in /adata/projects/autopi_behavior_2021/TYY5622/TYY5622-16052021-1621/TYY5622-16052021-1621.arena_top.avi\n",
      "Output file /adata/projects/autopi_behavior_2021/TYY5622/TYY5622-16052021-1621/TYY5622-16052021-1621.arena_top.cropped.avi\n",
      "102020 of 102025 frames\n",
      "Exiting. Video saved as /adata/projects/autopi_behavior_2021/TYY5622/TYY5622-16052021-1621/TYY5622-16052021-1621.arena_top.cropped.avi\n",
      "Time elapsed 0:06:26.847890\n",
      "Removing previous inference data: /adata/projects/autopi_behavior_2021/TYY5622/TYY5622-16052021-1621/TYY5622-16052021-1621.arena_top.croppedDLC_resnet_50_arena_topOct30shuffle1_950000.h5\n",
      "Running dlc.analyze_video on /adata/projects/autopi_behavior_2021/TYY5622/TYY5622-16052021-1621/TYY5622-16052021-1621.arena_top.cropped.avi\n",
      "Using snapshot-950000 for model /adata/models/arena_top-Allen-2019-10-30/dlc-models/iteration-0/arena_topOct30-trainset90shuffle1\n",
      "Initializing ResNet\n"
     ]
    },
    {
     "name": "stderr",
     "output_type": "stream",
     "text": [
      "  0%|          | 0/102025 [00:00<?, ?it/s]"
     ]
    },
    {
     "name": "stdout",
     "output_type": "stream",
     "text": [
      "Starting to analyze %  /adata/projects/autopi_behavior_2021/TYY5622/TYY5622-16052021-1621/TYY5622-16052021-1621.arena_top.cropped.avi\n",
      "/adata/projects/autopi_behavior_2021/TYY5622/TYY5622-16052021-1621  already exists!\n",
      "Loading  /adata/projects/autopi_behavior_2021/TYY5622/TYY5622-16052021-1621/TYY5622-16052021-1621.arena_top.cropped.avi\n",
      "Duration of video [s]:  3400.83 , recorded with  30.0 fps!\n",
      "Overall # of frames:  102025  found with (before cropping) frame dimensions:  480 480\n",
      "Starting to extract posture\n"
     ]
    },
    {
     "name": "stderr",
     "output_type": "stream",
     "text": [
      "103020it [18:14, 94.13it/s]                            \n"
     ]
    },
    {
     "name": "stdout",
     "output_type": "stream",
     "text": [
      "Saving results in /adata/projects/autopi_behavior_2021/TYY5622/TYY5622-16052021-1621...\n",
      "The videos are analyzed. Now your research can truly start! \n",
      " You can create labeled videos with 'create_labeled_video'\n",
      "If the tracking is not satisfactory for some videos, consider expanding the training set. You can use the function 'extract_outlier_frames' to extract a few representative outlier frames.\n",
      "dlc.loadPositionData() read data from /adata/projects/autopi_behavior_2021/TYY5622/TYY5622-16052021-1621/TYY5622-16052021-1621.arena_top.croppedDLC_resnet_50_arena_topOct30shuffle1_950000.h5\n",
      "dlc.loadPositionData() read data from /adata/projects/autopi_behavior_2021/TYY5622/TYY5622-16052021-1621/TYY5622-16052021-1621.arena_top.croppedDLC_resnet_50_arena_topOct30shuffle1_950000.h5\n",
      "Saving position data to /adata/projects/autopi_behavior_2021/TYY5622/TYY5622-16052021-1621/TYY5622-16052021-1621.arena_top.croppedDLC_resnet_50_arena_topOct30shuffle1_950000.csv\n",
      "dlc.loadPositionData() read data from /adata/projects/autopi_behavior_2021/TYY5622/TYY5622-16052021-1621/TYY5622-16052021-1621.arena_top.croppedDLC_resnet_50_arena_topOct30shuffle1_950000.h5\n",
      "Time elapsed 0:24:49.503714\n",
      "Time elapsed 0:24:49.503764\n",
      "labelImage: /adata/projects/autopi_behavior_2021/TYY5622/TYY5622-16052021-1621/arenaDetectionCropped.png\n",
      "/tmp/tmpVid.avi created for bridge detection\n",
      "Running dlc.analyze_video on /tmp/tmpVid.avi\n",
      "Using snapshot-320000 for model /adata/models/bridgeDetection_480_480-Allen-2021-01-23/dlc-models/iteration-0/bridgeDetection_480_480Jan23-trainset90shuffle1\n",
      "Initializing ResNet\n"
     ]
    },
    {
     "name": "stderr",
     "output_type": "stream",
     "text": [
      "  0%|          | 0/500 [00:00<?, ?it/s]"
     ]
    },
    {
     "name": "stdout",
     "output_type": "stream",
     "text": [
      "Starting to analyze %  /tmp/tmpVid.avi\n",
      "/tmp  already exists!\n",
      "Loading  /tmp/tmpVid.avi\n",
      "Duration of video [s]:  16.67 , recorded with  30.0 fps!\n",
      "Overall # of frames:  500  found with (before cropping) frame dimensions:  480 480\n",
      "Starting to extract posture\n"
     ]
    },
    {
     "name": "stderr",
     "output_type": "stream",
     "text": [
      "510it [00:05, 90.44it/s]                         \n"
     ]
    },
    {
     "name": "stdout",
     "output_type": "stream",
     "text": [
      "Saving results in /tmp...\n",
      "The videos are analyzed. Now your research can truly start! \n",
      " You can create labeled videos with 'create_labeled_video'\n",
      "If the tracking is not satisfactory for some videos, consider expanding the training set. You can use the function 'extract_outlier_frames' to extract a few representative outlier frames.\n",
      "dlc.loadPositionData() read data from /tmp/tmpVidDLC_resnet_50_bridgeDetection_480_480Jan23shuffle1_320000.h5\n",
      "dlc.loadPositionData() read data from /tmp/tmpVidDLC_resnet_50_bridgeDetection_480_480Jan23shuffle1_320000.h5\n",
      "Saving position data to /tmp/tmpVidDLC_resnet_50_bridgeDetection_480_480Jan23shuffle1_320000.csv\n",
      "dlc.loadPositionData() read data from /tmp/tmpVidDLC_resnet_50_bridgeDetection_480_480Jan23shuffle1_320000.h5\n",
      "Bridge coordinates: [[213   0]\n",
      " [213  23]\n",
      " [264  23]\n",
      " [264   0]]\n",
      "labelImage: /adata/projects/autopi_behavior_2021/TYY5622/TYY5622-16052021-1621/bridgeDetectionCropped.png\n",
      "labelImage: /adata/projects/autopi_behavior_2021/TYY5622/TYY5622-16052021-1621/arenaBridgeDetectionCropped.png\n",
      "Ending at  22:50:13\n",
      "***Total duration: 0:25:04.451437 ***\n"
     ]
    }
   ],
   "source": [
    "for ses in myProject.sessionList[7:] :\n",
    "    positionTrackingFromArenaTopVideo(ses=ses,modelDir=myProject.dlcModelPath)\n",
    "   # text_file = open(myProject.dataPath+\"/results/dlcDone\", \"a\")\n",
    "   # text_file.write(\"{}\\n\".format(ses.name))\n",
    "   # text_file.close()"
   ]
  },
  {
   "cell_type": "code",
   "execution_count": null,
   "metadata": {},
   "outputs": [],
   "source": [
    "for ses in myProject.sessionList[100:] :\n",
    "    positionTrackingFromArenaTopVideo(ses=ses,modelDir=myProject.dlcModelPath)\n",
    "    text_file = open(myProject.dataPath+\"/results/dlcDone\", \"a\")\n",
    "    text_file.write(\"{}\\n\".format(ses.name))\n",
    "    text_file.close()"
   ]
  },
  {
   "cell_type": "markdown",
   "metadata": {},
   "source": [
    "## Check that all went fine\n",
    "\n",
    "First we will make sure that we have all session names in the `dlcDone` file."
   ]
  },
  {
   "cell_type": "code",
   "execution_count": 3,
   "metadata": {},
   "outputs": [
    {
     "name": "stdout",
     "output_type": "stream",
     "text": [
      "Number of sessions: 187, processed sessions: 188\n",
      "All sessions processed\n"
     ]
    }
   ],
   "source": [
    "done = pd.read_csv(myProject.dataPath+\"/results/dlcDone\",header=None)\n",
    "sessionNamesTesting\n",
    "print(\"Number of sessions: {}, processed sessions: {}\".format(len(sessionNamesTesting),len(done)))\n",
    "if len(sessionNamesTesting) > len(done) :\n",
    "    print(\"Missing sessions are:\")\n",
    "    print(sessionNamesTesting.sessionName[~sessionNamesTesting.sessionName.isin(done[0])])\n",
    "\n",
    "if np.all(sessionNamesTesting.sessionName.isin(done[0])) :\n",
    "    print(\"All sessions processed\")"
   ]
  },
  {
   "cell_type": "markdown",
   "metadata": {},
   "source": [
    "## Check bridge and arena detection\n",
    "\n",
    "The bridge and arena coordinates are critical for the subsequent analysis. We will make a folder containing an image of the detection for each session. One can then quickly scroll through the images to identify any problematic case."
   ]
  },
  {
   "cell_type": "code",
   "execution_count": 13,
   "metadata": {},
   "outputs": [],
   "source": [
    "# create a directory for the images\n",
    "directory = myProject.dataPath + \"/results/arenaBridgeDetectionImages\"\n",
    "try:\n",
    "    os.stat(directory)\n",
    "except:\n",
    "    os.mkdir(directory)       "
   ]
  },
  {
   "cell_type": "code",
   "execution_count": 14,
   "metadata": {},
   "outputs": [],
   "source": [
    "from shutil import copyfile\n",
    "\n",
    "for ses in myProject.sessionList:\n",
    "    src = ses.path + \"/arenaBridgeDetectionCropped.png\"\n",
    "    dst = directory + \"/\" + ses.name + \".png\"\n",
    "    if not os.path.isfile(src):\n",
    "        print (src + \" does not exist\")\n",
    "        break\n",
    "    try:\n",
    "        copyfile(src, dst)\n",
    "    except:\n",
    "        print(\"error copying the file for \" + ses.name )\n"
   ]
  },
  {
   "cell_type": "markdown",
   "metadata": {},
   "source": [
    "# Rerun problematic sessions\n",
    "\n",
    "I put the sessions with problems in a file in the `results/redo`\n",
    "\n",
    "The main problem was the arena detection that was not perfect."
   ]
  },
  {
   "cell_type": "code",
   "execution_count": 15,
   "metadata": {},
   "outputs": [
    {
     "name": "stdout",
     "output_type": "stream",
     "text": [
      "Project name: autopi_behavior_2021\n",
      "dataPath: /adata/projects/autopi_behavior_2021\n",
      "dlcModelPath: /adata/models\n",
      "Reading /adata/projects/autopi_behavior_2021/redo\n",
      "We have 4 recording sessions\n"
     ]
    }
   ],
   "source": [
    "projectName=\"autopi_behavior_2021\"\n",
    "dataPath=\"/adata/projects/autopi_behavior_2021\"\n",
    "dlcModelPath=\"/adata/models\"\n",
    "bridgeModel1 =\"bridgeDetection_640_480-Allen-2021-02-10\"\n",
    "mouseLeverModel =\"arena_top-Allen-2019-10-30\"\n",
    "bridgeModel2 = \"bridgeDetection_480_480-Allen-2021-01-23\"\n",
    "arenaMinRadius= 190\n",
    "arenaMaxRadius= 230\n",
    "\n",
    "myProject = Project(name=projectName,dataPath=dataPath,dlcModelPath=dlcModelPath)\n",
    "\n",
    "# read a file with the session names\n",
    "fn=myProject.dataPath+\"/redo\"\n",
    "print(\"Reading \" + fn)\n",
    "sessionNamesTesting = pd.read_csv(fn) # this will be a pandas dataframe\n",
    "\n",
    "# create a list of session object in the project object\n",
    "myProject.createSessionList(sessionNameList=sessionNamesTesting.sessionName.to_list())\n",
    "print(\"We have {} recording sessions\".format(len(myProject.sessionList)))"
   ]
  },
  {
   "cell_type": "code",
   "execution_count": 3,
   "metadata": {},
   "outputs": [],
   "source": [
    "directory = myProject.dataPath + \"/results/arenaDetectionImages\"\n",
    "try:\n",
    "    os.stat(directory)\n",
    "except:\n",
    "    os.mkdir(directory)   "
   ]
  },
  {
   "cell_type": "code",
   "execution_count": 17,
   "metadata": {},
   "outputs": [
    {
     "ename": "TypeError",
     "evalue": "positionTrackingFromArenaTopVideo() got an unexpected keyword argument 'arenaCircleMethod'",
     "output_type": "error",
     "traceback": [
      "\u001b[0;31m---------------------------------------------------------------------------\u001b[0m",
      "\u001b[0;31mTypeError\u001b[0m                                 Traceback (most recent call last)",
      "\u001b[0;32m<ipython-input-17-bd5eec4bfc43>\u001b[0m in \u001b[0;36m<module>\u001b[0;34m\u001b[0m\n\u001b[1;32m      8\u001b[0m                                       \u001b[0mbridge480_480Model\u001b[0m \u001b[0;34m=\u001b[0m \u001b[0mbridgeModel2\u001b[0m\u001b[0;34m,\u001b[0m\u001b[0;34m\u001b[0m\u001b[0;34m\u001b[0m\u001b[0m\n\u001b[1;32m      9\u001b[0m                                       \u001b[0marenaMinRadius\u001b[0m\u001b[0;34m=\u001b[0m\u001b[0marenaMinRadius\u001b[0m \u001b[0;34m,\u001b[0m \u001b[0marenaMaxRadius\u001b[0m\u001b[0;34m=\u001b[0m\u001b[0marenaMaxRadius\u001b[0m\u001b[0;34m,\u001b[0m\u001b[0;34m\u001b[0m\u001b[0;34m\u001b[0m\u001b[0m\n\u001b[0;32m---> 10\u001b[0;31m                                       arenaCircleMethod=\"median\")\n\u001b[0m\u001b[1;32m     11\u001b[0m \u001b[0;34m\u001b[0m\u001b[0m\n",
      "\u001b[0;31mTypeError\u001b[0m: positionTrackingFromArenaTopVideo() got an unexpected keyword argument 'arenaCircleMethod'"
     ]
    }
   ],
   "source": [
    "from autopipy.cvObjectDetectors import ArenaDetector\n",
    "from datetime import datetime\n",
    "\n",
    "for ses in myProject.sessionList :\n",
    "    positionTrackingFromArenaTopVideo(ses=ses,modelDir=myProject.dlcModelPath,\n",
    "                                      bridge640_480Model = bridgeModel1,\n",
    "                                      mouseLeverModel = mouseLeverModel,\n",
    "                                      bridge480_480Model = bridgeModel2,\n",
    "                                      arenaMinRadius=arenaMinRadius , arenaMaxRadius=arenaMaxRadius,\n",
    "                                      arenaCircleMethod=\"median\")\n",
    "   "
   ]
  },
  {
   "cell_type": "code",
   "execution_count": 23,
   "metadata": {},
   "outputs": [
    {
     "name": "stdout",
     "output_type": "stream",
     "text": [
      "/adata/models\n",
      "arena_top-Allen-2019-10-30\n",
      "labelImage: /adata/projects/autopi_behavior_2021/mn4656/mn4656-30092019-2001/arenaDetectionCropped.png\n",
      "dlc.loadPositionData() read data from /adata/projects/autopi_behavior_2021/mn4656/mn4656-30092019-2001/mn4656-30092019-2001.arena_top.croppedDLC_resnet_50_arena_topOct30shuffle1_1030000.h5\n",
      "/tmp/tmpVid.avi created for bridge detection\n",
      "Running dlc.analyze_video on /tmp/tmpVid.avi\n",
      "Using snapshot-420000 for model /adata/models/bridgeDetection_480_480-Allen-2021-01-23/dlc-models/iteration-0/bridgeDetection_480_480Jan23-trainset90shuffle1\n",
      "Initializing ResNet\n"
     ]
    },
    {
     "name": "stderr",
     "output_type": "stream",
     "text": [
      "  0%|          | 0/100 [00:00<?, ?it/s]"
     ]
    },
    {
     "name": "stdout",
     "output_type": "stream",
     "text": [
      "Starting to analyze %  /tmp/tmpVid.avi\n",
      "/tmp  already exists!\n",
      "Loading  /tmp/tmpVid.avi\n",
      "Duration of video [s]:  3.33 , recorded with  30.0 fps!\n",
      "Overall # of frames:  100  found with (before cropping) frame dimensions:  480 480\n",
      "Starting to extract posture\n"
     ]
    },
    {
     "name": "stderr",
     "output_type": "stream",
     "text": [
      "110it [00:01, 59.72it/s]                         \n"
     ]
    },
    {
     "name": "stdout",
     "output_type": "stream",
     "text": [
      "Detected frames:  100\n",
      "Saving results in /tmp...\n",
      "The videos are analyzed. Now your research can truly start! \n",
      " You can create labeled videos with 'create_labeled_video'\n",
      "If the tracking is not satisfactory for some videos, consider expanding the training set. You can use the function 'extract_outlier_frames' to extract a few representative outlier frames.\n",
      "dlc.loadPositionData() read data from /tmp/tmpVidDLC_resnet_50_bridgeDetection_480_480Jan23shuffle1_420000.h5\n",
      "dlc.loadPositionData() read data from /tmp/tmpVidDLC_resnet_50_bridgeDetection_480_480Jan23shuffle1_420000.h5\n",
      "Saving position data to /tmp/tmpVidDLC_resnet_50_bridgeDetection_480_480Jan23shuffle1_420000.csv\n",
      "dlc.loadPositionData() read data from /tmp/tmpVidDLC_resnet_50_bridgeDetection_480_480Jan23shuffle1_420000.h5\n",
      "Bridge coordinates: [[220   0]\n",
      " [220  24]\n",
      " [259  24]\n",
      " [259   0]]\n",
      "labelImage: /adata/projects/autopi_behavior_2021/mn4656/mn4656-30092019-2001/bridgeDetectionCropped.png\n",
      "labelImage: /adata/projects/autopi_behavior_2021/mn4656/mn4656-30092019-2001/arenaBridgeDetectionCropped.png\n"
     ]
    }
   ],
   "source": [
    "from autopipy.cvObjectDetectors import ArenaDetector\n",
    "from autopipy.dlcObjectDetectors import BridgeDetector\n",
    "from autopipy.dlcObjectDetectors import MouseLeverDetector\n",
    "from autopipy.video_utilities import arenaBridgeDetectionImage\n",
    "from datetime import datetime\n",
    "\n",
    "modelDir=\"/adata/models\"\n",
    "bridge640_480Model = \"bridgeDetection_640_480-Allen-2021-02-10\"\n",
    "mouseLeverModel = \"arena_top-Allen-2019-10-30\"\n",
    "bridge480_480Model = \"bridgeDetection_480_480-Allen-2021-01-23\"\n",
    "arenaMinRadius= 180\n",
    "arenaMaxRadius= 230\n",
    "arenaCircleMethod = \"min\"\n",
    "numFramesArenaDetection=500\n",
    "numFramesBridgeDetection=500\n",
    "\n",
    "print(modelDir)\n",
    "print(mouseLeverModel)\n",
    "configFile=modelDir+\"/\"+ mouseLeverModel + \"/config.yaml\"\n",
    "\n",
    "\n",
    "for ses in [myProject.sessionList[0]] :\n",
    "    \n",
    "    videoFile=ses.fileNames[\"arena_top.avi\"]\n",
    "    croppedVideoFile = os.path.splitext(videoFile)[0]+\".cropped.avi\"\n",
    "    arenaImageFile=ses.path+\"/arenaDetectionCropped.png\"\n",
    "    bridge480_480Model=bridgeModel2\n",
    "    modelDir = dlcModelPath\n",
    "    \n",
    "    \n",
    "    arenaD = ArenaDetector()\n",
    "    aCoord = arenaD.detectArenaCoordinates(pathVideoFile=croppedVideoFile, minRadius=arenaMinRadius, \n",
    "                                  maxRadius=arenaMaxRadius, numFrames=100, blur=11, circleMethod='median')\n",
    "    arenaD.labelImage(pathVideoFile=croppedVideoFile,outputImageFile=arenaImageFile)\n",
    "    np.savetxt(ses.fileNames[\"arenaCoordinates\"],aCoord,delimiter=\",\") \n",
    "\n",
    "\n",
    "    configFile=modelDir+\"/\"+ mouseLeverModel + \"/config.yaml\"\n",
    "    if not os.path.isfile(configFile):\n",
    "        print(configFile+ \" is missing\")\n",
    "    mouseLeverD = MouseLeverDetector(pathConfigFile=configFile)\n",
    "    # save position data to file\n",
    "    mouseLeverD.savePositionOrientationToFile(pathVideoFile=croppedVideoFile, \n",
    "                                              fileName = ses.fileNames[\"mouseLeverPosition.csv\"])\n",
    "    \n",
    "    \n",
    "    \n",
    "    configFile = modelDir + \"/\" + bridge480_480Model + \"/config.yaml\"\n",
    "    if not os.path.isfile(configFile):\n",
    "        print(configFile+ \" is missing\")\n",
    "    bridgeImageFile = ses.path+\"/bridgeDetectionCropped.png\"\n",
    "    bridgeD = BridgeDetector(pathConfigFile=configFile)\n",
    "    bCoord = bridgeD.detectBridgeCoordinates(pathVideoFile=croppedVideoFile,numFrames=100, skip=30)\n",
    "    bridgeD.labelImage(pathVideoFile=videoFile,outputImageFile=bridgeImageFile)\n",
    "    np.savetxt(ses.fileNames[\"bridgeCoordinates\"],bCoord,delimiter=\",\")\n",
    "    \n",
    "    outputImageFile=ses.path+\"/arenaBridgeDetectionCropped.png\"\n",
    "    arenaBridgeDetectionImage(pathVideoFile=croppedVideoFile,\n",
    "                              outputImageFile=outputImageFile,\n",
    "                              arenaCoordinates = aCoord,\n",
    "                              bridgeCoordinates = bCoord)"
   ]
  },
  {
   "cell_type": "code",
   "execution_count": null,
   "metadata": {},
   "outputs": [],
   "source": []
  }
 ],
 "metadata": {
  "kernelspec": {
   "display_name": "Python 3 (ipykernel)",
   "language": "python",
   "name": "python3"
  },
  "language_info": {
   "codemirror_mode": {
    "name": "ipython",
    "version": 3
   },
   "file_extension": ".py",
   "mimetype": "text/x-python",
   "name": "python",
   "nbconvert_exporter": "python",
   "pygments_lexer": "ipython3",
   "version": "3.8.10"
  }
 },
 "nbformat": 4,
 "nbformat_minor": 4
}
