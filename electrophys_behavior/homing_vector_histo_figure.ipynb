{
 "cells": [
  {
   "cell_type": "markdown",
   "id": "24883f8c-fd02-445f-ae15-1c9d7e691322",
   "metadata": {},
   "source": [
    "# Figure of Egocentric homing vector.\n",
    "\n",
    "Most calculations of the scores was done in `homing_vector_histo.ipynb`\n",
    "\n"
   ]
  },
  {
   "cell_type": "code",
   "execution_count": 47,
   "id": "318db229-024e-4fa4-ac63-f0489a83defa",
   "metadata": {},
   "outputs": [
    {
     "name": "stdout",
     "output_type": "stream",
     "text": [
      "The autoreload extension is already loaded. To reload it, use:\n",
      "  %reload_ext autoreload\n",
      "Project name: autopi_ca1\n",
      "dataPath: /adata/projects/autopi_ca1\n",
      "dlcModelPath: /adata/models\n",
      "Reading /adata/projects/autopi_ca1/sessionList\n",
      "We have 44 testing sessions in the list\n",
      "See myProject and sSesList objects\n"
     ]
    }
   ],
   "source": [
    "%load_ext autoreload\n",
    "%autoreload 2\n",
    "%run setup_project.py"
   ]
  },
  {
   "cell_type": "code",
   "execution_count": 48,
   "id": "3170c499-63e4-4f94-905a-3850ea8c84f7",
   "metadata": {},
   "outputs": [],
   "source": [
    "fn = \"/adata/projects/autopi_ca1/results/myMaps.pickle\" #, dictionary with key per condition\n",
    "with open(fn, 'rb') as handle:\n",
    "    myMaps = pickle.load(handle)\n",
    "fn = \"/adata/projects/autopi_ca1/results/myHdHist.pickle\" #, dictionary with key per condition\n",
    "with open(fn, 'rb') as handle:\n",
    "    myHdHist = pickle.load(handle)\n",
    "fn = \"/adata/projects/autopi_ca1/results/myEhaHist.pickle\" #, dictionary with key per condition\n",
    "with open(fn, 'rb') as handle:\n",
    "    myEhaHist = pickle.load(handle)\n",
    "    "
   ]
  },
  {
   "cell_type": "code",
   "execution_count": 49,
   "id": "eab62ad3-0aee-4d85-86c2-faa239a0093a",
   "metadata": {},
   "outputs": [],
   "source": [
    "fn = \"/adata/projects/autopi_ca1/results/myHdStats.csv\" # , data frame with hd stats\n",
    "hdStats = pd.read_csv(fn)\n",
    "fn = \"/adata/projects/autopi_ca1/results/myEhaStats.csv\" # , data frame with hd stats\n",
    "ehaStats = pd.read_csv(fn)\n"
   ]
  },
  {
   "cell_type": "code",
   "execution_count": 50,
   "id": "a576bc90-ffd1-4cb5-b079-e4aa06514aa1",
   "metadata": {},
   "outputs": [],
   "source": [
    "fb=myProject.dataPath+\"/results/\"\n",
    "autoStack = np.load(fb+\"autoCorr25Stack.npy\")\n",
    "autoTimestamps = np.load(fb+\"autoCorr25TimeStamp.npy\")"
   ]
  },
  {
   "cell_type": "code",
   "execution_count": 51,
   "id": "f443c22e-4c12-4d95-a657-9301535ac679",
   "metadata": {},
   "outputs": [
    {
     "name": "stdout",
     "output_type": "stream",
     "text": [
      "(1489, 33, 49)\n",
      "(1489, 33, 49)\n",
      "(1489, 33, 49)\n",
      "(1489, 33, 49)\n",
      "(1489, 33, 49)\n",
      "(1489, 33, 49)\n",
      "(1489, 33, 49)\n",
      "(1489, 36)\n",
      "(1489, 36)\n",
      "(1489, 36)\n",
      "(1489, 36)\n",
      "(1489, 36)\n",
      "(1489, 36)\n",
      "(1489, 36)\n",
      "(1489, 6)\n",
      "(1489, 6)\n",
      "(1489, 100)\n"
     ]
    }
   ],
   "source": [
    "for k in myMaps:\n",
    "    print(myMaps[k].shape)\n",
    "for k in myHdHist:\n",
    "    print(myHdHist[k].shape)\n",
    "for k in myEhaHist:\n",
    "    print(myEhaHist[k].shape)\n",
    "    \n",
    "print(hdStats[hdStats.condition==\"light\"].shape)\n",
    "print(ehaStats[ehaStats.condition==\"light\"].shape)\n",
    "print(autoStack.shape)"
   ]
  },
  {
   "cell_type": "markdown",
   "id": "ce47cb6a-aa62-4146-b37e-046af63112a6",
   "metadata": {},
   "source": [
    "## Filter the data to keep only pyramidal cells\n",
    "\n",
    "We want to show the maps of pyramidal cells."
   ]
  },
  {
   "cell_type": "code",
   "execution_count": 52,
   "id": "4f29a0eb-9fc7-421c-9b09-bdbc904761d2",
   "metadata": {},
   "outputs": [
    {
     "data": {
      "text/html": [
       "<div>\n",
       "<style scoped>\n",
       "    .dataframe tbody tr th:only-of-type {\n",
       "        vertical-align: middle;\n",
       "    }\n",
       "\n",
       "    .dataframe tbody tr th {\n",
       "        vertical-align: top;\n",
       "    }\n",
       "\n",
       "    .dataframe thead th {\n",
       "        text-align: right;\n",
       "    }\n",
       "</style>\n",
       "<table border=\"1\" class=\"dataframe\">\n",
       "  <thead>\n",
       "    <tr style=\"text-align: right;\">\n",
       "      <th></th>\n",
       "      <th>id</th>\n",
       "      <th>session</th>\n",
       "      <th>subject</th>\n",
       "      <th>valid</th>\n",
       "      <th>cellType</th>\n",
       "      <th>meanRate</th>\n",
       "      <th>shank</th>\n",
       "      <th>layer</th>\n",
       "    </tr>\n",
       "  </thead>\n",
       "  <tbody>\n",
       "    <tr>\n",
       "      <th>0</th>\n",
       "      <td>mn5824-20112020-0107_80</td>\n",
       "      <td>mn5824-20112020-0107</td>\n",
       "      <td>mn5824</td>\n",
       "      <td>False</td>\n",
       "      <td>NaN</td>\n",
       "      <td>9.201345</td>\n",
       "      <td>4</td>\n",
       "      <td>pyr</td>\n",
       "    </tr>\n",
       "    <tr>\n",
       "      <th>1</th>\n",
       "      <td>mn5824-20112020-0107_90</td>\n",
       "      <td>mn5824-20112020-0107</td>\n",
       "      <td>mn5824</td>\n",
       "      <td>False</td>\n",
       "      <td>NaN</td>\n",
       "      <td>8.236764</td>\n",
       "      <td>3</td>\n",
       "      <td>pyr</td>\n",
       "    </tr>\n",
       "    <tr>\n",
       "      <th>2</th>\n",
       "      <td>mn5824-20112020-0107_92</td>\n",
       "      <td>mn5824-20112020-0107</td>\n",
       "      <td>mn5824</td>\n",
       "      <td>True</td>\n",
       "      <td>pyr</td>\n",
       "      <td>7.885922</td>\n",
       "      <td>4</td>\n",
       "      <td>pyr</td>\n",
       "    </tr>\n",
       "    <tr>\n",
       "      <th>3</th>\n",
       "      <td>mn5824-20112020-0107_96</td>\n",
       "      <td>mn5824-20112020-0107</td>\n",
       "      <td>mn5824</td>\n",
       "      <td>False</td>\n",
       "      <td>NaN</td>\n",
       "      <td>4.153462</td>\n",
       "      <td>1</td>\n",
       "      <td>dn</td>\n",
       "    </tr>\n",
       "    <tr>\n",
       "      <th>4</th>\n",
       "      <td>mn5824-20112020-0107_98</td>\n",
       "      <td>mn5824-20112020-0107</td>\n",
       "      <td>mn5824</td>\n",
       "      <td>False</td>\n",
       "      <td>NaN</td>\n",
       "      <td>3.411940</td>\n",
       "      <td>4</td>\n",
       "      <td>pyr</td>\n",
       "    </tr>\n",
       "    <tr>\n",
       "      <th>...</th>\n",
       "      <td>...</td>\n",
       "      <td>...</td>\n",
       "      <td>...</td>\n",
       "      <td>...</td>\n",
       "      <td>...</td>\n",
       "      <td>...</td>\n",
       "      <td>...</td>\n",
       "      <td>...</td>\n",
       "    </tr>\n",
       "    <tr>\n",
       "      <th>1484</th>\n",
       "      <td>mn9686-01112021-0106_238</td>\n",
       "      <td>mn9686-01112021-0106</td>\n",
       "      <td>mn9686</td>\n",
       "      <td>False</td>\n",
       "      <td>NaN</td>\n",
       "      <td>4.669745</td>\n",
       "      <td>7</td>\n",
       "      <td>dn</td>\n",
       "    </tr>\n",
       "    <tr>\n",
       "      <th>1485</th>\n",
       "      <td>mn9686-01112021-0106_240</td>\n",
       "      <td>mn9686-01112021-0106</td>\n",
       "      <td>mn9686</td>\n",
       "      <td>False</td>\n",
       "      <td>NaN</td>\n",
       "      <td>9.647625</td>\n",
       "      <td>2</td>\n",
       "      <td>pyr</td>\n",
       "    </tr>\n",
       "    <tr>\n",
       "      <th>1486</th>\n",
       "      <td>mn9686-01112021-0106_241</td>\n",
       "      <td>mn9686-01112021-0106</td>\n",
       "      <td>mn9686</td>\n",
       "      <td>False</td>\n",
       "      <td>NaN</td>\n",
       "      <td>16.161014</td>\n",
       "      <td>2</td>\n",
       "      <td>pyr</td>\n",
       "    </tr>\n",
       "    <tr>\n",
       "      <th>1487</th>\n",
       "      <td>mn9686-01112021-0106_242</td>\n",
       "      <td>mn9686-01112021-0106</td>\n",
       "      <td>mn9686</td>\n",
       "      <td>True</td>\n",
       "      <td>pyr</td>\n",
       "      <td>5.270951</td>\n",
       "      <td>1</td>\n",
       "      <td>pyr</td>\n",
       "    </tr>\n",
       "    <tr>\n",
       "      <th>1488</th>\n",
       "      <td>mn9686-01112021-0106_246</td>\n",
       "      <td>mn9686-01112021-0106</td>\n",
       "      <td>mn9686</td>\n",
       "      <td>True</td>\n",
       "      <td>pyr</td>\n",
       "      <td>5.264411</td>\n",
       "      <td>1</td>\n",
       "      <td>pyr</td>\n",
       "    </tr>\n",
       "  </tbody>\n",
       "</table>\n",
       "<p>1489 rows × 8 columns</p>\n",
       "</div>"
      ],
      "text/plain": [
       "                            id               session subject  valid cellType  \\\n",
       "0      mn5824-20112020-0107_80  mn5824-20112020-0107  mn5824  False      NaN   \n",
       "1      mn5824-20112020-0107_90  mn5824-20112020-0107  mn5824  False      NaN   \n",
       "2      mn5824-20112020-0107_92  mn5824-20112020-0107  mn5824   True      pyr   \n",
       "3      mn5824-20112020-0107_96  mn5824-20112020-0107  mn5824  False      NaN   \n",
       "4      mn5824-20112020-0107_98  mn5824-20112020-0107  mn5824  False      NaN   \n",
       "...                        ...                   ...     ...    ...      ...   \n",
       "1484  mn9686-01112021-0106_238  mn9686-01112021-0106  mn9686  False      NaN   \n",
       "1485  mn9686-01112021-0106_240  mn9686-01112021-0106  mn9686  False      NaN   \n",
       "1486  mn9686-01112021-0106_241  mn9686-01112021-0106  mn9686  False      NaN   \n",
       "1487  mn9686-01112021-0106_242  mn9686-01112021-0106  mn9686   True      pyr   \n",
       "1488  mn9686-01112021-0106_246  mn9686-01112021-0106  mn9686   True      pyr   \n",
       "\n",
       "       meanRate  shank layer  \n",
       "0      9.201345      4   pyr  \n",
       "1      8.236764      3   pyr  \n",
       "2      7.885922      4   pyr  \n",
       "3      4.153462      1    dn  \n",
       "4      3.411940      4   pyr  \n",
       "...         ...    ...   ...  \n",
       "1484   4.669745      7    dn  \n",
       "1485   9.647625      2   pyr  \n",
       "1486  16.161014      2   pyr  \n",
       "1487   5.270951      1   pyr  \n",
       "1488   5.264411      1   pyr  \n",
       "\n",
       "[1489 rows x 8 columns]"
      ]
     },
     "execution_count": 52,
     "metadata": {},
     "output_type": "execute_result"
    }
   ],
   "source": [
    "fn=myProject.dataPath+\"/results/cell_classification.csv\"\n",
    "ct = pd.read_csv(fn)\n",
    "ct"
   ]
  },
  {
   "cell_type": "code",
   "execution_count": 53,
   "id": "a0f6639e-de05-44d8-85bc-07f3bd7b19db",
   "metadata": {},
   "outputs": [],
   "source": [
    "if ct.shape[0]!=myMaps[\"circ80\"].shape[0]:\n",
    "    print(\"problem with length of cell_classification.csv\")"
   ]
  },
  {
   "cell_type": "code",
   "execution_count": 54,
   "id": "a1a5242f-c8b3-4113-b854-0ba7073e9567",
   "metadata": {},
   "outputs": [
    {
     "name": "stdout",
     "output_type": "stream",
     "text": [
      "Pyramidal cells: 472\n"
     ]
    }
   ],
   "source": [
    "pyrIndices=ct.cellType==\"pyr\"\n",
    "pyrId=ct.id[ct.cellType==\"pyr\"]\n",
    "print(\"Pyramidal cells: {}\".format(np.sum(ct.cellType==\"pyr\")))\n"
   ]
  },
  {
   "cell_type": "code",
   "execution_count": 55,
   "id": "e421ca59-bd6c-4771-98e6-673714a900f8",
   "metadata": {},
   "outputs": [],
   "source": [
    "for key in myMaps:\n",
    "    myMaps[key]=myMaps[key][pyrIndices]\n",
    "for key in myHdHist:\n",
    "    myHdHist[key]=myHdHist[key][pyrIndices]\n",
    "for key in myEhaHist:\n",
    "    myEhaHist[key]=myEhaHist[key][pyrIndices]\n",
    "    "
   ]
  },
  {
   "cell_type": "code",
   "execution_count": 56,
   "id": "324e8442-8833-4e36-bf3b-217698838ea5",
   "metadata": {},
   "outputs": [
    {
     "data": {
      "text/plain": [
       "((3304, 6), (3304, 6))"
      ]
     },
     "execution_count": 56,
     "metadata": {},
     "output_type": "execute_result"
    }
   ],
   "source": [
    "hdStats = hdStats[hdStats.cellId.isin(pyrId)]\n",
    "ehaStats = ehaStats[ehaStats.cellId.isin(pyrId)]\n",
    "hdStats.shape,ehaStats.shape"
   ]
  },
  {
   "cell_type": "code",
   "execution_count": 57,
   "id": "c3ca2e05-d91c-474a-a858-ead3fccb6084",
   "metadata": {},
   "outputs": [],
   "source": [
    "pyrId = pyrId.reset_index(drop=True)"
   ]
  },
  {
   "cell_type": "code",
   "execution_count": null,
   "id": "147234da-4a22-4d86-9c5d-557aabceeabe",
   "metadata": {},
   "outputs": [],
   "source": []
  },
  {
   "cell_type": "code",
   "execution_count": 65,
   "id": "9e8c5a25-b7de-4767-a64f-482cfa8e2658",
   "metadata": {},
   "outputs": [
    {
     "name": "stdout",
     "output_type": "stream",
     "text": [
      "0.0049736410124855\n",
      "-0.003990449494031212\n",
      "0.009281879599694697\n"
     ]
    },
    {
     "data": {
      "image/png": "[encoded data removed]",
      "text/plain": [
       "<Figure size 576x1080 with 6 Axes>"
      ]
     },
     "metadata": {
      "needs_background": "light"
     },
     "output_type": "display_data"
    }
   ],
   "source": [
    "fig,ax = plt.subplots(3,2,figsize=(8,15))\n",
    "\n",
    "bins = np.linspace(-0.3,0.3,20)\n",
    "\n",
    "for i,cond in enumerate([\"circ80\",\"light_arena\",\"dark_arena\"]):\n",
    "    ax[i,0].scatter(hdStats.vectorLength[hdStats.condition==cond],ehaStats.vectorLength[ehaStats.condition==cond])\n",
    "    ax[i,0].plot([0,1],[0,1],c=\"red\")\n",
    "    ax[i,0].set_xlabel(\"HD vl\")\n",
    "    ax[i,0].set_ylabel(\"EHA vl\")\n",
    "    ax[i,0].set_title(cond)\n",
    "\n",
    "    ax[i,1].hist(hdStats.vectorLength[hdStats.condition==cond]-ehaStats.vectorLength[ehaStats.condition==cond],bins=bins)\n",
    "    ax[i,1].set_xlim(-0.2,0.2)\n",
    "    ax[i,1].set_xlabel(\"HD - EHA\")\n",
    "    ax[i,1].set_ylabel(\"Neurons\")\n",
    "    ax[i,1].plot([0,0],[0,150],c=\"red\")\n",
    "    \n",
    "    myMedian=np.nanmedian(hdStats.vectorLength[hdStats.condition==cond]-ehaStats.vectorLength[ehaStats.condition==cond])\n",
    "    ax[i,1].plot([myMedian,myMedian],[0,150],c=\"black\")\n",
    "    print(myMedian)\n",
    "    \n",
    "plt.show()"
   ]
  },
  {
   "cell_type": "code",
   "execution_count": null,
   "id": "116defb1-1e24-47de-b5ea-4b9c5d7e01af",
   "metadata": {},
   "outputs": [],
   "source": []
  }
 ],
 "metadata": {
  "kernelspec": {
   "display_name": "Python [conda env:DEEPLABCUT] *",
   "language": "python",
   "name": "conda-env-DEEPLABCUT-py"
  },
  "language_info": {
   "codemirror_mode": {
    "name": "ipython",
    "version": 3
   },
   "file_extension": ".py",
   "mimetype": "text/x-python",
   "name": "python",
   "nbconvert_exporter": "python",
   "pygments_lexer": "ipython3",
   "version": "3.8.10"
  }
 },
 "nbformat": 4,
 "nbformat_minor": 5
}
