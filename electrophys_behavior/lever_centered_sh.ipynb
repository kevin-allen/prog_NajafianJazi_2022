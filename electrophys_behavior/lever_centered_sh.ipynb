{
 "cells": [
  {
   "cell_type": "markdown",
   "id": "6e0a229a-0008-46ea-b178-d658714106fe",
   "metadata": {},
   "source": [
    "# Analysis of lever-centered firing fields and their relationship to search and homing paths\n",
    "\n",
    "If the lever-centered firing fields are stabalized by path integraiton, their quality should vary as a function of the search path.\n",
    "\n",
    "If homing partly depends on the activity of hippocampal neurons, then homing accuracy should be related to lever centered firing fields. \n",
    "\n",
    "The search variables and homing error is calculated with the notebook `extract_trials.ipynb`\n",
    "\n",
    "We can get the homing error for each trialElectro in the variables \n",
    "\n",
    "* trial.homingAngleAtPeriphery: Angle between a vector [1,0] (from center of arena going East) and a vector from the center of arena going to the location where the animal reached periphery\n",
    "* trial.homingAngleAtPeripheryLever: Angle between a vector from the lever to the bridge and a vector from the lever to the location where the animal reached periphery\n",
    "\n",
    "We could create intervals for accurate and inaccurate trials\n"
   ]
  },
  {
   "cell_type": "code",
   "execution_count": 5,
   "id": "46cce75b-9533-4dad-bd67-a7144e4464a0",
   "metadata": {},
   "outputs": [
    {
     "name": "stdout",
     "output_type": "stream",
     "text": [
      "Project name: autopi_ca1\n",
      "dataPath: /adata/projects/autopi_ca1\n",
      "dlcModelPath: /adata/models\n",
      "Reading /adata/projects/autopi_ca1/sessionList\n",
      "We have 39 testing sessions in the list\n",
      "See myProject and sSesList objects\n",
      "Loading Animal_pose and Spike_train, sSes.ap and sSes.cg\n"
     ]
    },
    {
     "name": "stderr",
     "output_type": "stream",
     "text": [
      "  0%|                                                    | 0/39 [00:00<?, ?it/s]"
     ]
    },
    {
     "name": "stdout",
     "output_type": "stream",
     "text": [
      "self.px_per_cm "
     ]
    },
    {
     "name": "stderr",
     "output_type": "stream",
     "text": [
      "  5%|██▎                                         | 2/39 [00:00<00:03, 11.20it/s]"
     ]
    },
    {
     "name": "stdout",
     "output_type": "stream",
     "text": [
      "<class 'float'> 9.75\n",
      "self.px_per_cm <class 'float'> 9.75\n",
      "self.px_per_cm <class 'float'> 9.75\n"
     ]
    },
    {
     "name": "stderr",
     "output_type": "stream",
     "text": [
      " 15%|██████▊                                     | 6/39 [00:00<00:02, 15.82it/s]"
     ]
    },
    {
     "name": "stdout",
     "output_type": "stream",
     "text": [
      "self.px_per_cm <class 'float'> 9.75\n",
      "self.px_per_cm <class 'float'> 9.75\n",
      "self.px_per_cm <class 'float'> 9.75\n",
      "self.px_per_cm <class 'float'> 9.75\n"
     ]
    },
    {
     "name": "stderr",
     "output_type": "stream",
     "text": [
      " 21%|█████████                                   | 8/39 [00:00<00:03,  9.51it/s]"
     ]
    },
    {
     "name": "stdout",
     "output_type": "stream",
     "text": [
      "self.px_per_cm <class 'float'> 9.75\n",
      "self.px_per_cm <class 'float'> 9.75\n"
     ]
    },
    {
     "name": "stderr",
     "output_type": "stream",
     "text": [
      " 26%|███████████                                | 10/39 [00:01<00:04,  7.19it/s]"
     ]
    },
    {
     "name": "stdout",
     "output_type": "stream",
     "text": [
      "self.px_per_cm <class 'float'> 9.75\n",
      "self.px_per_cm <class 'float'> 9.75\n"
     ]
    },
    {
     "name": "stderr",
     "output_type": "stream",
     "text": [
      " 33%|██████████████▎                            | 13/39 [00:01<00:03,  8.42it/s]"
     ]
    },
    {
     "name": "stdout",
     "output_type": "stream",
     "text": [
      "self.px_per_cm <class 'float'> 9.75\n",
      "self.px_per_cm <class 'float'> 9.75\n",
      "self.px_per_cm <class 'float'> 9.75\n"
     ]
    },
    {
     "name": "stderr",
     "output_type": "stream",
     "text": [
      " 38%|████████████████▌                          | 15/39 [00:01<00:02,  8.42it/s]"
     ]
    },
    {
     "name": "stdout",
     "output_type": "stream",
     "text": [
      "self.px_per_cm <class 'float'> 9.75\n",
      "self.px_per_cm <class 'float'> 9.75\n",
      "self.px_per_cm <class 'float'> 9.75\n"
     ]
    },
    {
     "name": "stderr",
     "output_type": "stream",
     "text": [
      " 44%|██████████████████▋                        | 17/39 [00:01<00:02,  8.70it/s]"
     ]
    },
    {
     "name": "stdout",
     "output_type": "stream",
     "text": [
      "self.px_per_cm <class 'float'> 9.75\n"
     ]
    },
    {
     "name": "stderr",
     "output_type": "stream",
     "text": [
      " 49%|████████████████████▉                      | 19/39 [00:02<00:02,  7.59it/s]"
     ]
    },
    {
     "name": "stdout",
     "output_type": "stream",
     "text": [
      "self.px_per_cm <class 'float'> 9.75\n",
      "self.px_per_cm <class 'float'> 9.75\n",
      "self.px_per_cm <class 'float'> 9.75\n"
     ]
    },
    {
     "name": "stderr",
     "output_type": "stream",
     "text": [
      " 54%|███████████████████████▏                   | 21/39 [00:02<00:02,  6.71it/s]"
     ]
    },
    {
     "name": "stdout",
     "output_type": "stream",
     "text": [
      "self.px_per_cm <class 'float'> 9.75\n"
     ]
    },
    {
     "name": "stderr",
     "output_type": "stream",
     "text": [
      " 56%|████████████████████████▎                  | 22/39 [00:03<00:03,  4.31it/s]"
     ]
    },
    {
     "name": "stdout",
     "output_type": "stream",
     "text": [
      "self.px_per_cm <class 'float'> 9.75\n"
     ]
    },
    {
     "name": "stderr",
     "output_type": "stream",
     "text": [
      " 59%|█████████████████████████▎                 | 23/39 [00:03<00:04,  3.48it/s]"
     ]
    },
    {
     "name": "stdout",
     "output_type": "stream",
     "text": [
      "self.px_per_cm <class 'float'> 9.75\n"
     ]
    },
    {
     "name": "stderr",
     "output_type": "stream",
     "text": [
      " 64%|███████████████████████████▌               | 25/39 [00:04<00:03,  4.15it/s]"
     ]
    },
    {
     "name": "stdout",
     "output_type": "stream",
     "text": [
      "self.px_per_cm <class 'float'> 9.75\n",
      "self.px_per_cm <class 'float'> 5.7\n"
     ]
    },
    {
     "name": "stderr",
     "output_type": "stream",
     "text": [
      " 67%|████████████████████████████▋              | 26/39 [00:04<00:04,  2.73it/s]"
     ]
    },
    {
     "name": "stdout",
     "output_type": "stream",
     "text": [
      "self.px_per_cm <class 'float'> 5.7\n"
     ]
    },
    {
     "name": "stderr",
     "output_type": "stream",
     "text": [
      " 72%|██████████████████████████████▊            | 28/39 [00:06<00:04,  2.26it/s]"
     ]
    },
    {
     "name": "stdout",
     "output_type": "stream",
     "text": [
      "self.px_per_cm <class 'float'> 9.75\n",
      "self.px_per_cm <class 'float'> 9.75\n"
     ]
    },
    {
     "name": "stderr",
     "output_type": "stream",
     "text": [
      " 74%|███████████████████████████████▉           | 29/39 [00:06<00:04,  2.22it/s]"
     ]
    },
    {
     "name": "stdout",
     "output_type": "stream",
     "text": [
      "self.px_per_cm <class 'float'> 5.7\n"
     ]
    },
    {
     "name": "stderr",
     "output_type": "stream",
     "text": [
      " 77%|█████████████████████████████████          | 30/39 [00:07<00:04,  2.05it/s]"
     ]
    },
    {
     "name": "stdout",
     "output_type": "stream",
     "text": [
      "self.px_per_cm <class 'float'> 5.7\n"
     ]
    },
    {
     "name": "stderr",
     "output_type": "stream",
     "text": [
      " 79%|██████████████████████████████████▏        | 31/39 [00:07<00:03,  2.42it/s]"
     ]
    },
    {
     "name": "stdout",
     "output_type": "stream",
     "text": [
      "self.px_per_cm <class 'float'> 5.7\n"
     ]
    },
    {
     "name": "stderr",
     "output_type": "stream",
     "text": [
      " 85%|████████████████████████████████████▍      | 33/39 [00:07<00:01,  3.32it/s]"
     ]
    },
    {
     "name": "stdout",
     "output_type": "stream",
     "text": [
      "self.px_per_cm <class 'float'> 5.7\n",
      "self.px_per_cm <class 'float'> 5.7\n"
     ]
    },
    {
     "name": "stderr",
     "output_type": "stream",
     "text": [
      " 90%|██████████████████████████████████████▌    | 35/39 [00:07<00:00,  4.74it/s]"
     ]
    },
    {
     "name": "stdout",
     "output_type": "stream",
     "text": [
      "self.px_per_cm <class 'float'> 5.7\n",
      "self.px_per_cm <class 'float'> 5.7\n"
     ]
    },
    {
     "name": "stderr",
     "output_type": "stream",
     "text": [
      " 92%|███████████████████████████████████████▋   | 36/39 [00:08<00:00,  4.52it/s]"
     ]
    },
    {
     "name": "stdout",
     "output_type": "stream",
     "text": [
      "self.px_per_cm <class 'float'> 5.7\n"
     ]
    },
    {
     "name": "stderr",
     "output_type": "stream",
     "text": [
      " 95%|████████████████████████████████████████▊  | 37/39 [00:08<00:00,  3.90it/s]"
     ]
    },
    {
     "name": "stdout",
     "output_type": "stream",
     "text": [
      "self.px_per_cm <class 'float'> 5.7\n"
     ]
    },
    {
     "name": "stderr",
     "output_type": "stream",
     "text": [
      " 97%|█████████████████████████████████████████▉ | 38/39 [00:08<00:00,  3.74it/s]"
     ]
    },
    {
     "name": "stdout",
     "output_type": "stream",
     "text": [
      "self.px_per_cm <class 'float'> 5.7\n"
     ]
    },
    {
     "name": "stderr",
     "output_type": "stream",
     "text": [
      "100%|███████████████████████████████████████████| 39/39 [00:09<00:00,  4.26it/s]"
     ]
    },
    {
     "name": "stdout",
     "output_type": "stream",
     "text": [
      "Loading ses.trial_table_simple as ses.trials\n",
      "Create condition intervals in ses.intervalDict\n"
     ]
    },
    {
     "name": "stderr",
     "output_type": "stream",
     "text": [
      "\n"
     ]
    }
   ],
   "source": [
    "%load_ext autoreload\n",
    "%autoreload 2\n",
    "%run setup_project.py\n",
    "prepareSessionsForSpatialAnalysisProject(sSesList,myProject.sessionList,pose_file_extension = \".pose_kf.npy\")"
   ]
  },
  {
   "cell_type": "code",
   "execution_count": 6,
   "id": "6f8eb557-a1be-4375-b19a-c83e62059fbd",
   "metadata": {},
   "outputs": [
    {
     "name": "stdout",
     "output_type": "stream",
     "text": [
      "Loading: /adata/projects/autopi_ca1/results/myProjectWithTrials.pickle\n",
      "Loading Animal_pose and Spike_train, sSes.ap and sSes.cg\n"
     ]
    },
    {
     "name": "stderr",
     "output_type": "stream",
     "text": [
      "  5%|██▎                                         | 2/39 [00:00<00:02, 14.06it/s]"
     ]
    },
    {
     "name": "stdout",
     "output_type": "stream",
     "text": [
      "self.px_per_cm <class 'float'> 9.75\n",
      "self.px_per_cm <class 'float'> 9.75\n",
      "self.px_per_cm <class 'float'> 9.75\n",
      "self.px_per_cm <class 'float'> 9.75\n"
     ]
    },
    {
     "name": "stderr",
     "output_type": "stream",
     "text": [
      " 10%|████▌                                       | 4/39 [00:00<00:02, 16.21it/s]"
     ]
    },
    {
     "name": "stdout",
     "output_type": "stream",
     "text": [
      "self.px_per_cm <class 'float'> 9.75\n",
      "self.px_per_cm <class 'float'> 9.75\n",
      "self.px_per_cm <class 'float'> 9.75\n"
     ]
    },
    {
     "name": "stderr",
     "output_type": "stream",
     "text": [
      " 18%|███████▉                                    | 7/39 [00:00<00:02, 13.27it/s]"
     ]
    },
    {
     "name": "stdout",
     "output_type": "stream",
     "text": [
      "self.px_per_cm <class 'float'> 9.75\n",
      "self.px_per_cm <class 'float'> 9.75\n"
     ]
    },
    {
     "name": "stderr",
     "output_type": "stream",
     "text": [
      " 23%|██████████▏                                 | 9/39 [00:00<00:03,  8.49it/s]"
     ]
    },
    {
     "name": "stdout",
     "output_type": "stream",
     "text": [
      "self.px_per_cm <class 'float'> 9.75\n",
      "self.px_per_cm <class 'float'> 9.75\n"
     ]
    },
    {
     "name": "stderr",
     "output_type": "stream",
     "text": [
      " 28%|████████████▏                              | 11/39 [00:01<00:04,  6.87it/s]"
     ]
    },
    {
     "name": "stdout",
     "output_type": "stream",
     "text": [
      "self.px_per_cm <class 'float'> 9.75\n",
      "self.px_per_cm <class 'float'> 9.75\n",
      "self.px_per_cm <class 'float'> 9.75\n"
     ]
    },
    {
     "name": "stderr",
     "output_type": "stream",
     "text": [
      " 41%|█████████████████▋                         | 16/39 [00:01<00:02,  9.46it/s]"
     ]
    },
    {
     "name": "stdout",
     "output_type": "stream",
     "text": [
      "self.px_per_cm <class 'float'> 9.75\n",
      "self.px_per_cm <class 'float'> 9.75\n",
      "self.px_per_cm <class 'float'> 9.75\n",
      "self.px_per_cm <class 'float'> 9.75\n"
     ]
    },
    {
     "name": "stderr",
     "output_type": "stream",
     "text": [
      " 51%|██████████████████████                     | 20/39 [00:02<00:02,  8.52it/s]"
     ]
    },
    {
     "name": "stdout",
     "output_type": "stream",
     "text": [
      "self.px_per_cm <class 'float'> 9.75\n",
      "self.px_per_cm <class 'float'> 9.75\n",
      "self.px_per_cm <class 'float'> 9.75\n",
      "self.px_per_cm <class 'float'> 9.75\n"
     ]
    },
    {
     "name": "stderr",
     "output_type": "stream",
     "text": [
      " 56%|████████████████████████▎                  | 22/39 [00:03<00:03,  4.73it/s]"
     ]
    },
    {
     "name": "stdout",
     "output_type": "stream",
     "text": [
      "self.px_per_cm <class 'float'> 9.75\n"
     ]
    },
    {
     "name": "stderr",
     "output_type": "stream",
     "text": [
      " 59%|█████████████████████████▎                 | 23/39 [00:03<00:04,  3.86it/s]"
     ]
    },
    {
     "name": "stdout",
     "output_type": "stream",
     "text": [
      "self.px_per_cm <class 'float'> 9.75\n"
     ]
    },
    {
     "name": "stderr",
     "output_type": "stream",
     "text": [
      " 64%|███████████████████████████▌               | 25/39 [00:03<00:03,  4.48it/s]"
     ]
    },
    {
     "name": "stdout",
     "output_type": "stream",
     "text": [
      "self.px_per_cm <class 'float'> 9.75\n",
      "self.px_per_cm <class 'float'> 5.7\n",
      "self.px_per_cm <class 'float'> 5.7\n"
     ]
    },
    {
     "name": "stderr",
     "output_type": "stream",
     "text": [
      " 72%|██████████████████████████████▊            | 28/39 [00:04<00:02,  5.12it/s]"
     ]
    },
    {
     "name": "stdout",
     "output_type": "stream",
     "text": [
      "self.px_per_cm <class 'float'> 9.75\n",
      "self.px_per_cm <class 'float'> 9.75\n"
     ]
    },
    {
     "name": "stderr",
     "output_type": "stream",
     "text": [
      " 74%|███████████████████████████████▉           | 29/39 [00:04<00:02,  3.78it/s]"
     ]
    },
    {
     "name": "stdout",
     "output_type": "stream",
     "text": [
      "self.px_per_cm <class 'float'> 5.7\n"
     ]
    },
    {
     "name": "stderr",
     "output_type": "stream",
     "text": [
      " 77%|█████████████████████████████████          | 30/39 [00:05<00:03,  2.94it/s]"
     ]
    },
    {
     "name": "stdout",
     "output_type": "stream",
     "text": [
      "self.px_per_cm <class 'float'> 5.7\n"
     ]
    },
    {
     "name": "stderr",
     "output_type": "stream",
     "text": [
      " 79%|██████████████████████████████████▏        | 31/39 [00:05<00:02,  3.23it/s]"
     ]
    },
    {
     "name": "stdout",
     "output_type": "stream",
     "text": [
      "self.px_per_cm <class 'float'> 5.7\n"
     ]
    },
    {
     "name": "stderr",
     "output_type": "stream",
     "text": [
      " 85%|████████████████████████████████████▍      | 33/39 [00:06<00:01,  3.99it/s]"
     ]
    },
    {
     "name": "stdout",
     "output_type": "stream",
     "text": [
      "self.px_per_cm <class 'float'> 5.7\n",
      "self.px_per_cm <class 'float'> 5.7\n"
     ]
    },
    {
     "name": "stderr",
     "output_type": "stream",
     "text": [
      " 90%|██████████████████████████████████████▌    | 35/39 [00:06<00:00,  5.27it/s]"
     ]
    },
    {
     "name": "stdout",
     "output_type": "stream",
     "text": [
      "self.px_per_cm <class 'float'> 5.7\n",
      "self.px_per_cm <class 'float'> 5.7\n"
     ]
    },
    {
     "name": "stderr",
     "output_type": "stream",
     "text": [
      " 92%|███████████████████████████████████████▋   | 36/39 [00:06<00:00,  4.96it/s]"
     ]
    },
    {
     "name": "stdout",
     "output_type": "stream",
     "text": [
      "self.px_per_cm <class 'float'> 5.7\n"
     ]
    },
    {
     "name": "stderr",
     "output_type": "stream",
     "text": [
      " 95%|████████████████████████████████████████▊  | 37/39 [00:06<00:00,  4.28it/s]"
     ]
    },
    {
     "name": "stdout",
     "output_type": "stream",
     "text": [
      "self.px_per_cm <class 'float'> 5.7\n"
     ]
    },
    {
     "name": "stderr",
     "output_type": "stream",
     "text": [
      " 97%|█████████████████████████████████████████▉ | 38/39 [00:07<00:00,  4.04it/s]"
     ]
    },
    {
     "name": "stdout",
     "output_type": "stream",
     "text": [
      "self.px_per_cm <class 'float'> 5.7\n"
     ]
    },
    {
     "name": "stderr",
     "output_type": "stream",
     "text": [
      "100%|███████████████████████████████████████████| 39/39 [00:07<00:00,  5.19it/s]\n"
     ]
    },
    {
     "name": "stdout",
     "output_type": "stream",
     "text": [
      "Loading ses.trial_table_simple as ses.trials\n",
      "Create condition intervals in ses.intervalDict\n",
      "CPU times: user 12.4 s, sys: 1.94 s, total: 14.3 s\n",
      "Wall time: 14.4 s\n"
     ]
    }
   ],
   "source": [
    "%%time\n",
    "myProjectWithTrials = loadMyProjectWithTrials(myProject) # load analyzed trials\n",
    "prepareSessionsForSpatialAnalysisProject(sSesList,myProjectWithTrials.sessionList,pose_file_extension = \".pose_kf.npy\")"
   ]
  },
  {
   "cell_type": "code",
   "execution_count": 12,
   "id": "c3862267-eeef-420f-8263-3747fa2f30eb",
   "metadata": {},
   "outputs": [
    {
     "ename": "NameError",
     "evalue": "name 'myProject' is not defined",
     "output_type": "error",
     "traceback": [
      "\u001b[0;31m---------------------------------------------------------------------------\u001b[0m",
      "\u001b[0;31mNameError\u001b[0m                                 Traceback (most recent call last)",
      "\u001b[0;32m/tmp/ipykernel_30584/122059602.py\u001b[0m in \u001b[0;36m<module>\u001b[0;34m\u001b[0m\n\u001b[0;32m----> 1\u001b[0;31m \u001b[0;32mdel\u001b[0m \u001b[0mmyProject\u001b[0m\u001b[0;34m\u001b[0m\u001b[0;34m\u001b[0m\u001b[0m\n\u001b[0m",
      "\u001b[0;31mNameError\u001b[0m: name 'myProject' is not defined"
     ]
    }
   ],
   "source": [
    "del myProject"
   ]
  },
  {
   "cell_type": "code",
   "execution_count": 13,
   "id": "05cdfa82-5eb6-452e-b904-0f2748ca1337",
   "metadata": {},
   "outputs": [
    {
     "name": "stderr",
     "output_type": "stream",
     "text": [
      "39it [00:00, 63.02it/s]\n"
     ]
    }
   ],
   "source": [
    "for ses, sSes in tqdm(zip(myProjectWithTrials.sessionList,sSesList)):\n",
    "    getSearchHomingIntervals(ses,sSes)"
   ]
  },
  {
   "cell_type": "markdown",
   "id": "b51529f6-c752-4977-801e-070b73158bb9",
   "metadata": {},
   "source": [
    "## Characterize homing error during light and dark trials for our recording sessions"
   ]
  },
  {
   "cell_type": "code",
   "execution_count": 14,
   "id": "7b5b0abb-1908-45d5-affe-532fd7454b53",
   "metadata": {},
   "outputs": [],
   "source": [
    "i=34\n",
    "ses = myProjectWithTrials.sessionList[i]\n",
    "sSes = sSesList[i]"
   ]
  },
  {
   "cell_type": "code",
   "execution_count": 15,
   "id": "a4e17468-f582-4af7-b71d-fa6f5a1763aa",
   "metadata": {},
   "outputs": [
    {
     "name": "stdout",
     "output_type": "stream",
     "text": [
      "-1.5707963267948966\n"
     ]
    },
    {
     "data": {
      "image/png": "[encoded data removed]",
      "text/plain": [
       "<Figure size 1080x360 with 5 Axes>"
      ]
     },
     "metadata": {
      "needs_background": "light"
     },
     "output_type": "display_data"
    }
   ],
   "source": [
    "t = ses.trialList[33]\n",
    "fig,ax = plt.subplots(1,5,figsize=(15,5))\n",
    "t.plotTrialAndJourneys(ax)\n",
    "print(-np.pi/2)"
   ]
  },
  {
   "cell_type": "code",
   "execution_count": 16,
   "id": "e4688213-2262-4d79-9674-f5e95579a771",
   "metadata": {},
   "outputs": [
    {
     "data": {
      "text/html": [
       "<div>\n",
       "<style scoped>\n",
       "    .dataframe tbody tr th:only-of-type {\n",
       "        vertical-align: middle;\n",
       "    }\n",
       "\n",
       "    .dataframe tbody tr th {\n",
       "        vertical-align: top;\n",
       "    }\n",
       "\n",
       "    .dataframe thead th {\n",
       "        text-align: right;\n",
       "    }\n",
       "</style>\n",
       "<table border=\"1\" class=\"dataframe\">\n",
       "  <thead>\n",
       "    <tr style=\"text-align: right;\">\n",
       "      <th></th>\n",
       "      <th>name</th>\n",
       "      <th>trial</th>\n",
       "      <th>trialNo</th>\n",
       "      <th>journey</th>\n",
       "      <th>type</th>\n",
       "      <th>light</th>\n",
       "      <th>nLeverPresses</th>\n",
       "      <th>startTimeRos</th>\n",
       "      <th>endTimeRos</th>\n",
       "      <th>startTimeRes</th>\n",
       "      <th>endTimeRes</th>\n",
       "    </tr>\n",
       "  </thead>\n",
       "  <tbody>\n",
       "    <tr>\n",
       "      <th>0</th>\n",
       "      <td>mn9686-26102021-0106_1-0_all</td>\n",
       "      <td>mn9686-26102021-0106_1</td>\n",
       "      <td>1</td>\n",
       "      <td>0</td>\n",
       "      <td>all</td>\n",
       "      <td>light</td>\n",
       "      <td>0</td>\n",
       "      <td>1.635264e+09</td>\n",
       "      <td>1.635264e+09</td>\n",
       "      <td>3045.52</td>\n",
       "      <td>3049.84</td>\n",
       "    </tr>\n",
       "    <tr>\n",
       "      <th>1</th>\n",
       "      <td>mn9686-26102021-0106_1-1_all</td>\n",
       "      <td>mn9686-26102021-0106_1</td>\n",
       "      <td>1</td>\n",
       "      <td>1</td>\n",
       "      <td>all</td>\n",
       "      <td>light</td>\n",
       "      <td>1</td>\n",
       "      <td>1.635264e+09</td>\n",
       "      <td>1.635264e+09</td>\n",
       "      <td>3058.06</td>\n",
       "      <td>3061.54</td>\n",
       "    </tr>\n",
       "    <tr>\n",
       "      <th>2</th>\n",
       "      <td>mn9686-26102021-0106_1-1_searchPath</td>\n",
       "      <td>mn9686-26102021-0106_1</td>\n",
       "      <td>1</td>\n",
       "      <td>1</td>\n",
       "      <td>searchPath</td>\n",
       "      <td>light</td>\n",
       "      <td>1</td>\n",
       "      <td>1.635264e+09</td>\n",
       "      <td>1.635264e+09</td>\n",
       "      <td>3058.06</td>\n",
       "      <td>3059.22</td>\n",
       "    </tr>\n",
       "    <tr>\n",
       "      <th>3</th>\n",
       "      <td>mn9686-26102021-0106_1-1_searchToLeverPath</td>\n",
       "      <td>mn9686-26102021-0106_1</td>\n",
       "      <td>1</td>\n",
       "      <td>1</td>\n",
       "      <td>searchToLeverPath</td>\n",
       "      <td>light</td>\n",
       "      <td>1</td>\n",
       "      <td>1.635264e+09</td>\n",
       "      <td>1.635264e+09</td>\n",
       "      <td>3058.06</td>\n",
       "      <td>3058.60</td>\n",
       "    </tr>\n",
       "    <tr>\n",
       "      <th>4</th>\n",
       "      <td>mn9686-26102021-0106_1-1_homingPath</td>\n",
       "      <td>mn9686-26102021-0106_1</td>\n",
       "      <td>1</td>\n",
       "      <td>1</td>\n",
       "      <td>homingPath</td>\n",
       "      <td>light</td>\n",
       "      <td>1</td>\n",
       "      <td>1.635264e+09</td>\n",
       "      <td>1.635264e+09</td>\n",
       "      <td>3059.24</td>\n",
       "      <td>3061.54</td>\n",
       "    </tr>\n",
       "    <tr>\n",
       "      <th>...</th>\n",
       "      <td>...</td>\n",
       "      <td>...</td>\n",
       "      <td>...</td>\n",
       "      <td>...</td>\n",
       "      <td>...</td>\n",
       "      <td>...</td>\n",
       "      <td>...</td>\n",
       "      <td>...</td>\n",
       "      <td>...</td>\n",
       "      <td>...</td>\n",
       "      <td>...</td>\n",
       "    </tr>\n",
       "    <tr>\n",
       "      <th>1000</th>\n",
       "      <td>mn9686-26102021-0106_125-0_searchToLeverPath</td>\n",
       "      <td>mn9686-26102021-0106_125</td>\n",
       "      <td>125</td>\n",
       "      <td>0</td>\n",
       "      <td>searchToLeverPath</td>\n",
       "      <td>light</td>\n",
       "      <td>1</td>\n",
       "      <td>1.635269e+09</td>\n",
       "      <td>1.635269e+09</td>\n",
       "      <td>8283.42</td>\n",
       "      <td>8284.02</td>\n",
       "    </tr>\n",
       "    <tr>\n",
       "      <th>1001</th>\n",
       "      <td>mn9686-26102021-0106_125-0_homingPath</td>\n",
       "      <td>mn9686-26102021-0106_125</td>\n",
       "      <td>125</td>\n",
       "      <td>0</td>\n",
       "      <td>homingPath</td>\n",
       "      <td>light</td>\n",
       "      <td>1</td>\n",
       "      <td>1.635269e+09</td>\n",
       "      <td>1.635269e+09</td>\n",
       "      <td>8285.02</td>\n",
       "      <td>8286.66</td>\n",
       "    </tr>\n",
       "    <tr>\n",
       "      <th>1002</th>\n",
       "      <td>mn9686-26102021-0106_125-0_homingFromLeavingLever</td>\n",
       "      <td>mn9686-26102021-0106_125</td>\n",
       "      <td>125</td>\n",
       "      <td>0</td>\n",
       "      <td>homingFromLeavingLever</td>\n",
       "      <td>light</td>\n",
       "      <td>1</td>\n",
       "      <td>1.635269e+09</td>\n",
       "      <td>1.635269e+09</td>\n",
       "      <td>8285.90</td>\n",
       "      <td>8286.66</td>\n",
       "    </tr>\n",
       "    <tr>\n",
       "      <th>1003</th>\n",
       "      <td>mn9686-26102021-0106_125-0_homingFromLeavingLe...</td>\n",
       "      <td>mn9686-26102021-0106_125</td>\n",
       "      <td>125</td>\n",
       "      <td>0</td>\n",
       "      <td>homingFromLeavingLeverToPeriphery</td>\n",
       "      <td>light</td>\n",
       "      <td>1</td>\n",
       "      <td>1.635269e+09</td>\n",
       "      <td>1.635269e+09</td>\n",
       "      <td>8285.90</td>\n",
       "      <td>8286.58</td>\n",
       "    </tr>\n",
       "    <tr>\n",
       "      <th>1004</th>\n",
       "      <td>mn9686-26102021-0106_125-0_atLever</td>\n",
       "      <td>mn9686-26102021-0106_125</td>\n",
       "      <td>125</td>\n",
       "      <td>0</td>\n",
       "      <td>atLever</td>\n",
       "      <td>light</td>\n",
       "      <td>1</td>\n",
       "      <td>1.635269e+09</td>\n",
       "      <td>1.635269e+09</td>\n",
       "      <td>8284.02</td>\n",
       "      <td>8285.90</td>\n",
       "    </tr>\n",
       "  </tbody>\n",
       "</table>\n",
       "<p>1005 rows × 11 columns</p>\n",
       "</div>"
      ],
      "text/plain": [
       "                                                   name  \\\n",
       "0                          mn9686-26102021-0106_1-0_all   \n",
       "1                          mn9686-26102021-0106_1-1_all   \n",
       "2                   mn9686-26102021-0106_1-1_searchPath   \n",
       "3            mn9686-26102021-0106_1-1_searchToLeverPath   \n",
       "4                   mn9686-26102021-0106_1-1_homingPath   \n",
       "...                                                 ...   \n",
       "1000       mn9686-26102021-0106_125-0_searchToLeverPath   \n",
       "1001              mn9686-26102021-0106_125-0_homingPath   \n",
       "1002  mn9686-26102021-0106_125-0_homingFromLeavingLever   \n",
       "1003  mn9686-26102021-0106_125-0_homingFromLeavingLe...   \n",
       "1004                 mn9686-26102021-0106_125-0_atLever   \n",
       "\n",
       "                         trial  trialNo  journey  \\\n",
       "0       mn9686-26102021-0106_1        1        0   \n",
       "1       mn9686-26102021-0106_1        1        1   \n",
       "2       mn9686-26102021-0106_1        1        1   \n",
       "3       mn9686-26102021-0106_1        1        1   \n",
       "4       mn9686-26102021-0106_1        1        1   \n",
       "...                        ...      ...      ...   \n",
       "1000  mn9686-26102021-0106_125      125        0   \n",
       "1001  mn9686-26102021-0106_125      125        0   \n",
       "1002  mn9686-26102021-0106_125      125        0   \n",
       "1003  mn9686-26102021-0106_125      125        0   \n",
       "1004  mn9686-26102021-0106_125      125        0   \n",
       "\n",
       "                                   type  light  nLeverPresses  startTimeRos  \\\n",
       "0                                   all  light              0  1.635264e+09   \n",
       "1                                   all  light              1  1.635264e+09   \n",
       "2                            searchPath  light              1  1.635264e+09   \n",
       "3                     searchToLeverPath  light              1  1.635264e+09   \n",
       "4                            homingPath  light              1  1.635264e+09   \n",
       "...                                 ...    ...            ...           ...   \n",
       "1000                  searchToLeverPath  light              1  1.635269e+09   \n",
       "1001                         homingPath  light              1  1.635269e+09   \n",
       "1002             homingFromLeavingLever  light              1  1.635269e+09   \n",
       "1003  homingFromLeavingLeverToPeriphery  light              1  1.635269e+09   \n",
       "1004                            atLever  light              1  1.635269e+09   \n",
       "\n",
       "        endTimeRos  startTimeRes  endTimeRes  \n",
       "0     1.635264e+09       3045.52     3049.84  \n",
       "1     1.635264e+09       3058.06     3061.54  \n",
       "2     1.635264e+09       3058.06     3059.22  \n",
       "3     1.635264e+09       3058.06     3058.60  \n",
       "4     1.635264e+09       3059.24     3061.54  \n",
       "...            ...           ...         ...  \n",
       "1000  1.635269e+09       8283.42     8284.02  \n",
       "1001  1.635269e+09       8285.02     8286.66  \n",
       "1002  1.635269e+09       8285.90     8286.66  \n",
       "1003  1.635269e+09       8285.90     8286.58  \n",
       "1004  1.635269e+09       8284.02     8285.90  \n",
       "\n",
       "[1005 rows x 11 columns]"
      ]
     },
     "execution_count": 16,
     "metadata": {},
     "output_type": "execute_result"
    }
   ],
   "source": [
    "fn = ses.path+\"/navPathSummary.csv\"\n",
    "navs = pd.read_csv(fn)\n",
    "navs"
   ]
  },
  {
   "cell_type": "markdown",
   "id": "8e67e8bb-0a81-4a6b-ace8-ee7438bee893",
   "metadata": {},
   "source": [
    "## Get homing error for trials in this dataset\n",
    "\n",
    "We can get a DataFrame with data from every trial in the dataset."
   ]
  },
  {
   "cell_type": "code",
   "execution_count": 17,
   "id": "1d2107af-7405-498c-a8cd-b74b3a312a14",
   "metadata": {},
   "outputs": [],
   "source": [
    "res = pd.concat([ ses.getTrialVariablesDataFrame() for ses in myProjectWithTrials.sessionList])"
   ]
  },
  {
   "cell_type": "code",
   "execution_count": 20,
   "id": "9048692e-8a3d-4ecb-9b83-c6566f57c817",
   "metadata": {},
   "outputs": [
    {
     "data": {
      "text/plain": [
       "Index(['sessionName', 'name', 'valid', 'trialNo', 'startTime', 'endTime',\n",
       "       'startTimeWS', 'endTimeWS', 'duration', 'light', 'arenaRadiusCm',\n",
       "       'nLeverPresses', 'nJourneys', 'searchLength', 'searchDuration',\n",
       "       'searchMeanSpeed', 'searchMedianMVDeviationToTarget',\n",
       "       'searchLastTargetToAnimalAngle', 'homingAngleAtPeriphery',\n",
       "       'homingErrorAtPeriphery', 'homingErrorAtPeripheryLever',\n",
       "       'homingErrorAtPeripheryLeverAbsolute', 'leverX', 'leverY', 'subject',\n",
       "       'date'],\n",
       "      dtype='object')"
      ]
     },
     "execution_count": 20,
     "metadata": {},
     "output_type": "execute_result"
    }
   ],
   "source": [
    "res.columns"
   ]
  },
  {
   "cell_type": "code",
   "execution_count": 10,
   "id": "da2f9e0e-2b5c-4ff8-9202-2476e82ea916",
   "metadata": {},
   "outputs": [
    {
     "data": {
      "image/png": "[encoded data removed]",
      "text/plain": [
       "<Figure size 432x216 with 2 Axes>"
      ]
     },
     "metadata": {
      "needs_background": "light"
     },
     "output_type": "display_data"
    }
   ],
   "source": [
    "fig,ax = plt.subplots(1,2,figsize=(6,3))\n",
    "for i,light in enumerate([\"light\",\"dark\"]):\n",
    "    ax[0].hist(res.homingErrorAtPeriphery[res.light==light],bins=36,label=light.capitalize(),alpha=0.5)\n",
    "ax[0].set_xlabel(\"Homing error\")\n",
    "ax[0].set_ylabel(\"Trials\")\n",
    "ax[0].spines['top'].set_visible(False)\n",
    "ax[0].spines['right'].set_visible(False)\n",
    "ax[0].legend()\n",
    "\n",
    "for i,light in enumerate([\"light\",\"dark\"]):\n",
    "    r = ax[1].hist(np.abs(res.homingErrorAtPeriphery[res.light==light]),bins=36,label=light.capitalize(),alpha=0.5)\n",
    "ax[1].set_xlabel(\"Homing error\")\n",
    "ax[1].set_ylabel(\"Trials\")\n",
    "ax[1].spines['top'].set_visible(False)\n",
    "ax[1].spines['right'].set_visible(False)\n",
    "ax[1].legend()\n",
    "\n",
    "plt.show()"
   ]
  },
  {
   "cell_type": "markdown",
   "id": "7b4abb9e-b3bb-4d8d-a10b-cfee5fe3a36b",
   "metadata": {},
   "source": [
    "## Trial intervals\n",
    "\n",
    "We create intervals for dark trials with and without accurate homing. We can then compare the activity between these two types of trials.\n",
    "\n",
    "* We have the recStartTime and resEndTime in ses.trial.\n",
    "* We have the homing error in ses.getTrialVariablesDataFrame()\n"
   ]
  },
  {
   "cell_type": "code",
   "execution_count": 23,
   "id": "4380e635-95ac-47c1-8005-fba110601b14",
   "metadata": {},
   "outputs": [],
   "source": []
  },
  {
   "cell_type": "code",
   "execution_count": 24,
   "id": "c50a5e71-3920-4669-bb79-e7b31d659c05",
   "metadata": {},
   "outputs": [],
   "source": [
    "ses = myProjectWithTrials.sessionList[1]\n",
    "getAccurateHomingIntervals(ses)"
   ]
  },
  {
   "cell_type": "code",
   "execution_count": 29,
   "id": "cb9f6fb1-5a40-4557-9e2b-6a163e12ec12",
   "metadata": {},
   "outputs": [],
   "source": [
    "ses = myProjectWithTrials.sessionList[1]\n",
    "getShortSearchIntervals(ses)"
   ]
  },
  {
   "cell_type": "code",
   "execution_count": 22,
   "id": "bf7b135d-ce69-49ef-bf03-9a9bed72cef0",
   "metadata": {},
   "outputs": [
    {
     "name": "stderr",
     "output_type": "stream",
     "text": [
      "39it [00:06,  6.37it/s]\n"
     ]
    }
   ],
   "source": [
    "for ses, sSes in tqdm(zip(myProjectWithTrials.sessionList,sSesList)):\n",
    "    getAccurateHomingIntervals(ses)\n"
   ]
  },
  {
   "cell_type": "code",
   "execution_count": 30,
   "id": "cab11e20-7ece-4782-9f56-9de7693654d4",
   "metadata": {},
   "outputs": [
    {
     "name": "stderr",
     "output_type": "stream",
     "text": [
      "39it [00:06,  6.08it/s]\n"
     ]
    }
   ],
   "source": [
    "for ses, sSes in tqdm(zip(myProjectWithTrials.sessionList,sSesList)):\n",
    "    getShortSearchIntervals(ses)"
   ]
  },
  {
   "cell_type": "markdown",
   "id": "bc750446-3201-45fc-b975-d4285e86735d",
   "metadata": {},
   "source": [
    "## Create trial matrix\n",
    "\n",
    "We need a firing rate x angle from lever to animal for each trial. This will be used to relate homing error angle and the angle at which the cell fired.\n",
    "\n",
    "We should get this for all dark trials with a lever presses\n"
   ]
  },
  {
   "cell_type": "code",
   "execution_count": 13,
   "id": "589a07cd-2057-486e-8d1a-dc744474e25b",
   "metadata": {},
   "outputs": [
    {
     "data": {
      "text/plain": [
       "'mn2739-17022021-0106'"
      ]
     },
     "execution_count": 13,
     "metadata": {},
     "output_type": "execute_result"
    }
   ],
   "source": [
    "i=14\n",
    "ses = myProjectWithTrials.sessionList[i]\n",
    "sSes = sSesList[i]\n",
    "ses.name"
   ]
  },
  {
   "cell_type": "code",
   "execution_count": 14,
   "id": "fe77bd81-694a-464b-82be-b01be15f81ba",
   "metadata": {},
   "outputs": [
    {
     "data": {
      "text/html": [
       "<div>\n",
       "<style scoped>\n",
       "    .dataframe tbody tr th:only-of-type {\n",
       "        vertical-align: middle;\n",
       "    }\n",
       "\n",
       "    .dataframe tbody tr th {\n",
       "        vertical-align: top;\n",
       "    }\n",
       "\n",
       "    .dataframe thead th {\n",
       "        text-align: right;\n",
       "    }\n",
       "</style>\n",
       "<table border=\"1\" class=\"dataframe\">\n",
       "  <thead>\n",
       "    <tr style=\"text-align: right;\">\n",
       "      <th></th>\n",
       "      <th>sessionName</th>\n",
       "      <th>name</th>\n",
       "      <th>valid</th>\n",
       "      <th>trialNo</th>\n",
       "      <th>startTime</th>\n",
       "      <th>endTime</th>\n",
       "      <th>startTimeWS</th>\n",
       "      <th>endTimeWS</th>\n",
       "      <th>duration</th>\n",
       "      <th>light</th>\n",
       "      <th>...</th>\n",
       "      <th>searchMedianMVDeviationToTarget</th>\n",
       "      <th>searchLastTargetToAnimalAngle</th>\n",
       "      <th>homingAngleAtPeriphery</th>\n",
       "      <th>homingErrorAtPeriphery</th>\n",
       "      <th>homingErrorAtPeripheryLever</th>\n",
       "      <th>homingErrorAtPeripheryLeverAbsolute</th>\n",
       "      <th>leverX</th>\n",
       "      <th>leverY</th>\n",
       "      <th>subject</th>\n",
       "      <th>date</th>\n",
       "    </tr>\n",
       "  </thead>\n",
       "  <tbody>\n",
       "    <tr>\n",
       "      <th>0</th>\n",
       "      <td>mn2739-17022021-0106</td>\n",
       "      <td>mn2739-17022021-0106_1</td>\n",
       "      <td>True</td>\n",
       "      <td>1</td>\n",
       "      <td>1.613583e+09</td>\n",
       "      <td>1.613583e+09</td>\n",
       "      <td>3.229151</td>\n",
       "      <td>51.711319</td>\n",
       "      <td>48.482168</td>\n",
       "      <td>light</td>\n",
       "      <td>...</td>\n",
       "      <td>9.812926</td>\n",
       "      <td>-1.489434</td>\n",
       "      <td>-1.815495</td>\n",
       "      <td>-0.277862</td>\n",
       "      <td>-0.276630</td>\n",
       "      <td>0.276630</td>\n",
       "      <td>1.596429</td>\n",
       "      <td>0.319079</td>\n",
       "      <td>mn2739</td>\n",
       "      <td>2021-02-17 01:06:00</td>\n",
       "    </tr>\n",
       "    <tr>\n",
       "      <th>0</th>\n",
       "      <td>mn2739-17022021-0106</td>\n",
       "      <td>mn2739-17022021-0106_2</td>\n",
       "      <td>True</td>\n",
       "      <td>2</td>\n",
       "      <td>1.613583e+09</td>\n",
       "      <td>1.613583e+09</td>\n",
       "      <td>59.712318</td>\n",
       "      <td>72.242178</td>\n",
       "      <td>12.529860</td>\n",
       "      <td>light</td>\n",
       "      <td>...</td>\n",
       "      <td>15.101390</td>\n",
       "      <td>-1.334181</td>\n",
       "      <td>-1.671902</td>\n",
       "      <td>-0.134269</td>\n",
       "      <td>-0.126831</td>\n",
       "      <td>0.126831</td>\n",
       "      <td>-1.502651</td>\n",
       "      <td>1.345834</td>\n",
       "      <td>mn2739</td>\n",
       "      <td>2021-02-17 01:06:00</td>\n",
       "    </tr>\n",
       "    <tr>\n",
       "      <th>0</th>\n",
       "      <td>mn2739-17022021-0106</td>\n",
       "      <td>mn2739-17022021-0106_3</td>\n",
       "      <td>True</td>\n",
       "      <td>3</td>\n",
       "      <td>1.613583e+09</td>\n",
       "      <td>1.613583e+09</td>\n",
       "      <td>87.255839</td>\n",
       "      <td>104.201783</td>\n",
       "      <td>16.945944</td>\n",
       "      <td>light</td>\n",
       "      <td>...</td>\n",
       "      <td>14.567530</td>\n",
       "      <td>-1.695343</td>\n",
       "      <td>-1.681986</td>\n",
       "      <td>-0.144352</td>\n",
       "      <td>-0.154607</td>\n",
       "      <td>0.154607</td>\n",
       "      <td>-1.094382</td>\n",
       "      <td>-3.015108</td>\n",
       "      <td>mn2739</td>\n",
       "      <td>2021-02-17 01:06:00</td>\n",
       "    </tr>\n",
       "    <tr>\n",
       "      <th>0</th>\n",
       "      <td>mn2739-17022021-0106</td>\n",
       "      <td>mn2739-17022021-0106_4</td>\n",
       "      <td>True</td>\n",
       "      <td>4</td>\n",
       "      <td>1.613583e+09</td>\n",
       "      <td>1.613583e+09</td>\n",
       "      <td>117.211290</td>\n",
       "      <td>168.008762</td>\n",
       "      <td>50.797472</td>\n",
       "      <td>light</td>\n",
       "      <td>...</td>\n",
       "      <td>19.439203</td>\n",
       "      <td>-1.204017</td>\n",
       "      <td>-1.738930</td>\n",
       "      <td>-0.201297</td>\n",
       "      <td>-0.194744</td>\n",
       "      <td>0.194744</td>\n",
       "      <td>0.172423</td>\n",
       "      <td>1.320032</td>\n",
       "      <td>mn2739</td>\n",
       "      <td>2021-02-17 01:06:00</td>\n",
       "    </tr>\n",
       "    <tr>\n",
       "      <th>0</th>\n",
       "      <td>mn2739-17022021-0106</td>\n",
       "      <td>mn2739-17022021-0106_5</td>\n",
       "      <td>True</td>\n",
       "      <td>5</td>\n",
       "      <td>1.613583e+09</td>\n",
       "      <td>1.613583e+09</td>\n",
       "      <td>193.636715</td>\n",
       "      <td>214.981432</td>\n",
       "      <td>21.344717</td>\n",
       "      <td>light</td>\n",
       "      <td>...</td>\n",
       "      <td>8.323947</td>\n",
       "      <td>-1.447480</td>\n",
       "      <td>-1.819007</td>\n",
       "      <td>-0.281374</td>\n",
       "      <td>-0.392093</td>\n",
       "      <td>0.392093</td>\n",
       "      <td>-0.310328</td>\n",
       "      <td>-10.876039</td>\n",
       "      <td>mn2739</td>\n",
       "      <td>2021-02-17 01:06:00</td>\n",
       "    </tr>\n",
       "    <tr>\n",
       "      <th>...</th>\n",
       "      <td>...</td>\n",
       "      <td>...</td>\n",
       "      <td>...</td>\n",
       "      <td>...</td>\n",
       "      <td>...</td>\n",
       "      <td>...</td>\n",
       "      <td>...</td>\n",
       "      <td>...</td>\n",
       "      <td>...</td>\n",
       "      <td>...</td>\n",
       "      <td>...</td>\n",
       "      <td>...</td>\n",
       "      <td>...</td>\n",
       "      <td>...</td>\n",
       "      <td>...</td>\n",
       "      <td>...</td>\n",
       "      <td>...</td>\n",
       "      <td>...</td>\n",
       "      <td>...</td>\n",
       "      <td>...</td>\n",
       "      <td>...</td>\n",
       "    </tr>\n",
       "    <tr>\n",
       "      <th>0</th>\n",
       "      <td>mn2739-17022021-0106</td>\n",
       "      <td>mn2739-17022021-0106_130</td>\n",
       "      <td>True</td>\n",
       "      <td>130</td>\n",
       "      <td>1.613587e+09</td>\n",
       "      <td>1.613587e+09</td>\n",
       "      <td>4364.080346</td>\n",
       "      <td>4384.949573</td>\n",
       "      <td>20.869227</td>\n",
       "      <td>dark</td>\n",
       "      <td>...</td>\n",
       "      <td>85.961055</td>\n",
       "      <td>-0.140983</td>\n",
       "      <td>-1.616273</td>\n",
       "      <td>-0.078639</td>\n",
       "      <td>-0.101969</td>\n",
       "      <td>0.101969</td>\n",
       "      <td>12.793084</td>\n",
       "      <td>-2.905288</td>\n",
       "      <td>mn2739</td>\n",
       "      <td>2021-02-17 01:06:00</td>\n",
       "    </tr>\n",
       "    <tr>\n",
       "      <th>0</th>\n",
       "      <td>mn2739-17022021-0106</td>\n",
       "      <td>mn2739-17022021-0106_131</td>\n",
       "      <td>True</td>\n",
       "      <td>131</td>\n",
       "      <td>1.613587e+09</td>\n",
       "      <td>1.613587e+09</td>\n",
       "      <td>4392.950005</td>\n",
       "      <td>4405.352445</td>\n",
       "      <td>12.402440</td>\n",
       "      <td>light</td>\n",
       "      <td>...</td>\n",
       "      <td>25.143454</td>\n",
       "      <td>-1.767768</td>\n",
       "      <td>-1.632844</td>\n",
       "      <td>-0.095211</td>\n",
       "      <td>-0.135680</td>\n",
       "      <td>0.135680</td>\n",
       "      <td>-2.550341</td>\n",
       "      <td>-13.666973</td>\n",
       "      <td>mn2739</td>\n",
       "      <td>2021-02-17 01:06:00</td>\n",
       "    </tr>\n",
       "    <tr>\n",
       "      <th>0</th>\n",
       "      <td>mn2739-17022021-0106</td>\n",
       "      <td>mn2739-17022021-0106_132</td>\n",
       "      <td>True</td>\n",
       "      <td>132</td>\n",
       "      <td>1.613587e+09</td>\n",
       "      <td>1.613587e+09</td>\n",
       "      <td>4413.357062</td>\n",
       "      <td>4431.853203</td>\n",
       "      <td>18.496141</td>\n",
       "      <td>dark</td>\n",
       "      <td>...</td>\n",
       "      <td>46.231921</td>\n",
       "      <td>0.091911</td>\n",
       "      <td>-2.053959</td>\n",
       "      <td>-0.516326</td>\n",
       "      <td>-0.454205</td>\n",
       "      <td>0.454205</td>\n",
       "      <td>-13.623745</td>\n",
       "      <td>1.071908</td>\n",
       "      <td>mn2739</td>\n",
       "      <td>2021-02-17 01:06:00</td>\n",
       "    </tr>\n",
       "    <tr>\n",
       "      <th>0</th>\n",
       "      <td>mn2739-17022021-0106</td>\n",
       "      <td>mn2739-17022021-0106_133</td>\n",
       "      <td>True</td>\n",
       "      <td>133</td>\n",
       "      <td>1.613587e+09</td>\n",
       "      <td>1.613587e+09</td>\n",
       "      <td>4462.112919</td>\n",
       "      <td>4478.177753</td>\n",
       "      <td>16.064834</td>\n",
       "      <td>light</td>\n",
       "      <td>...</td>\n",
       "      <td>36.860090</td>\n",
       "      <td>-3.031672</td>\n",
       "      <td>-1.632080</td>\n",
       "      <td>-0.094447</td>\n",
       "      <td>-0.050744</td>\n",
       "      <td>0.050744</td>\n",
       "      <td>-6.092437</td>\n",
       "      <td>27.088209</td>\n",
       "      <td>mn2739</td>\n",
       "      <td>2021-02-17 01:06:00</td>\n",
       "    </tr>\n",
       "    <tr>\n",
       "      <th>0</th>\n",
       "      <td>mn2739-17022021-0106</td>\n",
       "      <td>mn2739-17022021-0106_134</td>\n",
       "      <td>True</td>\n",
       "      <td>134</td>\n",
       "      <td>1.613587e+09</td>\n",
       "      <td>1.613587e+09</td>\n",
       "      <td>4493.189774</td>\n",
       "      <td>4565.595419</td>\n",
       "      <td>72.405645</td>\n",
       "      <td>dark</td>\n",
       "      <td>...</td>\n",
       "      <td>89.220318</td>\n",
       "      <td>0.900507</td>\n",
       "      <td>-1.780225</td>\n",
       "      <td>-0.242592</td>\n",
       "      <td>-0.238782</td>\n",
       "      <td>0.238782</td>\n",
       "      <td>-15.778297</td>\n",
       "      <td>-24.302856</td>\n",
       "      <td>mn2739</td>\n",
       "      <td>2021-02-17 01:06:00</td>\n",
       "    </tr>\n",
       "  </tbody>\n",
       "</table>\n",
       "<p>134 rows × 26 columns</p>\n",
       "</div>"
      ],
      "text/plain": [
       "             sessionName                      name  valid  trialNo  \\\n",
       "0   mn2739-17022021-0106    mn2739-17022021-0106_1   True        1   \n",
       "0   mn2739-17022021-0106    mn2739-17022021-0106_2   True        2   \n",
       "0   mn2739-17022021-0106    mn2739-17022021-0106_3   True        3   \n",
       "0   mn2739-17022021-0106    mn2739-17022021-0106_4   True        4   \n",
       "0   mn2739-17022021-0106    mn2739-17022021-0106_5   True        5   \n",
       "..                   ...                       ...    ...      ...   \n",
       "0   mn2739-17022021-0106  mn2739-17022021-0106_130   True      130   \n",
       "0   mn2739-17022021-0106  mn2739-17022021-0106_131   True      131   \n",
       "0   mn2739-17022021-0106  mn2739-17022021-0106_132   True      132   \n",
       "0   mn2739-17022021-0106  mn2739-17022021-0106_133   True      133   \n",
       "0   mn2739-17022021-0106  mn2739-17022021-0106_134   True      134   \n",
       "\n",
       "       startTime       endTime  startTimeWS    endTimeWS   duration  light  \\\n",
       "0   1.613583e+09  1.613583e+09     3.229151    51.711319  48.482168  light   \n",
       "0   1.613583e+09  1.613583e+09    59.712318    72.242178  12.529860  light   \n",
       "0   1.613583e+09  1.613583e+09    87.255839   104.201783  16.945944  light   \n",
       "0   1.613583e+09  1.613583e+09   117.211290   168.008762  50.797472  light   \n",
       "0   1.613583e+09  1.613583e+09   193.636715   214.981432  21.344717  light   \n",
       "..           ...           ...          ...          ...        ...    ...   \n",
       "0   1.613587e+09  1.613587e+09  4364.080346  4384.949573  20.869227   dark   \n",
       "0   1.613587e+09  1.613587e+09  4392.950005  4405.352445  12.402440  light   \n",
       "0   1.613587e+09  1.613587e+09  4413.357062  4431.853203  18.496141   dark   \n",
       "0   1.613587e+09  1.613587e+09  4462.112919  4478.177753  16.064834  light   \n",
       "0   1.613587e+09  1.613587e+09  4493.189774  4565.595419  72.405645   dark   \n",
       "\n",
       "    ...  searchMedianMVDeviationToTarget  searchLastTargetToAnimalAngle  \\\n",
       "0   ...                         9.812926                      -1.489434   \n",
       "0   ...                        15.101390                      -1.334181   \n",
       "0   ...                        14.567530                      -1.695343   \n",
       "0   ...                        19.439203                      -1.204017   \n",
       "0   ...                         8.323947                      -1.447480   \n",
       "..  ...                              ...                            ...   \n",
       "0   ...                        85.961055                      -0.140983   \n",
       "0   ...                        25.143454                      -1.767768   \n",
       "0   ...                        46.231921                       0.091911   \n",
       "0   ...                        36.860090                      -3.031672   \n",
       "0   ...                        89.220318                       0.900507   \n",
       "\n",
       "    homingAngleAtPeriphery  homingErrorAtPeriphery  \\\n",
       "0                -1.815495               -0.277862   \n",
       "0                -1.671902               -0.134269   \n",
       "0                -1.681986               -0.144352   \n",
       "0                -1.738930               -0.201297   \n",
       "0                -1.819007               -0.281374   \n",
       "..                     ...                     ...   \n",
       "0                -1.616273               -0.078639   \n",
       "0                -1.632844               -0.095211   \n",
       "0                -2.053959               -0.516326   \n",
       "0                -1.632080               -0.094447   \n",
       "0                -1.780225               -0.242592   \n",
       "\n",
       "    homingErrorAtPeripheryLever  homingErrorAtPeripheryLeverAbsolute  \\\n",
       "0                     -0.276630                             0.276630   \n",
       "0                     -0.126831                             0.126831   \n",
       "0                     -0.154607                             0.154607   \n",
       "0                     -0.194744                             0.194744   \n",
       "0                     -0.392093                             0.392093   \n",
       "..                          ...                                  ...   \n",
       "0                     -0.101969                             0.101969   \n",
       "0                     -0.135680                             0.135680   \n",
       "0                     -0.454205                             0.454205   \n",
       "0                     -0.050744                             0.050744   \n",
       "0                     -0.238782                             0.238782   \n",
       "\n",
       "       leverX     leverY  subject                date  \n",
       "0    1.596429   0.319079   mn2739 2021-02-17 01:06:00  \n",
       "0   -1.502651   1.345834   mn2739 2021-02-17 01:06:00  \n",
       "0   -1.094382  -3.015108   mn2739 2021-02-17 01:06:00  \n",
       "0    0.172423   1.320032   mn2739 2021-02-17 01:06:00  \n",
       "0   -0.310328 -10.876039   mn2739 2021-02-17 01:06:00  \n",
       "..        ...        ...      ...                 ...  \n",
       "0   12.793084  -2.905288   mn2739 2021-02-17 01:06:00  \n",
       "0   -2.550341 -13.666973   mn2739 2021-02-17 01:06:00  \n",
       "0  -13.623745   1.071908   mn2739 2021-02-17 01:06:00  \n",
       "0   -6.092437  27.088209   mn2739 2021-02-17 01:06:00  \n",
       "0  -15.778297 -24.302856   mn2739 2021-02-17 01:06:00  \n",
       "\n",
       "[134 rows x 26 columns]"
      ]
     },
     "execution_count": 14,
     "metadata": {},
     "output_type": "execute_result"
    }
   ],
   "source": [
    "ses.getTrialVariablesDataFrame()"
   ]
  },
  {
   "cell_type": "code",
   "execution_count": 15,
   "id": "c5c9eb0e-f796-4f3d-8614-e678c4d3fe07",
   "metadata": {},
   "outputs": [],
   "source": [
    "ifr, navs, inav = load_ifr_behavior(ses)"
   ]
  },
  {
   "cell_type": "code",
   "execution_count": 16,
   "id": "c70f48cd-6230-447b-b92f-d03b7f9c9639",
   "metadata": {},
   "outputs": [
    {
     "data": {
      "text/plain": [
       "all                                  176\n",
       "searchPath                           128\n",
       "searchToLeverPath                    128\n",
       "homingPath                           128\n",
       "homingFromLeavingLever               128\n",
       "homingFromLeavingLeverToPeriphery    128\n",
       "atLever                              128\n",
       "Name: type, dtype: int64"
      ]
     },
     "execution_count": 16,
     "metadata": {},
     "output_type": "execute_result"
    }
   ],
   "source": [
    "navs.type.value_counts()"
   ]
  },
  {
   "cell_type": "code",
   "execution_count": 17,
   "id": "b66b3bf3-58c1-4991-a65f-c2e9bf5a5bad",
   "metadata": {},
   "outputs": [],
   "source": [
    "def journeyIFRMatrices(ses,sSes,navPathTypes=[\"all\",\"atLever\"],light = \"dark\",maxDistance=12): # I changed 30 to 12. We are now using a new distance from lever (distance from lever box wall instead of distance from lever center)\n",
    "    \"\"\"\n",
    "    Function the get the IFR matrix of each neuron in a session\n",
    "    \n",
    "    \"\"\"\n",
    "    print(ses.name)\n",
    "    \n",
    "    # load raw data from file\n",
    "    ifr, navs, inav = load_ifr_behavior(ses)\n",
    "     \n",
    "\n",
    "    # create a list of NeuronAutopi object\n",
    "    naList=[]\n",
    "    for i, n in enumerate(sSes.cg.neuron_list):\n",
    "        neuronIndex=i\n",
    "        cluId = sSes.name+\"_\"+n.spike_train.name\n",
    "        na = NeuronAutopi(name = cluId, ifr = (ifr[0][neuronIndex,:],ifr[1]),navPathSummary=navs,iNavPath=inav,trialElectro=ses.trialList[0])\n",
    "        naList.append(na)\n",
    "   \n",
    "    for i, na in enumerate(naList):\n",
    "        for pathType in navPathTypes:\n",
    "            na.navPathBehavioralMatrix_targetToAnimalAngle(navPathType=pathType,light=light,nLeverMin = 1,maxTargetDistance=maxDistance,bins=np.linspace(-np.pi,np.pi,20)) \n",
    "            \n",
    "    sesRes={}\n",
    "    for na in naList:\n",
    "        sesRes[na.name] = na.navPathResultsDict\n",
    "    \n",
    "    return sesRes"
   ]
  },
  {
   "cell_type": "code",
   "execution_count": 18,
   "id": "0b13e459-2a12-484e-bd95-42d8f8a4695a",
   "metadata": {},
   "outputs": [],
   "source": [
    "ifr, navs, inav = load_ifr_behavior(ses)"
   ]
  },
  {
   "cell_type": "code",
   "execution_count": 19,
   "id": "dda145f0-b7bb-4a25-8fa3-ba00309b3d4c",
   "metadata": {},
   "outputs": [],
   "source": [
    "neuronIndex=0\n",
    "na = NeuronAutopi(name = \"0\", ifr = (ifr[0][neuronIndex,:],ifr[1]),navPathSummary=navs,iNavPath=inav,trialElectro=ses.trialList[0])"
   ]
  },
  {
   "cell_type": "code",
   "execution_count": 20,
   "id": "279bfd6f-f5db-41ba-9548-3cd61f4e491c",
   "metadata": {},
   "outputs": [
    {
     "data": {
      "text/plain": [
       "((62,), (63,))"
      ]
     },
     "execution_count": 20,
     "metadata": {},
     "output_type": "execute_result"
    }
   ],
   "source": [
    "na.getNavPathNames(\"atLever\",\"dark\",1).shape,na.getNavPathNames(\"all\",\"dark\",1).shape"
   ]
  },
  {
   "cell_type": "code",
   "execution_count": 21,
   "id": "18d8be05-993e-45d2-8bfe-982bdf5bf188",
   "metadata": {},
   "outputs": [
    {
     "data": {
      "text/html": [
       "<div>\n",
       "<style scoped>\n",
       "    .dataframe tbody tr th:only-of-type {\n",
       "        vertical-align: middle;\n",
       "    }\n",
       "\n",
       "    .dataframe tbody tr th {\n",
       "        vertical-align: top;\n",
       "    }\n",
       "\n",
       "    .dataframe thead th {\n",
       "        text-align: right;\n",
       "    }\n",
       "</style>\n",
       "<table border=\"1\" class=\"dataframe\">\n",
       "  <thead>\n",
       "    <tr style=\"text-align: right;\">\n",
       "      <th></th>\n",
       "      <th>name</th>\n",
       "      <th>trial</th>\n",
       "      <th>trialNo</th>\n",
       "      <th>journey</th>\n",
       "      <th>type</th>\n",
       "      <th>light</th>\n",
       "      <th>nLeverPresses</th>\n",
       "      <th>startTimeRos</th>\n",
       "      <th>endTimeRos</th>\n",
       "      <th>startTimeRes</th>\n",
       "      <th>endTimeRes</th>\n",
       "    </tr>\n",
       "  </thead>\n",
       "  <tbody>\n",
       "    <tr>\n",
       "      <th>52</th>\n",
       "      <td>mn2739-17022021-0106_8-1_all</td>\n",
       "      <td>mn2739-17022021-0106_8</td>\n",
       "      <td>8</td>\n",
       "      <td>1</td>\n",
       "      <td>all</td>\n",
       "      <td>dark</td>\n",
       "      <td>1</td>\n",
       "      <td>1.613583e+09</td>\n",
       "      <td>1.613583e+09</td>\n",
       "      <td>3337.50</td>\n",
       "      <td>3349.72</td>\n",
       "    </tr>\n",
       "    <tr>\n",
       "      <th>67</th>\n",
       "      <td>mn2739-17022021-0106_10-1_all</td>\n",
       "      <td>mn2739-17022021-0106_10</td>\n",
       "      <td>10</td>\n",
       "      <td>1</td>\n",
       "      <td>all</td>\n",
       "      <td>dark</td>\n",
       "      <td>1</td>\n",
       "      <td>1.613583e+09</td>\n",
       "      <td>1.613583e+09</td>\n",
       "      <td>3423.26</td>\n",
       "      <td>3434.18</td>\n",
       "    </tr>\n",
       "    <tr>\n",
       "      <th>81</th>\n",
       "      <td>mn2739-17022021-0106_14-0_all</td>\n",
       "      <td>mn2739-17022021-0106_14</td>\n",
       "      <td>14</td>\n",
       "      <td>0</td>\n",
       "      <td>all</td>\n",
       "      <td>dark</td>\n",
       "      <td>1</td>\n",
       "      <td>1.613583e+09</td>\n",
       "      <td>1.613583e+09</td>\n",
       "      <td>3511.48</td>\n",
       "      <td>3522.28</td>\n",
       "    </tr>\n",
       "    <tr>\n",
       "      <th>98</th>\n",
       "      <td>mn2739-17022021-0106_16-3_all</td>\n",
       "      <td>mn2739-17022021-0106_16</td>\n",
       "      <td>16</td>\n",
       "      <td>3</td>\n",
       "      <td>all</td>\n",
       "      <td>dark</td>\n",
       "      <td>1</td>\n",
       "      <td>1.613583e+09</td>\n",
       "      <td>1.613583e+09</td>\n",
       "      <td>3611.20</td>\n",
       "      <td>3623.82</td>\n",
       "    </tr>\n",
       "    <tr>\n",
       "      <th>112</th>\n",
       "      <td>mn2739-17022021-0106_18-0_all</td>\n",
       "      <td>mn2739-17022021-0106_18</td>\n",
       "      <td>18</td>\n",
       "      <td>0</td>\n",
       "      <td>all</td>\n",
       "      <td>dark</td>\n",
       "      <td>1</td>\n",
       "      <td>1.613584e+09</td>\n",
       "      <td>1.613584e+09</td>\n",
       "      <td>3671.96</td>\n",
       "      <td>3680.92</td>\n",
       "    </tr>\n",
       "    <tr>\n",
       "      <th>...</th>\n",
       "      <td>...</td>\n",
       "      <td>...</td>\n",
       "      <td>...</td>\n",
       "      <td>...</td>\n",
       "      <td>...</td>\n",
       "      <td>...</td>\n",
       "      <td>...</td>\n",
       "      <td>...</td>\n",
       "      <td>...</td>\n",
       "      <td>...</td>\n",
       "      <td>...</td>\n",
       "    </tr>\n",
       "    <tr>\n",
       "      <th>880</th>\n",
       "      <td>mn2739-17022021-0106_126-1_all</td>\n",
       "      <td>mn2739-17022021-0106_126</td>\n",
       "      <td>126</td>\n",
       "      <td>1</td>\n",
       "      <td>all</td>\n",
       "      <td>dark</td>\n",
       "      <td>1</td>\n",
       "      <td>1.613587e+09</td>\n",
       "      <td>1.613587e+09</td>\n",
       "      <td>7201.30</td>\n",
       "      <td>7216.16</td>\n",
       "    </tr>\n",
       "    <tr>\n",
       "      <th>895</th>\n",
       "      <td>mn2739-17022021-0106_128-1_all</td>\n",
       "      <td>mn2739-17022021-0106_128</td>\n",
       "      <td>128</td>\n",
       "      <td>1</td>\n",
       "      <td>all</td>\n",
       "      <td>dark</td>\n",
       "      <td>1</td>\n",
       "      <td>1.613587e+09</td>\n",
       "      <td>1.613587e+09</td>\n",
       "      <td>7266.62</td>\n",
       "      <td>7273.10</td>\n",
       "    </tr>\n",
       "    <tr>\n",
       "      <th>909</th>\n",
       "      <td>mn2739-17022021-0106_130-0_all</td>\n",
       "      <td>mn2739-17022021-0106_130</td>\n",
       "      <td>130</td>\n",
       "      <td>0</td>\n",
       "      <td>all</td>\n",
       "      <td>dark</td>\n",
       "      <td>2</td>\n",
       "      <td>1.613587e+09</td>\n",
       "      <td>1.613587e+09</td>\n",
       "      <td>7329.12</td>\n",
       "      <td>7344.94</td>\n",
       "    </tr>\n",
       "    <tr>\n",
       "      <th>923</th>\n",
       "      <td>mn2739-17022021-0106_132-0_all</td>\n",
       "      <td>mn2739-17022021-0106_132</td>\n",
       "      <td>132</td>\n",
       "      <td>0</td>\n",
       "      <td>all</td>\n",
       "      <td>dark</td>\n",
       "      <td>3</td>\n",
       "      <td>1.613587e+09</td>\n",
       "      <td>1.613587e+09</td>\n",
       "      <td>7381.32</td>\n",
       "      <td>7392.10</td>\n",
       "    </tr>\n",
       "    <tr>\n",
       "      <th>937</th>\n",
       "      <td>mn2739-17022021-0106_134-0_all</td>\n",
       "      <td>mn2739-17022021-0106_134</td>\n",
       "      <td>134</td>\n",
       "      <td>0</td>\n",
       "      <td>all</td>\n",
       "      <td>dark</td>\n",
       "      <td>1</td>\n",
       "      <td>1.613587e+09</td>\n",
       "      <td>1.613587e+09</td>\n",
       "      <td>7458.24</td>\n",
       "      <td>7525.82</td>\n",
       "    </tr>\n",
       "  </tbody>\n",
       "</table>\n",
       "<p>63 rows × 11 columns</p>\n",
       "</div>"
      ],
      "text/plain": [
       "                               name                     trial  trialNo  \\\n",
       "52     mn2739-17022021-0106_8-1_all    mn2739-17022021-0106_8        8   \n",
       "67    mn2739-17022021-0106_10-1_all   mn2739-17022021-0106_10       10   \n",
       "81    mn2739-17022021-0106_14-0_all   mn2739-17022021-0106_14       14   \n",
       "98    mn2739-17022021-0106_16-3_all   mn2739-17022021-0106_16       16   \n",
       "112   mn2739-17022021-0106_18-0_all   mn2739-17022021-0106_18       18   \n",
       "..                              ...                       ...      ...   \n",
       "880  mn2739-17022021-0106_126-1_all  mn2739-17022021-0106_126      126   \n",
       "895  mn2739-17022021-0106_128-1_all  mn2739-17022021-0106_128      128   \n",
       "909  mn2739-17022021-0106_130-0_all  mn2739-17022021-0106_130      130   \n",
       "923  mn2739-17022021-0106_132-0_all  mn2739-17022021-0106_132      132   \n",
       "937  mn2739-17022021-0106_134-0_all  mn2739-17022021-0106_134      134   \n",
       "\n",
       "     journey type light  nLeverPresses  startTimeRos    endTimeRos  \\\n",
       "52         1  all  dark              1  1.613583e+09  1.613583e+09   \n",
       "67         1  all  dark              1  1.613583e+09  1.613583e+09   \n",
       "81         0  all  dark              1  1.613583e+09  1.613583e+09   \n",
       "98         3  all  dark              1  1.613583e+09  1.613583e+09   \n",
       "112        0  all  dark              1  1.613584e+09  1.613584e+09   \n",
       "..       ...  ...   ...            ...           ...           ...   \n",
       "880        1  all  dark              1  1.613587e+09  1.613587e+09   \n",
       "895        1  all  dark              1  1.613587e+09  1.613587e+09   \n",
       "909        0  all  dark              2  1.613587e+09  1.613587e+09   \n",
       "923        0  all  dark              3  1.613587e+09  1.613587e+09   \n",
       "937        0  all  dark              1  1.613587e+09  1.613587e+09   \n",
       "\n",
       "     startTimeRes  endTimeRes  \n",
       "52        3337.50     3349.72  \n",
       "67        3423.26     3434.18  \n",
       "81        3511.48     3522.28  \n",
       "98        3611.20     3623.82  \n",
       "112       3671.96     3680.92  \n",
       "..            ...         ...  \n",
       "880       7201.30     7216.16  \n",
       "895       7266.62     7273.10  \n",
       "909       7329.12     7344.94  \n",
       "923       7381.32     7392.10  \n",
       "937       7458.24     7525.82  \n",
       "\n",
       "[63 rows x 11 columns]"
      ]
     },
     "execution_count": 21,
     "metadata": {},
     "output_type": "execute_result"
    }
   ],
   "source": [
    "myType=\"all\"\n",
    "navs[(navs.type==myType)&(navs.light==\"dark\")&(navs.nLeverPresses>0)]"
   ]
  },
  {
   "cell_type": "code",
   "execution_count": 22,
   "id": "37718de5-d701-4eb4-8b3b-6316e504b615",
   "metadata": {},
   "outputs": [
    {
     "name": "stdout",
     "output_type": "stream",
     "text": [
      "mn2739-17022021-0106\n",
      "CPU times: user 25.9 s, sys: 5.56 ms, total: 25.9 s\n",
      "Wall time: 25.9 s\n"
     ]
    }
   ],
   "source": [
    "%%time\n",
    "res = journeyIFRMatrices(ses,sSes)"
   ]
  },
  {
   "cell_type": "code",
   "execution_count": 23,
   "id": "491a1870-2b6a-47eb-ac0a-c96f74545867",
   "metadata": {},
   "outputs": [
    {
     "name": "stdout",
     "output_type": "stream",
     "text": [
      "(63, 19)\n",
      "[-3.14159265 -2.81089869 -2.48020473 -2.14951076 -1.8188168  -1.48812284\n",
      " -1.15742887 -0.82673491 -0.49604095 -0.16534698  0.16534698  0.49604095\n",
      "  0.82673491  1.15742887  1.48812284  1.8188168   2.14951076  2.48020473\n",
      "  2.81089869  3.14159265]\n",
      "(62, 19)\n",
      "[-3.14159265 -2.81089869 -2.48020473 -2.14951076 -1.8188168  -1.48812284\n",
      " -1.15742887 -0.82673491 -0.49604095 -0.16534698  0.16534698  0.49604095\n",
      "  0.82673491  1.15742887  1.48812284  1.8188168   2.14951076  2.48020473\n",
      "  2.81089869  3.14159265]\n"
     ]
    }
   ],
   "source": [
    "for k in res['mn2739-17022021-0106_0']['matrix'].keys():\n",
    "    print(res['mn2739-17022021-0106_0']['matrix'][k][\"matrix\"].shape)\n",
    "    print(res['mn2739-17022021-0106_0']['matrix'][k][\"bins\"])"
   ]
  },
  {
   "cell_type": "code",
   "execution_count": 24,
   "id": "c0ad5086-6a2c-4431-bed1-fe2d34e20190",
   "metadata": {},
   "outputs": [
    {
     "name": "stdout",
     "output_type": "stream",
     "text": [
      "mn5824-20112020-0107\n",
      "mn5824-22112020-0107\n",
      "mn5824-24112020-0107\n",
      "mn5824-02122020-0106\n",
      "mn711-28012021-0106\n",
      "mn711-30012021-0106\n",
      "mn711-31012021-0107\n",
      "mn711-01022021-0107\n",
      "mn711-02022021-0108\n",
      "mn711-03022021-0107\n",
      "mn711-04022021-0107\n",
      "mn2739-11022021-0107\n",
      "mn2739-15022021-0105\n",
      "mn2739-16022021-0106\n",
      "mn2739-17022021-0106\n",
      "mn2739-21022021-0106\n",
      "mn3246-09042021-0106\n",
      "mn3246-10042021-0106\n",
      "mn3246-12042021-0106\n",
      "mn3246-14042021-0106\n",
      "mn1173-02052021-0107\n",
      "mn1173-06052021-0107\n",
      "mn1173-08052021-0107\n",
      "mn1173-09052021-0108\n",
      "mn1173-11052021-0108\n",
      "TYY9524-16082021-0106\n",
      "TYY9524-18082021-0106\n",
      "mn5618-07072021-0107\n",
      "mn5618-12072021-0110\n",
      "TYY5622-07092021-0106\n",
      "TYY5622-17092021-0106\n",
      "TYY5622-19092021-0106\n",
      "TYY5622-20092021-0106\n",
      "mn9686-20102021-0106\n",
      "mn9686-26102021-0106\n",
      "mn9686-27102021-0106\n",
      "mn9686-28102021-0107\n",
      "mn9686-29102021-0106\n",
      "mn9686-01112021-0106\n",
      "CPU times: user 26min 55s, sys: 4.41 s, total: 26min 59s\n",
      "Wall time: 27min 27s\n"
     ]
    }
   ],
   "source": [
    "%%time\n",
    "res = [ journeyIFRMatrices(ses,sSes) for ses,sSes in zip(myProjectWithTrials.sessionList[:],sSesList[:])]"
   ]
  },
  {
   "cell_type": "code",
   "execution_count": null,
   "id": "c45b5130-4e2a-41d3-8d6e-f16d2b510961",
   "metadata": {},
   "outputs": [],
   "source": []
  },
  {
   "cell_type": "code",
   "execution_count": 25,
   "id": "4602fe33-25be-4109-a05c-0a009769a323",
   "metadata": {},
   "outputs": [
    {
     "name": "stdout",
     "output_type": "stream",
     "text": [
      "Number of neurons: 1268\n"
     ]
    }
   ],
   "source": [
    "newRes={}\n",
    "for d in res:\n",
    "    newRes.update(d)\n",
    "print(\"Number of neurons: {}\".format(len(newRes)))"
   ]
  },
  {
   "cell_type": "code",
   "execution_count": 26,
   "id": "9619c16a-79aa-483c-bf12-41be71756a09",
   "metadata": {},
   "outputs": [
    {
     "name": "stdout",
     "output_type": "stream",
     "text": [
      "saving: /adata/projects/autopi_ca1/results/aroundLeverIFRDict.pickle\n"
     ]
    }
   ],
   "source": [
    "fn=myProjectWithTrials.dataPath+\"/results/aroundLeverIFRDict.pickle\"\n",
    "print(\"saving:\",fn)\n",
    "with open(fn, 'wb') as handle:\n",
    "    pickle.dump(newRes, handle)"
   ]
  },
  {
   "cell_type": "code",
   "execution_count": 27,
   "id": "9a80e7e2-37ec-4a16-88a2-a5c6b3c89ef7",
   "metadata": {},
   "outputs": [
    {
     "name": "stdout",
     "output_type": "stream",
     "text": [
      "loading: /adata/projects/autopi_ca1/results/aroundLeverIFRDict.pickle\n"
     ]
    },
    {
     "data": {
      "text/plain": [
       "1268"
      ]
     },
     "execution_count": 27,
     "metadata": {},
     "output_type": "execute_result"
    }
   ],
   "source": [
    "fn=myProjectWithTrials.dataPath+\"/results/aroundLeverIFRDict.pickle\"\n",
    "print(\"loading:\",fn)\n",
    "with open(fn, 'rb') as handle:\n",
    "    res1 = pickle.load(handle)\n",
    "len(res1.keys())"
   ]
  },
  {
   "cell_type": "markdown",
   "id": "4c9fcec1-de88-47ca-9bf9-66f7b4104421",
   "metadata": {
    "tags": []
   },
   "source": [
    "## Lever maps for accurate and innacurate trials\n",
    "\n",
    "Having intervals for trials with accurate and inaccurate trials, we can then create maps around the lever for both types of trials.\n",
    "\n",
    "The code below was largely taken from `lever_centered_maps.ipynb`. Ideally we would not have 2 copies of the same functions."
   ]
  },
  {
   "cell_type": "code",
   "execution_count": 34,
   "id": "d191438d-7979-466e-a880-7d1a8e06b3ab",
   "metadata": {},
   "outputs": [],
   "source": [
    "def distanceToLeverBox(ses,sSes,maxDistance=12): # we use 12 as it is where the increase in the occupancy data falls \n",
    "    \"\"\"\n",
    "    Get the distance fo the animal from the lever box, set value above maxDistance to np.nan\n",
    "    \n",
    "    Get the walls of the lever box to get distance\n",
    "    \"\"\"\n",
    "\n",
    "    fn = sSes.path+\"/leverBoxDistance.npy\"\n",
    "    \n",
    "    if os.path.exists(fn):\n",
    "        #print(fn,\"exists\")\n",
    "        D = np.load(fn)\n",
    "    else:\n",
    "        print(fn,\"does not exist, generating data\")\n",
    "        res = ses.getDistanceFromLever()\n",
    "        dDf = pd.DataFrame({\"resTime\":sSes.ap.pose[:,0]})\n",
    "        d1Df = pd.DataFrame({\"resTime\":res[:,0],\n",
    "                       \"distance\":res[:,1]})\n",
    "        df = pd.merge(dDf,d1Df,on=\"resTime\",how=\"left\")\n",
    "        D =  df.distance.to_numpy()\n",
    "        print(\"saving\",fn)\n",
    "        np.save(fn,D)\n",
    "    \n",
    "    D[D>maxDistance] = np.nan\n",
    "    return D\n",
    "\n",
    "def vectorAngle(v,rv=np.array([[1,0]]),degrees=False,quadrant=False) :\n",
    "        \"\"\"\n",
    "    \n",
    "        Calculate the angles between an array of vectors relative to a reference vector\n",
    "        Argument:\n",
    "            v: Array of vectors, one vector per row\n",
    "            rv: Reference vector\n",
    "            degrees: Boolean indicating whether to return the value as radians (False) or degrees (True)\n",
    "            quadrant: Adjust the angle for 3 and 4 quadrants, assume rv is (1,0) and the dimension of v is 2.\n",
    "        Return:\n",
    "            Array of angles, between -pi/2 and p/2\n",
    "        \"\"\"\n",
    "        # length of vector\n",
    "        if v.shape[1]!=rv.shape[1]:\n",
    "            print(\"v and rv should have the same number of column\")\n",
    "            return\n",
    "        vLen = np.sqrt(np.sum(v*v,axis=1))\n",
    "        vLen[vLen==0] = np.NAN\n",
    "        rvLen = np.sqrt(np.sum(rv*rv,axis=1))\n",
    "\n",
    "        # get unitary vectors\n",
    "        uv = v/vLen[:,None]\n",
    "        urv = rv/rvLen[:,None]\n",
    "\n",
    "        # get the angle, dot product, then acos\n",
    "        theta = np.arccos(np.clip(np.sum(uv*urv,axis=1),  -1.0, 1.0))\n",
    "\n",
    "        if quadrant:\n",
    "            # deal with the 3 and 4 quadrant\n",
    "            theta[v[:,-1] < 0] = 2*np.pi - theta[v[:,-1]<0] \n",
    "\n",
    "        if degrees :\n",
    "            theta = theta * 360 / (2*np.pi)\n",
    "        \n",
    "        return theta\n",
    "    \n",
    "\n",
    "def getLeverMaps(ses,sSes,interName=\"light\",sizeMap=30,maxDistanceFromLeverBox=12, rotationType=\"none\",\n",
    "                 invalidateSmallBridgeAngle=False,invalidateMaxAngle=np.pi/12,\n",
    "                 rateType=\"map\",stats=False):\n",
    "    \"\"\"\n",
    "    Get all the lever-centered firing rate maps or firing rate polar plots around the lever. The data can be plotted in different reference coordinate system.\n",
    "    The lever position is set to 0,0.\n",
    "    The orientation is either unchanged (\"none\") or relative to the vector going from the lever to the bridge (\"bridge\") or relative to the lever orientation (\"lever\")\n",
    "    \n",
    "    It can create normal 2D maps or a firing rate histogram with the firing rate as a function of the direction of a vector with its origin at the lever and poinint towards the animal.\n",
    "    \n",
    "    Arguments\n",
    "    ses: autopipy session\n",
    "    sSes: spikeA session\n",
    "    interName: name of intervals to use (from ses.intervalDict)\n",
    "    maxDistance: max distance from lever\n",
    "    rotationType: can be \"none\",\"bridge\",\"lever\", once centered on the lever,\n",
    "                    we can rotate the position to have different reference frame (cartesian (none), relative to bridge direction, relative to lever orientation)\n",
    "    invalidateSmallBridgeAngle: whether to invalidate lever position when the bridge angle is small (for which cartesian and brdige reference frames are the same)\n",
    "                                This is done to eliminate data when the none and brdige rotations are the same\n",
    "                                This can be used to better contrast the prediction of \"bridge\" and \"none\" rotation\n",
    "    invalidateMaxAngle: angle below which we invalidate\n",
    "    rateType: (map) firing rate maps or (angular) angular rate histogram\n",
    "    stats: whether to return the statistics instead of the map.\n",
    "    \n",
    "    \"\"\"\n",
    "   \n",
    "    # change the x and y position of the mouse so that it is relative to the lever position\n",
    "    #print(ses.name)\n",
    "    \n",
    "    sSes.ap.load_pose_from_file() # get original hd data, which file depends on what we used when calling prepareSessionsForSpatialAnalysis\n",
    "    \n",
    "    # we need to calculate the distance from the lever box and eliminate when the animal is further away than about 12 cm \n",
    "    D = distanceToLeverBox(ses,sSes,maxDistance=maxDistanceFromLeverBox) # what is further away is np.nan in D\n",
    "    sSes.ap.pose[np.isnan(D),1:3] = np.nan \n",
    "      \n",
    "    \n",
    "    # transform the coordinate system of the position data, in setup_project.py\n",
    "    # x and y are relative to lever center (0,0), hd is the direction of the position vector (x,y) relative to 1,0\n",
    "    # the values are changed in sSes.ap.pose_ori[:,1:3]\n",
    "    toLeverReferenceFrame(ses=ses,sSes=sSes,maxDistance=sizeMap, rotationType=rotationType, # maxDistance not important here because we already filtered. Should be the size of the map\n",
    "                         invalidateSmallBridgeAngle=invalidateSmallBridgeAngle,invalidateMaxAngle=invalidateMaxAngle) \n",
    "\n",
    "    sSes.ap.set_intervals(ses.intervalDict[interName])\n",
    "\n",
    "    if rateType==\"map\": # normal 2D maps\n",
    "        for n in sSes.cg.neuron_list:\n",
    "            n.spike_train.set_intervals(ses.intervalDict[interName])\n",
    "            n.spatial_properties.firing_rate_map_2d(cm_per_bin =1, smoothing_sigma_cm = 2, smoothing=True,xy_range = np.array([[-sizeMap,-sizeMap],[sizeMap,sizeMap]]) )\n",
    "        mapList = [ n.spatial_properties.firing_rate_map for n in sSes.cg.neuron_list ]\n",
    "        mapStack = np.stack(mapList, axis=0)\n",
    "    elif rateType==\"angular\" :# angular 1D maps\n",
    "        for n in sSes.cg.neuron_list:\n",
    "            n.spike_train.set_intervals(ses.intervalDict[interName])\n",
    "            n.spatial_properties.firing_rate_head_direction_histogram(deg_per_bin=10, smoothing_sigma_deg=10, smoothing=True)\n",
    "        if stats == False:\n",
    "            mapList = [ n.spatial_properties.firing_rate_head_direction_histo for n in sSes.cg.neuron_list ]\n",
    "            mapStack = np.stack(mapList, axis=0)\n",
    "        else:\n",
    "            mapList = [ np.array(n.spatial_properties.head_direction_score()) for n in sSes.cg.neuron_list ]\n",
    "            mapStack = np.stack(mapList, axis=0)\n",
    "    else:\n",
    "        print(\"rateType not supported\")\n",
    "    \n",
    "    sSes.ap.load_pose_from_file() # get original position data\n",
    "    \n",
    "    return mapStack "
   ]
  },
  {
   "cell_type": "code",
   "execution_count": 35,
   "id": "ee37ca20-1efe-40bd-961d-d9d974910369",
   "metadata": {},
   "outputs": [
    {
     "data": {
      "text/plain": [
       "dict_keys(['circ80', 'circ80_1', 'circ80_2', 'task', 'task_1', 'task_2', 'light', 'light_1', 'light_2', 'dark', 'dark_1', 'dark_2', 'searchPath_light', 'searchPath_light_1', 'searchPath_light_2', 'searchPath_dark', 'searchPath_dark_1', 'searchPath_dark_2', 'searchToLeverPath_light', 'searchToLeverPath_light_1', 'searchToLeverPath_light_2', 'searchToLeverPath_dark', 'searchToLeverPath_dark_1', 'searchToLeverPath_dark_2', 'homingPath_light', 'homingPath_light_1', 'homingPath_light_2', 'homingPath_dark', 'homingPath_dark_1', 'homingPath_dark_2', 'homingFromLeavingLever_light', 'homingFromLeavingLever_light_1', 'homingFromLeavingLever_light_2', 'homingFromLeavingLever_dark', 'homingFromLeavingLever_dark_1', 'homingFromLeavingLever_dark_2', 'homingFromLeavingLeverToPeriphery_light', 'homingFromLeavingLeverToPeriphery_light_1', 'homingFromLeavingLeverToPeriphery_light_2', 'homingFromLeavingLeverToPeriphery_dark', 'homingFromLeavingLeverToPeriphery_dark_1', 'homingFromLeavingLeverToPeriphery_dark_2', 'atLever_light', 'atLever_light_1', 'atLever_light_2', 'atLever_dark', 'atLever_dark_1', 'atLever_dark_2', 'all_light', 'all_light_1', 'all_light_2', 'all_dark', 'all_dark_1', 'all_dark_2', 'all_light_noPress', 'all_dark_noPress', 'all_task', 'all_task_1', 'all_task_2', 'dark_accurateHoming', 'dark_inaccurateHoming', 'dark_shortSearch', 'dark_longSearch'])"
      ]
     },
     "execution_count": 35,
     "metadata": {},
     "output_type": "execute_result"
    }
   ],
   "source": [
    "rateType=\"map\"\n",
    "rotType=\"none\"\n",
    "sSes = sSesList[-1]\n",
    "ses = myProjectWithTrials.sessionList[-1]\n",
    "ses.intervalDict.keys()"
   ]
  },
  {
   "cell_type": "code",
   "execution_count": 36,
   "id": "3e05bdb3-e55f-489f-96f7-5c600a37217a",
   "metadata": {},
   "outputs": [],
   "source": [
    "res = {}\n",
    "stats = {}\n",
    "for intName in ['dark_accurateHoming', 'dark_inaccurateHoming']:\n",
    "    res = getLeverMaps(ses,sSes,interName=\"all_light\",\n",
    "                  rotationType = rotType, invalidateSmallBridgeAngle=False, rateType=rateType,stats=False)\n",
    "    stats = getLeverMaps(ses,sSes,interName=\"all_light\",\n",
    "                  rotationType = rotType, invalidateSmallBridgeAngle=False, rateType=rateType,stats=True)"
   ]
  },
  {
   "cell_type": "code",
   "execution_count": 37,
   "id": "122c9149-53af-4775-a699-efb63f43014b",
   "metadata": {},
   "outputs": [
    {
     "data": {
      "text/plain": [
       "(62, 60, 60)"
      ]
     },
     "execution_count": 37,
     "metadata": {},
     "output_type": "execute_result"
    }
   ],
   "source": [
    "res.shape"
   ]
  },
  {
   "cell_type": "code",
   "execution_count": 38,
   "id": "af4ee290-905f-4d1b-b746-581423f0fe12",
   "metadata": {},
   "outputs": [
    {
     "data": {
      "text/plain": [
       "<matplotlib.image.AxesImage at 0x7f7cfa052ac0>"
      ]
     },
     "execution_count": 38,
     "metadata": {},
     "output_type": "execute_result"
    },
    {
     "data": {
      "image/png": "[encoded data removed]",
      "text/plain": [
       "<Figure size 432x288 with 1 Axes>"
      ]
     },
     "metadata": {
      "needs_background": "light"
     },
     "output_type": "display_data"
    }
   ],
   "source": [
    "plt.imshow(res[5])"
   ]
  },
  {
   "cell_type": "code",
   "execution_count": 18,
   "id": "ac31da78-a4f6-4c7c-8583-700901d67c7d",
   "metadata": {},
   "outputs": [],
   "source": [
    "conditions = ['dark_accurateHoming', 'dark_inaccurateHoming',\"dark\",\"dark_1\",]\n",
    "keys = conditions"
   ]
  },
  {
   "cell_type": "code",
   "execution_count": 19,
   "id": "4faf5610-3d98-43d1-ac24-dc109a2eec02",
   "metadata": {},
   "outputs": [
    {
     "name": "stdout",
     "output_type": "stream",
     "text": [
      "map dark_accurateHoming none\n"
     ]
    },
    {
     "name": "stderr",
     "output_type": "stream",
     "text": [
      "39it [01:01,  1.57s/it]\n"
     ]
    },
    {
     "name": "stdout",
     "output_type": "stream",
     "text": [
      "map dark_inaccurateHoming none\n"
     ]
    },
    {
     "name": "stderr",
     "output_type": "stream",
     "text": [
      "39it [00:57,  1.48s/it]\n"
     ]
    },
    {
     "name": "stdout",
     "output_type": "stream",
     "text": [
      "map dark none\n"
     ]
    },
    {
     "name": "stderr",
     "output_type": "stream",
     "text": [
      "39it [01:27,  2.24s/it]\n"
     ]
    },
    {
     "name": "stdout",
     "output_type": "stream",
     "text": [
      "map dark_1 none\n"
     ]
    },
    {
     "name": "stderr",
     "output_type": "stream",
     "text": [
      "39it [00:59,  1.54s/it]\n"
     ]
    },
    {
     "name": "stdout",
     "output_type": "stream",
     "text": [
      "angular dark_accurateHoming none\n"
     ]
    },
    {
     "name": "stderr",
     "output_type": "stream",
     "text": [
      "39it [00:56,  1.44s/it]\n"
     ]
    },
    {
     "name": "stdout",
     "output_type": "stream",
     "text": [
      "angular dark_inaccurateHoming none\n"
     ]
    },
    {
     "name": "stderr",
     "output_type": "stream",
     "text": [
      "39it [01:09,  1.78s/it]\n"
     ]
    },
    {
     "name": "stdout",
     "output_type": "stream",
     "text": [
      "angular dark none\n"
     ]
    },
    {
     "name": "stderr",
     "output_type": "stream",
     "text": [
      "39it [01:39,  2.54s/it]\n"
     ]
    },
    {
     "name": "stdout",
     "output_type": "stream",
     "text": [
      "angular dark_1 none\n"
     ]
    },
    {
     "name": "stderr",
     "output_type": "stream",
     "text": [
      "39it [01:10,  1.81s/it]"
     ]
    },
    {
     "name": "stdout",
     "output_type": "stream",
     "text": [
      "CPU times: user 8min 27s, sys: 25.5 s, total: 8min 53s\n",
      "Wall time: 9min 21s\n"
     ]
    },
    {
     "name": "stderr",
     "output_type": "stream",
     "text": [
      "\n"
     ]
    }
   ],
   "source": [
    "%%time\n",
    "myLeverMaps = {}\n",
    "for rateType in [\"map\",\"angular\"]:\n",
    "    myLeverMaps[rateType]={}\n",
    "    for key,cond in zip(keys,conditions):\n",
    "        myLeverMaps[rateType][key] = {}\n",
    "        for rotType in [\"none\"]:\n",
    "            print(rateType,key,rotType)\n",
    "            myLeverMaps[rateType][key][rotType] = np.concatenate([getLeverMaps(ses,sSes,cond,\n",
    "                                                                     rotationType = rotType, \n",
    "                                                                     invalidateSmallBridgeAngle=False, rateType=rateType,\n",
    "                                                                     stats=False) for ses,sSes in tqdm(zip(myProjectWithTrials.sessionList,sSesList))]) "
   ]
  },
  {
   "cell_type": "code",
   "execution_count": 20,
   "id": "9f2447ae-e796-4a19-9fd0-f436235b9c86",
   "metadata": {},
   "outputs": [
    {
     "name": "stdout",
     "output_type": "stream",
     "text": [
      "saving: /adata/projects/autopi_ca1/results/myLeverMapsAccurate.pickle\n"
     ]
    }
   ],
   "source": [
    "fn=myProjectWithTrials.dataPath+\"/results/myLeverMapsAccurate.pickle\"\n",
    "print(\"saving:\",fn)\n",
    "with open(fn, 'wb') as handle:\n",
    "    pickle.dump(myLeverMaps, handle)"
   ]
  },
  {
   "cell_type": "markdown",
   "id": "2760199d-fc33-4d4e-9cf3-1ad1f8887c01",
   "metadata": {},
   "source": [
    "Stats for polar data"
   ]
  },
  {
   "cell_type": "code",
   "execution_count": 21,
   "id": "c3e6d0ae-2ab6-410e-88a0-bf22652a197f",
   "metadata": {},
   "outputs": [
    {
     "name": "stdout",
     "output_type": "stream",
     "text": [
      "angular dark_accurateHoming none\n"
     ]
    },
    {
     "name": "stderr",
     "output_type": "stream",
     "text": [
      "39it [01:05,  1.68s/it]\n"
     ]
    },
    {
     "name": "stdout",
     "output_type": "stream",
     "text": [
      "angular dark_inaccurateHoming none\n"
     ]
    },
    {
     "name": "stderr",
     "output_type": "stream",
     "text": [
      "39it [00:59,  1.54s/it]\n"
     ]
    },
    {
     "name": "stdout",
     "output_type": "stream",
     "text": [
      "angular dark none\n"
     ]
    },
    {
     "name": "stderr",
     "output_type": "stream",
     "text": [
      "39it [01:30,  2.32s/it]\n"
     ]
    },
    {
     "name": "stdout",
     "output_type": "stream",
     "text": [
      "angular dark_1 none\n"
     ]
    },
    {
     "name": "stderr",
     "output_type": "stream",
     "text": [
      "39it [01:01,  1.58s/it]"
     ]
    },
    {
     "name": "stdout",
     "output_type": "stream",
     "text": [
      "CPU times: user 4min 11s, sys: 12.4 s, total: 4min 23s\n",
      "Wall time: 4min 37s\n"
     ]
    },
    {
     "name": "stderr",
     "output_type": "stream",
     "text": [
      "\n"
     ]
    }
   ],
   "source": [
    "%%time\n",
    "myLeverMapsStats = {}\n",
    "for rateType in [\"angular\"]:\n",
    "    myLeverMapsStats[rateType]={}\n",
    "    for key,cond in zip(keys,conditions):\n",
    "        myLeverMapsStats[rateType][key] = {}\n",
    "        for rotType in [\"none\"]:\n",
    "            print(rateType,key,rotType)\n",
    "            myLeverMapsStats[rateType][key][rotType] = np.concatenate([getLeverMaps(ses,sSes,cond,\n",
    "                                                                            rotationType = rotType, \n",
    "                                                                            invalidateSmallBridgeAngle=False, rateType=rateType,\n",
    "                                                                             stats=True) for ses,sSes in tqdm(zip(myProjectWithTrials.sessionList,sSesList))])"
   ]
  },
  {
   "cell_type": "code",
   "execution_count": 22,
   "id": "966328b7-3ec1-4ed1-b64a-00d4e44443be",
   "metadata": {},
   "outputs": [
    {
     "name": "stdout",
     "output_type": "stream",
     "text": [
      "saving: /adata/projects/autopi_ca1/results/myLeverMapsStatsAccurate.pickle\n"
     ]
    }
   ],
   "source": [
    "fn=myProjectWithTrials.dataPath+\"/results/myLeverMapsStatsAccurate.pickle\"\n",
    "print(\"saving:\",fn)\n",
    "with open(fn, 'wb') as handle:\n",
    "    pickle.dump(myLeverMapsStats, handle)"
   ]
  },
  {
   "cell_type": "code",
   "execution_count": 43,
   "id": "80fe9c45-f429-45ff-8b02-cf5bd4620d05",
   "metadata": {},
   "outputs": [
    {
     "data": {
      "text/plain": [
       "(1268, 5)"
      ]
     },
     "execution_count": 43,
     "metadata": {},
     "output_type": "execute_result"
    }
   ],
   "source": [
    "myLeverMapsStats[\"angular\"][\"dark_accurateHoming\"][\"none\"].shape"
   ]
  },
  {
   "cell_type": "markdown",
   "id": "71ac0371-b2e7-4e22-b325-33b2c762b9f7",
   "metadata": {},
   "source": [
    "## Create 2D lever-box-centered maps for short and long search length"
   ]
  },
  {
   "cell_type": "code",
   "execution_count": 42,
   "id": "55c78d39-3e40-4467-ac10-b5e5ebad3c1d",
   "metadata": {},
   "outputs": [],
   "source": [
    "conditions = ['dark_shortSearch', 'dark_longSearch']\n",
    "keys = conditions"
   ]
  },
  {
   "cell_type": "code",
   "execution_count": 43,
   "id": "27401d47-9041-401e-a238-50523255438f",
   "metadata": {},
   "outputs": [
    {
     "name": "stdout",
     "output_type": "stream",
     "text": [
      "map dark_shortSearch none\n"
     ]
    },
    {
     "name": "stderr",
     "output_type": "stream",
     "text": [
      "\n",
      "0it [00:00, ?it/s]\u001b[A\n",
      "1it [00:01,  1.24s/it]\u001b[A\n",
      "2it [00:02,  1.25s/it]\u001b[A\n",
      "3it [00:03,  1.24s/it]\u001b[A\n",
      "4it [00:05,  1.26s/it]\u001b[A\n",
      "5it [00:05,  1.16s/it]\u001b[A\n",
      "6it [00:07,  1.12s/it]\u001b[A\n",
      "7it [00:08,  1.22s/it]\u001b[A\n",
      "8it [00:09,  1.29s/it]\u001b[A\n",
      "9it [00:11,  1.41s/it]\u001b[A\n",
      "10it [00:12,  1.41s/it]\u001b[A\n",
      "11it [00:14,  1.45s/it]\u001b[A\n",
      "12it [00:15,  1.37s/it]\u001b[A\n",
      "13it [00:16,  1.20s/it]\u001b[A\n",
      "14it [00:17,  1.20s/it]\u001b[A\n",
      "15it [00:18,  1.20s/it]\u001b[A\n",
      "16it [00:20,  1.21s/it]\u001b[A\n",
      "17it [00:21,  1.26s/it]\u001b[A\n",
      "18it [00:23,  1.33s/it]\u001b[A\n",
      "19it [00:24,  1.27s/it]\u001b[A\n",
      "20it [00:25,  1.23s/it]\u001b[A\n",
      "21it [00:27,  1.41s/it]\u001b[A\n",
      "22it [00:28,  1.55s/it]\u001b[A\n",
      "23it [00:30,  1.59s/it]\u001b[A\n",
      "24it [00:32,  1.63s/it]\u001b[A\n",
      "25it [00:33,  1.53s/it]\u001b[A\n",
      "26it [00:34,  1.42s/it]\u001b[A\n",
      "27it [00:36,  1.39s/it]\u001b[A\n",
      "28it [00:37,  1.35s/it]\u001b[A\n",
      "29it [00:39,  1.59s/it]\u001b[A\n",
      "30it [00:41,  1.57s/it]\u001b[A\n",
      "31it [00:42,  1.50s/it]\u001b[A\n",
      "32it [00:43,  1.46s/it]\u001b[A\n",
      "33it [00:45,  1.43s/it]\u001b[A\n",
      "34it [00:46,  1.45s/it]\u001b[A\n",
      "35it [00:48,  1.42s/it]\u001b[A\n",
      "36it [00:49,  1.50s/it]\u001b[A\n",
      "37it [00:51,  1.60s/it]\u001b[A\n",
      "38it [00:53,  1.60s/it]\u001b[A\n",
      "39it [00:54,  1.41s/it]\u001b[A\n"
     ]
    },
    {
     "name": "stdout",
     "output_type": "stream",
     "text": [
      "map dark_longSearch none\n"
     ]
    },
    {
     "name": "stderr",
     "output_type": "stream",
     "text": [
      "\n",
      "0it [00:00, ?it/s]\u001b[A\n",
      "1it [00:01,  1.25s/it]\u001b[A\n",
      "2it [00:02,  1.26s/it]\u001b[A\n",
      "3it [00:03,  1.25s/it]\u001b[A\n",
      "4it [00:05,  1.26s/it]\u001b[A\n",
      "5it [00:06,  1.16s/it]\u001b[A\n",
      "6it [00:07,  1.13s/it]\u001b[A\n",
      "7it [00:08,  1.22s/it]\u001b[A\n",
      "8it [00:09,  1.29s/it]\u001b[A\n",
      "9it [00:11,  1.41s/it]\u001b[A\n",
      "10it [00:13,  1.42s/it]\u001b[A\n",
      "11it [00:14,  1.47s/it]\u001b[A\n",
      "12it [00:15,  1.38s/it]\u001b[A\n",
      "13it [00:16,  1.21s/it]\u001b[A\n",
      "14it [00:17,  1.20s/it]\u001b[A\n",
      "15it [00:18,  1.20s/it]\u001b[A\n",
      "16it [00:20,  1.21s/it]\u001b[A\n",
      "17it [00:21,  1.26s/it]\u001b[A\n",
      "18it [00:23,  1.34s/it]\u001b[A\n",
      "19it [00:24,  1.29s/it]\u001b[A\n",
      "20it [00:25,  1.24s/it]\u001b[A\n",
      "21it [00:27,  1.43s/it]\u001b[A\n",
      "22it [00:29,  1.56s/it]\u001b[A\n",
      "23it [00:30,  1.59s/it]\u001b[A\n",
      "24it [00:32,  1.63s/it]\u001b[A\n",
      "25it [00:33,  1.53s/it]\u001b[A\n",
      "26it [00:34,  1.41s/it]\u001b[A\n",
      "27it [00:36,  1.40s/it]\u001b[A\n",
      "28it [00:37,  1.36s/it]\u001b[A\n",
      "29it [00:39,  1.60s/it]\u001b[A\n",
      "30it [00:41,  1.58s/it]\u001b[A\n",
      "31it [00:42,  1.53s/it]\u001b[A\n",
      "32it [00:44,  1.48s/it]\u001b[A\n",
      "33it [00:45,  1.47s/it]\u001b[A\n",
      "34it [00:47,  1.48s/it]\u001b[A\n",
      "35it [00:48,  1.46s/it]\u001b[A\n",
      "36it [00:50,  1.54s/it]\u001b[A\n",
      "37it [00:52,  1.66s/it]\u001b[A\n",
      "38it [00:53,  1.66s/it]\u001b[A\n",
      "39it [00:55,  1.42s/it]\u001b[A"
     ]
    },
    {
     "name": "stdout",
     "output_type": "stream",
     "text": [
      "CPU times: user 1min 46s, sys: 3.87 s, total: 1min 50s\n",
      "Wall time: 1min 50s\n"
     ]
    },
    {
     "name": "stderr",
     "output_type": "stream",
     "text": [
      "\n"
     ]
    }
   ],
   "source": [
    "%%time\n",
    "myLeverMaps = {}\n",
    "for rateType in [\"map\"]:\n",
    "    myLeverMaps[rateType]={}\n",
    "    for key,cond in zip(keys,conditions):\n",
    "        myLeverMaps[rateType][key] = {}\n",
    "        for rotType in [\"none\"]:\n",
    "            print(rateType,key,rotType)\n",
    "            myLeverMaps[rateType][key][rotType] = np.concatenate([getLeverMaps(ses,sSes,cond,\n",
    "                                                                     rotationType = rotType, \n",
    "                                                                     invalidateSmallBridgeAngle=False, rateType=rateType,\n",
    "                                                                     stats=False) for ses,sSes in tqdm(zip(myProjectWithTrials.sessionList,sSesList))]) "
   ]
  },
  {
   "cell_type": "code",
   "execution_count": 44,
   "id": "df85d2ab-e8cf-43e2-b78c-00de98fa6f7f",
   "metadata": {},
   "outputs": [
    {
     "name": "stdout",
     "output_type": "stream",
     "text": [
      "saving: /adata/projects/autopi_ca1/results/myLeverMapsShortSearch.pickle\n"
     ]
    }
   ],
   "source": [
    "fn=myProjectWithTrials.dataPath+\"/results/myLeverMapsShortSearch.pickle\"\n",
    "print(\"saving:\",fn)\n",
    "with open(fn, 'wb') as handle:\n",
    "    pickle.dump(myLeverMaps, handle)"
   ]
  },
  {
   "cell_type": "code",
   "execution_count": 54,
   "id": "ac78ff94-4d7f-4758-bc90-40c35083b682",
   "metadata": {},
   "outputs": [
    {
     "data": {
      "text/plain": [
       "(1268, 60, 60)"
      ]
     },
     "execution_count": 54,
     "metadata": {},
     "output_type": "execute_result"
    }
   ],
   "source": [
    "myLeverMaps[\"map\"][\"dark_shortSearch\"][\"none\"].shape"
   ]
  },
  {
   "cell_type": "code",
   "execution_count": 58,
   "id": "51c6156f-52bc-4cb1-aab0-fc9c3db4965f",
   "metadata": {},
   "outputs": [
    {
     "data": {
      "image/png": "[encoded data removed]",
      "text/plain": [
       "<Figure size 432x288 with 1 Axes>"
      ]
     },
     "metadata": {
      "needs_background": "light"
     },
     "output_type": "display_data"
    },
    {
     "data": {
      "image/png": "[encoded data removed]",
      "text/plain": [
       "<Figure size 432x288 with 1 Axes>"
      ]
     },
     "metadata": {
      "needs_background": "light"
     },
     "output_type": "display_data"
    }
   ],
   "source": [
    "plt.imshow(myLeverMaps[\"map\"][\"dark_shortSearch\"][\"none\"][100])\n",
    "plt.show()\n",
    "plt.imshow(myLeverMaps[\"map\"][\"dark_longSearch\"][\"none\"][100])\n",
    "plt.show()"
   ]
  },
  {
   "cell_type": "code",
   "execution_count": null,
   "id": "013e473b-4b62-46c9-8468-26cd78ec1356",
   "metadata": {},
   "outputs": [],
   "source": []
  }
 ],
 "metadata": {
  "kernelspec": {
   "display_name": "Python [conda env:DEEPLABCUT] *",
   "language": "python",
   "name": "conda-env-DEEPLABCUT-py"
  },
  "language_info": {
   "codemirror_mode": {
    "name": "ipython",
    "version": 3
   },
   "file_extension": ".py",
   "mimetype": "text/x-python",
   "name": "python",
   "nbconvert_exporter": "python",
   "pygments_lexer": "ipython3",
   "version": "3.8.10"
  }
 },
 "nbformat": 4,
 "nbformat_minor": 5
}
