{
 "cells": [
  {
   "cell_type": "markdown",
   "id": "438963d6-2a98-4e19-8c76-4f4987bfd225",
   "metadata": {},
   "source": [
    "# Merge trial .dat files into a single .dat file\n"
   ]
  },
  {
   "cell_type": "code",
   "execution_count": 1,
   "id": "7fcf1c5b-68f2-47de-a80a-de5fc8bd9965",
   "metadata": {},
   "outputs": [
    {
     "name": "stdout",
     "output_type": "stream",
     "text": [
      "Project name: autopi_ca1\n",
      "dataPath: /adata/projects/autopi_ca1\n",
      "dlcModelPath: /adata/models\n",
      "Reading /adata/projects/autopi_ca1/sessionList\n",
      "We have 36 testing sessions in the list\n",
      "See myProject and sSesList objects\n",
      "autpipy sessions: 36, spikeA sessions: 36\n"
     ]
    }
   ],
   "source": [
    "#%load_ext autoreload\n",
    "#%autoreload 2\n",
    "\n",
    "import sys\n",
    "from spikeA.Dat_file_reader import Dat_file_reader\n",
    "\n",
    "# This sets up our session lists\n",
    "%run setup_project.py\n",
    "print(\"autpipy sessions: {}, spikeA sessions: {}\".format(len(myProject.sessionList),len(sSesList)))"
   ]
  },
  {
   "cell_type": "code",
   "execution_count": 2,
   "id": "ddb611d9-13a0-4f19-b932-85eb73572338",
   "metadata": {},
   "outputs": [],
   "source": [
    "def prepareSpikeASession(sSes):\n",
    "    sSes.load_parameters_from_files() \n",
    "for sSes in sSesList:\n",
    "    prepareSpikeASession(sSes)"
   ]
  },
  {
   "cell_type": "code",
   "execution_count": 3,
   "id": "ec8f71ae-1ff1-4875-9fef-45528dfa9788",
   "metadata": {},
   "outputs": [
    {
     "name": "stdout",
     "output_type": "stream",
     "text": [
      "30 sessions are local to a230-pc73\n"
     ]
    }
   ],
   "source": [
    "sSesLocal = get_local_sessions(sSesList)\n",
    "ip=socket.gethostname()\n",
    "print(\"{} sessions are local to {}\".format(len(sSesLocal),ip))"
   ]
  },
  {
   "cell_type": "code",
   "execution_count": 64,
   "id": "95e9a3ba-8835-4c7a-becb-7601fe702575",
   "metadata": {},
   "outputs": [],
   "source": [
    "sSes = sSesLocal[1]"
   ]
  },
  {
   "cell_type": "code",
   "execution_count": 3,
   "id": "54213dbf-7394-4c21-ac75-b31ecbea68b1",
   "metadata": {},
   "outputs": [],
   "source": [
    "def merge_trial_dat_files(sSes):\n",
    "    \"\"\"\n",
    "    Take the data from trial .dat files and put them all in one large .dat file\n",
    "    \n",
    "    We save a Dat_file_reader object in the directory to have information about the original files.\n",
    "    \n",
    "    The information in the Dat_file_reader object is needed to go back and forth between trial .dat files and merge .dat file if needed.\n",
    "    It might be wise to save a copy of these pickles somewhere safe.\n",
    "    \n",
    "    \"\"\"\n",
    "    dat_files = [ sSes.path+\"/\"+i+\".dat\" for i in sSes.trial_names]\n",
    "    out_file = sSes.path+\"/\"+sSes.name+\".dat\"\n",
    "   \n",
    "    # create a Dat_file_reader with the trial dat files\n",
    "    dfr = Dat_file_reader(dat_files,sSes.n_channels)\n",
    "        \n",
    "    # save the dfr object so that we can restore the original files from the merge file\n",
    "    fn = sSes.path+\"/\"+sSes.name+\".trials_Dat_file_reader.pickle\"\n",
    "    print(fn)\n",
    "    filehandler = open(fn, 'wb') \n",
    "    pickle.dump(dfr, filehandler)\n",
    "\n",
    "    com=\"cat \"+ ' '.join(dat_files)+\" > \"+out_file\n",
    "    print(\"running: \" , com)\n",
    "    os.system(com)\n",
    "    \n",
    "    merge_size = os.path.getsize(out_file)\n",
    "    if merge_size != np.sum(dfr.size_of_files):\n",
    "        raise ValueError(\"Problem with size of merged file {}, {},{}\".format(out_file,merge_size,np.sum(dfr.size_of_files)))\n",
    "    else:\n",
    "        print(\"File sizes match {}, {},{}\".format(out_file,merge_size,np.sum(dfr.size_of_files)))"
   ]
  },
  {
   "cell_type": "code",
   "execution_count": 4,
   "id": "f98ac9ea-9a5b-4f76-8939-d0a90cd1308b",
   "metadata": {},
   "outputs": [
    {
     "name": "stdout",
     "output_type": "stream",
     "text": [
      "/adata/projects/autopi_ca1/TYY5622/TYY5622-20092021-0106/TYY5622-20092021-0106.trials_Dat_file_reader.pickle\n",
      "running:  cat /adata/projects/autopi_ca1/TYY5622/TYY5622-20092021-0106/TYY5622-20092021_01.dat /adata/projects/autopi_ca1/TYY5622/TYY5622-20092021-0106/TYY5622-20092021_02.dat /adata/projects/autopi_ca1/TYY5622/TYY5622-20092021-0106/TYY5622-20092021_03.dat /adata/projects/autopi_ca1/TYY5622/TYY5622-20092021-0106/TYY5622-20092021_04.dat /adata/projects/autopi_ca1/TYY5622/TYY5622-20092021-0106/TYY5622-20092021_05.dat /adata/projects/autopi_ca1/TYY5622/TYY5622-20092021-0106/TYY5622-20092021_06.dat > /adata/projects/autopi_ca1/TYY5622/TYY5622-20092021-0106/TYY5622-20092021-0106.dat\n"
     ]
    },
    {
     "ename": "ValueError",
     "evalue": "Problem with size of merged file /adata/projects/autopi_ca1/TYY5622/TYY5622-20092021-0106/TYY5622-20092021-0106.dat, 31457280,49997304000",
     "output_type": "error",
     "traceback": [
      "\u001b[0;31m---------------------------------------------------------------------------\u001b[0m",
      "\u001b[0;31mValueError\u001b[0m                                Traceback (most recent call last)",
      "\u001b[0;32m<timed eval>\u001b[0m in \u001b[0;36m<module>\u001b[0;34m\u001b[0m\n",
      "\u001b[0;32m/tmp/ipykernel_163845/2976065224.py\u001b[0m in \u001b[0;36mmerge_trial_dat_files\u001b[0;34m(sSes)\u001b[0m\n\u001b[1;32m     27\u001b[0m     \u001b[0mmerge_size\u001b[0m \u001b[0;34m=\u001b[0m \u001b[0mos\u001b[0m\u001b[0;34m.\u001b[0m\u001b[0mpath\u001b[0m\u001b[0;34m.\u001b[0m\u001b[0mgetsize\u001b[0m\u001b[0;34m(\u001b[0m\u001b[0mout_file\u001b[0m\u001b[0;34m)\u001b[0m\u001b[0;34m\u001b[0m\u001b[0;34m\u001b[0m\u001b[0m\n\u001b[1;32m     28\u001b[0m     \u001b[0;32mif\u001b[0m \u001b[0mmerge_size\u001b[0m \u001b[0;34m!=\u001b[0m \u001b[0mnp\u001b[0m\u001b[0;34m.\u001b[0m\u001b[0msum\u001b[0m\u001b[0;34m(\u001b[0m\u001b[0mdfr\u001b[0m\u001b[0;34m.\u001b[0m\u001b[0msize_of_files\u001b[0m\u001b[0;34m)\u001b[0m\u001b[0;34m:\u001b[0m\u001b[0;34m\u001b[0m\u001b[0;34m\u001b[0m\u001b[0m\n\u001b[0;32m---> 29\u001b[0;31m         \u001b[0;32mraise\u001b[0m \u001b[0mValueError\u001b[0m\u001b[0;34m(\u001b[0m\u001b[0;34m\"Problem with size of merged file {}, {},{}\"\u001b[0m\u001b[0;34m.\u001b[0m\u001b[0mformat\u001b[0m\u001b[0;34m(\u001b[0m\u001b[0mout_file\u001b[0m\u001b[0;34m,\u001b[0m\u001b[0mmerge_size\u001b[0m\u001b[0;34m,\u001b[0m\u001b[0mnp\u001b[0m\u001b[0;34m.\u001b[0m\u001b[0msum\u001b[0m\u001b[0;34m(\u001b[0m\u001b[0mdfr\u001b[0m\u001b[0;34m.\u001b[0m\u001b[0msize_of_files\u001b[0m\u001b[0;34m)\u001b[0m\u001b[0;34m)\u001b[0m\u001b[0;34m)\u001b[0m\u001b[0;34m\u001b[0m\u001b[0;34m\u001b[0m\u001b[0m\n\u001b[0m\u001b[1;32m     30\u001b[0m     \u001b[0;32melse\u001b[0m\u001b[0;34m:\u001b[0m\u001b[0;34m\u001b[0m\u001b[0;34m\u001b[0m\u001b[0m\n\u001b[1;32m     31\u001b[0m         \u001b[0mprint\u001b[0m\u001b[0;34m(\u001b[0m\u001b[0;34m\"File sizes match {}, {},{}\"\u001b[0m\u001b[0;34m.\u001b[0m\u001b[0mformat\u001b[0m\u001b[0;34m(\u001b[0m\u001b[0mout_file\u001b[0m\u001b[0;34m,\u001b[0m\u001b[0mmerge_size\u001b[0m\u001b[0;34m,\u001b[0m\u001b[0mnp\u001b[0m\u001b[0;34m.\u001b[0m\u001b[0msum\u001b[0m\u001b[0;34m(\u001b[0m\u001b[0mdfr\u001b[0m\u001b[0;34m.\u001b[0m\u001b[0msize_of_files\u001b[0m\u001b[0;34m)\u001b[0m\u001b[0;34m)\u001b[0m\u001b[0;34m)\u001b[0m\u001b[0;34m\u001b[0m\u001b[0;34m\u001b[0m\u001b[0m\n",
      "\u001b[0;31mValueError\u001b[0m: Problem with size of merged file /adata/projects/autopi_ca1/TYY5622/TYY5622-20092021-0106/TYY5622-20092021-0106.dat, 31457280,49997304000"
     ]
    }
   ],
   "source": [
    "%time merge_trial_dat_files(sSes)"
   ]
  },
  {
   "cell_type": "code",
   "execution_count": null,
   "id": "9142f83b-7049-4cc9-8430-6c73787aaa51",
   "metadata": {},
   "outputs": [
    {
     "name": "stderr",
     "output_type": "stream",
     "text": [
      "  0%|                                                    | 0/30 [00:00<?, ?it/s]"
     ]
    },
    {
     "name": "stdout",
     "output_type": "stream",
     "text": [
      "mn5824-20112020-0107\n",
      "/adata/projects/autopi_ca1/mn5824/mn5824-20112020-0107/mn5824-20112020-0107.trials_Dat_file_reader.pickle\n",
      "running:  cat /adata/projects/autopi_ca1/mn5824/mn5824-20112020-0107/mn5824-20112020_01.dat /adata/projects/autopi_ca1/mn5824/mn5824-20112020-0107/mn5824-20112020_02.dat /adata/projects/autopi_ca1/mn5824/mn5824-20112020-0107/mn5824-20112020_03.dat /adata/projects/autopi_ca1/mn5824/mn5824-20112020-0107/mn5824-20112020_04.dat /adata/projects/autopi_ca1/mn5824/mn5824-20112020-0107/mn5824-20112020_05.dat /adata/projects/autopi_ca1/mn5824/mn5824-20112020-0107/mn5824-20112020_06.dat /adata/projects/autopi_ca1/mn5824/mn5824-20112020-0107/mn5824-20112020_07.dat > /adata/projects/autopi_ca1/mn5824/mn5824-20112020-0107/mn5824-20112020-0107.dat\n"
     ]
    },
    {
     "name": "stderr",
     "output_type": "stream",
     "text": [
      "  3%|█▎                                       | 1/30 [02:13<1:04:34, 133.61s/it]"
     ]
    },
    {
     "name": "stdout",
     "output_type": "stream",
     "text": [
      "File sizes match /adata/projects/autopi_ca1/mn5824/mn5824-20112020-0107/mn5824-20112020-0107.dat, 13544102880,13544102880\n",
      "mn5824-22112020-0107\n",
      "/adata/projects/autopi_ca1/mn5824/mn5824-22112020-0107/mn5824-22112020-0107.trials_Dat_file_reader.pickle\n",
      "running:  cat /adata/projects/autopi_ca1/mn5824/mn5824-22112020-0107/mn5824-22112020_01.dat /adata/projects/autopi_ca1/mn5824/mn5824-22112020-0107/mn5824-22112020_02.dat /adata/projects/autopi_ca1/mn5824/mn5824-22112020-0107/mn5824-22112020_03.dat /adata/projects/autopi_ca1/mn5824/mn5824-22112020-0107/mn5824-22112020_04.dat /adata/projects/autopi_ca1/mn5824/mn5824-22112020-0107/mn5824-22112020_05.dat /adata/projects/autopi_ca1/mn5824/mn5824-22112020-0107/mn5824-22112020_06.dat /adata/projects/autopi_ca1/mn5824/mn5824-22112020-0107/mn5824-22112020_07.dat > /adata/projects/autopi_ca1/mn5824/mn5824-22112020-0107/mn5824-22112020-0107.dat\n"
     ]
    },
    {
     "name": "stderr",
     "output_type": "stream",
     "text": [
      "  7%|██▋                                      | 2/30 [04:25<1:01:58, 132.81s/it]"
     ]
    },
    {
     "name": "stdout",
     "output_type": "stream",
     "text": [
      "File sizes match /adata/projects/autopi_ca1/mn5824/mn5824-22112020-0107/mn5824-22112020-0107.dat, 13500954720,13500954720\n",
      "mn5824-24112020-0107\n",
      "/adata/projects/autopi_ca1/mn5824/mn5824-24112020-0107/mn5824-24112020-0107.trials_Dat_file_reader.pickle\n",
      "running:  cat /adata/projects/autopi_ca1/mn5824/mn5824-24112020-0107/mn5824-24112020_01.dat /adata/projects/autopi_ca1/mn5824/mn5824-24112020-0107/mn5824-24112020_02.dat /adata/projects/autopi_ca1/mn5824/mn5824-24112020-0107/mn5824-24112020_03.dat /adata/projects/autopi_ca1/mn5824/mn5824-24112020-0107/mn5824-24112020_04.dat /adata/projects/autopi_ca1/mn5824/mn5824-24112020-0107/mn5824-24112020_05.dat /adata/projects/autopi_ca1/mn5824/mn5824-24112020-0107/mn5824-24112020_06.dat /adata/projects/autopi_ca1/mn5824/mn5824-24112020-0107/mn5824-24112020_07.dat > /adata/projects/autopi_ca1/mn5824/mn5824-24112020-0107/mn5824-24112020-0107.dat\n"
     ]
    },
    {
     "name": "stderr",
     "output_type": "stream",
     "text": [
      " 10%|████▎                                      | 3/30 [06:29<57:58, 128.85s/it]"
     ]
    },
    {
     "name": "stdout",
     "output_type": "stream",
     "text": [
      "File sizes match /adata/projects/autopi_ca1/mn5824/mn5824-24112020-0107/mn5824-24112020-0107.dat, 13001424480,13001424480\n",
      "mn5824-02122020-0106\n",
      "/adata/projects/autopi_ca1/mn5824/mn5824-02122020-0106/mn5824-02122020-0106.trials_Dat_file_reader.pickle\n",
      "running:  cat /adata/projects/autopi_ca1/mn5824/mn5824-02122020-0106/mn5824-02122020_01.dat /adata/projects/autopi_ca1/mn5824/mn5824-02122020-0106/mn5824-02122020_02.dat /adata/projects/autopi_ca1/mn5824/mn5824-02122020-0106/mn5824-02122020_03.dat /adata/projects/autopi_ca1/mn5824/mn5824-02122020-0106/mn5824-02122020_04.dat /adata/projects/autopi_ca1/mn5824/mn5824-02122020-0106/mn5824-02122020_05.dat /adata/projects/autopi_ca1/mn5824/mn5824-02122020-0106/mn5824-02122020_06.dat > /adata/projects/autopi_ca1/mn5824/mn5824-02122020-0106/mn5824-02122020-0106.dat\n"
     ]
    },
    {
     "name": "stderr",
     "output_type": "stream",
     "text": [
      " 13%|█████▋                                     | 4/30 [08:37<55:34, 128.26s/it]"
     ]
    },
    {
     "name": "stdout",
     "output_type": "stream",
     "text": [
      "File sizes match /adata/projects/autopi_ca1/mn5824/mn5824-02122020-0106/mn5824-02122020-0106.dat, 12703474080,12703474080\n",
      "mn711-28012021-0106\n",
      "/adata/projects/autopi_ca1/mn711/mn711-28012021-0106/mn711-28012021-0106.trials_Dat_file_reader.pickle\n",
      "running:  cat /adata/projects/autopi_ca1/mn711/mn711-28012021-0106/mn711-28012021_01.dat /adata/projects/autopi_ca1/mn711/mn711-28012021-0106/mn711-28012021_02.dat /adata/projects/autopi_ca1/mn711/mn711-28012021-0106/mn711-28012021_03.dat /adata/projects/autopi_ca1/mn711/mn711-28012021-0106/mn711-28012021_04.dat /adata/projects/autopi_ca1/mn711/mn711-28012021-0106/mn711-28012021_05.dat /adata/projects/autopi_ca1/mn711/mn711-28012021-0106/mn711-28012021_06.dat > /adata/projects/autopi_ca1/mn711/mn711-28012021-0106/mn711-28012021-0106.dat\n"
     ]
    },
    {
     "name": "stderr",
     "output_type": "stream",
     "text": [
      " 17%|██████▊                                  | 5/30 [11:49<1:02:59, 151.19s/it]"
     ]
    },
    {
     "name": "stdout",
     "output_type": "stream",
     "text": [
      "File sizes match /adata/projects/autopi_ca1/mn711/mn711-28012021-0106/mn711-28012021-0106.dat, 21730987200,21730987200\n",
      "mn711-30012021-0106\n",
      "/adata/projects/autopi_ca1/mn711/mn711-30012021-0106/mn711-30012021-0106.trials_Dat_file_reader.pickle\n",
      "running:  cat /adata/projects/autopi_ca1/mn711/mn711-30012021-0106/mn711-30012021_01.dat /adata/projects/autopi_ca1/mn711/mn711-30012021-0106/mn711-30012021_02.dat /adata/projects/autopi_ca1/mn711/mn711-30012021-0106/mn711-30012021_03.dat /adata/projects/autopi_ca1/mn711/mn711-30012021-0106/mn711-30012021_04.dat /adata/projects/autopi_ca1/mn711/mn711-30012021-0106/mn711-30012021_05.dat /adata/projects/autopi_ca1/mn711/mn711-30012021-0106/mn711-30012021_06.dat > /adata/projects/autopi_ca1/mn711/mn711-30012021-0106/mn711-30012021-0106.dat\n"
     ]
    },
    {
     "name": "stderr",
     "output_type": "stream",
     "text": [
      " 20%|████████▏                                | 6/30 [15:33<1:10:28, 176.17s/it]"
     ]
    },
    {
     "name": "stdout",
     "output_type": "stream",
     "text": [
      "File sizes match /adata/projects/autopi_ca1/mn711/mn711-30012021-0106/mn711-30012021-0106.dat, 25014974400,25014974400\n",
      "mn711-31012021-0107\n",
      "/adata/projects/autopi_ca1/mn711/mn711-31012021-0107/mn711-31012021-0107.trials_Dat_file_reader.pickle\n",
      "running:  cat /adata/projects/autopi_ca1/mn711/mn711-31012021-0107/mn711-31012021_01.dat /adata/projects/autopi_ca1/mn711/mn711-31012021-0107/mn711-31012021_02.dat /adata/projects/autopi_ca1/mn711/mn711-31012021-0107/mn711-31012021_03.dat /adata/projects/autopi_ca1/mn711/mn711-31012021-0107/mn711-31012021_04.dat /adata/projects/autopi_ca1/mn711/mn711-31012021-0107/mn711-31012021_05.dat /adata/projects/autopi_ca1/mn711/mn711-31012021-0107/mn711-31012021_06.dat /adata/projects/autopi_ca1/mn711/mn711-31012021-0107/mn711-31012021_07.dat > /adata/projects/autopi_ca1/mn711/mn711-31012021-0107/mn711-31012021-0107.dat\n"
     ]
    },
    {
     "name": "stderr",
     "output_type": "stream",
     "text": [
      " 23%|█████████▌                               | 7/30 [20:06<1:19:39, 207.81s/it]"
     ]
    },
    {
     "name": "stdout",
     "output_type": "stream",
     "text": [
      "File sizes match /adata/projects/autopi_ca1/mn711/mn711-31012021-0107/mn711-31012021-0107.dat, 29713975200,29713975200\n",
      "mn711-01022021-0107\n",
      "/adata/projects/autopi_ca1/mn711/mn711-01022021-0107/mn711-01022021-0107.trials_Dat_file_reader.pickle\n",
      "running:  cat /adata/projects/autopi_ca1/mn711/mn711-01022021-0107/mn711-01022021_01.dat /adata/projects/autopi_ca1/mn711/mn711-01022021-0107/mn711-01022021_02.dat /adata/projects/autopi_ca1/mn711/mn711-01022021-0107/mn711-01022021_03.dat /adata/projects/autopi_ca1/mn711/mn711-01022021-0107/mn711-01022021_04.dat /adata/projects/autopi_ca1/mn711/mn711-01022021-0107/mn711-01022021_05.dat /adata/projects/autopi_ca1/mn711/mn711-01022021-0107/mn711-01022021_06.dat /adata/projects/autopi_ca1/mn711/mn711-01022021-0107/mn711-01022021_07.dat > /adata/projects/autopi_ca1/mn711/mn711-01022021-0107/mn711-01022021-0107.dat\n"
     ]
    },
    {
     "name": "stderr",
     "output_type": "stream",
     "text": [
      " 27%|██████████▉                              | 8/30 [24:32<1:23:00, 226.38s/it]"
     ]
    },
    {
     "name": "stdout",
     "output_type": "stream",
     "text": [
      "File sizes match /adata/projects/autopi_ca1/mn711/mn711-01022021-0107/mn711-01022021-0107.dat, 29707236000,29707236000\n",
      "mn711-02022021-0108\n",
      "/adata/projects/autopi_ca1/mn711/mn711-02022021-0108/mn711-02022021-0108.trials_Dat_file_reader.pickle\n",
      "running:  cat /adata/projects/autopi_ca1/mn711/mn711-02022021-0108/mn711-02022021_01.dat /adata/projects/autopi_ca1/mn711/mn711-02022021-0108/mn711-02022021_02.dat /adata/projects/autopi_ca1/mn711/mn711-02022021-0108/mn711-02022021_03.dat /adata/projects/autopi_ca1/mn711/mn711-02022021-0108/mn711-02022021_04.dat /adata/projects/autopi_ca1/mn711/mn711-02022021-0108/mn711-02022021_05.dat /adata/projects/autopi_ca1/mn711/mn711-02022021-0108/mn711-02022021_06.dat /adata/projects/autopi_ca1/mn711/mn711-02022021-0108/mn711-02022021_07.dat /adata/projects/autopi_ca1/mn711/mn711-02022021-0108/mn711-02022021_08.dat > /adata/projects/autopi_ca1/mn711/mn711-02022021-0108/mn711-02022021-0108.dat\n"
     ]
    },
    {
     "name": "stderr",
     "output_type": "stream",
     "text": [
      " 30%|████████████▎                            | 9/30 [29:12<1:25:03, 243.02s/it]"
     ]
    },
    {
     "name": "stdout",
     "output_type": "stream",
     "text": [
      "File sizes match /adata/projects/autopi_ca1/mn711/mn711-02022021-0108/mn711-02022021-0108.dat, 31284302400,31284302400\n",
      "mn711-03022021-0107\n",
      "/adata/projects/autopi_ca1/mn711/mn711-03022021-0107/mn711-03022021-0107.trials_Dat_file_reader.pickle\n",
      "running:  cat /adata/projects/autopi_ca1/mn711/mn711-03022021-0107/mn711-03022021_01.dat /adata/projects/autopi_ca1/mn711/mn711-03022021-0107/mn711-03022021_02.dat /adata/projects/autopi_ca1/mn711/mn711-03022021-0107/mn711-03022021_03.dat /adata/projects/autopi_ca1/mn711/mn711-03022021-0107/mn711-03022021_04.dat /adata/projects/autopi_ca1/mn711/mn711-03022021-0107/mn711-03022021_05.dat /adata/projects/autopi_ca1/mn711/mn711-03022021-0107/mn711-03022021_06.dat /adata/projects/autopi_ca1/mn711/mn711-03022021-0107/mn711-03022021_07.dat > /adata/projects/autopi_ca1/mn711/mn711-03022021-0107/mn711-03022021-0107.dat\n"
     ]
    },
    {
     "name": "stderr",
     "output_type": "stream",
     "text": [
      " 33%|█████████████▎                          | 10/30 [33:39<1:23:29, 250.48s/it]"
     ]
    },
    {
     "name": "stdout",
     "output_type": "stream",
     "text": [
      "File sizes match /adata/projects/autopi_ca1/mn711/mn711-03022021-0107/mn711-03022021-0107.dat, 29714068800,29714068800\n",
      "mn711-04022021-0107\n",
      "/adata/projects/autopi_ca1/mn711/mn711-04022021-0107/mn711-04022021-0107.trials_Dat_file_reader.pickle\n",
      "running:  cat /adata/projects/autopi_ca1/mn711/mn711-04022021-0107/mn711-04022021_01.dat /adata/projects/autopi_ca1/mn711/mn711-04022021-0107/mn711-04022021_02.dat /adata/projects/autopi_ca1/mn711/mn711-04022021-0107/mn711-04022021_03.dat /adata/projects/autopi_ca1/mn711/mn711-04022021-0107/mn711-04022021_04.dat /adata/projects/autopi_ca1/mn711/mn711-04022021-0107/mn711-04022021_05.dat /adata/projects/autopi_ca1/mn711/mn711-04022021-0107/mn711-04022021_06.dat /adata/projects/autopi_ca1/mn711/mn711-04022021-0107/mn711-04022021_07.dat > /adata/projects/autopi_ca1/mn711/mn711-04022021-0107/mn711-04022021-0107.dat\n"
     ]
    },
    {
     "name": "stderr",
     "output_type": "stream",
     "text": [
      " 37%|██████████████▋                         | 11/30 [38:29<1:23:09, 262.62s/it]"
     ]
    },
    {
     "name": "stdout",
     "output_type": "stream",
     "text": [
      "File sizes match /adata/projects/autopi_ca1/mn711/mn711-04022021-0107/mn711-04022021-0107.dat, 31274006400,31274006400\n",
      "mn2739-11022021-0107\n",
      "/adata/projects/autopi_ca1/mn2739/mn2739-11022021-0107/mn2739-11022021-0107.trials_Dat_file_reader.pickle\n",
      "running:  cat /adata/projects/autopi_ca1/mn2739/mn2739-11022021-0107/mn2739-11022021_01.dat /adata/projects/autopi_ca1/mn2739/mn2739-11022021-0107/mn2739-11022021_02.dat /adata/projects/autopi_ca1/mn2739/mn2739-11022021-0107/mn2739-11022021_03.dat /adata/projects/autopi_ca1/mn2739/mn2739-11022021-0107/mn2739-11022021_04.dat /adata/projects/autopi_ca1/mn2739/mn2739-11022021-0107/mn2739-11022021_05.dat /adata/projects/autopi_ca1/mn2739/mn2739-11022021-0107/mn2739-11022021_06.dat /adata/projects/autopi_ca1/mn2739/mn2739-11022021-0107/mn2739-11022021_07.dat > /adata/projects/autopi_ca1/mn2739/mn2739-11022021-0107/mn2739-11022021-0107.dat\n"
     ]
    },
    {
     "name": "stderr",
     "output_type": "stream",
     "text": [
      " 40%|████████████████                        | 12/30 [42:47<1:18:20, 261.16s/it]"
     ]
    },
    {
     "name": "stdout",
     "output_type": "stream",
     "text": [
      "File sizes match /adata/projects/autopi_ca1/mn2739/mn2739-11022021-0107/mn2739-11022021-0107.dat, 24917869600,24917869600\n",
      "mn2739-15022021-0105\n",
      "/adata/projects/autopi_ca1/mn2739/mn2739-15022021-0105/mn2739-15022021-0105.trials_Dat_file_reader.pickle\n",
      "running:  cat /adata/projects/autopi_ca1/mn2739/mn2739-15022021-0105/mn2739-15022021_01.dat /adata/projects/autopi_ca1/mn2739/mn2739-15022021-0105/mn2739-15022021_02.dat /adata/projects/autopi_ca1/mn2739/mn2739-15022021-0105/mn2739-15022021_03.dat /adata/projects/autopi_ca1/mn2739/mn2739-15022021-0105/mn2739-15022021_04.dat /adata/projects/autopi_ca1/mn2739/mn2739-15022021-0105/mn2739-15022021_05.dat > /adata/projects/autopi_ca1/mn2739/mn2739-15022021-0105/mn2739-15022021-0105.dat\n"
     ]
    },
    {
     "name": "stderr",
     "output_type": "stream",
     "text": [
      " 43%|█████████████████▎                      | 13/30 [45:55<1:07:41, 238.90s/it]"
     ]
    },
    {
     "name": "stdout",
     "output_type": "stream",
     "text": [
      "File sizes match /adata/projects/autopi_ca1/mn2739/mn2739-15022021-0105/mn2739-15022021-0105.dat, 17408133600,17408133600\n",
      "mn2739-16022021-0106\n",
      "/adata/projects/autopi_ca1/mn2739/mn2739-16022021-0106/mn2739-16022021-0106.trials_Dat_file_reader.pickle\n",
      "running:  cat /adata/projects/autopi_ca1/mn2739/mn2739-16022021-0106/mn2739-16022021_01.dat /adata/projects/autopi_ca1/mn2739/mn2739-16022021-0106/mn2739-16022021_02.dat /adata/projects/autopi_ca1/mn2739/mn2739-16022021-0106/mn2739-16022021_03.dat /adata/projects/autopi_ca1/mn2739/mn2739-16022021-0106/mn2739-16022021_04.dat /adata/projects/autopi_ca1/mn2739/mn2739-16022021-0106/mn2739-16022021_05.dat /adata/projects/autopi_ca1/mn2739/mn2739-16022021-0106/mn2739-16022021_06.dat > /adata/projects/autopi_ca1/mn2739/mn2739-16022021-0106/mn2739-16022021-0106.dat\n"
     ]
    },
    {
     "name": "stderr",
     "output_type": "stream",
     "text": [
      " 47%|██████████████████▋                     | 14/30 [49:51<1:03:27, 237.96s/it]"
     ]
    },
    {
     "name": "stdout",
     "output_type": "stream",
     "text": [
      "File sizes match /adata/projects/autopi_ca1/mn2739/mn2739-16022021-0106/mn2739-16022021-0106.dat, 22178540800,22178540800\n",
      "mn2739-17022021-0106\n",
      "/adata/projects/autopi_ca1/mn2739/mn2739-17022021-0106/mn2739-17022021-0106.trials_Dat_file_reader.pickle\n",
      "running:  cat /adata/projects/autopi_ca1/mn2739/mn2739-17022021-0106/mn2739-17022021_01.dat /adata/projects/autopi_ca1/mn2739/mn2739-17022021-0106/mn2739-17022021_02.dat /adata/projects/autopi_ca1/mn2739/mn2739-17022021-0106/mn2739-17022021_03.dat /adata/projects/autopi_ca1/mn2739/mn2739-17022021-0106/mn2739-17022021_04.dat /adata/projects/autopi_ca1/mn2739/mn2739-17022021-0106/mn2739-17022021_05.dat /adata/projects/autopi_ca1/mn2739/mn2739-17022021-0106/mn2739-17022021_06.dat > /adata/projects/autopi_ca1/mn2739/mn2739-17022021-0106/mn2739-17022021-0106.dat\n"
     ]
    },
    {
     "name": "stderr",
     "output_type": "stream",
     "text": [
      " 50%|████████████████████                    | 15/30 [54:06<1:00:46, 243.12s/it]"
     ]
    },
    {
     "name": "stdout",
     "output_type": "stream",
     "text": [
      "File sizes match /adata/projects/autopi_ca1/mn2739/mn2739-17022021-0106/mn2739-17022021-0106.dat, 23176015200,23176015200\n",
      "mn2739-21022021-0106\n",
      "/adata/projects/autopi_ca1/mn2739/mn2739-21022021-0106/mn2739-21022021-0106.trials_Dat_file_reader.pickle\n",
      "running:  cat /adata/projects/autopi_ca1/mn2739/mn2739-21022021-0106/mn2739-21022021_01.dat /adata/projects/autopi_ca1/mn2739/mn2739-21022021-0106/mn2739-21022021_02.dat /adata/projects/autopi_ca1/mn2739/mn2739-21022021-0106/mn2739-21022021_03.dat /adata/projects/autopi_ca1/mn2739/mn2739-21022021-0106/mn2739-21022021_04.dat /adata/projects/autopi_ca1/mn2739/mn2739-21022021-0106/mn2739-21022021_05.dat /adata/projects/autopi_ca1/mn2739/mn2739-21022021-0106/mn2739-21022021_06.dat > /adata/projects/autopi_ca1/mn2739/mn2739-21022021-0106/mn2739-21022021-0106.dat\n"
     ]
    },
    {
     "name": "stderr",
     "output_type": "stream",
     "text": [
      " 53%|██████████████████████▍                   | 16/30 [58:46<59:18, 254.20s/it]"
     ]
    },
    {
     "name": "stdout",
     "output_type": "stream",
     "text": [
      "File sizes match /adata/projects/autopi_ca1/mn2739/mn2739-21022021-0106/mn2739-21022021-0106.dat, 24945991200,24945991200\n",
      "mn3246-09042021-0106\n",
      "/adata/projects/autopi_ca1/mn3246/mn3246-09042021-0106/mn3246-09042021-0106.trials_Dat_file_reader.pickle\n",
      "running:  cat /adata/projects/autopi_ca1/mn3246/mn3246-09042021-0106/mn3246-09042021_01.dat /adata/projects/autopi_ca1/mn3246/mn3246-09042021-0106/mn3246-09042021_02.dat /adata/projects/autopi_ca1/mn3246/mn3246-09042021-0106/mn3246-09042021_03.dat /adata/projects/autopi_ca1/mn3246/mn3246-09042021-0106/mn3246-09042021_04.dat /adata/projects/autopi_ca1/mn3246/mn3246-09042021-0106/mn3246-09042021_05.dat /adata/projects/autopi_ca1/mn3246/mn3246-09042021-0106/mn3246-09042021_06.dat > /adata/projects/autopi_ca1/mn3246/mn3246-09042021-0106/mn3246-09042021-0106.dat\n"
     ]
    },
    {
     "name": "stderr",
     "output_type": "stream",
     "text": [
      " 57%|█████████████████████▌                | 17/30 [1:04:47<1:02:03, 286.40s/it]"
     ]
    },
    {
     "name": "stdout",
     "output_type": "stream",
     "text": [
      "File sizes match /adata/projects/autopi_ca1/mn3246/mn3246-09042021-0106/mn3246-09042021-0106.dat, 26028756000,26028756000\n",
      "mn3246-10042021-0106\n",
      "/adata/projects/autopi_ca1/mn3246/mn3246-10042021-0106/mn3246-10042021-0106.trials_Dat_file_reader.pickle\n",
      "running:  cat /adata/projects/autopi_ca1/mn3246/mn3246-10042021-0106/mn3246-10042021_01.dat /adata/projects/autopi_ca1/mn3246/mn3246-10042021-0106/mn3246-10042021_02.dat /adata/projects/autopi_ca1/mn3246/mn3246-10042021-0106/mn3246-10042021_03.dat /adata/projects/autopi_ca1/mn3246/mn3246-10042021-0106/mn3246-10042021_04.dat /adata/projects/autopi_ca1/mn3246/mn3246-10042021-0106/mn3246-10042021_05.dat /adata/projects/autopi_ca1/mn3246/mn3246-10042021-0106/mn3246-10042021_06.dat > /adata/projects/autopi_ca1/mn3246/mn3246-10042021-0106/mn3246-10042021-0106.dat\n"
     ]
    },
    {
     "name": "stderr",
     "output_type": "stream",
     "text": [
      " 60%|██████████████████████▊               | 18/30 [1:10:41<1:01:22, 306.86s/it]"
     ]
    },
    {
     "name": "stdout",
     "output_type": "stream",
     "text": [
      "File sizes match /adata/projects/autopi_ca1/mn3246/mn3246-10042021-0106/mn3246-10042021-0106.dat, 25020777600,25020777600\n",
      "mn3246-12042021-0106\n",
      "/adata/projects/autopi_ca1/mn3246/mn3246-12042021-0106/mn3246-12042021-0106.trials_Dat_file_reader.pickle\n",
      "running:  cat /adata/projects/autopi_ca1/mn3246/mn3246-12042021-0106/mn3246-12042021_01.dat /adata/projects/autopi_ca1/mn3246/mn3246-12042021-0106/mn3246-12042021_02.dat /adata/projects/autopi_ca1/mn3246/mn3246-12042021-0106/mn3246-12042021_03.dat /adata/projects/autopi_ca1/mn3246/mn3246-12042021-0106/mn3246-12042021_04.dat /adata/projects/autopi_ca1/mn3246/mn3246-12042021-0106/mn3246-12042021_05.dat /adata/projects/autopi_ca1/mn3246/mn3246-12042021-0106/mn3246-12042021_06.dat > /adata/projects/autopi_ca1/mn3246/mn3246-12042021-0106/mn3246-12042021-0106.dat\n"
     ]
    },
    {
     "name": "stderr",
     "output_type": "stream",
     "text": [
      " 63%|████████████████████████              | 19/30 [1:17:01<1:00:14, 328.61s/it]"
     ]
    },
    {
     "name": "stdout",
     "output_type": "stream",
     "text": [
      "File sizes match /adata/projects/autopi_ca1/mn3246/mn3246-12042021-0106/mn3246-12042021-0106.dat, 24721632000,24721632000\n",
      "mn3246-14042021-0106\n",
      "/adata/projects/autopi_ca1/mn3246/mn3246-14042021-0106/mn3246-14042021-0106.trials_Dat_file_reader.pickle\n",
      "running:  cat /adata/projects/autopi_ca1/mn3246/mn3246-14042021-0106/mn3246-14042021_01.dat /adata/projects/autopi_ca1/mn3246/mn3246-14042021-0106/mn3246-14042021_02.dat /adata/projects/autopi_ca1/mn3246/mn3246-14042021-0106/mn3246-14042021_03.dat /adata/projects/autopi_ca1/mn3246/mn3246-14042021-0106/mn3246-14042021_04.dat /adata/projects/autopi_ca1/mn3246/mn3246-14042021-0106/mn3246-14042021_05.dat /adata/projects/autopi_ca1/mn3246/mn3246-14042021-0106/mn3246-14042021_06.dat > /adata/projects/autopi_ca1/mn3246/mn3246-14042021-0106/mn3246-14042021-0106.dat\n"
     ]
    },
    {
     "name": "stderr",
     "output_type": "stream",
     "text": [
      " 67%|██████████████████████████▋             | 20/30 [1:23:13<56:56, 341.67s/it]"
     ]
    },
    {
     "name": "stdout",
     "output_type": "stream",
     "text": [
      "File sizes match /adata/projects/autopi_ca1/mn3246/mn3246-14042021-0106/mn3246-14042021-0106.dat, 25021432800,25021432800\n",
      "mn1173-02052021-0107\n",
      "/adata/projects/autopi_ca1/mn1173/mn1173-02052021-0107/mn1173-02052021-0107.trials_Dat_file_reader.pickle\n",
      "running:  cat /adata/projects/autopi_ca1/mn1173/mn1173-02052021-0107/mn1173-02052021_01.dat /adata/projects/autopi_ca1/mn1173/mn1173-02052021-0107/mn1173-02052021_02.dat /adata/projects/autopi_ca1/mn1173/mn1173-02052021-0107/mn1173-02052021_03.dat /adata/projects/autopi_ca1/mn1173/mn1173-02052021-0107/mn1173-02052021_04.dat /adata/projects/autopi_ca1/mn1173/mn1173-02052021-0107/mn1173-02052021_05.dat /adata/projects/autopi_ca1/mn1173/mn1173-02052021-0107/mn1173-02052021_06.dat /adata/projects/autopi_ca1/mn1173/mn1173-02052021-0107/mn1173-02052021_07.dat > /adata/projects/autopi_ca1/mn1173/mn1173-02052021-0107/mn1173-02052021-0107.dat\n"
     ]
    },
    {
     "name": "stderr",
     "output_type": "stream",
     "text": [
      " 70%|████████████████████████████            | 21/30 [1:31:52<59:14, 394.90s/it]"
     ]
    },
    {
     "name": "stdout",
     "output_type": "stream",
     "text": [
      "File sizes match /adata/projects/autopi_ca1/mn1173/mn1173-02052021-0107/mn1173-02052021-0107.dat, 58961895840,58961895840\n",
      "mn1173-06052021-0107\n",
      "/adata/projects/autopi_ca1/mn1173/mn1173-06052021-0107/mn1173-06052021-0107.trials_Dat_file_reader.pickle\n",
      "running:  cat /adata/projects/autopi_ca1/mn1173/mn1173-06052021-0107/mn1173-06052021_01.dat /adata/projects/autopi_ca1/mn1173/mn1173-06052021-0107/mn1173-06052021_02.dat /adata/projects/autopi_ca1/mn1173/mn1173-06052021-0107/mn1173-06052021_03.dat /adata/projects/autopi_ca1/mn1173/mn1173-06052021-0107/mn1173-06052021_04.dat /adata/projects/autopi_ca1/mn1173/mn1173-06052021-0107/mn1173-06052021_05.dat /adata/projects/autopi_ca1/mn1173/mn1173-06052021-0107/mn1173-06052021_06.dat /adata/projects/autopi_ca1/mn1173/mn1173-06052021-0107/mn1173-06052021_07.dat > /adata/projects/autopi_ca1/mn1173/mn1173-06052021-0107/mn1173-06052021-0107.dat\n"
     ]
    },
    {
     "name": "stderr",
     "output_type": "stream",
     "text": [
      " 73%|█████████████████████████████▎          | 22/30 [1:39:43<55:41, 417.67s/it]"
     ]
    },
    {
     "name": "stdout",
     "output_type": "stream",
     "text": [
      "File sizes match /adata/projects/autopi_ca1/mn1173/mn1173-06052021-0107/mn1173-06052021-0107.dat, 52765128000,52765128000\n",
      "mn1173-08052021-0107\n",
      "/adata/projects/autopi_ca1/mn1173/mn1173-08052021-0107/mn1173-08052021-0107.trials_Dat_file_reader.pickle\n",
      "running:  cat /adata/projects/autopi_ca1/mn1173/mn1173-08052021-0107/mn1173-08052021_01.dat /adata/projects/autopi_ca1/mn1173/mn1173-08052021-0107/mn1173-08052021_02.dat /adata/projects/autopi_ca1/mn1173/mn1173-08052021-0107/mn1173-08052021_03.dat /adata/projects/autopi_ca1/mn1173/mn1173-08052021-0107/mn1173-08052021_04.dat /adata/projects/autopi_ca1/mn1173/mn1173-08052021-0107/mn1173-08052021_05.dat /adata/projects/autopi_ca1/mn1173/mn1173-08052021-0107/mn1173-08052021_06.dat /adata/projects/autopi_ca1/mn1173/mn1173-08052021-0107/mn1173-08052021_07.dat > /adata/projects/autopi_ca1/mn1173/mn1173-08052021-0107/mn1173-08052021-0107.dat\n"
     ]
    },
    {
     "name": "stderr",
     "output_type": "stream",
     "text": [
      " 77%|██████████████████████████████▋         | 23/30 [1:47:34<50:37, 433.86s/it]"
     ]
    },
    {
     "name": "stdout",
     "output_type": "stream",
     "text": [
      "File sizes match /adata/projects/autopi_ca1/mn1173/mn1173-08052021-0107/mn1173-08052021-0107.dat, 51752736000,51752736000\n",
      "mn1173-09052021-0108\n",
      "/adata/projects/autopi_ca1/mn1173/mn1173-09052021-0108/mn1173-09052021-0108.trials_Dat_file_reader.pickle\n",
      "running:  cat /adata/projects/autopi_ca1/mn1173/mn1173-09052021-0108/mn1173-09052021_01.dat /adata/projects/autopi_ca1/mn1173/mn1173-09052021-0108/mn1173-09052021_02.dat /adata/projects/autopi_ca1/mn1173/mn1173-09052021-0108/mn1173-09052021_03.dat /adata/projects/autopi_ca1/mn1173/mn1173-09052021-0108/mn1173-09052021_04.dat /adata/projects/autopi_ca1/mn1173/mn1173-09052021-0108/mn1173-09052021_05.dat /adata/projects/autopi_ca1/mn1173/mn1173-09052021-0108/mn1173-09052021_06.dat /adata/projects/autopi_ca1/mn1173/mn1173-09052021-0108/mn1173-09052021_07.dat /adata/projects/autopi_ca1/mn1173/mn1173-09052021-0108/mn1173-09052021_08.dat > /adata/projects/autopi_ca1/mn1173/mn1173-09052021-0108/mn1173-09052021-0108.dat\n"
     ]
    },
    {
     "name": "stderr",
     "output_type": "stream",
     "text": [
      " 80%|████████████████████████████████        | 24/30 [1:57:00<47:21, 473.57s/it]"
     ]
    },
    {
     "name": "stdout",
     "output_type": "stream",
     "text": [
      "File sizes match /adata/projects/autopi_ca1/mn1173/mn1173-09052021-0108/mn1173-09052021-0108.dat, 60647667840,60647667840\n",
      "mn1173-11052021-0108\n",
      "/adata/projects/autopi_ca1/mn1173/mn1173-11052021-0108/mn1173-11052021-0108.trials_Dat_file_reader.pickle\n",
      "running:  cat /adata/projects/autopi_ca1/mn1173/mn1173-11052021-0108/mn1173-11052021_01.dat /adata/projects/autopi_ca1/mn1173/mn1173-11052021-0108/mn1173-11052021_02.dat /adata/projects/autopi_ca1/mn1173/mn1173-11052021-0108/mn1173-11052021_03.dat /adata/projects/autopi_ca1/mn1173/mn1173-11052021-0108/mn1173-11052021_04.dat /adata/projects/autopi_ca1/mn1173/mn1173-11052021-0108/mn1173-11052021_05.dat /adata/projects/autopi_ca1/mn1173/mn1173-11052021-0108/mn1173-11052021_06.dat /adata/projects/autopi_ca1/mn1173/mn1173-11052021-0108/mn1173-11052021_07.dat /adata/projects/autopi_ca1/mn1173/mn1173-11052021-0108/mn1173-11052021_08.dat > /adata/projects/autopi_ca1/mn1173/mn1173-11052021-0108/mn1173-11052021-0108.dat\n"
     ]
    }
   ],
   "source": [
    "for sSes in tqdm(sSesLocal):\n",
    "    print(sSes.name)\n",
    "    merge_trial_dat_files(sSes)\n",
    "    "
   ]
  },
  {
   "cell_type": "code",
   "execution_count": 63,
   "id": "a89d8d0a-ed8d-4d0d-a3d9-6410086716b3",
   "metadata": {},
   "outputs": [
    {
     "name": "stdout",
     "output_type": "stream",
     "text": [
      "Recovering /adata/projects/autopi_ca1/mn5824/mn5824-20112020-0107/mn5824-20112020_07.dat\n",
      "reading from 181138320 to 205213680\n"
     ]
    },
    {
     "ename": "ValueError",
     "evalue": "end_sample should not be larger than the total number of samples",
     "output_type": "error",
     "traceback": [
      "\u001b[0;31m---------------------------------------------------------------------------\u001b[0m",
      "\u001b[0;31mValueError\u001b[0m                                Traceback (most recent call last)",
      "\u001b[0;32m/tmp/ipykernel_121815/1575728771.py\u001b[0m in \u001b[0;36m<module>\u001b[0;34m\u001b[0m\n\u001b[1;32m     44\u001b[0m     \u001b[0;32mreturn\u001b[0m\u001b[0;34m\u001b[0m\u001b[0;34m\u001b[0m\u001b[0m\n\u001b[1;32m     45\u001b[0m \u001b[0;34m\u001b[0m\u001b[0m\n\u001b[0;32m---> 46\u001b[0;31m \u001b[0mrecover_trial_dat_file\u001b[0m\u001b[0;34m(\u001b[0m\u001b[0msSes\u001b[0m\u001b[0;34m,\u001b[0m\u001b[0mtrial_no\u001b[0m\u001b[0;34m=\u001b[0m\u001b[0;36m6\u001b[0m\u001b[0;34m)\u001b[0m\u001b[0;34m\u001b[0m\u001b[0;34m\u001b[0m\u001b[0m\n\u001b[0m\u001b[1;32m     47\u001b[0m \u001b[0;34m\u001b[0m\u001b[0m\n",
      "\u001b[0;32m/tmp/ipykernel_121815/1575728771.py\u001b[0m in \u001b[0;36mrecover_trial_dat_file\u001b[0;34m(sSes, out_file_name, trial_no)\u001b[0m\n\u001b[1;32m     34\u001b[0m     \u001b[0;31m# get the data into memory (hopefully it fits into memory)\u001b[0m\u001b[0;34m\u001b[0m\u001b[0;34m\u001b[0m\u001b[0;34m\u001b[0m\u001b[0m\n\u001b[1;32m     35\u001b[0m     \u001b[0mprint\u001b[0m\u001b[0;34m(\u001b[0m\u001b[0;34m\"reading from {} to {}\"\u001b[0m\u001b[0;34m.\u001b[0m\u001b[0mformat\u001b[0m\u001b[0;34m(\u001b[0m\u001b[0mb\u001b[0m\u001b[0;34m,\u001b[0m\u001b[0me\u001b[0m\u001b[0;34m)\u001b[0m\u001b[0;34m)\u001b[0m\u001b[0;34m\u001b[0m\u001b[0;34m\u001b[0m\u001b[0m\n\u001b[0;32m---> 36\u001b[0;31m     \u001b[0mdat_block\u001b[0m \u001b[0;34m=\u001b[0m \u001b[0mdfr_merged\u001b[0m\u001b[0;34m.\u001b[0m\u001b[0mget_data_one_block\u001b[0m\u001b[0;34m(\u001b[0m\u001b[0mb\u001b[0m\u001b[0;34m,\u001b[0m\u001b[0me\u001b[0m\u001b[0;34m,\u001b[0m\u001b[0mnp\u001b[0m\u001b[0;34m.\u001b[0m\u001b[0marange\u001b[0m\u001b[0;34m(\u001b[0m\u001b[0mdfr\u001b[0m\u001b[0;34m.\u001b[0m\u001b[0mn_channels\u001b[0m\u001b[0;34m)\u001b[0m\u001b[0;34m)\u001b[0m\u001b[0;34m\u001b[0m\u001b[0;34m\u001b[0m\u001b[0m\n\u001b[0m\u001b[1;32m     37\u001b[0m     \u001b[0mprint\u001b[0m\u001b[0;34m(\u001b[0m\u001b[0;34m\"data loaded: \"\u001b[0m\u001b[0;34m,\u001b[0m\u001b[0mdat_block\u001b[0m\u001b[0;34m.\u001b[0m\u001b[0mshape\u001b[0m\u001b[0;34m,\u001b[0m\u001b[0mdat_block\u001b[0m\u001b[0;34m.\u001b[0m\u001b[0mdtype\u001b[0m\u001b[0;34m)\u001b[0m\u001b[0;34m\u001b[0m\u001b[0;34m\u001b[0m\u001b[0m\n\u001b[1;32m     38\u001b[0m \u001b[0;34m\u001b[0m\u001b[0m\n",
      "\u001b[0;32m~/repo/spikeA/spikeA/Dat_file_reader.py\u001b[0m in \u001b[0;36mget_data_one_block\u001b[0;34m(self, start_sample, end_sample, channels)\u001b[0m\n\u001b[1;32m    141\u001b[0m             \u001b[0;32mraise\u001b[0m \u001b[0mValueError\u001b[0m\u001b[0;34m(\u001b[0m\u001b[0;34m\"start_sample should not be a negative value\"\u001b[0m\u001b[0;34m)\u001b[0m\u001b[0;34m\u001b[0m\u001b[0;34m\u001b[0m\u001b[0m\n\u001b[1;32m    142\u001b[0m         \u001b[0;32mif\u001b[0m \u001b[0mend_sample\u001b[0m \u001b[0;34m>\u001b[0m \u001b[0mself\u001b[0m\u001b[0;34m.\u001b[0m\u001b[0mfiles_last_sample\u001b[0m\u001b[0;34m[\u001b[0m\u001b[0;34m-\u001b[0m\u001b[0;36m1\u001b[0m\u001b[0;34m]\u001b[0m\u001b[0;34m:\u001b[0m\u001b[0;34m\u001b[0m\u001b[0;34m\u001b[0m\u001b[0m\n\u001b[0;32m--> 143\u001b[0;31m             \u001b[0;32mraise\u001b[0m \u001b[0mValueError\u001b[0m\u001b[0;34m(\u001b[0m\u001b[0;34m\"end_sample should not be larger than the total number of samples\"\u001b[0m\u001b[0;34m)\u001b[0m\u001b[0;34m\u001b[0m\u001b[0;34m\u001b[0m\u001b[0m\n\u001b[0m\u001b[1;32m    144\u001b[0m         \u001b[0;32mif\u001b[0m \u001b[0mtype\u001b[0m\u001b[0;34m(\u001b[0m\u001b[0mchannels\u001b[0m\u001b[0;34m)\u001b[0m \u001b[0;32mis\u001b[0m \u001b[0;32mnot\u001b[0m \u001b[0mnp\u001b[0m\u001b[0;34m.\u001b[0m\u001b[0mndarray\u001b[0m\u001b[0;34m:\u001b[0m\u001b[0;34m\u001b[0m\u001b[0;34m\u001b[0m\u001b[0m\n\u001b[1;32m    145\u001b[0m             \u001b[0;32mraise\u001b[0m \u001b[0mTypeError\u001b[0m\u001b[0;34m(\u001b[0m\u001b[0;34m\"channels should be a numpy.ndarray\"\u001b[0m\u001b[0;34m)\u001b[0m\u001b[0;34m\u001b[0m\u001b[0;34m\u001b[0m\u001b[0m\n",
      "\u001b[0;31mValueError\u001b[0m: end_sample should not be larger than the total number of samples"
     ]
    }
   ],
   "source": [
    "def recover_trial_dat_file(sSes,out_file_name = \"new.dat\", trial_no = 0):\n",
    "    \"\"\"\n",
    "    Read the merged .dat file and extract a trial .dat file from it.\n",
    "    \n",
    "    To get the samples of a trial, we use the Dat_file_reader object that was saved when creating the merged .dat file\n",
    "    \n",
    "    I used the linux command diff to make sure this recover_trial_dat_file and merge_trial_dat_files() are working as expected.\n",
    "    \n",
    "    Arguments:\n",
    "    sSes : spikeA session\n",
    "    out_file_name: output file name\n",
    "    trial_no: index of trial to recover from merged file (starts at 0)\n",
    "    \"\"\"\n",
    "    \n",
    "    # get the pickle trial Dat_file_reader\n",
    "    fn = sSes.path+\"/\"+sSes.name+\".trials_Dat_file_reader.pickle\"\n",
    "    filehandler = open(fn, 'rb') \n",
    "    dfr = pickle.load(filehandler)\n",
    "    \n",
    "    # check that we have a merged file\n",
    "    fn = sSes.path+\"/\"+sSes.name+\".dat\"\n",
    "    if os.path.exists(fn) == False:\n",
    "        raise ValueError(\"{} does not exist\".format(fn))\n",
    "        \n",
    "    dfr_merged = Dat_file_reader([fn],dfr.n_channels)\n",
    "    \n",
    "    # check that this trial_no exists\n",
    "    if trial_no > len(dfr.file_names)-1:\n",
    "        raise ValueError(\"trial_no is out of range: {} but max is {}\".format(trial_no,len(dfr.file_names)-1))\n",
    "    print(\"Recovering {}\".format(dfr.file_names[trial_no]))\n",
    "        \n",
    "    # get the beginning and end of the file\n",
    "    b = dfr.files_first_sample[trial_no]\n",
    "    e = dfr.files_last_sample[trial_no]+1\n",
    "    \n",
    "    # get the data into memory (hopefully it fits into memory)\n",
    "    print(\"reading from {} to {}\".format(b,e))\n",
    "    dat_block = dfr_merged.get_data_one_block(b,e,np.arange(dfr.n_channels))\n",
    "    print(\"data loaded: \",dat_block.shape,dat_block.dtype)\n",
    "    \n",
    "    # save the block to a .dat file\n",
    "    fn = sSes.path+\"/\"+out_file_name\n",
    "    print(\"save to\",fn)\n",
    "    dat_block.T.tofile(fn)\n",
    "    \n",
    "    return\n",
    "\n",
    "recover_trial_dat_file(sSes,trial_no=6)\n",
    "    "
   ]
  },
  {
   "cell_type": "code",
   "execution_count": 56,
   "id": "b0877669-0c5d-4b8c-8eb6-72f42627d16f",
   "metadata": {},
   "outputs": [],
   "source": [
    "f1 = \"/adata/projects/autopi_ca1/mn5824/mn5824-20112020-0107/mn5824-20112020_02.dat\"\n",
    "f2 = \"/adata/projects/autopi_ca1/mn5824/mn5824-20112020-0107/new.dat\""
   ]
  },
  {
   "cell_type": "code",
   "execution_count": 57,
   "id": "ce411861-d0b0-4164-9017-d93d85c43d49",
   "metadata": {},
   "outputs": [],
   "source": [
    "dfr1 = Dat_file_reader([f1],sSes.n_channels)\n",
    "dfr2 = Dat_file_reader([f2],sSes.n_channels)"
   ]
  },
  {
   "cell_type": "code",
   "execution_count": 58,
   "id": "45aea20c-79fc-4568-ab56-795b0911a437",
   "metadata": {},
   "outputs": [],
   "source": [
    "bl1  = dfr1.get_data_one_block(0,20000,np.arange(dfr1.n_channels))\n",
    "bl2  = dfr2.get_data_one_block(0,20000,np.arange(dfr1.n_channels))"
   ]
  },
  {
   "cell_type": "code",
   "execution_count": 59,
   "id": "bfc9c5ed-50b0-4eed-9fce-31db88d6c18a",
   "metadata": {},
   "outputs": [
    {
     "data": {
      "text/plain": [
       "[<matplotlib.lines.Line2D at 0x7f356b21c4c0>]"
      ]
     },
     "execution_count": 59,
     "metadata": {},
     "output_type": "execute_result"
    },
    {
     "data": {
      "image/png": "[encoded data removed]",
      "text/plain": [
       "<Figure size 432x288 with 1 Axes>"
      ]
     },
     "metadata": {
      "needs_background": "light"
     },
     "output_type": "display_data"
    }
   ],
   "source": [
    "plt.plot(bl1[0])\n",
    "plt.plot(bl2[0])"
   ]
  },
  {
   "cell_type": "code",
   "execution_count": null,
   "id": "f536f16a-b690-425e-8f10-863faa75a8fe",
   "metadata": {},
   "outputs": [],
   "source": []
  }
 ],
 "metadata": {
  "kernelspec": {
   "display_name": "Python [conda env:DEEPLABCUT] *",
   "language": "python",
   "name": "conda-env-DEEPLABCUT-py"
  },
  "language_info": {
   "codemirror_mode": {
    "name": "ipython",
    "version": 3
   },
   "file_extension": ".py",
   "mimetype": "text/x-python",
   "name": "python",
   "nbconvert_exporter": "python",
   "pygments_lexer": "ipython3",
   "version": "3.8.10"
  }
 },
 "nbformat": 4,
 "nbformat_minor": 5
}
